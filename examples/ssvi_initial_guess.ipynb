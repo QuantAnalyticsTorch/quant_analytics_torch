{
 "cells": [
  {
   "cell_type": "code",
   "execution_count": 22,
   "id": "ecc47448-7d96-4d4d-b6ad-470add2112b3",
   "metadata": {},
   "outputs": [],
   "source": [
    "from sympy import *"
   ]
  },
  {
   "cell_type": "code",
   "execution_count": 23,
   "id": "7bb0432a-e8bb-4ce8-9e62-7641447f5cf1",
   "metadata": {},
   "outputs": [],
   "source": [
    "x, beta, rho, K, t, sigma = symbols('x beta rho K t sigma', real=True)"
   ]
  },
  {
   "cell_type": "code",
   "execution_count": 24,
   "id": "e1413aee-f67d-48f1-9004-731e915bd50a",
   "metadata": {},
   "outputs": [],
   "source": [
    "m1, m3, F, theta = symbols('m1 m3 F theta', real=True, positive=True)\n",
    "m2 = symbols('m2', real=True)\n",
    "mw1, mw2, mw3 = symbols('mw1 mw2 mw3', real=True)"
   ]
  },
  {
   "cell_type": "code",
   "execution_count": 25,
   "id": "7246ef8e-aec0-4c9e-977d-cfcbbfb0bb43",
   "metadata": {},
   "outputs": [],
   "source": [
    "#x = log(K/F)\n",
    "v = theta**2/2*(1+rho*beta*x+sqrt((beta*x+rho)**2+(1-rho**2)))\n",
    "w = sqrt(v)\n",
    "#theta = sigma**2*t"
   ]
  },
  {
   "cell_type": "code",
   "execution_count": 26,
   "id": "7927c25f-3d83-4886-b2b7-ea07ed770948",
   "metadata": {},
   "outputs": [],
   "source": [
    "wd = diff(w,x)"
   ]
  },
  {
   "cell_type": "code",
   "execution_count": 27,
   "id": "1366b259-781f-4231-b841-b2884138c146",
   "metadata": {},
   "outputs": [],
   "source": [
    "wdd = diff(wd,x)"
   ]
  },
  {
   "cell_type": "code",
   "execution_count": 28,
   "id": "40b1f03d-841a-48c6-ac08-1e325ec7a47c",
   "metadata": {},
   "outputs": [
    {
     "data": {
      "text/latex": [
       "$\\displaystyle \\theta$"
      ],
      "text/plain": [
       "theta"
      ]
     },
     "execution_count": 28,
     "metadata": {},
     "output_type": "execute_result"
    }
   ],
   "source": [
    "mw1 = limit(w,x,0)\n",
    "mw1"
   ]
  },
  {
   "cell_type": "code",
   "execution_count": 29,
   "id": "91c65c3d-d0b6-41b8-8d16-88328c173076",
   "metadata": {},
   "outputs": [
    {
     "data": {
      "text/latex": [
       "$\\displaystyle \\frac{\\beta \\rho \\theta}{2}$"
      ],
      "text/plain": [
       "beta*rho*theta/2"
      ]
     },
     "execution_count": 29,
     "metadata": {},
     "output_type": "execute_result"
    }
   ],
   "source": [
    "mw2 = limit(wd,x,0)\n",
    "mw2"
   ]
  },
  {
   "cell_type": "code",
   "execution_count": 30,
   "id": "ff793042-8a54-4f15-bd92-a31376f5e1d3",
   "metadata": {},
   "outputs": [
    {
     "data": {
      "text/latex": [
       "$\\displaystyle - \\frac{\\beta^{2} \\rho^{2} \\theta}{2} + \\frac{\\beta^{2} \\theta}{4}$"
      ],
      "text/plain": [
       "-beta**2*rho**2*theta/2 + beta**2*theta/4"
      ]
     },
     "execution_count": 30,
     "metadata": {},
     "output_type": "execute_result"
    }
   ],
   "source": [
    "mw3 = limit(wdd,x,0)\n",
    "mw3"
   ]
  },
  {
   "cell_type": "code",
   "execution_count": 31,
   "id": "9cc7e997-1ba1-434d-bb12-ef5cf2ebdc45",
   "metadata": {},
   "outputs": [
    {
     "data": {
      "text/plain": [
       "[(m1, -2*sqrt(m1*m3 + 2*m2**2)/m1, -m2/sqrt(m1*m3 + 2*m2**2)),\n",
       " (m1, 2*sqrt(m1*m3 + 2*m2**2)/m1, m2/sqrt(m1*m3 + 2*m2**2))]"
      ]
     },
     "execution_count": 31,
     "metadata": {},
     "output_type": "execute_result"
    }
   ],
   "source": [
    "sg = solve([m1-mw1,m2-mw2,m3-mw3], theta, beta, rho)\n",
    "sg"
   ]
  },
  {
   "cell_type": "code",
   "execution_count": 32,
   "id": "fc824d98-9829-4950-b3e1-44c4fae23db1",
   "metadata": {},
   "outputs": [
    {
     "data": {
      "text/latex": [
       "$\\displaystyle \\left( m_{1}, \\  \\frac{2 \\sqrt{m_{1} m_{3} + 2 m_{2}^{2}}}{m_{1}}, \\  \\frac{m_{2}}{\\sqrt{m_{1} m_{3} + 2 m_{2}^{2}}}\\right)$"
      ],
      "text/plain": [
       "(m1, 2*sqrt(m1*m3 + 2*m2**2)/m1, m2/sqrt(m1*m3 + 2*m2**2))"
      ]
     },
     "execution_count": 32,
     "metadata": {},
     "output_type": "execute_result"
    }
   ],
   "source": [
    "simplify(sg[1])"
   ]
  },
  {
   "cell_type": "code",
   "execution_count": null,
   "id": "2d448277-5f9c-45ca-99fb-af3fb2381821",
   "metadata": {},
   "outputs": [],
   "source": []
  }
 ],
 "metadata": {
  "kernelspec": {
   "display_name": "Python 3",
   "language": "python",
   "name": "python3"
  },
  "language_info": {
   "codemirror_mode": {
    "name": "ipython",
    "version": 3
   },
   "file_extension": ".py",
   "mimetype": "text/x-python",
   "name": "python",
   "nbconvert_exporter": "python",
   "pygments_lexer": "ipython3",
   "version": "3.7.3"
  }
 },
 "nbformat": 4,
 "nbformat_minor": 5
}
