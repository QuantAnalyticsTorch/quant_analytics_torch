{
  "nbformat": 4,
  "nbformat_minor": 0,
  "metadata": {
    "colab": {
      "name": "linearregression.ipynb",
      "provenance": [],
      "collapsed_sections": [],
      "authorship_tag": "ABX9TyNoig5Gt/jmuyT7Hw2A/chz",
      "include_colab_link": true
    },
    "kernelspec": {
      "name": "python3",
      "display_name": "Python 3"
    }
  },
  "cells": [
    {
      "cell_type": "markdown",
      "metadata": {
        "id": "view-in-github",
        "colab_type": "text"
      },
      "source": [
        "<a href=\"https://colab.research.google.com/github/QuantAnalyticsTorch/quant_analytics_torch/blob/main/examples/linearregression.ipynb\" target=\"_parent\"><img src=\"https://colab.research.google.com/assets/colab-badge.svg\" alt=\"Open In Colab\"/></a>"
      ]
    },
    {
      "cell_type": "code",
      "metadata": {
        "id": "vxQZjavEafHO"
      },
      "source": [
        "import torch"
      ],
      "execution_count": 167,
      "outputs": []
    },
    {
      "cell_type": "code",
      "metadata": {
        "id": "L6x8eaGWbSQp"
      },
      "source": [
        "import numpy as np"
      ],
      "execution_count": 168,
      "outputs": []
    },
    {
      "cell_type": "code",
      "metadata": {
        "id": "nbkBti0ObSUY"
      },
      "source": [
        "x = torch.randn(size=(100,2))"
      ],
      "execution_count": 169,
      "outputs": []
    },
    {
      "cell_type": "code",
      "metadata": {
        "id": "FjsV1PDZbSYA"
      },
      "source": [
        "rho = 0.95\n",
        "rhobar = np.sqrt(1-rho**2)\n",
        "\n",
        "y = rho*x[:,0] + rhobar*x[:,1]"
      ],
      "execution_count": 170,
      "outputs": []
    },
    {
      "cell_type": "code",
      "metadata": {
        "id": "5wO6QhzSbSb_"
      },
      "source": [
        "import matplotlib.pyplot as plt"
      ],
      "execution_count": 171,
      "outputs": []
    },
    {
      "cell_type": "code",
      "metadata": {
        "id": "NyC8mpgScKNx",
        "outputId": "86a0fe13-7ce1-4042-95ac-3f793f5b3958",
        "colab": {
          "base_uri": "https://localhost:8080/",
          "height": 282
        }
      },
      "source": [
        "plt.scatter(x[:,0],y)"
      ],
      "execution_count": 172,
      "outputs": [
        {
          "output_type": "execute_result",
          "data": {
            "text/plain": [
              "<matplotlib.collections.PathCollection at 0x7f5d805b3a20>"
            ]
          },
          "metadata": {
            "tags": []
          },
          "execution_count": 172
        },
        {
          "output_type": "display_data",
          "data": {
            "image/png": "[encoded data removed]",
            "text/plain": [
              "<Figure size 432x288 with 1 Axes>"
            ]
          },
          "metadata": {
            "tags": [],
            "needs_background": "light"
          }
        }
      ]
    },
    {
      "cell_type": "code",
      "metadata": {
        "id": "Ld5wIV3ucKRv"
      },
      "source": [
        "class LinearRegression(torch.nn.Module):  # inheriting from nn.Module!\n",
        "\n",
        "    def __init__(self, input_dim):\n",
        "        super(LinearRegression, self).__init__()\n",
        "\n",
        "        self.regressor = torch.nn.Linear(input_dim, 1)\n",
        "\n",
        "    def forward(self, x):\n",
        "      return self.regressor(x)"
      ],
      "execution_count": 201,
      "outputs": []
    },
    {
      "cell_type": "code",
      "metadata": {
        "id": "OKuPx_oXc6a7"
      },
      "source": [
        "model = LinearRegression(1)"
      ],
      "execution_count": 202,
      "outputs": []
    },
    {
      "cell_type": "code",
      "metadata": {
        "id": "NwzHT3dscKVX"
      },
      "source": [
        "#optimizer = torch.optim.SGD(model.parameters(), lr=0.1)\n",
        "optimizer = torch.optim.LBFGS(model.parameters(), max_iter=1)"
      ],
      "execution_count": 213,
      "outputs": []
    },
    {
      "cell_type": "code",
      "metadata": {
        "id": "-7BqoxfzcKY_",
        "outputId": "db3b2e4e-5d64-4e3b-cf8d-dbf7b43af37f",
        "colab": {
          "base_uri": "https://localhost:8080/"
        }
      },
      "source": [
        "criterion = torch.nn.MSELoss() \n",
        "\n",
        "for i in range(1):\n",
        "  def closure():\n",
        "    optimizer.zero_grad()\n",
        "    z = model.forward(x[:,0:1])\n",
        "    loss = criterion(z[:,0],y)\n",
        "    loss.backward()\n",
        "    return loss\n",
        "  optimizer.step(closure)\n",
        "  print(loss)"
      ],
      "execution_count": 214,
      "outputs": [
        {
          "output_type": "stream",
          "text": [
            "tensor(0.1027, grad_fn=<MseLossBackward>)\n"
          ],
          "name": "stdout"
        }
      ]
    },
    {
      "cell_type": "code",
      "metadata": {
        "id": "i0VZTo2icKcn"
      },
      "source": [
        "b = model.forward(x[:,0:1])"
      ],
      "execution_count": 215,
      "outputs": []
    },
    {
      "cell_type": "code",
      "metadata": {
        "id": "9swMvNYjerM4",
        "outputId": "dd0531f9-2af2-4d55-bf67-3ddd6e51e285",
        "colab": {
          "base_uri": "https://localhost:8080/"
        }
      },
      "source": [
        "print(b[:,0])"
      ],
      "execution_count": 216,
      "outputs": [
        {
          "output_type": "stream",
          "text": [
            "tensor([-0.1479,  0.7371, -0.4585,  0.7700,  0.9151, -1.8579, -2.2262,  0.7400,\n",
            "        -0.2083,  0.6225,  0.6136, -1.6960, -0.3306, -0.2621,  0.2013,  1.2336,\n",
            "         1.0984,  0.1987, -0.5762,  1.7078,  0.2744,  0.5766, -0.8344, -0.5700,\n",
            "        -1.0164,  0.6483,  0.8648,  0.2115,  0.6300, -0.1536,  0.3604, -0.7291,\n",
            "         0.2746, -0.8658,  1.4085, -0.1243, -0.6769,  0.6729, -0.0300,  0.3287,\n",
            "        -1.1417,  1.0572, -1.6278, -0.2691, -0.2000,  0.5879, -0.6403, -0.2563,\n",
            "         0.4547,  1.5054,  0.6360, -0.5717,  0.2053, -1.6310,  1.1161, -0.2236,\n",
            "        -1.0957,  0.0366,  1.4836, -0.0127,  1.5954,  1.4011, -0.5547, -0.5719,\n",
            "        -0.1185,  1.8079, -1.1181, -0.4154, -0.4776, -0.1765,  0.9795, -1.2932,\n",
            "         0.5308, -0.2718, -0.6854,  0.0693,  0.2622,  1.8998,  0.3522,  2.6163,\n",
            "         0.3695,  0.2479,  0.1891, -2.7788,  1.0972, -1.1923, -0.5976, -0.3390,\n",
            "         0.0497, -1.6307, -0.5992,  1.4251, -0.6422, -1.1748,  0.8440,  1.1462,\n",
            "         1.5132, -0.8836,  0.0752, -0.5290], grad_fn=<SelectBackward>)\n"
          ],
          "name": "stdout"
        }
      ]
    },
    {
      "cell_type": "code",
      "metadata": {
        "id": "hz3q_0VVents",
        "outputId": "24c0d2e4-8a49-4362-a918-d9c8c32080d3",
        "colab": {
          "base_uri": "https://localhost:8080/",
          "height": 282
        }
      },
      "source": [
        "plt.scatter(x[:,0], b.detach().numpy())\n",
        "plt.scatter(x[:,0], y)\n"
      ],
      "execution_count": 217,
      "outputs": [
        {
          "output_type": "execute_result",
          "data": {
            "text/plain": [
              "<matplotlib.collections.PathCollection at 0x7f5d7f99f6a0>"
            ]
          },
          "metadata": {
            "tags": []
          },
          "execution_count": 217
        },
        {
          "output_type": "display_data",
          "data": {
            "image/png": "[encoded data removed]",
            "text/plain": [
              "<Figure size 432x288 with 1 Axes>"
            ]
          },
          "metadata": {
            "tags": [],
            "needs_background": "light"
          }
        }
      ]
    },
    {
      "cell_type": "code",
      "metadata": {
        "id": "dglA48phep4M"
      },
      "source": [
        ""
      ],
      "execution_count": 217,
      "outputs": []
    }
  ]
}