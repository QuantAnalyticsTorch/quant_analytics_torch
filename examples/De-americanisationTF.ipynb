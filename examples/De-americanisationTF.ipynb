{
 "cells": [
  {
   "cell_type": "code",
   "execution_count": 57,
   "metadata": {
    "collapsed": true
   },
   "outputs": [],
   "source": [
    "import numpy as np\n",
    "from scipy.stats import norm"
   ]
  },
  {
   "cell_type": "code",
   "execution_count": 58,
   "metadata": {
    "collapsed": true
   },
   "outputs": [],
   "source": [
    "def black_call(f,k,sigma,t):\n",
    "    sigmasqdt = sigma * np.sqrt(t)\n",
    "    d1 = np.log(f/k) / sigmasqdt + 0.5 * sigmasqdt\n",
    "    return f*norm.cdf(d1,0,1)-k*norm.cdf(d1 - sigmasqdt,0,1)\n",
    "\n",
    "def black(df,f,k,sigma,t,pc):\n",
    "    sigmasqdt = sigma * np.sqrt(t)\n",
    "    d1 = np.log(f/k) / sigmasqdt + 0.5 * sigmasqdt\n",
    "    return df*(pc*f*norm.cdf(pc*d1,0,1)-pc*k*norm.cdf(pc*(d1 - sigmasqdt),0,1))\n",
    "\n",
    "def black_vega(df,f,k,sigma,t):\n",
    "    sigmasqdt = sigma * np.sqrt(t)\n",
    "    d1 = np.log(f/k) / sigmasqdt + 0.5 * sigmasqdt\n",
    "    return df*(f*norm.pdf(d1,0,1)*np.sqrt(t))\n",
    "\n",
    "def digital_call(f,k,sigma,t):\n",
    "    sigmasqdt = sigma * np.sqrt(t)\n",
    "    d1 = np.log(f/k) / sigmasqdt + 0.5 * sigmasqdt\n",
    "    d2 = d1 - sigmasqdt\n",
    "    return norm.cdf(d2,0,1)\n",
    "\n",
    "def digital_put(f,k,sigma,t):\n",
    "    return 1.-digital_call(f,k,sigma,t)\n",
    "\n",
    "def digital_vega(f,k,sigma,t):\n",
    "    sigmasqdt = sigma * np.sqrt(t)\n",
    "    d1 = np.log(f/k) / sigmasqdt + 0.5 * sigmasqdt\n",
    "    d2 = d1 - sigmasqdt\n",
    "    return norm.pdf(d2)*d1/sigma"
   ]
  },
  {
   "cell_type": "code",
   "execution_count": 59,
   "metadata": {
    "collapsed": false
   },
   "outputs": [
    {
     "output_type": "stream",
     "name": "stdout",
     "text": [
      "0.07965567455405798\n0.07965567455405798\n"
     ]
    }
   ],
   "source": [
    "print(black(1.,1.,1.,0.2,1.,1.))\n",
    "print(black(1.,1.,1.,0.2,1.,-1.))"
   ]
  },
  {
   "cell_type": "code",
   "execution_count": 60,
   "metadata": {
    "collapsed": true
   },
   "outputs": [],
   "source": [
    "def implied_black(df,f,k,price,t,pc):\n",
    "    #x(n+1) = x(n) - f(x(n))/f'(x(n))\n",
    "    #f(x) = f(x0) + f'(x0) (x-x0)\n",
    "    #(x-x0) = f(x0)/f'(x0)\n",
    "    #x = x0 - f(x0)/f'(x0)\n",
    "    x = 0.3\n",
    "    fx = black(df,f,k,x,t,pc) - price\n",
    "    fp = black_vega(df,f,k,x,t)\n",
    "    while abs(fx) > 0.00001:\n",
    "        x = x - fx / fp\n",
    "        fx = black(df,f,k,x,t,pc) - price\n",
    "        fp = black_vega(df,f,k,x,t)\n",
    "\n",
    "    return x"
   ]
  },
  {
   "cell_type": "code",
   "execution_count": 61,
   "metadata": {
    "collapsed": false
   },
   "outputs": [
    {
     "output_type": "stream",
     "name": "stdout",
     "text": [
      "0.2008674383141988\n0.2008674383141988\n"
     ]
    }
   ],
   "source": [
    "print(implied_black(1,1,1,0.08,1,1))\n",
    "print(implied_black(1,1,1,0.08,1,-1))"
   ]
  },
  {
   "cell_type": "code",
   "execution_count": 62,
   "metadata": {
    "collapsed": true
   },
   "outputs": [],
   "source": [
    "from scipy.interpolate import interp1d\n",
    "import time"
   ]
  },
  {
   "cell_type": "code",
   "execution_count": 63,
   "metadata": {
    "collapsed": true
   },
   "outputs": [],
   "source": [
    "def construct_fwd(S,r,q,div,expiry,num):\n",
    "    x = np.linspace(0, expiry, num, endpoint=True)\n",
    "    y = S*np.exp(x*(r-q)) \n",
    "    \n",
    "    N = np.size(div,0)*2 + 2\n",
    "    #to work with vector we need to init the arrays using numpy\n",
    "    x =  np.asarray([0.0 for i in range(N)])\n",
    "    y =  np.asarray([0.0 for i in range(N)])      \n",
    "    y[0] = S\n",
    "    \n",
    "    eps = 0.0001    \n",
    "    \n",
    "    for i,it in enumerate(div):\n",
    "        #Discrete dividend jump\n",
    "        x[2*i+1] = it[0] - eps        \n",
    "        y[2*i+1] = y[2*i] * np.exp((x[2*i+1]-x[2*i])*(r-q))\n",
    "\n",
    "        x[2*i+2] = it[0]\n",
    "        y[2*i+2] = y[2*i+1] - it[1]\n",
    "        \n",
    "    x[N-1] = expiry\n",
    "    y[N-1] = y[2*i+2] * np.exp((x[N-1]-x[N-2])*(r-q))     \n",
    "        \n",
    "    fwd = interp1d(x, y)\n",
    "    return fwd"
   ]
  },
  {
   "cell_type": "code",
   "execution_count": 64,
   "metadata": {
    "collapsed": true
   },
   "outputs": [],
   "source": [
    "def binomial_tree(pc, fwd, K, r, sigma, T, N=2000, american=\"false\"):\n",
    "    #Improve the previous tree by checking for early exercise for american options\n",
    "   \n",
    "    #calculate delta T    \n",
    "    deltaT = float(T) / N\n",
    " \n",
    "    # up and down factor will be constant for the tree so we calculate outside the loop\n",
    "    u = np.exp(sigma * np.sqrt(deltaT))\n",
    "    d = 1.0 / u\n",
    " \n",
    "    #to work with vector we need to init the arrays using numpy\n",
    "    fs =  np.asarray([0.0 for i in range(N + 1)])\n",
    "        \n",
    "    #we need the stock tree for calculations of expiration values\n",
    "    fs2 = np.asarray([(u**j * d**(N - j)) for j in range(N + 1)])\n",
    "    \n",
    "    #we vectorize the strikes as well so the expiration check will be faster\n",
    "    fs3 = np.asarray( [float(K) for i in range(N + 1)])\n",
    "    \n",
    "    dts = np.asarray([(j * deltaT) for j in range(N + 1)])\n",
    "         \n",
    "    #rates are fixed so the probability of up and down are fixed.\n",
    "    #this is used to make sure the drift is the risk free rate\n",
    "    a = 1\n",
    "    p = (a - d)/ (u - d)\n",
    "    oneMinusP = 1.0 - p\n",
    "   \n",
    "    # Compute the leaves, f_{N, j}\n",
    "    fs[:] = np.maximum(pc*fwd*fs2-pc*fs3, 0.0)\n",
    "      \n",
    "    #calculate backward the option prices\n",
    "    df = np.exp(-r * deltaT)\n",
    "    for i in range(N-1, -1, -1):\n",
    "        fs[:-1]= df * (p * fs[1:] + oneMinusP * fs[:-1])\n",
    "        fs2[:]=fs2[:]*u\n",
    "        f = fwd\n",
    "      \n",
    "        if american=='true':\n",
    "        #Simply check if the option is worth more alive or dead\n",
    "            fs[:]=np.maximum(fs[:],pc*f*fs2[:]-pc*fs3[:])\n",
    "                \n",
    "    return fs[0]"
   ]
  },
  {
   "cell_type": "code",
   "execution_count": 65,
   "metadata": {
    "collapsed": false
   },
   "outputs": [],
   "source": [
    "def binomial_tree_control_variate(pc, fwd, K, r, sigma, T, N=2000, american=\"false\", control_variate=\"true\", \n",
    "                                  importance_sampling = \"false\"):\n",
    "    #Improve the previous tree by checking for early exercise for american options\n",
    "   \n",
    "    #calculate delta T    \n",
    "    deltaT = float(T) / N\n",
    "    fx = fwd\n",
    "    # up and down factor will be constant for the tree so we calculate outside the loop\n",
    "    u = np.exp(sigma * np.sqrt(deltaT))\n",
    "    d = 1.0 / u\n",
    "       \n",
    "    factor = 1\n",
    "    if importance_sampling == \"true\":\n",
    "        factor = np.power(K/fx,1/N)\n",
    "        u = u * factor\n",
    "        d = d * factor\n",
    " \n",
    "    #to work with vector we need to init the arrays using numpy\n",
    "    fs    =  np.asarray([0.0 for i in range(N + 1)])\n",
    "    fs_cv =  np.asarray([0.0 for i in range(N + 1)])    \n",
    "        \n",
    "    #we need the stock tree for calculations of expiration values\n",
    "    fs2 = np.asarray([(u**j * d**(N - j)) for j in range(N + 1)])\n",
    "       \n",
    "    #we vectorize the strikes as well so the expiration check will be faster\n",
    "    fs3 = np.asarray( [float(K) for i in range(N + 1)])\n",
    "    \n",
    "    dts = np.asarray([(j * deltaT) for j in range(N + 1)])\n",
    "   \n",
    "    #rates are fixed so the probability of up and down are fixed.\n",
    "    #this is used to make sure the drift is the risk free rate\n",
    "    a = 1\n",
    "    p = (a - d)/ (u - d)\n",
    "    oneMinusP = 1.0 - p\n",
    "       \n",
    "    # Compute the leaves, f_{N, j}\n",
    "    fs[:]    = np.maximum(pc*fwd*fs2-pc*fs3, 0.0)\n",
    "    fs_cv[:] = np.maximum(pc*fwd*fs2-pc*fs3, 0.0)\n",
    "    \n",
    "    #calculate backward the option prices\n",
    "    df = np.exp(-r * deltaT)\n",
    "    for i in range(N-1, -1, -1):\n",
    "        # propagate American and European \n",
    "        fs[:-1]    = df * (p * fs[1:]    + oneMinusP * fs[:-1])\n",
    "        fs_cv[:-1] = df * (p * fs_cv[1:] + oneMinusP * fs_cv[:-1])      \n",
    "        \n",
    "        fs2[:]=fs2[:]*u/factor/factor\n",
    "        f = fwd\n",
    "      \n",
    "        #Simply check if the option is worth more alive or dead\n",
    "        fs[:]=np.maximum(fs[:],pc*f*fs2[:]-pc*fs3[:])\n",
    "\n",
    "    if american=='true': \n",
    "        if control_variate=='true':\n",
    "            fx = fwd\n",
    "            df = np.exp(-r*T)\n",
    "            b = black(df,fx,K,sigma,T,pc)\n",
    "            return fs[0] - fs_cv[0] + b\n",
    "        else:\n",
    "            return fs[0]\n",
    "    else:\n",
    "        return fs_cv[0]"
   ]
  },
  {
   "cell_type": "code",
   "execution_count": 11,
   "metadata": {},
   "outputs": [],
   "source": [
    "@tf.function(experimental_compile=True)\n",
    "def binomial_tree(pc, fwd, K, r, sigma, T, N=2000, american=\"false\"):\n",
    "    #Improve the previous tree by checking for early exercise for american options\n",
    "   \n",
    "    #calculate delta T    \n",
    "    deltaT = float(T) / N\n",
    " \n",
    "    # up and down factor will be constant for the tree so we calculate outside the loop\n",
    "    u = np.exp(sigma * np.sqrt(deltaT))\n",
    "    d = 1.0 / u\n",
    " \n",
    "    #to work with vector we need to init the arrays using numpy\n",
    "    fs =  np.asarray([0.0 for i in range(N + 1)])\n",
    "        \n",
    "    #we need the stock tree for calculations of expiration values\n",
    "    fs2 = np.asarray([(u**j * d**(N - j)) for j in range(N + 1)])\n",
    "    \n",
    "    #we vectorize the strikes as well so the expiration check will be faster\n",
    "    fs3 = np.asarray( [float(K) for i in range(N + 1)])\n",
    "    \n",
    "    dts = np.asarray([(j * deltaT) for j in range(N + 1)])\n",
    "         \n",
    "    #rates are fixed so the probability of up and down are fixed.\n",
    "    #this is used to make sure the drift is the risk free rate\n",
    "    a = 1\n",
    "    p = (a - d)/ (u - d)\n",
    "    oneMinusP = 1.0 - p\n",
    "   \n",
    "    # Compute the leaves, f_{N, j}\n",
    "    fs[:] = np.maximum(pc*fwd*fs2-pc*fs3, 0.0)\n",
    "      \n",
    "    #calculate backward the option prices\n",
    "    df = np.exp(-r * deltaT)\n",
    "    for i in range(N-1, -1, -1):\n",
    "        fs[:-1]= df * (p * fs[1:] + oneMinusP * fs[:-1])\n",
    "        fs2[:]=fs2[:]*u\n",
    "        f = fwd\n",
    "      \n",
    "        if american=='true':\n",
    "        #Simply check if the option is worth more alive or dead\n",
    "            fs[:]=np.maximum(fs[:],pc*f*fs2[:]-pc*fs3[:])\n",
    "                \n",
    "    return fs[0]"
   ]
  },
  {
   "cell_type": "code",
   "execution_count": 222,
   "metadata": {
    "collapsed": false
   },
   "outputs": [
    {
     "output_type": "stream",
     "name": "stdout",
     "text": [
      "tf.Tensor(15.218373235646823, shape=(), dtype=float64)\n15.256018630589418\n15.256018630589418\n15.218373235646823\n15.07883355917036\n"
     ]
    }
   ],
   "source": [
    "r = 0.05\n",
    "q = 0.03\n",
    "expiry = 1\n",
    "num = 100\n",
    "sigma = 0.4\n",
    "S = 100\n",
    "    \n",
    "strike = 100\n",
    "\n",
    "t1 = time.clock()\n",
    "\n",
    "#div = [[0.25, 3],[0.5, 3], [0.75, 3]]\n",
    "div = [[0.25, 0],[0.5, 0], [0.75, 0]]\n",
    "fwd = S\n",
    "df = np.exp(-r*expiry)\n",
    "\n",
    "bt_call_eu = binomial_tree(1,fwd,strike,r,sigma,expiry,num,\"false\")\n",
    "bt_call_am = binomial_tree(1,fwd,strike,r,sigma,expiry,num,\"true\")    \n",
    "bt_put_eu = binomial_tree(-1,fwd,strike,r,sigma,expiry,num,\"false\")\n",
    "bt_put_am = binomial_tree(-1,fwd,strike,r,sigma,expiry,num,\"true\")\n",
    "call = black(df,fwd,strike,sigma,expiry,1)\n",
    "put = black(df,fwd,strike,sigma,expiry,-1)    \n",
    "\n",
    "bt_put_eu_cv = binomial_tree_control_variate(-1,fwd,strike,r,sigma,expiry,num,\"false\",\"true\")\n",
    "bt_put_am_cv = binomial_tree_control_variate(-1,fwd,strike,r,sigma,expiry,num,\"true\",\"true\")\n",
    "bt_put_am_cv_is = binomial_tree_control_variate(-1,fwd,strike,r,sigma,expiry,num,\"true\",\"true\",\"true\")\n",
    "bt_put_am_is = binomial_tree_control_variate(-1,fwd,strike,r,sigma,expiry,num,\"true\",\"false\",\"true\")\n",
    "\n",
    "print(bt_put_am)\n",
    "print(bt_put_am_cv)\n",
    "print(bt_put_am_cv_is)\n",
    "print(bt_put_am_is)\n",
    "print(put)\n",
    "price_am = bt_put_am + (put - bt_put_eu)"
   ]
  },
  {
   "cell_type": "code",
   "execution_count": 1,
   "metadata": {},
   "outputs": [],
   "source": [
    "import time"
   ]
  },
  {
   "cell_type": "code",
   "execution_count": 2,
   "metadata": {},
   "outputs": [
    {
     "output_type": "error",
     "ename": "NameError",
     "evalue": "name 'binomial_tree' is not defined",
     "traceback": [
      "\u001b[1;31m---------------------------------------------------------------------------\u001b[0m",
      "\u001b[1;31mNameError\u001b[0m                                 Traceback (most recent call last)",
      "\u001b[1;32m<ipython-input-2-be4cefe97362>\u001b[0m in \u001b[0;36m<module>\u001b[1;34m\u001b[0m\n\u001b[0;32m      1\u001b[0m \u001b[0mnum\u001b[0m \u001b[1;33m=\u001b[0m \u001b[1;36m200\u001b[0m\u001b[1;33m\u001b[0m\u001b[1;33m\u001b[0m\u001b[0m\n\u001b[1;32m----> 2\u001b[1;33m \u001b[0mget_ipython\u001b[0m\u001b[1;33m(\u001b[0m\u001b[1;33m)\u001b[0m\u001b[1;33m.\u001b[0m\u001b[0mrun_line_magic\u001b[0m\u001b[1;33m(\u001b[0m\u001b[1;34m'timeit'\u001b[0m\u001b[1;33m,\u001b[0m \u001b[1;34m'binomial_tree(1,fwd,strike,r,sigma,expiry,num,\"false\")'\u001b[0m\u001b[1;33m)\u001b[0m\u001b[1;33m\u001b[0m\u001b[1;33m\u001b[0m\u001b[0m\n\u001b[0m",
      "\u001b[1;32md:\\Home\\quant_analytics_torch\\venv\\lib\\site-packages\\IPython\\core\\interactiveshell.py\u001b[0m in \u001b[0;36mrun_line_magic\u001b[1;34m(self, magic_name, line, _stack_depth)\u001b[0m\n\u001b[0;32m   2325\u001b[0m                 \u001b[0mkwargs\u001b[0m\u001b[1;33m[\u001b[0m\u001b[1;34m'local_ns'\u001b[0m\u001b[1;33m]\u001b[0m \u001b[1;33m=\u001b[0m \u001b[0mself\u001b[0m\u001b[1;33m.\u001b[0m\u001b[0mget_local_scope\u001b[0m\u001b[1;33m(\u001b[0m\u001b[0mstack_depth\u001b[0m\u001b[1;33m)\u001b[0m\u001b[1;33m\u001b[0m\u001b[1;33m\u001b[0m\u001b[0m\n\u001b[0;32m   2326\u001b[0m             \u001b[1;32mwith\u001b[0m \u001b[0mself\u001b[0m\u001b[1;33m.\u001b[0m\u001b[0mbuiltin_trap\u001b[0m\u001b[1;33m:\u001b[0m\u001b[1;33m\u001b[0m\u001b[1;33m\u001b[0m\u001b[0m\n\u001b[1;32m-> 2327\u001b[1;33m                 \u001b[0mresult\u001b[0m \u001b[1;33m=\u001b[0m \u001b[0mfn\u001b[0m\u001b[1;33m(\u001b[0m\u001b[1;33m*\u001b[0m\u001b[0margs\u001b[0m\u001b[1;33m,\u001b[0m \u001b[1;33m**\u001b[0m\u001b[0mkwargs\u001b[0m\u001b[1;33m)\u001b[0m\u001b[1;33m\u001b[0m\u001b[1;33m\u001b[0m\u001b[0m\n\u001b[0m\u001b[0;32m   2328\u001b[0m             \u001b[1;32mreturn\u001b[0m \u001b[0mresult\u001b[0m\u001b[1;33m\u001b[0m\u001b[1;33m\u001b[0m\u001b[0m\n\u001b[0;32m   2329\u001b[0m \u001b[1;33m\u001b[0m\u001b[0m\n",
      "\u001b[1;32m<decorator-gen-54>\u001b[0m in \u001b[0;36mtimeit\u001b[1;34m(self, line, cell, local_ns)\u001b[0m\n",
      "\u001b[1;32md:\\Home\\quant_analytics_torch\\venv\\lib\\site-packages\\IPython\\core\\magic.py\u001b[0m in \u001b[0;36m<lambda>\u001b[1;34m(f, *a, **k)\u001b[0m\n\u001b[0;32m    185\u001b[0m     \u001b[1;31m# but it's overkill for just that one bit of state.\u001b[0m\u001b[1;33m\u001b[0m\u001b[1;33m\u001b[0m\u001b[1;33m\u001b[0m\u001b[0m\n\u001b[0;32m    186\u001b[0m     \u001b[1;32mdef\u001b[0m \u001b[0mmagic_deco\u001b[0m\u001b[1;33m(\u001b[0m\u001b[0marg\u001b[0m\u001b[1;33m)\u001b[0m\u001b[1;33m:\u001b[0m\u001b[1;33m\u001b[0m\u001b[1;33m\u001b[0m\u001b[0m\n\u001b[1;32m--> 187\u001b[1;33m         \u001b[0mcall\u001b[0m \u001b[1;33m=\u001b[0m \u001b[1;32mlambda\u001b[0m \u001b[0mf\u001b[0m\u001b[1;33m,\u001b[0m \u001b[1;33m*\u001b[0m\u001b[0ma\u001b[0m\u001b[1;33m,\u001b[0m \u001b[1;33m**\u001b[0m\u001b[0mk\u001b[0m\u001b[1;33m:\u001b[0m \u001b[0mf\u001b[0m\u001b[1;33m(\u001b[0m\u001b[1;33m*\u001b[0m\u001b[0ma\u001b[0m\u001b[1;33m,\u001b[0m \u001b[1;33m**\u001b[0m\u001b[0mk\u001b[0m\u001b[1;33m)\u001b[0m\u001b[1;33m\u001b[0m\u001b[1;33m\u001b[0m\u001b[0m\n\u001b[0m\u001b[0;32m    188\u001b[0m \u001b[1;33m\u001b[0m\u001b[0m\n\u001b[0;32m    189\u001b[0m         \u001b[1;32mif\u001b[0m \u001b[0mcallable\u001b[0m\u001b[1;33m(\u001b[0m\u001b[0marg\u001b[0m\u001b[1;33m)\u001b[0m\u001b[1;33m:\u001b[0m\u001b[1;33m\u001b[0m\u001b[1;33m\u001b[0m\u001b[0m\n",
      "\u001b[1;32md:\\Home\\quant_analytics_torch\\venv\\lib\\site-packages\\IPython\\core\\magics\\execution.py\u001b[0m in \u001b[0;36mtimeit\u001b[1;34m(self, line, cell, local_ns)\u001b[0m\n\u001b[0;32m   1167\u001b[0m             \u001b[1;32mfor\u001b[0m \u001b[0mindex\u001b[0m \u001b[1;32min\u001b[0m \u001b[0mrange\u001b[0m\u001b[1;33m(\u001b[0m\u001b[1;36m0\u001b[0m\u001b[1;33m,\u001b[0m \u001b[1;36m10\u001b[0m\u001b[1;33m)\u001b[0m\u001b[1;33m:\u001b[0m\u001b[1;33m\u001b[0m\u001b[1;33m\u001b[0m\u001b[0m\n\u001b[0;32m   1168\u001b[0m                 \u001b[0mnumber\u001b[0m \u001b[1;33m=\u001b[0m \u001b[1;36m10\u001b[0m \u001b[1;33m**\u001b[0m \u001b[0mindex\u001b[0m\u001b[1;33m\u001b[0m\u001b[1;33m\u001b[0m\u001b[0m\n\u001b[1;32m-> 1169\u001b[1;33m                 \u001b[0mtime_number\u001b[0m \u001b[1;33m=\u001b[0m \u001b[0mtimer\u001b[0m\u001b[1;33m.\u001b[0m\u001b[0mtimeit\u001b[0m\u001b[1;33m(\u001b[0m\u001b[0mnumber\u001b[0m\u001b[1;33m)\u001b[0m\u001b[1;33m\u001b[0m\u001b[1;33m\u001b[0m\u001b[0m\n\u001b[0m\u001b[0;32m   1170\u001b[0m                 \u001b[1;32mif\u001b[0m \u001b[0mtime_number\u001b[0m \u001b[1;33m>=\u001b[0m \u001b[1;36m0.2\u001b[0m\u001b[1;33m:\u001b[0m\u001b[1;33m\u001b[0m\u001b[1;33m\u001b[0m\u001b[0m\n\u001b[0;32m   1171\u001b[0m                     \u001b[1;32mbreak\u001b[0m\u001b[1;33m\u001b[0m\u001b[1;33m\u001b[0m\u001b[0m\n",
      "\u001b[1;32md:\\Home\\quant_analytics_torch\\venv\\lib\\site-packages\\IPython\\core\\magics\\execution.py\u001b[0m in \u001b[0;36mtimeit\u001b[1;34m(self, number)\u001b[0m\n\u001b[0;32m    167\u001b[0m         \u001b[0mgc\u001b[0m\u001b[1;33m.\u001b[0m\u001b[0mdisable\u001b[0m\u001b[1;33m(\u001b[0m\u001b[1;33m)\u001b[0m\u001b[1;33m\u001b[0m\u001b[1;33m\u001b[0m\u001b[0m\n\u001b[0;32m    168\u001b[0m         \u001b[1;32mtry\u001b[0m\u001b[1;33m:\u001b[0m\u001b[1;33m\u001b[0m\u001b[1;33m\u001b[0m\u001b[0m\n\u001b[1;32m--> 169\u001b[1;33m             \u001b[0mtiming\u001b[0m \u001b[1;33m=\u001b[0m \u001b[0mself\u001b[0m\u001b[1;33m.\u001b[0m\u001b[0minner\u001b[0m\u001b[1;33m(\u001b[0m\u001b[0mit\u001b[0m\u001b[1;33m,\u001b[0m \u001b[0mself\u001b[0m\u001b[1;33m.\u001b[0m\u001b[0mtimer\u001b[0m\u001b[1;33m)\u001b[0m\u001b[1;33m\u001b[0m\u001b[1;33m\u001b[0m\u001b[0m\n\u001b[0m\u001b[0;32m    170\u001b[0m         \u001b[1;32mfinally\u001b[0m\u001b[1;33m:\u001b[0m\u001b[1;33m\u001b[0m\u001b[1;33m\u001b[0m\u001b[0m\n\u001b[0;32m    171\u001b[0m             \u001b[1;32mif\u001b[0m \u001b[0mgcold\u001b[0m\u001b[1;33m:\u001b[0m\u001b[1;33m\u001b[0m\u001b[1;33m\u001b[0m\u001b[0m\n",
      "\u001b[1;32m<magic-timeit>\u001b[0m in \u001b[0;36minner\u001b[1;34m(_it, _timer)\u001b[0m\n",
      "\u001b[1;31mNameError\u001b[0m: name 'binomial_tree' is not defined"
     ]
    }
   ],
   "source": [
    "num = 200\n",
    "%timeit binomial_tree(1,fwd,strike,r,sigma,expiry,num,\"false\")"
   ]
  },
  {
   "cell_type": "code",
   "execution_count": 14,
   "metadata": {},
   "outputs": [],
   "source": [
    "import tensorflow as tf\n",
    "import numpy as np"
   ]
  },
  {
   "cell_type": "code",
   "execution_count": 15,
   "metadata": {},
   "outputs": [
    {
     "output_type": "execute_result",
     "data": {
      "text/plain": [
       "<tf.Tensor: shape=(4,), dtype=int32, numpy=array([1, 2, 0, 0])>"
      ]
     },
     "metadata": {},
     "execution_count": 15
    }
   ],
   "source": [
    "a = [1,2]\n",
    "b = tf.convert_to_tensor(a)\n",
    "c = tf.pad(b,[[0,2]])\n",
    "c"
   ]
  },
  {
   "cell_type": "code",
   "execution_count": 128,
   "metadata": {},
   "outputs": [],
   "source": [
    "sigma = 0.2\n",
    "T = 1\n",
    "N = 500\n",
    "\n",
    "#calculate delta T    \n",
    "deltaT = T / N\n",
    "\n",
    "# up and down factor will be constant for the tree so we calculate outside the loop\n",
    "u = tf.exp(sigma * np.sqrt(deltaT))\n",
    "d = 1.0 / u\n",
    "\n",
    "a = 1\n",
    "p = (a - d)/ (u - d)\n",
    "\n",
    "fs2 = np.asarray([(u**j * d**(N - j)) for j in range(N + 1)])\n",
    "\n",
    "@tf.function(experimental_compile=True)\n",
    "def binomial_tree_tf(pc, fwd, K, p, fs2, N=2000):\n",
    "    fs_t = tf.TensorArray(size=N+1, dtype=tf.float64)\n",
    "\n",
    "   # Call option at maturity\n",
    "    fs_t = fs_t.write(N, tf.maximum(pc*fwd*fs2 - pc*K, 0.0))\n",
    "\n",
    "    oneMinusP = 1.0 - p\n",
    "    \n",
    "    for i in range(N-1, -1, -1):\n",
    "        z = fs_t.read(i+1)\n",
    "        # Compute the continuation value and compare with early exercise\n",
    "        fs_t = fs_t.write(i, p*tf.roll(z,shift=-1,axis=1) + oneMinusP*z)   \n",
    "\n",
    "    return fs_t.stack()"
   ]
  },
  {
   "cell_type": "code",
   "execution_count": 129,
   "metadata": {},
   "outputs": [
    {
     "output_type": "stream",
     "name": "stdout",
     "text": [
      "tf.Tensor(\n[10.51916726  9.97001388  9.4391523   8.9255539   8.43952115  7.9615857\n  7.51913701  7.08352104], shape=(8,), dtype=float64)\n"
     ]
    }
   ],
   "source": [
    "sigma_t = tf.constant(0.2, dtype=tf.float64)\n",
    "fwd_t = tf.constant(100., dtype=tf.float64)\n",
    "\n",
    "strike = tf.constant([[95.],[96.],[97.],[98.],[99.],[100.],[101],[102]], dtype=tf.float64)\n",
    "r = 0.05\n",
    "expiry = 1\n",
    "\n",
    "fs2_t = tf.convert_to_tensor([fs2,fs2,fs2,fs2,fs2,fs2,fs2,fs2])\n",
    "\n",
    "v = binomial_tree_tf(tf.constant(1.,dtype=tf.float64),fwd_t,strike,p,fs2_t,tf.constant(N))\n",
    "#dy_dx = g.gradient(v, fwd_t) # Will compute to 6.0\n",
    "\n",
    "#print(dy_dx)\n",
    "#dv_df = g.gradient(v, fwd_t)\n",
    "\n",
    "print(v[0,:,0])\n",
    "\n",
    "#print(dv_df)"
   ]
  },
  {
   "cell_type": "code",
   "execution_count": null,
   "metadata": {},
   "outputs": [],
   "source": []
  },
  {
   "cell_type": "code",
   "execution_count": 130,
   "metadata": {},
   "outputs": [
    {
     "output_type": "stream",
     "name": "stdout",
     "text": [
      "500\n"
     ]
    }
   ],
   "source": [
    "print(N)"
   ]
  },
  {
   "cell_type": "code",
   "execution_count": 137,
   "metadata": {},
   "outputs": [
    {
     "output_type": "stream",
     "name": "stdout",
     "text": [
      "863 µs ± 3.94 µs per loop (mean ± std. dev. of 7 runs, 1000 loops each)\n"
     ]
    }
   ],
   "source": [
    "%timeit binomial_tree_tf(tf.constant(1.,dtype=tf.float64),fwd_t,tf.constant(strike),p,fs2_t,tf.constant(N))"
   ]
  },
  {
   "cell_type": "code",
   "execution_count": 7,
   "metadata": {},
   "outputs": [],
   "source": [
    "@tf.function(experimental_compile=True)\n",
    "def binomial_tree_delta_tf(pc, fwd, K, p, fs2, N=2000):\n",
    "    print(fwd)\n",
    "    with tf.GradientTape() as g:\n",
    "        v = binomial_tree_tf(tf.constant(1.,dtype=tf.float64),fwd,strike,p,fs2_t,N)\n",
    "        print(v[0][0])\n",
    "    dy_dx = g.gradient(v[0], fwd) # Will compute to 6.0\n",
    "    print(dy_dx)\n",
    "\n",
    "    return dy_dx"
   ]
  },
  {
   "cell_type": "code",
   "execution_count": 8,
   "metadata": {},
   "outputs": [
    {
     "output_type": "stream",
     "name": "stdout",
     "text": [
      "<tf.Variable 'Variable:0' shape=() dtype=float64>\nTensor(\"strided_slice_1:0\", shape=(), dtype=float64)\nNone\n"
     ]
    }
   ],
   "source": [
    "fwd_t = tf.Variable(100., dtype=tf.float64)\n",
    "\n",
    "#%timeit binomial_tree_delta_tf(tf.constant(1.,dtype=tf.float64),fwd_t,tf.constant(strike),p,fs2_t,tf.constant(N))\n",
    "binomial_tree_delta_tf(tf.constant(1.,dtype=tf.float64),fwd_t,tf.constant(strike),p,fs2_t,tf.constant(N))"
   ]
  },
  {
   "cell_type": "code",
   "execution_count": 132,
   "metadata": {},
   "outputs": [],
   "source": [
    "sigma = 0.2\n",
    "T = 1\n",
    "N = 500\n",
    "\n",
    "#calculate delta T    \n",
    "deltaT = T / N\n",
    "\n",
    "# up and down factor will be constant for the tree so we calculate outside the loop\n",
    "u = tf.exp(sigma * np.sqrt(deltaT))\n",
    "d = 1.0 / u\n",
    "\n",
    "a = 1\n",
    "p = (a - d)/ (u - d)\n",
    "\n",
    "fs2 = np.asarray([(u**j * d**(N - j)) for j in range(N + 1)])\n",
    "\n",
    "#@tf.function(jit_compile=False)\n",
    "def binomial_tree_tf_delta(pc, fwd, K, p, fs2, g, N=2000):\n",
    "\n",
    "        fs_t = tf.TensorArray(size=N+1, dtype=tf.float64)\n",
    "\n",
    "        fs_t = fs_t.write(N, pc*fwd*fs2 - pc*K, 0.0)\n",
    "\n",
    "        oneMinusP = 1.0 - p\n",
    "    \n",
    "        for i in range(N-1, -1, -1):\n",
    "                z = fs_t.read(i+1)\n",
    "                # Compute the continuation value and compare with early exercise\n",
    "                fs_t = fs_t.write(i, p*tf.roll(z,shift=-1,axis=1) + oneMinusP*z )   \n",
    "\n",
    "        #print(fs_t.stack())\n",
    "\n",
    "        v = fs_t.stack()[0,:,0]\n",
    "    \n",
    "        delta = g.gradient(v,fwd)\n",
    "        return delta"
   ]
  },
  {
   "cell_type": "code",
   "execution_count": 135,
   "metadata": {},
   "outputs": [
    {
     "output_type": "stream",
     "name": "stdout",
     "text": [
      "tf.Tensor(0.9999999999999727, shape=(), dtype=float64)\n"
     ]
    }
   ],
   "source": [
    "sigma_t = tf.constant(0.2, dtype=tf.float64)\n",
    "fwd_t = tf.Variable(100., dtype=tf.float64)\n",
    "\n",
    "strike = tf.constant([[100.]], dtype=tf.float64)\n",
    "r = 0.05\n",
    "expiry = 1\n",
    "\n",
    "fs2_t = tf.convert_to_tensor([fs2])\n",
    "\n",
    "with tf.GradientTape() as g:\n",
    "    delta = binomial_tree_tf_delta(tf.constant(1.,dtype=tf.float64),fwd_t,strike,p,fs2_t,g,tf.constant(N))        \n",
    "\n",
    "print(delta)\n",
    "\n",
    "#with tf.profiler.experimental.Profile(\"logs/binomial\"):\n",
    "#    with tf.GradientTape() as g:\n",
    "#       \n",
    "#        %timeit binomial_tree_tf_delta(tf.constant(1.,dtype=tf.float64),fwd_t,strike,p,fs2_t,g,tf.constant(N))\n",
    "#        %timeit binomial_tree_tf_delta(tf.constant(1.,dtype=tf.float64),fwd_t,strike,p,fs2_t,g,tf.constant(N))        "
   ]
  },
  {
   "cell_type": "code",
   "execution_count": 136,
   "metadata": {},
   "outputs": [
    {
     "output_type": "error",
     "ename": "RuntimeError",
     "evalue": "A non-persistent GradientTape can only be used tocompute one set of gradients (or jacobians)",
     "traceback": [
      "\u001b[1;31m---------------------------------------------------------------------------\u001b[0m",
      "\u001b[1;31mRuntimeError\u001b[0m                              Traceback (most recent call last)",
      "\u001b[1;32m<ipython-input-136-a98200fd47b3>\u001b[0m in \u001b[0;36m<module>\u001b[1;34m\u001b[0m\n\u001b[0;32m      1\u001b[0m \u001b[1;32mwith\u001b[0m \u001b[0mtf\u001b[0m\u001b[1;33m.\u001b[0m\u001b[0mGradientTape\u001b[0m\u001b[1;33m(\u001b[0m\u001b[1;33m)\u001b[0m \u001b[1;32mas\u001b[0m \u001b[0mg\u001b[0m\u001b[1;33m:\u001b[0m\u001b[1;33m\u001b[0m\u001b[1;33m\u001b[0m\u001b[0m\n\u001b[1;32m----> 2\u001b[1;33m     \u001b[0mget_ipython\u001b[0m\u001b[1;33m(\u001b[0m\u001b[1;33m)\u001b[0m\u001b[1;33m.\u001b[0m\u001b[0mrun_line_magic\u001b[0m\u001b[1;33m(\u001b[0m\u001b[1;34m'timeit'\u001b[0m\u001b[1;33m,\u001b[0m \u001b[1;34m'binomial_tree_tf_delta(tf.constant(1.,dtype=tf.float64),fwd_t,strike,p,fs2_t,g,tf.constant(N))'\u001b[0m\u001b[1;33m)\u001b[0m\u001b[1;33m\u001b[0m\u001b[1;33m\u001b[0m\u001b[0m\n\u001b[0m",
      "\u001b[1;32md:\\Home\\quant_analytics_torch\\venv\\lib\\site-packages\\IPython\\core\\interactiveshell.py\u001b[0m in \u001b[0;36mrun_line_magic\u001b[1;34m(self, magic_name, line, _stack_depth)\u001b[0m\n\u001b[0;32m   2325\u001b[0m                 \u001b[0mkwargs\u001b[0m\u001b[1;33m[\u001b[0m\u001b[1;34m'local_ns'\u001b[0m\u001b[1;33m]\u001b[0m \u001b[1;33m=\u001b[0m \u001b[0mself\u001b[0m\u001b[1;33m.\u001b[0m\u001b[0mget_local_scope\u001b[0m\u001b[1;33m(\u001b[0m\u001b[0mstack_depth\u001b[0m\u001b[1;33m)\u001b[0m\u001b[1;33m\u001b[0m\u001b[1;33m\u001b[0m\u001b[0m\n\u001b[0;32m   2326\u001b[0m             \u001b[1;32mwith\u001b[0m \u001b[0mself\u001b[0m\u001b[1;33m.\u001b[0m\u001b[0mbuiltin_trap\u001b[0m\u001b[1;33m:\u001b[0m\u001b[1;33m\u001b[0m\u001b[1;33m\u001b[0m\u001b[0m\n\u001b[1;32m-> 2327\u001b[1;33m                 \u001b[0mresult\u001b[0m \u001b[1;33m=\u001b[0m \u001b[0mfn\u001b[0m\u001b[1;33m(\u001b[0m\u001b[1;33m*\u001b[0m\u001b[0margs\u001b[0m\u001b[1;33m,\u001b[0m \u001b[1;33m**\u001b[0m\u001b[0mkwargs\u001b[0m\u001b[1;33m)\u001b[0m\u001b[1;33m\u001b[0m\u001b[1;33m\u001b[0m\u001b[0m\n\u001b[0m\u001b[0;32m   2328\u001b[0m             \u001b[1;32mreturn\u001b[0m \u001b[0mresult\u001b[0m\u001b[1;33m\u001b[0m\u001b[1;33m\u001b[0m\u001b[0m\n\u001b[0;32m   2329\u001b[0m \u001b[1;33m\u001b[0m\u001b[0m\n",
      "\u001b[1;32m<decorator-gen-54>\u001b[0m in \u001b[0;36mtimeit\u001b[1;34m(self, line, cell, local_ns)\u001b[0m\n",
      "\u001b[1;32md:\\Home\\quant_analytics_torch\\venv\\lib\\site-packages\\IPython\\core\\magic.py\u001b[0m in \u001b[0;36m<lambda>\u001b[1;34m(f, *a, **k)\u001b[0m\n\u001b[0;32m    185\u001b[0m     \u001b[1;31m# but it's overkill for just that one bit of state.\u001b[0m\u001b[1;33m\u001b[0m\u001b[1;33m\u001b[0m\u001b[1;33m\u001b[0m\u001b[0m\n\u001b[0;32m    186\u001b[0m     \u001b[1;32mdef\u001b[0m \u001b[0mmagic_deco\u001b[0m\u001b[1;33m(\u001b[0m\u001b[0marg\u001b[0m\u001b[1;33m)\u001b[0m\u001b[1;33m:\u001b[0m\u001b[1;33m\u001b[0m\u001b[1;33m\u001b[0m\u001b[0m\n\u001b[1;32m--> 187\u001b[1;33m         \u001b[0mcall\u001b[0m \u001b[1;33m=\u001b[0m \u001b[1;32mlambda\u001b[0m \u001b[0mf\u001b[0m\u001b[1;33m,\u001b[0m \u001b[1;33m*\u001b[0m\u001b[0ma\u001b[0m\u001b[1;33m,\u001b[0m \u001b[1;33m**\u001b[0m\u001b[0mk\u001b[0m\u001b[1;33m:\u001b[0m \u001b[0mf\u001b[0m\u001b[1;33m(\u001b[0m\u001b[1;33m*\u001b[0m\u001b[0ma\u001b[0m\u001b[1;33m,\u001b[0m \u001b[1;33m**\u001b[0m\u001b[0mk\u001b[0m\u001b[1;33m)\u001b[0m\u001b[1;33m\u001b[0m\u001b[1;33m\u001b[0m\u001b[0m\n\u001b[0m\u001b[0;32m    188\u001b[0m \u001b[1;33m\u001b[0m\u001b[0m\n\u001b[0;32m    189\u001b[0m         \u001b[1;32mif\u001b[0m \u001b[0mcallable\u001b[0m\u001b[1;33m(\u001b[0m\u001b[0marg\u001b[0m\u001b[1;33m)\u001b[0m\u001b[1;33m:\u001b[0m\u001b[1;33m\u001b[0m\u001b[1;33m\u001b[0m\u001b[0m\n",
      "\u001b[1;32md:\\Home\\quant_analytics_torch\\venv\\lib\\site-packages\\IPython\\core\\magics\\execution.py\u001b[0m in \u001b[0;36mtimeit\u001b[1;34m(self, line, cell, local_ns)\u001b[0m\n\u001b[0;32m   1171\u001b[0m                     \u001b[1;32mbreak\u001b[0m\u001b[1;33m\u001b[0m\u001b[1;33m\u001b[0m\u001b[0m\n\u001b[0;32m   1172\u001b[0m \u001b[1;33m\u001b[0m\u001b[0m\n\u001b[1;32m-> 1173\u001b[1;33m         \u001b[0mall_runs\u001b[0m \u001b[1;33m=\u001b[0m \u001b[0mtimer\u001b[0m\u001b[1;33m.\u001b[0m\u001b[0mrepeat\u001b[0m\u001b[1;33m(\u001b[0m\u001b[0mrepeat\u001b[0m\u001b[1;33m,\u001b[0m \u001b[0mnumber\u001b[0m\u001b[1;33m)\u001b[0m\u001b[1;33m\u001b[0m\u001b[1;33m\u001b[0m\u001b[0m\n\u001b[0m\u001b[0;32m   1174\u001b[0m         \u001b[0mbest\u001b[0m \u001b[1;33m=\u001b[0m \u001b[0mmin\u001b[0m\u001b[1;33m(\u001b[0m\u001b[0mall_runs\u001b[0m\u001b[1;33m)\u001b[0m \u001b[1;33m/\u001b[0m \u001b[0mnumber\u001b[0m\u001b[1;33m\u001b[0m\u001b[1;33m\u001b[0m\u001b[0m\n\u001b[0;32m   1175\u001b[0m         \u001b[0mworst\u001b[0m \u001b[1;33m=\u001b[0m \u001b[0mmax\u001b[0m\u001b[1;33m(\u001b[0m\u001b[0mall_runs\u001b[0m\u001b[1;33m)\u001b[0m \u001b[1;33m/\u001b[0m \u001b[0mnumber\u001b[0m\u001b[1;33m\u001b[0m\u001b[1;33m\u001b[0m\u001b[0m\n",
      "\u001b[1;32mC:\\Python37\\lib\\timeit.py\u001b[0m in \u001b[0;36mrepeat\u001b[1;34m(self, repeat, number)\u001b[0m\n\u001b[0;32m    202\u001b[0m         \u001b[0mr\u001b[0m \u001b[1;33m=\u001b[0m \u001b[1;33m[\u001b[0m\u001b[1;33m]\u001b[0m\u001b[1;33m\u001b[0m\u001b[1;33m\u001b[0m\u001b[0m\n\u001b[0;32m    203\u001b[0m         \u001b[1;32mfor\u001b[0m \u001b[0mi\u001b[0m \u001b[1;32min\u001b[0m \u001b[0mrange\u001b[0m\u001b[1;33m(\u001b[0m\u001b[0mrepeat\u001b[0m\u001b[1;33m)\u001b[0m\u001b[1;33m:\u001b[0m\u001b[1;33m\u001b[0m\u001b[1;33m\u001b[0m\u001b[0m\n\u001b[1;32m--> 204\u001b[1;33m             \u001b[0mt\u001b[0m \u001b[1;33m=\u001b[0m \u001b[0mself\u001b[0m\u001b[1;33m.\u001b[0m\u001b[0mtimeit\u001b[0m\u001b[1;33m(\u001b[0m\u001b[0mnumber\u001b[0m\u001b[1;33m)\u001b[0m\u001b[1;33m\u001b[0m\u001b[1;33m\u001b[0m\u001b[0m\n\u001b[0m\u001b[0;32m    205\u001b[0m             \u001b[0mr\u001b[0m\u001b[1;33m.\u001b[0m\u001b[0mappend\u001b[0m\u001b[1;33m(\u001b[0m\u001b[0mt\u001b[0m\u001b[1;33m)\u001b[0m\u001b[1;33m\u001b[0m\u001b[1;33m\u001b[0m\u001b[0m\n\u001b[0;32m    206\u001b[0m         \u001b[1;32mreturn\u001b[0m \u001b[0mr\u001b[0m\u001b[1;33m\u001b[0m\u001b[1;33m\u001b[0m\u001b[0m\n",
      "\u001b[1;32md:\\Home\\quant_analytics_torch\\venv\\lib\\site-packages\\IPython\\core\\magics\\execution.py\u001b[0m in \u001b[0;36mtimeit\u001b[1;34m(self, number)\u001b[0m\n\u001b[0;32m    167\u001b[0m         \u001b[0mgc\u001b[0m\u001b[1;33m.\u001b[0m\u001b[0mdisable\u001b[0m\u001b[1;33m(\u001b[0m\u001b[1;33m)\u001b[0m\u001b[1;33m\u001b[0m\u001b[1;33m\u001b[0m\u001b[0m\n\u001b[0;32m    168\u001b[0m         \u001b[1;32mtry\u001b[0m\u001b[1;33m:\u001b[0m\u001b[1;33m\u001b[0m\u001b[1;33m\u001b[0m\u001b[0m\n\u001b[1;32m--> 169\u001b[1;33m             \u001b[0mtiming\u001b[0m \u001b[1;33m=\u001b[0m \u001b[0mself\u001b[0m\u001b[1;33m.\u001b[0m\u001b[0minner\u001b[0m\u001b[1;33m(\u001b[0m\u001b[0mit\u001b[0m\u001b[1;33m,\u001b[0m \u001b[0mself\u001b[0m\u001b[1;33m.\u001b[0m\u001b[0mtimer\u001b[0m\u001b[1;33m)\u001b[0m\u001b[1;33m\u001b[0m\u001b[1;33m\u001b[0m\u001b[0m\n\u001b[0m\u001b[0;32m    170\u001b[0m         \u001b[1;32mfinally\u001b[0m\u001b[1;33m:\u001b[0m\u001b[1;33m\u001b[0m\u001b[1;33m\u001b[0m\u001b[0m\n\u001b[0;32m    171\u001b[0m             \u001b[1;32mif\u001b[0m \u001b[0mgcold\u001b[0m\u001b[1;33m:\u001b[0m\u001b[1;33m\u001b[0m\u001b[1;33m\u001b[0m\u001b[0m\n",
      "\u001b[1;32m<magic-timeit>\u001b[0m in \u001b[0;36minner\u001b[1;34m(_it, _timer)\u001b[0m\n",
      "\u001b[1;32m<ipython-input-132-b627a888ab03>\u001b[0m in \u001b[0;36mbinomial_tree_tf_delta\u001b[1;34m(pc, fwd, K, p, fs2, g, N)\u001b[0m\n\u001b[0;32m     33\u001b[0m         \u001b[0mv\u001b[0m \u001b[1;33m=\u001b[0m \u001b[0mfs_t\u001b[0m\u001b[1;33m.\u001b[0m\u001b[0mstack\u001b[0m\u001b[1;33m(\u001b[0m\u001b[1;33m)\u001b[0m\u001b[1;33m[\u001b[0m\u001b[1;36m0\u001b[0m\u001b[1;33m,\u001b[0m\u001b[1;33m:\u001b[0m\u001b[1;33m,\u001b[0m\u001b[1;36m0\u001b[0m\u001b[1;33m]\u001b[0m\u001b[1;33m\u001b[0m\u001b[1;33m\u001b[0m\u001b[0m\n\u001b[0;32m     34\u001b[0m \u001b[1;33m\u001b[0m\u001b[0m\n\u001b[1;32m---> 35\u001b[1;33m         \u001b[0mdelta\u001b[0m \u001b[1;33m=\u001b[0m \u001b[0mg\u001b[0m\u001b[1;33m.\u001b[0m\u001b[0mgradient\u001b[0m\u001b[1;33m(\u001b[0m\u001b[0mv\u001b[0m\u001b[1;33m,\u001b[0m\u001b[0mfwd\u001b[0m\u001b[1;33m)\u001b[0m\u001b[1;33m\u001b[0m\u001b[1;33m\u001b[0m\u001b[0m\n\u001b[0m\u001b[0;32m     36\u001b[0m         \u001b[1;32mreturn\u001b[0m \u001b[0mdelta\u001b[0m\u001b[1;33m\u001b[0m\u001b[1;33m\u001b[0m\u001b[0m\n",
      "\u001b[1;32md:\\Home\\quant_analytics_torch\\venv\\lib\\site-packages\\tensorflow\\python\\eager\\backprop.py\u001b[0m in \u001b[0;36mgradient\u001b[1;34m(self, target, sources, output_gradients, unconnected_gradients)\u001b[0m\n\u001b[0;32m   1012\u001b[0m     \"\"\"\n\u001b[0;32m   1013\u001b[0m     \u001b[1;32mif\u001b[0m \u001b[0mself\u001b[0m\u001b[1;33m.\u001b[0m\u001b[0m_tape\u001b[0m \u001b[1;32mis\u001b[0m \u001b[1;32mNone\u001b[0m\u001b[1;33m:\u001b[0m\u001b[1;33m\u001b[0m\u001b[1;33m\u001b[0m\u001b[0m\n\u001b[1;32m-> 1014\u001b[1;33m       raise RuntimeError(\"A non-persistent GradientTape can only be used to\"\n\u001b[0m\u001b[0;32m   1015\u001b[0m                          \"compute one set of gradients (or jacobians)\")\n\u001b[0;32m   1016\u001b[0m     \u001b[1;32mif\u001b[0m \u001b[0mself\u001b[0m\u001b[1;33m.\u001b[0m\u001b[0m_recording\u001b[0m\u001b[1;33m:\u001b[0m\u001b[1;33m\u001b[0m\u001b[1;33m\u001b[0m\u001b[0m\n",
      "\u001b[1;31mRuntimeError\u001b[0m: A non-persistent GradientTape can only be used tocompute one set of gradients (or jacobians)"
     ]
    }
   ],
   "source": [
    "with tf.GradientTape() as g:\n",
    "    %timeit binomial_tree_tf_delta(tf.constant(1.,dtype=tf.float64),fwd_t,strike,p,fs2_t,g,tf.constant(N))        "
   ]
  },
  {
   "cell_type": "code",
   "execution_count": 101,
   "metadata": {},
   "outputs": [
    {
     "output_type": "stream",
     "name": "stdout",
     "text": [
      "The tensorboard module is not an IPython extension.\n"
     ]
    }
   ],
   "source": [
    "%load_ext tensorboard"
   ]
  },
  {
   "cell_type": "code",
   "execution_count": 42,
   "metadata": {
    "collapsed": false
   },
   "outputs": [
    {
     "output_type": "display_data",
     "data": {
      "text/plain": "<Figure size 432x288 with 1 Axes>",
      "image/svg+xml": "<?xml version=\"1.0\" encoding=\"utf-8\" standalone=\"no\"?>\r\n<!DOCTYPE svg PUBLIC \"-//W3C//DTD SVG 1.1//EN\"\r\n  \"http://www.w3.org/Graphics/SVG/1.1/DTD/svg11.dtd\">\r\n<!-- Created with matplotlib (https://matplotlib.org/) -->\r\n<svg height=\"262.19625pt\" version=\"1.1\" viewBox=\"0 0 392.14375 262.19625\" width=\"392.14375pt\" xmlns=\"http://www.w3.org/2000/svg\" xmlns:xlink=\"http://www.w3.org/1999/xlink\">\r\n <metadata>\r\n  <rdf:RDF xmlns:cc=\"http://creativecommons.org/ns#\" xmlns:dc=\"http://purl.org/dc/elements/1.1/\" xmlns:rdf=\"http://www.w3.org/1999/02/22-rdf-syntax-ns#\">\r\n   <cc:Work>\r\n    <dc:type rdf:resource=\"http://purl.org/dc/dcmitype/StillImage\"/>\r\n    <dc:date>2020-12-09T10:16:04.770013</dc:date>\r\n    <dc:format>image/svg+xml</dc:format>\r\n    <dc:creator>\r\n     <cc:Agent>\r\n      <dc:title>Matplotlib v3.3.3, https://matplotlib.org/</dc:title>\r\n     </cc:Agent>\r\n    </dc:creator>\r\n   </cc:Work>\r\n  </rdf:RDF>\r\n </metadata>\r\n <defs>\r\n  <style type=\"text/css\">*{stroke-linecap:butt;stroke-linejoin:round;}</style>\r\n </defs>\r\n <g id=\"figure_1\">\r\n  <g id=\"patch_1\">\r\n   <path d=\"M 0 262.19625 \r\nL 392.14375 262.19625 \r\nL 392.14375 0 \r\nL 0 0 \r\nz\r\n\" style=\"fill:none;\"/>\r\n  </g>\r\n  <g id=\"axes_1\">\r\n   <g id=\"patch_2\">\r\n    <path d=\"M 50.14375 224.64 \r\nL 384.94375 224.64 \r\nL 384.94375 7.2 \r\nL 50.14375 7.2 \r\nz\r\n\" style=\"fill:#ffffff;\"/>\r\n   </g>\r\n   <g id=\"matplotlib.axis_1\">\r\n    <g id=\"xtick_1\">\r\n     <g id=\"line2d_1\">\r\n      <defs>\r\n       <path d=\"M 0 0 \r\nL 0 3.5 \r\n\" id=\"mc9904899b5\" style=\"stroke:#000000;stroke-width:0.8;\"/>\r\n      </defs>\r\n      <g>\r\n       <use style=\"stroke:#000000;stroke-width:0.8;\" x=\"62.287552\" xlink:href=\"#mc9904899b5\" y=\"224.64\"/>\r\n      </g>\r\n     </g>\r\n     <g id=\"line2d_2\">\r\n      <defs>\r\n       <path d=\"M 0 0 \r\nL 0 -3.5 \r\n\" id=\"m2737d1e33e\" style=\"stroke:#000000;stroke-width:0.8;\"/>\r\n      </defs>\r\n      <g>\r\n       <use style=\"stroke:#000000;stroke-width:0.8;\" x=\"62.287552\" xlink:href=\"#m2737d1e33e\" y=\"7.2\"/>\r\n      </g>\r\n     </g>\r\n     <g id=\"text_1\">\r\n      <!-- 0 -->\r\n      <g transform=\"translate(59.106302 239.238438)scale(0.1 -0.1)\">\r\n       <defs>\r\n        <path d=\"M 31.78125 66.40625 \r\nQ 24.171875 66.40625 20.328125 58.90625 \r\nQ 16.5 51.421875 16.5 36.375 \r\nQ 16.5 21.390625 20.328125 13.890625 \r\nQ 24.171875 6.390625 31.78125 6.390625 \r\nQ 39.453125 6.390625 43.28125 13.890625 \r\nQ 47.125 21.390625 47.125 36.375 \r\nQ 47.125 51.421875 43.28125 58.90625 \r\nQ 39.453125 66.40625 31.78125 66.40625 \r\nz\r\nM 31.78125 74.21875 \r\nQ 44.046875 74.21875 50.515625 64.515625 \r\nQ 56.984375 54.828125 56.984375 36.375 \r\nQ 56.984375 17.96875 50.515625 8.265625 \r\nQ 44.046875 -1.421875 31.78125 -1.421875 \r\nQ 19.53125 -1.421875 13.0625 8.265625 \r\nQ 6.59375 17.96875 6.59375 36.375 \r\nQ 6.59375 54.828125 13.0625 64.515625 \r\nQ 19.53125 74.21875 31.78125 74.21875 \r\nz\r\n\" id=\"DejaVuSans-48\"/>\r\n       </defs>\r\n       <use xlink:href=\"#DejaVuSans-48\"/>\r\n      </g>\r\n     </g>\r\n    </g>\r\n    <g id=\"xtick_2\">\r\n     <g id=\"line2d_3\">\r\n      <g>\r\n       <use style=\"stroke:#000000;stroke-width:0.8;\" x=\"123.775155\" xlink:href=\"#mc9904899b5\" y=\"224.64\"/>\r\n      </g>\r\n     </g>\r\n     <g id=\"line2d_4\">\r\n      <g>\r\n       <use style=\"stroke:#000000;stroke-width:0.8;\" x=\"123.775155\" xlink:href=\"#m2737d1e33e\" y=\"7.2\"/>\r\n      </g>\r\n     </g>\r\n     <g id=\"text_2\">\r\n      <!-- 100 -->\r\n      <g transform=\"translate(114.231405 239.238438)scale(0.1 -0.1)\">\r\n       <defs>\r\n        <path d=\"M 12.40625 8.296875 \r\nL 28.515625 8.296875 \r\nL 28.515625 63.921875 \r\nL 10.984375 60.40625 \r\nL 10.984375 69.390625 \r\nL 28.421875 72.90625 \r\nL 38.28125 72.90625 \r\nL 38.28125 8.296875 \r\nL 54.390625 8.296875 \r\nL 54.390625 0 \r\nL 12.40625 0 \r\nz\r\n\" id=\"DejaVuSans-49\"/>\r\n       </defs>\r\n       <use xlink:href=\"#DejaVuSans-49\"/>\r\n       <use x=\"63.623047\" xlink:href=\"#DejaVuSans-48\"/>\r\n       <use x=\"127.246094\" xlink:href=\"#DejaVuSans-48\"/>\r\n      </g>\r\n     </g>\r\n    </g>\r\n    <g id=\"xtick_3\">\r\n     <g id=\"line2d_5\">\r\n      <g>\r\n       <use style=\"stroke:#000000;stroke-width:0.8;\" x=\"185.262758\" xlink:href=\"#mc9904899b5\" y=\"224.64\"/>\r\n      </g>\r\n     </g>\r\n     <g id=\"line2d_6\">\r\n      <g>\r\n       <use style=\"stroke:#000000;stroke-width:0.8;\" x=\"185.262758\" xlink:href=\"#m2737d1e33e\" y=\"7.2\"/>\r\n      </g>\r\n     </g>\r\n     <g id=\"text_3\">\r\n      <!-- 200 -->\r\n      <g transform=\"translate(175.719008 239.238438)scale(0.1 -0.1)\">\r\n       <defs>\r\n        <path d=\"M 19.1875 8.296875 \r\nL 53.609375 8.296875 \r\nL 53.609375 0 \r\nL 7.328125 0 \r\nL 7.328125 8.296875 \r\nQ 12.9375 14.109375 22.625 23.890625 \r\nQ 32.328125 33.6875 34.8125 36.53125 \r\nQ 39.546875 41.84375 41.421875 45.53125 \r\nQ 43.3125 49.21875 43.3125 52.78125 \r\nQ 43.3125 58.59375 39.234375 62.25 \r\nQ 35.15625 65.921875 28.609375 65.921875 \r\nQ 23.96875 65.921875 18.8125 64.3125 \r\nQ 13.671875 62.703125 7.8125 59.421875 \r\nL 7.8125 69.390625 \r\nQ 13.765625 71.78125 18.9375 73 \r\nQ 24.125 74.21875 28.421875 74.21875 \r\nQ 39.75 74.21875 46.484375 68.546875 \r\nQ 53.21875 62.890625 53.21875 53.421875 \r\nQ 53.21875 48.921875 51.53125 44.890625 \r\nQ 49.859375 40.875 45.40625 35.40625 \r\nQ 44.1875 33.984375 37.640625 27.21875 \r\nQ 31.109375 20.453125 19.1875 8.296875 \r\nz\r\n\" id=\"DejaVuSans-50\"/>\r\n       </defs>\r\n       <use xlink:href=\"#DejaVuSans-50\"/>\r\n       <use x=\"63.623047\" xlink:href=\"#DejaVuSans-48\"/>\r\n       <use x=\"127.246094\" xlink:href=\"#DejaVuSans-48\"/>\r\n      </g>\r\n     </g>\r\n    </g>\r\n    <g id=\"xtick_4\">\r\n     <g id=\"line2d_7\">\r\n      <g>\r\n       <use style=\"stroke:#000000;stroke-width:0.8;\" x=\"246.750362\" xlink:href=\"#mc9904899b5\" y=\"224.64\"/>\r\n      </g>\r\n     </g>\r\n     <g id=\"line2d_8\">\r\n      <g>\r\n       <use style=\"stroke:#000000;stroke-width:0.8;\" x=\"246.750362\" xlink:href=\"#m2737d1e33e\" y=\"7.2\"/>\r\n      </g>\r\n     </g>\r\n     <g id=\"text_4\">\r\n      <!-- 300 -->\r\n      <g transform=\"translate(237.206612 239.238438)scale(0.1 -0.1)\">\r\n       <defs>\r\n        <path d=\"M 40.578125 39.3125 \r\nQ 47.65625 37.796875 51.625 33 \r\nQ 55.609375 28.21875 55.609375 21.1875 \r\nQ 55.609375 10.40625 48.1875 4.484375 \r\nQ 40.765625 -1.421875 27.09375 -1.421875 \r\nQ 22.515625 -1.421875 17.65625 -0.515625 \r\nQ 12.796875 0.390625 7.625 2.203125 \r\nL 7.625 11.71875 \r\nQ 11.71875 9.328125 16.59375 8.109375 \r\nQ 21.484375 6.890625 26.8125 6.890625 \r\nQ 36.078125 6.890625 40.9375 10.546875 \r\nQ 45.796875 14.203125 45.796875 21.1875 \r\nQ 45.796875 27.640625 41.28125 31.265625 \r\nQ 36.765625 34.90625 28.71875 34.90625 \r\nL 20.21875 34.90625 \r\nL 20.21875 43.015625 \r\nL 29.109375 43.015625 \r\nQ 36.375 43.015625 40.234375 45.921875 \r\nQ 44.09375 48.828125 44.09375 54.296875 \r\nQ 44.09375 59.90625 40.109375 62.90625 \r\nQ 36.140625 65.921875 28.71875 65.921875 \r\nQ 24.65625 65.921875 20.015625 65.03125 \r\nQ 15.375 64.15625 9.8125 62.3125 \r\nL 9.8125 71.09375 \r\nQ 15.4375 72.65625 20.34375 73.4375 \r\nQ 25.25 74.21875 29.59375 74.21875 \r\nQ 40.828125 74.21875 47.359375 69.109375 \r\nQ 53.90625 64.015625 53.90625 55.328125 \r\nQ 53.90625 49.265625 50.4375 45.09375 \r\nQ 46.96875 40.921875 40.578125 39.3125 \r\nz\r\n\" id=\"DejaVuSans-51\"/>\r\n       </defs>\r\n       <use xlink:href=\"#DejaVuSans-51\"/>\r\n       <use x=\"63.623047\" xlink:href=\"#DejaVuSans-48\"/>\r\n       <use x=\"127.246094\" xlink:href=\"#DejaVuSans-48\"/>\r\n      </g>\r\n     </g>\r\n    </g>\r\n    <g id=\"xtick_5\">\r\n     <g id=\"line2d_9\">\r\n      <g>\r\n       <use style=\"stroke:#000000;stroke-width:0.8;\" x=\"308.237965\" xlink:href=\"#mc9904899b5\" y=\"224.64\"/>\r\n      </g>\r\n     </g>\r\n     <g id=\"line2d_10\">\r\n      <g>\r\n       <use style=\"stroke:#000000;stroke-width:0.8;\" x=\"308.237965\" xlink:href=\"#m2737d1e33e\" y=\"7.2\"/>\r\n      </g>\r\n     </g>\r\n     <g id=\"text_5\">\r\n      <!-- 400 -->\r\n      <g transform=\"translate(298.694215 239.238438)scale(0.1 -0.1)\">\r\n       <defs>\r\n        <path d=\"M 37.796875 64.3125 \r\nL 12.890625 25.390625 \r\nL 37.796875 25.390625 \r\nz\r\nM 35.203125 72.90625 \r\nL 47.609375 72.90625 \r\nL 47.609375 25.390625 \r\nL 58.015625 25.390625 \r\nL 58.015625 17.1875 \r\nL 47.609375 17.1875 \r\nL 47.609375 0 \r\nL 37.796875 0 \r\nL 37.796875 17.1875 \r\nL 4.890625 17.1875 \r\nL 4.890625 26.703125 \r\nz\r\n\" id=\"DejaVuSans-52\"/>\r\n       </defs>\r\n       <use xlink:href=\"#DejaVuSans-52\"/>\r\n       <use x=\"63.623047\" xlink:href=\"#DejaVuSans-48\"/>\r\n       <use x=\"127.246094\" xlink:href=\"#DejaVuSans-48\"/>\r\n      </g>\r\n     </g>\r\n    </g>\r\n    <g id=\"xtick_6\">\r\n     <g id=\"line2d_11\">\r\n      <g>\r\n       <use style=\"stroke:#000000;stroke-width:0.8;\" x=\"369.725568\" xlink:href=\"#mc9904899b5\" y=\"224.64\"/>\r\n      </g>\r\n     </g>\r\n     <g id=\"line2d_12\">\r\n      <g>\r\n       <use style=\"stroke:#000000;stroke-width:0.8;\" x=\"369.725568\" xlink:href=\"#m2737d1e33e\" y=\"7.2\"/>\r\n      </g>\r\n     </g>\r\n     <g id=\"text_6\">\r\n      <!-- 500 -->\r\n      <g transform=\"translate(360.181818 239.238438)scale(0.1 -0.1)\">\r\n       <defs>\r\n        <path d=\"M 10.796875 72.90625 \r\nL 49.515625 72.90625 \r\nL 49.515625 64.59375 \r\nL 19.828125 64.59375 \r\nL 19.828125 46.734375 \r\nQ 21.96875 47.46875 24.109375 47.828125 \r\nQ 26.265625 48.1875 28.421875 48.1875 \r\nQ 40.625 48.1875 47.75 41.5 \r\nQ 54.890625 34.8125 54.890625 23.390625 \r\nQ 54.890625 11.625 47.5625 5.09375 \r\nQ 40.234375 -1.421875 26.90625 -1.421875 \r\nQ 22.3125 -1.421875 17.546875 -0.640625 \r\nQ 12.796875 0.140625 7.71875 1.703125 \r\nL 7.71875 11.625 \r\nQ 12.109375 9.234375 16.796875 8.0625 \r\nQ 21.484375 6.890625 26.703125 6.890625 \r\nQ 35.15625 6.890625 40.078125 11.328125 \r\nQ 45.015625 15.765625 45.015625 23.390625 \r\nQ 45.015625 31 40.078125 35.4375 \r\nQ 35.15625 39.890625 26.703125 39.890625 \r\nQ 22.75 39.890625 18.8125 39.015625 \r\nQ 14.890625 38.140625 10.796875 36.28125 \r\nz\r\n\" id=\"DejaVuSans-53\"/>\r\n       </defs>\r\n       <use xlink:href=\"#DejaVuSans-53\"/>\r\n       <use x=\"63.623047\" xlink:href=\"#DejaVuSans-48\"/>\r\n       <use x=\"127.246094\" xlink:href=\"#DejaVuSans-48\"/>\r\n      </g>\r\n     </g>\r\n    </g>\r\n    <g id=\"text_7\">\r\n     <!-- Discretisation steps -->\r\n     <g transform=\"translate(168.326563 252.916563)scale(0.1 -0.1)\">\r\n      <defs>\r\n       <path d=\"M 19.671875 64.796875 \r\nL 19.671875 8.109375 \r\nL 31.59375 8.109375 \r\nQ 46.6875 8.109375 53.6875 14.9375 \r\nQ 60.6875 21.78125 60.6875 36.53125 \r\nQ 60.6875 51.171875 53.6875 57.984375 \r\nQ 46.6875 64.796875 31.59375 64.796875 \r\nz\r\nM 9.8125 72.90625 \r\nL 30.078125 72.90625 \r\nQ 51.265625 72.90625 61.171875 64.09375 \r\nQ 71.09375 55.28125 71.09375 36.53125 \r\nQ 71.09375 17.671875 61.125 8.828125 \r\nQ 51.171875 0 30.078125 0 \r\nL 9.8125 0 \r\nz\r\n\" id=\"DejaVuSans-68\"/>\r\n       <path d=\"M 9.421875 54.6875 \r\nL 18.40625 54.6875 \r\nL 18.40625 0 \r\nL 9.421875 0 \r\nz\r\nM 9.421875 75.984375 \r\nL 18.40625 75.984375 \r\nL 18.40625 64.59375 \r\nL 9.421875 64.59375 \r\nz\r\n\" id=\"DejaVuSans-105\"/>\r\n       <path d=\"M 44.28125 53.078125 \r\nL 44.28125 44.578125 \r\nQ 40.484375 46.53125 36.375 47.5 \r\nQ 32.28125 48.484375 27.875 48.484375 \r\nQ 21.1875 48.484375 17.84375 46.4375 \r\nQ 14.5 44.390625 14.5 40.28125 \r\nQ 14.5 37.15625 16.890625 35.375 \r\nQ 19.28125 33.59375 26.515625 31.984375 \r\nL 29.59375 31.296875 \r\nQ 39.15625 29.25 43.1875 25.515625 \r\nQ 47.21875 21.78125 47.21875 15.09375 \r\nQ 47.21875 7.46875 41.1875 3.015625 \r\nQ 35.15625 -1.421875 24.609375 -1.421875 \r\nQ 20.21875 -1.421875 15.453125 -0.5625 \r\nQ 10.6875 0.296875 5.421875 2 \r\nL 5.421875 11.28125 \r\nQ 10.40625 8.6875 15.234375 7.390625 \r\nQ 20.0625 6.109375 24.8125 6.109375 \r\nQ 31.15625 6.109375 34.5625 8.28125 \r\nQ 37.984375 10.453125 37.984375 14.40625 \r\nQ 37.984375 18.0625 35.515625 20.015625 \r\nQ 33.0625 21.96875 24.703125 23.78125 \r\nL 21.578125 24.515625 \r\nQ 13.234375 26.265625 9.515625 29.90625 \r\nQ 5.8125 33.546875 5.8125 39.890625 \r\nQ 5.8125 47.609375 11.28125 51.796875 \r\nQ 16.75 56 26.8125 56 \r\nQ 31.78125 56 36.171875 55.265625 \r\nQ 40.578125 54.546875 44.28125 53.078125 \r\nz\r\n\" id=\"DejaVuSans-115\"/>\r\n       <path d=\"M 48.78125 52.59375 \r\nL 48.78125 44.1875 \r\nQ 44.96875 46.296875 41.140625 47.34375 \r\nQ 37.3125 48.390625 33.40625 48.390625 \r\nQ 24.65625 48.390625 19.8125 42.84375 \r\nQ 14.984375 37.3125 14.984375 27.296875 \r\nQ 14.984375 17.28125 19.8125 11.734375 \r\nQ 24.65625 6.203125 33.40625 6.203125 \r\nQ 37.3125 6.203125 41.140625 7.25 \r\nQ 44.96875 8.296875 48.78125 10.40625 \r\nL 48.78125 2.09375 \r\nQ 45.015625 0.34375 40.984375 -0.53125 \r\nQ 36.96875 -1.421875 32.421875 -1.421875 \r\nQ 20.0625 -1.421875 12.78125 6.34375 \r\nQ 5.515625 14.109375 5.515625 27.296875 \r\nQ 5.515625 40.671875 12.859375 48.328125 \r\nQ 20.21875 56 33.015625 56 \r\nQ 37.15625 56 41.109375 55.140625 \r\nQ 45.0625 54.296875 48.78125 52.59375 \r\nz\r\n\" id=\"DejaVuSans-99\"/>\r\n       <path d=\"M 41.109375 46.296875 \r\nQ 39.59375 47.171875 37.8125 47.578125 \r\nQ 36.03125 48 33.890625 48 \r\nQ 26.265625 48 22.1875 43.046875 \r\nQ 18.109375 38.09375 18.109375 28.8125 \r\nL 18.109375 0 \r\nL 9.078125 0 \r\nL 9.078125 54.6875 \r\nL 18.109375 54.6875 \r\nL 18.109375 46.1875 \r\nQ 20.953125 51.171875 25.484375 53.578125 \r\nQ 30.03125 56 36.53125 56 \r\nQ 37.453125 56 38.578125 55.875 \r\nQ 39.703125 55.765625 41.0625 55.515625 \r\nz\r\n\" id=\"DejaVuSans-114\"/>\r\n       <path d=\"M 56.203125 29.59375 \r\nL 56.203125 25.203125 \r\nL 14.890625 25.203125 \r\nQ 15.484375 15.921875 20.484375 11.0625 \r\nQ 25.484375 6.203125 34.421875 6.203125 \r\nQ 39.59375 6.203125 44.453125 7.46875 \r\nQ 49.3125 8.734375 54.109375 11.28125 \r\nL 54.109375 2.78125 \r\nQ 49.265625 0.734375 44.1875 -0.34375 \r\nQ 39.109375 -1.421875 33.890625 -1.421875 \r\nQ 20.796875 -1.421875 13.15625 6.1875 \r\nQ 5.515625 13.8125 5.515625 26.8125 \r\nQ 5.515625 40.234375 12.765625 48.109375 \r\nQ 20.015625 56 32.328125 56 \r\nQ 43.359375 56 49.78125 48.890625 \r\nQ 56.203125 41.796875 56.203125 29.59375 \r\nz\r\nM 47.21875 32.234375 \r\nQ 47.125 39.59375 43.09375 43.984375 \r\nQ 39.0625 48.390625 32.421875 48.390625 \r\nQ 24.90625 48.390625 20.390625 44.140625 \r\nQ 15.875 39.890625 15.1875 32.171875 \r\nz\r\n\" id=\"DejaVuSans-101\"/>\r\n       <path d=\"M 18.3125 70.21875 \r\nL 18.3125 54.6875 \r\nL 36.8125 54.6875 \r\nL 36.8125 47.703125 \r\nL 18.3125 47.703125 \r\nL 18.3125 18.015625 \r\nQ 18.3125 11.328125 20.140625 9.421875 \r\nQ 21.96875 7.515625 27.59375 7.515625 \r\nL 36.8125 7.515625 \r\nL 36.8125 0 \r\nL 27.59375 0 \r\nQ 17.1875 0 13.234375 3.875 \r\nQ 9.28125 7.765625 9.28125 18.015625 \r\nL 9.28125 47.703125 \r\nL 2.6875 47.703125 \r\nL 2.6875 54.6875 \r\nL 9.28125 54.6875 \r\nL 9.28125 70.21875 \r\nz\r\n\" id=\"DejaVuSans-116\"/>\r\n       <path d=\"M 34.28125 27.484375 \r\nQ 23.390625 27.484375 19.1875 25 \r\nQ 14.984375 22.515625 14.984375 16.5 \r\nQ 14.984375 11.71875 18.140625 8.90625 \r\nQ 21.296875 6.109375 26.703125 6.109375 \r\nQ 34.1875 6.109375 38.703125 11.40625 \r\nQ 43.21875 16.703125 43.21875 25.484375 \r\nL 43.21875 27.484375 \r\nz\r\nM 52.203125 31.203125 \r\nL 52.203125 0 \r\nL 43.21875 0 \r\nL 43.21875 8.296875 \r\nQ 40.140625 3.328125 35.546875 0.953125 \r\nQ 30.953125 -1.421875 24.3125 -1.421875 \r\nQ 15.921875 -1.421875 10.953125 3.296875 \r\nQ 6 8.015625 6 15.921875 \r\nQ 6 25.140625 12.171875 29.828125 \r\nQ 18.359375 34.515625 30.609375 34.515625 \r\nL 43.21875 34.515625 \r\nL 43.21875 35.40625 \r\nQ 43.21875 41.609375 39.140625 45 \r\nQ 35.0625 48.390625 27.6875 48.390625 \r\nQ 23 48.390625 18.546875 47.265625 \r\nQ 14.109375 46.140625 10.015625 43.890625 \r\nL 10.015625 52.203125 \r\nQ 14.9375 54.109375 19.578125 55.046875 \r\nQ 24.21875 56 28.609375 56 \r\nQ 40.484375 56 46.34375 49.84375 \r\nQ 52.203125 43.703125 52.203125 31.203125 \r\nz\r\n\" id=\"DejaVuSans-97\"/>\r\n       <path d=\"M 30.609375 48.390625 \r\nQ 23.390625 48.390625 19.1875 42.75 \r\nQ 14.984375 37.109375 14.984375 27.296875 \r\nQ 14.984375 17.484375 19.15625 11.84375 \r\nQ 23.34375 6.203125 30.609375 6.203125 \r\nQ 37.796875 6.203125 41.984375 11.859375 \r\nQ 46.1875 17.53125 46.1875 27.296875 \r\nQ 46.1875 37.015625 41.984375 42.703125 \r\nQ 37.796875 48.390625 30.609375 48.390625 \r\nz\r\nM 30.609375 56 \r\nQ 42.328125 56 49.015625 48.375 \r\nQ 55.71875 40.765625 55.71875 27.296875 \r\nQ 55.71875 13.875 49.015625 6.21875 \r\nQ 42.328125 -1.421875 30.609375 -1.421875 \r\nQ 18.84375 -1.421875 12.171875 6.21875 \r\nQ 5.515625 13.875 5.515625 27.296875 \r\nQ 5.515625 40.765625 12.171875 48.375 \r\nQ 18.84375 56 30.609375 56 \r\nz\r\n\" id=\"DejaVuSans-111\"/>\r\n       <path d=\"M 54.890625 33.015625 \r\nL 54.890625 0 \r\nL 45.90625 0 \r\nL 45.90625 32.71875 \r\nQ 45.90625 40.484375 42.875 44.328125 \r\nQ 39.84375 48.1875 33.796875 48.1875 \r\nQ 26.515625 48.1875 22.3125 43.546875 \r\nQ 18.109375 38.921875 18.109375 30.90625 \r\nL 18.109375 0 \r\nL 9.078125 0 \r\nL 9.078125 54.6875 \r\nL 18.109375 54.6875 \r\nL 18.109375 46.1875 \r\nQ 21.34375 51.125 25.703125 53.5625 \r\nQ 30.078125 56 35.796875 56 \r\nQ 45.21875 56 50.046875 50.171875 \r\nQ 54.890625 44.34375 54.890625 33.015625 \r\nz\r\n\" id=\"DejaVuSans-110\"/>\r\n       <path id=\"DejaVuSans-32\"/>\r\n       <path d=\"M 18.109375 8.203125 \r\nL 18.109375 -20.796875 \r\nL 9.078125 -20.796875 \r\nL 9.078125 54.6875 \r\nL 18.109375 54.6875 \r\nL 18.109375 46.390625 \r\nQ 20.953125 51.265625 25.265625 53.625 \r\nQ 29.59375 56 35.59375 56 \r\nQ 45.5625 56 51.78125 48.09375 \r\nQ 58.015625 40.1875 58.015625 27.296875 \r\nQ 58.015625 14.40625 51.78125 6.484375 \r\nQ 45.5625 -1.421875 35.59375 -1.421875 \r\nQ 29.59375 -1.421875 25.265625 0.953125 \r\nQ 20.953125 3.328125 18.109375 8.203125 \r\nz\r\nM 48.6875 27.296875 \r\nQ 48.6875 37.203125 44.609375 42.84375 \r\nQ 40.53125 48.484375 33.40625 48.484375 \r\nQ 26.265625 48.484375 22.1875 42.84375 \r\nQ 18.109375 37.203125 18.109375 27.296875 \r\nQ 18.109375 17.390625 22.1875 11.75 \r\nQ 26.265625 6.109375 33.40625 6.109375 \r\nQ 40.53125 6.109375 44.609375 11.75 \r\nQ 48.6875 17.390625 48.6875 27.296875 \r\nz\r\n\" id=\"DejaVuSans-112\"/>\r\n      </defs>\r\n      <use xlink:href=\"#DejaVuSans-68\"/>\r\n      <use x=\"77.001953\" xlink:href=\"#DejaVuSans-105\"/>\r\n      <use x=\"104.785156\" xlink:href=\"#DejaVuSans-115\"/>\r\n      <use x=\"156.884766\" xlink:href=\"#DejaVuSans-99\"/>\r\n      <use x=\"211.865234\" xlink:href=\"#DejaVuSans-114\"/>\r\n      <use x=\"250.728516\" xlink:href=\"#DejaVuSans-101\"/>\r\n      <use x=\"312.251953\" xlink:href=\"#DejaVuSans-116\"/>\r\n      <use x=\"351.460938\" xlink:href=\"#DejaVuSans-105\"/>\r\n      <use x=\"379.244141\" xlink:href=\"#DejaVuSans-115\"/>\r\n      <use x=\"431.34375\" xlink:href=\"#DejaVuSans-97\"/>\r\n      <use x=\"492.623047\" xlink:href=\"#DejaVuSans-116\"/>\r\n      <use x=\"531.832031\" xlink:href=\"#DejaVuSans-105\"/>\r\n      <use x=\"559.615234\" xlink:href=\"#DejaVuSans-111\"/>\r\n      <use x=\"620.796875\" xlink:href=\"#DejaVuSans-110\"/>\r\n      <use x=\"684.175781\" xlink:href=\"#DejaVuSans-32\"/>\r\n      <use x=\"715.962891\" xlink:href=\"#DejaVuSans-115\"/>\r\n      <use x=\"768.0625\" xlink:href=\"#DejaVuSans-116\"/>\r\n      <use x=\"807.271484\" xlink:href=\"#DejaVuSans-101\"/>\r\n      <use x=\"868.794922\" xlink:href=\"#DejaVuSans-112\"/>\r\n      <use x=\"932.271484\" xlink:href=\"#DejaVuSans-115\"/>\r\n     </g>\r\n    </g>\r\n   </g>\r\n   <g id=\"matplotlib.axis_2\">\r\n    <g id=\"ytick_1\">\r\n     <g id=\"line2d_13\">\r\n      <path clip-path=\"url(#pac8c47d585)\" d=\"M 50.14375 202.981362 \r\nL 384.94375 202.981362 \r\n\" style=\"fill:none;stroke:#000000;stroke-dasharray:1.85,0.8;stroke-dashoffset:0;stroke-width:0.5;\"/>\r\n     </g>\r\n     <g id=\"line2d_14\">\r\n      <defs>\r\n       <path d=\"M 0 0 \r\nL -3.5 0 \r\n\" id=\"m9b0e2b965d\" style=\"stroke:#000000;stroke-width:0.8;\"/>\r\n      </defs>\r\n      <g>\r\n       <use style=\"stroke:#000000;stroke-width:0.8;\" x=\"50.14375\" xlink:href=\"#m9b0e2b965d\" y=\"202.981362\"/>\r\n      </g>\r\n     </g>\r\n     <g id=\"line2d_15\">\r\n      <defs>\r\n       <path d=\"M 0 0 \r\nL 3.5 0 \r\n\" id=\"m93a369334b\" style=\"stroke:#000000;stroke-width:0.8;\"/>\r\n      </defs>\r\n      <g>\r\n       <use style=\"stroke:#000000;stroke-width:0.8;\" x=\"384.94375\" xlink:href=\"#m93a369334b\" y=\"202.981362\"/>\r\n      </g>\r\n     </g>\r\n     <g id=\"text_8\">\r\n      <!-- 15.0 -->\r\n      <g transform=\"translate(20.878125 206.780581)scale(0.1 -0.1)\">\r\n       <defs>\r\n        <path d=\"M 10.6875 12.40625 \r\nL 21 12.40625 \r\nL 21 0 \r\nL 10.6875 0 \r\nz\r\n\" id=\"DejaVuSans-46\"/>\r\n       </defs>\r\n       <use xlink:href=\"#DejaVuSans-49\"/>\r\n       <use x=\"63.623047\" xlink:href=\"#DejaVuSans-53\"/>\r\n       <use x=\"127.246094\" xlink:href=\"#DejaVuSans-46\"/>\r\n       <use x=\"159.033203\" xlink:href=\"#DejaVuSans-48\"/>\r\n      </g>\r\n     </g>\r\n    </g>\r\n    <g id=\"ytick_2\">\r\n     <g id=\"line2d_16\">\r\n      <path clip-path=\"url(#pac8c47d585)\" d=\"M 50.14375 166.471785 \r\nL 384.94375 166.471785 \r\n\" style=\"fill:none;stroke:#000000;stroke-dasharray:1.85,0.8;stroke-dashoffset:0;stroke-width:0.5;\"/>\r\n     </g>\r\n     <g id=\"line2d_17\">\r\n      <g>\r\n       <use style=\"stroke:#000000;stroke-width:0.8;\" x=\"50.14375\" xlink:href=\"#m9b0e2b965d\" y=\"166.471785\"/>\r\n      </g>\r\n     </g>\r\n     <g id=\"line2d_18\">\r\n      <g>\r\n       <use style=\"stroke:#000000;stroke-width:0.8;\" x=\"384.94375\" xlink:href=\"#m93a369334b\" y=\"166.471785\"/>\r\n      </g>\r\n     </g>\r\n     <g id=\"text_9\">\r\n      <!-- 15.2 -->\r\n      <g transform=\"translate(20.878125 170.271004)scale(0.1 -0.1)\">\r\n       <use xlink:href=\"#DejaVuSans-49\"/>\r\n       <use x=\"63.623047\" xlink:href=\"#DejaVuSans-53\"/>\r\n       <use x=\"127.246094\" xlink:href=\"#DejaVuSans-46\"/>\r\n       <use x=\"159.033203\" xlink:href=\"#DejaVuSans-50\"/>\r\n      </g>\r\n     </g>\r\n    </g>\r\n    <g id=\"ytick_3\">\r\n     <g id=\"line2d_19\">\r\n      <path clip-path=\"url(#pac8c47d585)\" d=\"M 50.14375 129.962209 \r\nL 384.94375 129.962209 \r\n\" style=\"fill:none;stroke:#000000;stroke-dasharray:1.85,0.8;stroke-dashoffset:0;stroke-width:0.5;\"/>\r\n     </g>\r\n     <g id=\"line2d_20\">\r\n      <g>\r\n       <use style=\"stroke:#000000;stroke-width:0.8;\" x=\"50.14375\" xlink:href=\"#m9b0e2b965d\" y=\"129.962209\"/>\r\n      </g>\r\n     </g>\r\n     <g id=\"line2d_21\">\r\n      <g>\r\n       <use style=\"stroke:#000000;stroke-width:0.8;\" x=\"384.94375\" xlink:href=\"#m93a369334b\" y=\"129.962209\"/>\r\n      </g>\r\n     </g>\r\n     <g id=\"text_10\">\r\n      <!-- 15.4 -->\r\n      <g transform=\"translate(20.878125 133.761427)scale(0.1 -0.1)\">\r\n       <use xlink:href=\"#DejaVuSans-49\"/>\r\n       <use x=\"63.623047\" xlink:href=\"#DejaVuSans-53\"/>\r\n       <use x=\"127.246094\" xlink:href=\"#DejaVuSans-46\"/>\r\n       <use x=\"159.033203\" xlink:href=\"#DejaVuSans-52\"/>\r\n      </g>\r\n     </g>\r\n    </g>\r\n    <g id=\"ytick_4\">\r\n     <g id=\"line2d_22\">\r\n      <path clip-path=\"url(#pac8c47d585)\" d=\"M 50.14375 93.452632 \r\nL 384.94375 93.452632 \r\n\" style=\"fill:none;stroke:#000000;stroke-dasharray:1.85,0.8;stroke-dashoffset:0;stroke-width:0.5;\"/>\r\n     </g>\r\n     <g id=\"line2d_23\">\r\n      <g>\r\n       <use style=\"stroke:#000000;stroke-width:0.8;\" x=\"50.14375\" xlink:href=\"#m9b0e2b965d\" y=\"93.452632\"/>\r\n      </g>\r\n     </g>\r\n     <g id=\"line2d_24\">\r\n      <g>\r\n       <use style=\"stroke:#000000;stroke-width:0.8;\" x=\"384.94375\" xlink:href=\"#m93a369334b\" y=\"93.452632\"/>\r\n      </g>\r\n     </g>\r\n     <g id=\"text_11\">\r\n      <!-- 15.6 -->\r\n      <g transform=\"translate(20.878125 97.251851)scale(0.1 -0.1)\">\r\n       <defs>\r\n        <path d=\"M 33.015625 40.375 \r\nQ 26.375 40.375 22.484375 35.828125 \r\nQ 18.609375 31.296875 18.609375 23.390625 \r\nQ 18.609375 15.53125 22.484375 10.953125 \r\nQ 26.375 6.390625 33.015625 6.390625 \r\nQ 39.65625 6.390625 43.53125 10.953125 \r\nQ 47.40625 15.53125 47.40625 23.390625 \r\nQ 47.40625 31.296875 43.53125 35.828125 \r\nQ 39.65625 40.375 33.015625 40.375 \r\nz\r\nM 52.59375 71.296875 \r\nL 52.59375 62.3125 \r\nQ 48.875 64.0625 45.09375 64.984375 \r\nQ 41.3125 65.921875 37.59375 65.921875 \r\nQ 27.828125 65.921875 22.671875 59.328125 \r\nQ 17.53125 52.734375 16.796875 39.40625 \r\nQ 19.671875 43.65625 24.015625 45.921875 \r\nQ 28.375 48.1875 33.59375 48.1875 \r\nQ 44.578125 48.1875 50.953125 41.515625 \r\nQ 57.328125 34.859375 57.328125 23.390625 \r\nQ 57.328125 12.15625 50.6875 5.359375 \r\nQ 44.046875 -1.421875 33.015625 -1.421875 \r\nQ 20.359375 -1.421875 13.671875 8.265625 \r\nQ 6.984375 17.96875 6.984375 36.375 \r\nQ 6.984375 53.65625 15.1875 63.9375 \r\nQ 23.390625 74.21875 37.203125 74.21875 \r\nQ 40.921875 74.21875 44.703125 73.484375 \r\nQ 48.484375 72.75 52.59375 71.296875 \r\nz\r\n\" id=\"DejaVuSans-54\"/>\r\n       </defs>\r\n       <use xlink:href=\"#DejaVuSans-49\"/>\r\n       <use x=\"63.623047\" xlink:href=\"#DejaVuSans-53\"/>\r\n       <use x=\"127.246094\" xlink:href=\"#DejaVuSans-46\"/>\r\n       <use x=\"159.033203\" xlink:href=\"#DejaVuSans-54\"/>\r\n      </g>\r\n     </g>\r\n    </g>\r\n    <g id=\"ytick_5\">\r\n     <g id=\"line2d_25\">\r\n      <path clip-path=\"url(#pac8c47d585)\" d=\"M 50.14375 56.943055 \r\nL 384.94375 56.943055 \r\n\" style=\"fill:none;stroke:#000000;stroke-dasharray:1.85,0.8;stroke-dashoffset:0;stroke-width:0.5;\"/>\r\n     </g>\r\n     <g id=\"line2d_26\">\r\n      <g>\r\n       <use style=\"stroke:#000000;stroke-width:0.8;\" x=\"50.14375\" xlink:href=\"#m9b0e2b965d\" y=\"56.943055\"/>\r\n      </g>\r\n     </g>\r\n     <g id=\"line2d_27\">\r\n      <g>\r\n       <use style=\"stroke:#000000;stroke-width:0.8;\" x=\"384.94375\" xlink:href=\"#m93a369334b\" y=\"56.943055\"/>\r\n      </g>\r\n     </g>\r\n     <g id=\"text_12\">\r\n      <!-- 15.8 -->\r\n      <g transform=\"translate(20.878125 60.742274)scale(0.1 -0.1)\">\r\n       <defs>\r\n        <path d=\"M 31.78125 34.625 \r\nQ 24.75 34.625 20.71875 30.859375 \r\nQ 16.703125 27.09375 16.703125 20.515625 \r\nQ 16.703125 13.921875 20.71875 10.15625 \r\nQ 24.75 6.390625 31.78125 6.390625 \r\nQ 38.8125 6.390625 42.859375 10.171875 \r\nQ 46.921875 13.96875 46.921875 20.515625 \r\nQ 46.921875 27.09375 42.890625 30.859375 \r\nQ 38.875 34.625 31.78125 34.625 \r\nz\r\nM 21.921875 38.8125 \r\nQ 15.578125 40.375 12.03125 44.71875 \r\nQ 8.5 49.078125 8.5 55.328125 \r\nQ 8.5 64.0625 14.71875 69.140625 \r\nQ 20.953125 74.21875 31.78125 74.21875 \r\nQ 42.671875 74.21875 48.875 69.140625 \r\nQ 55.078125 64.0625 55.078125 55.328125 \r\nQ 55.078125 49.078125 51.53125 44.71875 \r\nQ 48 40.375 41.703125 38.8125 \r\nQ 48.828125 37.15625 52.796875 32.3125 \r\nQ 56.78125 27.484375 56.78125 20.515625 \r\nQ 56.78125 9.90625 50.3125 4.234375 \r\nQ 43.84375 -1.421875 31.78125 -1.421875 \r\nQ 19.734375 -1.421875 13.25 4.234375 \r\nQ 6.78125 9.90625 6.78125 20.515625 \r\nQ 6.78125 27.484375 10.78125 32.3125 \r\nQ 14.796875 37.15625 21.921875 38.8125 \r\nz\r\nM 18.3125 54.390625 \r\nQ 18.3125 48.734375 21.84375 45.5625 \r\nQ 25.390625 42.390625 31.78125 42.390625 \r\nQ 38.140625 42.390625 41.71875 45.5625 \r\nQ 45.3125 48.734375 45.3125 54.390625 \r\nQ 45.3125 60.0625 41.71875 63.234375 \r\nQ 38.140625 66.40625 31.78125 66.40625 \r\nQ 25.390625 66.40625 21.84375 63.234375 \r\nQ 18.3125 60.0625 18.3125 54.390625 \r\nz\r\n\" id=\"DejaVuSans-56\"/>\r\n       </defs>\r\n       <use xlink:href=\"#DejaVuSans-49\"/>\r\n       <use x=\"63.623047\" xlink:href=\"#DejaVuSans-53\"/>\r\n       <use x=\"127.246094\" xlink:href=\"#DejaVuSans-46\"/>\r\n       <use x=\"159.033203\" xlink:href=\"#DejaVuSans-56\"/>\r\n      </g>\r\n     </g>\r\n    </g>\r\n    <g id=\"ytick_6\">\r\n     <g id=\"line2d_28\">\r\n      <path clip-path=\"url(#pac8c47d585)\" d=\"M 50.14375 20.433479 \r\nL 384.94375 20.433479 \r\n\" style=\"fill:none;stroke:#000000;stroke-dasharray:1.85,0.8;stroke-dashoffset:0;stroke-width:0.5;\"/>\r\n     </g>\r\n     <g id=\"line2d_29\">\r\n      <g>\r\n       <use style=\"stroke:#000000;stroke-width:0.8;\" x=\"50.14375\" xlink:href=\"#m9b0e2b965d\" y=\"20.433479\"/>\r\n      </g>\r\n     </g>\r\n     <g id=\"line2d_30\">\r\n      <g>\r\n       <use style=\"stroke:#000000;stroke-width:0.8;\" x=\"384.94375\" xlink:href=\"#m93a369334b\" y=\"20.433479\"/>\r\n      </g>\r\n     </g>\r\n     <g id=\"text_13\">\r\n      <!-- 16.0 -->\r\n      <g transform=\"translate(20.878125 24.232698)scale(0.1 -0.1)\">\r\n       <use xlink:href=\"#DejaVuSans-49\"/>\r\n       <use x=\"63.623047\" xlink:href=\"#DejaVuSans-54\"/>\r\n       <use x=\"127.246094\" xlink:href=\"#DejaVuSans-46\"/>\r\n       <use x=\"159.033203\" xlink:href=\"#DejaVuSans-48\"/>\r\n      </g>\r\n     </g>\r\n    </g>\r\n    <g id=\"text_14\">\r\n     <!-- American option value -->\r\n     <g transform=\"translate(14.798438 172.360625)rotate(-90)scale(0.1 -0.1)\">\r\n      <defs>\r\n       <path d=\"M 34.1875 63.1875 \r\nL 20.796875 26.90625 \r\nL 47.609375 26.90625 \r\nz\r\nM 28.609375 72.90625 \r\nL 39.796875 72.90625 \r\nL 67.578125 0 \r\nL 57.328125 0 \r\nL 50.6875 18.703125 \r\nL 17.828125 18.703125 \r\nL 11.1875 0 \r\nL 0.78125 0 \r\nz\r\n\" id=\"DejaVuSans-65\"/>\r\n       <path d=\"M 52 44.1875 \r\nQ 55.375 50.25 60.0625 53.125 \r\nQ 64.75 56 71.09375 56 \r\nQ 79.640625 56 84.28125 50.015625 \r\nQ 88.921875 44.046875 88.921875 33.015625 \r\nL 88.921875 0 \r\nL 79.890625 0 \r\nL 79.890625 32.71875 \r\nQ 79.890625 40.578125 77.09375 44.375 \r\nQ 74.3125 48.1875 68.609375 48.1875 \r\nQ 61.625 48.1875 57.5625 43.546875 \r\nQ 53.515625 38.921875 53.515625 30.90625 \r\nL 53.515625 0 \r\nL 44.484375 0 \r\nL 44.484375 32.71875 \r\nQ 44.484375 40.625 41.703125 44.40625 \r\nQ 38.921875 48.1875 33.109375 48.1875 \r\nQ 26.21875 48.1875 22.15625 43.53125 \r\nQ 18.109375 38.875 18.109375 30.90625 \r\nL 18.109375 0 \r\nL 9.078125 0 \r\nL 9.078125 54.6875 \r\nL 18.109375 54.6875 \r\nL 18.109375 46.1875 \r\nQ 21.1875 51.21875 25.484375 53.609375 \r\nQ 29.78125 56 35.6875 56 \r\nQ 41.65625 56 45.828125 52.96875 \r\nQ 50 49.953125 52 44.1875 \r\nz\r\n\" id=\"DejaVuSans-109\"/>\r\n       <path d=\"M 2.984375 54.6875 \r\nL 12.5 54.6875 \r\nL 29.59375 8.796875 \r\nL 46.6875 54.6875 \r\nL 56.203125 54.6875 \r\nL 35.6875 0 \r\nL 23.484375 0 \r\nz\r\n\" id=\"DejaVuSans-118\"/>\r\n       <path d=\"M 9.421875 75.984375 \r\nL 18.40625 75.984375 \r\nL 18.40625 0 \r\nL 9.421875 0 \r\nz\r\n\" id=\"DejaVuSans-108\"/>\r\n       <path d=\"M 8.5 21.578125 \r\nL 8.5 54.6875 \r\nL 17.484375 54.6875 \r\nL 17.484375 21.921875 \r\nQ 17.484375 14.15625 20.5 10.265625 \r\nQ 23.53125 6.390625 29.59375 6.390625 \r\nQ 36.859375 6.390625 41.078125 11.03125 \r\nQ 45.3125 15.671875 45.3125 23.6875 \r\nL 45.3125 54.6875 \r\nL 54.296875 54.6875 \r\nL 54.296875 0 \r\nL 45.3125 0 \r\nL 45.3125 8.40625 \r\nQ 42.046875 3.421875 37.71875 1 \r\nQ 33.40625 -1.421875 27.6875 -1.421875 \r\nQ 18.265625 -1.421875 13.375 4.4375 \r\nQ 8.5 10.296875 8.5 21.578125 \r\nz\r\nM 31.109375 56 \r\nz\r\n\" id=\"DejaVuSans-117\"/>\r\n      </defs>\r\n      <use xlink:href=\"#DejaVuSans-65\"/>\r\n      <use x=\"68.408203\" xlink:href=\"#DejaVuSans-109\"/>\r\n      <use x=\"165.820312\" xlink:href=\"#DejaVuSans-101\"/>\r\n      <use x=\"227.34375\" xlink:href=\"#DejaVuSans-114\"/>\r\n      <use x=\"268.457031\" xlink:href=\"#DejaVuSans-105\"/>\r\n      <use x=\"296.240234\" xlink:href=\"#DejaVuSans-99\"/>\r\n      <use x=\"351.220703\" xlink:href=\"#DejaVuSans-97\"/>\r\n      <use x=\"412.5\" xlink:href=\"#DejaVuSans-110\"/>\r\n      <use x=\"475.878906\" xlink:href=\"#DejaVuSans-32\"/>\r\n      <use x=\"507.666016\" xlink:href=\"#DejaVuSans-111\"/>\r\n      <use x=\"568.847656\" xlink:href=\"#DejaVuSans-112\"/>\r\n      <use x=\"632.324219\" xlink:href=\"#DejaVuSans-116\"/>\r\n      <use x=\"671.533203\" xlink:href=\"#DejaVuSans-105\"/>\r\n      <use x=\"699.316406\" xlink:href=\"#DejaVuSans-111\"/>\r\n      <use x=\"760.498047\" xlink:href=\"#DejaVuSans-110\"/>\r\n      <use x=\"823.876953\" xlink:href=\"#DejaVuSans-32\"/>\r\n      <use x=\"855.664062\" xlink:href=\"#DejaVuSans-118\"/>\r\n      <use x=\"914.84375\" xlink:href=\"#DejaVuSans-97\"/>\r\n      <use x=\"976.123047\" xlink:href=\"#DejaVuSans-108\"/>\r\n      <use x=\"1003.90625\" xlink:href=\"#DejaVuSans-117\"/>\r\n      <use x=\"1067.285156\" xlink:href=\"#DejaVuSans-101\"/>\r\n     </g>\r\n    </g>\r\n   </g>\r\n   <g id=\"line2d_31\">\r\n    <path clip-path=\"url(#pac8c47d585)\" d=\"M 65.361932 17.083636 \r\nL 68.436312 214.756364 \r\nL 71.510692 110.897055 \r\nL 74.585072 186.069758 \r\nL 77.659452 129.558376 \r\nL 80.733833 176.640856 \r\nL 83.808213 137.486179 \r\nL 86.882593 171.783914 \r\nL 89.956973 141.884838 \r\nL 93.031353 168.877164 \r\nL 96.105733 144.7201 \r\nL 99.180114 166.991181 \r\nL 102.254494 146.682929 \r\nL 105.328874 165.613974 \r\nL 108.403254 148.097641 \r\nL 111.477634 164.577808 \r\nL 114.552014 149.173948 \r\nL 117.626395 163.757208 \r\nL 120.700775 150.024424 \r\nL 123.775155 163.11779 \r\nL 126.849535 150.721991 \r\nL 129.923915 162.588386 \r\nL 132.998295 151.296068 \r\nL 136.072676 162.147791 \r\nL 139.147056 151.777667 \r\nL 142.221436 161.78002 \r\nL 145.295816 152.194298 \r\nL 148.370196 161.468244 \r\nL 151.444576 152.54779 \r\nL 154.518957 161.190416 \r\nL 157.593337 152.85779 \r\nL 160.667717 160.947975 \r\nL 163.742097 153.124268 \r\nL 166.816477 160.731049 \r\nL 169.890857 153.361153 \r\nL 172.965238 160.542109 \r\nL 176.039618 153.575316 \r\nL 179.113998 160.371301 \r\nL 182.188378 153.765087 \r\nL 185.262758 160.215978 \r\nL 188.337138 153.936712 \r\nL 191.411519 160.076439 \r\nL 194.485899 154.092642 \r\nL 197.560279 159.950506 \r\nL 200.634659 154.234798 \r\nL 203.709039 159.834891 \r\nL 206.783419 154.365907 \r\nL 209.8578 159.730694 \r\nL 212.93218 154.487726 \r\nL 216.00656 159.634324 \r\nL 219.08094 154.597576 \r\nL 222.15532 159.543635 \r\nL 225.2297 154.699461 \r\nL 228.304081 159.460883 \r\nL 231.378461 154.793972 \r\nL 234.452841 159.384624 \r\nL 237.527221 154.882975 \r\nL 240.601601 159.313257 \r\nL 243.675981 154.965512 \r\nL 246.750362 159.24663 \r\nL 249.824742 155.042055 \r\nL 252.899122 159.184169 \r\nL 255.973502 155.11471 \r\nL 259.047882 159.126387 \r\nL 262.122262 155.182493 \r\nL 265.196643 159.070485 \r\nL 268.271023 155.245175 \r\nL 271.345403 159.018265 \r\nL 274.419783 155.304543 \r\nL 277.494163 158.968921 \r\nL 280.568543 155.360614 \r\nL 283.642924 158.92261 \r\nL 286.717304 155.413572 \r\nL 289.791684 158.878626 \r\nL 292.866064 155.463835 \r\nL 295.940444 158.837068 \r\nL 299.014824 155.511543 \r\nL 302.089205 158.797573 \r\nL 305.163585 155.556323 \r\nL 308.237965 158.759614 \r\nL 311.312345 155.599321 \r\nL 314.386725 158.724311 \r\nL 317.461105 155.640515 \r\nL 320.535486 158.690376 \r\nL 323.609866 155.679546 \r\nL 326.684246 158.657946 \r\nL 329.758626 155.716823 \r\nL 332.833006 158.626937 \r\nL 335.907386 155.752201 \r\nL 338.981767 158.597312 \r\nL 342.056147 155.785973 \r\nL 345.130527 158.569069 \r\nL 348.204907 155.818365 \r\nL 351.279287 158.541727 \r\nL 354.353667 155.849255 \r\nL 357.428048 158.515681 \r\nL 360.502428 155.879192 \r\nL 363.576808 158.491212 \r\nL 366.651188 155.908216 \r\nL 369.725568 158.467463 \r\n\" style=\"fill:none;stroke:#008000;stroke-linecap:square;\"/>\r\n   </g>\r\n   <g id=\"line2d_32\">\r\n    <path clip-path=\"url(#pac8c47d585)\" d=\"M 65.361932 153.476458 \r\nL 68.436312 146.91186 \r\nL 71.510692 155.892389 \r\nL 74.585072 151.89401 \r\nL 77.659452 156.480935 \r\nL 80.733833 153.804373 \r\nL 83.808213 156.69236 \r\nL 86.882593 154.637346 \r\nL 89.956973 156.812239 \r\nL 93.031353 155.15083 \r\nL 96.105733 156.927752 \r\nL 99.180114 155.547574 \r\nL 102.254494 157.009123 \r\nL 105.328874 155.802131 \r\nL 108.403254 157.044861 \r\nL 111.477634 155.990462 \r\nL 114.552014 157.067097 \r\nL 117.626395 156.122645 \r\nL 120.700775 157.085683 \r\nL 123.775155 156.245703 \r\nL 126.849535 157.10999 \r\nL 129.923915 156.340306 \r\nL 132.998295 157.128016 \r\nL 136.072676 156.41983 \r\nL 139.147056 157.142614 \r\nL 142.221436 156.492239 \r\nL 145.295816 157.161491 \r\nL 148.370196 156.557818 \r\nL 151.444576 157.172135 \r\nL 154.518957 156.607074 \r\nL 157.593337 157.183561 \r\nL 160.667717 156.650864 \r\nL 163.742097 157.18768 \r\nL 166.816477 156.686521 \r\nL 169.890857 157.192211 \r\nL 172.965238 156.722118 \r\nL 176.039618 157.199156 \r\nL 179.113998 156.752228 \r\nL 182.188378 157.202974 \r\nL 185.262758 156.777744 \r\nL 188.337138 157.206799 \r\nL 191.411519 156.801832 \r\nL 194.485899 157.210547 \r\nL 197.560279 156.824659 \r\nL 200.634659 157.214055 \r\nL 203.709039 156.844875 \r\nL 206.783419 157.218322 \r\nL 209.8578 156.865197 \r\nL 212.93218 157.223659 \r\nL 216.00656 156.883389 \r\nL 219.08094 157.226166 \r\nL 222.15532 156.898454 \r\nL 225.2297 157.228815 \r\nL 228.304081 156.913626 \r\nL 231.378461 157.231309 \r\nL 234.452841 156.928299 \r\nL 237.527221 157.234755 \r\nL 240.601601 156.941597 \r\nL 243.675981 157.237538 \r\nL 246.750362 156.953992 \r\nL 249.824742 157.239559 \r\nL 252.899122 156.965456 \r\nL 255.973502 157.242425 \r\nL 259.047882 156.976982 \r\nL 262.122262 157.244716 \r\nL 265.196643 156.986189 \r\nL 268.271023 157.245817 \r\nL 271.345403 156.995248 \r\nL 274.419783 157.247175 \r\nL 277.494163 157.003684 \r\nL 280.568543 157.248504 \r\nL 283.642924 157.011944 \r\nL 286.717304 157.249723 \r\nL 289.791684 157.019582 \r\nL 292.866064 157.251006 \r\nL 295.940444 157.02693 \r\nL 299.014824 157.252279 \r\nL 302.089205 157.033834 \r\nL 305.163585 157.252976 \r\nL 308.237965 157.039955 \r\nL 311.312345 157.254069 \r\nL 314.386725 157.046582 \r\nL 317.461105 157.255378 \r\nL 320.535486 157.05258 \r\nL 323.609866 157.256401 \r\nL 326.684246 157.058227 \r\nL 329.758626 157.257419 \r\nL 332.833006 157.063565 \r\nL 335.907386 157.258168 \r\nL 338.981767 157.068672 \r\nL 342.056147 157.258833 \r\nL 345.130527 157.073651 \r\nL 348.204907 157.259542 \r\nL 351.279287 157.078118 \r\nL 354.353667 157.260084 \r\nL 357.428048 157.082556 \r\nL 360.502428 157.260924 \r\nL 363.576808 157.087328 \r\nL 366.651188 157.262028 \r\nL 369.725568 157.091649 \r\n\" style=\"fill:none;stroke:#0000ff;stroke-linecap:square;\"/>\r\n   </g>\r\n   <g id=\"line2d_33\">\r\n    <path clip-path=\"url(#pac8c47d585)\" d=\"M 65.361932 153.476458 \r\nL 68.436312 146.91186 \r\nL 71.510692 155.892389 \r\nL 74.585072 151.89401 \r\nL 77.659452 156.480935 \r\nL 80.733833 153.804373 \r\nL 83.808213 156.69236 \r\nL 86.882593 154.637346 \r\nL 89.956973 156.812239 \r\nL 93.031353 155.15083 \r\nL 96.105733 156.927752 \r\nL 99.180114 155.547574 \r\nL 102.254494 157.009123 \r\nL 105.328874 155.802131 \r\nL 108.403254 157.044861 \r\nL 111.477634 155.990462 \r\nL 114.552014 157.067097 \r\nL 117.626395 156.122645 \r\nL 120.700775 157.085683 \r\nL 123.775155 156.245703 \r\nL 126.849535 157.10999 \r\nL 129.923915 156.340306 \r\nL 132.998295 157.128016 \r\nL 136.072676 156.41983 \r\nL 139.147056 157.142614 \r\nL 142.221436 156.492239 \r\nL 145.295816 157.161491 \r\nL 148.370196 156.557818 \r\nL 151.444576 157.172135 \r\nL 154.518957 156.607074 \r\nL 157.593337 157.183561 \r\nL 160.667717 156.650864 \r\nL 163.742097 157.18768 \r\nL 166.816477 156.686521 \r\nL 169.890857 157.192211 \r\nL 172.965238 156.722118 \r\nL 176.039618 157.199156 \r\nL 179.113998 156.752228 \r\nL 182.188378 157.202974 \r\nL 185.262758 156.777744 \r\nL 188.337138 157.206799 \r\nL 191.411519 156.801832 \r\nL 194.485899 157.210547 \r\nL 197.560279 156.824659 \r\nL 200.634659 157.214055 \r\nL 203.709039 156.844875 \r\nL 206.783419 157.218322 \r\nL 209.8578 156.865197 \r\nL 212.93218 157.223659 \r\nL 216.00656 156.883389 \r\nL 219.08094 157.226166 \r\nL 222.15532 156.898454 \r\nL 225.2297 157.228815 \r\nL 228.304081 156.913626 \r\nL 231.378461 157.231309 \r\nL 234.452841 156.928299 \r\nL 237.527221 157.234755 \r\nL 240.601601 156.941597 \r\nL 243.675981 157.237538 \r\nL 246.750362 156.953992 \r\nL 249.824742 157.239559 \r\nL 252.899122 156.965456 \r\nL 255.973502 157.242425 \r\nL 259.047882 156.976982 \r\nL 262.122262 157.244716 \r\nL 265.196643 156.986189 \r\nL 268.271023 157.245817 \r\nL 271.345403 156.995248 \r\nL 274.419783 157.247175 \r\nL 277.494163 157.003684 \r\nL 280.568543 157.248504 \r\nL 283.642924 157.011944 \r\nL 286.717304 157.249723 \r\nL 289.791684 157.019582 \r\nL 292.866064 157.251006 \r\nL 295.940444 157.02693 \r\nL 299.014824 157.252279 \r\nL 302.089205 157.033834 \r\nL 305.163585 157.252976 \r\nL 308.237965 157.039955 \r\nL 311.312345 157.254069 \r\nL 314.386725 157.046582 \r\nL 317.461105 157.255378 \r\nL 320.535486 157.05258 \r\nL 323.609866 157.256401 \r\nL 326.684246 157.058227 \r\nL 329.758626 157.257419 \r\nL 332.833006 157.063565 \r\nL 335.907386 157.258168 \r\nL 338.981767 157.068672 \r\nL 342.056147 157.258833 \r\nL 345.130527 157.073651 \r\nL 348.204907 157.259542 \r\nL 351.279287 157.078118 \r\nL 354.353667 157.260084 \r\nL 357.428048 157.082556 \r\nL 360.502428 157.260924 \r\nL 363.576808 157.087328 \r\nL 366.651188 157.262028 \r\nL 369.725568 157.091649 \r\n\" style=\"fill:none;stroke:#ff0000;stroke-linecap:square;\"/>\r\n   </g>\r\n   <g id=\"line2d_34\">\r\n    <path clip-path=\"url(#pac8c47d585)\" d=\"M 65.361932 17.083636 \r\nL 68.436312 214.756364 \r\nL 71.510692 110.897055 \r\nL 74.585072 186.069758 \r\nL 77.659452 129.558376 \r\nL 80.733833 176.640856 \r\nL 83.808213 137.486179 \r\nL 86.882593 171.783914 \r\nL 89.956973 141.884838 \r\nL 93.031353 168.877164 \r\nL 96.105733 144.7201 \r\nL 99.180114 166.991181 \r\nL 102.254494 146.682929 \r\nL 105.328874 165.613974 \r\nL 108.403254 148.097641 \r\nL 111.477634 164.577808 \r\nL 114.552014 149.173948 \r\nL 117.626395 163.757208 \r\nL 120.700775 150.024424 \r\nL 123.775155 163.11779 \r\nL 126.849535 150.721991 \r\nL 129.923915 162.588386 \r\nL 132.998295 151.296068 \r\nL 136.072676 162.147791 \r\nL 139.147056 151.777667 \r\nL 142.221436 161.78002 \r\nL 145.295816 152.194298 \r\nL 148.370196 161.468244 \r\nL 151.444576 152.54779 \r\nL 154.518957 161.190416 \r\nL 157.593337 152.85779 \r\nL 160.667717 160.947975 \r\nL 163.742097 153.124268 \r\nL 166.816477 160.731049 \r\nL 169.890857 153.361153 \r\nL 172.965238 160.542109 \r\nL 176.039618 153.575316 \r\nL 179.113998 160.371301 \r\nL 182.188378 153.765087 \r\nL 185.262758 160.215978 \r\nL 188.337138 153.936712 \r\nL 191.411519 160.076439 \r\nL 194.485899 154.092642 \r\nL 197.560279 159.950506 \r\nL 200.634659 154.234798 \r\nL 203.709039 159.834891 \r\nL 206.783419 154.365907 \r\nL 209.8578 159.730694 \r\nL 212.93218 154.487726 \r\nL 216.00656 159.634324 \r\nL 219.08094 154.597576 \r\nL 222.15532 159.543635 \r\nL 225.2297 154.699461 \r\nL 228.304081 159.460883 \r\nL 231.378461 154.793972 \r\nL 234.452841 159.384624 \r\nL 237.527221 154.882975 \r\nL 240.601601 159.313257 \r\nL 243.675981 154.965512 \r\nL 246.750362 159.24663 \r\nL 249.824742 155.042055 \r\nL 252.899122 159.184169 \r\nL 255.973502 155.11471 \r\nL 259.047882 159.126387 \r\nL 262.122262 155.182493 \r\nL 265.196643 159.070485 \r\nL 268.271023 155.245175 \r\nL 271.345403 159.018265 \r\nL 274.419783 155.304543 \r\nL 277.494163 158.968921 \r\nL 280.568543 155.360614 \r\nL 283.642924 158.92261 \r\nL 286.717304 155.413572 \r\nL 289.791684 158.878626 \r\nL 292.866064 155.463835 \r\nL 295.940444 158.837068 \r\nL 299.014824 155.511543 \r\nL 302.089205 158.797573 \r\nL 305.163585 155.556323 \r\nL 308.237965 158.759614 \r\nL 311.312345 155.599321 \r\nL 314.386725 158.724311 \r\nL 317.461105 155.640515 \r\nL 320.535486 158.690376 \r\nL 323.609866 155.679546 \r\nL 326.684246 158.657946 \r\nL 329.758626 155.716823 \r\nL 332.833006 158.626937 \r\nL 335.907386 155.752201 \r\nL 338.981767 158.597312 \r\nL 342.056147 155.785973 \r\nL 345.130527 158.569069 \r\nL 348.204907 155.818365 \r\nL 351.279287 158.541727 \r\nL 354.353667 155.849255 \r\nL 357.428048 158.515681 \r\nL 360.502428 155.879192 \r\nL 363.576808 158.491212 \r\nL 366.651188 155.908216 \r\nL 369.725568 158.467463 \r\n\" style=\"fill:none;stroke:#bfbf00;stroke-linecap:square;\"/>\r\n   </g>\r\n   <g id=\"patch_3\">\r\n    <path d=\"M 50.14375 224.64 \r\nL 50.14375 7.2 \r\n\" style=\"fill:none;stroke:#000000;stroke-linecap:square;stroke-linejoin:miter;stroke-width:0.8;\"/>\r\n   </g>\r\n   <g id=\"patch_4\">\r\n    <path d=\"M 50.14375 224.64 \r\nL 384.94375 224.64 \r\n\" style=\"fill:none;stroke:#000000;stroke-linecap:square;stroke-linejoin:miter;stroke-width:0.8;\"/>\r\n   </g>\r\n  </g>\r\n </g>\r\n <defs>\r\n  <clipPath id=\"pac8c47d585\">\r\n   <rect height=\"217.44\" width=\"334.8\" x=\"50.14375\" y=\"7.2\"/>\r\n  </clipPath>\r\n </defs>\r\n</svg>\r\n",
      "image/png": "[encoded data removed]"
     },
     "metadata": {
      "needs_background": "light"
     }
    }
   ],
   "source": [
    "import matplotlib.pyplot as plt\n",
    "from matplotlib import rcParams\n",
    "\n",
    "fig, ax = plt.subplots()\n",
    "plt.plot(disc_num, y_bt, label=\"Binomial tree\", color=\"g\", linewidth=1)\n",
    "plt.plot(disc_num, y_bt_cv, label=\"Binomial tree (control variate)\", color=\"b\", linewidth=1)\n",
    "plt.plot(disc_num, y_bt_cv_is, label=\"Binomial tree (cv + is)\", color=\"r\", linewidth=1)\n",
    "plt.plot(disc_num, y_bt_is, label=\"Binomial tree (importance sampling)\", color=\"y\", linewidth=1)\n",
    "\n",
    "# formatting the chart\n",
    "ax.yaxis.grid(True, color='k', linestyle='--', linewidth=0.5)\n",
    "ax.spines['right'].set_visible(False)\n",
    "ax.spines['top'].set_visible(False)\n",
    "plt.tick_params(axis='x',which='both',top='off')\n",
    "plt.tick_params(axis='y',which='both',right='off')\n",
    "plt.xlabel(\"Discretisation steps\")\n",
    "plt.ylabel(\"American option value\")\n",
    "plt.show()"
   ]
  },
  {
   "cell_type": "code",
   "execution_count": 43,
   "metadata": {
    "collapsed": false
   },
   "outputs": [
    {
     "output_type": "display_data",
     "data": {
      "text/plain": "<Figure size 432x288 with 1 Axes>",
      "image/svg+xml": "<?xml version=\"1.0\" encoding=\"utf-8\" standalone=\"no\"?>\r\n<!DOCTYPE svg PUBLIC \"-//W3C//DTD SVG 1.1//EN\"\r\n  \"http://www.w3.org/Graphics/SVG/1.1/DTD/svg11.dtd\">\r\n<!-- Created with matplotlib (https://matplotlib.org/) -->\r\n<svg height=\"262.19625pt\" version=\"1.1\" viewBox=\"0 0 398.50625 262.19625\" width=\"398.50625pt\" xmlns=\"http://www.w3.org/2000/svg\" xmlns:xlink=\"http://www.w3.org/1999/xlink\">\r\n <metadata>\r\n  <rdf:RDF xmlns:cc=\"http://creativecommons.org/ns#\" xmlns:dc=\"http://purl.org/dc/elements/1.1/\" xmlns:rdf=\"http://www.w3.org/1999/02/22-rdf-syntax-ns#\">\r\n   <cc:Work>\r\n    <dc:type rdf:resource=\"http://purl.org/dc/dcmitype/StillImage\"/>\r\n    <dc:date>2020-12-09T10:16:04.929015</dc:date>\r\n    <dc:format>image/svg+xml</dc:format>\r\n    <dc:creator>\r\n     <cc:Agent>\r\n      <dc:title>Matplotlib v3.3.3, https://matplotlib.org/</dc:title>\r\n     </cc:Agent>\r\n    </dc:creator>\r\n   </cc:Work>\r\n  </rdf:RDF>\r\n </metadata>\r\n <defs>\r\n  <style type=\"text/css\">*{stroke-linecap:butt;stroke-linejoin:round;}</style>\r\n </defs>\r\n <g id=\"figure_1\">\r\n  <g id=\"patch_1\">\r\n   <path d=\"M 0 262.19625 \r\nL 398.50625 262.19625 \r\nL 398.50625 0 \r\nL 0 0 \r\nz\r\n\" style=\"fill:none;\"/>\r\n  </g>\r\n  <g id=\"axes_1\">\r\n   <g id=\"patch_2\">\r\n    <path d=\"M 56.50625 224.64 \r\nL 391.30625 224.64 \r\nL 391.30625 7.2 \r\nL 56.50625 7.2 \r\nz\r\n\" style=\"fill:#ffffff;\"/>\r\n   </g>\r\n   <g id=\"matplotlib.axis_1\">\r\n    <g id=\"xtick_1\">\r\n     <g id=\"line2d_1\">\r\n      <defs>\r\n       <path d=\"M 0 0 \r\nL 0 3.5 \r\n\" id=\"m83be6fa08d\" style=\"stroke:#000000;stroke-width:0.8;\"/>\r\n      </defs>\r\n      <g>\r\n       <use style=\"stroke:#000000;stroke-width:0.8;\" x=\"102.502777\" xlink:href=\"#m83be6fa08d\" y=\"224.64\"/>\r\n      </g>\r\n     </g>\r\n     <g id=\"line2d_2\">\r\n      <defs>\r\n       <path d=\"M 0 0 \r\nL 0 -3.5 \r\n\" id=\"m9983b6b309\" style=\"stroke:#000000;stroke-width:0.8;\"/>\r\n      </defs>\r\n      <g>\r\n       <use style=\"stroke:#000000;stroke-width:0.8;\" x=\"102.502777\" xlink:href=\"#m9983b6b309\" y=\"7.2\"/>\r\n      </g>\r\n     </g>\r\n     <g id=\"text_1\">\r\n      <!-- 100 -->\r\n      <g transform=\"translate(92.959027 239.238438)scale(0.1 -0.1)\">\r\n       <defs>\r\n        <path d=\"M 12.40625 8.296875 \r\nL 28.515625 8.296875 \r\nL 28.515625 63.921875 \r\nL 10.984375 60.40625 \r\nL 10.984375 69.390625 \r\nL 28.421875 72.90625 \r\nL 38.28125 72.90625 \r\nL 38.28125 8.296875 \r\nL 54.390625 8.296875 \r\nL 54.390625 0 \r\nL 12.40625 0 \r\nz\r\n\" id=\"DejaVuSans-49\"/>\r\n        <path d=\"M 31.78125 66.40625 \r\nQ 24.171875 66.40625 20.328125 58.90625 \r\nQ 16.5 51.421875 16.5 36.375 \r\nQ 16.5 21.390625 20.328125 13.890625 \r\nQ 24.171875 6.390625 31.78125 6.390625 \r\nQ 39.453125 6.390625 43.28125 13.890625 \r\nQ 47.125 21.390625 47.125 36.375 \r\nQ 47.125 51.421875 43.28125 58.90625 \r\nQ 39.453125 66.40625 31.78125 66.40625 \r\nz\r\nM 31.78125 74.21875 \r\nQ 44.046875 74.21875 50.515625 64.515625 \r\nQ 56.984375 54.828125 56.984375 36.375 \r\nQ 56.984375 17.96875 50.515625 8.265625 \r\nQ 44.046875 -1.421875 31.78125 -1.421875 \r\nQ 19.53125 -1.421875 13.0625 8.265625 \r\nQ 6.59375 17.96875 6.59375 36.375 \r\nQ 6.59375 54.828125 13.0625 64.515625 \r\nQ 19.53125 74.21875 31.78125 74.21875 \r\nz\r\n\" id=\"DejaVuSans-48\"/>\r\n       </defs>\r\n       <use xlink:href=\"#DejaVuSans-49\"/>\r\n       <use x=\"63.623047\" xlink:href=\"#DejaVuSans-48\"/>\r\n       <use x=\"127.246094\" xlink:href=\"#DejaVuSans-48\"/>\r\n      </g>\r\n     </g>\r\n    </g>\r\n    <g id=\"xtick_2\">\r\n     <g id=\"line2d_3\">\r\n      <g>\r\n       <use style=\"stroke:#000000;stroke-width:0.8;\" x=\"170.8991\" xlink:href=\"#m83be6fa08d\" y=\"224.64\"/>\r\n      </g>\r\n     </g>\r\n     <g id=\"line2d_4\">\r\n      <g>\r\n       <use style=\"stroke:#000000;stroke-width:0.8;\" x=\"170.8991\" xlink:href=\"#m9983b6b309\" y=\"7.2\"/>\r\n      </g>\r\n     </g>\r\n     <g id=\"text_2\">\r\n      <!-- 200 -->\r\n      <g transform=\"translate(161.35535 239.238438)scale(0.1 -0.1)\">\r\n       <defs>\r\n        <path d=\"M 19.1875 8.296875 \r\nL 53.609375 8.296875 \r\nL 53.609375 0 \r\nL 7.328125 0 \r\nL 7.328125 8.296875 \r\nQ 12.9375 14.109375 22.625 23.890625 \r\nQ 32.328125 33.6875 34.8125 36.53125 \r\nQ 39.546875 41.84375 41.421875 45.53125 \r\nQ 43.3125 49.21875 43.3125 52.78125 \r\nQ 43.3125 58.59375 39.234375 62.25 \r\nQ 35.15625 65.921875 28.609375 65.921875 \r\nQ 23.96875 65.921875 18.8125 64.3125 \r\nQ 13.671875 62.703125 7.8125 59.421875 \r\nL 7.8125 69.390625 \r\nQ 13.765625 71.78125 18.9375 73 \r\nQ 24.125 74.21875 28.421875 74.21875 \r\nQ 39.75 74.21875 46.484375 68.546875 \r\nQ 53.21875 62.890625 53.21875 53.421875 \r\nQ 53.21875 48.921875 51.53125 44.890625 \r\nQ 49.859375 40.875 45.40625 35.40625 \r\nQ 44.1875 33.984375 37.640625 27.21875 \r\nQ 31.109375 20.453125 19.1875 8.296875 \r\nz\r\n\" id=\"DejaVuSans-50\"/>\r\n       </defs>\r\n       <use xlink:href=\"#DejaVuSans-50\"/>\r\n       <use x=\"63.623047\" xlink:href=\"#DejaVuSans-48\"/>\r\n       <use x=\"127.246094\" xlink:href=\"#DejaVuSans-48\"/>\r\n      </g>\r\n     </g>\r\n    </g>\r\n    <g id=\"xtick_3\">\r\n     <g id=\"line2d_5\">\r\n      <g>\r\n       <use style=\"stroke:#000000;stroke-width:0.8;\" x=\"239.295423\" xlink:href=\"#m83be6fa08d\" y=\"224.64\"/>\r\n      </g>\r\n     </g>\r\n     <g id=\"line2d_6\">\r\n      <g>\r\n       <use style=\"stroke:#000000;stroke-width:0.8;\" x=\"239.295423\" xlink:href=\"#m9983b6b309\" y=\"7.2\"/>\r\n      </g>\r\n     </g>\r\n     <g id=\"text_3\">\r\n      <!-- 300 -->\r\n      <g transform=\"translate(229.751673 239.238438)scale(0.1 -0.1)\">\r\n       <defs>\r\n        <path d=\"M 40.578125 39.3125 \r\nQ 47.65625 37.796875 51.625 33 \r\nQ 55.609375 28.21875 55.609375 21.1875 \r\nQ 55.609375 10.40625 48.1875 4.484375 \r\nQ 40.765625 -1.421875 27.09375 -1.421875 \r\nQ 22.515625 -1.421875 17.65625 -0.515625 \r\nQ 12.796875 0.390625 7.625 2.203125 \r\nL 7.625 11.71875 \r\nQ 11.71875 9.328125 16.59375 8.109375 \r\nQ 21.484375 6.890625 26.8125 6.890625 \r\nQ 36.078125 6.890625 40.9375 10.546875 \r\nQ 45.796875 14.203125 45.796875 21.1875 \r\nQ 45.796875 27.640625 41.28125 31.265625 \r\nQ 36.765625 34.90625 28.71875 34.90625 \r\nL 20.21875 34.90625 \r\nL 20.21875 43.015625 \r\nL 29.109375 43.015625 \r\nQ 36.375 43.015625 40.234375 45.921875 \r\nQ 44.09375 48.828125 44.09375 54.296875 \r\nQ 44.09375 59.90625 40.109375 62.90625 \r\nQ 36.140625 65.921875 28.71875 65.921875 \r\nQ 24.65625 65.921875 20.015625 65.03125 \r\nQ 15.375 64.15625 9.8125 62.3125 \r\nL 9.8125 71.09375 \r\nQ 15.4375 72.65625 20.34375 73.4375 \r\nQ 25.25 74.21875 29.59375 74.21875 \r\nQ 40.828125 74.21875 47.359375 69.109375 \r\nQ 53.90625 64.015625 53.90625 55.328125 \r\nQ 53.90625 49.265625 50.4375 45.09375 \r\nQ 46.96875 40.921875 40.578125 39.3125 \r\nz\r\n\" id=\"DejaVuSans-51\"/>\r\n       </defs>\r\n       <use xlink:href=\"#DejaVuSans-51\"/>\r\n       <use x=\"63.623047\" xlink:href=\"#DejaVuSans-48\"/>\r\n       <use x=\"127.246094\" xlink:href=\"#DejaVuSans-48\"/>\r\n      </g>\r\n     </g>\r\n    </g>\r\n    <g id=\"xtick_4\">\r\n     <g id=\"line2d_7\">\r\n      <g>\r\n       <use style=\"stroke:#000000;stroke-width:0.8;\" x=\"307.691745\" xlink:href=\"#m83be6fa08d\" y=\"224.64\"/>\r\n      </g>\r\n     </g>\r\n     <g id=\"line2d_8\">\r\n      <g>\r\n       <use style=\"stroke:#000000;stroke-width:0.8;\" x=\"307.691745\" xlink:href=\"#m9983b6b309\" y=\"7.2\"/>\r\n      </g>\r\n     </g>\r\n     <g id=\"text_4\">\r\n      <!-- 400 -->\r\n      <g transform=\"translate(298.147995 239.238438)scale(0.1 -0.1)\">\r\n       <defs>\r\n        <path d=\"M 37.796875 64.3125 \r\nL 12.890625 25.390625 \r\nL 37.796875 25.390625 \r\nz\r\nM 35.203125 72.90625 \r\nL 47.609375 72.90625 \r\nL 47.609375 25.390625 \r\nL 58.015625 25.390625 \r\nL 58.015625 17.1875 \r\nL 47.609375 17.1875 \r\nL 47.609375 0 \r\nL 37.796875 0 \r\nL 37.796875 17.1875 \r\nL 4.890625 17.1875 \r\nL 4.890625 26.703125 \r\nz\r\n\" id=\"DejaVuSans-52\"/>\r\n       </defs>\r\n       <use xlink:href=\"#DejaVuSans-52\"/>\r\n       <use x=\"63.623047\" xlink:href=\"#DejaVuSans-48\"/>\r\n       <use x=\"127.246094\" xlink:href=\"#DejaVuSans-48\"/>\r\n      </g>\r\n     </g>\r\n    </g>\r\n    <g id=\"xtick_5\">\r\n     <g id=\"line2d_9\">\r\n      <g>\r\n       <use style=\"stroke:#000000;stroke-width:0.8;\" x=\"376.088068\" xlink:href=\"#m83be6fa08d\" y=\"224.64\"/>\r\n      </g>\r\n     </g>\r\n     <g id=\"line2d_10\">\r\n      <g>\r\n       <use style=\"stroke:#000000;stroke-width:0.8;\" x=\"376.088068\" xlink:href=\"#m9983b6b309\" y=\"7.2\"/>\r\n      </g>\r\n     </g>\r\n     <g id=\"text_5\">\r\n      <!-- 500 -->\r\n      <g transform=\"translate(366.544318 239.238438)scale(0.1 -0.1)\">\r\n       <defs>\r\n        <path d=\"M 10.796875 72.90625 \r\nL 49.515625 72.90625 \r\nL 49.515625 64.59375 \r\nL 19.828125 64.59375 \r\nL 19.828125 46.734375 \r\nQ 21.96875 47.46875 24.109375 47.828125 \r\nQ 26.265625 48.1875 28.421875 48.1875 \r\nQ 40.625 48.1875 47.75 41.5 \r\nQ 54.890625 34.8125 54.890625 23.390625 \r\nQ 54.890625 11.625 47.5625 5.09375 \r\nQ 40.234375 -1.421875 26.90625 -1.421875 \r\nQ 22.3125 -1.421875 17.546875 -0.640625 \r\nQ 12.796875 0.140625 7.71875 1.703125 \r\nL 7.71875 11.625 \r\nQ 12.109375 9.234375 16.796875 8.0625 \r\nQ 21.484375 6.890625 26.703125 6.890625 \r\nQ 35.15625 6.890625 40.078125 11.328125 \r\nQ 45.015625 15.765625 45.015625 23.390625 \r\nQ 45.015625 31 40.078125 35.4375 \r\nQ 35.15625 39.890625 26.703125 39.890625 \r\nQ 22.75 39.890625 18.8125 39.015625 \r\nQ 14.890625 38.140625 10.796875 36.28125 \r\nz\r\n\" id=\"DejaVuSans-53\"/>\r\n       </defs>\r\n       <use xlink:href=\"#DejaVuSans-53\"/>\r\n       <use x=\"63.623047\" xlink:href=\"#DejaVuSans-48\"/>\r\n       <use x=\"127.246094\" xlink:href=\"#DejaVuSans-48\"/>\r\n      </g>\r\n     </g>\r\n    </g>\r\n    <g id=\"text_6\">\r\n     <!-- Discretisation steps -->\r\n     <g transform=\"translate(174.689063 252.916563)scale(0.1 -0.1)\">\r\n      <defs>\r\n       <path d=\"M 19.671875 64.796875 \r\nL 19.671875 8.109375 \r\nL 31.59375 8.109375 \r\nQ 46.6875 8.109375 53.6875 14.9375 \r\nQ 60.6875 21.78125 60.6875 36.53125 \r\nQ 60.6875 51.171875 53.6875 57.984375 \r\nQ 46.6875 64.796875 31.59375 64.796875 \r\nz\r\nM 9.8125 72.90625 \r\nL 30.078125 72.90625 \r\nQ 51.265625 72.90625 61.171875 64.09375 \r\nQ 71.09375 55.28125 71.09375 36.53125 \r\nQ 71.09375 17.671875 61.125 8.828125 \r\nQ 51.171875 0 30.078125 0 \r\nL 9.8125 0 \r\nz\r\n\" id=\"DejaVuSans-68\"/>\r\n       <path d=\"M 9.421875 54.6875 \r\nL 18.40625 54.6875 \r\nL 18.40625 0 \r\nL 9.421875 0 \r\nz\r\nM 9.421875 75.984375 \r\nL 18.40625 75.984375 \r\nL 18.40625 64.59375 \r\nL 9.421875 64.59375 \r\nz\r\n\" id=\"DejaVuSans-105\"/>\r\n       <path d=\"M 44.28125 53.078125 \r\nL 44.28125 44.578125 \r\nQ 40.484375 46.53125 36.375 47.5 \r\nQ 32.28125 48.484375 27.875 48.484375 \r\nQ 21.1875 48.484375 17.84375 46.4375 \r\nQ 14.5 44.390625 14.5 40.28125 \r\nQ 14.5 37.15625 16.890625 35.375 \r\nQ 19.28125 33.59375 26.515625 31.984375 \r\nL 29.59375 31.296875 \r\nQ 39.15625 29.25 43.1875 25.515625 \r\nQ 47.21875 21.78125 47.21875 15.09375 \r\nQ 47.21875 7.46875 41.1875 3.015625 \r\nQ 35.15625 -1.421875 24.609375 -1.421875 \r\nQ 20.21875 -1.421875 15.453125 -0.5625 \r\nQ 10.6875 0.296875 5.421875 2 \r\nL 5.421875 11.28125 \r\nQ 10.40625 8.6875 15.234375 7.390625 \r\nQ 20.0625 6.109375 24.8125 6.109375 \r\nQ 31.15625 6.109375 34.5625 8.28125 \r\nQ 37.984375 10.453125 37.984375 14.40625 \r\nQ 37.984375 18.0625 35.515625 20.015625 \r\nQ 33.0625 21.96875 24.703125 23.78125 \r\nL 21.578125 24.515625 \r\nQ 13.234375 26.265625 9.515625 29.90625 \r\nQ 5.8125 33.546875 5.8125 39.890625 \r\nQ 5.8125 47.609375 11.28125 51.796875 \r\nQ 16.75 56 26.8125 56 \r\nQ 31.78125 56 36.171875 55.265625 \r\nQ 40.578125 54.546875 44.28125 53.078125 \r\nz\r\n\" id=\"DejaVuSans-115\"/>\r\n       <path d=\"M 48.78125 52.59375 \r\nL 48.78125 44.1875 \r\nQ 44.96875 46.296875 41.140625 47.34375 \r\nQ 37.3125 48.390625 33.40625 48.390625 \r\nQ 24.65625 48.390625 19.8125 42.84375 \r\nQ 14.984375 37.3125 14.984375 27.296875 \r\nQ 14.984375 17.28125 19.8125 11.734375 \r\nQ 24.65625 6.203125 33.40625 6.203125 \r\nQ 37.3125 6.203125 41.140625 7.25 \r\nQ 44.96875 8.296875 48.78125 10.40625 \r\nL 48.78125 2.09375 \r\nQ 45.015625 0.34375 40.984375 -0.53125 \r\nQ 36.96875 -1.421875 32.421875 -1.421875 \r\nQ 20.0625 -1.421875 12.78125 6.34375 \r\nQ 5.515625 14.109375 5.515625 27.296875 \r\nQ 5.515625 40.671875 12.859375 48.328125 \r\nQ 20.21875 56 33.015625 56 \r\nQ 37.15625 56 41.109375 55.140625 \r\nQ 45.0625 54.296875 48.78125 52.59375 \r\nz\r\n\" id=\"DejaVuSans-99\"/>\r\n       <path d=\"M 41.109375 46.296875 \r\nQ 39.59375 47.171875 37.8125 47.578125 \r\nQ 36.03125 48 33.890625 48 \r\nQ 26.265625 48 22.1875 43.046875 \r\nQ 18.109375 38.09375 18.109375 28.8125 \r\nL 18.109375 0 \r\nL 9.078125 0 \r\nL 9.078125 54.6875 \r\nL 18.109375 54.6875 \r\nL 18.109375 46.1875 \r\nQ 20.953125 51.171875 25.484375 53.578125 \r\nQ 30.03125 56 36.53125 56 \r\nQ 37.453125 56 38.578125 55.875 \r\nQ 39.703125 55.765625 41.0625 55.515625 \r\nz\r\n\" id=\"DejaVuSans-114\"/>\r\n       <path d=\"M 56.203125 29.59375 \r\nL 56.203125 25.203125 \r\nL 14.890625 25.203125 \r\nQ 15.484375 15.921875 20.484375 11.0625 \r\nQ 25.484375 6.203125 34.421875 6.203125 \r\nQ 39.59375 6.203125 44.453125 7.46875 \r\nQ 49.3125 8.734375 54.109375 11.28125 \r\nL 54.109375 2.78125 \r\nQ 49.265625 0.734375 44.1875 -0.34375 \r\nQ 39.109375 -1.421875 33.890625 -1.421875 \r\nQ 20.796875 -1.421875 13.15625 6.1875 \r\nQ 5.515625 13.8125 5.515625 26.8125 \r\nQ 5.515625 40.234375 12.765625 48.109375 \r\nQ 20.015625 56 32.328125 56 \r\nQ 43.359375 56 49.78125 48.890625 \r\nQ 56.203125 41.796875 56.203125 29.59375 \r\nz\r\nM 47.21875 32.234375 \r\nQ 47.125 39.59375 43.09375 43.984375 \r\nQ 39.0625 48.390625 32.421875 48.390625 \r\nQ 24.90625 48.390625 20.390625 44.140625 \r\nQ 15.875 39.890625 15.1875 32.171875 \r\nz\r\n\" id=\"DejaVuSans-101\"/>\r\n       <path d=\"M 18.3125 70.21875 \r\nL 18.3125 54.6875 \r\nL 36.8125 54.6875 \r\nL 36.8125 47.703125 \r\nL 18.3125 47.703125 \r\nL 18.3125 18.015625 \r\nQ 18.3125 11.328125 20.140625 9.421875 \r\nQ 21.96875 7.515625 27.59375 7.515625 \r\nL 36.8125 7.515625 \r\nL 36.8125 0 \r\nL 27.59375 0 \r\nQ 17.1875 0 13.234375 3.875 \r\nQ 9.28125 7.765625 9.28125 18.015625 \r\nL 9.28125 47.703125 \r\nL 2.6875 47.703125 \r\nL 2.6875 54.6875 \r\nL 9.28125 54.6875 \r\nL 9.28125 70.21875 \r\nz\r\n\" id=\"DejaVuSans-116\"/>\r\n       <path d=\"M 34.28125 27.484375 \r\nQ 23.390625 27.484375 19.1875 25 \r\nQ 14.984375 22.515625 14.984375 16.5 \r\nQ 14.984375 11.71875 18.140625 8.90625 \r\nQ 21.296875 6.109375 26.703125 6.109375 \r\nQ 34.1875 6.109375 38.703125 11.40625 \r\nQ 43.21875 16.703125 43.21875 25.484375 \r\nL 43.21875 27.484375 \r\nz\r\nM 52.203125 31.203125 \r\nL 52.203125 0 \r\nL 43.21875 0 \r\nL 43.21875 8.296875 \r\nQ 40.140625 3.328125 35.546875 0.953125 \r\nQ 30.953125 -1.421875 24.3125 -1.421875 \r\nQ 15.921875 -1.421875 10.953125 3.296875 \r\nQ 6 8.015625 6 15.921875 \r\nQ 6 25.140625 12.171875 29.828125 \r\nQ 18.359375 34.515625 30.609375 34.515625 \r\nL 43.21875 34.515625 \r\nL 43.21875 35.40625 \r\nQ 43.21875 41.609375 39.140625 45 \r\nQ 35.0625 48.390625 27.6875 48.390625 \r\nQ 23 48.390625 18.546875 47.265625 \r\nQ 14.109375 46.140625 10.015625 43.890625 \r\nL 10.015625 52.203125 \r\nQ 14.9375 54.109375 19.578125 55.046875 \r\nQ 24.21875 56 28.609375 56 \r\nQ 40.484375 56 46.34375 49.84375 \r\nQ 52.203125 43.703125 52.203125 31.203125 \r\nz\r\n\" id=\"DejaVuSans-97\"/>\r\n       <path d=\"M 30.609375 48.390625 \r\nQ 23.390625 48.390625 19.1875 42.75 \r\nQ 14.984375 37.109375 14.984375 27.296875 \r\nQ 14.984375 17.484375 19.15625 11.84375 \r\nQ 23.34375 6.203125 30.609375 6.203125 \r\nQ 37.796875 6.203125 41.984375 11.859375 \r\nQ 46.1875 17.53125 46.1875 27.296875 \r\nQ 46.1875 37.015625 41.984375 42.703125 \r\nQ 37.796875 48.390625 30.609375 48.390625 \r\nz\r\nM 30.609375 56 \r\nQ 42.328125 56 49.015625 48.375 \r\nQ 55.71875 40.765625 55.71875 27.296875 \r\nQ 55.71875 13.875 49.015625 6.21875 \r\nQ 42.328125 -1.421875 30.609375 -1.421875 \r\nQ 18.84375 -1.421875 12.171875 6.21875 \r\nQ 5.515625 13.875 5.515625 27.296875 \r\nQ 5.515625 40.765625 12.171875 48.375 \r\nQ 18.84375 56 30.609375 56 \r\nz\r\n\" id=\"DejaVuSans-111\"/>\r\n       <path d=\"M 54.890625 33.015625 \r\nL 54.890625 0 \r\nL 45.90625 0 \r\nL 45.90625 32.71875 \r\nQ 45.90625 40.484375 42.875 44.328125 \r\nQ 39.84375 48.1875 33.796875 48.1875 \r\nQ 26.515625 48.1875 22.3125 43.546875 \r\nQ 18.109375 38.921875 18.109375 30.90625 \r\nL 18.109375 0 \r\nL 9.078125 0 \r\nL 9.078125 54.6875 \r\nL 18.109375 54.6875 \r\nL 18.109375 46.1875 \r\nQ 21.34375 51.125 25.703125 53.5625 \r\nQ 30.078125 56 35.796875 56 \r\nQ 45.21875 56 50.046875 50.171875 \r\nQ 54.890625 44.34375 54.890625 33.015625 \r\nz\r\n\" id=\"DejaVuSans-110\"/>\r\n       <path id=\"DejaVuSans-32\"/>\r\n       <path d=\"M 18.109375 8.203125 \r\nL 18.109375 -20.796875 \r\nL 9.078125 -20.796875 \r\nL 9.078125 54.6875 \r\nL 18.109375 54.6875 \r\nL 18.109375 46.390625 \r\nQ 20.953125 51.265625 25.265625 53.625 \r\nQ 29.59375 56 35.59375 56 \r\nQ 45.5625 56 51.78125 48.09375 \r\nQ 58.015625 40.1875 58.015625 27.296875 \r\nQ 58.015625 14.40625 51.78125 6.484375 \r\nQ 45.5625 -1.421875 35.59375 -1.421875 \r\nQ 29.59375 -1.421875 25.265625 0.953125 \r\nQ 20.953125 3.328125 18.109375 8.203125 \r\nz\r\nM 48.6875 27.296875 \r\nQ 48.6875 37.203125 44.609375 42.84375 \r\nQ 40.53125 48.484375 33.40625 48.484375 \r\nQ 26.265625 48.484375 22.1875 42.84375 \r\nQ 18.109375 37.203125 18.109375 27.296875 \r\nQ 18.109375 17.390625 22.1875 11.75 \r\nQ 26.265625 6.109375 33.40625 6.109375 \r\nQ 40.53125 6.109375 44.609375 11.75 \r\nQ 48.6875 17.390625 48.6875 27.296875 \r\nz\r\n\" id=\"DejaVuSans-112\"/>\r\n      </defs>\r\n      <use xlink:href=\"#DejaVuSans-68\"/>\r\n      <use x=\"77.001953\" xlink:href=\"#DejaVuSans-105\"/>\r\n      <use x=\"104.785156\" xlink:href=\"#DejaVuSans-115\"/>\r\n      <use x=\"156.884766\" xlink:href=\"#DejaVuSans-99\"/>\r\n      <use x=\"211.865234\" xlink:href=\"#DejaVuSans-114\"/>\r\n      <use x=\"250.728516\" xlink:href=\"#DejaVuSans-101\"/>\r\n      <use x=\"312.251953\" xlink:href=\"#DejaVuSans-116\"/>\r\n      <use x=\"351.460938\" xlink:href=\"#DejaVuSans-105\"/>\r\n      <use x=\"379.244141\" xlink:href=\"#DejaVuSans-115\"/>\r\n      <use x=\"431.34375\" xlink:href=\"#DejaVuSans-97\"/>\r\n      <use x=\"492.623047\" xlink:href=\"#DejaVuSans-116\"/>\r\n      <use x=\"531.832031\" xlink:href=\"#DejaVuSans-105\"/>\r\n      <use x=\"559.615234\" xlink:href=\"#DejaVuSans-111\"/>\r\n      <use x=\"620.796875\" xlink:href=\"#DejaVuSans-110\"/>\r\n      <use x=\"684.175781\" xlink:href=\"#DejaVuSans-32\"/>\r\n      <use x=\"715.962891\" xlink:href=\"#DejaVuSans-115\"/>\r\n      <use x=\"768.0625\" xlink:href=\"#DejaVuSans-116\"/>\r\n      <use x=\"807.271484\" xlink:href=\"#DejaVuSans-101\"/>\r\n      <use x=\"868.794922\" xlink:href=\"#DejaVuSans-112\"/>\r\n      <use x=\"932.271484\" xlink:href=\"#DejaVuSans-115\"/>\r\n     </g>\r\n    </g>\r\n   </g>\r\n   <g id=\"matplotlib.axis_2\">\r\n    <g id=\"ytick_1\">\r\n     <g id=\"line2d_11\">\r\n      <path clip-path=\"url(#p625b76fbde)\" d=\"M 56.50625 210.146335 \r\nL 391.30625 210.146335 \r\n\" style=\"fill:none;stroke:#000000;stroke-dasharray:1.85,0.8;stroke-dashoffset:0;stroke-width:0.5;\"/>\r\n     </g>\r\n     <g id=\"line2d_12\">\r\n      <defs>\r\n       <path d=\"M 0 0 \r\nL -3.5 0 \r\n\" id=\"me6cf50a88a\" style=\"stroke:#000000;stroke-width:0.8;\"/>\r\n      </defs>\r\n      <g>\r\n       <use style=\"stroke:#000000;stroke-width:0.8;\" x=\"56.50625\" xlink:href=\"#me6cf50a88a\" y=\"210.146335\"/>\r\n      </g>\r\n     </g>\r\n     <g id=\"line2d_13\">\r\n      <defs>\r\n       <path d=\"M 0 0 \r\nL 3.5 0 \r\n\" id=\"m9b8775c7f5\" style=\"stroke:#000000;stroke-width:0.8;\"/>\r\n      </defs>\r\n      <g>\r\n       <use style=\"stroke:#000000;stroke-width:0.8;\" x=\"391.30625\" xlink:href=\"#m9b8775c7f5\" y=\"210.146335\"/>\r\n      </g>\r\n     </g>\r\n     <g id=\"text_7\">\r\n      <!-- 15.20 -->\r\n      <g transform=\"translate(20.878125 213.945554)scale(0.1 -0.1)\">\r\n       <defs>\r\n        <path d=\"M 10.6875 12.40625 \r\nL 21 12.40625 \r\nL 21 0 \r\nL 10.6875 0 \r\nz\r\n\" id=\"DejaVuSans-46\"/>\r\n       </defs>\r\n       <use xlink:href=\"#DejaVuSans-49\"/>\r\n       <use x=\"63.623047\" xlink:href=\"#DejaVuSans-53\"/>\r\n       <use x=\"127.246094\" xlink:href=\"#DejaVuSans-46\"/>\r\n       <use x=\"159.033203\" xlink:href=\"#DejaVuSans-50\"/>\r\n       <use x=\"222.65625\" xlink:href=\"#DejaVuSans-48\"/>\r\n      </g>\r\n     </g>\r\n    </g>\r\n    <g id=\"ytick_2\">\r\n     <g id=\"line2d_14\">\r\n      <path clip-path=\"url(#p625b76fbde)\" d=\"M 56.50625 177.741317 \r\nL 391.30625 177.741317 \r\n\" style=\"fill:none;stroke:#000000;stroke-dasharray:1.85,0.8;stroke-dashoffset:0;stroke-width:0.5;\"/>\r\n     </g>\r\n     <g id=\"line2d_15\">\r\n      <g>\r\n       <use style=\"stroke:#000000;stroke-width:0.8;\" x=\"56.50625\" xlink:href=\"#me6cf50a88a\" y=\"177.741317\"/>\r\n      </g>\r\n     </g>\r\n     <g id=\"line2d_16\">\r\n      <g>\r\n       <use style=\"stroke:#000000;stroke-width:0.8;\" x=\"391.30625\" xlink:href=\"#m9b8775c7f5\" y=\"177.741317\"/>\r\n      </g>\r\n     </g>\r\n     <g id=\"text_8\">\r\n      <!-- 15.22 -->\r\n      <g transform=\"translate(20.878125 181.540536)scale(0.1 -0.1)\">\r\n       <use xlink:href=\"#DejaVuSans-49\"/>\r\n       <use x=\"63.623047\" xlink:href=\"#DejaVuSans-53\"/>\r\n       <use x=\"127.246094\" xlink:href=\"#DejaVuSans-46\"/>\r\n       <use x=\"159.033203\" xlink:href=\"#DejaVuSans-50\"/>\r\n       <use x=\"222.65625\" xlink:href=\"#DejaVuSans-50\"/>\r\n      </g>\r\n     </g>\r\n    </g>\r\n    <g id=\"ytick_3\">\r\n     <g id=\"line2d_17\">\r\n      <path clip-path=\"url(#p625b76fbde)\" d=\"M 56.50625 145.336299 \r\nL 391.30625 145.336299 \r\n\" style=\"fill:none;stroke:#000000;stroke-dasharray:1.85,0.8;stroke-dashoffset:0;stroke-width:0.5;\"/>\r\n     </g>\r\n     <g id=\"line2d_18\">\r\n      <g>\r\n       <use style=\"stroke:#000000;stroke-width:0.8;\" x=\"56.50625\" xlink:href=\"#me6cf50a88a\" y=\"145.336299\"/>\r\n      </g>\r\n     </g>\r\n     <g id=\"line2d_19\">\r\n      <g>\r\n       <use style=\"stroke:#000000;stroke-width:0.8;\" x=\"391.30625\" xlink:href=\"#m9b8775c7f5\" y=\"145.336299\"/>\r\n      </g>\r\n     </g>\r\n     <g id=\"text_9\">\r\n      <!-- 15.24 -->\r\n      <g transform=\"translate(20.878125 149.135518)scale(0.1 -0.1)\">\r\n       <use xlink:href=\"#DejaVuSans-49\"/>\r\n       <use x=\"63.623047\" xlink:href=\"#DejaVuSans-53\"/>\r\n       <use x=\"127.246094\" xlink:href=\"#DejaVuSans-46\"/>\r\n       <use x=\"159.033203\" xlink:href=\"#DejaVuSans-50\"/>\r\n       <use x=\"222.65625\" xlink:href=\"#DejaVuSans-52\"/>\r\n      </g>\r\n     </g>\r\n    </g>\r\n    <g id=\"ytick_4\">\r\n     <g id=\"line2d_20\">\r\n      <path clip-path=\"url(#p625b76fbde)\" d=\"M 56.50625 112.931281 \r\nL 391.30625 112.931281 \r\n\" style=\"fill:none;stroke:#000000;stroke-dasharray:1.85,0.8;stroke-dashoffset:0;stroke-width:0.5;\"/>\r\n     </g>\r\n     <g id=\"line2d_21\">\r\n      <g>\r\n       <use style=\"stroke:#000000;stroke-width:0.8;\" x=\"56.50625\" xlink:href=\"#me6cf50a88a\" y=\"112.931281\"/>\r\n      </g>\r\n     </g>\r\n     <g id=\"line2d_22\">\r\n      <g>\r\n       <use style=\"stroke:#000000;stroke-width:0.8;\" x=\"391.30625\" xlink:href=\"#m9b8775c7f5\" y=\"112.931281\"/>\r\n      </g>\r\n     </g>\r\n     <g id=\"text_10\">\r\n      <!-- 15.26 -->\r\n      <g transform=\"translate(20.878125 116.7305)scale(0.1 -0.1)\">\r\n       <defs>\r\n        <path d=\"M 33.015625 40.375 \r\nQ 26.375 40.375 22.484375 35.828125 \r\nQ 18.609375 31.296875 18.609375 23.390625 \r\nQ 18.609375 15.53125 22.484375 10.953125 \r\nQ 26.375 6.390625 33.015625 6.390625 \r\nQ 39.65625 6.390625 43.53125 10.953125 \r\nQ 47.40625 15.53125 47.40625 23.390625 \r\nQ 47.40625 31.296875 43.53125 35.828125 \r\nQ 39.65625 40.375 33.015625 40.375 \r\nz\r\nM 52.59375 71.296875 \r\nL 52.59375 62.3125 \r\nQ 48.875 64.0625 45.09375 64.984375 \r\nQ 41.3125 65.921875 37.59375 65.921875 \r\nQ 27.828125 65.921875 22.671875 59.328125 \r\nQ 17.53125 52.734375 16.796875 39.40625 \r\nQ 19.671875 43.65625 24.015625 45.921875 \r\nQ 28.375 48.1875 33.59375 48.1875 \r\nQ 44.578125 48.1875 50.953125 41.515625 \r\nQ 57.328125 34.859375 57.328125 23.390625 \r\nQ 57.328125 12.15625 50.6875 5.359375 \r\nQ 44.046875 -1.421875 33.015625 -1.421875 \r\nQ 20.359375 -1.421875 13.671875 8.265625 \r\nQ 6.984375 17.96875 6.984375 36.375 \r\nQ 6.984375 53.65625 15.1875 63.9375 \r\nQ 23.390625 74.21875 37.203125 74.21875 \r\nQ 40.921875 74.21875 44.703125 73.484375 \r\nQ 48.484375 72.75 52.59375 71.296875 \r\nz\r\n\" id=\"DejaVuSans-54\"/>\r\n       </defs>\r\n       <use xlink:href=\"#DejaVuSans-49\"/>\r\n       <use x=\"63.623047\" xlink:href=\"#DejaVuSans-53\"/>\r\n       <use x=\"127.246094\" xlink:href=\"#DejaVuSans-46\"/>\r\n       <use x=\"159.033203\" xlink:href=\"#DejaVuSans-50\"/>\r\n       <use x=\"222.65625\" xlink:href=\"#DejaVuSans-54\"/>\r\n      </g>\r\n     </g>\r\n    </g>\r\n    <g id=\"ytick_5\">\r\n     <g id=\"line2d_23\">\r\n      <path clip-path=\"url(#p625b76fbde)\" d=\"M 56.50625 80.526263 \r\nL 391.30625 80.526263 \r\n\" style=\"fill:none;stroke:#000000;stroke-dasharray:1.85,0.8;stroke-dashoffset:0;stroke-width:0.5;\"/>\r\n     </g>\r\n     <g id=\"line2d_24\">\r\n      <g>\r\n       <use style=\"stroke:#000000;stroke-width:0.8;\" x=\"56.50625\" xlink:href=\"#me6cf50a88a\" y=\"80.526263\"/>\r\n      </g>\r\n     </g>\r\n     <g id=\"line2d_25\">\r\n      <g>\r\n       <use style=\"stroke:#000000;stroke-width:0.8;\" x=\"391.30625\" xlink:href=\"#m9b8775c7f5\" y=\"80.526263\"/>\r\n      </g>\r\n     </g>\r\n     <g id=\"text_11\">\r\n      <!-- 15.28 -->\r\n      <g transform=\"translate(20.878125 84.325482)scale(0.1 -0.1)\">\r\n       <defs>\r\n        <path d=\"M 31.78125 34.625 \r\nQ 24.75 34.625 20.71875 30.859375 \r\nQ 16.703125 27.09375 16.703125 20.515625 \r\nQ 16.703125 13.921875 20.71875 10.15625 \r\nQ 24.75 6.390625 31.78125 6.390625 \r\nQ 38.8125 6.390625 42.859375 10.171875 \r\nQ 46.921875 13.96875 46.921875 20.515625 \r\nQ 46.921875 27.09375 42.890625 30.859375 \r\nQ 38.875 34.625 31.78125 34.625 \r\nz\r\nM 21.921875 38.8125 \r\nQ 15.578125 40.375 12.03125 44.71875 \r\nQ 8.5 49.078125 8.5 55.328125 \r\nQ 8.5 64.0625 14.71875 69.140625 \r\nQ 20.953125 74.21875 31.78125 74.21875 \r\nQ 42.671875 74.21875 48.875 69.140625 \r\nQ 55.078125 64.0625 55.078125 55.328125 \r\nQ 55.078125 49.078125 51.53125 44.71875 \r\nQ 48 40.375 41.703125 38.8125 \r\nQ 48.828125 37.15625 52.796875 32.3125 \r\nQ 56.78125 27.484375 56.78125 20.515625 \r\nQ 56.78125 9.90625 50.3125 4.234375 \r\nQ 43.84375 -1.421875 31.78125 -1.421875 \r\nQ 19.734375 -1.421875 13.25 4.234375 \r\nQ 6.78125 9.90625 6.78125 20.515625 \r\nQ 6.78125 27.484375 10.78125 32.3125 \r\nQ 14.796875 37.15625 21.921875 38.8125 \r\nz\r\nM 18.3125 54.390625 \r\nQ 18.3125 48.734375 21.84375 45.5625 \r\nQ 25.390625 42.390625 31.78125 42.390625 \r\nQ 38.140625 42.390625 41.71875 45.5625 \r\nQ 45.3125 48.734375 45.3125 54.390625 \r\nQ 45.3125 60.0625 41.71875 63.234375 \r\nQ 38.140625 66.40625 31.78125 66.40625 \r\nQ 25.390625 66.40625 21.84375 63.234375 \r\nQ 18.3125 60.0625 18.3125 54.390625 \r\nz\r\n\" id=\"DejaVuSans-56\"/>\r\n       </defs>\r\n       <use xlink:href=\"#DejaVuSans-49\"/>\r\n       <use x=\"63.623047\" xlink:href=\"#DejaVuSans-53\"/>\r\n       <use x=\"127.246094\" xlink:href=\"#DejaVuSans-46\"/>\r\n       <use x=\"159.033203\" xlink:href=\"#DejaVuSans-50\"/>\r\n       <use x=\"222.65625\" xlink:href=\"#DejaVuSans-56\"/>\r\n      </g>\r\n     </g>\r\n    </g>\r\n    <g id=\"ytick_6\">\r\n     <g id=\"line2d_26\">\r\n      <path clip-path=\"url(#p625b76fbde)\" d=\"M 56.50625 48.121245 \r\nL 391.30625 48.121245 \r\n\" style=\"fill:none;stroke:#000000;stroke-dasharray:1.85,0.8;stroke-dashoffset:0;stroke-width:0.5;\"/>\r\n     </g>\r\n     <g id=\"line2d_27\">\r\n      <g>\r\n       <use style=\"stroke:#000000;stroke-width:0.8;\" x=\"56.50625\" xlink:href=\"#me6cf50a88a\" y=\"48.121245\"/>\r\n      </g>\r\n     </g>\r\n     <g id=\"line2d_28\">\r\n      <g>\r\n       <use style=\"stroke:#000000;stroke-width:0.8;\" x=\"391.30625\" xlink:href=\"#m9b8775c7f5\" y=\"48.121245\"/>\r\n      </g>\r\n     </g>\r\n     <g id=\"text_12\">\r\n      <!-- 15.30 -->\r\n      <g transform=\"translate(20.878125 51.920464)scale(0.1 -0.1)\">\r\n       <use xlink:href=\"#DejaVuSans-49\"/>\r\n       <use x=\"63.623047\" xlink:href=\"#DejaVuSans-53\"/>\r\n       <use x=\"127.246094\" xlink:href=\"#DejaVuSans-46\"/>\r\n       <use x=\"159.033203\" xlink:href=\"#DejaVuSans-51\"/>\r\n       <use x=\"222.65625\" xlink:href=\"#DejaVuSans-48\"/>\r\n      </g>\r\n     </g>\r\n    </g>\r\n    <g id=\"ytick_7\">\r\n     <g id=\"line2d_29\">\r\n      <path clip-path=\"url(#p625b76fbde)\" d=\"M 56.50625 15.716227 \r\nL 391.30625 15.716227 \r\n\" style=\"fill:none;stroke:#000000;stroke-dasharray:1.85,0.8;stroke-dashoffset:0;stroke-width:0.5;\"/>\r\n     </g>\r\n     <g id=\"line2d_30\">\r\n      <g>\r\n       <use style=\"stroke:#000000;stroke-width:0.8;\" x=\"56.50625\" xlink:href=\"#me6cf50a88a\" y=\"15.716227\"/>\r\n      </g>\r\n     </g>\r\n     <g id=\"line2d_31\">\r\n      <g>\r\n       <use style=\"stroke:#000000;stroke-width:0.8;\" x=\"391.30625\" xlink:href=\"#m9b8775c7f5\" y=\"15.716227\"/>\r\n      </g>\r\n     </g>\r\n     <g id=\"text_13\">\r\n      <!-- 15.32 -->\r\n      <g transform=\"translate(20.878125 19.515446)scale(0.1 -0.1)\">\r\n       <use xlink:href=\"#DejaVuSans-49\"/>\r\n       <use x=\"63.623047\" xlink:href=\"#DejaVuSans-53\"/>\r\n       <use x=\"127.246094\" xlink:href=\"#DejaVuSans-46\"/>\r\n       <use x=\"159.033203\" xlink:href=\"#DejaVuSans-51\"/>\r\n       <use x=\"222.65625\" xlink:href=\"#DejaVuSans-50\"/>\r\n      </g>\r\n     </g>\r\n    </g>\r\n    <g id=\"text_14\">\r\n     <!-- American option value -->\r\n     <g transform=\"translate(14.798438 172.360625)rotate(-90)scale(0.1 -0.1)\">\r\n      <defs>\r\n       <path d=\"M 34.1875 63.1875 \r\nL 20.796875 26.90625 \r\nL 47.609375 26.90625 \r\nz\r\nM 28.609375 72.90625 \r\nL 39.796875 72.90625 \r\nL 67.578125 0 \r\nL 57.328125 0 \r\nL 50.6875 18.703125 \r\nL 17.828125 18.703125 \r\nL 11.1875 0 \r\nL 0.78125 0 \r\nz\r\n\" id=\"DejaVuSans-65\"/>\r\n       <path d=\"M 52 44.1875 \r\nQ 55.375 50.25 60.0625 53.125 \r\nQ 64.75 56 71.09375 56 \r\nQ 79.640625 56 84.28125 50.015625 \r\nQ 88.921875 44.046875 88.921875 33.015625 \r\nL 88.921875 0 \r\nL 79.890625 0 \r\nL 79.890625 32.71875 \r\nQ 79.890625 40.578125 77.09375 44.375 \r\nQ 74.3125 48.1875 68.609375 48.1875 \r\nQ 61.625 48.1875 57.5625 43.546875 \r\nQ 53.515625 38.921875 53.515625 30.90625 \r\nL 53.515625 0 \r\nL 44.484375 0 \r\nL 44.484375 32.71875 \r\nQ 44.484375 40.625 41.703125 44.40625 \r\nQ 38.921875 48.1875 33.109375 48.1875 \r\nQ 26.21875 48.1875 22.15625 43.53125 \r\nQ 18.109375 38.875 18.109375 30.90625 \r\nL 18.109375 0 \r\nL 9.078125 0 \r\nL 9.078125 54.6875 \r\nL 18.109375 54.6875 \r\nL 18.109375 46.1875 \r\nQ 21.1875 51.21875 25.484375 53.609375 \r\nQ 29.78125 56 35.6875 56 \r\nQ 41.65625 56 45.828125 52.96875 \r\nQ 50 49.953125 52 44.1875 \r\nz\r\n\" id=\"DejaVuSans-109\"/>\r\n       <path d=\"M 2.984375 54.6875 \r\nL 12.5 54.6875 \r\nL 29.59375 8.796875 \r\nL 46.6875 54.6875 \r\nL 56.203125 54.6875 \r\nL 35.6875 0 \r\nL 23.484375 0 \r\nz\r\n\" id=\"DejaVuSans-118\"/>\r\n       <path d=\"M 9.421875 75.984375 \r\nL 18.40625 75.984375 \r\nL 18.40625 0 \r\nL 9.421875 0 \r\nz\r\n\" id=\"DejaVuSans-108\"/>\r\n       <path d=\"M 8.5 21.578125 \r\nL 8.5 54.6875 \r\nL 17.484375 54.6875 \r\nL 17.484375 21.921875 \r\nQ 17.484375 14.15625 20.5 10.265625 \r\nQ 23.53125 6.390625 29.59375 6.390625 \r\nQ 36.859375 6.390625 41.078125 11.03125 \r\nQ 45.3125 15.671875 45.3125 23.6875 \r\nL 45.3125 54.6875 \r\nL 54.296875 54.6875 \r\nL 54.296875 0 \r\nL 45.3125 0 \r\nL 45.3125 8.40625 \r\nQ 42.046875 3.421875 37.71875 1 \r\nQ 33.40625 -1.421875 27.6875 -1.421875 \r\nQ 18.265625 -1.421875 13.375 4.4375 \r\nQ 8.5 10.296875 8.5 21.578125 \r\nz\r\nM 31.109375 56 \r\nz\r\n\" id=\"DejaVuSans-117\"/>\r\n      </defs>\r\n      <use xlink:href=\"#DejaVuSans-65\"/>\r\n      <use x=\"68.408203\" xlink:href=\"#DejaVuSans-109\"/>\r\n      <use x=\"165.820312\" xlink:href=\"#DejaVuSans-101\"/>\r\n      <use x=\"227.34375\" xlink:href=\"#DejaVuSans-114\"/>\r\n      <use x=\"268.457031\" xlink:href=\"#DejaVuSans-105\"/>\r\n      <use x=\"296.240234\" xlink:href=\"#DejaVuSans-99\"/>\r\n      <use x=\"351.220703\" xlink:href=\"#DejaVuSans-97\"/>\r\n      <use x=\"412.5\" xlink:href=\"#DejaVuSans-110\"/>\r\n      <use x=\"475.878906\" xlink:href=\"#DejaVuSans-32\"/>\r\n      <use x=\"507.666016\" xlink:href=\"#DejaVuSans-111\"/>\r\n      <use x=\"568.847656\" xlink:href=\"#DejaVuSans-112\"/>\r\n      <use x=\"632.324219\" xlink:href=\"#DejaVuSans-116\"/>\r\n      <use x=\"671.533203\" xlink:href=\"#DejaVuSans-105\"/>\r\n      <use x=\"699.316406\" xlink:href=\"#DejaVuSans-111\"/>\r\n      <use x=\"760.498047\" xlink:href=\"#DejaVuSans-110\"/>\r\n      <use x=\"823.876953\" xlink:href=\"#DejaVuSans-32\"/>\r\n      <use x=\"855.664062\" xlink:href=\"#DejaVuSans-118\"/>\r\n      <use x=\"914.84375\" xlink:href=\"#DejaVuSans-97\"/>\r\n      <use x=\"976.123047\" xlink:href=\"#DejaVuSans-108\"/>\r\n      <use x=\"1003.90625\" xlink:href=\"#DejaVuSans-117\"/>\r\n      <use x=\"1067.285156\" xlink:href=\"#DejaVuSans-101\"/>\r\n     </g>\r\n    </g>\r\n   </g>\r\n   <g id=\"line2d_32\">\r\n    <path clip-path=\"url(#p625b76fbde)\" d=\"M 71.724432 17.083636 \r\nL 75.144248 214.756364 \r\nL 78.564064 34.505228 \r\nL 81.98388 202.532608 \r\nL 85.403696 47.061868 \r\nL 88.823513 193.335852 \r\nL 92.243329 56.614907 \r\nL 95.663145 186.052401 \r\nL 99.082961 64.163529 \r\nL 102.502777 180.377084 \r\nL 105.922593 70.354967 \r\nL 109.342409 175.678218 \r\nL 112.762225 75.450338 \r\nL 116.182042 171.767609 \r\nL 119.601858 79.72489 \r\nL 123.021674 168.503359 \r\nL 126.44149 83.422809 \r\nL 129.861306 165.736112 \r\nL 133.281122 86.560313 \r\nL 136.700938 163.270181 \r\nL 140.120755 89.311806 \r\nL 143.540571 161.118329 \r\nL 146.960387 91.676999 \r\nL 150.380203 159.192949 \r\nL 153.800019 93.779526 \r\nL 157.219835 157.515961 \r\nL 160.639651 95.68039 \r\nL 164.059468 155.99991 \r\nL 167.479284 97.364749 \r\nL 170.8991 154.621302 \r\nL 174.318916 98.888054 \r\nL 177.738732 153.382785 \r\nL 181.158548 100.272049 \r\nL 184.578364 152.265036 \r\nL 187.998181 101.533788 \r\nL 191.417997 151.238861 \r\nL 194.837813 102.697481 \r\nL 198.257629 150.314035 \r\nL 201.677445 103.778723 \r\nL 205.097261 149.458678 \r\nL 208.517077 104.753719 \r\nL 211.936894 148.653751 \r\nL 215.35671 105.658033 \r\nL 218.776526 147.919258 \r\nL 222.196342 106.496886 \r\nL 225.616158 147.242406 \r\nL 229.035974 107.286859 \r\nL 232.45579 146.60897 \r\nL 235.875606 108.019433 \r\nL 239.295423 146.017607 \r\nL 242.715239 108.698811 \r\nL 246.135055 145.463211 \r\nL 249.554871 109.343675 \r\nL 252.974687 144.950358 \r\nL 256.394503 109.945305 \r\nL 259.814319 144.454183 \r\nL 263.234136 110.501658 \r\nL 266.653952 143.990687 \r\nL 270.073768 111.028593 \r\nL 273.493584 143.552721 \r\nL 276.9134 111.526259 \r\nL 280.333216 143.141682 \r\nL 283.753032 111.996308 \r\nL 287.172849 142.751284 \r\nL 290.592665 112.442426 \r\nL 294.012481 142.382426 \r\nL 297.432297 112.865872 \r\nL 300.852113 142.03188 \r\nL 304.271929 113.263329 \r\nL 307.691745 141.694968 \r\nL 311.111562 113.64497 \r\nL 314.531378 141.381627 \r\nL 317.951194 114.010597 \r\nL 321.37101 141.080424 \r\nL 324.790826 114.357025 \r\nL 328.210642 140.792583 \r\nL 331.630458 114.687891 \r\nL 335.050275 140.517354 \r\nL 338.470091 115.001897 \r\nL 341.889907 140.25441 \r\nL 345.309723 115.301649 \r\nL 348.729539 140.003732 \r\nL 352.149355 115.58915 \r\nL 355.569171 139.761051 \r\nL 358.988987 115.863327 \r\nL 362.408804 139.529875 \r\nL 365.82862 116.12904 \r\nL 369.248436 139.312698 \r\nL 372.668252 116.38665 \r\nL 376.088068 139.101902 \r\n\" style=\"fill:none;stroke:#008000;stroke-linecap:square;\"/>\r\n   </g>\r\n   <g id=\"line2d_33\">\r\n    <path clip-path=\"url(#p625b76fbde)\" d=\"M 71.724432 125.435804 \r\nL 75.144248 113.185679 \r\nL 78.564064 126.158035 \r\nL 81.98388 115.445061 \r\nL 85.403696 126.475236 \r\nL 88.823513 117.116642 \r\nL 92.243329 126.672598 \r\nL 95.663145 118.289866 \r\nL 99.082961 126.837557 \r\nL 102.502777 119.382099 \r\nL 105.922593 127.053305 \r\nL 109.342409 120.221773 \r\nL 112.762225 127.213293 \r\nL 116.182042 120.927611 \r\nL 119.601858 127.342865 \r\nL 123.021674 121.570291 \r\nL 126.44149 127.51041 \r\nL 129.861306 122.152355 \r\nL 133.281122 127.604885 \r\nL 136.700938 122.589543 \r\nL 140.120755 127.706297 \r\nL 143.540571 122.978211 \r\nL 146.960387 127.742862 \r\nL 150.380203 123.294692 \r\nL 153.800019 127.783072 \r\nL 157.219835 123.610646 \r\nL 160.639651 127.844714 \r\nL 164.059468 123.877894 \r\nL 167.479284 127.878604 \r\nL 170.8991 124.10437 \r\nL 174.318916 127.912556 \r\nL 177.738732 124.318164 \r\nL 181.158548 127.945819 \r\nL 184.578364 124.520774 \r\nL 187.998181 127.976955 \r\nL 191.417997 124.700208 \r\nL 194.837813 128.01483 \r\nL 198.257629 124.880577 \r\nL 201.677445 128.062203 \r\nL 205.097261 125.042045 \r\nL 208.517077 128.084455 \r\nL 211.936894 125.175763 \r\nL 215.35671 128.107964 \r\nL 218.776526 125.310418 \r\nL 222.196342 128.130097 \r\nL 225.616158 125.440661 \r\nL 229.035974 128.160689 \r\nL 232.45579 125.558683 \r\nL 235.875606 128.185386 \r\nL 239.295423 125.6687 \r\nL 242.715239 128.203323 \r\nL 246.135055 125.770454 \r\nL 249.554871 128.22876 \r\nL 252.974687 125.872758 \r\nL 256.394503 128.249094 \r\nL 259.814319 125.954471 \r\nL 263.234136 128.258868 \r\nL 266.653952 126.034882 \r\nL 270.073768 128.270921 \r\nL 273.493584 126.109754 \r\nL 276.9134 128.282722 \r\nL 280.333216 126.183073 \r\nL 283.753032 128.293537 \r\nL 287.172849 126.25086 \r\nL 290.592665 128.304923 \r\nL 294.012481 126.31608 \r\nL 297.432297 128.316227 \r\nL 300.852113 126.377359 \r\nL 304.271929 128.322415 \r\nL 307.691745 126.431687 \r\nL 311.111562 128.332116 \r\nL 314.531378 126.490506 \r\nL 317.951194 128.343732 \r\nL 321.37101 126.543747 \r\nL 324.790826 128.352814 \r\nL 328.210642 126.59387 \r\nL 331.630458 128.361848 \r\nL 335.050275 126.641247 \r\nL 338.470091 128.368491 \r\nL 341.889907 126.686574 \r\nL 345.309723 128.374393 \r\nL 348.729539 126.730769 \r\nL 352.149355 128.380687 \r\nL 355.569171 126.770416 \r\nL 358.988987 128.385499 \r\nL 362.408804 126.809807 \r\nL 365.82862 128.392959 \r\nL 369.248436 126.852157 \r\nL 372.668252 128.402752 \r\nL 376.088068 126.89051 \r\n\" style=\"fill:none;stroke:#0000ff;stroke-linecap:square;\"/>\r\n   </g>\r\n   <g id=\"line2d_34\">\r\n    <path clip-path=\"url(#p625b76fbde)\" d=\"M 71.724432 125.435804 \r\nL 75.144248 113.185679 \r\nL 78.564064 126.158035 \r\nL 81.98388 115.445061 \r\nL 85.403696 126.475236 \r\nL 88.823513 117.116642 \r\nL 92.243329 126.672598 \r\nL 95.663145 118.289866 \r\nL 99.082961 126.837557 \r\nL 102.502777 119.382099 \r\nL 105.922593 127.053305 \r\nL 109.342409 120.221773 \r\nL 112.762225 127.213293 \r\nL 116.182042 120.927611 \r\nL 119.601858 127.342865 \r\nL 123.021674 121.570291 \r\nL 126.44149 127.51041 \r\nL 129.861306 122.152355 \r\nL 133.281122 127.604885 \r\nL 136.700938 122.589543 \r\nL 140.120755 127.706297 \r\nL 143.540571 122.978211 \r\nL 146.960387 127.742862 \r\nL 150.380203 123.294692 \r\nL 153.800019 127.783072 \r\nL 157.219835 123.610646 \r\nL 160.639651 127.844714 \r\nL 164.059468 123.877894 \r\nL 167.479284 127.878604 \r\nL 170.8991 124.10437 \r\nL 174.318916 127.912556 \r\nL 177.738732 124.318164 \r\nL 181.158548 127.945819 \r\nL 184.578364 124.520774 \r\nL 187.998181 127.976955 \r\nL 191.417997 124.700208 \r\nL 194.837813 128.01483 \r\nL 198.257629 124.880577 \r\nL 201.677445 128.062203 \r\nL 205.097261 125.042045 \r\nL 208.517077 128.084455 \r\nL 211.936894 125.175763 \r\nL 215.35671 128.107964 \r\nL 218.776526 125.310418 \r\nL 222.196342 128.130097 \r\nL 225.616158 125.440661 \r\nL 229.035974 128.160689 \r\nL 232.45579 125.558683 \r\nL 235.875606 128.185386 \r\nL 239.295423 125.6687 \r\nL 242.715239 128.203323 \r\nL 246.135055 125.770454 \r\nL 249.554871 128.22876 \r\nL 252.974687 125.872758 \r\nL 256.394503 128.249094 \r\nL 259.814319 125.954471 \r\nL 263.234136 128.258868 \r\nL 266.653952 126.034882 \r\nL 270.073768 128.270921 \r\nL 273.493584 126.109754 \r\nL 276.9134 128.282722 \r\nL 280.333216 126.183073 \r\nL 283.753032 128.293537 \r\nL 287.172849 126.25086 \r\nL 290.592665 128.304923 \r\nL 294.012481 126.31608 \r\nL 297.432297 128.316227 \r\nL 300.852113 126.377359 \r\nL 304.271929 128.322415 \r\nL 307.691745 126.431687 \r\nL 311.111562 128.332116 \r\nL 314.531378 126.490506 \r\nL 317.951194 128.343732 \r\nL 321.37101 126.543747 \r\nL 324.790826 128.352814 \r\nL 328.210642 126.59387 \r\nL 331.630458 128.361848 \r\nL 335.050275 126.641247 \r\nL 338.470091 128.368491 \r\nL 341.889907 126.686574 \r\nL 345.309723 128.374393 \r\nL 348.729539 126.730769 \r\nL 352.149355 128.380687 \r\nL 355.569171 126.770416 \r\nL 358.988987 128.385499 \r\nL 362.408804 126.809807 \r\nL 365.82862 128.392959 \r\nL 369.248436 126.852157 \r\nL 372.668252 128.402752 \r\nL 376.088068 126.89051 \r\n\" style=\"fill:none;stroke:#ff0000;stroke-linecap:square;\"/>\r\n   </g>\r\n   <g id=\"line2d_35\">\r\n    <path clip-path=\"url(#p625b76fbde)\" d=\"M 71.724432 17.083636 \r\nL 75.144248 214.756364 \r\nL 78.564064 34.505228 \r\nL 81.98388 202.532608 \r\nL 85.403696 47.061868 \r\nL 88.823513 193.335852 \r\nL 92.243329 56.614907 \r\nL 95.663145 186.052401 \r\nL 99.082961 64.163529 \r\nL 102.502777 180.377084 \r\nL 105.922593 70.354967 \r\nL 109.342409 175.678218 \r\nL 112.762225 75.450338 \r\nL 116.182042 171.767609 \r\nL 119.601858 79.72489 \r\nL 123.021674 168.503359 \r\nL 126.44149 83.422809 \r\nL 129.861306 165.736112 \r\nL 133.281122 86.560313 \r\nL 136.700938 163.270181 \r\nL 140.120755 89.311806 \r\nL 143.540571 161.118329 \r\nL 146.960387 91.676999 \r\nL 150.380203 159.192949 \r\nL 153.800019 93.779526 \r\nL 157.219835 157.515961 \r\nL 160.639651 95.68039 \r\nL 164.059468 155.99991 \r\nL 167.479284 97.364749 \r\nL 170.8991 154.621302 \r\nL 174.318916 98.888054 \r\nL 177.738732 153.382785 \r\nL 181.158548 100.272049 \r\nL 184.578364 152.265036 \r\nL 187.998181 101.533788 \r\nL 191.417997 151.238861 \r\nL 194.837813 102.697481 \r\nL 198.257629 150.314035 \r\nL 201.677445 103.778723 \r\nL 205.097261 149.458678 \r\nL 208.517077 104.753719 \r\nL 211.936894 148.653751 \r\nL 215.35671 105.658033 \r\nL 218.776526 147.919258 \r\nL 222.196342 106.496886 \r\nL 225.616158 147.242406 \r\nL 229.035974 107.286859 \r\nL 232.45579 146.60897 \r\nL 235.875606 108.019433 \r\nL 239.295423 146.017607 \r\nL 242.715239 108.698811 \r\nL 246.135055 145.463211 \r\nL 249.554871 109.343675 \r\nL 252.974687 144.950358 \r\nL 256.394503 109.945305 \r\nL 259.814319 144.454183 \r\nL 263.234136 110.501658 \r\nL 266.653952 143.990687 \r\nL 270.073768 111.028593 \r\nL 273.493584 143.552721 \r\nL 276.9134 111.526259 \r\nL 280.333216 143.141682 \r\nL 283.753032 111.996308 \r\nL 287.172849 142.751284 \r\nL 290.592665 112.442426 \r\nL 294.012481 142.382426 \r\nL 297.432297 112.865872 \r\nL 300.852113 142.03188 \r\nL 304.271929 113.263329 \r\nL 307.691745 141.694968 \r\nL 311.111562 113.64497 \r\nL 314.531378 141.381627 \r\nL 317.951194 114.010597 \r\nL 321.37101 141.080424 \r\nL 324.790826 114.357025 \r\nL 328.210642 140.792583 \r\nL 331.630458 114.687891 \r\nL 335.050275 140.517354 \r\nL 338.470091 115.001897 \r\nL 341.889907 140.25441 \r\nL 345.309723 115.301649 \r\nL 348.729539 140.003732 \r\nL 352.149355 115.58915 \r\nL 355.569171 139.761051 \r\nL 358.988987 115.863327 \r\nL 362.408804 139.529875 \r\nL 365.82862 116.12904 \r\nL 369.248436 139.312698 \r\nL 372.668252 116.38665 \r\nL 376.088068 139.101902 \r\n\" style=\"fill:none;stroke:#bfbf00;stroke-linecap:square;\"/>\r\n   </g>\r\n   <g id=\"patch_3\">\r\n    <path d=\"M 56.50625 224.64 \r\nL 56.50625 7.2 \r\n\" style=\"fill:none;stroke:#000000;stroke-linecap:square;stroke-linejoin:miter;stroke-width:0.8;\"/>\r\n   </g>\r\n   <g id=\"patch_4\">\r\n    <path d=\"M 56.50625 224.64 \r\nL 391.30625 224.64 \r\n\" style=\"fill:none;stroke:#000000;stroke-linecap:square;stroke-linejoin:miter;stroke-width:0.8;\"/>\r\n   </g>\r\n  </g>\r\n </g>\r\n <defs>\r\n  <clipPath id=\"p625b76fbde\">\r\n   <rect height=\"217.44\" width=\"334.8\" x=\"56.50625\" y=\"7.2\"/>\r\n  </clipPath>\r\n </defs>\r\n</svg>\r\n",
      "image/png": "[encoded data removed]"
     },
     "metadata": {
      "needs_background": "light"
     }
    }
   ],
   "source": [
    "import matplotlib.pyplot as plt\n",
    "from matplotlib import rcParams\n",
    "\n",
    "scip = 10\n",
    "\n",
    "fig, ax = plt.subplots()\n",
    "plt.plot(disc_num[scip:], y_bt[scip:], label=\"Binomial tree\", color=\"g\", linewidth=1)\n",
    "plt.plot(disc_num[scip:], y_bt_cv[scip:], label=\"Binomial tree (control variate)\", color=\"b\", linewidth=1)\n",
    "plt.plot(disc_num[scip:], y_bt_cv_is[scip:], label=\"Binomial tree (cv + is)\", color=\"r\", linewidth=1)\n",
    "plt.plot(disc_num[scip:], y_bt_is[scip:], label=\"Binomial tree (importance sampling)\", color=\"y\", linewidth=1)\n",
    "\n",
    "\n",
    "# formatting the chart\n",
    "ax.yaxis.grid(True, color='k', linestyle='--', linewidth=0.5)\n",
    "ax.spines['right'].set_visible(False)\n",
    "ax.spines['top'].set_visible(False)\n",
    "plt.tick_params(axis='x',which='both',top='off')\n",
    "plt.tick_params(axis='y',which='both',right='off')\n",
    "plt.xlabel(\"Discretisation steps\")\n",
    "plt.ylabel(\"American option value\")\n",
    "plt.show()"
   ]
  },
  {
   "cell_type": "code",
   "execution_count": 44,
   "metadata": {
    "collapsed": true
   },
   "outputs": [],
   "source": [
    "# Fast solver for American volatility\n",
    "def implied_american(df,r,pc,f,fwd,k,price,t,N=100):\n",
    "    iv = implied_black(df,f,k,price,t,pc)\n",
    "    fx = binomial_tree(pc,fwd,k,r,iv,t,N,\"true\")\n",
    "    #fx = binomial_tree_control_variate(pc,fwd,k,r,iv,t,N,\"true\",\"true\")  \n",
    "        \n",
    "    dx = fx - price\n",
    "    it = 0\n",
    "    p = price    \n",
    "    \n",
    "    while abs(dx) > 0.00001 and it < 5:\n",
    "        p = p - dx\n",
    "        iv = implied_black(df,f,k,p,t,pc)\n",
    "        fx = binomial_tree(pc,fwd,k,r,iv,t,N,\"true\")\n",
    "        #fx = binomial_tree_control_variate(pc,fwd,k,r,iv,t,N,\"true\",\"true\")  \n",
    "       \n",
    "        dx = fx - price\n",
    "        \n",
    "        it = it + 1\n",
    "\n",
    "    return iv"
   ]
  },
  {
   "cell_type": "code",
   "execution_count": 45,
   "metadata": {
    "collapsed": false
   },
   "outputs": [
    {
     "output_type": "stream",
     "name": "stdout",
     "text": [
      "0.4037520516718719\n0.3999999968191812\n"
     ]
    }
   ],
   "source": [
    "ib = implied_black(df,fwd,strike,bt_put_am,expiry,-1)\n",
    "ia = implied_american(df,r,-1,fwd,fwd,strike,bt_put_am,expiry)\n",
    "\n",
    "print(ib)\n",
    "print(ia)"
   ]
  },
  {
   "cell_type": "code",
   "execution_count": 46,
   "metadata": {
    "collapsed": false
   },
   "outputs": [
    {
     "output_type": "stream",
     "name": "stdout",
     "text": [
      "[0.95, 1.05, 0.95, 1.05, 0.95, 1.05, 0.95, 1.05, 0.95, 1.05, 0.95, 1.05, 0.95, 1.05, 0.95, 1.05, 0.95, 1.05, 0.95, 1.05, 0.95, 1.05, 0.95, 1.05, 0.95, 1.05, 0.95, 1.05, 0.95, 1.05, 0.95, 1.05, 0.95, 1.05, 0.95, 1.05, 0.95, 1.05, 0.95, 1.05, 0.95, 1.05, 0.95, 1.05, 0.95, 1.05, 0.95, 1.05, 0.95, 1.05, 0.95, 1.05, 0.95, 1.05, 0.95, 1.05, 0.95, 1.05, 0.95, 1.05, 0.95, 1.05, 0.95, 1.05, 0.95, 1.05, 0.95, 1.05, 0.95, 1.05, 0.95, 1.05, 0.95, 1.05, 0.95, 1.05, 0.95, 1.05, 0.95, 1.05, 0.95, 1.05, 0.95, 1.05, 0.95, 1.05, 0.95, 1.05, 0.95, 1.05, 0.95, 1.05, 0.95, 1.05, 0.95, 1.05, 0.95, 1.05, 0.95, 1.05, 0.95, 1.05, 0.95, 1.05, 0.95, 1.05, 0.95, 1.05, 0.95, 1.05, 0.95, 1.05, 0.95, 1.05, 0.95, 1.05, 0.95, 1.05, 0.95, 1.05, 0.95, 1.05, 0.95, 1.05, 0.95, 1.05, 0.95, 1.05, 0.95, 1.05, 0.95, 1.05, 0.95, 1.05, 0.95, 1.05, 0.95, 1.05, 0.95, 1.05, 0.95, 1.05, 0.95, 1.05, 0.95, 1.05, 0.95, 1.05, 0.95, 1.05, 0.95, 1.05, 0.95, 1.05, 0.95, 1.05, 0.95, 1.05, 0.95, 1.05, 0.95, 1.05, 0.95, 1.05, 0.95, 1.05, 0.95, 1.05, 0.95, 1.05, 0.95, 1.05, 0.95, 1.05, 0.95, 1.05, 0.95, 1.05, 0.95, 1.05, 0.95, 1.05, 0.95, 1.05, 0.95, 1.05, 0.95, 1.05, 0.95, 1.05, 0.95, 1.05, 0.95, 1.05, 0.95, 1.05, 0.95, 1.05, 0.95, 1.05]\n"
     ]
    },
    {
     "output_type": "error",
     "ename": "NameError",
     "evalue": "name 'prices' is not defined",
     "traceback": [
      "\u001b[1;31m---------------------------------------------------------------------------\u001b[0m",
      "\u001b[1;31mNameError\u001b[0m                                 Traceback (most recent call last)",
      "\u001b[1;32m<ipython-input-46-8aa874fff42d>\u001b[0m in \u001b[0;36m<module>\u001b[1;34m\u001b[0m\n\u001b[0;32m     11\u001b[0m \u001b[0mput_prices_eu\u001b[0m \u001b[1;33m=\u001b[0m \u001b[0mnp\u001b[0m\u001b[1;33m.\u001b[0m\u001b[0mzeros\u001b[0m\u001b[1;33m(\u001b[0m\u001b[1;33m(\u001b[0m\u001b[1;36m2\u001b[0m\u001b[1;33m,\u001b[0m\u001b[1;36m2\u001b[0m\u001b[1;33m)\u001b[0m\u001b[1;33m)\u001b[0m\u001b[1;33m\u001b[0m\u001b[1;33m\u001b[0m\u001b[0m\n\u001b[0;32m     12\u001b[0m \u001b[0mcall_prices_eu\u001b[0m \u001b[1;33m=\u001b[0m \u001b[0mnp\u001b[0m\u001b[1;33m.\u001b[0m\u001b[0mzeros\u001b[0m\u001b[1;33m(\u001b[0m\u001b[1;33m(\u001b[0m\u001b[1;36m2\u001b[0m\u001b[1;33m,\u001b[0m\u001b[1;36m2\u001b[0m\u001b[1;33m)\u001b[0m\u001b[1;33m)\u001b[0m\u001b[1;33m\u001b[0m\u001b[1;33m\u001b[0m\u001b[0m\n\u001b[1;32m---> 13\u001b[1;33m \u001b[0mprint\u001b[0m\u001b[1;33m(\u001b[0m\u001b[0mprices\u001b[0m\u001b[1;33m)\u001b[0m\u001b[1;33m\u001b[0m\u001b[1;33m\u001b[0m\u001b[0m\n\u001b[0m",
      "\u001b[1;31mNameError\u001b[0m: name 'prices' is not defined"
     ]
    }
   ],
   "source": [
    "ratio = [0.95, 1.05]\n",
    "strikes = fwd * ratio\n",
    "print(strikes)\n",
    "vols = [[0.26, 0.25], [0.24, 0.23]]\n",
    "put_prices = np.zeros((2,2))\n",
    "call_prices = np.zeros((2,2))\n",
    "\n",
    "put_vols = np.zeros((2,2))\n",
    "call_vols = np.zeros((2,2))\n",
    "\n",
    "put_prices_eu = np.zeros((2,2))\n",
    "call_prices_eu = np.zeros((2,2))\n",
    "print(prices)"
   ]
  },
  {
   "cell_type": "code",
   "execution_count": 47,
   "metadata": {
    "collapsed": false
   },
   "outputs": [
    {
     "output_type": "error",
     "ename": "IndexError",
     "evalue": "list index out of range",
     "traceback": [
      "\u001b[1;31m---------------------------------------------------------------------------\u001b[0m",
      "\u001b[1;31mIndexError\u001b[0m                                Traceback (most recent call last)",
      "\u001b[1;32m<ipython-input-47-1a5382b519f2>\u001b[0m in \u001b[0;36m<module>\u001b[1;34m\u001b[0m\n\u001b[0;32m      2\u001b[0m \u001b[1;32mfor\u001b[0m \u001b[0mi\u001b[0m\u001b[1;33m,\u001b[0m\u001b[0mk\u001b[0m \u001b[1;32min\u001b[0m \u001b[0menumerate\u001b[0m\u001b[1;33m(\u001b[0m\u001b[0mstrikes\u001b[0m\u001b[1;33m)\u001b[0m\u001b[1;33m:\u001b[0m\u001b[1;33m\u001b[0m\u001b[1;33m\u001b[0m\u001b[0m\n\u001b[0;32m      3\u001b[0m     \u001b[1;32mfor\u001b[0m \u001b[0mj\u001b[0m \u001b[1;32min\u001b[0m \u001b[0mrange\u001b[0m\u001b[1;33m(\u001b[0m\u001b[1;36m2\u001b[0m\u001b[1;33m)\u001b[0m\u001b[1;33m:\u001b[0m\u001b[1;33m\u001b[0m\u001b[1;33m\u001b[0m\u001b[0m\n\u001b[1;32m----> 4\u001b[1;33m         \u001b[0mput_prices\u001b[0m\u001b[1;33m[\u001b[0m\u001b[0mi\u001b[0m\u001b[1;33m]\u001b[0m\u001b[1;33m[\u001b[0m\u001b[0mj\u001b[0m\u001b[1;33m]\u001b[0m \u001b[1;33m=\u001b[0m \u001b[0mbinomial_tree_control_variate\u001b[0m\u001b[1;33m(\u001b[0m\u001b[1;33m-\u001b[0m\u001b[1;36m1\u001b[0m\u001b[1;33m,\u001b[0m\u001b[0mfwd\u001b[0m\u001b[1;33m,\u001b[0m\u001b[0mk\u001b[0m\u001b[1;33m,\u001b[0m\u001b[0mr\u001b[0m\u001b[1;33m,\u001b[0m\u001b[0mvols\u001b[0m\u001b[1;33m[\u001b[0m\u001b[0mi\u001b[0m\u001b[1;33m]\u001b[0m\u001b[1;33m[\u001b[0m\u001b[0mj\u001b[0m\u001b[1;33m]\u001b[0m\u001b[1;33m,\u001b[0m\u001b[0mexpiry\u001b[0m\u001b[1;33m,\u001b[0m\u001b[0mnum\u001b[0m\u001b[1;33m,\u001b[0m\u001b[1;34m\"true\"\u001b[0m\u001b[1;33m,\u001b[0m\u001b[1;34m\"true\"\u001b[0m\u001b[1;33m)\u001b[0m\u001b[1;33m\u001b[0m\u001b[1;33m\u001b[0m\u001b[0m\n\u001b[0m\u001b[0;32m      5\u001b[0m         \u001b[0mcall_prices\u001b[0m\u001b[1;33m[\u001b[0m\u001b[0mi\u001b[0m\u001b[1;33m]\u001b[0m\u001b[1;33m[\u001b[0m\u001b[0mj\u001b[0m\u001b[1;33m]\u001b[0m \u001b[1;33m=\u001b[0m \u001b[0mbinomial_tree_control_variate\u001b[0m\u001b[1;33m(\u001b[0m\u001b[1;36m1\u001b[0m\u001b[1;33m,\u001b[0m\u001b[0mfwd\u001b[0m\u001b[1;33m,\u001b[0m\u001b[0mk\u001b[0m\u001b[1;33m,\u001b[0m\u001b[0mr\u001b[0m\u001b[1;33m,\u001b[0m\u001b[0mvols\u001b[0m\u001b[1;33m[\u001b[0m\u001b[0mi\u001b[0m\u001b[1;33m]\u001b[0m\u001b[1;33m[\u001b[0m\u001b[0mj\u001b[0m\u001b[1;33m]\u001b[0m\u001b[1;33m,\u001b[0m\u001b[0mexpiry\u001b[0m\u001b[1;33m,\u001b[0m\u001b[0mnum\u001b[0m\u001b[1;33m,\u001b[0m\u001b[1;34m\"true\"\u001b[0m\u001b[1;33m,\u001b[0m\u001b[1;34m\"true\"\u001b[0m\u001b[1;33m)\u001b[0m\u001b[1;33m\u001b[0m\u001b[1;33m\u001b[0m\u001b[0m\n\u001b[0;32m      6\u001b[0m \u001b[1;33m\u001b[0m\u001b[0m\n",
      "\u001b[1;31mIndexError\u001b[0m: list index out of range"
     ]
    }
   ],
   "source": [
    "num = 150\n",
    "for i,k in enumerate(strikes):\n",
    "    for j in range(2):\n",
    "        put_prices[i][j] = binomial_tree_control_variate(-1,fwd,k,r,vols[i][j],expiry,num,\"true\",\"true\")\n",
    "        call_prices[i][j] = binomial_tree_control_variate(1,fwd,k,r,vols[i][j],expiry,num,\"true\",\"true\")        \n",
    "\n",
    "print(put_prices)"
   ]
  },
  {
   "cell_type": "code",
   "execution_count": 48,
   "metadata": {
    "collapsed": false
   },
   "outputs": [
    {
     "output_type": "error",
     "ename": "TypeError",
     "evalue": "unsupported operand type(s) for *: 'int' and 'interp1d'",
     "traceback": [
      "\u001b[1;31m---------------------------------------------------------------------------\u001b[0m",
      "\u001b[1;31mTypeError\u001b[0m                                 Traceback (most recent call last)",
      "\u001b[1;32m<ipython-input-48-b9eb037b451b>\u001b[0m in \u001b[0;36m<module>\u001b[1;34m\u001b[0m\n\u001b[0;32m     12\u001b[0m \u001b[1;32mfor\u001b[0m \u001b[0mi\u001b[0m\u001b[1;33m,\u001b[0m\u001b[0mk\u001b[0m \u001b[1;32min\u001b[0m \u001b[0menumerate\u001b[0m\u001b[1;33m(\u001b[0m\u001b[0mstrikes\u001b[0m\u001b[1;33m)\u001b[0m\u001b[1;33m:\u001b[0m\u001b[1;33m\u001b[0m\u001b[1;33m\u001b[0m\u001b[0m\n\u001b[0;32m     13\u001b[0m     \u001b[1;32mfor\u001b[0m \u001b[0mj\u001b[0m \u001b[1;32min\u001b[0m \u001b[0mrange\u001b[0m\u001b[1;33m(\u001b[0m\u001b[1;36m2\u001b[0m\u001b[1;33m)\u001b[0m\u001b[1;33m:\u001b[0m\u001b[1;33m\u001b[0m\u001b[1;33m\u001b[0m\u001b[0m\n\u001b[1;32m---> 14\u001b[1;33m         \u001b[0mput_vols\u001b[0m\u001b[1;33m[\u001b[0m\u001b[0mi\u001b[0m\u001b[1;33m]\u001b[0m\u001b[1;33m[\u001b[0m\u001b[0mj\u001b[0m\u001b[1;33m]\u001b[0m \u001b[1;33m=\u001b[0m \u001b[0mimplied_american\u001b[0m\u001b[1;33m(\u001b[0m\u001b[0mdf\u001b[0m\u001b[1;33m,\u001b[0m\u001b[0mr\u001b[0m\u001b[1;33m,\u001b[0m\u001b[1;33m-\u001b[0m\u001b[1;36m1\u001b[0m\u001b[1;33m,\u001b[0m\u001b[0mfx\u001b[0m\u001b[1;33m,\u001b[0m\u001b[0mfwd\u001b[0m\u001b[1;33m,\u001b[0m\u001b[0mk\u001b[0m\u001b[1;33m,\u001b[0m\u001b[0mput_prices\u001b[0m\u001b[1;33m[\u001b[0m\u001b[0mi\u001b[0m\u001b[1;33m]\u001b[0m\u001b[1;33m[\u001b[0m\u001b[0mj\u001b[0m\u001b[1;33m]\u001b[0m\u001b[1;33m,\u001b[0m\u001b[0mexpiry\u001b[0m\u001b[1;33m)\u001b[0m\u001b[1;33m\u001b[0m\u001b[1;33m\u001b[0m\u001b[0m\n\u001b[0m\u001b[0;32m     15\u001b[0m         \u001b[0mcall_vols\u001b[0m\u001b[1;33m[\u001b[0m\u001b[0mi\u001b[0m\u001b[1;33m]\u001b[0m\u001b[1;33m[\u001b[0m\u001b[0mj\u001b[0m\u001b[1;33m]\u001b[0m \u001b[1;33m=\u001b[0m \u001b[0mimplied_american\u001b[0m\u001b[1;33m(\u001b[0m\u001b[0mdf\u001b[0m\u001b[1;33m,\u001b[0m\u001b[0mr\u001b[0m\u001b[1;33m,\u001b[0m\u001b[1;36m1\u001b[0m\u001b[1;33m,\u001b[0m\u001b[0mfx\u001b[0m\u001b[1;33m,\u001b[0m\u001b[0mfwd\u001b[0m\u001b[1;33m,\u001b[0m\u001b[0mk\u001b[0m\u001b[1;33m,\u001b[0m\u001b[0mcall_prices\u001b[0m\u001b[1;33m[\u001b[0m\u001b[0mi\u001b[0m\u001b[1;33m]\u001b[0m\u001b[1;33m[\u001b[0m\u001b[0mj\u001b[0m\u001b[1;33m]\u001b[0m\u001b[1;33m,\u001b[0m\u001b[0mexpiry\u001b[0m\u001b[1;33m)\u001b[0m\u001b[1;33m\u001b[0m\u001b[1;33m\u001b[0m\u001b[0m\n\u001b[0;32m     16\u001b[0m \u001b[1;33m\u001b[0m\u001b[0m\n",
      "\u001b[1;32m<ipython-input-44-98068b5aaff7>\u001b[0m in \u001b[0;36mimplied_american\u001b[1;34m(df, r, pc, f, fwd, k, price, t, N)\u001b[0m\n\u001b[0;32m      2\u001b[0m \u001b[1;32mdef\u001b[0m \u001b[0mimplied_american\u001b[0m\u001b[1;33m(\u001b[0m\u001b[0mdf\u001b[0m\u001b[1;33m,\u001b[0m\u001b[0mr\u001b[0m\u001b[1;33m,\u001b[0m\u001b[0mpc\u001b[0m\u001b[1;33m,\u001b[0m\u001b[0mf\u001b[0m\u001b[1;33m,\u001b[0m\u001b[0mfwd\u001b[0m\u001b[1;33m,\u001b[0m\u001b[0mk\u001b[0m\u001b[1;33m,\u001b[0m\u001b[0mprice\u001b[0m\u001b[1;33m,\u001b[0m\u001b[0mt\u001b[0m\u001b[1;33m,\u001b[0m\u001b[0mN\u001b[0m\u001b[1;33m=\u001b[0m\u001b[1;36m100\u001b[0m\u001b[1;33m)\u001b[0m\u001b[1;33m:\u001b[0m\u001b[1;33m\u001b[0m\u001b[1;33m\u001b[0m\u001b[0m\n\u001b[0;32m      3\u001b[0m     \u001b[0miv\u001b[0m \u001b[1;33m=\u001b[0m \u001b[0mimplied_black\u001b[0m\u001b[1;33m(\u001b[0m\u001b[0mdf\u001b[0m\u001b[1;33m,\u001b[0m\u001b[0mf\u001b[0m\u001b[1;33m,\u001b[0m\u001b[0mk\u001b[0m\u001b[1;33m,\u001b[0m\u001b[0mprice\u001b[0m\u001b[1;33m,\u001b[0m\u001b[0mt\u001b[0m\u001b[1;33m,\u001b[0m\u001b[0mpc\u001b[0m\u001b[1;33m)\u001b[0m\u001b[1;33m\u001b[0m\u001b[1;33m\u001b[0m\u001b[0m\n\u001b[1;32m----> 4\u001b[1;33m     \u001b[0mfx\u001b[0m \u001b[1;33m=\u001b[0m \u001b[0mbinomial_tree\u001b[0m\u001b[1;33m(\u001b[0m\u001b[0mpc\u001b[0m\u001b[1;33m,\u001b[0m\u001b[0mfwd\u001b[0m\u001b[1;33m,\u001b[0m\u001b[0mk\u001b[0m\u001b[1;33m,\u001b[0m\u001b[0mr\u001b[0m\u001b[1;33m,\u001b[0m\u001b[0miv\u001b[0m\u001b[1;33m,\u001b[0m\u001b[0mt\u001b[0m\u001b[1;33m,\u001b[0m\u001b[0mN\u001b[0m\u001b[1;33m,\u001b[0m\u001b[1;34m\"true\"\u001b[0m\u001b[1;33m)\u001b[0m\u001b[1;33m\u001b[0m\u001b[1;33m\u001b[0m\u001b[0m\n\u001b[0m\u001b[0;32m      5\u001b[0m     \u001b[1;31m#fx = binomial_tree_control_variate(pc,fwd,k,r,iv,t,N,\"true\",\"true\")\u001b[0m\u001b[1;33m\u001b[0m\u001b[1;33m\u001b[0m\u001b[1;33m\u001b[0m\u001b[0m\n\u001b[0;32m      6\u001b[0m \u001b[1;33m\u001b[0m\u001b[0m\n",
      "\u001b[1;32m<ipython-input-22-c13ce7f87259>\u001b[0m in \u001b[0;36mbinomial_tree\u001b[1;34m(pc, fwd, K, r, sigma, T, N, american)\u001b[0m\n\u001b[0;32m     27\u001b[0m \u001b[1;33m\u001b[0m\u001b[0m\n\u001b[0;32m     28\u001b[0m     \u001b[1;31m# Compute the leaves, f_{N, j}\u001b[0m\u001b[1;33m\u001b[0m\u001b[1;33m\u001b[0m\u001b[1;33m\u001b[0m\u001b[0m\n\u001b[1;32m---> 29\u001b[1;33m     \u001b[0mfs\u001b[0m\u001b[1;33m[\u001b[0m\u001b[1;33m:\u001b[0m\u001b[1;33m]\u001b[0m \u001b[1;33m=\u001b[0m \u001b[0mnp\u001b[0m\u001b[1;33m.\u001b[0m\u001b[0mmaximum\u001b[0m\u001b[1;33m(\u001b[0m\u001b[0mpc\u001b[0m\u001b[1;33m*\u001b[0m\u001b[0mfwd\u001b[0m\u001b[1;33m*\u001b[0m\u001b[0mfs2\u001b[0m\u001b[1;33m-\u001b[0m\u001b[0mpc\u001b[0m\u001b[1;33m*\u001b[0m\u001b[0mfs3\u001b[0m\u001b[1;33m,\u001b[0m \u001b[1;36m0.0\u001b[0m\u001b[1;33m)\u001b[0m\u001b[1;33m\u001b[0m\u001b[1;33m\u001b[0m\u001b[0m\n\u001b[0m\u001b[0;32m     30\u001b[0m \u001b[1;33m\u001b[0m\u001b[0m\n\u001b[0;32m     31\u001b[0m     \u001b[1;31m#calculate backward the option prices\u001b[0m\u001b[1;33m\u001b[0m\u001b[1;33m\u001b[0m\u001b[1;33m\u001b[0m\u001b[0m\n",
      "\u001b[1;31mTypeError\u001b[0m: unsupported operand type(s) for *: 'int' and 'interp1d'"
     ]
    }
   ],
   "source": [
    "q = 0.02\n",
    "expiry = 1\n",
    "    \n",
    "t1 = time.clock()\n",
    "\n",
    "#div = [[0.25, 3],[0.5, 3], [0.75, 3]]\n",
    "div = [[0.25, 0],[0.5, 0], [0.75, 0]]\n",
    "fwd = construct_fwd(S,r,q,div,expiry,num)\n",
    "fx = fwd(expiry)\n",
    "df = np.exp(-r*expiry)\n",
    "\n",
    "for i,k in enumerate(strikes):\n",
    "    for j in range(2):\n",
    "        put_vols[i][j] = implied_american(df,r,-1,fx,fwd,k,put_prices[i][j],expiry)\n",
    "        call_vols[i][j] = implied_american(df,r,1,fx,fwd,k,call_prices[i][j],expiry)        \n",
    "\n",
    "        put_prices_eu[i][j] = black(df,fx,k,put_vols[i][j],expiry,-1)\n",
    "        call_prices_eu[i][j] = black(df,fx,k,call_vols[i][j],expiry,1)        \n",
    "        \n",
    "print(put_vols)\n",
    "print(call_vols)\n",
    "\n",
    "print(put_prices_eu)\n",
    "print(call_prices_eu)\n",
    "\n",
    "print(fx-strikes)\n",
    "print(call_prices_eu - put_prices_eu)"
   ]
  },
  {
   "cell_type": "code",
   "execution_count": 739,
   "metadata": {
    "collapsed": true
   },
   "outputs": [],
   "source": [
    "def f(x, strikes, put_prices_eu, call_prices_eu):\n",
    "    dy = 0\n",
    "    \n",
    "    for i,k in enumerate(strikes):\n",
    "        for j in range(2):\n",
    "            dx = x - k + put_prices_eu[i][j] - call_prices_eu[i][j]\n",
    "            dy = dy + dx * dx\n",
    "    \n",
    "    return dy"
   ]
  },
  {
   "cell_type": "code",
   "execution_count": 740,
   "metadata": {
    "collapsed": false
   },
   "outputs": [
    {
     "data": {
      "text/plain": [
       "0.40422767358925599"
      ]
     },
     "execution_count": 740,
     "metadata": {},
     "output_type": "execute_result"
    }
   ],
   "source": [
    "f(102, strikes, put_prices_eu, call_prices_eu)"
   ]
  },
  {
   "cell_type": "code",
   "execution_count": 741,
   "metadata": {
    "collapsed": false
   },
   "outputs": [],
   "source": [
    "from scipy.optimize import minimize\n",
    "\n",
    "res = minimize(f, fx, args=(strikes,put_prices_eu,call_prices_eu))\n",
    "x = res.x[0]"
   ]
  },
  {
   "cell_type": "code",
   "execution_count": 742,
   "metadata": {
    "collapsed": false
   },
   "outputs": [
    {
     "name": "stdout",
     "output_type": "stream",
     "text": [
      "102.122629262\n"
     ]
    }
   ],
   "source": [
    "print(x)"
   ]
  },
  {
   "cell_type": "code",
   "execution_count": 743,
   "metadata": {
    "collapsed": false
   },
   "outputs": [
    {
     "name": "stdout",
     "output_type": "stream",
     "text": [
      "0.028995847155\n"
     ]
    }
   ],
   "source": [
    "q = (-np.log(x/S) + r)/expiry\n",
    "\n",
    "print(q)"
   ]
  },
  {
   "cell_type": "code",
   "execution_count": 55,
   "metadata": {
    "collapsed": false
   },
   "outputs": [],
   "source": [
    "def g():\n",
    "    q = 0.01\n",
    "\n",
    "    it = 0\n",
    "\n",
    "    t1 = time.clock()\n",
    "\n",
    "    while it < 3:\n",
    "  \n",
    "        fwd = S\n",
    "        fx = fwd\n",
    "        df = np.exp(-r*expiry)\n",
    "\n",
    "        for i,k in enumerate(strikes):\n",
    "            for j in range(2):\n",
    "                put_vols[i][j] = implied_american(df,r,-1,fwd,fwd,k,put_prices[i][j],expiry)\n",
    "                call_vols[i][j] = implied_american(df,r,1,fwd,fwd,k,call_prices[i][j],expiry)        \n",
    "\n",
    "                put_prices_eu[i][j] = black(df,fwd,k,put_vols[i][j],expiry,-1)\n",
    "                call_prices_eu[i][j] = black(df,fwd,k,call_vols[i][j],expiry,1)        \n",
    "        \n",
    "        res = minimize(f, fx, args=(strikes,put_prices_eu,call_prices_eu))\n",
    "        x = res.x[0]\n",
    "        q = (-np.log(x/S) + r)/expiry\n",
    "    \n",
    "        print(q)\n",
    "    \n",
    "        it = it + 1\n",
    "    \n",
    "    t2 = time.clock()\n",
    "\n",
    "    print(\"Finding the solution takes \" + str(t2-t1))"
   ]
  },
  {
   "cell_type": "code",
   "execution_count": 56,
   "metadata": {
    "collapsed": false
   },
   "outputs": [
    {
     "output_type": "error",
     "ename": "IndexError",
     "evalue": "index 2 is out of bounds for axis 0 with size 2",
     "traceback": [
      "\u001b[1;31m---------------------------------------------------------------------------\u001b[0m",
      "\u001b[1;31mIndexError\u001b[0m                                Traceback (most recent call last)",
      "\u001b[1;32m<ipython-input-56-5fd69ddb5074>\u001b[0m in \u001b[0;36m<module>\u001b[1;34m\u001b[0m\n\u001b[1;32m----> 1\u001b[1;33m \u001b[0mg\u001b[0m\u001b[1;33m(\u001b[0m\u001b[1;33m)\u001b[0m\u001b[1;33m\u001b[0m\u001b[1;33m\u001b[0m\u001b[0m\n\u001b[0m",
      "\u001b[1;32m<ipython-input-55-b0b169c7371f>\u001b[0m in \u001b[0;36mg\u001b[1;34m()\u001b[0m\n\u001b[0;32m     14\u001b[0m         \u001b[1;32mfor\u001b[0m \u001b[0mi\u001b[0m\u001b[1;33m,\u001b[0m\u001b[0mk\u001b[0m \u001b[1;32min\u001b[0m \u001b[0menumerate\u001b[0m\u001b[1;33m(\u001b[0m\u001b[0mstrikes\u001b[0m\u001b[1;33m)\u001b[0m\u001b[1;33m:\u001b[0m\u001b[1;33m\u001b[0m\u001b[1;33m\u001b[0m\u001b[0m\n\u001b[0;32m     15\u001b[0m             \u001b[1;32mfor\u001b[0m \u001b[0mj\u001b[0m \u001b[1;32min\u001b[0m \u001b[0mrange\u001b[0m\u001b[1;33m(\u001b[0m\u001b[1;36m2\u001b[0m\u001b[1;33m)\u001b[0m\u001b[1;33m:\u001b[0m\u001b[1;33m\u001b[0m\u001b[1;33m\u001b[0m\u001b[0m\n\u001b[1;32m---> 16\u001b[1;33m                 \u001b[0mput_vols\u001b[0m\u001b[1;33m[\u001b[0m\u001b[0mi\u001b[0m\u001b[1;33m]\u001b[0m\u001b[1;33m[\u001b[0m\u001b[0mj\u001b[0m\u001b[1;33m]\u001b[0m \u001b[1;33m=\u001b[0m \u001b[0mimplied_american\u001b[0m\u001b[1;33m(\u001b[0m\u001b[0mdf\u001b[0m\u001b[1;33m,\u001b[0m\u001b[0mr\u001b[0m\u001b[1;33m,\u001b[0m\u001b[1;33m-\u001b[0m\u001b[1;36m1\u001b[0m\u001b[1;33m,\u001b[0m\u001b[0mfwd\u001b[0m\u001b[1;33m,\u001b[0m\u001b[0mfwd\u001b[0m\u001b[1;33m,\u001b[0m\u001b[0mk\u001b[0m\u001b[1;33m,\u001b[0m\u001b[0mput_prices\u001b[0m\u001b[1;33m[\u001b[0m\u001b[0mi\u001b[0m\u001b[1;33m]\u001b[0m\u001b[1;33m[\u001b[0m\u001b[0mj\u001b[0m\u001b[1;33m]\u001b[0m\u001b[1;33m,\u001b[0m\u001b[0mexpiry\u001b[0m\u001b[1;33m)\u001b[0m\u001b[1;33m\u001b[0m\u001b[1;33m\u001b[0m\u001b[0m\n\u001b[0m\u001b[0;32m     17\u001b[0m                 \u001b[0mcall_vols\u001b[0m\u001b[1;33m[\u001b[0m\u001b[0mi\u001b[0m\u001b[1;33m]\u001b[0m\u001b[1;33m[\u001b[0m\u001b[0mj\u001b[0m\u001b[1;33m]\u001b[0m \u001b[1;33m=\u001b[0m \u001b[0mimplied_american\u001b[0m\u001b[1;33m(\u001b[0m\u001b[0mdf\u001b[0m\u001b[1;33m,\u001b[0m\u001b[0mr\u001b[0m\u001b[1;33m,\u001b[0m\u001b[1;36m1\u001b[0m\u001b[1;33m,\u001b[0m\u001b[0mfwd\u001b[0m\u001b[1;33m,\u001b[0m\u001b[0mfwd\u001b[0m\u001b[1;33m,\u001b[0m\u001b[0mk\u001b[0m\u001b[1;33m,\u001b[0m\u001b[0mcall_prices\u001b[0m\u001b[1;33m[\u001b[0m\u001b[0mi\u001b[0m\u001b[1;33m]\u001b[0m\u001b[1;33m[\u001b[0m\u001b[0mj\u001b[0m\u001b[1;33m]\u001b[0m\u001b[1;33m,\u001b[0m\u001b[0mexpiry\u001b[0m\u001b[1;33m)\u001b[0m\u001b[1;33m\u001b[0m\u001b[1;33m\u001b[0m\u001b[0m\n\u001b[0;32m     18\u001b[0m \u001b[1;33m\u001b[0m\u001b[0m\n",
      "\u001b[1;31mIndexError\u001b[0m: index 2 is out of bounds for axis 0 with size 2"
     ]
    }
   ],
   "source": [
    "g()"
   ]
  },
  {
   "cell_type": "code",
   "execution_count": 748,
   "metadata": {
    "collapsed": false
   },
   "outputs": [
    {
     "name": "stdout",
     "output_type": "stream",
     "text": [
      "0.0279413685683\n",
      "0.0297534065306\n",
      "0.0299126457106\n",
      "Finding the solution takes 0.2752830000000017\n",
      " "
     ]
    }
   ],
   "source": [
    "%prun g()"
   ]
  },
  {
   "cell_type": "code",
   "execution_count": 404,
   "metadata": {
    "collapsed": false
   },
   "outputs": [
    {
     "name": "stdout",
     "output_type": "stream",
     "text": [
      " "
     ]
    }
   ],
   "source": [
    "%prun [binomial_tree(1, fwd, 100, 0.03, 0.2, 1, 250, american=\"true\") for i in range(1000)]"
   ]
  },
  {
   "cell_type": "code",
   "execution_count": null,
   "metadata": {
    "collapsed": true
   },
   "outputs": [],
   "source": []
  }
 ],
 "metadata": {
  "anaconda-cloud": {},
  "kernelspec": {
   "name": "python3",
   "display_name": "Python 3.7.3 64-bit ('venv')",
   "metadata": {
    "interpreter": {
     "hash": "5daa1027f6d60c9cd7362c46f942ab1a1b3e39e010486eca6a99fe5c765b6636"
    }
   }
  },
  "language_info": {
   "codemirror_mode": {
    "name": "ipython",
    "version": 3
   },
   "file_extension": ".py",
   "mimetype": "text/x-python",
   "name": "python",
   "nbconvert_exporter": "python",
   "pygments_lexer": "ipython3",
   "version": "3.7.3-final"
  }
 },
 "nbformat": 4,
 "nbformat_minor": 1
}