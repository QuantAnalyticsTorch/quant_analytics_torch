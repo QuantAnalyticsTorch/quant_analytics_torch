{
 "cells": [
  {
   "cell_type": "code",
   "execution_count": 16,
   "id": "2c7f9d23-e353-430b-90e4-a08230fdde37",
   "metadata": {},
   "outputs": [],
   "source": [
    "import torch"
   ]
  },
  {
   "cell_type": "code",
   "execution_count": 17,
   "id": "57fba67f-477d-40ca-9df0-174285f775db",
   "metadata": {},
   "outputs": [],
   "source": [
    "s = torch.nn.Parameter(torch.tensor([2.],requires_grad=True))\n",
    "u = torch.nn.Parameter(torch.tensor([3.]))"
   ]
  },
  {
   "cell_type": "code",
   "execution_count": 18,
   "id": "419faadc-f072-441c-8326-fef0729d4889",
   "metadata": {},
   "outputs": [],
   "source": [
    "class BaseModel(torch.nn.Module):\n",
    "    def __init__(self):\n",
    "        super().__init__()     \n",
    "        self.parameterList = torch.nn.ParameterList()"
   ]
  },
  {
   "cell_type": "code",
   "execution_count": 19,
   "id": "3d9576db-3544-4377-8a7f-98f9fda1cb6f",
   "metadata": {},
   "outputs": [],
   "source": [
    "b = BaseModel()"
   ]
  },
  {
   "cell_type": "code",
   "execution_count": 20,
   "id": "c5398768-7543-421a-8ce9-3125f79c0e76",
   "metadata": {},
   "outputs": [
    {
     "data": {
      "text/plain": [
       "ParameterList(\n",
       "    (0): Parameter containing: [torch.FloatTensor of size 1]\n",
       "    (1): Parameter containing: [torch.FloatTensor of size 1]\n",
       ")"
      ]
     },
     "execution_count": 20,
     "metadata": {},
     "output_type": "execute_result"
    }
   ],
   "source": [
    "b.parameterList.append(s)\n",
    "b.parameterList.append(u)"
   ]
  },
  {
   "cell_type": "code",
   "execution_count": 21,
   "id": "2eccb815-478e-4958-8076-a224beecf6e0",
   "metadata": {},
   "outputs": [
    {
     "data": {
      "text/plain": [
       "<generator object Module.named_parameters at 0x000002A25545DC78>"
      ]
     },
     "execution_count": 21,
     "metadata": {},
     "output_type": "execute_result"
    }
   ],
   "source": [
    "b.named_parameters()"
   ]
  },
  {
   "cell_type": "code",
   "execution_count": 22,
   "id": "85e2af9c-5849-4b93-8fb5-2e0a121230d6",
   "metadata": {},
   "outputs": [
    {
     "name": "stdout",
     "output_type": "stream",
     "text": [
      "parameterList.0\n",
      "Parameter containing:\n",
      "tensor([2.], requires_grad=True)\n",
      "None\n",
      "tensor([2.])\n",
      "None\n",
      "parameterList.1\n",
      "Parameter containing:\n",
      "tensor([3.], requires_grad=True)\n",
      "None\n",
      "tensor([3.])\n",
      "None\n"
     ]
    }
   ],
   "source": [
    "for name, param in b.named_parameters():\n",
    "    print(name)\n",
    "    print(param)\n",
    "    print(param.name)\n",
    "    print(param.data)\n",
    "    print(param.grad)"
   ]
  },
  {
   "cell_type": "code",
   "execution_count": 60,
   "id": "8732b898-40fa-408e-b43f-b7e7e5bcc2c9",
   "metadata": {},
   "outputs": [],
   "source": [
    "d = b.parameterList[0] * b.parameterList[1] * b.parameterList[1]"
   ]
  },
  {
   "cell_type": "code",
   "execution_count": 61,
   "id": "65bd7917-aed1-4eca-a3ce-9b721a970d85",
   "metadata": {},
   "outputs": [],
   "source": [
    "#d.backward()"
   ]
  },
  {
   "cell_type": "code",
   "execution_count": 62,
   "id": "28f9676b-826a-4d86-a7d1-cf907131a0dc",
   "metadata": {},
   "outputs": [],
   "source": [
    "dd = torch.autograd.grad(d, b.parameters(),create_graph=True, retain_graph=True, allow_unused=True)"
   ]
  },
  {
   "cell_type": "code",
   "execution_count": 63,
   "id": "783883ab-43be-47ee-b4fe-639a689104f9",
   "metadata": {},
   "outputs": [
    {
     "name": "stdout",
     "output_type": "stream",
     "text": [
      "(None, tensor([6.]))\n",
      "(tensor([6.]), tensor([4.]))\n"
     ]
    }
   ],
   "source": [
    "for it in dd:\n",
    "    ddd = torch.autograd.grad(it, b.parameters(), allow_unused=True, retain_graph=True)\n",
    "    print(ddd)"
   ]
  },
  {
   "cell_type": "code",
   "execution_count": null,
   "id": "e28a67f5-e3e1-458d-9051-ec4cd8a8c96e",
   "metadata": {},
   "outputs": [],
   "source": []
  }
 ],
 "metadata": {
  "kernelspec": {
   "display_name": "Python 3",
   "language": "python",
   "name": "python3"
  },
  "language_info": {
   "codemirror_mode": {
    "name": "ipython",
    "version": 3
   },
   "file_extension": ".py",
   "mimetype": "text/x-python",
   "name": "python",
   "nbconvert_exporter": "python",
   "pygments_lexer": "ipython3",
   "version": "3.7.3"
  }
 },
 "nbformat": 4,
 "nbformat_minor": 5
}
