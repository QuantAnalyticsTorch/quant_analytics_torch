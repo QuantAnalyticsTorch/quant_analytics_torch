{
  "nbformat": 4,
  "nbformat_minor": 0,
  "metadata": {
    "colab": {
      "name": "RandomPerformance.ipynb",
      "provenance": [],
      "collapsed_sections": [],
      "authorship_tag": "ABX9TyMzdnd7sF5TW3Mcd1pUpMMS",
      "include_colab_link": true
    },
    "kernelspec": {
      "name": "python3",
      "display_name": "Python 3"
    }
  },
  "cells": [
    {
      "cell_type": "markdown",
      "metadata": {
        "id": "view-in-github",
        "colab_type": "text"
      },
      "source": [
        "<a href=\"https://colab.research.google.com/github/QuantAnalyticsTorch/quant_analytics_torch/blob/main/examples/RandomPerformance.ipynb\" target=\"_parent\"><img src=\"https://colab.research.google.com/assets/colab-badge.svg\" alt=\"Open In Colab\"/></a>"
      ]
    },
    {
      "cell_type": "code",
      "metadata": {
        "id": "qEqDuod8iuTy"
      },
      "source": [
        "import tensorflow as tf"
      ],
      "execution_count": 18,
      "outputs": []
    },
    {
      "cell_type": "code",
      "metadata": {
        "id": "CYqz1EZUqrZr"
      },
      "source": [
        "from scipy.special import erf\n",
        "import numpy as np\n",
        "import time"
      ],
      "execution_count": 19,
      "outputs": []
    },
    {
      "cell_type": "code",
      "metadata": {
        "id": "wZzX8ugh1eJ6"
      },
      "source": [
        "x = np.random.rand(20000000)"
      ],
      "execution_count": 32,
      "outputs": []
    },
    {
      "cell_type": "code",
      "metadata": {
        "colab": {
          "base_uri": "https://localhost:8080/"
        },
        "id": "dmIpa50OquPS",
        "outputId": "c44b029f-82c5-470b-f432-151f6b0fd0ef"
      },
      "source": [
        "#@title Pricing time a CPU. Note TensorFlow does automatic multithreading.\n",
        "\n",
        "\n",
        "# First run (includes graph optimization time)\n",
        "with tf.device(\"/cpu:0\"):\n",
        "    #y = erf(x)\n",
        "    y = tf.math.erf(x)\n",
        "\n",
        "# Second run (excludes graph optimization time)\n",
        "time_start = time.time()\n",
        "with tf.device(\"/cpu:0\"):\n",
        "    #y = erf(x-0.5)\n",
        "    y = tf.math.erf(x-0.5)\n",
        "time_end = time.time()\n",
        "\n",
        "time_price_cpu = time_end - time_start\n",
        "print(\"Time (seconds) to price a European Call Option on a CPU: \", time_price_cpu)"
      ],
      "execution_count": 39,
      "outputs": [
        {
          "output_type": "stream",
          "text": [
            "Time (seconds) to price a European Call Option on a CPU:  0.14335966110229492\n"
          ],
          "name": "stdout"
        }
      ]
    },
    {
      "cell_type": "code",
      "metadata": {
        "id": "qMz0DuHGq2vt"
      },
      "source": [
        "class BrownianBridge():\n",
        "    def __init__(self, number_time_steps):\n",
        "        super(BrownianBridge, self).__init__()\n",
        "\n",
        "        self.number_time_steps = number_time_steps\n",
        "\n",
        "        self.left_index = np.zeros(number_time_steps, dtype=int)\n",
        "        self.right_index = np.zeros(number_time_steps, dtype=int)\n",
        "        self.bridge_index = np.zeros(number_time_steps, dtype=int)\n",
        "        self.left_weight = np.zeros(number_time_steps)\n",
        "        self.right_weight = np.zeros(number_time_steps)\n",
        "        self.std_dev = np.zeros(number_time_steps)\n",
        "\n",
        "        self._map = np.zeros(number_time_steps, dtype=int)\n",
        "\n",
        "        self._map[-1] = 1\n",
        "        self.bridge_index[0] = number_time_steps - 1\n",
        "        self.std_dev[0] = tf.math.sqrt(1.0 * number_time_steps)\n",
        "        self.left_weight[0] = 0\n",
        "        self.right_weight[0] = 0\n",
        "\n",
        "        j=0\n",
        "        for i in range(1,number_time_steps):\n",
        "            while self._map[j] == True:\n",
        "                j = j + 1\n",
        "            k = j\n",
        "            while self._map[k] == False:\n",
        "                k = k + 1\n",
        "            l = j+((k-1-j)>>1)\n",
        "            self._map[l]=i\n",
        "            self.bridge_index[i]=l\n",
        "            self.left_index[i]=j\n",
        "            self.right_index[i]=k\n",
        "            self.left_weight[i]=(k-l)/(k+1-j)\n",
        "            self.right_weight[i]=(1+l-j)/(k+1-j)\n",
        "            self.std_dev[i]=np.sqrt(((1+l-j)*(k-l))/(k+1-j))\n",
        "            j=k+1\n",
        "            if j>=number_time_steps:\n",
        "                j=0\n",
        "    \n",
        "    def buildPath(self, path, z):\n",
        "        path[-1] = self.std_dev[0]*z[0];\n",
        "        for i in range(1,self.number_time_steps):\n",
        "            j = self.left_index[i]\n",
        "            k = self.right_index[i]\n",
        "            l = self.bridge_index[i]\n",
        "            if j > 0:\n",
        "                path[l] = self.left_weight[i] * path[j-1] + self.right_weight[i] * path[k] + self.std_dev[i] * z[i]\n",
        "            else:\n",
        "                path[l] = self.right_weight[i] * path[k] + self.std_dev[i] * z[i]\n",
        "        return path\n",
        "\n"
      ],
      "execution_count": 32,
      "outputs": []
    },
    {
      "cell_type": "code",
      "metadata": {
        "id": "1HSBxiFxi6K6"
      },
      "source": [
        "bridge = BrownianBridge(8)"
      ],
      "execution_count": 33,
      "outputs": []
    },
    {
      "cell_type": "code",
      "metadata": {
        "id": "5swhQXdTkBEB"
      },
      "source": [
        "path = np.zeros(shape=(8,10))\n",
        "\n",
        "z = np.random.randn(8,10)\n",
        "\n",
        "w = bridge.buildPath(path,z)"
      ],
      "execution_count": 34,
      "outputs": []
    },
    {
      "cell_type": "code",
      "metadata": {
        "id": "imAMrQbXi-KK"
      },
      "source": [
        ""
      ],
      "execution_count": null,
      "outputs": []
    }
  ]
}