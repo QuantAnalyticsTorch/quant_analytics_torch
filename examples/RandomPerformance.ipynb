{
  "nbformat": 4,
  "nbformat_minor": 0,
  "metadata": {
    "colab": {
      "name": "RandomPerformance.ipynb",
      "provenance": [],
      "collapsed_sections": [],
      "authorship_tag": "ABX9TyPGDpl4k0Z/nrAR2amTCun1",
      "include_colab_link": true
    },
    "kernelspec": {
      "name": "python3",
      "display_name": "Python 3"
    },
    "accelerator": "GPU"
  },
  "cells": [
    {
      "cell_type": "markdown",
      "metadata": {
        "id": "view-in-github",
        "colab_type": "text"
      },
      "source": [
        "<a href=\"https://colab.research.google.com/github/QuantAnalyticsTorch/quant_analytics_torch/blob/main/examples/RandomPerformance.ipynb\" target=\"_parent\"><img src=\"https://colab.research.google.com/assets/colab-badge.svg\" alt=\"Open In Colab\"/></a>"
      ]
    },
    {
      "cell_type": "code",
      "metadata": {
        "colab": {
          "base_uri": "https://localhost:8080/",
          "height": 1000
        },
        "id": "nDp-CSVzD4RL",
        "outputId": "be301c2d-bc34-4f8c-dda1-d50c080baaf1"
      },
      "source": [
        "#@title Upgrade to TensorFlow nightly\n",
        "!pip install --upgrade tf-nightly"
      ],
      "execution_count": 4,
      "outputs": [
        {
          "output_type": "stream",
          "text": [
            "Collecting tf-nightly\n",
            "\u001b[?25l  Downloading https://files.pythonhosted.org/packages/72/70/08072e4afe878e2183b44744f927b9d2640394240035531f042ce63bda9b/tf_nightly-2.5.0.dev20201125-cp36-cp36m-manylinux2010_x86_64.whl (397.5MB)\n",
            "\u001b[K     |████████████████████████████████| 397.5MB 42kB/s \n",
            "\u001b[?25hRequirement already satisfied, skipping upgrade: wheel~=0.35 in /usr/local/lib/python3.6/dist-packages (from tf-nightly) (0.35.1)\n",
            "Requirement already satisfied, skipping upgrade: wrapt~=1.12.1 in /usr/local/lib/python3.6/dist-packages (from tf-nightly) (1.12.1)\n",
            "Requirement already satisfied, skipping upgrade: google-pasta~=0.2 in /usr/local/lib/python3.6/dist-packages (from tf-nightly) (0.2.0)\n",
            "Requirement already satisfied, skipping upgrade: six~=1.15.0 in /usr/local/lib/python3.6/dist-packages (from tf-nightly) (1.15.0)\n",
            "Requirement already satisfied, skipping upgrade: h5py~=2.10.0 in /usr/local/lib/python3.6/dist-packages (from tf-nightly) (2.10.0)\n",
            "Requirement already satisfied, skipping upgrade: gast==0.3.3 in /usr/local/lib/python3.6/dist-packages (from tf-nightly) (0.3.3)\n",
            "Collecting grpcio~=1.32.0\n",
            "\u001b[?25l  Downloading https://files.pythonhosted.org/packages/f0/00/b393f5d0e92b37592a41357ea3077010c95400c907f6b9af01f4f6abe140/grpcio-1.32.0-cp36-cp36m-manylinux2014_x86_64.whl (3.8MB)\n",
            "\u001b[K     |████████████████████████████████| 3.8MB 52.4MB/s \n",
            "\u001b[?25hCollecting numpy~=1.19.2\n",
            "\u001b[?25l  Downloading https://files.pythonhosted.org/packages/87/86/753182c9085ba4936c0076269a571613387cdb77ae2bf537448bfd63472c/numpy-1.19.4-cp36-cp36m-manylinux2010_x86_64.whl (14.5MB)\n",
            "\u001b[K     |████████████████████████████████| 14.5MB 194kB/s \n",
            "\u001b[?25hCollecting protobuf~=3.13.0\n",
            "\u001b[?25l  Downloading https://files.pythonhosted.org/packages/30/79/510974552cebff2ba04038544799450defe75e96ea5f1675dbf72cc8744f/protobuf-3.13.0-cp36-cp36m-manylinux1_x86_64.whl (1.3MB)\n",
            "\u001b[K     |████████████████████████████████| 1.3MB 46.9MB/s \n",
            "\u001b[?25hRequirement already satisfied, skipping upgrade: astunparse~=1.6.3 in /usr/local/lib/python3.6/dist-packages (from tf-nightly) (1.6.3)\n",
            "Requirement already satisfied, skipping upgrade: flatbuffers~=1.12.0 in /usr/local/lib/python3.6/dist-packages (from tf-nightly) (1.12)\n",
            "Collecting tb-nightly~=2.5.0.a\n",
            "\u001b[?25l  Downloading https://files.pythonhosted.org/packages/03/67/be02f453a7ffd2c62cbbb45f06b82a52437972ebc3eaac59065bdaf2de7b/tb_nightly-2.5.0a20201125-py3-none-any.whl (11.9MB)\n",
            "\u001b[K     |████████████████████████████████| 11.9MB 44.9MB/s \n",
            "\u001b[?25hRequirement already satisfied, skipping upgrade: keras-preprocessing~=1.1.2 in /usr/local/lib/python3.6/dist-packages (from tf-nightly) (1.1.2)\n",
            "Requirement already satisfied, skipping upgrade: opt-einsum~=3.3.0 in /usr/local/lib/python3.6/dist-packages (from tf-nightly) (3.3.0)\n",
            "Requirement already satisfied, skipping upgrade: typing-extensions~=3.7.4 in /usr/local/lib/python3.6/dist-packages (from tf-nightly) (3.7.4.3)\n",
            "Collecting tf-estimator-nightly~=2.4.0.dev\n",
            "\u001b[?25l  Downloading https://files.pythonhosted.org/packages/89/d2/2131f5a0f0d14bae7f4d332724748b9ca6746b0d32f5c76145f0707f47d8/tf_estimator_nightly-2.4.0.dev2020102301-py2.py3-none-any.whl (461kB)\n",
            "\u001b[K     |████████████████████████████████| 471kB 51.1MB/s \n",
            "\u001b[?25hRequirement already satisfied, skipping upgrade: termcolor~=1.1.0 in /usr/local/lib/python3.6/dist-packages (from tf-nightly) (1.1.0)\n",
            "Requirement already satisfied, skipping upgrade: absl-py~=0.10 in /usr/local/lib/python3.6/dist-packages (from tf-nightly) (0.10.0)\n",
            "Requirement already satisfied, skipping upgrade: setuptools in /usr/local/lib/python3.6/dist-packages (from protobuf~=3.13.0->tf-nightly) (50.3.2)\n",
            "Requirement already satisfied, skipping upgrade: requests<3,>=2.21.0 in /usr/local/lib/python3.6/dist-packages (from tb-nightly~=2.5.0.a->tf-nightly) (2.23.0)\n",
            "Requirement already satisfied, skipping upgrade: markdown>=2.6.8 in /usr/local/lib/python3.6/dist-packages (from tb-nightly~=2.5.0.a->tf-nightly) (3.3.3)\n",
            "Requirement already satisfied, skipping upgrade: werkzeug>=0.11.15 in /usr/local/lib/python3.6/dist-packages (from tb-nightly~=2.5.0.a->tf-nightly) (1.0.1)\n",
            "Requirement already satisfied, skipping upgrade: google-auth-oauthlib<0.5,>=0.4.1 in /usr/local/lib/python3.6/dist-packages (from tb-nightly~=2.5.0.a->tf-nightly) (0.4.2)\n",
            "Requirement already satisfied, skipping upgrade: google-auth<2,>=1.6.3 in /usr/local/lib/python3.6/dist-packages (from tb-nightly~=2.5.0.a->tf-nightly) (1.17.2)\n",
            "Requirement already satisfied, skipping upgrade: tensorboard-plugin-wit>=1.6.0 in /usr/local/lib/python3.6/dist-packages (from tb-nightly~=2.5.0.a->tf-nightly) (1.7.0)\n",
            "Requirement already satisfied, skipping upgrade: chardet<4,>=3.0.2 in /usr/local/lib/python3.6/dist-packages (from requests<3,>=2.21.0->tb-nightly~=2.5.0.a->tf-nightly) (3.0.4)\n",
            "Requirement already satisfied, skipping upgrade: urllib3!=1.25.0,!=1.25.1,<1.26,>=1.21.1 in /usr/local/lib/python3.6/dist-packages (from requests<3,>=2.21.0->tb-nightly~=2.5.0.a->tf-nightly) (1.24.3)\n",
            "Requirement already satisfied, skipping upgrade: certifi>=2017.4.17 in /usr/local/lib/python3.6/dist-packages (from requests<3,>=2.21.0->tb-nightly~=2.5.0.a->tf-nightly) (2020.11.8)\n",
            "Requirement already satisfied, skipping upgrade: idna<3,>=2.5 in /usr/local/lib/python3.6/dist-packages (from requests<3,>=2.21.0->tb-nightly~=2.5.0.a->tf-nightly) (2.10)\n",
            "Requirement already satisfied, skipping upgrade: importlib-metadata; python_version < \"3.8\" in /usr/local/lib/python3.6/dist-packages (from markdown>=2.6.8->tb-nightly~=2.5.0.a->tf-nightly) (2.0.0)\n",
            "Requirement already satisfied, skipping upgrade: requests-oauthlib>=0.7.0 in /usr/local/lib/python3.6/dist-packages (from google-auth-oauthlib<0.5,>=0.4.1->tb-nightly~=2.5.0.a->tf-nightly) (1.3.0)\n",
            "Requirement already satisfied, skipping upgrade: rsa<5,>=3.1.4; python_version >= \"3\" in /usr/local/lib/python3.6/dist-packages (from google-auth<2,>=1.6.3->tb-nightly~=2.5.0.a->tf-nightly) (4.6)\n",
            "Requirement already satisfied, skipping upgrade: pyasn1-modules>=0.2.1 in /usr/local/lib/python3.6/dist-packages (from google-auth<2,>=1.6.3->tb-nightly~=2.5.0.a->tf-nightly) (0.2.8)\n",
            "Requirement already satisfied, skipping upgrade: cachetools<5.0,>=2.0.0 in /usr/local/lib/python3.6/dist-packages (from google-auth<2,>=1.6.3->tb-nightly~=2.5.0.a->tf-nightly) (4.1.1)\n",
            "Requirement already satisfied, skipping upgrade: zipp>=0.5 in /usr/local/lib/python3.6/dist-packages (from importlib-metadata; python_version < \"3.8\"->markdown>=2.6.8->tb-nightly~=2.5.0.a->tf-nightly) (3.4.0)\n",
            "Requirement already satisfied, skipping upgrade: oauthlib>=3.0.0 in /usr/local/lib/python3.6/dist-packages (from requests-oauthlib>=0.7.0->google-auth-oauthlib<0.5,>=0.4.1->tb-nightly~=2.5.0.a->tf-nightly) (3.1.0)\n",
            "Requirement already satisfied, skipping upgrade: pyasn1>=0.1.3 in /usr/local/lib/python3.6/dist-packages (from rsa<5,>=3.1.4; python_version >= \"3\"->google-auth<2,>=1.6.3->tb-nightly~=2.5.0.a->tf-nightly) (0.4.8)\n",
            "\u001b[31mERROR: tensorflow 2.3.0 has requirement numpy<1.19.0,>=1.16.0, but you'll have numpy 1.19.4 which is incompatible.\u001b[0m\n",
            "\u001b[31mERROR: datascience 0.10.6 has requirement folium==0.2.1, but you'll have folium 0.8.3 which is incompatible.\u001b[0m\n",
            "\u001b[31mERROR: albumentations 0.1.12 has requirement imgaug<0.2.7,>=0.2.5, but you'll have imgaug 0.2.9 which is incompatible.\u001b[0m\n",
            "Installing collected packages: grpcio, numpy, protobuf, tb-nightly, tf-estimator-nightly, tf-nightly\n",
            "  Found existing installation: grpcio 1.33.2\n",
            "    Uninstalling grpcio-1.33.2:\n",
            "      Successfully uninstalled grpcio-1.33.2\n",
            "  Found existing installation: numpy 1.18.5\n",
            "    Uninstalling numpy-1.18.5:\n",
            "      Successfully uninstalled numpy-1.18.5\n",
            "  Found existing installation: protobuf 3.12.4\n",
            "    Uninstalling protobuf-3.12.4:\n",
            "      Successfully uninstalled protobuf-3.12.4\n",
            "Successfully installed grpcio-1.32.0 numpy-1.19.4 protobuf-3.13.0 tb-nightly-2.5.0a20201125 tf-estimator-nightly-2.4.0.dev2020102301 tf-nightly-2.5.0.dev20201125\n"
          ],
          "name": "stdout"
        },
        {
          "output_type": "display_data",
          "data": {
            "application/vnd.colab-display-data+json": {
              "pip_warning": {
                "packages": [
                  "google",
                  "numpy",
                  "tensorboard",
                  "tensorflow"
                ]
              }
            }
          },
          "metadata": {
            "tags": []
          }
        }
      ]
    },
    {
      "cell_type": "code",
      "metadata": {
        "id": "qEqDuod8iuTy"
      },
      "source": [
        "import tensorflow as tf"
      ],
      "execution_count": 1,
      "outputs": []
    },
    {
      "cell_type": "code",
      "metadata": {
        "id": "CYqz1EZUqrZr"
      },
      "source": [
        "from scipy.special import erf\n",
        "import numpy as np\n",
        "import time"
      ],
      "execution_count": 2,
      "outputs": []
    },
    {
      "cell_type": "code",
      "metadata": {
        "id": "wZzX8ugh1eJ6"
      },
      "source": [
        "x = tf.math.sobol_sample(10,10)"
      ],
      "execution_count": 3,
      "outputs": []
    },
    {
      "cell_type": "code",
      "metadata": {
        "colab": {
          "base_uri": "https://localhost:8080/"
        },
        "id": "J0IKaxmzlK-j",
        "outputId": "6674c292-d52d-4490-dfd6-996d95361aff"
      },
      "source": [
        "tf.xla.experimental.compile"
      ],
      "execution_count": 20,
      "outputs": [
        {
          "output_type": "execute_result",
          "data": {
            "text/plain": [
              "<function tensorflow.python.compiler.xla.xla.compile>"
            ]
          },
          "metadata": {
            "tags": []
          },
          "execution_count": 20
        }
      ]
    },
    {
      "cell_type": "code",
      "metadata": {
        "colab": {
          "base_uri": "https://localhost:8080/"
        },
        "id": "ISmTCOtUhvBH",
        "outputId": "7c205e8a-f1e6-44a3-d1ad-79b5c43b2f11"
      },
      "source": [
        "!pip install numba"
      ],
      "execution_count": 5,
      "outputs": [
        {
          "output_type": "stream",
          "text": [
            "Requirement already satisfied: numba in /usr/local/lib/python3.6/dist-packages (0.48.0)\n",
            "Requirement already satisfied: numpy>=1.15 in /usr/local/lib/python3.6/dist-packages (from numba) (1.19.4)\n",
            "Requirement already satisfied: llvmlite<0.32.0,>=0.31.0dev0 in /usr/local/lib/python3.6/dist-packages (from numba) (0.31.0)\n",
            "Requirement already satisfied: setuptools in /usr/local/lib/python3.6/dist-packages (from numba) (50.3.2)\n"
          ],
          "name": "stdout"
        }
      ]
    },
    {
      "cell_type": "code",
      "metadata": {
        "id": "MPMwv1G9h0ou"
      },
      "source": [
        "from numba import jit\n",
        "import numpy as np"
      ],
      "execution_count": 12,
      "outputs": []
    },
    {
      "cell_type": "code",
      "metadata": {
        "id": "qMz0DuHGq2vt"
      },
      "source": [
        "class BrownianBridge():\n",
        "    def __init__(self, number_time_steps):\n",
        "        super(BrownianBridge, self).__init__()\n",
        "\n",
        "        self.number_time_steps = number_time_steps\n",
        "\n",
        "        self.left_index = np.zeros(number_time_steps, dtype=int)\n",
        "        self.right_index = np.zeros(number_time_steps, dtype=int)\n",
        "        self.bridge_index = np.zeros(number_time_steps, dtype=int)\n",
        "        self.left_weight = np.zeros(number_time_steps)\n",
        "        self.right_weight = np.zeros(number_time_steps)\n",
        "        self.std_dev = np.zeros(number_time_steps)\n",
        "\n",
        "        self._map = np.zeros(number_time_steps, dtype=int)\n",
        "\n",
        "        self._map[-1] = 1\n",
        "        self.bridge_index[0] = number_time_steps - 1\n",
        "        self.std_dev[0] = tf.math.sqrt(1.0 * number_time_steps)\n",
        "        self.left_weight[0] = 0\n",
        "        self.right_weight[0] = 0\n",
        "\n",
        "        j=0\n",
        "        for i in range(1,number_time_steps):\n",
        "            while self._map[j] == True:\n",
        "                j = j + 1\n",
        "            k = j\n",
        "            while self._map[k] == False:\n",
        "                k = k + 1\n",
        "            l = j+((k-1-j)>>1)\n",
        "            self._map[l]=i\n",
        "            self.bridge_index[i]=l\n",
        "            self.left_index[i]=j\n",
        "            self.right_index[i]=k\n",
        "            self.left_weight[i]=(k-l)/(k+1-j)\n",
        "            self.right_weight[i]=(1+l-j)/(k+1-j)\n",
        "            self.std_dev[i]=np.sqrt(((1+l-j)*(k-l))/(k+1-j))\n",
        "            j=k+1\n",
        "            if j>=number_time_steps:\n",
        "                j=0\n",
        "\n",
        "    @tf.function(jit_compile=True)\n",
        "    def buildPath(self, z, number):\n",
        "        path = tf.unstack(tf.zeros(shape=(self.number_time_steps,number)))\n",
        "        path[-1] = self.std_dev[0]*z[0];\n",
        "        for i in np.arange(1,self.number_time_steps):\n",
        "            j = self.left_index[i]\n",
        "            k = self.right_index[i]\n",
        "            l = self.bridge_index[i]\n",
        "            #if j > 0:\n",
        "            #    path[l] = self.left_weight[i] * path[j-1] + self.right_weight[i] * path[k] + self.std_dev[i] * z[i]\n",
        "            #else:\n",
        "            path[l] = self.right_weight[i] * path[k] + self.std_dev[i] * z[i]\n",
        "\n",
        "        return path"
      ],
      "execution_count": 24,
      "outputs": []
    },
    {
      "cell_type": "code",
      "metadata": {
        "id": "lazF0a71pwkG"
      },
      "source": [
        "number_time_steps = 128\n",
        "number = 3\n",
        "\n",
        "left_index = np.zeros(number_time_steps, dtype=int)\n",
        "right_index = np.zeros(number_time_steps, dtype=int)\n",
        "bridge_index = np.zeros(number_time_steps, dtype=int)\n",
        "left_weight = np.zeros(number_time_steps)\n",
        "right_weight = np.zeros(number_time_steps)\n",
        "std_dev = np.zeros(number_time_steps)\n",
        "\n",
        "_map = np.zeros(number_time_steps, dtype=int)\n",
        "\n",
        "_map[-1] = 1\n",
        "bridge_index[0] = number_time_steps - 1\n",
        "std_dev[0] = tf.math.sqrt(1.0 * number_time_steps)\n",
        "left_weight[0] = 0\n",
        "right_weight[0] = 0\n",
        "\n",
        "j=0\n",
        "for i in range(1,number_time_steps):\n",
        "  while _map[j] == True:\n",
        "    j = j + 1\n",
        "  k = j\n",
        "  while _map[k] == False:\n",
        "    k = k + 1\n",
        "l = j+((k-1-j)>>1)\n",
        "_map[l]=i\n",
        "bridge_index[i]=l\n",
        "left_index[i]=j\n",
        "right_index[i]=k\n",
        "left_weight[i]=(k-l)/(k+1-j)\n",
        "right_weight[i]=(1+l-j)/(k+1-j)\n",
        "std_dev[i]=np.sqrt(((1+l-j)*(k-l))/(k+1-j))\n",
        "j=k+1\n",
        "if j>=number_time_steps:\n",
        "  j=0\n",
        "\n",
        "bridge_index_t = tf.constant(bridge_index)\n",
        "right_index_t = tf.constant(right_index)\n",
        "left_index_t = tf.constant(left_index)\n",
        "\n",
        "@tf.function(jit_compile=True)\n",
        "def buildPath(z, number, number_time_steps, left_index_t, right_index_t, bridge_index_t, left_weight, right_weight, std_dev):\n",
        "  path = tf.unstack(tf.zeros(shape=(number_time_steps,number),dtype=tf.dtypes.float64))\n",
        "  path[-1] = std_dev[0]*z[0];\n",
        "  j = 0\n",
        "  k = 0\n",
        "  l = 0\n",
        "  i = 0\n",
        "  for i in range(1,number_time_steps):\n",
        "#    print(\"i\")\n",
        "#    print(i)\n",
        "    j = left_index[i]\n",
        "    k = right_index[i]\n",
        "    l = bridge_index[i]\n",
        "#    print(\"l\")\n",
        "#    print(l)\n",
        "#    print(\"k\")\n",
        "#    print(k)\n",
        "#    print(\"right_weight\")\n",
        "#    print(right_weight[i])\n",
        "    path[l] = right_weight[i] * path[k] + std_dev[i] * z[i]\n",
        "\n",
        "  return path"
      ],
      "execution_count": 208,
      "outputs": []
    },
    {
      "cell_type": "code",
      "metadata": {
        "id": "75mLhhBtqbuk"
      },
      "source": [
        "x = tf.math.sobol_sample(128,5,dtype=tf.dtypes.float64)\n",
        "z = tf.transpose(tf.math.erf(x))"
      ],
      "execution_count": 216,
      "outputs": []
    },
    {
      "cell_type": "code",
      "metadata": {
        "id": "RQNPIH2Rqbyt"
      },
      "source": [
        "path = buildPath(z, 5, 128, left_index, right_index, bridge_index, left_weight, right_weight, std_dev)"
      ],
      "execution_count": 217,
      "outputs": []
    },
    {
      "cell_type": "code",
      "metadata": {
        "colab": {
          "base_uri": "https://localhost:8080/"
        },
        "id": "nxJXwrh-rf5Z",
        "outputId": "934c0ac8-4d37-4238-aa2e-ece74443e1fe"
      },
      "source": [
        "print(tf.autograph.to_code(buildPath.python_function))"
      ],
      "execution_count": 212,
      "outputs": [
        {
          "output_type": "stream",
          "text": [
            "def tf__buildPath(z, number, number_time_steps, left_index_t, right_index_t, bridge_index_t, left_weight, right_weight, std_dev):\n",
            "    with ag__.FunctionScope('buildPath', 'fscope', ag__.ConversionOptions(recursive=True, user_requested=True, optional_features=(), internal_convert_user_code=True)) as fscope:\n",
            "        do_return = False\n",
            "        retval_ = ag__.UndefinedReturnValue()\n",
            "        path = ag__.converted_call(ag__.ld(tf).unstack, (ag__.converted_call(ag__.ld(tf).zeros, (), dict(shape=(ag__.ld(number_time_steps), ag__.ld(number)), dtype=ag__.ld(tf).dtypes.float64), fscope),), None, fscope)\n",
            "        ag__.ld(path)[(- 1)] = (ag__.ld(std_dev)[0] * ag__.ld(z)[0])\n",
            "        j = 0\n",
            "        k = 0\n",
            "        l = 0\n",
            "        i = 0\n",
            "\n",
            "        def get_state():\n",
            "            return ()\n",
            "\n",
            "        def set_state(block_vars):\n",
            "            pass\n",
            "\n",
            "        def loop_body(itr):\n",
            "            i = itr\n",
            "            j = ag__.ld(left_index)[ag__.ld(i)]\n",
            "            k = ag__.ld(right_index)[ag__.ld(i)]\n",
            "            l = ag__.ld(bridge_index)[ag__.ld(i)]\n",
            "            ag__.ld(path)[ag__.ld(l)] = ((ag__.ld(right_weight)[ag__.ld(i)] * ag__.ld(path)[ag__.ld(k)]) + (ag__.ld(std_dev)[ag__.ld(i)] * ag__.ld(z)[ag__.ld(i)]))\n",
            "        ag__.for_stmt(ag__.converted_call(ag__.ld(range), (1, ag__.ld(number_time_steps)), None, fscope), None, loop_body, get_state, set_state, (), {'iterate_names': 'i'})\n",
            "        try:\n",
            "            do_return = True\n",
            "            retval_ = ag__.ld(path)\n",
            "        except:\n",
            "            do_return = False\n",
            "            raise\n",
            "        return fscope.ret(retval_, do_return)\n",
            "\n"
          ],
          "name": "stdout"
        }
      ]
    },
    {
      "cell_type": "code",
      "metadata": {
        "id": "1HSBxiFxi6K6"
      },
      "source": [
        "bridge = BrownianBridge(2)"
      ],
      "execution_count": 213,
      "outputs": []
    },
    {
      "cell_type": "code",
      "metadata": {
        "colab": {
          "base_uri": "https://localhost:8080/"
        },
        "id": "5swhQXdTkBEB",
        "outputId": "c6051764-dbc1-4e25-d375-de6880072b1a"
      },
      "source": [
        "x = tf.math.sobol_sample(2,3)\n",
        "\n",
        "z = tf.transpose(tf.math.erf(x))\n",
        "\n",
        "path = bridge.buildPath(z, 3)"
      ],
      "execution_count": 214,
      "outputs": [
        {
          "output_type": "stream",
          "text": [
            "WARNING:tensorflow:7 out of the last 7 calls to <function BrownianBridge.buildPath at 0x7fbf7fd38268> triggered tf.function retracing. Tracing is expensive and the excessive number of tracings could be due to (1) creating @tf.function repeatedly in a loop, (2) passing tensors with different shapes, (3) passing Python objects instead of tensors. For (1), please define your @tf.function outside of the loop. For (2), @tf.function has experimental_relax_shapes=True option that relaxes argument shapes that can avoid unnecessary retracing. For (3), please refer to https://www.tensorflow.org/guide/function#controlling_retracing and https://www.tensorflow.org/api_docs/python/tf/function for  more details.\n"
          ],
          "name": "stdout"
        }
      ]
    },
    {
      "cell_type": "code",
      "metadata": {
        "colab": {
          "base_uri": "https://localhost:8080/"
        },
        "id": "eoeT5eJZy1_7",
        "outputId": "70d86084-d351-4e84-80f1-7667bf81d142"
      },
      "source": [
        "#@title Pricing time a CPU. Note TensorFlow does automatic multithreading.\n",
        "dim =  128#@param {type:\"integer\"}\n",
        "number =  8#@param {type:\"integer\"}\n",
        "\n",
        "# First run (includes graph optimization time)\n",
        "time_start = time.time()\n",
        "with tf.device(\"/cpu:0\"):\n",
        "    x = tf.math.sobol_sample(dim,number,dtype=tf.dtypes.float64)\n",
        "    z = tf.transpose(tf.math.erf(x))\n",
        "    w = buildPath(z, number, 128, left_index, right_index, bridge_index, left_weight, right_weight, std_dev)\n",
        "time_end = time.time()\n",
        "time_price_cpu = time_end - time_start\n",
        "print(\"First time on a CPU: \", time_price_cpu)\n",
        "\n",
        "# Second run (excludes graph optimization time)\n",
        "time_start = time.time()\n",
        "with tf.device(\"/cpu:0\"):\n",
        "    x = tf.math.sobol_sample(dim,number,dtype=tf.dtypes.float64)\n",
        "    z = tf.transpose(tf.math.erf(x))\n",
        "    w = buildPath(z, number, 128, left_index, right_index, bridge_index, left_weight, right_weight, std_dev)\n",
        "    print(w[0])\n",
        "time_end = time.time()\n",
        "\n",
        "time_price_cpu = time_end - time_start\n",
        "print(\"Second time on a CPU: \", time_price_cpu)"
      ],
      "execution_count": 258,
      "outputs": [
        {
          "output_type": "stream",
          "text": [
            "First time on a CPU:  0.00442194938659668\n",
            "tf.Tensor([0. 0. 0. 0. 0. 0. 0. 0.], shape=(8,), dtype=float64)\n",
            "Second time on a CPU:  0.003204345703125\n"
          ],
          "name": "stdout"
        }
      ]
    },
    {
      "cell_type": "code",
      "metadata": {
        "colab": {
          "base_uri": "https://localhost:8080/"
        },
        "id": "CeimW8dXmwzX",
        "outputId": "8112b496-df6a-438d-dfbe-f45c8fa335b2"
      },
      "source": [
        "print(tf.autograph.to_code(bridge.buildPath.python_function))"
      ],
      "execution_count": 234,
      "outputs": [
        {
          "output_type": "stream",
          "text": [
            "def tf__bound_method_wrapper(*args, **kwargs):\n",
            "    'Wraps either a dummy MethodType or a converted AutoGraph function.'\n",
            "    with ag__.FunctionScope('bound_method_wrapper', 'fscope', ag__.ConversionOptions(recursive=True, user_requested=True, optional_features=(), internal_convert_user_code=True)) as fscope:\n",
            "        do_return = False\n",
            "        retval_ = ag__.UndefinedReturnValue()\n",
            "        strong_bound_method_wrapper = ag__.converted_call(ag__.ld(weak_bound_method_wrapper), (), None, fscope)\n",
            "        wrapped_fn = ag__.ld(strong_bound_method_wrapper).__wrapped__\n",
            "\n",
            "        def get_state_1():\n",
            "            return (do_return, retval_, wrapped_fn)\n",
            "\n",
            "        def set_state_1(vars_):\n",
            "            nonlocal retval_, do_return, wrapped_fn\n",
            "            (do_return, retval_, wrapped_fn) = vars_\n",
            "\n",
            "        def if_body_1():\n",
            "            nonlocal retval_, do_return, wrapped_fn\n",
            "            wrapped_fn = ag__.ld(original_function).python_function\n",
            "\n",
            "            def get_state():\n",
            "                return (wrapped_fn,)\n",
            "\n",
            "            def set_state(vars_):\n",
            "                nonlocal wrapped_fn\n",
            "                (wrapped_fn,) = vars_\n",
            "\n",
            "            def if_body():\n",
            "                nonlocal wrapped_fn\n",
            "                wrapped_fn = ag__.converted_call(ag__.ld(six).get_unbound_function, (ag__.ld(wrapped_fn),), None, fscope)\n",
            "\n",
            "            def else_body():\n",
            "                nonlocal wrapped_fn\n",
            "                pass\n",
            "            ag__.if_stmt(ag__.converted_call(ag__.ld(tf_inspect).ismethod, (ag__.ld(wrapped_fn),), None, fscope), if_body, else_body, get_state, set_state, ('wrapped_fn',), 1)\n",
            "            try:\n",
            "                do_return = True\n",
            "                retval_ = ag__.converted_call(ag__.ld(wrapped_fn), ((ag__.converted_call(ag__.ld(weak_instance), (), None, fscope),) + tuple(ag__.ld(args))), dict(**ag__.ld(kwargs)), fscope)\n",
            "            except:\n",
            "                do_return = False\n",
            "                raise\n",
            "\n",
            "        def else_body_1():\n",
            "            nonlocal retval_, do_return, wrapped_fn\n",
            "            try:\n",
            "                do_return = True\n",
            "                retval_ = ag__.converted_call(ag__.ld(wrapped_fn), tuple(ag__.ld(args)), dict(**ag__.ld(kwargs)), fscope)\n",
            "            except:\n",
            "                do_return = False\n",
            "                raise\n",
            "        ag__.if_stmt((ag__.ld(wrapped_fn) is ag__.ld(strong_bound_method_wrapper).__original_wrapped__), if_body_1, else_body_1, get_state_1, set_state_1, ('do_return', 'retval_', 'wrapped_fn'), 2)\n",
            "        return fscope.ret(retval_, do_return)\n",
            "\n"
          ],
          "name": "stdout"
        }
      ]
    },
    {
      "cell_type": "code",
      "metadata": {
        "colab": {
          "base_uri": "https://localhost:8080/",
          "height": 299
        },
        "id": "R_aARjdRy3AJ",
        "outputId": "f01a00a7-fe4f-4ff2-d7f2-f568a026ed1c"
      },
      "source": [
        "from tensorflow.contrib.compiler import xla"
      ],
      "execution_count": 21,
      "outputs": [
        {
          "output_type": "error",
          "ename": "ModuleNotFoundError",
          "evalue": "ignored",
          "traceback": [
            "\u001b[0;31m---------------------------------------------------------------------------\u001b[0m",
            "\u001b[0;31mModuleNotFoundError\u001b[0m                       Traceback (most recent call last)",
            "\u001b[0;32m<ipython-input-21-df4d5064803b>\u001b[0m in \u001b[0;36m<module>\u001b[0;34m()\u001b[0m\n\u001b[0;32m----> 1\u001b[0;31m \u001b[0;32mfrom\u001b[0m \u001b[0mtensorflow\u001b[0m\u001b[0;34m.\u001b[0m\u001b[0mcontrib\u001b[0m\u001b[0;34m.\u001b[0m\u001b[0mcompiler\u001b[0m \u001b[0;32mimport\u001b[0m \u001b[0mxla\u001b[0m\u001b[0;34m\u001b[0m\u001b[0;34m\u001b[0m\u001b[0m\n\u001b[0m",
            "\u001b[0;31mModuleNotFoundError\u001b[0m: No module named 'tensorflow.contrib'",
            "",
            "\u001b[0;31m---------------------------------------------------------------------------\u001b[0;32m\nNOTE: If your import is failing due to a missing package, you can\nmanually install dependencies using either !pip or !apt.\n\nTo view examples of installing some common dependencies, click the\n\"Open Examples\" button below.\n\u001b[0;31m---------------------------------------------------------------------------\u001b[0m\n"
          ]
        }
      ]
    },
    {
      "cell_type": "code",
      "metadata": {
        "id": "qWTcUAs4lkCe"
      },
      "source": [
        "@tf.function(jit_compile=True)\n",
        "def f(x,y):\n",
        "  return x+y"
      ],
      "execution_count": 37,
      "outputs": []
    },
    {
      "cell_type": "code",
      "metadata": {
        "id": "aZ4REV0FnZQp"
      },
      "source": [
        "z = f(2,3)"
      ],
      "execution_count": 40,
      "outputs": []
    },
    {
      "cell_type": "code",
      "metadata": {
        "colab": {
          "base_uri": "https://localhost:8080/"
        },
        "id": "MhNE4SIHnaVk",
        "outputId": "71a31285-7f4a-4af5-be2e-b5facfbba0fa"
      },
      "source": [
        "print(tf.autograph.to_code(f.python_function))"
      ],
      "execution_count": 41,
      "outputs": [
        {
          "output_type": "stream",
          "text": [
            "def tf__f(x, y):\n",
            "    with ag__.FunctionScope('f', 'fscope', ag__.ConversionOptions(recursive=True, user_requested=True, optional_features=(), internal_convert_user_code=True)) as fscope:\n",
            "        do_return = False\n",
            "        retval_ = ag__.UndefinedReturnValue()\n",
            "        try:\n",
            "            do_return = True\n",
            "            retval_ = (ag__.ld(x) + ag__.ld(y))\n",
            "        except:\n",
            "            do_return = False\n",
            "            raise\n",
            "        return fscope.ret(retval_, do_return)\n",
            "\n"
          ],
          "name": "stdout"
        }
      ]
    },
    {
      "cell_type": "code",
      "metadata": {
        "id": "McfwgkGAngKO"
      },
      "source": [
        "@tf.function(jit_compile=True)\n",
        "def buildPath(z, number, steps):\n",
        "  x = 0\n",
        "  for i in range(number):\n",
        "    x = x + z[steps]\n",
        "#        path = tf.unstack(tf.zeros(shape=(self.number_time_steps,number)))\n",
        "#        path[-1] = self.std_dev[0]*z[0];\n",
        "#        for i in np.arange(1,self.number_time_steps):\n",
        "#            j = self.left_index[i]\n",
        "#            k = self.right_index[i]\n",
        "#            l = self.bridge_index[i]\n",
        "#            #if j > 0:\n",
        "#            #    path[l] = self.left_weight[i] * path[j-1] + self.right_weight[i] * path[k] + self.std_dev[i] * z[i]\n",
        "#            #else:\n",
        "#            path[l] = self.right_weight[i] * path[k] + self.std_dev[i] * z[i]\n"
      ],
      "execution_count": 53,
      "outputs": []
    },
    {
      "cell_type": "code",
      "metadata": {
        "id": "NDsXgozioEe5"
      },
      "source": [
        "x = tf.math.sobol_sample(2,3)"
      ],
      "execution_count": 54,
      "outputs": []
    },
    {
      "cell_type": "code",
      "metadata": {
        "id": "LukI0xwHoCmz"
      },
      "source": [
        "buildPath(x, 1, 1)"
      ],
      "execution_count": 55,
      "outputs": []
    },
    {
      "cell_type": "code",
      "metadata": {
        "colab": {
          "base_uri": "https://localhost:8080/"
        },
        "id": "vW1KSYoRoJ0y",
        "outputId": "96bbc164-cfc3-4afb-f0c1-f90b4ea611ba"
      },
      "source": [
        "print(tf.autograph.to_code(buildPath.python_function))"
      ],
      "execution_count": 56,
      "outputs": [
        {
          "output_type": "stream",
          "text": [
            "def tf__buildPath(z, number, steps):\n",
            "    with ag__.FunctionScope('buildPath', 'fscope', ag__.ConversionOptions(recursive=True, user_requested=True, optional_features=(), internal_convert_user_code=True)) as fscope:\n",
            "        x = 0\n",
            "\n",
            "        def get_state():\n",
            "            return (x,)\n",
            "\n",
            "        def set_state(vars_):\n",
            "            nonlocal x\n",
            "            (x,) = vars_\n",
            "\n",
            "        def loop_body(itr):\n",
            "            nonlocal x\n",
            "            i = itr\n",
            "            x = (ag__.ld(x) + ag__.ld(z)[ag__.ld(steps)])\n",
            "        i = ag__.Undefined('i')\n",
            "        ag__.for_stmt(ag__.converted_call(ag__.ld(range), (ag__.ld(number),), None, fscope), None, loop_body, get_state, set_state, ('x',), {'iterate_names': 'i'})\n",
            "\n"
          ],
          "name": "stdout"
        }
      ]
    },
    {
      "cell_type": "code",
      "metadata": {
        "id": "QcYugfF3oOFL"
      },
      "source": [
        "import torch"
      ],
      "execution_count": 50,
      "outputs": []
    },
    {
      "cell_type": "code",
      "metadata": {
        "colab": {
          "base_uri": "https://localhost:8080/",
          "height": 469
        },
        "id": "8Bc4d6eQolhK",
        "outputId": "a48c4e03-5481-4719-8ee6-17e478926cad"
      },
      "source": [
        "@torch.jit.script\n",
        "def foo(x, number):\n",
        "  x = 0\n",
        "  for i in range(number):\n",
        "    x = x + z[i]\n",
        "\n",
        "# See the compiled graph as Python code\n",
        "print(foo.code)\n",
        "\n",
        "# Call the function using the TorchScript interpreter\n",
        "foo(x , 2)"
      ],
      "execution_count": 60,
      "outputs": [
        {
          "output_type": "error",
          "ename": "RuntimeError",
          "evalue": "ignored",
          "traceback": [
            "\u001b[0;31m---------------------------------------------------------------------------\u001b[0m",
            "\u001b[0;31mRuntimeError\u001b[0m                              Traceback (most recent call last)",
            "\u001b[0;32m<ipython-input-60-1b989e9a02c7>\u001b[0m in \u001b[0;36m<module>\u001b[0;34m()\u001b[0m\n\u001b[0;32m----> 1\u001b[0;31m \u001b[0;34m@\u001b[0m\u001b[0mtorch\u001b[0m\u001b[0;34m.\u001b[0m\u001b[0mjit\u001b[0m\u001b[0;34m.\u001b[0m\u001b[0mscript\u001b[0m\u001b[0;34m\u001b[0m\u001b[0;34m\u001b[0m\u001b[0m\n\u001b[0m\u001b[1;32m      2\u001b[0m \u001b[0;32mdef\u001b[0m \u001b[0mfoo\u001b[0m\u001b[0;34m(\u001b[0m\u001b[0mx\u001b[0m\u001b[0;34m,\u001b[0m \u001b[0mnumber\u001b[0m\u001b[0;34m)\u001b[0m\u001b[0;34m:\u001b[0m\u001b[0;34m\u001b[0m\u001b[0;34m\u001b[0m\u001b[0m\n\u001b[1;32m      3\u001b[0m   \u001b[0mx\u001b[0m \u001b[0;34m=\u001b[0m \u001b[0;36m0\u001b[0m\u001b[0;34m\u001b[0m\u001b[0;34m\u001b[0m\u001b[0m\n\u001b[1;32m      4\u001b[0m   \u001b[0;32mfor\u001b[0m \u001b[0mi\u001b[0m \u001b[0;32min\u001b[0m \u001b[0mrange\u001b[0m\u001b[0;34m(\u001b[0m\u001b[0mnumber\u001b[0m\u001b[0;34m)\u001b[0m\u001b[0;34m:\u001b[0m\u001b[0;34m\u001b[0m\u001b[0;34m\u001b[0m\u001b[0m\n\u001b[1;32m      5\u001b[0m     \u001b[0mx\u001b[0m \u001b[0;34m=\u001b[0m \u001b[0mx\u001b[0m \u001b[0;34m+\u001b[0m \u001b[0mz\u001b[0m\u001b[0;34m[\u001b[0m\u001b[0mi\u001b[0m\u001b[0;34m]\u001b[0m\u001b[0;34m\u001b[0m\u001b[0;34m\u001b[0m\u001b[0m\n",
            "\u001b[0;32m/usr/local/lib/python3.6/dist-packages/torch/jit/_script.py\u001b[0m in \u001b[0;36mscript\u001b[0;34m(obj, optimize, _frames_up, _rcb)\u001b[0m\n\u001b[1;32m    938\u001b[0m             \u001b[0m_rcb\u001b[0m \u001b[0;34m=\u001b[0m \u001b[0m_jit_internal\u001b[0m\u001b[0;34m.\u001b[0m\u001b[0mcreateResolutionCallbackFromClosure\u001b[0m\u001b[0;34m(\u001b[0m\u001b[0mobj\u001b[0m\u001b[0;34m)\u001b[0m\u001b[0;34m\u001b[0m\u001b[0;34m\u001b[0m\u001b[0m\n\u001b[1;32m    939\u001b[0m         fn = torch._C._jit_script_compile(\n\u001b[0;32m--> 940\u001b[0;31m             \u001b[0mqualified_name\u001b[0m\u001b[0;34m,\u001b[0m \u001b[0mast\u001b[0m\u001b[0;34m,\u001b[0m \u001b[0m_rcb\u001b[0m\u001b[0;34m,\u001b[0m \u001b[0mget_default_args\u001b[0m\u001b[0;34m(\u001b[0m\u001b[0mobj\u001b[0m\u001b[0;34m)\u001b[0m\u001b[0;34m\u001b[0m\u001b[0;34m\u001b[0m\u001b[0m\n\u001b[0m\u001b[1;32m    941\u001b[0m         )\n\u001b[1;32m    942\u001b[0m         \u001b[0;31m# Forward docstrings\u001b[0m\u001b[0;34m\u001b[0m\u001b[0;34m\u001b[0m\u001b[0;34m\u001b[0m\u001b[0m\n",
            "\u001b[0;31mRuntimeError\u001b[0m: \nall inputs of range must be ints, found Tensor (inferred) in argument 0:\n  File \"<ipython-input-60-1b989e9a02c7>\", line 4\ndef foo(x, number):\n  x = 0\n  for i in range(number):\n           ~~~~~~~~~~~~ <--- HERE\n    x = x + z[i]\n"
          ]
        }
      ]
    },
    {
      "cell_type": "code",
      "metadata": {
        "id": "CvN8Ry6xonuh"
      },
      "source": [
        ""
      ],
      "execution_count": null,
      "outputs": []
    }
  ]
}