{
  "nbformat": 4,
  "nbformat_minor": 0,
  "metadata": {
    "colab": {
      "name": "RandomPerformance.ipynb",
      "provenance": [],
      "collapsed_sections": [],
      "authorship_tag": "ABX9TyN6sPhr73d0NsjFbrXxAxj0",
      "include_colab_link": true
    },
    "kernelspec": {
      "name": "python3",
      "display_name": "Python 3"
    },
    "accelerator": "GPU"
  },
  "cells": [
    {
      "cell_type": "markdown",
      "metadata": {
        "id": "view-in-github",
        "colab_type": "text"
      },
      "source": [
        "<a href=\"https://colab.research.google.com/github/QuantAnalyticsTorch/quant_analytics_torch/blob/main/examples/RandomPerformance.ipynb\" target=\"_parent\"><img src=\"https://colab.research.google.com/assets/colab-badge.svg\" alt=\"Open In Colab\"/></a>"
      ]
    },
    {
      "cell_type": "code",
      "metadata": {
        "colab": {
          "base_uri": "https://localhost:8080/",
          "height": 1000
        },
        "id": "nDp-CSVzD4RL",
        "outputId": "b1910265-9747-4ce4-9cf1-b27988fad4d9"
      },
      "source": [
        "#@title Upgrade to TensorFlow nightly\n",
        "!pip install --upgrade tf-nightly"
      ],
      "execution_count": 25,
      "outputs": [
        {
          "output_type": "stream",
          "text": [
            "Collecting tf-nightly\n",
            "\u001b[?25l  Downloading https://files.pythonhosted.org/packages/d6/a0/bb53c740d9ed63b97cb2c56f238c10c96b707feb425ecf836f8d3e86d8cf/tf_nightly-2.5.0.dev20201126-cp36-cp36m-manylinux2010_x86_64.whl (398.7MB)\n",
            "\u001b[K     |████████████████████████████████| 398.7MB 45kB/s \n",
            "\u001b[?25hRequirement already satisfied, skipping upgrade: keras-preprocessing~=1.1.2 in /usr/local/lib/python3.6/dist-packages (from tf-nightly) (1.1.2)\n",
            "Collecting protobuf~=3.13.0\n",
            "\u001b[?25l  Downloading https://files.pythonhosted.org/packages/30/79/510974552cebff2ba04038544799450defe75e96ea5f1675dbf72cc8744f/protobuf-3.13.0-cp36-cp36m-manylinux1_x86_64.whl (1.3MB)\n",
            "\u001b[K     |████████████████████████████████| 1.3MB 41.9MB/s \n",
            "\u001b[?25hRequirement already satisfied, skipping upgrade: six~=1.15.0 in /usr/local/lib/python3.6/dist-packages (from tf-nightly) (1.15.0)\n",
            "Collecting tb-nightly~=2.5.0.a\n",
            "\u001b[?25l  Downloading https://files.pythonhosted.org/packages/03/67/be02f453a7ffd2c62cbbb45f06b82a52437972ebc3eaac59065bdaf2de7b/tb_nightly-2.5.0a20201125-py3-none-any.whl (11.9MB)\n",
            "\u001b[K     |████████████████████████████████| 11.9MB 25.1MB/s \n",
            "\u001b[?25hRequirement already satisfied, skipping upgrade: wrapt~=1.12.1 in /usr/local/lib/python3.6/dist-packages (from tf-nightly) (1.12.1)\n",
            "Requirement already satisfied, skipping upgrade: termcolor~=1.1.0 in /usr/local/lib/python3.6/dist-packages (from tf-nightly) (1.1.0)\n",
            "Collecting grpcio~=1.32.0\n",
            "\u001b[?25l  Downloading https://files.pythonhosted.org/packages/f0/00/b393f5d0e92b37592a41357ea3077010c95400c907f6b9af01f4f6abe140/grpcio-1.32.0-cp36-cp36m-manylinux2014_x86_64.whl (3.8MB)\n",
            "\u001b[K     |████████████████████████████████| 3.8MB 33.8MB/s \n",
            "\u001b[?25hRequirement already satisfied, skipping upgrade: absl-py~=0.10 in /usr/local/lib/python3.6/dist-packages (from tf-nightly) (0.10.0)\n",
            "Requirement already satisfied, skipping upgrade: google-pasta~=0.2 in /usr/local/lib/python3.6/dist-packages (from tf-nightly) (0.2.0)\n",
            "Requirement already satisfied, skipping upgrade: flatbuffers~=1.12.0 in /usr/local/lib/python3.6/dist-packages (from tf-nightly) (1.12)\n",
            "Requirement already satisfied, skipping upgrade: typing-extensions~=3.7.4 in /usr/local/lib/python3.6/dist-packages (from tf-nightly) (3.7.4.3)\n",
            "Requirement already satisfied, skipping upgrade: gast==0.3.3 in /usr/local/lib/python3.6/dist-packages (from tf-nightly) (0.3.3)\n",
            "Requirement already satisfied, skipping upgrade: opt-einsum~=3.3.0 in /usr/local/lib/python3.6/dist-packages (from tf-nightly) (3.3.0)\n",
            "Requirement already satisfied, skipping upgrade: astunparse~=1.6.3 in /usr/local/lib/python3.6/dist-packages (from tf-nightly) (1.6.3)\n",
            "Collecting numpy~=1.19.2\n",
            "\u001b[?25l  Downloading https://files.pythonhosted.org/packages/87/86/753182c9085ba4936c0076269a571613387cdb77ae2bf537448bfd63472c/numpy-1.19.4-cp36-cp36m-manylinux2010_x86_64.whl (14.5MB)\n",
            "\u001b[K     |████████████████████████████████| 14.5MB 149kB/s \n",
            "\u001b[?25hCollecting tf-estimator-nightly~=2.4.0.dev\n",
            "\u001b[?25l  Downloading https://files.pythonhosted.org/packages/89/d2/2131f5a0f0d14bae7f4d332724748b9ca6746b0d32f5c76145f0707f47d8/tf_estimator_nightly-2.4.0.dev2020102301-py2.py3-none-any.whl (461kB)\n",
            "\u001b[K     |████████████████████████████████| 471kB 41.4MB/s \n",
            "\u001b[?25hRequirement already satisfied, skipping upgrade: wheel~=0.35 in /usr/local/lib/python3.6/dist-packages (from tf-nightly) (0.35.1)\n",
            "Requirement already satisfied, skipping upgrade: h5py~=2.10.0 in /usr/local/lib/python3.6/dist-packages (from tf-nightly) (2.10.0)\n",
            "Requirement already satisfied, skipping upgrade: setuptools in /usr/local/lib/python3.6/dist-packages (from protobuf~=3.13.0->tf-nightly) (50.3.2)\n",
            "Requirement already satisfied, skipping upgrade: markdown>=2.6.8 in /usr/local/lib/python3.6/dist-packages (from tb-nightly~=2.5.0.a->tf-nightly) (3.3.3)\n",
            "Requirement already satisfied, skipping upgrade: tensorboard-plugin-wit>=1.6.0 in /usr/local/lib/python3.6/dist-packages (from tb-nightly~=2.5.0.a->tf-nightly) (1.7.0)\n",
            "Requirement already satisfied, skipping upgrade: google-auth-oauthlib<0.5,>=0.4.1 in /usr/local/lib/python3.6/dist-packages (from tb-nightly~=2.5.0.a->tf-nightly) (0.4.2)\n",
            "Requirement already satisfied, skipping upgrade: requests<3,>=2.21.0 in /usr/local/lib/python3.6/dist-packages (from tb-nightly~=2.5.0.a->tf-nightly) (2.23.0)\n",
            "Requirement already satisfied, skipping upgrade: google-auth<2,>=1.6.3 in /usr/local/lib/python3.6/dist-packages (from tb-nightly~=2.5.0.a->tf-nightly) (1.17.2)\n",
            "Requirement already satisfied, skipping upgrade: werkzeug>=0.11.15 in /usr/local/lib/python3.6/dist-packages (from tb-nightly~=2.5.0.a->tf-nightly) (1.0.1)\n",
            "Requirement already satisfied, skipping upgrade: importlib-metadata; python_version < \"3.8\" in /usr/local/lib/python3.6/dist-packages (from markdown>=2.6.8->tb-nightly~=2.5.0.a->tf-nightly) (2.0.0)\n",
            "Requirement already satisfied, skipping upgrade: requests-oauthlib>=0.7.0 in /usr/local/lib/python3.6/dist-packages (from google-auth-oauthlib<0.5,>=0.4.1->tb-nightly~=2.5.0.a->tf-nightly) (1.3.0)\n",
            "Requirement already satisfied, skipping upgrade: urllib3!=1.25.0,!=1.25.1,<1.26,>=1.21.1 in /usr/local/lib/python3.6/dist-packages (from requests<3,>=2.21.0->tb-nightly~=2.5.0.a->tf-nightly) (1.24.3)\n",
            "Requirement already satisfied, skipping upgrade: idna<3,>=2.5 in /usr/local/lib/python3.6/dist-packages (from requests<3,>=2.21.0->tb-nightly~=2.5.0.a->tf-nightly) (2.10)\n",
            "Requirement already satisfied, skipping upgrade: chardet<4,>=3.0.2 in /usr/local/lib/python3.6/dist-packages (from requests<3,>=2.21.0->tb-nightly~=2.5.0.a->tf-nightly) (3.0.4)\n",
            "Requirement already satisfied, skipping upgrade: certifi>=2017.4.17 in /usr/local/lib/python3.6/dist-packages (from requests<3,>=2.21.0->tb-nightly~=2.5.0.a->tf-nightly) (2020.11.8)\n",
            "Requirement already satisfied, skipping upgrade: rsa<5,>=3.1.4; python_version >= \"3\" in /usr/local/lib/python3.6/dist-packages (from google-auth<2,>=1.6.3->tb-nightly~=2.5.0.a->tf-nightly) (4.6)\n",
            "Requirement already satisfied, skipping upgrade: pyasn1-modules>=0.2.1 in /usr/local/lib/python3.6/dist-packages (from google-auth<2,>=1.6.3->tb-nightly~=2.5.0.a->tf-nightly) (0.2.8)\n",
            "Requirement already satisfied, skipping upgrade: cachetools<5.0,>=2.0.0 in /usr/local/lib/python3.6/dist-packages (from google-auth<2,>=1.6.3->tb-nightly~=2.5.0.a->tf-nightly) (4.1.1)\n",
            "Requirement already satisfied, skipping upgrade: zipp>=0.5 in /usr/local/lib/python3.6/dist-packages (from importlib-metadata; python_version < \"3.8\"->markdown>=2.6.8->tb-nightly~=2.5.0.a->tf-nightly) (3.4.0)\n",
            "Requirement already satisfied, skipping upgrade: oauthlib>=3.0.0 in /usr/local/lib/python3.6/dist-packages (from requests-oauthlib>=0.7.0->google-auth-oauthlib<0.5,>=0.4.1->tb-nightly~=2.5.0.a->tf-nightly) (3.1.0)\n",
            "Requirement already satisfied, skipping upgrade: pyasn1>=0.1.3 in /usr/local/lib/python3.6/dist-packages (from rsa<5,>=3.1.4; python_version >= \"3\"->google-auth<2,>=1.6.3->tb-nightly~=2.5.0.a->tf-nightly) (0.4.8)\n",
            "\u001b[31mERROR: tensorflow 2.3.0 has requirement numpy<1.19.0,>=1.16.0, but you'll have numpy 1.19.4 which is incompatible.\u001b[0m\n",
            "\u001b[31mERROR: datascience 0.10.6 has requirement folium==0.2.1, but you'll have folium 0.8.3 which is incompatible.\u001b[0m\n",
            "\u001b[31mERROR: albumentations 0.1.12 has requirement imgaug<0.2.7,>=0.2.5, but you'll have imgaug 0.2.9 which is incompatible.\u001b[0m\n",
            "Installing collected packages: protobuf, grpcio, numpy, tb-nightly, tf-estimator-nightly, tf-nightly\n",
            "  Found existing installation: protobuf 3.12.4\n",
            "    Uninstalling protobuf-3.12.4:\n",
            "      Successfully uninstalled protobuf-3.12.4\n",
            "  Found existing installation: grpcio 1.33.2\n",
            "    Uninstalling grpcio-1.33.2:\n",
            "      Successfully uninstalled grpcio-1.33.2\n",
            "  Found existing installation: numpy 1.18.5\n",
            "    Uninstalling numpy-1.18.5:\n",
            "      Successfully uninstalled numpy-1.18.5\n",
            "Successfully installed grpcio-1.32.0 numpy-1.19.4 protobuf-3.13.0 tb-nightly-2.5.0a20201125 tf-estimator-nightly-2.4.0.dev2020102301 tf-nightly-2.5.0.dev20201126\n"
          ],
          "name": "stdout"
        },
        {
          "output_type": "display_data",
          "data": {
            "application/vnd.colab-display-data+json": {
              "pip_warning": {
                "packages": [
                  "google",
                  "numpy"
                ]
              }
            }
          },
          "metadata": {
            "tags": []
          }
        }
      ]
    },
    {
      "cell_type": "code",
      "metadata": {
        "id": "qEqDuod8iuTy"
      },
      "source": [
        "import tensorflow as tf"
      ],
      "execution_count": 1,
      "outputs": []
    },
    {
      "cell_type": "code",
      "metadata": {
        "id": "CYqz1EZUqrZr"
      },
      "source": [
        "from scipy.special import erf\n",
        "import numpy as np\n",
        "import time"
      ],
      "execution_count": 2,
      "outputs": []
    },
    {
      "cell_type": "code",
      "metadata": {
        "id": "wZzX8ugh1eJ6"
      },
      "source": [
        "x = tf.math.sobol_sample(10,10)"
      ],
      "execution_count": 3,
      "outputs": []
    },
    {
      "cell_type": "code",
      "metadata": {
        "id": "MPMwv1G9h0ou"
      },
      "source": [
        "import numpy as np"
      ],
      "execution_count": 4,
      "outputs": []
    },
    {
      "cell_type": "code",
      "metadata": {
        "id": "qMz0DuHGq2vt"
      },
      "source": [
        "class BrownianBridge():\n",
        "    def __init__(self, number_time_steps):\n",
        "        super(BrownianBridge, self).__init__()\n",
        "\n",
        "        self.number_time_steps = number_time_steps\n",
        "\n",
        "        self.left_index = np.zeros(number_time_steps, dtype=int)\n",
        "        self.right_index = np.zeros(number_time_steps, dtype=int)\n",
        "        self.bridge_index = np.zeros(number_time_steps, dtype=int)\n",
        "        self.left_weight = np.zeros(number_time_steps)\n",
        "        self.right_weight = np.zeros(number_time_steps)\n",
        "        self.std_dev = np.zeros(number_time_steps)\n",
        "\n",
        "        self._map = np.zeros(number_time_steps, dtype=int)\n",
        "\n",
        "        self._map[-1] = 1\n",
        "        self.bridge_index[0] = number_time_steps - 1\n",
        "        self.std_dev[0] = tf.math.sqrt(1.0 * number_time_steps)\n",
        "        self.left_weight[0] = 0\n",
        "        self.right_weight[0] = 0\n",
        "\n",
        "        j=0\n",
        "        for i in range(1,number_time_steps):\n",
        "            while self._map[j] == True:\n",
        "                j = j + 1\n",
        "            k = j\n",
        "            while self._map[k] == False:\n",
        "                k = k + 1\n",
        "            l = j+((k-1-j)>>1)\n",
        "            self._map[l]=i\n",
        "            self.bridge_index[i]=l\n",
        "            self.left_index[i]=j\n",
        "            self.right_index[i]=k\n",
        "            self.left_weight[i]=(k-l)/(k+1-j)\n",
        "            self.right_weight[i]=(1+l-j)/(k+1-j)\n",
        "            self.std_dev[i]=np.sqrt(((1+l-j)*(k-l))/(k+1-j))\n",
        "            j=k+1\n",
        "            if j>=number_time_steps:\n",
        "                j=0\n",
        "\n",
        "    @tf.function(jit_compile=True)\n",
        "    def buildPath(self, z, number):\n",
        "        path = tf.unstack(tf.zeros(shape=(self.number_time_steps,number)))\n",
        "        path[-1] = self.std_dev[0]*z[0];\n",
        "        for i in np.arange(1,self.number_time_steps):\n",
        "            j = self.left_index[i]\n",
        "            k = self.right_index[i]\n",
        "            l = self.bridge_index[i]\n",
        "            #if j > 0:\n",
        "            #    path[l] = self.left_weight[i] * path[j-1] + self.right_weight[i] * path[k] + self.std_dev[i] * z[i]\n",
        "            #else:\n",
        "            path[l] = self.right_weight[i] * path[k] + self.std_dev[i] * z[i]\n",
        "\n",
        "        return path"
      ],
      "execution_count": 5,
      "outputs": []
    },
    {
      "cell_type": "code",
      "metadata": {
        "id": "dsB-loSz074y"
      },
      "source": [
        "import tensorflow as tf"
      ],
      "execution_count": 6,
      "outputs": []
    },
    {
      "cell_type": "code",
      "metadata": {
        "id": "yV58kSGc03N4"
      },
      "source": [
        "import numpy as np\n",
        "import math"
      ],
      "execution_count": 327,
      "outputs": []
    },
    {
      "cell_type": "code",
      "metadata": {
        "id": "lazF0a71pwkG"
      },
      "source": [
        "number_time_steps = 256\n",
        "number = 3\n",
        "\n",
        "left_index = np.zeros(number_time_steps, dtype=int)\n",
        "right_index = np.zeros(number_time_steps, dtype=int)\n",
        "bridge_index = np.zeros(number_time_steps, dtype=int)\n",
        "left_weight = np.zeros(number_time_steps)\n",
        "right_weight = np.zeros(number_time_steps)\n",
        "std_dev = np.zeros(number_time_steps)\n",
        "\n",
        "_map = np.zeros(number_time_steps, dtype=int)\n",
        "\n",
        "_map[-1] = 1\n",
        "bridge_index[0] = number_time_steps - 1\n",
        "std_dev[0] = math.sqrt(1.0 * number_time_steps)\n",
        "left_weight[0] = 0\n",
        "right_weight[0] = 0\n",
        "\n",
        "j=0\n",
        "for i in range(1,number_time_steps):\n",
        "  while _map[j] == True:\n",
        "    j = j + 1\n",
        "  k = j\n",
        "  while _map[k] == False:\n",
        "    k = k + 1\n",
        "l = j+((k-1-j)>>1)\n",
        "_map[l]=i\n",
        "bridge_index[i]=l\n",
        "left_index[i]=j\n",
        "right_index[i]=k\n",
        "left_weight[i]=(k-l)/(k+1-j)\n",
        "right_weight[i]=(1+l-j)/(k+1-j)\n",
        "std_dev[i]=np.sqrt(((1+l-j)*(k-l))/(k+1-j))\n",
        "j=k+1\n",
        "if j>=number_time_steps:\n",
        "  j=0"
      ],
      "execution_count": 328,
      "outputs": []
    },
    {
      "cell_type": "code",
      "metadata": {
        "id": "AdiZGL1NLojK",
        "outputId": "fcdce97e-a1e7-462b-9545-946556ec9871",
        "colab": {
          "base_uri": "https://localhost:8080/"
        }
      },
      "source": [
        "bridge_index_t = tf.constant(bridge_index)\n",
        "right_index_t = tf.constant(right_index)\n",
        "left_index_t = tf.constant(left_index)\n",
        "left_weight_t = tf.constant(left_weight)\n",
        "right_weight_t = tf.constant(right_weight)\n",
        "std_dev_t = tf.constant(std_dev)\n",
        "\n",
        "print(left_index_t)"
      ],
      "execution_count": 333,
      "outputs": [
        {
          "output_type": "stream",
          "text": [
            "tf.Tensor(\n",
            "[0 0 0 0 0 0 0 0 0 0 0 0 0 0 0 0 0 0 0 0 0 0 0 0 0 0 0 0 0 0 0 0 0 0 0 0 0\n",
            " 0 0 0 0 0 0 0 0 0 0 0 0 0 0 0 0 0 0 0 0 0 0 0 0 0 0 0 0 0 0 0 0 0 0 0 0 0\n",
            " 0 0 0 0 0 0 0 0 0 0 0 0 0 0 0 0 0 0 0 0 0 0 0 0 0 0 0 0 0 0 0 0 0 0 0 0 0\n",
            " 0 0 0 0 0 0 0 0 0 0 0 0 0 0 0 0 0 0 0 0 0 0 0 0 0 0 0 0 0 0 0 0 0 0 0 0 0\n",
            " 0 0 0 0 0 0 0 0 0 0 0 0 0 0 0 0 0 0 0 0 0 0 0 0 0 0 0 0 0 0 0 0 0 0 0 0 0\n",
            " 0 0 0 0 0 0 0 0 0 0 0 0 0 0 0 0 0 0 0 0 0 0 0 0 0 0 0 0 0 0 0 0 0 0 0 0 0\n",
            " 0 0 0 0 0 0 0 0 0 0 0 0 0 0 0 0 0 0 0 0 0 0 0 0 0 0 0 0 0 0 0 0 0 0], shape=(256,), dtype=int64)\n"
          ],
          "name": "stdout"
        }
      ]
    },
    {
      "cell_type": "code",
      "metadata": {
        "id": "s08YoH7R01_g"
      },
      "source": [
        "#@tf.function(jit_compile=True, input_signature=(tf.TensorSpec(shape=(None), dtype=tf.float64), tf.TensorSpec(shape=(), dtype=tf.int32)))\n",
        "@tf.function(jit_compile=True)\n",
        "def test(z, number):\n",
        "  print(\"Tracing with\", number)\n",
        "\n",
        "  path = tf.unstack(tf.zeros(shape=(8,3),dtype=tf.dtypes.float64))\n",
        "  path[-1] = z[0]\n",
        "  print(path)\n",
        "  print(z)\n",
        "  for i in range(number-1):\n",
        "    print(i)  \n",
        "    print(z[i])\n",
        "    #print(path[i])\n",
        "    #tmp = z[i]\n",
        "    path[i] = z[i]\n",
        "\n",
        "  return path"
      ],
      "execution_count": 401,
      "outputs": []
    },
    {
      "cell_type": "code",
      "metadata": {
        "id": "nSs5QHfKU7Xi",
        "outputId": "7f3f3818-9a61-4457-a969-13dc8f1aaeac",
        "colab": {
          "base_uri": "https://localhost:8080/",
          "height": 564
        }
      },
      "source": [
        "number = tf.constant(3)\n",
        "\n",
        "x = tf.zeros(shape=(3,1),dtype=tf.dtypes.float64)\n",
        "\n",
        "test(x,number)\n",
        "\n",
        "print(x)"
      ],
      "execution_count": 404,
      "outputs": [
        {
          "output_type": "stream",
          "text": [
            "Tracing with Tensor(\"number:0\", shape=(), dtype=int32)\n",
            "[<tf.Tensor 'unstack:0' shape=(3,) dtype=float64>, <tf.Tensor 'unstack:1' shape=(3,) dtype=float64>, <tf.Tensor 'unstack:2' shape=(3,) dtype=float64>, <tf.Tensor 'unstack:3' shape=(3,) dtype=float64>, <tf.Tensor 'unstack:4' shape=(3,) dtype=float64>, <tf.Tensor 'unstack:5' shape=(3,) dtype=float64>, <tf.Tensor 'unstack:6' shape=(3,) dtype=float64>, <tf.Tensor 'strided_slice:0' shape=(1,) dtype=float64>]\n",
            "Tensor(\"z:0\", shape=(3, 1), dtype=float64)\n",
            "Tensor(\"while/Placeholder:0\", shape=(), dtype=int32)\n",
            "Tensor(\"while/strided_slice:0\", shape=(1,), dtype=float64)\n"
          ],
          "name": "stdout"
        },
        {
          "output_type": "error",
          "ename": "TypeError",
          "evalue": "ignored",
          "traceback": [
            "\u001b[0;31m---------------------------------------------------------------------------\u001b[0m",
            "\u001b[0;31mTypeError\u001b[0m                                 Traceback (most recent call last)",
            "\u001b[0;32m<ipython-input-404-6b1b3c57eeb4>\u001b[0m in \u001b[0;36m<module>\u001b[0;34m()\u001b[0m\n\u001b[1;32m      3\u001b[0m \u001b[0mx\u001b[0m \u001b[0;34m=\u001b[0m \u001b[0mtf\u001b[0m\u001b[0;34m.\u001b[0m\u001b[0mzeros\u001b[0m\u001b[0;34m(\u001b[0m\u001b[0mshape\u001b[0m\u001b[0;34m=\u001b[0m\u001b[0;34m(\u001b[0m\u001b[0;36m3\u001b[0m\u001b[0;34m,\u001b[0m\u001b[0;36m1\u001b[0m\u001b[0;34m)\u001b[0m\u001b[0;34m,\u001b[0m\u001b[0mdtype\u001b[0m\u001b[0;34m=\u001b[0m\u001b[0mtf\u001b[0m\u001b[0;34m.\u001b[0m\u001b[0mdtypes\u001b[0m\u001b[0;34m.\u001b[0m\u001b[0mfloat64\u001b[0m\u001b[0;34m)\u001b[0m\u001b[0;34m\u001b[0m\u001b[0;34m\u001b[0m\u001b[0m\n\u001b[1;32m      4\u001b[0m \u001b[0;34m\u001b[0m\u001b[0m\n\u001b[0;32m----> 5\u001b[0;31m \u001b[0mtest\u001b[0m\u001b[0;34m(\u001b[0m\u001b[0mx\u001b[0m\u001b[0;34m,\u001b[0m\u001b[0mnumber\u001b[0m\u001b[0;34m)\u001b[0m\u001b[0;34m\u001b[0m\u001b[0;34m\u001b[0m\u001b[0m\n\u001b[0m\u001b[1;32m      6\u001b[0m \u001b[0;34m\u001b[0m\u001b[0m\n\u001b[1;32m      7\u001b[0m \u001b[0mprint\u001b[0m\u001b[0;34m(\u001b[0m\u001b[0mx\u001b[0m\u001b[0;34m)\u001b[0m\u001b[0;34m\u001b[0m\u001b[0;34m\u001b[0m\u001b[0m\n",
            "\u001b[0;32m/usr/local/lib/python3.6/dist-packages/tensorflow/python/eager/def_function.py\u001b[0m in \u001b[0;36m__call__\u001b[0;34m(self, *args, **kwds)\u001b[0m\n\u001b[1;32m    782\u001b[0m     \u001b[0mtracing_count\u001b[0m \u001b[0;34m=\u001b[0m \u001b[0mself\u001b[0m\u001b[0;34m.\u001b[0m\u001b[0mexperimental_get_tracing_count\u001b[0m\u001b[0;34m(\u001b[0m\u001b[0;34m)\u001b[0m\u001b[0;34m\u001b[0m\u001b[0;34m\u001b[0m\u001b[0m\n\u001b[1;32m    783\u001b[0m     \u001b[0;32mwith\u001b[0m \u001b[0mtrace\u001b[0m\u001b[0;34m.\u001b[0m\u001b[0mTrace\u001b[0m\u001b[0;34m(\u001b[0m\u001b[0mself\u001b[0m\u001b[0;34m.\u001b[0m\u001b[0m_name\u001b[0m\u001b[0;34m)\u001b[0m \u001b[0;32mas\u001b[0m \u001b[0mtm\u001b[0m\u001b[0;34m:\u001b[0m\u001b[0;34m\u001b[0m\u001b[0;34m\u001b[0m\u001b[0m\n\u001b[0;32m--> 784\u001b[0;31m       \u001b[0mresult\u001b[0m \u001b[0;34m=\u001b[0m \u001b[0mself\u001b[0m\u001b[0;34m.\u001b[0m\u001b[0m_call\u001b[0m\u001b[0;34m(\u001b[0m\u001b[0;34m*\u001b[0m\u001b[0margs\u001b[0m\u001b[0;34m,\u001b[0m \u001b[0;34m**\u001b[0m\u001b[0mkwds\u001b[0m\u001b[0;34m)\u001b[0m\u001b[0;34m\u001b[0m\u001b[0;34m\u001b[0m\u001b[0m\n\u001b[0m\u001b[1;32m    785\u001b[0m       \u001b[0mcompiler\u001b[0m \u001b[0;34m=\u001b[0m \u001b[0;34m\"xla\"\u001b[0m \u001b[0;32mif\u001b[0m \u001b[0mself\u001b[0m\u001b[0;34m.\u001b[0m\u001b[0m_jit_compile\u001b[0m \u001b[0;32melse\u001b[0m \u001b[0;34m\"nonXla\"\u001b[0m\u001b[0;34m\u001b[0m\u001b[0;34m\u001b[0m\u001b[0m\n\u001b[1;32m    786\u001b[0m       \u001b[0mnew_tracing_count\u001b[0m \u001b[0;34m=\u001b[0m \u001b[0mself\u001b[0m\u001b[0;34m.\u001b[0m\u001b[0mexperimental_get_tracing_count\u001b[0m\u001b[0;34m(\u001b[0m\u001b[0;34m)\u001b[0m\u001b[0;34m\u001b[0m\u001b[0;34m\u001b[0m\u001b[0m\n",
            "\u001b[0;32m/usr/local/lib/python3.6/dist-packages/tensorflow/python/eager/def_function.py\u001b[0m in \u001b[0;36m_call\u001b[0;34m(self, *args, **kwds)\u001b[0m\n\u001b[1;32m    816\u001b[0m       \u001b[0;31m# In this case we have not created variables on the first call. So we can\u001b[0m\u001b[0;34m\u001b[0m\u001b[0;34m\u001b[0m\u001b[0;34m\u001b[0m\u001b[0m\n\u001b[1;32m    817\u001b[0m       \u001b[0;31m# run the first trace but we should fail if variables are created.\u001b[0m\u001b[0;34m\u001b[0m\u001b[0;34m\u001b[0m\u001b[0;34m\u001b[0m\u001b[0m\n\u001b[0;32m--> 818\u001b[0;31m       \u001b[0mresults\u001b[0m \u001b[0;34m=\u001b[0m \u001b[0mself\u001b[0m\u001b[0;34m.\u001b[0m\u001b[0m_stateful_fn\u001b[0m\u001b[0;34m(\u001b[0m\u001b[0;34m*\u001b[0m\u001b[0margs\u001b[0m\u001b[0;34m,\u001b[0m \u001b[0;34m**\u001b[0m\u001b[0mkwds\u001b[0m\u001b[0;34m)\u001b[0m\u001b[0;34m\u001b[0m\u001b[0;34m\u001b[0m\u001b[0m\n\u001b[0m\u001b[1;32m    819\u001b[0m       \u001b[0;32mif\u001b[0m \u001b[0mself\u001b[0m\u001b[0;34m.\u001b[0m\u001b[0m_created_variables\u001b[0m\u001b[0;34m:\u001b[0m\u001b[0;34m\u001b[0m\u001b[0;34m\u001b[0m\u001b[0m\n\u001b[1;32m    820\u001b[0m         raise ValueError(\"Creating variables on a non-first call to a function\"\n",
            "\u001b[0;32m/usr/local/lib/python3.6/dist-packages/tensorflow/python/eager/function.py\u001b[0m in \u001b[0;36m__call__\u001b[0;34m(self, *args, **kwargs)\u001b[0m\n\u001b[1;32m   2968\u001b[0m     \u001b[0;32mwith\u001b[0m \u001b[0mself\u001b[0m\u001b[0;34m.\u001b[0m\u001b[0m_lock\u001b[0m\u001b[0;34m:\u001b[0m\u001b[0;34m\u001b[0m\u001b[0;34m\u001b[0m\u001b[0m\n\u001b[1;32m   2969\u001b[0m       (graph_function,\n\u001b[0;32m-> 2970\u001b[0;31m        filtered_flat_args) = self._maybe_define_function(args, kwargs)\n\u001b[0m\u001b[1;32m   2971\u001b[0m     return graph_function._call_flat(\n\u001b[1;32m   2972\u001b[0m         filtered_flat_args, captured_inputs=graph_function.captured_inputs)  # pylint: disable=protected-access\n",
            "\u001b[0;32m/usr/local/lib/python3.6/dist-packages/tensorflow/python/eager/function.py\u001b[0m in \u001b[0;36m_maybe_define_function\u001b[0;34m(self, args, kwargs)\u001b[0m\n\u001b[1;32m   3388\u001b[0m \u001b[0;34m\u001b[0m\u001b[0m\n\u001b[1;32m   3389\u001b[0m           \u001b[0mself\u001b[0m\u001b[0;34m.\u001b[0m\u001b[0m_function_cache\u001b[0m\u001b[0;34m.\u001b[0m\u001b[0mmissed\u001b[0m\u001b[0;34m.\u001b[0m\u001b[0madd\u001b[0m\u001b[0;34m(\u001b[0m\u001b[0mcall_context_key\u001b[0m\u001b[0;34m)\u001b[0m\u001b[0;34m\u001b[0m\u001b[0;34m\u001b[0m\u001b[0m\n\u001b[0;32m-> 3390\u001b[0;31m           \u001b[0mgraph_function\u001b[0m \u001b[0;34m=\u001b[0m \u001b[0mself\u001b[0m\u001b[0;34m.\u001b[0m\u001b[0m_create_graph_function\u001b[0m\u001b[0;34m(\u001b[0m\u001b[0margs\u001b[0m\u001b[0;34m,\u001b[0m \u001b[0mkwargs\u001b[0m\u001b[0;34m)\u001b[0m\u001b[0;34m\u001b[0m\u001b[0;34m\u001b[0m\u001b[0m\n\u001b[0m\u001b[1;32m   3391\u001b[0m           \u001b[0mself\u001b[0m\u001b[0;34m.\u001b[0m\u001b[0m_function_cache\u001b[0m\u001b[0;34m.\u001b[0m\u001b[0mprimary\u001b[0m\u001b[0;34m[\u001b[0m\u001b[0mcache_key\u001b[0m\u001b[0;34m]\u001b[0m \u001b[0;34m=\u001b[0m \u001b[0mgraph_function\u001b[0m\u001b[0;34m\u001b[0m\u001b[0;34m\u001b[0m\u001b[0m\n\u001b[1;32m   3392\u001b[0m \u001b[0;34m\u001b[0m\u001b[0m\n",
            "\u001b[0;32m/usr/local/lib/python3.6/dist-packages/tensorflow/python/eager/function.py\u001b[0m in \u001b[0;36m_create_graph_function\u001b[0;34m(self, args, kwargs, override_flat_arg_shapes)\u001b[0m\n\u001b[1;32m   3233\u001b[0m             \u001b[0marg_names\u001b[0m\u001b[0;34m=\u001b[0m\u001b[0marg_names\u001b[0m\u001b[0;34m,\u001b[0m\u001b[0;34m\u001b[0m\u001b[0;34m\u001b[0m\u001b[0m\n\u001b[1;32m   3234\u001b[0m             \u001b[0moverride_flat_arg_shapes\u001b[0m\u001b[0;34m=\u001b[0m\u001b[0moverride_flat_arg_shapes\u001b[0m\u001b[0;34m,\u001b[0m\u001b[0;34m\u001b[0m\u001b[0;34m\u001b[0m\u001b[0m\n\u001b[0;32m-> 3235\u001b[0;31m             capture_by_value=self._capture_by_value),\n\u001b[0m\u001b[1;32m   3236\u001b[0m         \u001b[0mself\u001b[0m\u001b[0;34m.\u001b[0m\u001b[0m_function_attributes\u001b[0m\u001b[0;34m,\u001b[0m\u001b[0;34m\u001b[0m\u001b[0;34m\u001b[0m\u001b[0m\n\u001b[1;32m   3237\u001b[0m         \u001b[0mfunction_spec\u001b[0m\u001b[0;34m=\u001b[0m\u001b[0mself\u001b[0m\u001b[0;34m.\u001b[0m\u001b[0mfunction_spec\u001b[0m\u001b[0;34m,\u001b[0m\u001b[0;34m\u001b[0m\u001b[0;34m\u001b[0m\u001b[0m\n",
            "\u001b[0;32m/usr/local/lib/python3.6/dist-packages/tensorflow/python/framework/func_graph.py\u001b[0m in \u001b[0;36mfunc_graph_from_py_func\u001b[0;34m(name, python_func, args, kwargs, signature, func_graph, autograph, autograph_options, add_control_dependencies, arg_names, op_return_value, collections, capture_by_value, override_flat_arg_shapes)\u001b[0m\n\u001b[1;32m    996\u001b[0m         \u001b[0m_\u001b[0m\u001b[0;34m,\u001b[0m \u001b[0moriginal_func\u001b[0m \u001b[0;34m=\u001b[0m \u001b[0mtf_decorator\u001b[0m\u001b[0;34m.\u001b[0m\u001b[0munwrap\u001b[0m\u001b[0;34m(\u001b[0m\u001b[0mpython_func\u001b[0m\u001b[0;34m)\u001b[0m\u001b[0;34m\u001b[0m\u001b[0;34m\u001b[0m\u001b[0m\n\u001b[1;32m    997\u001b[0m \u001b[0;34m\u001b[0m\u001b[0m\n\u001b[0;32m--> 998\u001b[0;31m       \u001b[0mfunc_outputs\u001b[0m \u001b[0;34m=\u001b[0m \u001b[0mpython_func\u001b[0m\u001b[0;34m(\u001b[0m\u001b[0;34m*\u001b[0m\u001b[0mfunc_args\u001b[0m\u001b[0;34m,\u001b[0m \u001b[0;34m**\u001b[0m\u001b[0mfunc_kwargs\u001b[0m\u001b[0;34m)\u001b[0m\u001b[0;34m\u001b[0m\u001b[0;34m\u001b[0m\u001b[0m\n\u001b[0m\u001b[1;32m    999\u001b[0m \u001b[0;34m\u001b[0m\u001b[0m\n\u001b[1;32m   1000\u001b[0m       \u001b[0;31m# invariant: `func_outputs` contains only Tensors, CompositeTensors,\u001b[0m\u001b[0;34m\u001b[0m\u001b[0;34m\u001b[0m\u001b[0;34m\u001b[0m\u001b[0m\n",
            "\u001b[0;32m/usr/local/lib/python3.6/dist-packages/tensorflow/python/eager/def_function.py\u001b[0m in \u001b[0;36mwrapped_fn\u001b[0;34m(*args, **kwds)\u001b[0m\n\u001b[1;32m    584\u001b[0m           \u001b[0;32mtry\u001b[0m\u001b[0;34m:\u001b[0m\u001b[0;34m\u001b[0m\u001b[0;34m\u001b[0m\u001b[0m\n\u001b[1;32m    585\u001b[0m             \u001b[0mxla_context\u001b[0m\u001b[0;34m.\u001b[0m\u001b[0mEnter\u001b[0m\u001b[0;34m(\u001b[0m\u001b[0;34m)\u001b[0m\u001b[0;34m\u001b[0m\u001b[0;34m\u001b[0m\u001b[0m\n\u001b[0;32m--> 586\u001b[0;31m             \u001b[0mout\u001b[0m \u001b[0;34m=\u001b[0m \u001b[0mweak_wrapped_fn\u001b[0m\u001b[0;34m(\u001b[0m\u001b[0;34m)\u001b[0m\u001b[0;34m.\u001b[0m\u001b[0m__wrapped__\u001b[0m\u001b[0;34m(\u001b[0m\u001b[0;34m*\u001b[0m\u001b[0margs\u001b[0m\u001b[0;34m,\u001b[0m \u001b[0;34m**\u001b[0m\u001b[0mkwds\u001b[0m\u001b[0;34m)\u001b[0m\u001b[0;34m\u001b[0m\u001b[0;34m\u001b[0m\u001b[0m\n\u001b[0m\u001b[1;32m    587\u001b[0m           \u001b[0;32mfinally\u001b[0m\u001b[0;34m:\u001b[0m\u001b[0;34m\u001b[0m\u001b[0;34m\u001b[0m\u001b[0m\n\u001b[1;32m    588\u001b[0m             \u001b[0mxla_context\u001b[0m\u001b[0;34m.\u001b[0m\u001b[0mExit\u001b[0m\u001b[0;34m(\u001b[0m\u001b[0;34m)\u001b[0m\u001b[0;34m\u001b[0m\u001b[0;34m\u001b[0m\u001b[0m\n",
            "\u001b[0;32m/usr/local/lib/python3.6/dist-packages/tensorflow/python/framework/func_graph.py\u001b[0m in \u001b[0;36mwrapper\u001b[0;34m(*args, **kwargs)\u001b[0m\n\u001b[1;32m    983\u001b[0m           \u001b[0;32mexcept\u001b[0m \u001b[0mException\u001b[0m \u001b[0;32mas\u001b[0m \u001b[0me\u001b[0m\u001b[0;34m:\u001b[0m  \u001b[0;31m# pylint:disable=broad-except\u001b[0m\u001b[0;34m\u001b[0m\u001b[0;34m\u001b[0m\u001b[0m\n\u001b[1;32m    984\u001b[0m             \u001b[0;32mif\u001b[0m \u001b[0mhasattr\u001b[0m\u001b[0;34m(\u001b[0m\u001b[0me\u001b[0m\u001b[0;34m,\u001b[0m \u001b[0;34m\"ag_error_metadata\"\u001b[0m\u001b[0;34m)\u001b[0m\u001b[0;34m:\u001b[0m\u001b[0;34m\u001b[0m\u001b[0;34m\u001b[0m\u001b[0m\n\u001b[0;32m--> 985\u001b[0;31m               \u001b[0;32mraise\u001b[0m \u001b[0me\u001b[0m\u001b[0;34m.\u001b[0m\u001b[0mag_error_metadata\u001b[0m\u001b[0;34m.\u001b[0m\u001b[0mto_exception\u001b[0m\u001b[0;34m(\u001b[0m\u001b[0me\u001b[0m\u001b[0;34m)\u001b[0m\u001b[0;34m\u001b[0m\u001b[0;34m\u001b[0m\u001b[0m\n\u001b[0m\u001b[1;32m    986\u001b[0m             \u001b[0;32melse\u001b[0m\u001b[0;34m:\u001b[0m\u001b[0;34m\u001b[0m\u001b[0;34m\u001b[0m\u001b[0m\n\u001b[1;32m    987\u001b[0m               \u001b[0;32mraise\u001b[0m\u001b[0;34m\u001b[0m\u001b[0;34m\u001b[0m\u001b[0m\n",
            "\u001b[0;31mTypeError\u001b[0m: in user code:\n\n    <ipython-input-401-75555ce24e93>:15 test  *\n        path[i] = z[i]\n\n    TypeError: list indices must be integers or slices, not Tensor\n"
          ]
        }
      ]
    },
    {
      "cell_type": "code",
      "metadata": {
        "id": "jW8z7YiOXiQn"
      },
      "source": [
        "print(tf.autograph.to_code(test.python_function))"
      ],
      "execution_count": null,
      "outputs": []
    },
    {
      "cell_type": "code",
      "metadata": {
        "id": "m0o9on4dU7bh",
        "outputId": "8a1ec172-3ebf-4e4b-9616-dfe3b4d1741e",
        "colab": {
          "base_uri": "https://localhost:8080/"
        }
      },
      "source": [
        "print(test.pretty_printed_concrete_signatures())"
      ],
      "execution_count": 403,
      "outputs": [
        {
          "output_type": "stream",
          "text": [
            "test(z, number=3)\n",
            "  Args:\n",
            "    z: float64 Tensor, shape=(3, 1)\n",
            "  Returns:\n",
            "    [<1>, <2>, <3>, <4>, <5>, <6>, <7>, <8>]\n",
            "      <1>: float64 Tensor, shape=(1,)\n",
            "      <2>: float64 Tensor, shape=(1,)\n",
            "      <3>: float64 Tensor, shape=(3,)\n",
            "      <4>: float64 Tensor, shape=(3,)\n",
            "      <5>: float64 Tensor, shape=(3,)\n",
            "      <6>: float64 Tensor, shape=(3,)\n",
            "      <7>: float64 Tensor, shape=(3,)\n",
            "      <8>: float64 Tensor, shape=(1,)\n"
          ],
          "name": "stdout"
        }
      ]
    },
    {
      "cell_type": "code",
      "metadata": {
        "id": "w9vaS88N0D96"
      },
      "source": [
        "#@tf.function(jit_compile=True, input_signature=(tf.TensorSpec(shape=(None,None), dtype=tf.float64), \n",
        "#                                                tf.TensorSpec(shape=(), dtype=tf.int32),\n",
        "#                                                tf.TensorSpec(shape=(), dtype=tf.int32),\n",
        "#                                                tf.TensorSpec(shape=(None), dtype=tf.int64),\n",
        "#                                                tf.TensorSpec(shape=(None), dtype=tf.int64),\n",
        "#                                                tf.TensorSpec(shape=(None), dtype=tf.int64),\n",
        "#                                                tf.TensorSpec(shape=(None), dtype=tf.float64),\n",
        "#                                                tf.TensorSpec(shape=(None), dtype=tf.float64),\n",
        "#                                                tf.TensorSpec(shape=(None), dtype=tf.float64)))\n",
        "@tf.function(jit_compile=True)\n",
        "def buildPath(z, number, number_time_steps, left_index_t, right_index_t, bridge_index_t, left_weight, right_weight, std_dev):\n",
        "  print(\"Tracing with\", number)\n",
        "  path = tf.unstack(tf.zeros(shape=(number_time_steps, number),dtype=tf.dtypes.float64))\n",
        "  path[-1] = std_dev[0]*z[0];\n",
        "  j = 0\n",
        "  k = 0\n",
        "  l = 0\n",
        "  i = 0\n",
        "  for i in range(1,number_time_steps):\n",
        "#    print(\"i\")\n",
        "#    print(i)\n",
        "#    x = z[i]\n",
        "#    print(\"x\")\n",
        "#    print(x)\n",
        "    j = left_index[i]\n",
        "    k = right_index[i]\n",
        "    l = bridge_index[i]\n",
        "#    print(\"l\")\n",
        "#    print(l)\n",
        "#    print(\"k\")\n",
        "#    print(k)\n",
        "#    print(\"right_weight\")\n",
        "#    print(right_weight[i])\n",
        "    if j > 0:\n",
        "      path[l] = left_weight[i] * path[j-1] + right_weight[i] * path[k] + self.std_dev[i] * z[i]\n",
        "    else:\n",
        "      path[l] = right_weight[i] * path[k] + std_dev[i] * z[i]\n",
        "\n",
        "  return path"
      ],
      "execution_count": null,
      "outputs": []
    },
    {
      "cell_type": "code",
      "metadata": {
        "id": "75mLhhBtqbuk"
      },
      "source": [
        "samples = 8\n",
        "dim = 128\n",
        "\n",
        "x = tf.math.sobol_sample(dim,samples,dtype=tf.dtypes.float64)\n",
        "z = tf.transpose(tf.math.erf(x))"
      ],
      "execution_count": null,
      "outputs": []
    },
    {
      "cell_type": "code",
      "metadata": {
        "id": "RQNPIH2Rqbyt",
        "outputId": "988ec199-4dd2-47c1-db51-eb4d9dd2e2e4",
        "colab": {
          "base_uri": "https://localhost:8080/",
          "height": 282
        }
      },
      "source": [
        "path = buildPath(z, samples, dim, left_index_t, right_index_t, bridge_index_t, left_weight_t, right_weight_t, std_dev_t)"
      ],
      "execution_count": 268,
      "outputs": [
        {
          "output_type": "error",
          "ename": "TypeError",
          "evalue": "ignored",
          "traceback": [
            "\u001b[0;31m---------------------------------------------------------------------------\u001b[0m",
            "\u001b[0;31mTypeError\u001b[0m                                 Traceback (most recent call last)",
            "\u001b[0;32m<ipython-input-268-5098c024a8ea>\u001b[0m in \u001b[0;36m<module>\u001b[0;34m()\u001b[0m\n\u001b[0;32m----> 1\u001b[0;31m \u001b[0mpath\u001b[0m \u001b[0;34m=\u001b[0m \u001b[0mbuildPath\u001b[0m\u001b[0;34m(\u001b[0m\u001b[0mz\u001b[0m\u001b[0;34m,\u001b[0m \u001b[0msamples\u001b[0m\u001b[0;34m,\u001b[0m \u001b[0mdim\u001b[0m\u001b[0;34m,\u001b[0m \u001b[0mleft_index_t\u001b[0m\u001b[0;34m,\u001b[0m \u001b[0mright_index_t\u001b[0m\u001b[0;34m,\u001b[0m \u001b[0mbridge_index_t\u001b[0m\u001b[0;34m,\u001b[0m \u001b[0mleft_weight_t\u001b[0m\u001b[0;34m,\u001b[0m \u001b[0mright_weight_t\u001b[0m\u001b[0;34m,\u001b[0m \u001b[0mstd_dev_t\u001b[0m\u001b[0;34m)\u001b[0m\u001b[0;34m\u001b[0m\u001b[0;34m\u001b[0m\u001b[0m\n\u001b[0m",
            "\u001b[0;32m<ipython-input-256-a53f96c97038>\u001b[0m in \u001b[0;36mbuildPath\u001b[0;34m(z, number, number_time_steps, left_index, right_index, bridge_index, left_weight, right_weight, std_dev)\u001b[0m\n\u001b[1;32m      2\u001b[0m \u001b[0;32mdef\u001b[0m \u001b[0mbuildPath\u001b[0m\u001b[0;34m(\u001b[0m\u001b[0mz\u001b[0m\u001b[0;34m,\u001b[0m \u001b[0mnumber\u001b[0m\u001b[0;34m:\u001b[0m \u001b[0mint\u001b[0m\u001b[0;34m,\u001b[0m \u001b[0mnumber_time_steps\u001b[0m\u001b[0;34m:\u001b[0m \u001b[0mint\u001b[0m\u001b[0;34m,\u001b[0m \u001b[0mleft_index\u001b[0m\u001b[0;34m,\u001b[0m \u001b[0mright_index\u001b[0m\u001b[0;34m,\u001b[0m \u001b[0mbridge_index\u001b[0m\u001b[0;34m,\u001b[0m \u001b[0mleft_weight\u001b[0m\u001b[0;34m,\u001b[0m \u001b[0mright_weight\u001b[0m\u001b[0;34m,\u001b[0m \u001b[0mstd_dev\u001b[0m\u001b[0;34m)\u001b[0m\u001b[0;34m:\u001b[0m\u001b[0;34m\u001b[0m\u001b[0;34m\u001b[0m\u001b[0m\n\u001b[1;32m      3\u001b[0m   \u001b[0mpath\u001b[0m \u001b[0;34m=\u001b[0m \u001b[0mtorch\u001b[0m\u001b[0;34m.\u001b[0m\u001b[0mzeros\u001b[0m\u001b[0;34m(\u001b[0m\u001b[0msize\u001b[0m\u001b[0;34m=\u001b[0m\u001b[0;34m(\u001b[0m\u001b[0mnumber_time_steps\u001b[0m\u001b[0;34m,\u001b[0m\u001b[0mnumber\u001b[0m\u001b[0;34m)\u001b[0m\u001b[0;34m)\u001b[0m\u001b[0;34m\u001b[0m\u001b[0;34m\u001b[0m\u001b[0m\n\u001b[0;32m----> 4\u001b[0;31m   \u001b[0mpath\u001b[0m\u001b[0;34m[\u001b[0m\u001b[0;34m-\u001b[0m\u001b[0;36m1\u001b[0m\u001b[0;34m]\u001b[0m \u001b[0;34m=\u001b[0m \u001b[0mstd_dev\u001b[0m\u001b[0;34m[\u001b[0m\u001b[0;36m0\u001b[0m\u001b[0;34m]\u001b[0m\u001b[0;34m*\u001b[0m\u001b[0mz\u001b[0m\u001b[0;34m[\u001b[0m\u001b[0;36m0\u001b[0m\u001b[0;34m]\u001b[0m\u001b[0;34m\u001b[0m\u001b[0;34m\u001b[0m\u001b[0m\n\u001b[0m\u001b[1;32m      5\u001b[0m   \u001b[0mj\u001b[0m \u001b[0;34m=\u001b[0m \u001b[0;36m0\u001b[0m\u001b[0;34m\u001b[0m\u001b[0;34m\u001b[0m\u001b[0m\n\u001b[1;32m      6\u001b[0m   \u001b[0mk\u001b[0m \u001b[0;34m=\u001b[0m \u001b[0;36m0\u001b[0m\u001b[0;34m\u001b[0m\u001b[0;34m\u001b[0m\u001b[0m\n",
            "\u001b[0;31mTypeError\u001b[0m: can't assign a tensorflow.python.framework.ops.EagerTensor to a torch.FloatTensor"
          ]
        }
      ]
    },
    {
      "cell_type": "code",
      "metadata": {
        "id": "i2aq8zSdT0xK"
      },
      "source": [
        "print(buildPath.pretty_printed_concrete_signatures())"
      ],
      "execution_count": null,
      "outputs": []
    },
    {
      "cell_type": "code",
      "metadata": {
        "colab": {
          "base_uri": "https://localhost:8080/",
          "height": 163
        },
        "id": "nxJXwrh-rf5Z",
        "outputId": "1c0fe1da-e092-4c26-ba4d-fbc2794571ad"
      },
      "source": [
        "print(tf.autograph.to_code(buildPath.python_function))"
      ],
      "execution_count": 269,
      "outputs": [
        {
          "output_type": "error",
          "ename": "AttributeError",
          "evalue": "ignored",
          "traceback": [
            "\u001b[0;31m---------------------------------------------------------------------------\u001b[0m",
            "\u001b[0;31mAttributeError\u001b[0m                            Traceback (most recent call last)",
            "\u001b[0;32m<ipython-input-269-6c574ebe673b>\u001b[0m in \u001b[0;36m<module>\u001b[0;34m()\u001b[0m\n\u001b[0;32m----> 1\u001b[0;31m \u001b[0mprint\u001b[0m\u001b[0;34m(\u001b[0m\u001b[0mtf\u001b[0m\u001b[0;34m.\u001b[0m\u001b[0mautograph\u001b[0m\u001b[0;34m.\u001b[0m\u001b[0mto_code\u001b[0m\u001b[0;34m(\u001b[0m\u001b[0mbuildPath\u001b[0m\u001b[0;34m.\u001b[0m\u001b[0mpython_function\u001b[0m\u001b[0;34m)\u001b[0m\u001b[0;34m)\u001b[0m\u001b[0;34m\u001b[0m\u001b[0;34m\u001b[0m\u001b[0m\n\u001b[0m",
            "\u001b[0;31mAttributeError\u001b[0m: 'function' object has no attribute 'python_function'"
          ]
        }
      ]
    },
    {
      "cell_type": "code",
      "metadata": {
        "id": "1HSBxiFxi6K6"
      },
      "source": [
        "bridge = BrownianBridge(2)"
      ],
      "execution_count": 270,
      "outputs": []
    },
    {
      "cell_type": "code",
      "metadata": {
        "colab": {
          "base_uri": "https://localhost:8080/"
        },
        "id": "eoeT5eJZy1_7",
        "outputId": "03d63224-3449-4148-e162-5a9af9e17ce0"
      },
      "source": [
        "#@title Pricing time a CPU. Note TensorFlow does automatic multithreading.\n",
        "dim =  256#@param {type:\"integer\"}\n",
        "number =  200000#@param {type:\"integer\"}\n",
        "\n",
        "# First run (includes graph optimization time)\n",
        "time_start = time.time()\n",
        "with tf.device(\"/cpu:0\"):\n",
        "    x = tf.math.sobol_sample(dim,number,dtype=tf.dtypes.float32)\n",
        "    z = tf.transpose(tf.math.erf(x))\n",
        "    #w = buildPath(z, number, dim, left_index, right_index, bridge_index, left_weight, right_weight, std_dev)\n",
        "time_end = time.time()\n",
        "time_price_cpu = time_end - time_start\n",
        "print(\"First time on a CPU: \", time_price_cpu)\n",
        "\n",
        "# Second run (excludes graph optimization time)\n",
        "time_start = time.time()\n",
        "with tf.device(\"/cpu:0\"):\n",
        "    x = tf.math.sobol_sample(dim,number,dtype=tf.dtypes.float64)\n",
        "    z = tf.transpose(tf.math.erf(x))\n",
        "    #w = buildPath(z, number, dim, left_index, right_index, bridge_index, left_weight, right_weight, std_dev)\n",
        "    #print(w[2])\n",
        "time_end = time.time()\n",
        "\n",
        "print(w)\n",
        "\n",
        "time_price_cpu = time_end - time_start\n",
        "print(\"Second time on a CPU: \", time_price_cpu)"
      ],
      "execution_count": 324,
      "outputs": [
        {
          "output_type": "stream",
          "text": [
            "First time on a CPU:  0.40128326416015625\n",
            "[<tf.Tensor: shape=(200000,), dtype=float64, numpy=array([0., 0., 0., ..., 0., 0., 0.])>, <tf.Tensor: shape=(200000,), dtype=float64, numpy=array([0., 0., 0., ..., 0., 0., 0.])>, <tf.Tensor: shape=(200000,), dtype=float64, numpy=array([0., 0., 0., ..., 0., 0., 0.])>, <tf.Tensor: shape=(200000,), dtype=float64, numpy=array([0., 0., 0., ..., 0., 0., 0.])>, <tf.Tensor: shape=(200000,), dtype=float64, numpy=array([0., 0., 0., ..., 0., 0., 0.])>, <tf.Tensor: shape=(200000,), dtype=float64, numpy=array([0., 0., 0., ..., 0., 0., 0.])>, <tf.Tensor: shape=(200000,), dtype=float64, numpy=array([0., 0., 0., ..., 0., 0., 0.])>, <tf.Tensor: shape=(200000,), dtype=float64, numpy=array([0., 0., 0., ..., 0., 0., 0.])>, <tf.Tensor: shape=(200000,), dtype=float64, numpy=array([0., 0., 0., ..., 0., 0., 0.])>, <tf.Tensor: shape=(200000,), dtype=float64, numpy=array([0., 0., 0., ..., 0., 0., 0.])>, <tf.Tensor: shape=(200000,), dtype=float64, numpy=array([0., 0., 0., ..., 0., 0., 0.])>, <tf.Tensor: shape=(200000,), dtype=float64, numpy=array([0., 0., 0., ..., 0., 0., 0.])>, <tf.Tensor: shape=(200000,), dtype=float64, numpy=array([0., 0., 0., ..., 0., 0., 0.])>, <tf.Tensor: shape=(200000,), dtype=float64, numpy=array([0., 0., 0., ..., 0., 0., 0.])>, <tf.Tensor: shape=(200000,), dtype=float64, numpy=array([0., 0., 0., ..., 0., 0., 0.])>, <tf.Tensor: shape=(200000,), dtype=float64, numpy=array([0., 0., 0., ..., 0., 0., 0.])>, <tf.Tensor: shape=(200000,), dtype=float64, numpy=array([0., 0., 0., ..., 0., 0., 0.])>, <tf.Tensor: shape=(200000,), dtype=float64, numpy=array([0., 0., 0., ..., 0., 0., 0.])>, <tf.Tensor: shape=(200000,), dtype=float64, numpy=array([0., 0., 0., ..., 0., 0., 0.])>, <tf.Tensor: shape=(200000,), dtype=float64, numpy=array([0., 0., 0., ..., 0., 0., 0.])>, <tf.Tensor: shape=(200000,), dtype=float64, numpy=array([0., 0., 0., ..., 0., 0., 0.])>, <tf.Tensor: shape=(200000,), dtype=float64, numpy=array([0., 0., 0., ..., 0., 0., 0.])>, <tf.Tensor: shape=(200000,), dtype=float64, numpy=array([0., 0., 0., ..., 0., 0., 0.])>, <tf.Tensor: shape=(200000,), dtype=float64, numpy=array([0., 0., 0., ..., 0., 0., 0.])>, <tf.Tensor: shape=(200000,), dtype=float64, numpy=array([0., 0., 0., ..., 0., 0., 0.])>, <tf.Tensor: shape=(200000,), dtype=float64, numpy=array([0., 0., 0., ..., 0., 0., 0.])>, <tf.Tensor: shape=(200000,), dtype=float64, numpy=array([0., 0., 0., ..., 0., 0., 0.])>, <tf.Tensor: shape=(200000,), dtype=float64, numpy=array([0., 0., 0., ..., 0., 0., 0.])>, <tf.Tensor: shape=(200000,), dtype=float64, numpy=array([0., 0., 0., ..., 0., 0., 0.])>, <tf.Tensor: shape=(200000,), dtype=float64, numpy=array([0., 0., 0., ..., 0., 0., 0.])>, <tf.Tensor: shape=(200000,), dtype=float64, numpy=array([0., 0., 0., ..., 0., 0., 0.])>, <tf.Tensor: shape=(200000,), dtype=float64, numpy=array([0., 0., 0., ..., 0., 0., 0.])>, <tf.Tensor: shape=(200000,), dtype=float64, numpy=array([0., 0., 0., ..., 0., 0., 0.])>, <tf.Tensor: shape=(200000,), dtype=float64, numpy=array([0., 0., 0., ..., 0., 0., 0.])>, <tf.Tensor: shape=(200000,), dtype=float64, numpy=array([0., 0., 0., ..., 0., 0., 0.])>, <tf.Tensor: shape=(200000,), dtype=float64, numpy=array([0., 0., 0., ..., 0., 0., 0.])>, <tf.Tensor: shape=(200000,), dtype=float64, numpy=array([0., 0., 0., ..., 0., 0., 0.])>, <tf.Tensor: shape=(200000,), dtype=float64, numpy=array([0., 0., 0., ..., 0., 0., 0.])>, <tf.Tensor: shape=(200000,), dtype=float64, numpy=array([0., 0., 0., ..., 0., 0., 0.])>, <tf.Tensor: shape=(200000,), dtype=float64, numpy=array([0., 0., 0., ..., 0., 0., 0.])>, <tf.Tensor: shape=(200000,), dtype=float64, numpy=array([0., 0., 0., ..., 0., 0., 0.])>, <tf.Tensor: shape=(200000,), dtype=float64, numpy=array([0., 0., 0., ..., 0., 0., 0.])>, <tf.Tensor: shape=(200000,), dtype=float64, numpy=array([0., 0., 0., ..., 0., 0., 0.])>, <tf.Tensor: shape=(200000,), dtype=float64, numpy=array([0., 0., 0., ..., 0., 0., 0.])>, <tf.Tensor: shape=(200000,), dtype=float64, numpy=array([0., 0., 0., ..., 0., 0., 0.])>, <tf.Tensor: shape=(200000,), dtype=float64, numpy=array([0., 0., 0., ..., 0., 0., 0.])>, <tf.Tensor: shape=(200000,), dtype=float64, numpy=array([0., 0., 0., ..., 0., 0., 0.])>, <tf.Tensor: shape=(200000,), dtype=float64, numpy=array([0., 0., 0., ..., 0., 0., 0.])>, <tf.Tensor: shape=(200000,), dtype=float64, numpy=array([0., 0., 0., ..., 0., 0., 0.])>, <tf.Tensor: shape=(200000,), dtype=float64, numpy=array([0., 0., 0., ..., 0., 0., 0.])>, <tf.Tensor: shape=(200000,), dtype=float64, numpy=array([0., 0., 0., ..., 0., 0., 0.])>, <tf.Tensor: shape=(200000,), dtype=float64, numpy=array([0., 0., 0., ..., 0., 0., 0.])>, <tf.Tensor: shape=(200000,), dtype=float64, numpy=array([0., 0., 0., ..., 0., 0., 0.])>, <tf.Tensor: shape=(200000,), dtype=float64, numpy=array([0., 0., 0., ..., 0., 0., 0.])>, <tf.Tensor: shape=(200000,), dtype=float64, numpy=array([0., 0., 0., ..., 0., 0., 0.])>, <tf.Tensor: shape=(200000,), dtype=float64, numpy=array([0., 0., 0., ..., 0., 0., 0.])>, <tf.Tensor: shape=(200000,), dtype=float64, numpy=array([0., 0., 0., ..., 0., 0., 0.])>, <tf.Tensor: shape=(200000,), dtype=float64, numpy=array([0., 0., 0., ..., 0., 0., 0.])>, <tf.Tensor: shape=(200000,), dtype=float64, numpy=array([0., 0., 0., ..., 0., 0., 0.])>, <tf.Tensor: shape=(200000,), dtype=float64, numpy=array([0., 0., 0., ..., 0., 0., 0.])>, <tf.Tensor: shape=(200000,), dtype=float64, numpy=array([0., 0., 0., ..., 0., 0., 0.])>, <tf.Tensor: shape=(200000,), dtype=float64, numpy=array([0., 0., 0., ..., 0., 0., 0.])>, <tf.Tensor: shape=(200000,), dtype=float64, numpy=array([0., 0., 0., ..., 0., 0., 0.])>, <tf.Tensor: shape=(200000,), dtype=float64, numpy=\n",
            "array([5.88878389, 5.58604188, 5.58604188, ..., 5.44770945, 4.63641751,\n",
            "       0.86339304])>, <tf.Tensor: shape=(200000,), dtype=float64, numpy=array([0., 0., 0., ..., 0., 0., 0.])>, <tf.Tensor: shape=(200000,), dtype=float64, numpy=array([0., 0., 0., ..., 0., 0., 0.])>, <tf.Tensor: shape=(200000,), dtype=float64, numpy=array([0., 0., 0., ..., 0., 0., 0.])>, <tf.Tensor: shape=(200000,), dtype=float64, numpy=array([0., 0., 0., ..., 0., 0., 0.])>, <tf.Tensor: shape=(200000,), dtype=float64, numpy=array([0., 0., 0., ..., 0., 0., 0.])>, <tf.Tensor: shape=(200000,), dtype=float64, numpy=array([0., 0., 0., ..., 0., 0., 0.])>, <tf.Tensor: shape=(200000,), dtype=float64, numpy=array([0., 0., 0., ..., 0., 0., 0.])>, <tf.Tensor: shape=(200000,), dtype=float64, numpy=array([0., 0., 0., ..., 0., 0., 0.])>, <tf.Tensor: shape=(200000,), dtype=float64, numpy=array([0., 0., 0., ..., 0., 0., 0.])>, <tf.Tensor: shape=(200000,), dtype=float64, numpy=array([0., 0., 0., ..., 0., 0., 0.])>, <tf.Tensor: shape=(200000,), dtype=float64, numpy=array([0., 0., 0., ..., 0., 0., 0.])>, <tf.Tensor: shape=(200000,), dtype=float64, numpy=array([0., 0., 0., ..., 0., 0., 0.])>, <tf.Tensor: shape=(200000,), dtype=float64, numpy=array([0., 0., 0., ..., 0., 0., 0.])>, <tf.Tensor: shape=(200000,), dtype=float64, numpy=array([0., 0., 0., ..., 0., 0., 0.])>, <tf.Tensor: shape=(200000,), dtype=float64, numpy=array([0., 0., 0., ..., 0., 0., 0.])>, <tf.Tensor: shape=(200000,), dtype=float64, numpy=array([0., 0., 0., ..., 0., 0., 0.])>, <tf.Tensor: shape=(200000,), dtype=float64, numpy=array([0., 0., 0., ..., 0., 0., 0.])>, <tf.Tensor: shape=(200000,), dtype=float64, numpy=array([0., 0., 0., ..., 0., 0., 0.])>, <tf.Tensor: shape=(200000,), dtype=float64, numpy=array([0., 0., 0., ..., 0., 0., 0.])>, <tf.Tensor: shape=(200000,), dtype=float64, numpy=array([0., 0., 0., ..., 0., 0., 0.])>, <tf.Tensor: shape=(200000,), dtype=float64, numpy=array([0., 0., 0., ..., 0., 0., 0.])>, <tf.Tensor: shape=(200000,), dtype=float64, numpy=array([0., 0., 0., ..., 0., 0., 0.])>, <tf.Tensor: shape=(200000,), dtype=float64, numpy=array([0., 0., 0., ..., 0., 0., 0.])>, <tf.Tensor: shape=(200000,), dtype=float64, numpy=array([0., 0., 0., ..., 0., 0., 0.])>, <tf.Tensor: shape=(200000,), dtype=float64, numpy=array([0., 0., 0., ..., 0., 0., 0.])>, <tf.Tensor: shape=(200000,), dtype=float64, numpy=array([0., 0., 0., ..., 0., 0., 0.])>, <tf.Tensor: shape=(200000,), dtype=float64, numpy=array([0., 0., 0., ..., 0., 0., 0.])>, <tf.Tensor: shape=(200000,), dtype=float64, numpy=array([0., 0., 0., ..., 0., 0., 0.])>, <tf.Tensor: shape=(200000,), dtype=float64, numpy=array([0., 0., 0., ..., 0., 0., 0.])>, <tf.Tensor: shape=(200000,), dtype=float64, numpy=array([0., 0., 0., ..., 0., 0., 0.])>, <tf.Tensor: shape=(200000,), dtype=float64, numpy=array([0., 0., 0., ..., 0., 0., 0.])>, <tf.Tensor: shape=(200000,), dtype=float64, numpy=array([0., 0., 0., ..., 0., 0., 0.])>, <tf.Tensor: shape=(200000,), dtype=float64, numpy=array([0., 0., 0., ..., 0., 0., 0.])>, <tf.Tensor: shape=(200000,), dtype=float64, numpy=array([0., 0., 0., ..., 0., 0., 0.])>, <tf.Tensor: shape=(200000,), dtype=float64, numpy=array([0., 0., 0., ..., 0., 0., 0.])>, <tf.Tensor: shape=(200000,), dtype=float64, numpy=array([0., 0., 0., ..., 0., 0., 0.])>, <tf.Tensor: shape=(200000,), dtype=float64, numpy=array([0., 0., 0., ..., 0., 0., 0.])>, <tf.Tensor: shape=(200000,), dtype=float64, numpy=array([0., 0., 0., ..., 0., 0., 0.])>, <tf.Tensor: shape=(200000,), dtype=float64, numpy=array([0., 0., 0., ..., 0., 0., 0.])>, <tf.Tensor: shape=(200000,), dtype=float64, numpy=array([0., 0., 0., ..., 0., 0., 0.])>, <tf.Tensor: shape=(200000,), dtype=float64, numpy=array([0., 0., 0., ..., 0., 0., 0.])>, <tf.Tensor: shape=(200000,), dtype=float64, numpy=array([0., 0., 0., ..., 0., 0., 0.])>, <tf.Tensor: shape=(200000,), dtype=float64, numpy=array([0., 0., 0., ..., 0., 0., 0.])>, <tf.Tensor: shape=(200000,), dtype=float64, numpy=array([0., 0., 0., ..., 0., 0., 0.])>, <tf.Tensor: shape=(200000,), dtype=float64, numpy=array([0., 0., 0., ..., 0., 0., 0.])>, <tf.Tensor: shape=(200000,), dtype=float64, numpy=array([0., 0., 0., ..., 0., 0., 0.])>, <tf.Tensor: shape=(200000,), dtype=float64, numpy=array([0., 0., 0., ..., 0., 0., 0.])>, <tf.Tensor: shape=(200000,), dtype=float64, numpy=array([0., 0., 0., ..., 0., 0., 0.])>, <tf.Tensor: shape=(200000,), dtype=float64, numpy=array([0., 0., 0., ..., 0., 0., 0.])>, <tf.Tensor: shape=(200000,), dtype=float64, numpy=array([0., 0., 0., ..., 0., 0., 0.])>, <tf.Tensor: shape=(200000,), dtype=float64, numpy=array([0., 0., 0., ..., 0., 0., 0.])>, <tf.Tensor: shape=(200000,), dtype=float64, numpy=array([0., 0., 0., ..., 0., 0., 0.])>, <tf.Tensor: shape=(200000,), dtype=float64, numpy=array([0., 0., 0., ..., 0., 0., 0.])>, <tf.Tensor: shape=(200000,), dtype=float64, numpy=array([0., 0., 0., ..., 0., 0., 0.])>, <tf.Tensor: shape=(200000,), dtype=float64, numpy=array([0., 0., 0., ..., 0., 0., 0.])>, <tf.Tensor: shape=(200000,), dtype=float64, numpy=array([0., 0., 0., ..., 0., 0., 0.])>, <tf.Tensor: shape=(200000,), dtype=float64, numpy=array([0., 0., 0., ..., 0., 0., 0.])>, <tf.Tensor: shape=(200000,), dtype=float64, numpy=array([0., 0., 0., ..., 0., 0., 0.])>, <tf.Tensor: shape=(200000,), dtype=float64, numpy=array([0., 0., 0., ..., 0., 0., 0.])>, <tf.Tensor: shape=(200000,), dtype=float64, numpy=array([0., 0., 0., ..., 0., 0., 0.])>, <tf.Tensor: shape=(200000,), dtype=float64, numpy=array([0., 0., 0., ..., 0., 0., 0.])>, <tf.Tensor: shape=(200000,), dtype=float64, numpy=array([0., 0., 0., ..., 0., 0., 0.])>, <tf.Tensor: shape=(200000,), dtype=float64, numpy=array([0., 0., 0., ..., 0., 0., 0.])>, <tf.Tensor: shape=(200000,), dtype=float64, numpy=\n",
            "array([5.88878389, 8.04580754, 3.12627623, ..., 6.11212807, 0.29005007,\n",
            "       0.38971443])>]\n",
            "Second time on a CPU:  0.793459415435791\n"
          ],
          "name": "stdout"
        }
      ]
    },
    {
      "cell_type": "code",
      "metadata": {
        "id": "QcYugfF3oOFL"
      },
      "source": [
        "import torch"
      ],
      "execution_count": 273,
      "outputs": []
    },
    {
      "cell_type": "code",
      "metadata": {
        "colab": {
          "base_uri": "https://localhost:8080/"
        },
        "id": "8Bc4d6eQolhK",
        "outputId": "5060a8d2-8483-45bf-9ef1-3f40a9789dff"
      },
      "source": [
        "@torch.jit.script\n",
        "def foo(x, number: int):\n",
        "  print(number)\n",
        "  z = 0.\n",
        "  for i in range(0,number):\n",
        "    tmp = x[i]\n",
        "    z = z + tmp\n",
        "\n",
        "# See the compiled graph as Python code\n",
        "print(foo.code)"
      ],
      "execution_count": 274,
      "outputs": [
        {
          "output_type": "stream",
          "text": [
            "def foo(x: Tensor,\n",
            "    number: int) -> None:\n",
            "  print(number)\n",
            "  z = 0.\n",
            "  for _0 in range(torch.__range_length(0, number, 1)):\n",
            "    i = torch.__derive_index(_0, 0, 1)\n",
            "    tmp = torch.select(x, 0, i)\n",
            "    z0 = torch.add(tmp, z, 1)\n",
            "    z = annotate(float, z0)\n",
            "  return None\n",
            "\n"
          ],
          "name": "stdout"
        }
      ]
    },
    {
      "cell_type": "code",
      "metadata": {
        "colab": {
          "base_uri": "https://localhost:8080/"
        },
        "id": "CvN8Ry6xonuh",
        "outputId": "6d7d4ccf-04c1-451b-ec07-0de31753b374"
      },
      "source": [
        "# Call the function using the TorchScript interpreter\n",
        "x = torch.zeros(11)\n",
        "\n",
        "foo(x, 10)"
      ],
      "execution_count": 275,
      "outputs": [
        {
          "output_type": "stream",
          "text": [
            "10\n"
          ],
          "name": "stdout"
        }
      ]
    },
    {
      "cell_type": "code",
      "metadata": {
        "id": "7TalyTCgxu2-"
      },
      "source": [
        "@torch.jit.script\n",
        "def buildPath(path, z, number: int, number_time_steps: int, left_index, right_index, bridge_index, left_weight, right_weight, std_dev):\n",
        "  path[-1] = std_dev[0]*z[0]\n",
        "  j = 0\n",
        "  k = 0\n",
        "  l = 0\n",
        "  i = 0\n",
        "  for i in range(1,number_time_steps):\n",
        "    j = left_index[i]\n",
        "    k = right_index[i]\n",
        "    l = bridge_index[i]\n",
        "    lw = left_weight[i]\n",
        "    rw = right_weight[i]\n",
        "    sd = std_dev[i]\n",
        "    #print(lw)\n",
        "    if j > 0:\n",
        "      path[l] = path[j-1] * lw + path[k] * rw + z[i] * sd\n",
        "    else:\n",
        "      path[l] = right_weight[i] * path[k] + std_dev[i] * z[i]\n",
        "\n",
        "  return path"
      ],
      "execution_count": 618,
      "outputs": []
    },
    {
      "cell_type": "code",
      "metadata": {
        "id": "U6i7MpGnAQyu"
      },
      "source": [
        "#scripted_func = torch.jit.script(buildPath)"
      ],
      "execution_count": 619,
      "outputs": []
    },
    {
      "cell_type": "code",
      "metadata": {
        "colab": {
          "base_uri": "https://localhost:8080/"
        },
        "id": "k_E0ft6S0LAP",
        "outputId": "3c20d6e4-da36-4fb1-bc90-e5de6dd4bc77"
      },
      "source": [
        "print(buildPath.code)"
      ],
      "execution_count": 620,
      "outputs": [
        {
          "output_type": "stream",
          "text": [
            "def buildPath(path: Tensor,\n",
            "    z: Tensor,\n",
            "    number: int,\n",
            "    number_time_steps: int,\n",
            "    left_index: Tensor,\n",
            "    right_index: Tensor,\n",
            "    bridge_index: Tensor,\n",
            "    left_weight: Tensor,\n",
            "    right_weight: Tensor,\n",
            "    std_dev: Tensor) -> Tensor:\n",
            "  _0 = torch.mul(torch.select(std_dev, 0, 0), torch.select(z, 0, 0))\n",
            "  _1 = torch.copy_(torch.select(path, 0, -1), _0, False)\n",
            "  _2 = torch.__range_length(1, number_time_steps, 1)\n",
            "  for _3 in range(_2):\n",
            "    i = torch.__derive_index(_3, 1, 1)\n",
            "    j = torch.select(left_index, 0, i)\n",
            "    _4 = annotate(int, j)\n",
            "    k = torch.select(right_index, 0, i)\n",
            "    _5 = annotate(int, k)\n",
            "    l = torch.select(bridge_index, 0, i)\n",
            "    _6 = annotate(int, l)\n",
            "    lw = torch.select(left_weight, 0, i)\n",
            "    rw = torch.select(right_weight, 0, i)\n",
            "    sd = torch.select(std_dev, 0, i)\n",
            "    if torch.gt(_4, 0):\n",
            "      _7 = torch.select(path, 0, torch.sub(_4, 1))\n",
            "      _8 = torch.mul(_7, lw)\n",
            "      _9 = torch.mul(torch.select(path, 0, _5), rw)\n",
            "      _10 = torch.add(_8, _9, alpha=1)\n",
            "      _11 = torch.mul(torch.select(z, 0, i), sd)\n",
            "      _12 = torch.add(_10, _11, alpha=1)\n",
            "      _13 = torch.copy_(torch.select(path, 0, _6), _12, False)\n",
            "    else:\n",
            "      _14 = torch.mul(torch.select(right_weight, 0, i), torch.select(path, 0, _5))\n",
            "      _15 = torch.mul(torch.select(std_dev, 0, i), torch.select(z, 0, i))\n",
            "      _16 = torch.add(_14, _15, alpha=1)\n",
            "      _17 = torch.copy_(torch.select(path, 0, _6), _16, False)\n",
            "  return path\n",
            "\n"
          ],
          "name": "stdout"
        }
      ]
    },
    {
      "cell_type": "code",
      "metadata": {
        "id": "obp2iCjM1U5J"
      },
      "source": [
        "path = torch.zeros(size=(256,2))\n",
        "\n",
        "x = torch.randn(256,2)\n",
        "\n",
        "left_index_t = torch.tensor(left_index)\n",
        "right_index_t = torch.tensor(right_index)\n",
        "bridge_index_t = torch.tensor(bridge_index)\n",
        "left_weight_t = torch.tensor(left_weight)\n",
        "right_weight_t = torch.tensor(right_weight)\n",
        "std_dev_t = torch.tensor(std_dev)\n",
        "\n",
        "path = buildPath(path, x, 2, 256, left_index_t, right_index_t, bridge_index_t, left_weight_t, right_weight_t, std_dev_t)"
      ],
      "execution_count": 621,
      "outputs": []
    },
    {
      "cell_type": "code",
      "metadata": {
        "id": "BQrZ7URfAiwd",
        "outputId": "e748b51c-3fd7-44e1-e554-edfbacd696d4",
        "colab": {
          "base_uri": "https://localhost:8080/"
        }
      },
      "source": [
        "scripted_func.graph_for(path, x, 2, 256, left_index_t, right_index_t, bridge_index_t, left_weight_t, right_weight_t, std_dev_t)"
      ],
      "execution_count": 622,
      "outputs": [
        {
          "output_type": "execute_result",
          "data": {
            "text/plain": [
              "graph(%path.1 : Tensor,\n",
              "      %z.1 : Tensor,\n",
              "      %number : int,\n",
              "      %number_time_steps.1 : int,\n",
              "      %left_index.1 : Tensor,\n",
              "      %right_index.1 : Tensor,\n",
              "      %bridge_index.1 : Tensor,\n",
              "      %left_weight.1 : Tensor,\n",
              "      %right_weight.1 : Tensor,\n",
              "      %std_dev.1 : Tensor):\n",
              "  %14 : int = prim::Constant[value=1]() # <ipython-input-433-652dbf0dca88>:3:8\n",
              "  %j.1 : int = prim::Constant[value=0]() # <ipython-input-433-652dbf0dca88>:3:21\n",
              "  %12 : int = prim::Constant[value=-1]() # <ipython-input-433-652dbf0dca88>:3:7\n",
              "  %11 : bool = prim::Constant[value=0]()\n",
              "  %10 : bool = prim::Constant[value=1]() # <ipython-input-433-652dbf0dca88>:8:2\n",
              "  %15 : Tensor = aten::select(%std_dev.1, %j.1, %j.1) # <ipython-input-433-652dbf0dca88>:3:13\n",
              "  %16 : Tensor = aten::select(%z.1, %j.1, %j.1) # <ipython-input-433-652dbf0dca88>:3:24\n",
              "  %19 : Tensor = aten::mul(%15, %16) # <ipython-input-433-652dbf0dca88>:3:13\n",
              "  %20 : Tensor = aten::select(%path.1, %j.1, %12) # <ipython-input-433-652dbf0dca88>:3:2\n",
              "  %22 : Tensor = aten::copy_(%20, %19, %11) # <ipython-input-433-652dbf0dca88>:3:2\n",
              "  %23 : int = aten::__range_length(%14, %number_time_steps.1, %14) # <ipython-input-433-652dbf0dca88>:8:2\n",
              "   = prim::Loop(%23, %10) # <ipython-input-433-652dbf0dca88>:8:2\n",
              "    block0(%24 : int):\n",
              "      %i.1 : int = aten::__derive_index(%24, %14, %14) # <ipython-input-433-652dbf0dca88>:8:2\n",
              "      %j.2 : Tensor = aten::select(%left_index.1, %j.1, %i.1) # <ipython-input-433-652dbf0dca88>:9:8\n",
              "      %27 : int = aten::IntImplicit(%j.2) # <ipython-input-433-652dbf0dca88>:9:4\n",
              "      %k.1 : Tensor = aten::select(%right_index.1, %j.1, %i.1) # <ipython-input-433-652dbf0dca88>:10:8\n",
              "      %29 : int = aten::IntImplicit(%k.1) # <ipython-input-433-652dbf0dca88>:10:4\n",
              "      %l.1 : Tensor = aten::select(%bridge_index.1, %j.1, %i.1) # <ipython-input-433-652dbf0dca88>:11:8\n",
              "      %31 : int = aten::IntImplicit(%l.1) # <ipython-input-433-652dbf0dca88>:11:4\n",
              "      %32 : bool = aten::gt(%27, %j.1) # <ipython-input-433-652dbf0dca88>:12:7\n",
              "       = prim::If(%32) # <ipython-input-433-652dbf0dca88>:12:4\n",
              "        block0():\n",
              "          %33 : int = aten::sub(%27, %14) # <ipython-input-433-652dbf0dca88>:13:21\n",
              "          %34 : Tensor = aten::select(%path.1, %j.1, %33) # <ipython-input-433-652dbf0dca88>:13:16\n",
              "          %35 : Tensor = aten::select(%left_weight.1, %j.1, %i.1) # <ipython-input-433-652dbf0dca88>:13:28\n",
              "          %38 : Tensor = aten::mul(%34, %35) # <ipython-input-433-652dbf0dca88>:13:16\n",
              "          %39 : Tensor = aten::select(%path.1, %j.1, %29) # <ipython-input-433-652dbf0dca88>:13:45\n",
              "          %40 : Tensor = aten::select(%right_weight.1, %j.1, %i.1) # <ipython-input-433-652dbf0dca88>:13:55\n",
              "          %43 : Tensor = aten::mul(%39, %40) # <ipython-input-433-652dbf0dca88>:13:45\n",
              "          %46 : Tensor = aten::add(%38, %43, %14) # <ipython-input-433-652dbf0dca88>:13:16\n",
              "          %47 : Tensor = aten::select(%z.1, %j.1, %i.1) # <ipython-input-433-652dbf0dca88>:13:73\n",
              "          %48 : Tensor = aten::select(%std_dev.1, %j.1, %i.1) # <ipython-input-433-652dbf0dca88>:13:80\n",
              "          %51 : Tensor = aten::mul(%47, %48) # <ipython-input-433-652dbf0dca88>:13:73\n",
              "          %54 : Tensor = aten::add(%46, %51, %14) # <ipython-input-433-652dbf0dca88>:13:16\n",
              "          %55 : Tensor = aten::select(%path.1, %j.1, %31) # <ipython-input-433-652dbf0dca88>:13:6\n",
              "          %57 : Tensor = aten::copy_(%55, %54, %11) # <ipython-input-433-652dbf0dca88>:13:6\n",
              "          -> ()\n",
              "        block1():\n",
              "          %58 : Tensor = aten::select(%right_weight.1, %j.1, %i.1) # <ipython-input-433-652dbf0dca88>:15:16\n",
              "          %59 : Tensor = aten::select(%path.1, %j.1, %29) # <ipython-input-433-652dbf0dca88>:15:34\n",
              "          %62 : Tensor = aten::mul(%58, %59) # <ipython-input-433-652dbf0dca88>:15:16\n",
              "          %63 : Tensor = aten::select(%std_dev.1, %j.1, %i.1) # <ipython-input-433-652dbf0dca88>:15:44\n",
              "          %64 : Tensor = aten::select(%z.1, %j.1, %i.1) # <ipython-input-433-652dbf0dca88>:15:57\n",
              "          %67 : Tensor = aten::mul(%63, %64) # <ipython-input-433-652dbf0dca88>:15:44\n",
              "          %70 : Tensor = aten::add(%62, %67, %14) # <ipython-input-433-652dbf0dca88>:15:16\n",
              "          %71 : Tensor = aten::select(%path.1, %j.1, %31) # <ipython-input-433-652dbf0dca88>:15:6\n",
              "          %73 : Tensor = aten::copy_(%71, %70, %11) # <ipython-input-433-652dbf0dca88>:15:6\n",
              "          -> ()\n",
              "      -> (%10)\n",
              "  return (%path.1)"
            ]
          },
          "metadata": {
            "tags": []
          },
          "execution_count": 622
        }
      ]
    },
    {
      "cell_type": "code",
      "metadata": {
        "id": "Fz90zI3_MI-a",
        "outputId": "083cfba4-052d-4223-ff2e-2b9e65fb14ec",
        "colab": {
          "base_uri": "https://localhost:8080/"
        }
      },
      "source": [
        "sobol_engine =  torch.quasirandom.SobolEngine(2)\n",
        "sobol_engine.draw(3)"
      ],
      "execution_count": 623,
      "outputs": [
        {
          "output_type": "execute_result",
          "data": {
            "text/plain": [
              "tensor([[0.5000, 0.5000],\n",
              "        [0.7500, 0.2500],\n",
              "        [0.2500, 0.7500]])"
            ]
          },
          "metadata": {
            "tags": []
          },
          "execution_count": 623
        }
      ]
    },
    {
      "cell_type": "code",
      "metadata": {
        "id": "ukSIkflR22TV"
      },
      "source": [
        "import time"
      ],
      "execution_count": 624,
      "outputs": []
    },
    {
      "cell_type": "code",
      "metadata": {
        "colab": {
          "base_uri": "https://localhost:8080/"
        },
        "id": "WK93y-p61zkv",
        "outputId": "dc15be57-3681-4c5c-8ef2-54787bb87607"
      },
      "source": [
        "#@title Pricing time a CPU. Note TensorFlow does automatic multithreading.\n",
        "dim =  256#@param {type:\"integer\"}\n",
        "number =  200000#@param {type:\"integer\"}\n",
        "\n",
        "path = torch.zeros(size=(dim,number))\n",
        "\n",
        "sobol_engine =  torch.quasirandom.SobolEngine(dim)\n",
        "\n",
        "# First run (includes graph optimization time)\n",
        "time_start = time.time()\n",
        "x = sobol_engine.draw(number)\n",
        "y = torch.transpose(torch.erf(x),0,1)\n",
        "#path = buildPath(path, y, number, dim, left_index_t, right_index_t, bridge_index_t, left_weight_t, right_weight_t, std_dev_t)\n",
        "time_end = time.time()\n",
        "time_price_cpu = time_end - time_start\n",
        "print(\"First time on a CPU: \", time_price_cpu)\n",
        "\n",
        "# Second run (excludes graph optimization time)\n",
        "time_start = time.time()\n",
        "x = sobol_engine.draw(number)\n",
        "y = torch.transpose(torch.erf(x),0,1)\n",
        "path = buildPath(path, y, number, dim, left_index_t, right_index_t, bridge_index_t, left_weight_t, right_weight_t, std_dev_t)\n",
        "time_end = time.time()\n",
        "\n",
        "time_price_cpu = time_end - time_start\n",
        "print(\"Second time on a CPU: \", time_price_cpu)\n",
        "\n",
        "# First run (includes graph optimization time)\n",
        "time_start = time.time()\n",
        "x = torch.randn(size=(dim,number))\n",
        "#y = torch.transpose(torch.erf(x),0,1)\n",
        "#path = buildPath(path, y, number, dim, left_index_t, right_index_t, bridge_index_t, left_weight_t, right_weight_t, std_dev_t)\n",
        "time_end = time.time()\n",
        "time_price_cpu = time_end - time_start\n",
        "print(\"Third time on a CPU: \", time_price_cpu)\n"
      ],
      "execution_count": 625,
      "outputs": [
        {
          "output_type": "stream",
          "text": [
            "First time on a CPU:  0.24289393424987793\n",
            "Second time on a CPU:  1.1659772396087646\n",
            "Third time on a CPU:  0.6965889930725098\n"
          ],
          "name": "stdout"
        }
      ]
    },
    {
      "cell_type": "code",
      "metadata": {
        "id": "0GfnXrsr21Rb"
      },
      "source": [
        "import torch\n",
        "import torchvision.models as models\n",
        "import torch.autograd.profiler as profiler"
      ],
      "execution_count": 615,
      "outputs": []
    },
    {
      "cell_type": "code",
      "metadata": {
        "id": "mffjcxuM_bg2"
      },
      "source": [
        "dim =  256#@param {type:\"integer\"}\n",
        "number =  200000#@param {type:\"integer\"}\n",
        "\n",
        "path = torch.zeros(size=(dim,number), dtype=float)\n",
        "\n",
        "with profiler.profile(record_shapes=True) as prof:\n",
        "    with profiler.record_function(\"model_inference\"):\n",
        "        x = sobol_engine.draw(number)\n",
        "        y = torch.transpose(torch.erf(x-0.5),0,1)\n",
        "        path = buildPath(path, y, number, dim, left_index_t, right_index_t, bridge_index_t, left_weight_t, right_weight_t, std_dev_t)\n"
      ],
      "execution_count": 628,
      "outputs": []
    },
    {
      "cell_type": "code",
      "metadata": {
        "id": "7zNcLL0y_mKh",
        "outputId": "0deb8ce3-d53b-4b62-fb0b-04cd2cb1080e",
        "colab": {
          "base_uri": "https://localhost:8080/"
        }
      },
      "source": [
        "print(prof.key_averages().table(sort_by=\"cpu_time_total\", row_limit=10))"
      ],
      "execution_count": 629,
      "outputs": [
        {
          "output_type": "stream",
          "text": [
            "-----------------------------  ------------  ------------  ------------  ------------  ------------  ------------  \n",
            "                         Name    Self CPU %      Self CPU   CPU total %     CPU total  CPU time avg    # of Calls  \n",
            "-----------------------------  ------------  ------------  ------------  ------------  ------------  ------------  \n",
            "              model_inference         0.44%       6.341ms       100.00%        1.446s        1.446s             1  \n",
            "                    buildPath         2.87%      41.484ms        79.32%        1.147s        1.147s             1  \n",
            "                    aten::mul        58.87%     851.147ms        59.26%     856.826ms       1.677ms           511  \n",
            "                    aten::erf         7.08%     102.378ms        14.16%     204.781ms     102.390ms             2  \n",
            "                    aten::add         7.07%     102.295ms        12.08%     174.710ms     685.137us           255  \n",
            "     aten::_sobol_engine_draw         6.57%      95.002ms         8.62%     124.605ms     124.605ms             1  \n",
            "                  aten::copy_         8.09%     116.935ms         8.09%     116.935ms     151.864us           770  \n",
            "                     aten::to         0.32%       4.653ms         5.25%      75.865ms     147.884us           513  \n",
            "                    aten::sub         4.53%      65.458ms         4.53%      65.499ms      65.499ms             1  \n",
            "                   aten::mul_         2.04%      29.505ms         2.04%      29.549ms      29.549ms             1  \n",
            "-----------------------------  ------------  ------------  ------------  ------------  ------------  ------------  \n",
            "Self CPU time total: 1.446s\n",
            "\n"
          ],
          "name": "stdout"
        }
      ]
    },
    {
      "cell_type": "code",
      "metadata": {
        "id": "oiNEkfFf_yIZ",
        "outputId": "b59432a0-a230-4485-9856-50b4917e2529",
        "colab": {
          "base_uri": "https://localhost:8080/"
        }
      },
      "source": [
        "print(prof.key_averages(group_by_input_shape=True).table(sort_by=\"cpu_time_total\", row_limit=10))\n"
      ],
      "execution_count": 469,
      "outputs": [
        {
          "output_type": "stream",
          "text": [
            "-----------------------------  ------------  ------------  ------------  ------------  ------------  ------------  ---------------------------------------------  \n",
            "                         Name    Self CPU %      Self CPU   CPU total %     CPU total  CPU time avg    # of Calls                                   Input Shapes  \n",
            "-----------------------------  ------------  ------------  ------------  ------------  ------------  ------------  ---------------------------------------------  \n",
            "              model_inference         0.39%       4.746ms       100.00%        1.204s        1.204s             1                                             []  \n",
            "                    buildPath         1.93%      23.264ms        80.08%     964.157ms     964.157ms             1  [[256, 200000], [256, 200000], [], [], [256],  \n",
            "                    aten::mul        65.32%     786.443ms        65.64%     790.341ms       3.099ms           255               [[], [], [200000], [], [200000]]  \n",
            "     aten::_sobol_engine_draw         7.95%      95.667ms        10.53%     126.808ms     126.808ms             1             [[256], [], [256, 30], [], [], []]  \n",
            "                    aten::erf         0.00%      36.998us         8.99%     108.196ms     108.196ms             1                                [[200000, 256]]  \n",
            "                    aten::erf         8.98%     108.147ms         8.98%     108.152ms     108.152ms             1                           [[0], [200000, 256]]  \n",
            "                    aten::add         4.34%      52.247ms         4.44%      53.478ms     209.717us           255               [[], [], [200000], [200000], []]  \n",
            "                    aten::mul         3.01%      36.193ms         3.44%      41.415ms     162.413us           255                         [[], [], [], [200000]]  \n",
            "                   aten::mul_         2.58%      31.055ms         2.58%      31.092ms      31.092ms             1                            [[200000, 256], []]  \n",
            "                  aten::copy_         2.09%      25.182ms         2.09%      25.182ms      98.754us           255               [[], [], [200000], [200000], []]  \n",
            "-----------------------------  ------------  ------------  ------------  ------------  ------------  ------------  ---------------------------------------------  \n",
            "Self CPU time total: 1.204s\n",
            "\n"
          ],
          "name": "stdout"
        }
      ]
    },
    {
      "cell_type": "code",
      "metadata": {
        "id": "42F_eeCwCvF0"
      },
      "source": [
        "prof.export_chrome_trace(\"trace.json\")"
      ],
      "execution_count": 470,
      "outputs": []
    },
    {
      "cell_type": "code",
      "metadata": {
        "id": "WZySK9V3C4rs"
      },
      "source": [
        "#from numba import jit\n",
        "import random\n",
        "\n",
        "#@jit(nopython=True)\n",
        "def buildPath_numpy(path, z, number: int, number_time_steps: int, left_index, right_index, bridge_index, left_weight, right_weight, std_dev):\n",
        "  path[-1] = std_dev[0]*z[0]\n",
        "  j = 0\n",
        "  k = 0\n",
        "  l = 0\n",
        "  i = 0\n",
        "  for i in range(1,number_time_steps):\n",
        "    j = left_index[i]\n",
        "    k = right_index[i]\n",
        "    l = bridge_index[i]\n",
        "    lw = left_weight[i]\n",
        "    rw = right_weight[i]\n",
        "    sd = std_dev[i]\n",
        "    #print(lw)\n",
        "    if j > 0:\n",
        "      tmp = path[j-1] * lw + path[k] * rw + z[i] * sd\n",
        "    else:\n",
        "      tmp = sd * z[i] #path[k] * rw + z[i,:] * sd\n",
        "\n",
        "  return path"
      ],
      "execution_count": 672,
      "outputs": []
    },
    {
      "cell_type": "code",
      "metadata": {
        "id": "8uBERVU9Iarx"
      },
      "source": [
        "x = np.random.randn(256, number)\n",
        "\n",
        "path_numpy = np.zeros(shape=(dim,number))"
      ],
      "execution_count": 673,
      "outputs": []
    },
    {
      "cell_type": "code",
      "metadata": {
        "id": "b-M8p_lyIfhS"
      },
      "source": [
        "p = buildPath_numpy(path_numpy, x, number, number_time_steps, left_index, right_index, bridge_index, left_weight, right_weight, std_dev)"
      ],
      "execution_count": 674,
      "outputs": []
    },
    {
      "cell_type": "code",
      "metadata": {
        "id": "THG-QCavIiRQ",
        "outputId": "b8dad65e-219a-4475-e67a-ba2c40f505c0",
        "colab": {
          "base_uri": "https://localhost:8080/"
        }
      },
      "source": [
        "dim =  256#@param {type:\"integer\"}\n",
        "number =  200000#@param {type:\"integer\"}\n",
        "\n",
        "path_numpy = np.zeros(shape=(dim,number))\n",
        "#path_numpy = [None] * dim#np.zeros(shape=(dim,number))\n",
        "\n",
        "\n",
        "# First run (includes graph optimization time)\n",
        "time_start = time.time()\n",
        "x = sobol_engine.draw(number)\n",
        "y = torch.erf(x).numpy().T\n",
        "path = buildPath_numpy(path_numpy, y, number, number_time_steps, left_index, right_index, bridge_index, left_weight, right_weight, std_dev)\n",
        "time_end = time.time()\n",
        "time_price_cpu = time_end - time_start\n",
        "print(\"Third time on a CPU: \", time_price_cpu)\n",
        "\n"
      ],
      "execution_count": 675,
      "outputs": [
        {
          "output_type": "stream",
          "text": [
            "Third time on a CPU:  1.0028340816497803\n"
          ],
          "name": "stdout"
        }
      ]
    },
    {
      "cell_type": "code",
      "metadata": {
        "id": "clxm1727KJre"
      },
      "source": [
        "%lprun buildPath_numpy(path_numpy, y, number, number_time_steps, left_index, right_index, bridge_index, left_weight, right_weight, std_dev)"
      ],
      "execution_count": 676,
      "outputs": []
    },
    {
      "cell_type": "code",
      "metadata": {
        "id": "9Oz8KZO6OLDS",
        "outputId": "a19c5cd8-4f4f-4898-f205-6f0f1341444e",
        "colab": {
          "base_uri": "https://localhost:8080/"
        }
      },
      "source": [
        "%load_ext line_profiler"
      ],
      "execution_count": 677,
      "outputs": [
        {
          "output_type": "stream",
          "text": [
            "The line_profiler extension is already loaded. To reload it, use:\n",
            "  %reload_ext line_profiler\n"
          ],
          "name": "stdout"
        }
      ]
    },
    {
      "cell_type": "code",
      "metadata": {
        "id": "HaVVVAXlQAow"
      },
      "source": [
        "%lprun -f buildPath_numpy buildPath_numpy(path_numpy, y, number, number_time_steps, left_index, right_index, bridge_index, left_weight, right_weight, std_dev)"
      ],
      "execution_count": 678,
      "outputs": []
    },
    {
      "cell_type": "code",
      "metadata": {
        "id": "rNDASPj0PZUm"
      },
      "source": [
        ""
      ],
      "execution_count": 657,
      "outputs": []
    }
  ]
}