{
  "nbformat": 4,
  "nbformat_minor": 0,
  "metadata": {
    "colab": {
      "name": "RandomPerformance.ipynb",
      "provenance": [],
      "collapsed_sections": [],
      "authorship_tag": "ABX9TyN3Gim8bg22AiwRAABCzeSZ",
      "include_colab_link": true
    },
    "kernelspec": {
      "name": "python3",
      "display_name": "Python 3"
    },
    "accelerator": "GPU"
  },
  "cells": [
    {
      "cell_type": "markdown",
      "metadata": {
        "id": "view-in-github",
        "colab_type": "text"
      },
      "source": [
        "<a href=\"https://colab.research.google.com/github/QuantAnalyticsTorch/quant_analytics_torch/blob/main/examples/RandomPerformance.ipynb\" target=\"_parent\"><img src=\"https://colab.research.google.com/assets/colab-badge.svg\" alt=\"Open In Colab\"/></a>"
      ]
    },
    {
      "cell_type": "code",
      "metadata": {
        "colab": {
          "base_uri": "https://localhost:8080/",
          "height": 1000
        },
        "id": "nDp-CSVzD4RL",
        "outputId": "e7d2a9eb-5f71-4a5d-d06b-2255ee0ab97b"
      },
      "source": [
        "#@title Upgrade to TensorFlow nightly\n",
        "!pip install --upgrade tf-nightly"
      ],
      "execution_count": 123,
      "outputs": [
        {
          "output_type": "stream",
          "text": [
            "Collecting tf-nightly\n",
            "\u001b[?25l  Downloading https://files.pythonhosted.org/packages/d6/a0/bb53c740d9ed63b97cb2c56f238c10c96b707feb425ecf836f8d3e86d8cf/tf_nightly-2.5.0.dev20201126-cp36-cp36m-manylinux2010_x86_64.whl (398.7MB)\n",
            "\u001b[K     |████████████████████████████████| 398.7MB 44kB/s \n",
            "\u001b[?25hRequirement already satisfied, skipping upgrade: six~=1.15.0 in /usr/local/lib/python3.6/dist-packages (from tf-nightly) (1.15.0)\n",
            "Requirement already satisfied, skipping upgrade: gast==0.3.3 in /usr/local/lib/python3.6/dist-packages (from tf-nightly) (0.3.3)\n",
            "Collecting tf-estimator-nightly~=2.4.0.dev\n",
            "\u001b[?25l  Downloading https://files.pythonhosted.org/packages/89/d2/2131f5a0f0d14bae7f4d332724748b9ca6746b0d32f5c76145f0707f47d8/tf_estimator_nightly-2.4.0.dev2020102301-py2.py3-none-any.whl (461kB)\n",
            "\u001b[K     |████████████████████████████████| 471kB 51.1MB/s \n",
            "\u001b[?25hCollecting grpcio~=1.32.0\n",
            "\u001b[?25l  Downloading https://files.pythonhosted.org/packages/f0/00/b393f5d0e92b37592a41357ea3077010c95400c907f6b9af01f4f6abe140/grpcio-1.32.0-cp36-cp36m-manylinux2014_x86_64.whl (3.8MB)\n",
            "\u001b[K     |████████████████████████████████| 3.8MB 49.2MB/s \n",
            "\u001b[?25hCollecting protobuf~=3.13.0\n",
            "\u001b[?25l  Downloading https://files.pythonhosted.org/packages/30/79/510974552cebff2ba04038544799450defe75e96ea5f1675dbf72cc8744f/protobuf-3.13.0-cp36-cp36m-manylinux1_x86_64.whl (1.3MB)\n",
            "\u001b[K     |████████████████████████████████| 1.3MB 43.5MB/s \n",
            "\u001b[?25hRequirement already satisfied, skipping upgrade: typing-extensions~=3.7.4 in /usr/local/lib/python3.6/dist-packages (from tf-nightly) (3.7.4.3)\n",
            "Requirement already satisfied, skipping upgrade: astunparse~=1.6.3 in /usr/local/lib/python3.6/dist-packages (from tf-nightly) (1.6.3)\n",
            "Requirement already satisfied, skipping upgrade: termcolor~=1.1.0 in /usr/local/lib/python3.6/dist-packages (from tf-nightly) (1.1.0)\n",
            "Collecting tb-nightly~=2.5.0.a\n",
            "\u001b[?25l  Downloading https://files.pythonhosted.org/packages/03/67/be02f453a7ffd2c62cbbb45f06b82a52437972ebc3eaac59065bdaf2de7b/tb_nightly-2.5.0a20201125-py3-none-any.whl (11.9MB)\n",
            "\u001b[K     |████████████████████████████████| 11.9MB 146kB/s \n",
            "\u001b[?25hRequirement already satisfied, skipping upgrade: keras-preprocessing~=1.1.2 in /usr/local/lib/python3.6/dist-packages (from tf-nightly) (1.1.2)\n",
            "Requirement already satisfied, skipping upgrade: wheel~=0.35 in /usr/local/lib/python3.6/dist-packages (from tf-nightly) (0.35.1)\n",
            "Requirement already satisfied, skipping upgrade: absl-py~=0.10 in /usr/local/lib/python3.6/dist-packages (from tf-nightly) (0.10.0)\n",
            "Requirement already satisfied, skipping upgrade: wrapt~=1.12.1 in /usr/local/lib/python3.6/dist-packages (from tf-nightly) (1.12.1)\n",
            "Requirement already satisfied, skipping upgrade: opt-einsum~=3.3.0 in /usr/local/lib/python3.6/dist-packages (from tf-nightly) (3.3.0)\n",
            "Requirement already satisfied, skipping upgrade: h5py~=2.10.0 in /usr/local/lib/python3.6/dist-packages (from tf-nightly) (2.10.0)\n",
            "Requirement already satisfied, skipping upgrade: google-pasta~=0.2 in /usr/local/lib/python3.6/dist-packages (from tf-nightly) (0.2.0)\n",
            "Requirement already satisfied, skipping upgrade: flatbuffers~=1.12.0 in /usr/local/lib/python3.6/dist-packages (from tf-nightly) (1.12)\n",
            "Collecting numpy~=1.19.2\n",
            "\u001b[?25l  Downloading https://files.pythonhosted.org/packages/87/86/753182c9085ba4936c0076269a571613387cdb77ae2bf537448bfd63472c/numpy-1.19.4-cp36-cp36m-manylinux2010_x86_64.whl (14.5MB)\n",
            "\u001b[K     |████████████████████████████████| 14.5MB 210kB/s \n",
            "\u001b[?25hRequirement already satisfied, skipping upgrade: setuptools in /usr/local/lib/python3.6/dist-packages (from protobuf~=3.13.0->tf-nightly) (50.3.2)\n",
            "Requirement already satisfied, skipping upgrade: tensorboard-plugin-wit>=1.6.0 in /usr/local/lib/python3.6/dist-packages (from tb-nightly~=2.5.0.a->tf-nightly) (1.7.0)\n",
            "Requirement already satisfied, skipping upgrade: requests<3,>=2.21.0 in /usr/local/lib/python3.6/dist-packages (from tb-nightly~=2.5.0.a->tf-nightly) (2.23.0)\n",
            "Requirement already satisfied, skipping upgrade: markdown>=2.6.8 in /usr/local/lib/python3.6/dist-packages (from tb-nightly~=2.5.0.a->tf-nightly) (3.3.3)\n",
            "Requirement already satisfied, skipping upgrade: werkzeug>=0.11.15 in /usr/local/lib/python3.6/dist-packages (from tb-nightly~=2.5.0.a->tf-nightly) (1.0.1)\n",
            "Requirement already satisfied, skipping upgrade: google-auth-oauthlib<0.5,>=0.4.1 in /usr/local/lib/python3.6/dist-packages (from tb-nightly~=2.5.0.a->tf-nightly) (0.4.2)\n",
            "Requirement already satisfied, skipping upgrade: google-auth<2,>=1.6.3 in /usr/local/lib/python3.6/dist-packages (from tb-nightly~=2.5.0.a->tf-nightly) (1.17.2)\n",
            "Requirement already satisfied, skipping upgrade: chardet<4,>=3.0.2 in /usr/local/lib/python3.6/dist-packages (from requests<3,>=2.21.0->tb-nightly~=2.5.0.a->tf-nightly) (3.0.4)\n",
            "Requirement already satisfied, skipping upgrade: certifi>=2017.4.17 in /usr/local/lib/python3.6/dist-packages (from requests<3,>=2.21.0->tb-nightly~=2.5.0.a->tf-nightly) (2020.11.8)\n",
            "Requirement already satisfied, skipping upgrade: idna<3,>=2.5 in /usr/local/lib/python3.6/dist-packages (from requests<3,>=2.21.0->tb-nightly~=2.5.0.a->tf-nightly) (2.10)\n",
            "Requirement already satisfied, skipping upgrade: urllib3!=1.25.0,!=1.25.1,<1.26,>=1.21.1 in /usr/local/lib/python3.6/dist-packages (from requests<3,>=2.21.0->tb-nightly~=2.5.0.a->tf-nightly) (1.24.3)\n",
            "Requirement already satisfied, skipping upgrade: importlib-metadata; python_version < \"3.8\" in /usr/local/lib/python3.6/dist-packages (from markdown>=2.6.8->tb-nightly~=2.5.0.a->tf-nightly) (2.0.0)\n",
            "Requirement already satisfied, skipping upgrade: requests-oauthlib>=0.7.0 in /usr/local/lib/python3.6/dist-packages (from google-auth-oauthlib<0.5,>=0.4.1->tb-nightly~=2.5.0.a->tf-nightly) (1.3.0)\n",
            "Requirement already satisfied, skipping upgrade: pyasn1-modules>=0.2.1 in /usr/local/lib/python3.6/dist-packages (from google-auth<2,>=1.6.3->tb-nightly~=2.5.0.a->tf-nightly) (0.2.8)\n",
            "Requirement already satisfied, skipping upgrade: rsa<5,>=3.1.4; python_version >= \"3\" in /usr/local/lib/python3.6/dist-packages (from google-auth<2,>=1.6.3->tb-nightly~=2.5.0.a->tf-nightly) (4.6)\n",
            "Requirement already satisfied, skipping upgrade: cachetools<5.0,>=2.0.0 in /usr/local/lib/python3.6/dist-packages (from google-auth<2,>=1.6.3->tb-nightly~=2.5.0.a->tf-nightly) (4.1.1)\n",
            "Requirement already satisfied, skipping upgrade: zipp>=0.5 in /usr/local/lib/python3.6/dist-packages (from importlib-metadata; python_version < \"3.8\"->markdown>=2.6.8->tb-nightly~=2.5.0.a->tf-nightly) (3.4.0)\n",
            "Requirement already satisfied, skipping upgrade: oauthlib>=3.0.0 in /usr/local/lib/python3.6/dist-packages (from requests-oauthlib>=0.7.0->google-auth-oauthlib<0.5,>=0.4.1->tb-nightly~=2.5.0.a->tf-nightly) (3.1.0)\n",
            "Requirement already satisfied, skipping upgrade: pyasn1<0.5.0,>=0.4.6 in /usr/local/lib/python3.6/dist-packages (from pyasn1-modules>=0.2.1->google-auth<2,>=1.6.3->tb-nightly~=2.5.0.a->tf-nightly) (0.4.8)\n",
            "\u001b[31mERROR: tensorflow 2.3.0 has requirement numpy<1.19.0,>=1.16.0, but you'll have numpy 1.19.4 which is incompatible.\u001b[0m\n",
            "\u001b[31mERROR: datascience 0.10.6 has requirement folium==0.2.1, but you'll have folium 0.8.3 which is incompatible.\u001b[0m\n",
            "\u001b[31mERROR: albumentations 0.1.12 has requirement imgaug<0.2.7,>=0.2.5, but you'll have imgaug 0.2.9 which is incompatible.\u001b[0m\n",
            "Installing collected packages: tf-estimator-nightly, grpcio, protobuf, numpy, tb-nightly, tf-nightly\n",
            "  Found existing installation: grpcio 1.33.2\n",
            "    Uninstalling grpcio-1.33.2:\n",
            "      Successfully uninstalled grpcio-1.33.2\n",
            "  Found existing installation: protobuf 3.12.4\n",
            "    Uninstalling protobuf-3.12.4:\n",
            "      Successfully uninstalled protobuf-3.12.4\n",
            "  Found existing installation: numpy 1.18.5\n",
            "    Uninstalling numpy-1.18.5:\n",
            "      Successfully uninstalled numpy-1.18.5\n",
            "Successfully installed grpcio-1.32.0 numpy-1.19.4 protobuf-3.13.0 tb-nightly-2.5.0a20201125 tf-estimator-nightly-2.4.0.dev2020102301 tf-nightly-2.5.0.dev20201126\n"
          ],
          "name": "stdout"
        },
        {
          "output_type": "display_data",
          "data": {
            "application/vnd.colab-display-data+json": {
              "pip_warning": {
                "packages": [
                  "google",
                  "grpc",
                  "numpy",
                  "tensorboard",
                  "tensorflow"
                ]
              }
            }
          },
          "metadata": {
            "tags": []
          }
        }
      ]
    },
    {
      "cell_type": "code",
      "metadata": {
        "id": "qEqDuod8iuTy"
      },
      "source": [
        "import tensorflow as tf"
      ],
      "execution_count": 1,
      "outputs": []
    },
    {
      "cell_type": "code",
      "metadata": {
        "id": "CYqz1EZUqrZr"
      },
      "source": [
        "from scipy.special import erf\n",
        "import numpy as np\n",
        "import time"
      ],
      "execution_count": 2,
      "outputs": []
    },
    {
      "cell_type": "code",
      "metadata": {
        "id": "wZzX8ugh1eJ6"
      },
      "source": [
        "x = tf.math.sobol_sample(10,10)"
      ],
      "execution_count": 3,
      "outputs": []
    },
    {
      "cell_type": "code",
      "metadata": {
        "id": "MPMwv1G9h0ou"
      },
      "source": [
        "import numpy as np"
      ],
      "execution_count": 5,
      "outputs": []
    },
    {
      "cell_type": "code",
      "metadata": {
        "id": "qMz0DuHGq2vt"
      },
      "source": [
        "class BrownianBridge():\n",
        "    def __init__(self, number_time_steps):\n",
        "        super(BrownianBridge, self).__init__()\n",
        "\n",
        "        self.number_time_steps = number_time_steps\n",
        "\n",
        "        self.left_index = np.zeros(number_time_steps, dtype=int)\n",
        "        self.right_index = np.zeros(number_time_steps, dtype=int)\n",
        "        self.bridge_index = np.zeros(number_time_steps, dtype=int)\n",
        "        self.left_weight = np.zeros(number_time_steps)\n",
        "        self.right_weight = np.zeros(number_time_steps)\n",
        "        self.std_dev = np.zeros(number_time_steps)\n",
        "\n",
        "        self._map = np.zeros(number_time_steps, dtype=int)\n",
        "\n",
        "        self._map[-1] = 1\n",
        "        self.bridge_index[0] = number_time_steps - 1\n",
        "        self.std_dev[0] = tf.math.sqrt(1.0 * number_time_steps)\n",
        "        self.left_weight[0] = 0\n",
        "        self.right_weight[0] = 0\n",
        "\n",
        "        j=0\n",
        "        for i in range(1,number_time_steps):\n",
        "            while self._map[j] == True:\n",
        "                j = j + 1\n",
        "            k = j\n",
        "            while self._map[k] == False:\n",
        "                k = k + 1\n",
        "            l = j+((k-1-j)>>1)\n",
        "            self._map[l]=i\n",
        "            self.bridge_index[i]=l\n",
        "            self.left_index[i]=j\n",
        "            self.right_index[i]=k\n",
        "            self.left_weight[i]=(k-l)/(k+1-j)\n",
        "            self.right_weight[i]=(1+l-j)/(k+1-j)\n",
        "            self.std_dev[i]=np.sqrt(((1+l-j)*(k-l))/(k+1-j))\n",
        "            j=k+1\n",
        "            if j>=number_time_steps:\n",
        "                j=0\n",
        "\n",
        "    @tf.function(jit_compile=True)\n",
        "    def buildPath(self, z, number):\n",
        "        path = tf.unstack(tf.zeros(shape=(self.number_time_steps,number)))\n",
        "        path[-1] = self.std_dev[0]*z[0];\n",
        "        for i in np.arange(1,self.number_time_steps):\n",
        "            j = self.left_index[i]\n",
        "            k = self.right_index[i]\n",
        "            l = self.bridge_index[i]\n",
        "            #if j > 0:\n",
        "            #    path[l] = self.left_weight[i] * path[j-1] + self.right_weight[i] * path[k] + self.std_dev[i] * z[i]\n",
        "            #else:\n",
        "            path[l] = self.right_weight[i] * path[k] + self.std_dev[i] * z[i]\n",
        "\n",
        "        return path"
      ],
      "execution_count": 6,
      "outputs": []
    },
    {
      "cell_type": "code",
      "metadata": {
        "id": "dsB-loSz074y"
      },
      "source": [
        "import tensorflow as tf"
      ],
      "execution_count": 7,
      "outputs": []
    },
    {
      "cell_type": "code",
      "metadata": {
        "id": "yV58kSGc03N4"
      },
      "source": [
        "import numpy as np\n",
        "import math"
      ],
      "execution_count": 8,
      "outputs": []
    },
    {
      "cell_type": "code",
      "metadata": {
        "id": "lazF0a71pwkG"
      },
      "source": [
        "number_time_steps = 256\n",
        "number = 3\n",
        "\n",
        "left_index = np.zeros(number_time_steps, dtype=int)\n",
        "right_index = np.zeros(number_time_steps, dtype=int)\n",
        "bridge_index = np.zeros(number_time_steps, dtype=int)\n",
        "left_weight = np.zeros(number_time_steps)\n",
        "right_weight = np.zeros(number_time_steps)\n",
        "std_dev = np.zeros(number_time_steps)\n",
        "\n",
        "_map = np.zeros(number_time_steps, dtype=int)\n",
        "\n",
        "_map[-1] = 1\n",
        "bridge_index[0] = number_time_steps - 1\n",
        "std_dev[0] = math.sqrt(1.0 * number_time_steps)\n",
        "left_weight[0] = 0\n",
        "right_weight[0] = 0\n",
        "\n",
        "j=0\n",
        "for i in range(1,number_time_steps):\n",
        "  while _map[j] == True:\n",
        "    j = j + 1\n",
        "  k = j\n",
        "  while _map[k] == False:\n",
        "    k = k + 1\n",
        "l = j+((k-1-j)>>1)\n",
        "_map[l]=i\n",
        "bridge_index[i]=l\n",
        "left_index[i]=j\n",
        "right_index[i]=k\n",
        "left_weight[i]=(k-l)/(k+1-j)\n",
        "right_weight[i]=(1+l-j)/(k+1-j)\n",
        "std_dev[i]=np.sqrt(((1+l-j)*(k-l))/(k+1-j))\n",
        "j=k+1\n",
        "if j>=number_time_steps:\n",
        "  j=0\n",
        "\n",
        "bridge_index_t = tf.constant(bridge_index)\n",
        "right_index_t = tf.constant(right_index)\n",
        "left_index_t = tf.constant(left_index)"
      ],
      "execution_count": 9,
      "outputs": []
    },
    {
      "cell_type": "code",
      "metadata": {
        "id": "s08YoH7R01_g"
      },
      "source": [
        ""
      ],
      "execution_count": 9,
      "outputs": []
    },
    {
      "cell_type": "code",
      "metadata": {
        "id": "w9vaS88N0D96"
      },
      "source": [
        "#@tf.function(jit_compile=True)\n",
        "def buildPath(z, number, number_time_steps, left_index_t, right_index_t, bridge_index_t, left_weight, right_weight, std_dev):\n",
        "  path = tf.unstack(tf.zeros(shape=(number_time_steps,number),dtype=tf.dtypes.float64))\n",
        "  path[-1] = std_dev[0]*z[0];\n",
        "  j = 0\n",
        "  k = 0\n",
        "  l = 0\n",
        "  i = 0\n",
        "  for i in range(1,number_time_steps):\n",
        "#    print(\"i\")\n",
        "#    print(i)\n",
        "    j = left_index[i]\n",
        "    k = right_index[i]\n",
        "    l = bridge_index[i]\n",
        "#    print(\"l\")\n",
        "#    print(l)\n",
        "#    print(\"k\")\n",
        "#    print(k)\n",
        "#    print(\"right_weight\")\n",
        "#    print(right_weight[i])\n",
        "    path[l] = right_weight[i] * path[k] + std_dev[i] * z[i]\n",
        "\n",
        "  return path"
      ],
      "execution_count": 18,
      "outputs": []
    },
    {
      "cell_type": "code",
      "metadata": {
        "id": "75mLhhBtqbuk"
      },
      "source": [
        "x = tf.math.sobol_sample(256,5,dtype=tf.dtypes.float64)\n",
        "z = tf.transpose(tf.math.erf(x))"
      ],
      "execution_count": 11,
      "outputs": []
    },
    {
      "cell_type": "code",
      "metadata": {
        "id": "RQNPIH2Rqbyt"
      },
      "source": [
        "path = buildPath(z, 5, 256, left_index, right_index, bridge_index, left_weight, right_weight, std_dev)"
      ],
      "execution_count": 12,
      "outputs": []
    },
    {
      "cell_type": "code",
      "metadata": {
        "colab": {
          "base_uri": "https://localhost:8080/"
        },
        "id": "nxJXwrh-rf5Z",
        "outputId": "813958a8-97d4-458e-e87f-bb90e1e8ad3f"
      },
      "source": [
        "print(tf.autograph.to_code(buildPath.python_function))"
      ],
      "execution_count": 13,
      "outputs": [
        {
          "output_type": "stream",
          "text": [
            "def tf__buildPath(z, number, number_time_steps, left_index_t, right_index_t, bridge_index_t, left_weight, right_weight, std_dev):\n",
            "    with ag__.FunctionScope('buildPath', 'fscope', ag__.ConversionOptions(recursive=True, user_requested=True, optional_features=(), internal_convert_user_code=True)) as fscope:\n",
            "        do_return = False\n",
            "        retval_ = ag__.UndefinedReturnValue()\n",
            "        path = ag__.converted_call(ag__.ld(tf).unstack, (ag__.converted_call(ag__.ld(tf).zeros, (), dict(shape=(ag__.ld(number_time_steps), ag__.ld(number)), dtype=ag__.ld(tf).dtypes.float64), fscope),), None, fscope)\n",
            "        ag__.ld(path)[(- 1)] = (ag__.ld(std_dev)[0] * ag__.ld(z)[0])\n",
            "        j = 0\n",
            "        k = 0\n",
            "        l = 0\n",
            "        i = 0\n",
            "\n",
            "        def get_state():\n",
            "            return ()\n",
            "\n",
            "        def set_state(block_vars):\n",
            "            pass\n",
            "\n",
            "        def loop_body(itr):\n",
            "            i = itr\n",
            "            j = ag__.ld(left_index)[ag__.ld(i)]\n",
            "            k = ag__.ld(right_index)[ag__.ld(i)]\n",
            "            l = ag__.ld(bridge_index)[ag__.ld(i)]\n",
            "            ag__.ld(path)[ag__.ld(l)] = ((ag__.ld(right_weight)[ag__.ld(i)] * ag__.ld(path)[ag__.ld(k)]) + (ag__.ld(std_dev)[ag__.ld(i)] * ag__.ld(z)[ag__.ld(i)]))\n",
            "        ag__.for_stmt(ag__.converted_call(ag__.ld(range), (1, ag__.ld(number_time_steps)), None, fscope), None, loop_body, get_state, set_state, (), {'iterate_names': 'i'})\n",
            "        try:\n",
            "            do_return = True\n",
            "            retval_ = ag__.ld(path)\n",
            "        except:\n",
            "            do_return = False\n",
            "            raise\n",
            "        return fscope.ret(retval_, do_return)\n",
            "\n"
          ],
          "name": "stdout"
        }
      ]
    },
    {
      "cell_type": "code",
      "metadata": {
        "id": "1HSBxiFxi6K6"
      },
      "source": [
        "bridge = BrownianBridge(2)"
      ],
      "execution_count": 14,
      "outputs": []
    },
    {
      "cell_type": "code",
      "metadata": {
        "colab": {
          "base_uri": "https://localhost:8080/"
        },
        "id": "eoeT5eJZy1_7",
        "outputId": "a08825ba-17d2-4480-bc73-428005ff22c9"
      },
      "source": [
        "#@title Pricing time a CPU. Note TensorFlow does automatic multithreading.\n",
        "dim =  256#@param {type:\"integer\"}\n",
        "number =  100000#@param {type:\"integer\"}\n",
        "\n",
        "# First run (includes graph optimization time)\n",
        "time_start = time.time()\n",
        "with tf.device(\"/cpu:0\"):\n",
        "    x = tf.math.sobol_sample(dim,number,dtype=tf.dtypes.float64)\n",
        "    z = tf.transpose(tf.math.erf(x))\n",
        "    w = buildPath(z, number, 128, left_index, right_index, bridge_index, left_weight, right_weight, std_dev)\n",
        "time_end = time.time()\n",
        "time_price_cpu = time_end - time_start\n",
        "print(\"First time on a CPU: \", time_price_cpu)\n",
        "\n",
        "# Second run (excludes graph optimization time)\n",
        "time_start = time.time()\n",
        "with tf.device(\"/cpu:0\"):\n",
        "    x = tf.math.sobol_sample(dim,number,dtype=tf.dtypes.float64)\n",
        "    z = tf.transpose(tf.math.erf(x))\n",
        "    w = buildPath(z, number, 128, left_index, right_index, bridge_index, left_weight, right_weight, std_dev)\n",
        "    print(w[0])\n",
        "time_end = time.time()\n",
        "\n",
        "time_price_cpu = time_end - time_start\n",
        "print(\"Second time on a CPU: \", time_price_cpu)"
      ],
      "execution_count": 19,
      "outputs": [
        {
          "output_type": "stream",
          "text": [
            "First time on a CPU:  0.5446352958679199\n",
            "tf.Tensor([0. 0. 0. ... 0. 0. 0.], shape=(100000,), dtype=float64)\n",
            "Second time on a CPU:  0.5020267963409424\n"
          ],
          "name": "stdout"
        }
      ]
    },
    {
      "cell_type": "code",
      "metadata": {
        "id": "QcYugfF3oOFL"
      },
      "source": [
        "import torch"
      ],
      "execution_count": 20,
      "outputs": []
    },
    {
      "cell_type": "code",
      "metadata": {
        "colab": {
          "base_uri": "https://localhost:8080/"
        },
        "id": "8Bc4d6eQolhK",
        "outputId": "18c2c214-1199-4228-c65d-47d98ef7e63d"
      },
      "source": [
        "@torch.jit.script\n",
        "def foo(x, number: int):\n",
        "  print(number)\n",
        "  z = 0.\n",
        "  for i in range(0,number):\n",
        "    tmp = x[i]\n",
        "    z = z + tmp\n",
        "\n",
        "# See the compiled graph as Python code\n",
        "print(foo.code)"
      ],
      "execution_count": 21,
      "outputs": [
        {
          "output_type": "stream",
          "text": [
            "def foo(x: Tensor,\n",
            "    number: int) -> None:\n",
            "  print(number)\n",
            "  z = 0.\n",
            "  for _0 in range(torch.__range_length(0, number, 1)):\n",
            "    i = torch.__derive_index(_0, 0, 1)\n",
            "    tmp = torch.select(x, 0, i)\n",
            "    z0 = torch.add(tmp, z, 1)\n",
            "    z = annotate(float, z0)\n",
            "  return None\n",
            "\n"
          ],
          "name": "stdout"
        }
      ]
    },
    {
      "cell_type": "code",
      "metadata": {
        "colab": {
          "base_uri": "https://localhost:8080/"
        },
        "id": "CvN8Ry6xonuh",
        "outputId": "367efc40-5a0e-44ef-f771-8a43d9b1de54"
      },
      "source": [
        "# Call the function using the TorchScript interpreter\n",
        "x = torch.zeros(11)\n",
        "\n",
        "foo(x, 10)"
      ],
      "execution_count": 22,
      "outputs": [
        {
          "output_type": "stream",
          "text": [
            "10\n"
          ],
          "name": "stdout"
        }
      ]
    },
    {
      "cell_type": "code",
      "metadata": {
        "id": "7TalyTCgxu2-"
      },
      "source": [
        "@torch.jit.script\n",
        "def buildPath(z, number: int, number_time_steps: int, left_index, right_index, bridge_index, left_weight, right_weight, std_dev):\n",
        "  path = torch.zeros(size=(number_time_steps,number))\n",
        "  path[-1] = std_dev[0]*z[0]\n",
        "  j = 0\n",
        "  k = 0\n",
        "  l = 0\n",
        "  i = 0\n",
        "  for i in range(1,number_time_steps):\n",
        "#    print(\"i\")\n",
        "#    print(i)\n",
        "    j = left_index[i]\n",
        "    k = right_index[i]\n",
        "    l = bridge_index[i]\n",
        "#    print(\"l\")\n",
        "#    print(l)\n",
        "#    print(\"k\")\n",
        "#    print(k)\n",
        "#    print(\"right_weight\")\n",
        "#    print(right_weight[i])\n",
        "    path[l] = right_weight[i] * path[k] + std_dev[i] * z[i]\n",
        "\n",
        "  return path"
      ],
      "execution_count": 23,
      "outputs": []
    },
    {
      "cell_type": "code",
      "metadata": {
        "colab": {
          "base_uri": "https://localhost:8080/"
        },
        "id": "k_E0ft6S0LAP",
        "outputId": "e0d15985-e380-4d26-81c0-8d4f34b4179a"
      },
      "source": [
        "print(buildPath.code)"
      ],
      "execution_count": 24,
      "outputs": [
        {
          "output_type": "stream",
          "text": [
            "def buildPath(z: Tensor,\n",
            "    number: int,\n",
            "    number_time_steps: int,\n",
            "    left_index: Tensor,\n",
            "    right_index: Tensor,\n",
            "    bridge_index: Tensor,\n",
            "    left_weight: Tensor,\n",
            "    right_weight: Tensor,\n",
            "    std_dev: Tensor) -> Tensor:\n",
            "  path = torch.zeros([number_time_steps, number], dtype=None, layout=None, device=None, pin_memory=None)\n",
            "  _0 = torch.mul(torch.select(std_dev, 0, 0), torch.select(z, 0, 0))\n",
            "  _1 = torch.copy_(torch.select(path, 0, -1), _0, False)\n",
            "  _2 = torch.__range_length(1, number_time_steps, 1)\n",
            "  for _3 in range(_2):\n",
            "    i = torch.__derive_index(_3, 1, 1)\n",
            "    k = torch.select(right_index, 0, i)\n",
            "    _4 = annotate(int, k)\n",
            "    l = torch.select(bridge_index, 0, i)\n",
            "    _5 = annotate(int, l)\n",
            "    _6 = torch.mul(torch.select(right_weight, 0, i), torch.select(path, 0, _4))\n",
            "    _7 = torch.mul(torch.select(std_dev, 0, i), torch.select(z, 0, i))\n",
            "    _8 = torch.add(_6, _7, alpha=1)\n",
            "    _9 = torch.copy_(torch.select(path, 0, _5), _8, False)\n",
            "  return path\n",
            "\n"
          ],
          "name": "stdout"
        }
      ]
    },
    {
      "cell_type": "code",
      "metadata": {
        "id": "obp2iCjM1U5J"
      },
      "source": [
        "x = torch.randn(256,2)\n",
        "\n",
        "left_index_t = torch.tensor(left_index)\n",
        "right_index_t = torch.tensor(right_index)\n",
        "bridge_index_t = torch.tensor(bridge_index)\n",
        "left_weight_t = torch.tensor(left_weight)\n",
        "right_weight_t = torch.tensor(right_weight)\n",
        "std_dev_t = torch.tensor(std_dev)\n",
        "\n",
        "path = buildPath(x, 2, 256, left_index_t, right_index_t, bridge_index_t, left_weight_t, right_weight_t, std_dev_t)"
      ],
      "execution_count": 25,
      "outputs": []
    },
    {
      "cell_type": "code",
      "metadata": {
        "id": "ukSIkflR22TV"
      },
      "source": [
        "import time"
      ],
      "execution_count": 26,
      "outputs": []
    },
    {
      "cell_type": "code",
      "metadata": {
        "colab": {
          "base_uri": "https://localhost:8080/"
        },
        "id": "WK93y-p61zkv",
        "outputId": "e4b50e88-6282-4b52-bd87-560bf2a278ce"
      },
      "source": [
        "#@title Pricing time a CPU. Note TensorFlow does automatic multithreading.\n",
        "dim =  256#@param {type:\"integer\"}\n",
        "number =  100000#@param {type:\"integer\"}\n",
        "\n",
        "# First run (includes graph optimization time)\n",
        "time_start = time.time()\n",
        "x = torch.randn(dim, number)\n",
        "path = buildPath(x, number, dim, left_index_t, right_index_t, bridge_index_t, left_weight_t, right_weight_t, std_dev_t)\n",
        "time_end = time.time()\n",
        "time_price_cpu = time_end - time_start\n",
        "print(\"First time on a CPU: \", time_price_cpu)\n",
        "\n",
        "# Second run (excludes graph optimization time)\n",
        "time_start = time.time()\n",
        "x = torch.randn(dim, number)\n",
        "path = buildPath(x, number, dim, left_index_t, right_index_t, bridge_index_t, left_weight_t, right_weight_t, std_dev_t)\n",
        "time_end = time.time()\n",
        "\n",
        "time_price_cpu = time_end - time_start\n",
        "print(\"Second time on a CPU: \", time_price_cpu)"
      ],
      "execution_count": 27,
      "outputs": [
        {
          "output_type": "stream",
          "text": [
            "First time on a CPU:  0.40483903884887695\n",
            "Second time on a CPU:  0.3911397457122803\n"
          ],
          "name": "stdout"
        }
      ]
    },
    {
      "cell_type": "code",
      "metadata": {
        "id": "0GfnXrsr21Rb"
      },
      "source": [
        ""
      ],
      "execution_count": null,
      "outputs": []
    }
  ]
}