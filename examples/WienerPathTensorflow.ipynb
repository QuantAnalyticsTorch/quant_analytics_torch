{
  "nbformat": 4,
  "nbformat_minor": 0,
  "metadata": {
    "colab": {
      "name": "WienerPathTensorflow.ipynb",
      "provenance": [],
      "collapsed_sections": [],
      "authorship_tag": "ABX9TyONt0tcQSDFBGxyYAn4kr0h",
      "include_colab_link": true
    },
    "kernelspec": {
      "name": "python3",
      "display_name": "Python 3"
    }
  },
  "cells": [
    {
      "cell_type": "markdown",
      "metadata": {
        "id": "view-in-github",
        "colab_type": "text"
      },
      "source": [
        "<a href=\"https://colab.research.google.com/github/QuantAnalyticsTorch/quant_analytics_torch/blob/main/examples/WienerPathTensorflow.ipynb\" target=\"_parent\"><img src=\"https://colab.research.google.com/assets/colab-badge.svg\" alt=\"Open In Colab\"/></a>"
      ]
    },
    {
      "cell_type": "code",
      "metadata": {
        "colab": {
          "base_uri": "https://localhost:8080/",
          "height": 1000
        },
        "id": "aODkEPWbUohc",
        "outputId": "eb635654-d0ef-4ba7-ea30-f483ecd83138"
      },
      "source": [
        "#@title Upgrade to TensorFlow nightly\n",
        "!pip install --upgrade tf-nightly-cpu"
      ],
      "execution_count": 1,
      "outputs": [
        {
          "output_type": "stream",
          "text": [
            "Collecting tf-nightly\n",
            "\u001b[?25l  Downloading https://files.pythonhosted.org/packages/c2/12/699afd5516ed69c124919e4818424f3a1c290a3d078595b73bcb1ff261bd/tf_nightly-2.5.0.dev20201129-cp36-cp36m-manylinux2010_x86_64.whl (398.8MB)\n",
            "\u001b[K     |████████████████████████████████| 398.8MB 36kB/s \n",
            "\u001b[?25hRequirement already satisfied, skipping upgrade: absl-py~=0.10 in /usr/local/lib/python3.6/dist-packages (from tf-nightly) (0.10.0)\n",
            "Requirement already satisfied, skipping upgrade: google-pasta~=0.2 in /usr/local/lib/python3.6/dist-packages (from tf-nightly) (0.2.0)\n",
            "Requirement already satisfied, skipping upgrade: wrapt~=1.12.1 in /usr/local/lib/python3.6/dist-packages (from tf-nightly) (1.12.1)\n",
            "Requirement already satisfied, skipping upgrade: flatbuffers~=1.12.0 in /usr/local/lib/python3.6/dist-packages (from tf-nightly) (1.12)\n",
            "Collecting protobuf~=3.13.0\n",
            "\u001b[?25l  Downloading https://files.pythonhosted.org/packages/30/79/510974552cebff2ba04038544799450defe75e96ea5f1675dbf72cc8744f/protobuf-3.13.0-cp36-cp36m-manylinux1_x86_64.whl (1.3MB)\n",
            "\u001b[K     |████████████████████████████████| 1.3MB 47.2MB/s \n",
            "\u001b[?25hRequirement already satisfied, skipping upgrade: gast==0.3.3 in /usr/local/lib/python3.6/dist-packages (from tf-nightly) (0.3.3)\n",
            "Collecting tf-estimator-nightly~=2.4.0.dev\n",
            "\u001b[?25l  Downloading https://files.pythonhosted.org/packages/89/d2/2131f5a0f0d14bae7f4d332724748b9ca6746b0d32f5c76145f0707f47d8/tf_estimator_nightly-2.4.0.dev2020102301-py2.py3-none-any.whl (461kB)\n",
            "\u001b[K     |████████████████████████████████| 471kB 49.5MB/s \n",
            "\u001b[?25hRequirement already satisfied, skipping upgrade: wheel~=0.35 in /usr/local/lib/python3.6/dist-packages (from tf-nightly) (0.35.1)\n",
            "Requirement already satisfied, skipping upgrade: six~=1.15.0 in /usr/local/lib/python3.6/dist-packages (from tf-nightly) (1.15.0)\n",
            "Requirement already satisfied, skipping upgrade: typing-extensions~=3.7.4 in /usr/local/lib/python3.6/dist-packages (from tf-nightly) (3.7.4.3)\n",
            "Requirement already satisfied, skipping upgrade: keras-preprocessing~=1.1.2 in /usr/local/lib/python3.6/dist-packages (from tf-nightly) (1.1.2)\n",
            "Requirement already satisfied, skipping upgrade: opt-einsum~=3.3.0 in /usr/local/lib/python3.6/dist-packages (from tf-nightly) (3.3.0)\n",
            "Collecting tb-nightly~=2.5.0.a\n",
            "\u001b[?25l  Downloading https://files.pythonhosted.org/packages/63/19/497beac9fb6dbb41529250992a63531e34924c7a8870a500baf0fe912eb5/tb_nightly-2.5.0a20201129-py3-none-any.whl (12.2MB)\n",
            "\u001b[K     |████████████████████████████████| 12.2MB 46.0MB/s \n",
            "\u001b[?25hCollecting grpcio~=1.32.0\n",
            "\u001b[?25l  Downloading https://files.pythonhosted.org/packages/f0/00/b393f5d0e92b37592a41357ea3077010c95400c907f6b9af01f4f6abe140/grpcio-1.32.0-cp36-cp36m-manylinux2014_x86_64.whl (3.8MB)\n",
            "\u001b[K     |████████████████████████████████| 3.8MB 43.1MB/s \n",
            "\u001b[?25hRequirement already satisfied, skipping upgrade: h5py~=2.10.0 in /usr/local/lib/python3.6/dist-packages (from tf-nightly) (2.10.0)\n",
            "Collecting numpy~=1.19.2\n",
            "\u001b[?25l  Downloading https://files.pythonhosted.org/packages/87/86/753182c9085ba4936c0076269a571613387cdb77ae2bf537448bfd63472c/numpy-1.19.4-cp36-cp36m-manylinux2010_x86_64.whl (14.5MB)\n",
            "\u001b[K     |████████████████████████████████| 14.5MB 338kB/s \n",
            "\u001b[?25hRequirement already satisfied, skipping upgrade: astunparse~=1.6.3 in /usr/local/lib/python3.6/dist-packages (from tf-nightly) (1.6.3)\n",
            "Requirement already satisfied, skipping upgrade: termcolor~=1.1.0 in /usr/local/lib/python3.6/dist-packages (from tf-nightly) (1.1.0)\n",
            "Requirement already satisfied, skipping upgrade: setuptools in /usr/local/lib/python3.6/dist-packages (from protobuf~=3.13.0->tf-nightly) (50.3.2)\n",
            "Requirement already satisfied, skipping upgrade: google-auth<2,>=1.6.3 in /usr/local/lib/python3.6/dist-packages (from tb-nightly~=2.5.0.a->tf-nightly) (1.17.2)\n",
            "Requirement already satisfied, skipping upgrade: tensorboard-plugin-wit>=1.6.0 in /usr/local/lib/python3.6/dist-packages (from tb-nightly~=2.5.0.a->tf-nightly) (1.7.0)\n",
            "Requirement already satisfied, skipping upgrade: werkzeug>=0.11.15 in /usr/local/lib/python3.6/dist-packages (from tb-nightly~=2.5.0.a->tf-nightly) (1.0.1)\n",
            "Requirement already satisfied, skipping upgrade: markdown>=2.6.8 in /usr/local/lib/python3.6/dist-packages (from tb-nightly~=2.5.0.a->tf-nightly) (3.3.3)\n",
            "Requirement already satisfied, skipping upgrade: requests<3,>=2.21.0 in /usr/local/lib/python3.6/dist-packages (from tb-nightly~=2.5.0.a->tf-nightly) (2.23.0)\n",
            "Requirement already satisfied, skipping upgrade: google-auth-oauthlib<0.5,>=0.4.1 in /usr/local/lib/python3.6/dist-packages (from tb-nightly~=2.5.0.a->tf-nightly) (0.4.2)\n",
            "Requirement already satisfied, skipping upgrade: rsa<5,>=3.1.4; python_version >= \"3\" in /usr/local/lib/python3.6/dist-packages (from google-auth<2,>=1.6.3->tb-nightly~=2.5.0.a->tf-nightly) (4.6)\n",
            "Requirement already satisfied, skipping upgrade: cachetools<5.0,>=2.0.0 in /usr/local/lib/python3.6/dist-packages (from google-auth<2,>=1.6.3->tb-nightly~=2.5.0.a->tf-nightly) (4.1.1)\n",
            "Requirement already satisfied, skipping upgrade: pyasn1-modules>=0.2.1 in /usr/local/lib/python3.6/dist-packages (from google-auth<2,>=1.6.3->tb-nightly~=2.5.0.a->tf-nightly) (0.2.8)\n",
            "Requirement already satisfied, skipping upgrade: importlib-metadata; python_version < \"3.8\" in /usr/local/lib/python3.6/dist-packages (from markdown>=2.6.8->tb-nightly~=2.5.0.a->tf-nightly) (2.0.0)\n",
            "Requirement already satisfied, skipping upgrade: idna<3,>=2.5 in /usr/local/lib/python3.6/dist-packages (from requests<3,>=2.21.0->tb-nightly~=2.5.0.a->tf-nightly) (2.10)\n",
            "Requirement already satisfied, skipping upgrade: urllib3!=1.25.0,!=1.25.1,<1.26,>=1.21.1 in /usr/local/lib/python3.6/dist-packages (from requests<3,>=2.21.0->tb-nightly~=2.5.0.a->tf-nightly) (1.24.3)\n",
            "Requirement already satisfied, skipping upgrade: chardet<4,>=3.0.2 in /usr/local/lib/python3.6/dist-packages (from requests<3,>=2.21.0->tb-nightly~=2.5.0.a->tf-nightly) (3.0.4)\n",
            "Requirement already satisfied, skipping upgrade: certifi>=2017.4.17 in /usr/local/lib/python3.6/dist-packages (from requests<3,>=2.21.0->tb-nightly~=2.5.0.a->tf-nightly) (2020.11.8)\n",
            "Requirement already satisfied, skipping upgrade: requests-oauthlib>=0.7.0 in /usr/local/lib/python3.6/dist-packages (from google-auth-oauthlib<0.5,>=0.4.1->tb-nightly~=2.5.0.a->tf-nightly) (1.3.0)\n",
            "Requirement already satisfied, skipping upgrade: pyasn1>=0.1.3 in /usr/local/lib/python3.6/dist-packages (from rsa<5,>=3.1.4; python_version >= \"3\"->google-auth<2,>=1.6.3->tb-nightly~=2.5.0.a->tf-nightly) (0.4.8)\n",
            "Requirement already satisfied, skipping upgrade: zipp>=0.5 in /usr/local/lib/python3.6/dist-packages (from importlib-metadata; python_version < \"3.8\"->markdown>=2.6.8->tb-nightly~=2.5.0.a->tf-nightly) (3.4.0)\n",
            "Requirement already satisfied, skipping upgrade: oauthlib>=3.0.0 in /usr/local/lib/python3.6/dist-packages (from requests-oauthlib>=0.7.0->google-auth-oauthlib<0.5,>=0.4.1->tb-nightly~=2.5.0.a->tf-nightly) (3.1.0)\n",
            "\u001b[31mERROR: tensorflow 2.3.0 has requirement numpy<1.19.0,>=1.16.0, but you'll have numpy 1.19.4 which is incompatible.\u001b[0m\n",
            "\u001b[31mERROR: datascience 0.10.6 has requirement folium==0.2.1, but you'll have folium 0.8.3 which is incompatible.\u001b[0m\n",
            "\u001b[31mERROR: albumentations 0.1.12 has requirement imgaug<0.2.7,>=0.2.5, but you'll have imgaug 0.2.9 which is incompatible.\u001b[0m\n",
            "Installing collected packages: protobuf, tf-estimator-nightly, grpcio, numpy, tb-nightly, tf-nightly\n",
            "  Found existing installation: protobuf 3.12.4\n",
            "    Uninstalling protobuf-3.12.4:\n",
            "      Successfully uninstalled protobuf-3.12.4\n",
            "  Found existing installation: grpcio 1.33.2\n",
            "    Uninstalling grpcio-1.33.2:\n",
            "      Successfully uninstalled grpcio-1.33.2\n",
            "  Found existing installation: numpy 1.18.5\n",
            "    Uninstalling numpy-1.18.5:\n",
            "      Successfully uninstalled numpy-1.18.5\n",
            "Successfully installed grpcio-1.32.0 numpy-1.19.4 protobuf-3.13.0 tb-nightly-2.5.0a20201129 tf-estimator-nightly-2.4.0.dev2020102301 tf-nightly-2.5.0.dev20201129\n"
          ],
          "name": "stdout"
        },
        {
          "output_type": "display_data",
          "data": {
            "application/vnd.colab-display-data+json": {
              "pip_warning": {
                "packages": [
                  "google",
                  "numpy"
                ]
              }
            }
          },
          "metadata": {
            "tags": []
          }
        }
      ]
    },
    {
      "cell_type": "code",
      "metadata": {
        "id": "xNps9GlNUu5j"
      },
      "source": [
        "import tensorflow as tf\n",
        "from scipy.special import erf\n",
        "import numpy as np\n",
        "import time\n",
        "import math"
      ],
      "execution_count": 1,
      "outputs": []
    },
    {
      "cell_type": "code",
      "metadata": {
        "id": "6JJDNmCPU41B"
      },
      "source": [
        "class UnivariateBrownianBridge():\n",
        "  def __init__(self, number_time_steps):\n",
        "    self.number_time_steps = number_time_steps\n",
        "\n",
        "    self.left_index = np.zeros(number_time_steps, dtype=int)\n",
        "    self.right_index = np.zeros(number_time_steps, dtype=int)\n",
        "    self.bridge_index = np.zeros(number_time_steps, dtype=int)\n",
        "    self.left_weight = np.zeros(number_time_steps)\n",
        "    self.right_weight = np.zeros(number_time_steps)\n",
        "    self.std_dev = np.zeros(number_time_steps)\n",
        "\n",
        "    self._map = np.zeros(number_time_steps, dtype=int)\n",
        "\n",
        "    self._map[-1] = 1\n",
        "    self.bridge_index[0] = number_time_steps - 1\n",
        "    self.std_dev[0] = math.sqrt(1.0 * number_time_steps)\n",
        "    self.left_weight[0] = 0\n",
        "    self.right_weight[0] = 0\n",
        "\n",
        "    j=0\n",
        "    for i in range(1,number_time_steps):\n",
        "      while self._map[j] == True:\n",
        "        j = j + 1\n",
        "      k = j\n",
        "      while self._map[k] == False:\n",
        "        k = k + 1\n",
        "      l = j+((k-1-j)>>1)\n",
        "      self._map[l]=i\n",
        "      self.bridge_index[i]=l\n",
        "      self.left_index[i]=j\n",
        "      self.right_index[i]=k\n",
        "      self.left_weight[i]=(k-l)/(k+1-j)\n",
        "      self.right_weight[i]=(1+l-j)/(k+1-j)\n",
        "      self.std_dev[i]=np.sqrt(((1+l-j)*(k-l))/(k+1-j))\n",
        "      j=k+1\n",
        "      if j>=number_time_steps:\n",
        "        j=0\n",
        "\n",
        "    self.bridge_index_t = tf.constant(tf.convert_to_tensor(self.bridge_index,dtype=tf.int32))\n",
        "    self.right_index_t = tf.constant(tf.convert_to_tensor(self.right_index,dtype=tf.int32))\n",
        "    self.left_index_t = tf.constant(tf.convert_to_tensor(self.left_index,dtype=tf.int32))\n",
        "    self.std_dev_t = tf.constant(tf.convert_to_tensor(self.std_dev))\n",
        "    self.right_weight_t = tf.constant(tf.convert_to_tensor(self.right_weight))\n",
        "    self.left_weight_t = tf.constant(tf.convert_to_tensor(self.left_weight))\n",
        "\n",
        "  @tf.function(jit_compile=True, input_signature=(tf.TensorSpec(shape=(None,None), dtype=tf.float64),\n",
        "                                                tf.TensorSpec(shape=(), dtype=tf.int32),\n",
        "                                                tf.TensorSpec(shape=(None), dtype=tf.int32),\n",
        "                                                tf.TensorSpec(shape=(None), dtype=tf.int32),\n",
        "                                                tf.TensorSpec(shape=(None), dtype=tf.int32),\n",
        "                                                tf.TensorSpec(shape=(None), dtype=tf.float64),\n",
        "                                                tf.TensorSpec(shape=(None), dtype=tf.float64),\n",
        "                                                tf.TensorSpec(shape=(None), dtype=tf.float64)))\n",
        "  def buildPath(z, number_time_steps, left_index, right_index, bridge_index, left_weight, right_weight, std_dev):\n",
        "    path = tf.TensorArray(dtype=tf.float64,size=number_time_steps+1)\n",
        "    path = path.write(number_time_steps,std_dev[0]*z[0]);\n",
        "    path = path.write(0,0*z[0]);  \n",
        "    j = 0\n",
        "    k = 0\n",
        "    l = 0\n",
        "    i = 0\n",
        "    for i in range(1,number_time_steps):\n",
        "      j = left_index[i]\n",
        "      k = right_index[i]\n",
        "      l = bridge_index[i]\n",
        "      path = path.write(l+1,left_weight[i] * path.read(j) + right_weight[i] * path.read(k+1) + std_dev[i] * z[i])\n",
        "    return path.stack()\n",
        "\n",
        "  def path(self,z):\n",
        "    return UnivariateBrownianBridge.buildPath(z, self.number_time_steps, self.left_index_t, self.right_index_t, self.bridge_index_t, self.left_weight_t, self.right_weight_t, self.std_dev_t)"
      ],
      "execution_count": 2,
      "outputs": []
    },
    {
      "cell_type": "code",
      "metadata": {
        "colab": {
          "base_uri": "https://localhost:8080/"
        },
        "id": "T4aaEAgiVAvA",
        "outputId": "878221cf-1ae4-4c26-a680-27c0e9339591"
      },
      "source": [
        "#@title Pricing time a CPU. Note TensorFlow does automatic multithreading.\n",
        "dim =  4#@param {type:\"integer\"}\n",
        "number =  10#@param {type:\"integer\"}\n",
        "\n",
        "brownian = UnivariateBrownianBridge(dim)\n",
        "\n",
        "x = tf.math.sobol_sample(dim,number,dtype=tf.dtypes.float64)\n",
        "z = tf.transpose(tf.math.erf(x))\n",
        "\n",
        "brownian.path(z)"
      ],
      "execution_count": 3,
      "outputs": [
        {
          "output_type": "execute_result",
          "data": {
            "text/plain": [
              "<tf.Tensor: shape=(5, 10), dtype=float64, numpy=\n",
              "array([[0.        , 0.        , 0.        , 0.        , 0.        ,\n",
              "        0.        , 0.        , 0.        , 0.        , 0.        ],\n",
              "       [0.88854887, 0.68913328, 0.99660398, 0.84481476, 0.8832936 ,\n",
              "        0.93620334, 0.66753235, 0.85165759, 1.03729986, 0.91588149],\n",
              "       [1.04099976, 0.98748202, 0.98748202, 0.80823382, 1.56815012,\n",
              "        0.76355709, 0.76355709, 0.55058631, 1.41854869, 0.88553438],\n",
              "       [1.40904875, 1.40028891, 1.27293037, 1.36265861, 1.85390393,\n",
              "        1.44571728, 0.62131329, 0.81243635, 1.95472344, 1.40573812],\n",
              "       [1.04099976, 1.42231127, 0.55265278, 0.80823382, 1.56815012,\n",
              "        1.24648176, 0.28063241, 0.41823535, 1.33816933, 1.6302048 ]])>"
            ]
          },
          "metadata": {
            "tags": []
          },
          "execution_count": 3
        }
      ]
    },
    {
      "cell_type": "code",
      "metadata": {
        "colab": {
          "base_uri": "https://localhost:8080/"
        },
        "id": "R_7zunY3VQxR",
        "outputId": "7355c803-630d-4898-9490-77e038e715d7"
      },
      "source": [
        "#@title Pricing time a CPU. Note TensorFlow does automatic multithreading.\n",
        "dim =  128#@param {type:\"integer\"}\n",
        "number =  200000#@param {type:\"integer\"}\n",
        "\n",
        "brownian = UnivariateBrownianBridge(dim)\n",
        "\n",
        "time_start = time.time()\n",
        "with tf.device(\"/cpu:0\"):\n",
        "    x = tf.math.sobol_sample(dim,number,dtype=tf.dtypes.float64)\n",
        "    z = tf.transpose(tf.math.erf(x))\n",
        "    w = brownian.path(z)\n",
        "time_end = time.time()\n",
        "time_price_cpu = time_end - time_start\n",
        "print(\"Runtime on CPU: \", time_price_cpu)"
      ],
      "execution_count": 21,
      "outputs": [
        {
          "output_type": "stream",
          "text": [
            "Runtime on CPU:  0.43997859954833984\n"
          ],
          "name": "stdout"
        }
      ]
    },
    {
      "cell_type": "code",
      "metadata": {
        "colab": {
          "base_uri": "https://localhost:8080/"
        },
        "id": "Sam0C_QzVfCa",
        "outputId": "e8a0927f-cdc1-4e28-ae2b-600d014ffa0e"
      },
      "source": [
        "dim =  128#@param {type:\"integer\"}\n",
        "number =  200000#@param {type:\"integer\"}\n",
        "\n",
        "time_start = time.time()\n",
        "\n",
        "brownian = UnivariateBrownianBridge(dim)\n",
        "\n",
        "with tf.profiler.experimental.Profile(\"logs/brownian\"):\n",
        "  with tf.device('/cpu'):\n",
        "    x = tf.math.sobol_sample(dim,number,dtype=tf.dtypes.float64)\n",
        "    z = tf.transpose(tf.math.erf(x))\n",
        "    w = brownian.path(z)\n",
        "time_end = time.time()\n",
        "time_price_tpu = time_end - time_start\n",
        "print(\"Time on a CPU: \", time_price_tpu)    "
      ],
      "execution_count": 15,
      "outputs": [
        {
          "output_type": "stream",
          "text": [
            "Time on a CPU:  0.6087753772735596\n"
          ],
          "name": "stdout"
        }
      ]
    },
    {
      "cell_type": "code",
      "metadata": {
        "colab": {
          "base_uri": "https://localhost:8080/"
        },
        "id": "R4HtxqRxV6sw",
        "outputId": "2070cd59-afcd-4668-b8cb-dd97275760ed"
      },
      "source": [
        "!pip install -U tensorboard_plugin_profile"
      ],
      "execution_count": 16,
      "outputs": [
        {
          "output_type": "stream",
          "text": [
            "Collecting tensorboard_plugin_profile\n",
            "\u001b[?25l  Downloading https://files.pythonhosted.org/packages/20/03/f4360c57a78c78fad63823b0abe65e589e98ec40ce9e41c549d46efcba75/tensorboard_plugin_profile-2.3.0-py3-none-any.whl (1.1MB)\n",
            "\r\u001b[K     |▎                               | 10kB 15.3MB/s eta 0:00:01\r\u001b[K     |▋                               | 20kB 20.1MB/s eta 0:00:01\r\u001b[K     |▉                               | 30kB 14.9MB/s eta 0:00:01\r\u001b[K     |█▏                              | 40kB 15.3MB/s eta 0:00:01\r\u001b[K     |█▌                              | 51kB 14.4MB/s eta 0:00:01\r\u001b[K     |█▊                              | 61kB 16.3MB/s eta 0:00:01\r\u001b[K     |██                              | 71kB 11.3MB/s eta 0:00:01\r\u001b[K     |██▎                             | 81kB 12.3MB/s eta 0:00:01\r\u001b[K     |██▋                             | 92kB 11.5MB/s eta 0:00:01\r\u001b[K     |███                             | 102kB 11.6MB/s eta 0:00:01\r\u001b[K     |███▏                            | 112kB 11.6MB/s eta 0:00:01\r\u001b[K     |███▌                            | 122kB 11.6MB/s eta 0:00:01\r\u001b[K     |███▊                            | 133kB 11.6MB/s eta 0:00:01\r\u001b[K     |████                            | 143kB 11.6MB/s eta 0:00:01\r\u001b[K     |████▍                           | 153kB 11.6MB/s eta 0:00:01\r\u001b[K     |████▋                           | 163kB 11.6MB/s eta 0:00:01\r\u001b[K     |█████                           | 174kB 11.6MB/s eta 0:00:01\r\u001b[K     |█████▏                          | 184kB 11.6MB/s eta 0:00:01\r\u001b[K     |█████▌                          | 194kB 11.6MB/s eta 0:00:01\r\u001b[K     |█████▉                          | 204kB 11.6MB/s eta 0:00:01\r\u001b[K     |██████                          | 215kB 11.6MB/s eta 0:00:01\r\u001b[K     |██████▍                         | 225kB 11.6MB/s eta 0:00:01\r\u001b[K     |██████▊                         | 235kB 11.6MB/s eta 0:00:01\r\u001b[K     |███████                         | 245kB 11.6MB/s eta 0:00:01\r\u001b[K     |███████▎                        | 256kB 11.6MB/s eta 0:00:01\r\u001b[K     |███████▌                        | 266kB 11.6MB/s eta 0:00:01\r\u001b[K     |███████▉                        | 276kB 11.6MB/s eta 0:00:01\r\u001b[K     |████████▏                       | 286kB 11.6MB/s eta 0:00:01\r\u001b[K     |████████▍                       | 296kB 11.6MB/s eta 0:00:01\r\u001b[K     |████████▊                       | 307kB 11.6MB/s eta 0:00:01\r\u001b[K     |█████████                       | 317kB 11.6MB/s eta 0:00:01\r\u001b[K     |█████████▎                      | 327kB 11.6MB/s eta 0:00:01\r\u001b[K     |█████████▋                      | 337kB 11.6MB/s eta 0:00:01\r\u001b[K     |█████████▉                      | 348kB 11.6MB/s eta 0:00:01\r\u001b[K     |██████████▏                     | 358kB 11.6MB/s eta 0:00:01\r\u001b[K     |██████████▍                     | 368kB 11.6MB/s eta 0:00:01\r\u001b[K     |██████████▊                     | 378kB 11.6MB/s eta 0:00:01\r\u001b[K     |███████████                     | 389kB 11.6MB/s eta 0:00:01\r\u001b[K     |███████████▎                    | 399kB 11.6MB/s eta 0:00:01\r\u001b[K     |███████████▋                    | 409kB 11.6MB/s eta 0:00:01\r\u001b[K     |███████████▉                    | 419kB 11.6MB/s eta 0:00:01\r\u001b[K     |████████████▏                   | 430kB 11.6MB/s eta 0:00:01\r\u001b[K     |████████████▌                   | 440kB 11.6MB/s eta 0:00:01\r\u001b[K     |████████████▊                   | 450kB 11.6MB/s eta 0:00:01\r\u001b[K     |█████████████                   | 460kB 11.6MB/s eta 0:00:01\r\u001b[K     |█████████████▍                  | 471kB 11.6MB/s eta 0:00:01\r\u001b[K     |█████████████▋                  | 481kB 11.6MB/s eta 0:00:01\r\u001b[K     |██████████████                  | 491kB 11.6MB/s eta 0:00:01\r\u001b[K     |██████████████▏                 | 501kB 11.6MB/s eta 0:00:01\r\u001b[K     |██████████████▌                 | 512kB 11.6MB/s eta 0:00:01\r\u001b[K     |██████████████▉                 | 522kB 11.6MB/s eta 0:00:01\r\u001b[K     |███████████████                 | 532kB 11.6MB/s eta 0:00:01\r\u001b[K     |███████████████▍                | 542kB 11.6MB/s eta 0:00:01\r\u001b[K     |███████████████▋                | 552kB 11.6MB/s eta 0:00:01\r\u001b[K     |████████████████                | 563kB 11.6MB/s eta 0:00:01\r\u001b[K     |████████████████▎               | 573kB 11.6MB/s eta 0:00:01\r\u001b[K     |████████████████▌               | 583kB 11.6MB/s eta 0:00:01\r\u001b[K     |████████████████▉               | 593kB 11.6MB/s eta 0:00:01\r\u001b[K     |█████████████████               | 604kB 11.6MB/s eta 0:00:01\r\u001b[K     |█████████████████▍              | 614kB 11.6MB/s eta 0:00:01\r\u001b[K     |█████████████████▊              | 624kB 11.6MB/s eta 0:00:01\r\u001b[K     |██████████████████              | 634kB 11.6MB/s eta 0:00:01\r\u001b[K     |██████████████████▎             | 645kB 11.6MB/s eta 0:00:01\r\u001b[K     |██████████████████▌             | 655kB 11.6MB/s eta 0:00:01\r\u001b[K     |██████████████████▉             | 665kB 11.6MB/s eta 0:00:01\r\u001b[K     |███████████████████▏            | 675kB 11.6MB/s eta 0:00:01\r\u001b[K     |███████████████████▍            | 686kB 11.6MB/s eta 0:00:01\r\u001b[K     |███████████████████▊            | 696kB 11.6MB/s eta 0:00:01\r\u001b[K     |████████████████████            | 706kB 11.6MB/s eta 0:00:01\r\u001b[K     |████████████████████▎           | 716kB 11.6MB/s eta 0:00:01\r\u001b[K     |████████████████████▋           | 727kB 11.6MB/s eta 0:00:01\r\u001b[K     |████████████████████▉           | 737kB 11.6MB/s eta 0:00:01\r\u001b[K     |█████████████████████▏          | 747kB 11.6MB/s eta 0:00:01\r\u001b[K     |█████████████████████▌          | 757kB 11.6MB/s eta 0:00:01\r\u001b[K     |█████████████████████▊          | 768kB 11.6MB/s eta 0:00:01\r\u001b[K     |██████████████████████          | 778kB 11.6MB/s eta 0:00:01\r\u001b[K     |██████████████████████▎         | 788kB 11.6MB/s eta 0:00:01\r\u001b[K     |██████████████████████▋         | 798kB 11.6MB/s eta 0:00:01\r\u001b[K     |███████████████████████         | 808kB 11.6MB/s eta 0:00:01\r\u001b[K     |███████████████████████▏        | 819kB 11.6MB/s eta 0:00:01\r\u001b[K     |███████████████████████▌        | 829kB 11.6MB/s eta 0:00:01\r\u001b[K     |███████████████████████▊        | 839kB 11.6MB/s eta 0:00:01\r\u001b[K     |████████████████████████        | 849kB 11.6MB/s eta 0:00:01\r\u001b[K     |████████████████████████▍       | 860kB 11.6MB/s eta 0:00:01\r\u001b[K     |████████████████████████▋       | 870kB 11.6MB/s eta 0:00:01\r\u001b[K     |█████████████████████████       | 880kB 11.6MB/s eta 0:00:01\r\u001b[K     |█████████████████████████▎      | 890kB 11.6MB/s eta 0:00:01\r\u001b[K     |█████████████████████████▌      | 901kB 11.6MB/s eta 0:00:01\r\u001b[K     |█████████████████████████▉      | 911kB 11.6MB/s eta 0:00:01\r\u001b[K     |██████████████████████████      | 921kB 11.6MB/s eta 0:00:01\r\u001b[K     |██████████████████████████▍     | 931kB 11.6MB/s eta 0:00:01\r\u001b[K     |██████████████████████████▊     | 942kB 11.6MB/s eta 0:00:01\r\u001b[K     |███████████████████████████     | 952kB 11.6MB/s eta 0:00:01\r\u001b[K     |███████████████████████████▎    | 962kB 11.6MB/s eta 0:00:01\r\u001b[K     |███████████████████████████▌    | 972kB 11.6MB/s eta 0:00:01\r\u001b[K     |███████████████████████████▉    | 983kB 11.6MB/s eta 0:00:01\r\u001b[K     |████████████████████████████▏   | 993kB 11.6MB/s eta 0:00:01\r\u001b[K     |████████████████████████████▍   | 1.0MB 11.6MB/s eta 0:00:01\r\u001b[K     |████████████████████████████▊   | 1.0MB 11.6MB/s eta 0:00:01\r\u001b[K     |█████████████████████████████   | 1.0MB 11.6MB/s eta 0:00:01\r\u001b[K     |█████████████████████████████▎  | 1.0MB 11.6MB/s eta 0:00:01\r\u001b[K     |█████████████████████████████▋  | 1.0MB 11.6MB/s eta 0:00:01\r\u001b[K     |█████████████████████████████▉  | 1.1MB 11.6MB/s eta 0:00:01\r\u001b[K     |██████████████████████████████▏ | 1.1MB 11.6MB/s eta 0:00:01\r\u001b[K     |██████████████████████████████▍ | 1.1MB 11.6MB/s eta 0:00:01\r\u001b[K     |██████████████████████████████▊ | 1.1MB 11.6MB/s eta 0:00:01\r\u001b[K     |███████████████████████████████ | 1.1MB 11.6MB/s eta 0:00:01\r\u001b[K     |███████████████████████████████▎| 1.1MB 11.6MB/s eta 0:00:01\r\u001b[K     |███████████████████████████████▋| 1.1MB 11.6MB/s eta 0:00:01\r\u001b[K     |████████████████████████████████| 1.1MB 11.6MB/s eta 0:00:01\r\u001b[K     |████████████████████████████████| 1.1MB 11.6MB/s \n",
            "\u001b[?25hRequirement already satisfied, skipping upgrade: werkzeug>=0.11.15 in /usr/local/lib/python3.6/dist-packages (from tensorboard_plugin_profile) (1.0.1)\n",
            "Requirement already satisfied, skipping upgrade: setuptools>=41.0.0 in /usr/local/lib/python3.6/dist-packages (from tensorboard_plugin_profile) (50.3.2)\n",
            "Collecting gviz-api>=1.9.0\n",
            "  Downloading https://files.pythonhosted.org/packages/8c/8f/c6f16235a16b3dc4efdcf34dbc93b3b6f678b88176dbd6a36c75d678888f/gviz_api-1.9.0-py2.py3-none-any.whl\n",
            "Requirement already satisfied, skipping upgrade: protobuf>=3.6.0 in /usr/local/lib/python3.6/dist-packages (from tensorboard_plugin_profile) (3.13.0)\n",
            "Requirement already satisfied, skipping upgrade: six>=1.10.0 in /usr/local/lib/python3.6/dist-packages (from tensorboard_plugin_profile) (1.15.0)\n",
            "Installing collected packages: gviz-api, tensorboard-plugin-profile\n",
            "Successfully installed gviz-api-1.9.0 tensorboard-plugin-profile-2.3.0\n"
          ],
          "name": "stdout"
        }
      ]
    },
    {
      "cell_type": "code",
      "metadata": {
        "id": "3CT12DkeV_ho"
      },
      "source": [
        "%load_ext tensorboard"
      ],
      "execution_count": 17,
      "outputs": []
    },
    {
      "cell_type": "code",
      "metadata": {
        "id": "N8StV8OmWEAv"
      },
      "source": [
        ""
      ],
      "execution_count": null,
      "outputs": []
    }
  ]
}