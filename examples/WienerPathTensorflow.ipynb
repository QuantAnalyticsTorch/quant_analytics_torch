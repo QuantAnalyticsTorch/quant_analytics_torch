{
 "cells": [
  {
   "cell_type": "markdown",
   "metadata": {
    "colab_type": "text",
    "id": "view-in-github"
   },
   "source": [
    "<a href=\"https://colab.research.google.com/github/QuantAnalyticsTorch/quant_analytics_torch/blob/main/examples/WienerPathTensorflow.ipynb\" target=\"_parent\"><img src=\"https://colab.research.google.com/assets/colab-badge.svg\" alt=\"Open In Colab\"/></a>"
   ]
  },
  {
   "cell_type": "code",
   "execution_count": 64,
   "metadata": {
    "colab": {
     "base_uri": "https://localhost:8080/",
     "height": 1000
    },
    "id": "aODkEPWbUohc",
    "outputId": "eb635654-d0ef-4ba7-ea30-f483ecd83138"
   },
   "outputs": [],
   "source": [
    "#@title Upgrade to TensorFlow nightly\n",
    "#!pip install --upgrade tf-nightly-cpu"
   ]
  },
  {
   "cell_type": "code",
   "execution_count": 63,
   "metadata": {},
   "outputs": [
    {
     "name": "stdout",
     "output_type": "stream",
     "text": [
      "Python version\n",
      "3.7.3 (v3.7.3:ef4ec6ed12, Mar 25 2019, 22:22:05) [MSC v.1916 64 bit (AMD64)]\n",
      "Version info.\n",
      "sys.version_info(major=3, minor=7, micro=3, releaselevel='final', serial=0)\n"
     ]
    }
   ],
   "source": [
    "import sys\n",
    "print(\"Python version\")\n",
    "print (sys.version)\n",
    "print(\"Version info.\")\n",
    "print (sys.version_info)"
   ]
  },
  {
   "cell_type": "code",
   "execution_count": 1,
   "metadata": {
    "id": "xNps9GlNUu5j"
   },
   "outputs": [
    {
     "name": "stderr",
     "output_type": "stream",
     "text": [
      "WARNING:root:Limited tf.compat.v2.summary API due to missing TensorBoard installation.\n",
      "WARNING:root:Limited tf.compat.v2.summary API due to missing TensorBoard installation.\n",
      "WARNING:root:Limited tf.compat.v2.summary API due to missing TensorBoard installation.\n",
      "WARNING:root:Limited tf.summary API due to missing TensorBoard installation.\n"
     ]
    }
   ],
   "source": [
    "import tensorflow as tf\n",
    "from scipy.special import erf\n",
    "import numpy as np\n",
    "import time\n",
    "import math"
   ]
  },
  {
   "cell_type": "code",
   "execution_count": 2,
   "metadata": {},
   "outputs": [],
   "source": [
    "SQRT_2 = tf.sqrt(tf.constant(2.,dtype=tf.float64))\n",
    "\n",
    "def norminv(x):\n",
    "    return SQRT_2*tf.math.erfinv(2*(x-0.5))"
   ]
  },
  {
   "cell_type": "code",
   "execution_count": 3,
   "metadata": {
    "id": "6JJDNmCPU41B"
   },
   "outputs": [],
   "source": [
    "class UnivariateBrownianBridge():\n",
    "  def __init__(self, number_time_steps):\n",
    "    self.number_time_steps = number_time_steps\n",
    "\n",
    "    self.left_index = np.zeros(number_time_steps, dtype=int)\n",
    "    self.right_index = np.zeros(number_time_steps, dtype=int)\n",
    "    self.bridge_index = np.zeros(number_time_steps, dtype=int)\n",
    "    self.left_weight = np.zeros(number_time_steps)\n",
    "    self.right_weight = np.zeros(number_time_steps)\n",
    "    self.std_dev = np.zeros(number_time_steps)\n",
    "\n",
    "    self._map = np.zeros(number_time_steps, dtype=int)\n",
    "\n",
    "    self._map[-1] = 1\n",
    "    self.bridge_index[0] = number_time_steps - 1\n",
    "    self.std_dev[0] = math.sqrt(1.0 * number_time_steps)\n",
    "    self.left_weight[0] = 0\n",
    "    self.right_weight[0] = 0\n",
    "\n",
    "    j=0\n",
    "    for i in range(1,number_time_steps):\n",
    "      while self._map[j] == True:\n",
    "        j = j + 1\n",
    "      k = j\n",
    "      while self._map[k] == False:\n",
    "        k = k + 1\n",
    "      l = j+((k-1-j)>>1)\n",
    "      self._map[l]=i\n",
    "      self.bridge_index[i]=l\n",
    "      self.left_index[i]=j\n",
    "      self.right_index[i]=k\n",
    "      self.left_weight[i]=(k-l)/(k+1-j)\n",
    "      self.right_weight[i]=(1+l-j)/(k+1-j)\n",
    "      self.std_dev[i]=np.sqrt(((1+l-j)*(k-l))/(k+1-j))\n",
    "      j=k+1\n",
    "      if j>=number_time_steps:\n",
    "        j=0\n",
    "\n",
    "    self.bridge_index_t = tf.constant(tf.convert_to_tensor(self.bridge_index,dtype=tf.int32))\n",
    "    self.right_index_t = tf.constant(tf.convert_to_tensor(self.right_index,dtype=tf.int32))\n",
    "    self.left_index_t = tf.constant(tf.convert_to_tensor(self.left_index,dtype=tf.int32))\n",
    "    self.std_dev_t = tf.constant(tf.convert_to_tensor(self.std_dev))\n",
    "    self.right_weight_t = tf.constant(tf.convert_to_tensor(self.right_weight))\n",
    "    self.left_weight_t = tf.constant(tf.convert_to_tensor(self.left_weight))\n",
    "\n",
    "  @tf.function(jit_compile=True, input_signature=(tf.TensorSpec(shape=(None,None,None), dtype=tf.float64),\n",
    "                                                tf.TensorSpec(shape=(), dtype=tf.bool),\n",
    "                                                tf.TensorSpec(shape=(), dtype=tf.int32),\n",
    "                                                tf.TensorSpec(shape=(None), dtype=tf.int32),\n",
    "                                                tf.TensorSpec(shape=(None), dtype=tf.int32),\n",
    "                                                tf.TensorSpec(shape=(None), dtype=tf.int32),\n",
    "                                                tf.TensorSpec(shape=(None), dtype=tf.float64),\n",
    "                                                tf.TensorSpec(shape=(None), dtype=tf.float64),\n",
    "                                                tf.TensorSpec(shape=(None), dtype=tf.float64)))\n",
    "  def buildPath(z, increment, number_time_steps, left_index, right_index, bridge_index, left_weight, right_weight, std_dev):\n",
    "    path = tf.TensorArray(dtype=tf.float64,size=number_time_steps+1)\n",
    "    path = path.write(number_time_steps,std_dev[0]*z[0])\n",
    "    path = path.write(0,0*z[0]);  \n",
    "    j = 0\n",
    "    k = 0\n",
    "    l = 0\n",
    "    i = 0\n",
    "    for i in range(1,number_time_steps):\n",
    "      j = left_index[i]\n",
    "      k = right_index[i]\n",
    "      l = bridge_index[i]\n",
    "      path = path.write(l+1,left_weight[i] * path.read(j) + right_weight[i] * path.read(k+1) + std_dev[i] * z[i])\n",
    "\n",
    "    if increment:\n",
    "      for i in range(0,number_time_steps):\n",
    "        path = path.write(i, path.read(i+1) - path.read(i))\n",
    "\n",
    "    return path.stack()\n",
    "\n",
    "  def path(self,z,increment):\n",
    "    return UnivariateBrownianBridge.buildPath(z, increment, self.number_time_steps, self.left_index_t, self.right_index_t, self.bridge_index_t, self.left_weight_t, self.right_weight_t, self.std_dev_t)"
   ]
  },
  {
   "cell_type": "code",
   "execution_count": 4,
   "metadata": {
    "colab": {
     "base_uri": "https://localhost:8080/"
    },
    "id": "T4aaEAgiVAvA",
    "outputId": "878221cf-1ae4-4c26-a680-27c0e9339591"
   },
   "outputs": [
    {
     "name": "stdout",
     "output_type": "stream",
     "text": [
      "tf.Tensor(\n",
      "[[[ 0.          0.67448975 -0.67448975 -0.31863936  1.15034938\n",
      "    0.31863936 -1.15034938]]\n",
      "\n",
      " [[ 0.         -0.67448975  0.67448975 -0.31863936  1.15034938\n",
      "   -1.15034938  0.31863936]]], shape=(2, 1, 7), dtype=float64)\n",
      "tf.Tensor(\n",
      "[[[ 0.00000000e+00  0.00000000e+00 -0.00000000e+00 -0.00000000e+00\n",
      "    0.00000000e+00  0.00000000e+00 -0.00000000e+00]]\n",
      "\n",
      " [[ 0.00000000e+00 -2.44760480e-17  2.44760480e-17 -4.50624110e-01\n",
      "    1.62683970e+00 -5.88107793e-01 -5.88107793e-01]]\n",
      "\n",
      " [[ 0.00000000e+00  9.53872552e-01 -9.53872552e-01 -4.50624110e-01\n",
      "    1.62683970e+00  4.50624110e-01 -1.62683970e+00]]], shape=(3, 1, 7), dtype=float64)\n",
      "tf.Tensor(\n",
      "[[[ 0.00000000e+00 -2.44760480e-17  2.44760480e-17 -4.50624110e-01\n",
      "    1.62683970e+00 -5.88107793e-01 -5.88107793e-01]]\n",
      "\n",
      " [[ 0.00000000e+00  9.53872552e-01 -9.53872552e-01  0.00000000e+00\n",
      "    0.00000000e+00  1.03873190e+00 -1.03873190e+00]]\n",
      "\n",
      " [[ 0.00000000e+00  9.53872552e-01 -9.53872552e-01 -4.50624110e-01\n",
      "    1.62683970e+00  4.50624110e-01 -1.62683970e+00]]], shape=(3, 1, 7), dtype=float64)\n"
     ]
    }
   ],
   "source": [
    "#@title Pricing time a CPU. Note TensorFlow does automatic multithreading.\n",
    "dim =  2#@param {type:\"integer\"}\n",
    "number =  7#@param {type:\"integer\"}\n",
    "\n",
    "brownian = UnivariateBrownianBridge(dim)\n",
    "\n",
    "x = tf.math.sobol_sample(dim,number,dtype=tf.dtypes.float64)\n",
    "x = tf.transpose(x)\n",
    "y = tf.reshape(x, shape=(dim,1,number))\n",
    "z = norminv(y)\n",
    "\n",
    "print(z)\n",
    "print(brownian.path(z, False))\n",
    "print(brownian.path(z, True))"
   ]
  },
  {
   "cell_type": "code",
   "execution_count": 5,
   "metadata": {
    "colab": {
     "base_uri": "https://localhost:8080/"
    },
    "id": "R_7zunY3VQxR",
    "outputId": "7355c803-630d-4898-9490-77e038e715d7"
   },
   "outputs": [
    {
     "name": "stdout",
     "output_type": "stream",
     "text": [
      "Runtime on CPU:  0.6260528564453125\n"
     ]
    }
   ],
   "source": [
    "#@title Pricing time a CPU. Note TensorFlow does automatic multithreading.\n",
    "dim =  128#@param {type:\"integer\"}\n",
    "number =  200000#@param {type:\"integer\"}\n",
    "\n",
    "brownian = UnivariateBrownianBridge(dim)\n",
    "\n",
    "time_start = time.time()\n",
    "with tf.device(\"/cpu:0\"):\n",
    "    x = tf.math.sobol_sample(dim,number,dtype=tf.dtypes.float64)\n",
    "    x = tf.transpose(x)\n",
    "    y = tf.reshape(x, shape=(dim,1,number))\n",
    "    z = norminv(y)\n",
    "    w = brownian.path(z, True)\n",
    "time_end = time.time()\n",
    "time_price_cpu = time_end - time_start\n",
    "print(\"Runtime on CPU: \", time_price_cpu)"
   ]
  },
  {
   "cell_type": "code",
   "execution_count": 7,
   "metadata": {
    "colab": {
     "base_uri": "https://localhost:8080/"
    },
    "id": "Sam0C_QzVfCa",
    "outputId": "e8a0927f-cdc1-4e28-ae2b-600d014ffa0e"
   },
   "outputs": [
    {
     "name": "stdout",
     "output_type": "stream",
     "text": [
      "Time on a CPU:  0.6009738445281982\n"
     ]
    }
   ],
   "source": [
    "dim =  128#@param {type:\"integer\"}\n",
    "number =  200000#@param {type:\"integer\"}\n",
    "\n",
    "time_start = time.time()\n",
    "\n",
    "brownian = UnivariateBrownianBridge(dim)\n",
    "\n",
    "with tf.profiler.experimental.Profile(\"logs/brownian\"):\n",
    "  with tf.device('/cpu'):\n",
    "    x = tf.math.sobol_sample(dim,number,dtype=tf.dtypes.float64)\n",
    "    x = tf.transpose(x)\n",
    "    y = tf.reshape(x, shape=(dim,1,number))\n",
    "    z = norminv(y)\n",
    "   \n",
    "    w = brownian.path(z, True)\n",
    "time_end = time.time()\n",
    "time_price_tpu = time_end - time_start\n",
    "print(\"Time on a CPU: \", time_price_tpu)    "
   ]
  },
  {
   "cell_type": "code",
   "execution_count": 70,
   "metadata": {
    "colab": {
     "base_uri": "https://localhost:8080/"
    },
    "id": "R4HtxqRxV6sw",
    "outputId": "2070cd59-afcd-4668-b8cb-dd97275760ed"
   },
   "outputs": [],
   "source": [
    "#!pip install -U tensorboard_plugin_profile"
   ]
  },
  {
   "cell_type": "code",
   "execution_count": 71,
   "metadata": {
    "id": "3CT12DkeV_ho"
   },
   "outputs": [],
   "source": [
    "%load_ext tensorboard"
   ]
  },
  {
   "cell_type": "code",
   "execution_count": 72,
   "metadata": {},
   "outputs": [],
   "source": [
    "S = 1\n",
    "K = 1\n",
    "sigma = 0.2\n",
    "sdt = np.sqrt(1./dim)\n",
    "\n",
    "p = tf.TensorArray(dtype=tf.float64,size=1)\n",
    "p = p.write(0,S*tf.ones(shape=(number),dtype=tf.float64));  "
   ]
  },
  {
   "cell_type": "code",
   "execution_count": 73,
   "metadata": {},
   "outputs": [],
   "source": [
    "brownian = UnivariateBrownianBridge(dim)\n",
    "\n",
    "x = tf.math.sobol_sample(dim,number,dtype=tf.dtypes.float64)\n",
    "x = tf.transpose(x)\n",
    "y = tf.reshape(x, shape=(dim,1,number))\n",
    "z = norminv(y)\n",
    "w = brownian.path(z, True)"
   ]
  },
  {
   "cell_type": "code",
   "execution_count": 74,
   "metadata": {},
   "outputs": [],
   "source": [
    "for i in range(dim):\n",
    "    p = p.write(0, p.read(0) * (1. + sigma * sdt * w[i,0]))"
   ]
  },
  {
   "cell_type": "code",
   "execution_count": 75,
   "metadata": {},
   "outputs": [],
   "source": [
    "x = p.read(0)"
   ]
  },
  {
   "cell_type": "code",
   "execution_count": 76,
   "metadata": {},
   "outputs": [
    {
     "data": {
      "text/plain": [
       "<tf.Tensor: shape=(), dtype=float64, numpy=0.07965782234994821>"
      ]
     },
     "execution_count": 76,
     "metadata": {},
     "output_type": "execute_result"
    }
   ],
   "source": [
    "tf.math.reduce_mean(tf.math.maximum(x-1,0))"
   ]
  },
  {
   "cell_type": "code",
   "execution_count": 77,
   "metadata": {},
   "outputs": [],
   "source": [
    "w = brownian.path(z, False)"
   ]
  },
  {
   "cell_type": "code",
   "execution_count": 78,
   "metadata": {},
   "outputs": [
    {
     "data": {
      "text/plain": [
       "<tf.Tensor: shape=(1, 200000), dtype=float64, numpy=\n",
       "array([[  0.        ,  10.791836  , -10.791836  , ...,   0.91186941,\n",
       "        -32.00770287, -29.96743016]])>"
      ]
     },
     "execution_count": 78,
     "metadata": {},
     "output_type": "execute_result"
    }
   ],
   "source": [
    "w[-1]"
   ]
  },
  {
   "cell_type": "code",
   "execution_count": 79,
   "metadata": {},
   "outputs": [],
   "source": [
    "def square_root_symmetric_matrix(A):\n",
    "    w, v = tf.linalg.eigh(A)\n",
    "    return tf.matmul(tf.matmul(v, tf.linalg.diag(tf.sqrt(w))),v)"
   ]
  },
  {
   "cell_type": "code",
   "execution_count": 138,
   "metadata": {},
   "outputs": [],
   "source": [
    "class MultivariateBrownianBridge():\n",
    "    def __init__(self, forwardCovarianceMatrices):\n",
    "        self.forwardCovarianceMatrices = forwardCovarianceMatrices\n",
    "        self.numberTimeSteps = len(forwardCovarianceMatrices)\n",
    "        self.numberStates = len(forwardCovarianceMatrices[0])\n",
    "        self.brownian = UnivariateBrownianBridge(self.numberTimeSteps)\n",
    "\n",
    "        self.sqrtForwardCovarianceMatrices = tf.TensorArray(dtype=tf.float64, size=self.numberTimeSteps, clear_after_read=False)\n",
    "        for i in range(self.numberTimeSteps):\n",
    "            self.sqrtForwardCovarianceMatrices = self.sqrtForwardCovarianceMatrices.write(i, square_root_symmetric_matrix(self.forwardCovarianceMatrices[i]))\n",
    "\n",
    "    def path(self, number):\n",
    "        x = tf.math.sobol_sample(self.numberTimeSteps*self.numberStates,number,dtype=tf.dtypes.float64)\n",
    "        x = tf.transpose(x)\n",
    "        y = tf.reshape(x, shape=(self.numberTimeSteps,self.numberStates,number))\n",
    "        z = norminv(y)\n",
    "\n",
    "        w = self.brownian.path(z, True)\n",
    "        \n",
    "        path = tf.TensorArray(dtype=tf.float64,size=self.numberTimeSteps,clear_after_read=False)\n",
    "        for i in range(len(z)):\n",
    "            path = path.write(i,tf.matmul(self.sqrtForwardCovarianceMatrices.read(i), w[i]))\n",
    "\n",
    "        return path.stack()"
   ]
  },
  {
   "cell_type": "code",
   "execution_count": 139,
   "metadata": {},
   "outputs": [],
   "source": [
    "fwdCov = tf.ones(shape=(4,1,1), dtype=tf.float64)\n",
    "multivariate_bridge = MultivariateBrownianBridge(fwdCov)"
   ]
  },
  {
   "cell_type": "code",
   "execution_count": 141,
   "metadata": {},
   "outputs": [
    {
     "data": {
      "text/plain": [
       "<tf.Tensor: shape=(4, 1, 7), dtype=float64, numpy=\n",
       "array([[[ 0.        , -0.47693628,  0.47693628, -0.09332731,\n",
       "          0.33692953,  0.39756484, -0.64116706]],\n",
       "\n",
       "       [[ 0.        ,  0.47693628, -0.47693628, -0.54395142,\n",
       "          1.96376923, -1.22927486, -0.19054295]],\n",
       "\n",
       "       [[ 0.        ,  0.19755347, -0.19755347,  0.81341985,\n",
       "         -0.22531206,  0.95980643, -1.54791422]],\n",
       "\n",
       "       [[ 0.        ,  1.15142603, -1.15142603, -0.81341985,\n",
       "          0.22531206,  0.50918232,  0.07892548]]])>"
      ]
     },
     "execution_count": 141,
     "metadata": {},
     "output_type": "execute_result"
    }
   ],
   "source": [
    "multivariate_bridge.path(7)"
   ]
  },
  {
   "cell_type": "code",
   "execution_count": 83,
   "metadata": {},
   "outputs": [],
   "source": [
    "fm = tf.constant([[1.,0.5],[0.5,1.]], dtype=tf.float64)\n",
    "\n",
    "e,v = tf.linalg.eigh(fm)"
   ]
  },
  {
   "cell_type": "code",
   "execution_count": 84,
   "metadata": {},
   "outputs": [
    {
     "data": {
      "text/plain": [
       "<tf.Tensor: shape=(2,), dtype=float64, numpy=array([0.70710678, 1.22474487])>"
      ]
     },
     "execution_count": 84,
     "metadata": {},
     "output_type": "execute_result"
    }
   ],
   "source": [
    "tf.sqrt(e)"
   ]
  },
  {
   "cell_type": "code",
   "execution_count": 85,
   "metadata": {},
   "outputs": [
    {
     "data": {
      "text/plain": [
       "<tf.Tensor: shape=(2, 2), dtype=float64, numpy=\n",
       "array([[0.70710678, 0.        ],\n",
       "       [0.        , 1.22474487]])>"
      ]
     },
     "execution_count": 85,
     "metadata": {},
     "output_type": "execute_result"
    }
   ],
   "source": [
    "tf.linalg.diag(tf.sqrt(e))"
   ]
  },
  {
   "cell_type": "code",
   "execution_count": 86,
   "metadata": {},
   "outputs": [
    {
     "data": {
      "text/plain": [
       "<tf.Tensor: shape=(2,), dtype=float64, numpy=array([0.5, 1.5])>"
      ]
     },
     "execution_count": 86,
     "metadata": {},
     "output_type": "execute_result"
    }
   ],
   "source": [
    "e"
   ]
  },
  {
   "cell_type": "code",
   "execution_count": 87,
   "metadata": {},
   "outputs": [
    {
     "data": {
      "text/plain": [
       "<tf.Tensor: shape=(2, 2), dtype=float64, numpy=\n",
       "array([[-0.70710678,  0.70710678],\n",
       "       [ 0.70710678,  0.70710678]])>"
      ]
     },
     "execution_count": 87,
     "metadata": {},
     "output_type": "execute_result"
    }
   ],
   "source": [
    "v"
   ]
  },
  {
   "cell_type": "code",
   "execution_count": 88,
   "metadata": {},
   "outputs": [],
   "source": [
    "    #return torch.mm(torch.mm(v, torch.diag(torch.sqrt(w[:]))), v.t())"
   ]
  },
  {
   "cell_type": "code",
   "execution_count": 89,
   "metadata": {},
   "outputs": [],
   "source": [
    "tms = square_root_symmetric_matrix(fm)"
   ]
  },
  {
   "cell_type": "code",
   "execution_count": 90,
   "metadata": {},
   "outputs": [
    {
     "data": {
      "text/plain": [
       "<tf.Tensor: shape=(2, 2), dtype=float64, numpy=\n",
       "array([[1. , 0.5],\n",
       "       [0.5, 1. ]])>"
      ]
     },
     "execution_count": 90,
     "metadata": {},
     "output_type": "execute_result"
    }
   ],
   "source": [
    "tf.matmul(tms,tms)"
   ]
  },
  {
   "cell_type": "code",
   "execution_count": 91,
   "metadata": {},
   "outputs": [
    {
     "name": "stdout",
     "output_type": "stream",
     "text": [
      "Runtime on CPU:  0.714928150177002\n"
     ]
    }
   ],
   "source": [
    "#@title Pricing time a CPU. Note TensorFlow does automatic multithreading.\n",
    "times =  128#@param {type:\"integer\"}\n",
    "states = 2\n",
    "number =  2**16-1#@param {type:\"integer\"}\n",
    "\n",
    "fwdCov = tf.ones(shape=(times,states,states), dtype=tf.float64)\n",
    "multivariate_bridge = MultivariateBrownianBridge(fwdCov)\n",
    "\n",
    "time_start = time.time()\n",
    "with tf.device(\"/cpu:0\"):\n",
    "    w = multivariate_bridge.path(number)\n",
    "time_end = time.time()\n",
    "time_price_cpu = time_end - time_start\n",
    "print(\"Runtime on CPU: \", time_price_cpu)"
   ]
  },
  {
   "cell_type": "code",
   "execution_count": 92,
   "metadata": {},
   "outputs": [
    {
     "name": "stdout",
     "output_type": "stream",
     "text": [
      "Time on a CPU:  0.29283809661865234\n"
     ]
    }
   ],
   "source": [
    "#@title Pricing time a CPU. Note TensorFlow does automatic multithreading.\n",
    "times =  8#@param {type:\"integer\"}\n",
    "states = 2\n",
    "number =  200000#@param {type:\"integer\"}\n",
    "\n",
    "fwdCov = tf.ones(shape=(times,states,states), dtype=tf.float64)\n",
    "multivariate_bridge = MultivariateBrownianBridge(fwdCov)\n",
    "\n",
    "time_start = time.time()\n",
    "with tf.profiler.experimental.Profile(\"logs/brownian\"):\n",
    "  with tf.device('/cpu'):\n",
    "    w = multivariate_bridge.path(number)\n",
    "time_end = time.time()\n",
    "time_price_tpu = time_end - time_start\n",
    "print(\"Time on a CPU: \", time_price_tpu)    "
   ]
  },
  {
   "cell_type": "code",
   "execution_count": 93,
   "metadata": {},
   "outputs": [],
   "source": [
    "a = tf.Variable(tf.zeros(shape=(states,states),dtype=tf.float64))"
   ]
  },
  {
   "cell_type": "code",
   "execution_count": 94,
   "metadata": {},
   "outputs": [],
   "source": [
    "rho = tf.constant(0.5,dtype=tf.float64)"
   ]
  },
  {
   "cell_type": "code",
   "execution_count": 95,
   "metadata": {},
   "outputs": [],
   "source": [
    "rho = 0.6"
   ]
  },
  {
   "cell_type": "code",
   "execution_count": 96,
   "metadata": {},
   "outputs": [
    {
     "data": {
      "text/plain": [
       "0.6"
      ]
     },
     "execution_count": 96,
     "metadata": {},
     "output_type": "execute_result"
    }
   ],
   "source": [
    "rho"
   ]
  },
  {
   "cell_type": "code",
   "execution_count": 97,
   "metadata": {},
   "outputs": [
    {
     "name": "stdout",
     "output_type": "stream",
     "text": [
      "ERROR:tensorflow:==================================\n",
      "Object was never used (type <class 'tensorflow.python.ops.tensor_array_ops.TensorArray'>):\n",
      "<tensorflow.python.ops.tensor_array_ops.TensorArray object at 0x0000010FB2EF0588>\n",
      "If you want to mark it as used call its \"mark_used()\" method.\n",
      "It was originally created here:\n",
      "  File \"d:\\Home\\quant_analytics_torch\\venv\\lib\\site-packages\\IPython\\core\\interactiveshell.py\", line 3438, in run_code\n",
      "    return outflag  File \"<ipython-input-91-26a66e97b375>\", line 11, in <module>\n",
      "    w = multivariate_bridge.path(number)  File \"<ipython-input-80-ec977b4bbb3e>\", line 24, in path\n",
      "    return path  File \"d:\\Home\\quant_analytics_torch\\venv\\lib\\site-packages\\tensorflow\\python\\util\\tf_should_use.py\", line 249, in wrapped\n",
      "    error_in_function=error_in_function)\n",
      "==================================\n"
     ]
    },
    {
     "ename": "TypeError",
     "evalue": "'ResourceVariable' object does not support item assignment",
     "output_type": "error",
     "traceback": [
      "\u001b[1;31m---------------------------------------------------------------------------\u001b[0m",
      "\u001b[1;31mTypeError\u001b[0m                                 Traceback (most recent call last)",
      "\u001b[1;32m<ipython-input-97-62a88081ad26>\u001b[0m in \u001b[0;36m<module>\u001b[1;34m\u001b[0m\n\u001b[1;32m----> 1\u001b[1;33m \u001b[0ma\u001b[0m\u001b[1;33m[\u001b[0m\u001b[1;36m0\u001b[0m\u001b[1;33m,\u001b[0m\u001b[1;36m0\u001b[0m\u001b[1;33m]\u001b[0m \u001b[1;33m=\u001b[0m \u001b[1;36m1\u001b[0m\u001b[1;33m\u001b[0m\u001b[1;33m\u001b[0m\u001b[0m\n\u001b[0m",
      "\u001b[1;31mTypeError\u001b[0m: 'ResourceVariable' object does not support item assignment"
     ]
    }
   ],
   "source": [
    "a[0,0] = 1"
   ]
  },
  {
   "cell_type": "code",
   "execution_count": 98,
   "metadata": {},
   "outputs": [],
   "source": [
    "correlation_matrix = [[1.,0.5],[0.5,1.]]"
   ]
  },
  {
   "cell_type": "code",
   "execution_count": 99,
   "metadata": {},
   "outputs": [
    {
     "data": {
      "text/plain": [
       "<tf.Tensor: shape=(2, 2), dtype=float32, numpy=\n",
       "array([[1. , 0.5],\n",
       "       [0.5, 1. ]], dtype=float32)>"
      ]
     },
     "execution_count": 99,
     "metadata": {},
     "output_type": "execute_result"
    }
   ],
   "source": [
    "cor = tf.convert_to_tensor(correlation_matrix)\n",
    "cor"
   ]
  },
  {
   "cell_type": "code",
   "execution_count": 100,
   "metadata": {},
   "outputs": [],
   "source": [
    "loss = tf.norm(cor)"
   ]
  },
  {
   "cell_type": "code",
   "execution_count": 101,
   "metadata": {},
   "outputs": [],
   "source": [
    "rho = tf.Variable([[1,0]])"
   ]
  },
  {
   "cell_type": "code",
   "execution_count": 102,
   "metadata": {},
   "outputs": [],
   "source": [
    "import tensorflow as tf"
   ]
  },
  {
   "cell_type": "code",
   "execution_count": 103,
   "metadata": {},
   "outputs": [
    {
     "name": "stdout",
     "output_type": "stream",
     "text": [
      "tf.Tensor(\n",
      "[[0.5 1.5 2.5]\n",
      " [0.5 1.5 2.5]], shape=(2, 3), dtype=float64)\n",
      "tf.Tensor(4.183300132670378, shape=(), dtype=float64)\n",
      "x:0\n",
      "tf.Tensor(0.23904572186687872, shape=(), dtype=float64)\n",
      "y:0\n",
      "tf.Tensor(0.7171371656006362, shape=(), dtype=float64)\n",
      "z:0\n",
      "tf.Tensor(1.1952286093343936, shape=(), dtype=float64)\n",
      "(<tf.Variable 'x:0' shape=() dtype=float64, numpy=0.5>, <tf.Variable 'y:0' shape=() dtype=float64, numpy=1.5>, <tf.Variable 'z:0' shape=() dtype=float64, numpy=2.5>)\n"
     ]
    }
   ],
   "source": [
    "x = tf.Variable(0.5, dtype=tf.float64,name='x')\n",
    "y = tf.Variable(1.5, dtype=tf.float64,name='y')\n",
    "z = tf.Variable(2.5, dtype=tf.float64,name='z')\n",
    "\n",
    "with tf.GradientTape(persistent=True) as g:\n",
    "    a = tf.TensorArray(size=0, dynamic_size=True, dtype=tf.float64)\n",
    "    m = tf.TensorArray(size=0, dynamic_size=True, dtype=tf.float64)\n",
    "    a = a.write(0, x)\n",
    "    a = a.write(1, y)    \n",
    "    a = a.write(2, z)        \n",
    "    b = a.stack()\n",
    "    m = m.write(0, b)\n",
    "    m = m.write(1, b)    \n",
    "    c = m.stack()\n",
    "    print(c)\n",
    "    loss = tf.norm(c)\n",
    "    print(loss)\n",
    "\n",
    "# Loop over all watched variables\n",
    "for it in g.watched_variables():\n",
    "    dy_dx = g.gradient(loss, it)\n",
    "    print(it.name)\n",
    "    print(dy_dx)\n",
    "\n",
    "print(g.watched_variables())\n",
    "\n",
    "del g"
   ]
  },
  {
   "cell_type": "code",
   "execution_count": 104,
   "metadata": {},
   "outputs": [
    {
     "name": "stdout",
     "output_type": "stream",
     "text": [
      "tf.Tensor(1.1952286093343936, shape=(), dtype=float64)\n"
     ]
    }
   ],
   "source": [
    "print(dy_dx)"
   ]
  },
  {
   "cell_type": "markdown",
   "metadata": {},
   "source": [
    "Price a spread option"
   ]
  },
  {
   "cell_type": "code",
   "execution_count": 175,
   "metadata": {},
   "outputs": [
    {
     "ename": "TypeError",
     "evalue": "x and y must have the same dtype, got tf.float64 != tf.float32",
     "output_type": "error",
     "traceback": [
      "\u001b[1;31m---------------------------------------------------------------------------\u001b[0m",
      "\u001b[1;31mValueError\u001b[0m                                Traceback (most recent call last)",
      "\u001b[1;32md:\\Home\\quant_analytics_torch\\venv\\lib\\site-packages\\tensorflow\\python\\ops\\math_ops.py\u001b[0m in \u001b[0;36mbinary_op_wrapper\u001b[1;34m(x, y)\u001b[0m\n\u001b[0;32m   1181\u001b[0m             \u001b[0mr_op\u001b[0m \u001b[1;33m=\u001b[0m \u001b[0mgetattr\u001b[0m\u001b[1;33m(\u001b[0m\u001b[0my\u001b[0m\u001b[1;33m,\u001b[0m \u001b[1;34m\"__r%s__\"\u001b[0m \u001b[1;33m%\u001b[0m \u001b[0mop_name\u001b[0m\u001b[1;33m)\u001b[0m\u001b[1;33m\u001b[0m\u001b[1;33m\u001b[0m\u001b[0m\n\u001b[1;32m-> 1182\u001b[1;33m             \u001b[0mout\u001b[0m \u001b[1;33m=\u001b[0m \u001b[0mr_op\u001b[0m\u001b[1;33m(\u001b[0m\u001b[0mx\u001b[0m\u001b[1;33m)\u001b[0m\u001b[1;33m\u001b[0m\u001b[1;33m\u001b[0m\u001b[0m\n\u001b[0m\u001b[0;32m   1183\u001b[0m             \u001b[1;32mif\u001b[0m \u001b[0mout\u001b[0m \u001b[1;32mis\u001b[0m \u001b[0mNotImplemented\u001b[0m\u001b[1;33m:\u001b[0m\u001b[1;33m\u001b[0m\u001b[1;33m\u001b[0m\u001b[0m\n",
      "\u001b[1;32md:\\Home\\quant_analytics_torch\\venv\\lib\\site-packages\\tensorflow\\python\\ops\\math_ops.py\u001b[0m in \u001b[0;36mr_binary_op_wrapper\u001b[1;34m(y, x)\u001b[0m\n\u001b[0;32m   1200\u001b[0m     \u001b[1;32mwith\u001b[0m \u001b[0mops\u001b[0m\u001b[1;33m.\u001b[0m\u001b[0mname_scope\u001b[0m\u001b[1;33m(\u001b[0m\u001b[1;32mNone\u001b[0m\u001b[1;33m,\u001b[0m \u001b[0mop_name\u001b[0m\u001b[1;33m,\u001b[0m \u001b[1;33m[\u001b[0m\u001b[0mx\u001b[0m\u001b[1;33m,\u001b[0m \u001b[0my\u001b[0m\u001b[1;33m]\u001b[0m\u001b[1;33m)\u001b[0m \u001b[1;32mas\u001b[0m \u001b[0mname\u001b[0m\u001b[1;33m:\u001b[0m\u001b[1;33m\u001b[0m\u001b[1;33m\u001b[0m\u001b[0m\n\u001b[1;32m-> 1201\u001b[1;33m       \u001b[0mx\u001b[0m \u001b[1;33m=\u001b[0m \u001b[0mops\u001b[0m\u001b[1;33m.\u001b[0m\u001b[0mconvert_to_tensor\u001b[0m\u001b[1;33m(\u001b[0m\u001b[0mx\u001b[0m\u001b[1;33m,\u001b[0m \u001b[0mdtype\u001b[0m\u001b[1;33m=\u001b[0m\u001b[0my\u001b[0m\u001b[1;33m.\u001b[0m\u001b[0mdtype\u001b[0m\u001b[1;33m.\u001b[0m\u001b[0mbase_dtype\u001b[0m\u001b[1;33m,\u001b[0m \u001b[0mname\u001b[0m\u001b[1;33m=\u001b[0m\u001b[1;34m\"x\"\u001b[0m\u001b[1;33m)\u001b[0m\u001b[1;33m\u001b[0m\u001b[1;33m\u001b[0m\u001b[0m\n\u001b[0m\u001b[0;32m   1202\u001b[0m       \u001b[1;32mreturn\u001b[0m \u001b[0mfunc\u001b[0m\u001b[1;33m(\u001b[0m\u001b[0mx\u001b[0m\u001b[1;33m,\u001b[0m \u001b[0my\u001b[0m\u001b[1;33m,\u001b[0m \u001b[0mname\u001b[0m\u001b[1;33m=\u001b[0m\u001b[0mname\u001b[0m\u001b[1;33m)\u001b[0m\u001b[1;33m\u001b[0m\u001b[1;33m\u001b[0m\u001b[0m\n",
      "\u001b[1;32md:\\Home\\quant_analytics_torch\\venv\\lib\\site-packages\\tensorflow\\python\\profiler\\trace.py\u001b[0m in \u001b[0;36mwrapped\u001b[1;34m(*args, **kwargs)\u001b[0m\n\u001b[0;32m    162\u001b[0m           \u001b[1;32mreturn\u001b[0m \u001b[0mfunc\u001b[0m\u001b[1;33m(\u001b[0m\u001b[1;33m*\u001b[0m\u001b[0margs\u001b[0m\u001b[1;33m,\u001b[0m \u001b[1;33m**\u001b[0m\u001b[0mkwargs\u001b[0m\u001b[1;33m)\u001b[0m\u001b[1;33m\u001b[0m\u001b[1;33m\u001b[0m\u001b[0m\n\u001b[1;32m--> 163\u001b[1;33m       \u001b[1;32mreturn\u001b[0m \u001b[0mfunc\u001b[0m\u001b[1;33m(\u001b[0m\u001b[1;33m*\u001b[0m\u001b[0margs\u001b[0m\u001b[1;33m,\u001b[0m \u001b[1;33m**\u001b[0m\u001b[0mkwargs\u001b[0m\u001b[1;33m)\u001b[0m\u001b[1;33m\u001b[0m\u001b[1;33m\u001b[0m\u001b[0m\n\u001b[0m\u001b[0;32m    164\u001b[0m \u001b[1;33m\u001b[0m\u001b[0m\n",
      "\u001b[1;32md:\\Home\\quant_analytics_torch\\venv\\lib\\site-packages\\tensorflow\\python\\framework\\ops.py\u001b[0m in \u001b[0;36mconvert_to_tensor\u001b[1;34m(value, dtype, name, as_ref, preferred_dtype, dtype_hint, ctx, accepted_result_types)\u001b[0m\n\u001b[0;32m   1511\u001b[0m           \u001b[1;34m\"Tensor conversion requested dtype %s for Tensor with dtype %s: %r\"\u001b[0m \u001b[1;33m%\u001b[0m\u001b[1;33m\u001b[0m\u001b[1;33m\u001b[0m\u001b[0m\n\u001b[1;32m-> 1512\u001b[1;33m           (dtype.name, value.dtype.name, value))\n\u001b[0m\u001b[0;32m   1513\u001b[0m     \u001b[1;32mreturn\u001b[0m \u001b[0mvalue\u001b[0m\u001b[1;33m\u001b[0m\u001b[1;33m\u001b[0m\u001b[0m\n",
      "\u001b[1;31mValueError\u001b[0m: Tensor conversion requested dtype float32 for Tensor with dtype float64: <tf.Tensor: shape=(), dtype=float64, numpy=0.001>",
      "\nDuring handling of the above exception, another exception occurred:\n",
      "\u001b[1;31mTypeError\u001b[0m                                 Traceback (most recent call last)",
      "\u001b[1;32m<ipython-input-175-1f512fb2b7a2>\u001b[0m in \u001b[0;36m<module>\u001b[1;34m\u001b[0m\n\u001b[0;32m      1\u001b[0m \u001b[0mEPSILON\u001b[0m \u001b[1;33m=\u001b[0m \u001b[0mtf\u001b[0m\u001b[1;33m.\u001b[0m\u001b[0mconstant\u001b[0m\u001b[1;33m(\u001b[0m\u001b[1;36m0.001\u001b[0m\u001b[1;33m,\u001b[0m\u001b[0mdtype\u001b[0m\u001b[1;33m=\u001b[0m\u001b[0mtf\u001b[0m\u001b[1;33m.\u001b[0m\u001b[0mfloat64\u001b[0m\u001b[1;33m)\u001b[0m\u001b[1;33m\u001b[0m\u001b[1;33m\u001b[0m\u001b[0m\n\u001b[1;32m----> 2\u001b[1;33m \u001b[0mDELTA\u001b[0m \u001b[1;33m=\u001b[0m \u001b[0mtf\u001b[0m\u001b[1;33m.\u001b[0m\u001b[0mconstant\u001b[0m\u001b[1;33m(\u001b[0m\u001b[0mEPSILON\u001b[0m\u001b[1;33m/\u001b[0m\u001b[0mtf\u001b[0m\u001b[1;33m.\u001b[0m\u001b[0msqrt\u001b[0m\u001b[1;33m(\u001b[0m\u001b[1;36m2.\u001b[0m\u001b[1;33m)\u001b[0m\u001b[1;33m,\u001b[0m\u001b[0mdtype\u001b[0m\u001b[1;33m=\u001b[0m\u001b[0mtf\u001b[0m\u001b[1;33m.\u001b[0m\u001b[0mfloat64\u001b[0m\u001b[1;33m)\u001b[0m\u001b[1;33m\u001b[0m\u001b[1;33m\u001b[0m\u001b[0m\n\u001b[0m\u001b[0;32m      3\u001b[0m \u001b[0mBOUNDARY\u001b[0m \u001b[1;33m=\u001b[0m \u001b[0mtf\u001b[0m\u001b[1;33m.\u001b[0m\u001b[0mconstant\u001b[0m\u001b[1;33m(\u001b[0m\u001b[0mEPSILON\u001b[0m\u001b[1;33m*\u001b[0m\u001b[0mtf\u001b[0m\u001b[1;33m.\u001b[0m\u001b[0msqrt\u001b[0m\u001b[1;33m(\u001b[0m\u001b[1;36m2.\u001b[0m\u001b[1;33m)\u001b[0m\u001b[1;33m,\u001b[0m\u001b[0mdtype\u001b[0m\u001b[1;33m=\u001b[0m\u001b[0mtf\u001b[0m\u001b[1;33m.\u001b[0m\u001b[0mfloat64\u001b[0m\u001b[1;33m)\u001b[0m\u001b[1;33m\u001b[0m\u001b[1;33m\u001b[0m\u001b[0m\n\u001b[0;32m      4\u001b[0m \u001b[1;33m\u001b[0m\u001b[0m\n\u001b[0;32m      5\u001b[0m \u001b[1;32mdef\u001b[0m \u001b[0mphi_smooth\u001b[0m\u001b[1;33m(\u001b[0m\u001b[0mx\u001b[0m\u001b[1;33m,\u001b[0m\u001b[0my\u001b[0m\u001b[1;33m)\u001b[0m\u001b[1;33m:\u001b[0m\u001b[1;33m\u001b[0m\u001b[1;33m\u001b[0m\u001b[0m\n",
      "\u001b[1;32md:\\Home\\quant_analytics_torch\\venv\\lib\\site-packages\\tensorflow\\python\\ops\\math_ops.py\u001b[0m in \u001b[0;36mbinary_op_wrapper\u001b[1;34m(x, y)\u001b[0m\n\u001b[0;32m   1185\u001b[0m             \u001b[1;32mreturn\u001b[0m \u001b[0mout\u001b[0m\u001b[1;33m\u001b[0m\u001b[1;33m\u001b[0m\u001b[0m\n\u001b[0;32m   1186\u001b[0m           \u001b[1;32mexcept\u001b[0m \u001b[1;33m(\u001b[0m\u001b[0mTypeError\u001b[0m\u001b[1;33m,\u001b[0m \u001b[0mValueError\u001b[0m\u001b[1;33m)\u001b[0m\u001b[1;33m:\u001b[0m\u001b[1;33m\u001b[0m\u001b[1;33m\u001b[0m\u001b[0m\n\u001b[1;32m-> 1187\u001b[1;33m             \u001b[1;32mraise\u001b[0m \u001b[0me\u001b[0m\u001b[1;33m\u001b[0m\u001b[1;33m\u001b[0m\u001b[0m\n\u001b[0m\u001b[0;32m   1188\u001b[0m         \u001b[1;32melse\u001b[0m\u001b[1;33m:\u001b[0m\u001b[1;33m\u001b[0m\u001b[1;33m\u001b[0m\u001b[0m\n\u001b[0;32m   1189\u001b[0m           \u001b[1;32mraise\u001b[0m\u001b[1;33m\u001b[0m\u001b[1;33m\u001b[0m\u001b[0m\n",
      "\u001b[1;32md:\\Home\\quant_analytics_torch\\venv\\lib\\site-packages\\tensorflow\\python\\ops\\math_ops.py\u001b[0m in \u001b[0;36mbinary_op_wrapper\u001b[1;34m(x, y)\u001b[0m\n\u001b[0;32m   1169\u001b[0m     \u001b[1;32mwith\u001b[0m \u001b[0mops\u001b[0m\u001b[1;33m.\u001b[0m\u001b[0mname_scope\u001b[0m\u001b[1;33m(\u001b[0m\u001b[1;32mNone\u001b[0m\u001b[1;33m,\u001b[0m \u001b[0mop_name\u001b[0m\u001b[1;33m,\u001b[0m \u001b[1;33m[\u001b[0m\u001b[0mx\u001b[0m\u001b[1;33m,\u001b[0m \u001b[0my\u001b[0m\u001b[1;33m]\u001b[0m\u001b[1;33m)\u001b[0m \u001b[1;32mas\u001b[0m \u001b[0mname\u001b[0m\u001b[1;33m:\u001b[0m\u001b[1;33m\u001b[0m\u001b[1;33m\u001b[0m\u001b[0m\n\u001b[0;32m   1170\u001b[0m       \u001b[1;32mtry\u001b[0m\u001b[1;33m:\u001b[0m\u001b[1;33m\u001b[0m\u001b[1;33m\u001b[0m\u001b[0m\n\u001b[1;32m-> 1171\u001b[1;33m         \u001b[1;32mreturn\u001b[0m \u001b[0mfunc\u001b[0m\u001b[1;33m(\u001b[0m\u001b[0mx\u001b[0m\u001b[1;33m,\u001b[0m \u001b[0my\u001b[0m\u001b[1;33m,\u001b[0m \u001b[0mname\u001b[0m\u001b[1;33m=\u001b[0m\u001b[0mname\u001b[0m\u001b[1;33m)\u001b[0m\u001b[1;33m\u001b[0m\u001b[1;33m\u001b[0m\u001b[0m\n\u001b[0m\u001b[0;32m   1172\u001b[0m       \u001b[1;32mexcept\u001b[0m \u001b[1;33m(\u001b[0m\u001b[0mTypeError\u001b[0m\u001b[1;33m,\u001b[0m \u001b[0mValueError\u001b[0m\u001b[1;33m)\u001b[0m \u001b[1;32mas\u001b[0m \u001b[0me\u001b[0m\u001b[1;33m:\u001b[0m\u001b[1;33m\u001b[0m\u001b[1;33m\u001b[0m\u001b[0m\n\u001b[0;32m   1173\u001b[0m         \u001b[1;31m# Even if dispatching the op failed, the RHS may be a tensor aware\u001b[0m\u001b[1;33m\u001b[0m\u001b[1;33m\u001b[0m\u001b[1;33m\u001b[0m\u001b[0m\n",
      "\u001b[1;32md:\\Home\\quant_analytics_torch\\venv\\lib\\site-packages\\tensorflow\\python\\util\\dispatch.py\u001b[0m in \u001b[0;36mwrapper\u001b[1;34m(*args, **kwargs)\u001b[0m\n\u001b[0;32m    204\u001b[0m     \u001b[1;34m\"\"\"Call target, and fall back on dispatchers if there is a TypeError.\"\"\"\u001b[0m\u001b[1;33m\u001b[0m\u001b[1;33m\u001b[0m\u001b[0m\n\u001b[0;32m    205\u001b[0m     \u001b[1;32mtry\u001b[0m\u001b[1;33m:\u001b[0m\u001b[1;33m\u001b[0m\u001b[1;33m\u001b[0m\u001b[0m\n\u001b[1;32m--> 206\u001b[1;33m       \u001b[1;32mreturn\u001b[0m \u001b[0mtarget\u001b[0m\u001b[1;33m(\u001b[0m\u001b[1;33m*\u001b[0m\u001b[0margs\u001b[0m\u001b[1;33m,\u001b[0m \u001b[1;33m**\u001b[0m\u001b[0mkwargs\u001b[0m\u001b[1;33m)\u001b[0m\u001b[1;33m\u001b[0m\u001b[1;33m\u001b[0m\u001b[0m\n\u001b[0m\u001b[0;32m    207\u001b[0m     \u001b[1;32mexcept\u001b[0m \u001b[1;33m(\u001b[0m\u001b[0mTypeError\u001b[0m\u001b[1;33m,\u001b[0m \u001b[0mValueError\u001b[0m\u001b[1;33m)\u001b[0m\u001b[1;33m:\u001b[0m\u001b[1;33m\u001b[0m\u001b[1;33m\u001b[0m\u001b[0m\n\u001b[0;32m    208\u001b[0m       \u001b[1;31m# Note: convert_to_eager_tensor currently raises a ValueError, not a\u001b[0m\u001b[1;33m\u001b[0m\u001b[1;33m\u001b[0m\u001b[1;33m\u001b[0m\u001b[0m\n",
      "\u001b[1;32md:\\Home\\quant_analytics_torch\\venv\\lib\\site-packages\\tensorflow\\python\\ops\\math_ops.py\u001b[0m in \u001b[0;36mtruediv\u001b[1;34m(x, y, name)\u001b[0m\n\u001b[0;32m   1341\u001b[0m     \u001b[0mTypeError\u001b[0m\u001b[1;33m:\u001b[0m \u001b[0mIf\u001b[0m\u001b[0;31m \u001b[0m\u001b[0;31m`\u001b[0m\u001b[0mx\u001b[0m\u001b[0;31m`\u001b[0m \u001b[1;32mand\u001b[0m\u001b[0;31m \u001b[0m\u001b[0;31m`\u001b[0m\u001b[0my\u001b[0m\u001b[0;31m`\u001b[0m \u001b[0mhave\u001b[0m \u001b[0mdifferent\u001b[0m \u001b[0mdtypes\u001b[0m\u001b[1;33m.\u001b[0m\u001b[1;33m\u001b[0m\u001b[1;33m\u001b[0m\u001b[0m\n\u001b[0;32m   1342\u001b[0m   \"\"\"\n\u001b[1;32m-> 1343\u001b[1;33m   \u001b[1;32mreturn\u001b[0m \u001b[0m_truediv_python3\u001b[0m\u001b[1;33m(\u001b[0m\u001b[0mx\u001b[0m\u001b[1;33m,\u001b[0m \u001b[0my\u001b[0m\u001b[1;33m,\u001b[0m \u001b[0mname\u001b[0m\u001b[1;33m)\u001b[0m\u001b[1;33m\u001b[0m\u001b[1;33m\u001b[0m\u001b[0m\n\u001b[0m\u001b[0;32m   1344\u001b[0m \u001b[1;33m\u001b[0m\u001b[0m\n\u001b[0;32m   1345\u001b[0m \u001b[1;33m\u001b[0m\u001b[0m\n",
      "\u001b[1;32md:\\Home\\quant_analytics_torch\\venv\\lib\\site-packages\\tensorflow\\python\\ops\\math_ops.py\u001b[0m in \u001b[0;36m_truediv_python3\u001b[1;34m(x, y, name)\u001b[0m\n\u001b[0;32m   1272\u001b[0m     \u001b[1;32mif\u001b[0m \u001b[0mx_dtype\u001b[0m \u001b[1;33m!=\u001b[0m \u001b[0my_dtype\u001b[0m\u001b[1;33m:\u001b[0m\u001b[1;33m\u001b[0m\u001b[1;33m\u001b[0m\u001b[0m\n\u001b[0;32m   1273\u001b[0m       raise TypeError(\"x and y must have the same dtype, got %r != %r\" %\n\u001b[1;32m-> 1274\u001b[1;33m                       (x_dtype, y_dtype))\n\u001b[0m\u001b[0;32m   1275\u001b[0m     \u001b[1;32mtry\u001b[0m\u001b[1;33m:\u001b[0m\u001b[1;33m\u001b[0m\u001b[1;33m\u001b[0m\u001b[0m\n\u001b[0;32m   1276\u001b[0m       \u001b[0mdtype\u001b[0m \u001b[1;33m=\u001b[0m \u001b[0m_TRUEDIV_TABLE\u001b[0m\u001b[1;33m[\u001b[0m\u001b[0mx_dtype\u001b[0m\u001b[1;33m]\u001b[0m\u001b[1;33m\u001b[0m\u001b[1;33m\u001b[0m\u001b[0m\n",
      "\u001b[1;31mTypeError\u001b[0m: x and y must have the same dtype, got tf.float64 != tf.float32"
     ]
    }
   ],
   "source": [
    "EPSILON = tf.constant(0.001,dtype=tf.float64)\n",
    "DELTA = tf.constant(EPSILON/tf.sqrt(2.),dtype=tf.float64)\n",
    "BOUNDARY = tf.constant(EPSILON*tf.sqrt(2.),dtype=tf.float64)\n",
    "\n",
    "def phi_smooth(x,y):\n",
    "    return (x + y + DELTA + (x - y) ** 2 / DELTA / 4.)/2.\n",
    "\n",
    "def max_if(x,y):\n",
    "    return tf.where(tf.abs(x-y)>BOUNDARY,tf.maximum(x,y),phi_smooth(x,y))"
   ]
  },
  {
   "cell_type": "code",
   "execution_count": 203,
   "metadata": {},
   "outputs": [
    {
     "name": "stdout",
     "output_type": "stream",
     "text": [
      "tf.Tensor(\n",
      "[[[0.04  0.008]\n",
      "  [0.008 0.04 ]]], shape=(1, 2, 2), dtype=float64)\n",
      "tf.Tensor(12.360587602925008, shape=(), dtype=float64)\n",
      "Time on a CPU:  0.08700180053710938\n",
      "(<tf.Tensor: shape=(), dtype=float64, numpy=0.562287501143537>, <tf.Tensor: shape=(), dtype=float64, numpy=0.5622901699409071>, <tf.Tensor: shape=(), dtype=float64, numpy=30.900719259160358>, <tf.Tensor: shape=(), dtype=float64, numpy=30.90221875546465>, <tf.Tensor: shape=(), dtype=float64, numpy=5.150244834552082>)\n",
      "Time on a CPU:  0.03802943229675293\n"
     ]
    }
   ],
   "source": [
    "times =  1#@param {type:\"integer\"}\n",
    "states = 2\n",
    "number =  2**20-1#@param {type:\"integer\"}\n",
    "\n",
    "f_1 = tf.Variable(100., dtype=tf.float64,name='f_1')\n",
    "f_2 = tf.Variable(100., dtype=tf.float64,name='f_2')\n",
    "\n",
    "sigma_1 = tf.Variable(0.2, dtype=tf.float64,name='s_1')\n",
    "sigma_2 = tf.Variable(0.2, dtype=tf.float64,name='s_2')\n",
    "\n",
    "rho = tf.Variable(0.2, dtype=tf.float64, name='rho')\n",
    "\n",
    "time_start = time.time()\n",
    "\n",
    "with tf.GradientTape(persistent=True) as g:\n",
    "    fwdCovs = tf.TensorArray(size=0, dynamic_size=True, dtype=tf.float64)\n",
    "\n",
    "    fwdCov = tf.TensorArray(size=0, dynamic_size=True, dtype=tf.float64)\n",
    "\n",
    "    tmp_1 = tf.TensorArray(size=0, dynamic_size=True, dtype=tf.float64)\n",
    "    tmp_1 = tmp_1.write(0, sigma_1*sigma_1)\n",
    "    tmp_1 = tmp_1.write(1, sigma_1*sigma_2*rho)    \n",
    "    fwdCov = fwdCov.write(0, tmp_1.stack())\n",
    "\n",
    "    tmp_2 = tf.TensorArray(size=0, dynamic_size=True, dtype=tf.float64)\n",
    "    tmp_2 = tmp_2.write(0, sigma_1*sigma_2*rho)\n",
    "    tmp_2 = tmp_2.write(1, sigma_2*sigma_2)    \n",
    "    fwdCov = fwdCov.write(1, tmp_2.stack())\n",
    "\n",
    "    fwdCovs = fwdCovs.write(0, fwdCov.stack())\n",
    "\n",
    "    print(fwdCovs.stack())\n",
    "\n",
    "    multivariate_bridge = MultivariateBrownianBridge(fwdCovs.stack())\n",
    "\n",
    "    w = multivariate_bridge.path(number)\n",
    "\n",
    "    s_1 = f_1 * (1. + w[0,0,:])\n",
    "    s_2 = f_2 * (1. + w[0,1,:])    \n",
    "\n",
    "    v = s_1 - s_2\n",
    "\n",
    "    #print(w)\n",
    "\n",
    "    #print(s_1)\n",
    "    #print(s_2)    \n",
    "\n",
    "    #print(v)\n",
    "\n",
    "    pv = tf.reduce_mean(tf.maximum(s_1 + s_2 - 200.,0.))\n",
    "    print(pv)\n",
    "    #pv = tf.reduce_mean(max_if(s_1 - s_2,tf.constant(0.,dtype=tf.float64)))\n",
    "\n",
    "time_end = time.time()\n",
    "time_price_tpu = time_end - time_start\n",
    "print(\"Time on a CPU: \", time_price_tpu)    \n",
    "\n",
    "time_start = time.time()\n",
    "\n",
    "dy_dx = g.gradient(pv, g.watched_variables())\n",
    "print(dy_dx)\n",
    "\n",
    "time_end = time.time()\n",
    "time_price_tpu = time_end - time_start\n",
    "print(\"Time on a CPU: \", time_price_tpu)\n",
    "\n",
    "\n",
    "del g\n"
   ]
  },
  {
   "cell_type": "code",
   "execution_count": null,
   "metadata": {},
   "outputs": [],
   "source": []
  }
 ],
 "metadata": {
  "colab": {
   "authorship_tag": "ABX9TyONt0tcQSDFBGxyYAn4kr0h",
   "collapsed_sections": [],
   "include_colab_link": true,
   "name": "WienerPathTensorflow.ipynb",
   "provenance": []
  },
  "kernelspec": {
   "display_name": "Python 3",
   "language": "python",
   "name": "python3"
  },
  "language_info": {
   "codemirror_mode": {
    "name": "ipython",
    "version": 3
   },
   "file_extension": ".py",
   "mimetype": "text/x-python",
   "name": "python",
   "nbconvert_exporter": "python",
   "pygments_lexer": "ipython3",
   "version": "3.7.3"
  }
 },
 "nbformat": 4,
 "nbformat_minor": 4
}
