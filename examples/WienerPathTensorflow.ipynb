{
  "nbformat": 4,
  "nbformat_minor": 0,
  "metadata": {
    "colab": {
      "name": "WienerPathTensorflow.ipynb",
      "provenance": [],
      "collapsed_sections": [],
      "authorship_tag": "ABX9TyONt0tcQSDFBGxyYAn4kr0h",
      "include_colab_link": true
    },
    "kernelspec": {
      "name": "python3",
      "display_name": "Python 3"
    }
  },
  "cells": [
    {
      "cell_type": "markdown",
      "metadata": {
        "id": "view-in-github",
        "colab_type": "text"
      },
      "source": [
        "<a href=\"https://colab.research.google.com/github/QuantAnalyticsTorch/quant_analytics_torch/blob/main/examples/WienerPathTensorflow.ipynb\" target=\"_parent\"><img src=\"https://colab.research.google.com/assets/colab-badge.svg\" alt=\"Open In Colab\"/></a>"
      ]
    },
    {
      "cell_type": "code",
      "metadata": {
        "colab": {
          "base_uri": "https://localhost:8080/",
          "height": 1000
        },
        "id": "aODkEPWbUohc",
        "outputId": "eb635654-d0ef-4ba7-ea30-f483ecd83138"
      },
      "source": [
        "#@title Upgrade to TensorFlow nightly\n",
        "#!pip install --upgrade tf-nightly-cpu"
      ],
      "execution_count": 1,
      "outputs": []
    },
    {
      "cell_type": "code",
      "execution_count": 76,
      "metadata": {},
      "outputs": [
        {
          "output_type": "stream",
          "name": "stdout",
          "text": [
            "Python version\n3.7.3 (v3.7.3:ef4ec6ed12, Mar 25 2019, 22:22:05) [MSC v.1916 64 bit (AMD64)]\nVersion info.\nsys.version_info(major=3, minor=7, micro=3, releaselevel='final', serial=0)\n"
          ]
        }
      ],
      "source": [
        "import sys\n",
        "print(\"Python version\")\n",
        "print (sys.version)\n",
        "print(\"Version info.\")\n",
        "print (sys.version_info)"
      ]
    },
    {
      "cell_type": "code",
      "metadata": {
        "id": "xNps9GlNUu5j"
      },
      "source": [
        "import tensorflow as tf\n",
        "from scipy.special import erf\n",
        "import numpy as np\n",
        "import time\n",
        "import math"
      ],
      "execution_count": 77,
      "outputs": []
    },
    {
      "cell_type": "code",
      "execution_count": 78,
      "metadata": {},
      "outputs": [],
      "source": [
        "SQRT_2 = tf.sqrt(tf.constant(2.,dtype=tf.float64))\n",
        "\n",
        "def norminv(x):\n",
        "    return SQRT_2*tf.math.erfinv(2*(x-0.5))"
      ]
    },
    {
      "cell_type": "code",
      "metadata": {
        "id": "6JJDNmCPU41B"
      },
      "source": [
        "class UnivariateBrownianBridge():\n",
        "  def __init__(self, number_time_steps):\n",
        "    self.number_time_steps = number_time_steps\n",
        "\n",
        "    self.left_index = np.zeros(number_time_steps, dtype=int)\n",
        "    self.right_index = np.zeros(number_time_steps, dtype=int)\n",
        "    self.bridge_index = np.zeros(number_time_steps, dtype=int)\n",
        "    self.left_weight = np.zeros(number_time_steps)\n",
        "    self.right_weight = np.zeros(number_time_steps)\n",
        "    self.std_dev = np.zeros(number_time_steps)\n",
        "\n",
        "    self._map = np.zeros(number_time_steps, dtype=int)\n",
        "\n",
        "    self._map[-1] = 1\n",
        "    self.bridge_index[0] = number_time_steps - 1\n",
        "    self.std_dev[0] = math.sqrt(1.0 * number_time_steps)\n",
        "    self.left_weight[0] = 0\n",
        "    self.right_weight[0] = 0\n",
        "\n",
        "    j=0\n",
        "    for i in range(1,number_time_steps):\n",
        "      while self._map[j] == True:\n",
        "        j = j + 1\n",
        "      k = j\n",
        "      while self._map[k] == False:\n",
        "        k = k + 1\n",
        "      l = j+((k-1-j)>>1)\n",
        "      self._map[l]=i\n",
        "      self.bridge_index[i]=l\n",
        "      self.left_index[i]=j\n",
        "      self.right_index[i]=k\n",
        "      self.left_weight[i]=(k-l)/(k+1-j)\n",
        "      self.right_weight[i]=(1+l-j)/(k+1-j)\n",
        "      self.std_dev[i]=np.sqrt(((1+l-j)*(k-l))/(k+1-j))\n",
        "      j=k+1\n",
        "      if j>=number_time_steps:\n",
        "        j=0\n",
        "\n",
        "    self.bridge_index_t = tf.constant(tf.convert_to_tensor(self.bridge_index,dtype=tf.int32))\n",
        "    self.right_index_t = tf.constant(tf.convert_to_tensor(self.right_index,dtype=tf.int32))\n",
        "    self.left_index_t = tf.constant(tf.convert_to_tensor(self.left_index,dtype=tf.int32))\n",
        "    self.std_dev_t = tf.constant(tf.convert_to_tensor(self.std_dev))\n",
        "    self.right_weight_t = tf.constant(tf.convert_to_tensor(self.right_weight))\n",
        "    self.left_weight_t = tf.constant(tf.convert_to_tensor(self.left_weight))\n",
        "\n",
        "  @tf.function(jit_compile=True, input_signature=(tf.TensorSpec(shape=(None,None), dtype=tf.float64),\n",
        "                                                tf.TensorSpec(shape=(), dtype=tf.bool),\n",
        "                                                tf.TensorSpec(shape=(), dtype=tf.int32),\n",
        "                                                tf.TensorSpec(shape=(None), dtype=tf.int32),\n",
        "                                                tf.TensorSpec(shape=(None), dtype=tf.int32),\n",
        "                                                tf.TensorSpec(shape=(None), dtype=tf.int32),\n",
        "                                                tf.TensorSpec(shape=(None), dtype=tf.float64),\n",
        "                                                tf.TensorSpec(shape=(None), dtype=tf.float64),\n",
        "                                                tf.TensorSpec(shape=(None), dtype=tf.float64)))\n",
        "  def buildPath(z, increment, number_time_steps, left_index, right_index, bridge_index, left_weight, right_weight, std_dev):\n",
        "    path = tf.TensorArray(dtype=tf.float64,size=number_time_steps+1)\n",
        "    path = path.write(number_time_steps,std_dev[0]*z[0])\n",
        "    path = path.write(0,0*z[0]);  \n",
        "    j = 0\n",
        "    k = 0\n",
        "    l = 0\n",
        "    i = 0\n",
        "    for i in range(1,number_time_steps):\n",
        "      j = left_index[i]\n",
        "      k = right_index[i]\n",
        "      l = bridge_index[i]\n",
        "      path = path.write(l+1,left_weight[i] * path.read(j) + right_weight[i] * path.read(k+1) + std_dev[i] * z[i])\n",
        "\n",
        "    if increment:\n",
        "      for i in range(0,number_time_steps):\n",
        "        path = path.write(i, path.read(i+1) - path.read(i))\n",
        "\n",
        "    return path.stack()\n",
        "\n",
        "  def path(self,z,increment):\n",
        "    return UnivariateBrownianBridge.buildPath(z, increment, self.number_time_steps, self.left_index_t, self.right_index_t, self.bridge_index_t, self.left_weight_t, self.right_weight_t, self.std_dev_t)"
      ],
      "execution_count": 173,
      "outputs": []
    },
    {
      "cell_type": "code",
      "metadata": {
        "colab": {
          "base_uri": "https://localhost:8080/"
        },
        "id": "T4aaEAgiVAvA",
        "outputId": "878221cf-1ae4-4c26-a680-27c0e9339591"
      },
      "source": [
        "#@title Pricing time a CPU. Note TensorFlow does automatic multithreading.\n",
        "dim =  1#@param {type:\"integer\"}\n",
        "number =  7#@param {type:\"integer\"}\n",
        "\n",
        "brownian = UnivariateBrownianBridge(dim)\n",
        "\n",
        "x = tf.math.sobol_sample(dim,number,dtype=tf.dtypes.float64)\n",
        "z = tf.transpose(norminv(x))\n",
        "\n",
        "print(z)\n",
        "print(brownian.path(z, False))\n",
        "print(brownian.path(z, True))"
      ],
      "execution_count": 174,
      "outputs": [
        {
          "output_type": "stream",
          "name": "stdout",
          "text": [
            "tf.Tensor(\n[[ 0.          0.67448975 -0.67448975 -0.31863936  1.15034938  0.31863936\n  -1.15034938]], shape=(1, 7), dtype=float64)\ntf.Tensor(\n[[ 0.          0.         -0.         -0.          0.          0.\n  -0.        ]\n [ 0.          0.67448975 -0.67448975 -0.31863936  1.15034938  0.31863936\n  -1.15034938]], shape=(2, 7), dtype=float64)\ntf.Tensor(\n[[ 0.          0.67448975 -0.67448975 -0.31863936  1.15034938  0.31863936\n  -1.15034938]\n [ 0.          0.67448975 -0.67448975 -0.31863936  1.15034938  0.31863936\n  -1.15034938]], shape=(2, 7), dtype=float64)\n"
          ]
        }
      ]
    },
    {
      "cell_type": "code",
      "metadata": {
        "colab": {
          "base_uri": "https://localhost:8080/"
        },
        "id": "R_7zunY3VQxR",
        "outputId": "7355c803-630d-4898-9490-77e038e715d7"
      },
      "source": [
        "#@title Pricing time a CPU. Note TensorFlow does automatic multithreading.\n",
        "dim =  128#@param {type:\"integer\"}\n",
        "number =  200000#@param {type:\"integer\"}\n",
        "\n",
        "brownian = UnivariateBrownianBridge(dim)\n",
        "\n",
        "time_start = time.time()\n",
        "with tf.device(\"/cpu:0\"):\n",
        "    x = tf.math.sobol_sample(dim,number,dtype=tf.dtypes.float64)\n",
        "    z = tf.transpose(norminv(x))\n",
        "    w = brownian.path(z, True)\n",
        "time_end = time.time()\n",
        "time_price_cpu = time_end - time_start\n",
        "print(\"Runtime on CPU: \", time_price_cpu)"
      ],
      "execution_count": 175,
      "outputs": [
        {
          "output_type": "stream",
          "name": "stdout",
          "text": [
            "Runtime on CPU:  0.6209940910339355\n"
          ]
        }
      ]
    },
    {
      "cell_type": "code",
      "metadata": {
        "colab": {
          "base_uri": "https://localhost:8080/"
        },
        "id": "Sam0C_QzVfCa",
        "outputId": "e8a0927f-cdc1-4e28-ae2b-600d014ffa0e"
      },
      "source": [
        "dim =  256#@param {type:\"integer\"}\n",
        "number =  100000#@param {type:\"integer\"}\n",
        "\n",
        "time_start = time.time()\n",
        "\n",
        "brownian = UnivariateBrownianBridge(dim)\n",
        "\n",
        "with tf.profiler.experimental.Profile(\"logs/brownian\"):\n",
        "  with tf.device('/cpu'):\n",
        "    x = tf.math.sobol_sample(dim,number,dtype=tf.dtypes.float64)\n",
        "    z = tf.transpose(norminv(x))\n",
        "    w = brownian.path(z, True)\n",
        "time_end = time.time()\n",
        "time_price_tpu = time_end - time_start\n",
        "print(\"Time on a CPU: \", time_price_tpu)    "
      ],
      "execution_count": 177,
      "outputs": [
        {
          "output_type": "stream",
          "name": "stdout",
          "text": [
            "Time on a CPU:  0.6091873645782471\n"
          ]
        }
      ]
    },
    {
      "cell_type": "code",
      "metadata": {
        "colab": {
          "base_uri": "https://localhost:8080/"
        },
        "id": "R4HtxqRxV6sw",
        "outputId": "2070cd59-afcd-4668-b8cb-dd97275760ed"
      },
      "source": [
        "!pip install -U tensorboard_plugin_profile"
      ],
      "execution_count": 165,
      "outputs": [
        {
          "output_type": "stream",
          "name": "stderr",
          "text": [
            "You are using pip version 19.0.3, however version 20.3b1 is available.\n",
            "You should consider upgrading via the 'python -m pip install --upgrade pip' command.\n",
            "Requirement already up-to-date: tensorboard_plugin_profile in d:\\home\\quant_analytics_torch\\venv\\lib\\site-packages (2.3.0)\n",
            "Requirement already satisfied, skipping upgrade: protobuf>=3.6.0 in d:\\home\\quant_analytics_torch\\venv\\lib\\site-packages (from tensorboard_plugin_profile) (3.13.0)\n",
            "Requirement already satisfied, skipping upgrade: werkzeug>=0.11.15 in d:\\home\\quant_analytics_torch\\venv\\lib\\site-packages (from tensorboard_plugin_profile) (1.0.1)\n",
            "Requirement already satisfied, skipping upgrade: gviz-api>=1.9.0 in d:\\home\\quant_analytics_torch\\venv\\lib\\site-packages (from tensorboard_plugin_profile) (1.9.0)\n",
            "Requirement already satisfied, skipping upgrade: setuptools>=41.0.0 in d:\\home\\quant_analytics_torch\\venv\\lib\\site-packages (from tensorboard_plugin_profile) (50.3.2)\n",
            "Requirement already satisfied, skipping upgrade: six>=1.10.0 in d:\\home\\quant_analytics_torch\\venv\\lib\\site-packages (from tensorboard_plugin_profile) (1.15.0)\n"
          ]
        }
      ]
    },
    {
      "cell_type": "code",
      "metadata": {
        "id": "3CT12DkeV_ho"
      },
      "source": [
        "%load_ext tensorboard"
      ],
      "execution_count": 166,
      "outputs": [
        {
          "output_type": "stream",
          "name": "stdout",
          "text": [
            "The tensorboard extension is already loaded. To reload it, use:\n  %reload_ext tensorboard\n"
          ]
        }
      ]
    },
    {
      "cell_type": "code",
      "execution_count": 198,
      "metadata": {},
      "outputs": [],
      "source": [
        "S = 1\n",
        "K = 1\n",
        "sigma = 0.2\n",
        "sdt = np.sqrt(1./dim)\n",
        "\n",
        "p = tf.TensorArray(dtype=tf.float64,size=1)\n",
        "p = p.write(0,S*tf.ones(shape=(number),dtype=tf.float64));  "
      ]
    },
    {
      "cell_type": "code",
      "execution_count": 199,
      "metadata": {},
      "outputs": [],
      "source": [
        "brownian = UnivariateBrownianBridge(dim)\n",
        "\n",
        "x = tf.math.sobol_sample(dim,number,dtype=tf.dtypes.float64)\n",
        "z = tf.transpose(norminv(x))\n",
        "w = brownian.path(z, True)"
      ]
    },
    {
      "cell_type": "code",
      "execution_count": 200,
      "metadata": {},
      "outputs": [],
      "source": [
        "for i in range(dim):\n",
        "    p = p.write(0, p.read(0) * (1. + sigma * sdt * w[i]))"
      ]
    },
    {
      "cell_type": "code",
      "execution_count": 201,
      "metadata": {},
      "outputs": [],
      "source": [
        "x = p.read(0)"
      ]
    },
    {
      "cell_type": "code",
      "execution_count": 202,
      "metadata": {},
      "outputs": [
        {
          "output_type": "execute_result",
          "data": {
            "text/plain": [
              "<tf.Tensor: shape=(), dtype=float64, numpy=0.07965404472410584>"
            ]
          },
          "metadata": {},
          "execution_count": 202
        }
      ],
      "source": [
        "tf.math.reduce_mean(tf.math.maximum(x-1,0))"
      ]
    },
    {
      "cell_type": "code",
      "execution_count": 203,
      "metadata": {},
      "outputs": [],
      "source": [
        "w = brownian.path(z, False)"
      ]
    },
    {
      "cell_type": "code",
      "execution_count": 160,
      "metadata": {},
      "outputs": [
        {
          "output_type": "execute_result",
          "data": {
            "text/plain": [
              "<tf.Tensor: shape=(100000,), dtype=float64, numpy=\n",
              "array([  0.        ,  10.791836  , -10.791836  , ...,   1.82671272,\n",
              "       -27.05099133, -24.73321531])>"
            ]
          },
          "metadata": {},
          "execution_count": 160
        }
      ],
      "source": [
        "w[-1]"
      ]
    },
    {
      "cell_type": "code",
      "execution_count": null,
      "metadata": {},
      "outputs": [],
      "source": []
    }
  ]
}