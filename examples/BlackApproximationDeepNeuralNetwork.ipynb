{
  "nbformat": 4,
  "nbformat_minor": 0,
  "metadata": {
    "colab": {
      "name": "BlackApproximationDeepNeuralNetwork.ipynb",
      "provenance": [],
      "collapsed_sections": [],
      "authorship_tag": "ABX9TyNkZPVzxGGLXjcmsYAkn4Ij",
      "include_colab_link": true
    },
    "kernelspec": {
      "name": "python3",
      "display_name": "Python 3"
    },
    "accelerator": "GPU"
  },
  "cells": [
    {
      "cell_type": "markdown",
      "metadata": {
        "id": "view-in-github",
        "colab_type": "text"
      },
      "source": [
        "<a href=\"https://colab.research.google.com/github/QuantAnalyticsTorch/quant_analytics_torch/blob/main/examples/BlackApproximationDeepNeuralNetwork.ipynb\" target=\"_parent\"><img src=\"https://colab.research.google.com/assets/colab-badge.svg\" alt=\"Open In Colab\"/></a>"
      ]
    },
    {
      "cell_type": "code",
      "metadata": {
        "id": "K7Z2XwWChVAB"
      },
      "source": [
        "import torch"
      ],
      "execution_count": 1,
      "outputs": []
    },
    {
      "cell_type": "code",
      "metadata": {
        "id": "_qSm4opevEM2"
      },
      "source": [
        "import matplotlib.pyplot as plt"
      ],
      "execution_count": 2,
      "outputs": []
    },
    {
      "cell_type": "code",
      "metadata": {
        "id": "7Nt_eg9RB9gM",
        "outputId": "92eefc34-b3e6-4787-d30e-e288fa77e5dc",
        "colab": {
          "base_uri": "https://localhost:8080/"
        }
      },
      "source": [
        "device = None\n",
        "if torch.cuda.is_available():\n",
        "    device = torch.device('cuda')\n",
        "else:\n",
        "    device = torch.device('cpu')\n",
        "print(device)"
      ],
      "execution_count": 3,
      "outputs": [
        {
          "output_type": "stream",
          "text": [
            "cuda\n"
          ],
          "name": "stdout"
        }
      ]
    },
    {
      "cell_type": "code",
      "metadata": {
        "id": "vad0Z_olnFAf"
      },
      "source": [
        "def black_torch(f, k, sdtv):\n",
        "    n = torch.distributions.Normal(0, 1).cdf\n",
        "    d1 = torch.log(f / k) / sdtv + sdtv / 2\n",
        "    d2 = d1 - sdtv\n",
        "    return f * n(d1) - k * n(d2)"
      ],
      "execution_count": 4,
      "outputs": []
    },
    {
      "cell_type": "code",
      "metadata": {
        "id": "jCq62dPrndfd",
        "outputId": "e4d3df10-cbb4-4894-a45f-248c7a97327e",
        "colab": {
          "base_uri": "https://localhost:8080/"
        }
      },
      "source": [
        "black_torch(torch.tensor(1.),torch.tensor(1.),torch.tensor(0.2))"
      ],
      "execution_count": 5,
      "outputs": [
        {
          "output_type": "execute_result",
          "data": {
            "text/plain": [
              "tensor(0.0797)"
            ]
          },
          "metadata": {
            "tags": []
          },
          "execution_count": 5
        }
      ]
    },
    {
      "cell_type": "code",
      "metadata": {
        "id": "zsHD4LHDinIv"
      },
      "source": [
        "import numpy as np"
      ],
      "execution_count": 6,
      "outputs": []
    },
    {
      "cell_type": "code",
      "metadata": {
        "id": "eRp_Ub9ii3He"
      },
      "source": [
        "from sklearn.model_selection import train_test_split"
      ],
      "execution_count": 7,
      "outputs": []
    },
    {
      "cell_type": "code",
      "metadata": {
        "id": "XNGak5vlhQyi"
      },
      "source": [
        "import torch\n",
        "import numpy as np\n",
        "\n",
        "BATCH_SIZE = 10**4"
      ],
      "execution_count": 8,
      "outputs": []
    },
    {
      "cell_type": "code",
      "metadata": {
        "id": "8igwSAJLlGrh"
      },
      "source": [
        "TOTAL_DRAWS = 10**5\n",
        "\n",
        "#s = np.random.uniform(0.5,1.5,TOTAL_DRAWS)\n",
        "s = np.random.normal(1,0.1,TOTAL_DRAWS)\n",
        "#k = np.random.uniform(0.5,1.5,TOTAL_DRAWS)\n",
        "k = np.random.normal(1,0.2,TOTAL_DRAWS)\n",
        "sdtv = np.random.uniform(0.1,0.5,TOTAL_DRAWS)\n",
        "\n",
        "#xr = np.random.rand(TOTAL_DRAWS) * 2 * np.pi\n",
        "\n",
        "X = np.zeros(shape=(TOTAL_DRAWS,3))\n",
        "X[:,0] = s\n",
        "X[:,1] = k\n",
        "X[:,2] = sdtv\n",
        "s_t = torch.tensor(s, requires_grad=True)\n",
        "k_t = torch.tensor(k, requires_grad=True)\n",
        "sdtv_t = torch.tensor(sdtv, requires_grad=True)\n",
        "y = torch.zeros(size=(TOTAL_DRAWS,4))\n",
        "bt = black_torch(s_t, k_t, sdtv_t).clone()\n",
        "bt.sum().backward(retain_graph=True, create_graph=True)\n",
        "y[:,0] = bt\n",
        "y[:,1] = s_t.grad\n",
        "y[:,2] = k_t.grad\n",
        "y[:,3] = sdtv_t.grad\n",
        "\n",
        "Xt = torch.tensor(X, requires_grad=True, dtype=torch.float32).to(device)\n",
        "y = y.clone().detach().to(device)\n",
        "\n",
        "X_train, X_val, y_train, y_val = train_test_split(Xt, y, test_size=0.2)"
      ],
      "execution_count": 62,
      "outputs": []
    },
    {
      "cell_type": "code",
      "metadata": {
        "id": "ADclo7VapACD",
        "outputId": "c17aed89-31a5-42c5-ab5b-e682d6c33d87",
        "colab": {
          "base_uri": "https://localhost:8080/"
        }
      },
      "source": [
        "y"
      ],
      "execution_count": 63,
      "outputs": [
        {
          "output_type": "execute_result",
          "data": {
            "text/plain": [
              "tensor([[ 0.2357,  0.7091, -0.5785,  0.3996],\n",
              "        [ 0.0387,  0.2961, -0.2056,  0.2884],\n",
              "        [ 0.0539,  0.5460, -0.4993,  0.4270],\n",
              "        ...,\n",
              "        [ 0.1722,  0.8293, -0.7747,  0.2507],\n",
              "        [ 0.0477,  0.2468, -0.1359,  0.3001],\n",
              "        [ 0.2310,  0.7112, -0.5549,  0.3409]], device='cuda:0')"
            ]
          },
          "metadata": {
            "tags": []
          },
          "execution_count": 63
        }
      ]
    },
    {
      "cell_type": "code",
      "metadata": {
        "id": "32MqROhxn7rw"
      },
      "source": [
        "from torch.utils.data import Dataset, DataLoader"
      ],
      "execution_count": 64,
      "outputs": []
    },
    {
      "cell_type": "code",
      "metadata": {
        "id": "blJ0zaeAaGRH"
      },
      "source": [
        "class CustomDataset(Dataset):\n",
        "    def __init__(self, x, y):\n",
        "        self.x = x\n",
        "        self.y = y\n",
        "        \n",
        "    def __getitem__(self, index):\n",
        "        return (self.x[index], self.y[index])\n",
        "\n",
        "    def __len__(self):\n",
        "        return len(self.x)"
      ],
      "execution_count": 65,
      "outputs": []
    },
    {
      "cell_type": "code",
      "metadata": {
        "id": "ke77n3Ealpku"
      },
      "source": [
        "train_dataloader = DataLoader(CustomDataset(X_train, y_train), batch_size=BATCH_SIZE, shuffle=True)\n",
        "val_dataloader = DataLoader(CustomDataset(X_val, y_val), batch_size=BATCH_SIZE, shuffle=True)"
      ],
      "execution_count": 66,
      "outputs": []
    },
    {
      "cell_type": "code",
      "metadata": {
        "id": "ZB3ZR-iGlHnf"
      },
      "source": [
        "hidden_layer_size = 40\n",
        "\n",
        "class FunctionApproximation(torch.nn.Module):\n",
        "    def __init__(self):\n",
        "        super(FunctionApproximation, self).__init__()\n",
        "        self.regressor = torch.nn.Sequential(torch.nn.Linear(3, hidden_layer_size),\n",
        "                                       torch.nn.ReLU(inplace=True),\n",
        "                                       torch.nn.Linear(hidden_layer_size, hidden_layer_size),\n",
        "                                       torch.nn.ReLU(inplace=True),\n",
        "                                       torch.nn.Linear(hidden_layer_size, hidden_layer_size),\n",
        "                                       torch.nn.ReLU(inplace=True),\n",
        "                                       torch.nn.Linear(hidden_layer_size, hidden_layer_size),\n",
        "                                       torch.nn.ReLU(inplace=True),\n",
        "                                       torch.nn.Linear(hidden_layer_size, hidden_layer_size),\n",
        "                                       torch.nn.ReLU(inplace=True),\n",
        "                                       torch.nn.Linear(hidden_layer_size, 1))\n",
        "    def forward(self, x):\n",
        "        output = self.regressor(x)\n",
        "        return output"
      ],
      "execution_count": 67,
      "outputs": []
    },
    {
      "cell_type": "code",
      "metadata": {
        "id": "P615pH-elHro"
      },
      "source": [
        "model = FunctionApproximation().to(device)\n",
        "optimizer = torch.optim.Adam(model.parameters(), lr=0.003)\n",
        "criterion = torch.nn.MSELoss(reduction=\"mean\")"
      ],
      "execution_count": 68,
      "outputs": []
    },
    {
      "cell_type": "code",
      "metadata": {
        "id": "lppkipsEgVYr",
        "outputId": "8d384631-f5cd-43f7-c966-9626e75e1f66",
        "colab": {
          "base_uri": "https://localhost:8080/"
        }
      },
      "source": [
        "MAX_EPOCH = 5\n",
        "BETA = 0.2\n",
        "\n",
        "# training loop\n",
        "train_loss_list = list()\n",
        "val_loss_list = list()\n",
        "\n",
        "input = torch.zeros(size=(BATCH_SIZE,1))\n",
        "\n",
        "for epoch in range(MAX_EPOCH):\n",
        "    print(\"epoch %d / %d\" % (epoch+1, MAX_EPOCH))\n",
        "    model.train()\n",
        "    # training loop\n",
        "    temp_loss_list = list()\n",
        "    for X_train, y_train in train_dataloader:\n",
        "        input = X_train.clone().detach().requires_grad_(True)\n",
        "\n",
        "        model_output = model(input)\n",
        "\n",
        "        model_output.sum().backward(retain_graph=True, create_graph=True)\n",
        "        dX = input.grad\n",
        "\n",
        "#        print(dX)\n",
        "\n",
        "        input.requires_grad = False\n",
        "\n",
        "        loss0 = criterion(input=model_output, target=y_train[:,0:1])\n",
        "        loss1 = criterion(input=dX, target=y_train[:,1:4])        \n",
        "\n",
        "        loss = loss0 + BETA * loss1\n",
        "        print(loss)\n",
        "\n",
        "        optimizer.zero_grad()\n",
        "        loss.backward()\n",
        "        optimizer.step()\n",
        "\n",
        "    # validation\n",
        "    model.eval()"
      ],
      "execution_count": 81,
      "outputs": [
        {
          "output_type": "stream",
          "text": [
            "epoch 1 / 5\n",
            "tensor(0.0006, device='cuda:0', grad_fn=<AddBackward0>)\n",
            "tensor(0.0005, device='cuda:0', grad_fn=<AddBackward0>)\n",
            "tensor(0.0005, device='cuda:0', grad_fn=<AddBackward0>)\n",
            "tensor(0.0006, device='cuda:0', grad_fn=<AddBackward0>)\n",
            "tensor(0.0005, device='cuda:0', grad_fn=<AddBackward0>)\n",
            "tensor(0.0005, device='cuda:0', grad_fn=<AddBackward0>)\n",
            "tensor(0.0005, device='cuda:0', grad_fn=<AddBackward0>)\n",
            "tensor(0.0005, device='cuda:0', grad_fn=<AddBackward0>)\n",
            "epoch 2 / 5\n",
            "tensor(0.0005, device='cuda:0', grad_fn=<AddBackward0>)\n",
            "tensor(0.0004, device='cuda:0', grad_fn=<AddBackward0>)\n",
            "tensor(0.0005, device='cuda:0', grad_fn=<AddBackward0>)\n",
            "tensor(0.0005, device='cuda:0', grad_fn=<AddBackward0>)\n",
            "tensor(0.0005, device='cuda:0', grad_fn=<AddBackward0>)\n",
            "tensor(0.0004, device='cuda:0', grad_fn=<AddBackward0>)\n",
            "tensor(0.0004, device='cuda:0', grad_fn=<AddBackward0>)\n",
            "tensor(0.0004, device='cuda:0', grad_fn=<AddBackward0>)\n",
            "epoch 3 / 5\n",
            "tensor(0.0004, device='cuda:0', grad_fn=<AddBackward0>)\n",
            "tensor(0.0004, device='cuda:0', grad_fn=<AddBackward0>)\n",
            "tensor(0.0004, device='cuda:0', grad_fn=<AddBackward0>)\n",
            "tensor(0.0004, device='cuda:0', grad_fn=<AddBackward0>)\n",
            "tensor(0.0004, device='cuda:0', grad_fn=<AddBackward0>)\n",
            "tensor(0.0004, device='cuda:0', grad_fn=<AddBackward0>)\n",
            "tensor(0.0004, device='cuda:0', grad_fn=<AddBackward0>)\n",
            "tensor(0.0004, device='cuda:0', grad_fn=<AddBackward0>)\n",
            "epoch 4 / 5\n",
            "tensor(0.0004, device='cuda:0', grad_fn=<AddBackward0>)\n",
            "tensor(0.0004, device='cuda:0', grad_fn=<AddBackward0>)\n",
            "tensor(0.0004, device='cuda:0', grad_fn=<AddBackward0>)\n",
            "tensor(0.0004, device='cuda:0', grad_fn=<AddBackward0>)\n",
            "tensor(0.0004, device='cuda:0', grad_fn=<AddBackward0>)\n",
            "tensor(0.0004, device='cuda:0', grad_fn=<AddBackward0>)\n",
            "tensor(0.0004, device='cuda:0', grad_fn=<AddBackward0>)\n",
            "tensor(0.0004, device='cuda:0', grad_fn=<AddBackward0>)\n",
            "epoch 5 / 5\n",
            "tensor(0.0003, device='cuda:0', grad_fn=<AddBackward0>)\n",
            "tensor(0.0003, device='cuda:0', grad_fn=<AddBackward0>)\n",
            "tensor(0.0003, device='cuda:0', grad_fn=<AddBackward0>)\n",
            "tensor(0.0003, device='cuda:0', grad_fn=<AddBackward0>)\n",
            "tensor(0.0003, device='cuda:0', grad_fn=<AddBackward0>)\n",
            "tensor(0.0003, device='cuda:0', grad_fn=<AddBackward0>)\n",
            "tensor(0.0003, device='cuda:0', grad_fn=<AddBackward0>)\n",
            "tensor(0.0003, device='cuda:0', grad_fn=<AddBackward0>)\n"
          ],
          "name": "stdout"
        }
      ]
    },
    {
      "cell_type": "code",
      "metadata": {
        "id": "4Mrooeq9kZqi"
      },
      "source": [
        "ytp = black_torch(s_t, torch.tensor(1), torch.tensor(0.4))\n",
        "\n",
        "Xp = np.zeros(shape=(TOTAL_DRAWS,3))\n",
        "Xp[:,0] = s\n",
        "Xp[:,1] = 1\n",
        "Xp[:,2] = 0.4\n",
        "\n",
        "yt = model(torch.tensor(Xp, dtype=torch.float32).to(device))"
      ],
      "execution_count": 92,
      "outputs": []
    },
    {
      "cell_type": "code",
      "metadata": {
        "id": "TIiCe1sZmwWa",
        "outputId": "881ee70e-289c-40d7-9506-6c8bcac641eb",
        "colab": {
          "base_uri": "https://localhost:8080/",
          "height": 282
        }
      },
      "source": [
        "plt.plot(s,yt.detach().cpu().numpy(), 'x')\n",
        "plt.plot(s_t.detach().cpu().numpy(),ytp.detach().cpu().numpy(), 'x')"
      ],
      "execution_count": 93,
      "outputs": [
        {
          "output_type": "execute_result",
          "data": {
            "text/plain": [
              "[<matplotlib.lines.Line2D at 0x7fe1ea2f7390>]"
            ]
          },
          "metadata": {
            "tags": []
          },
          "execution_count": 93
        },
        {
          "output_type": "display_data",
          "data": {
            "image/png": "[encoded data removed]",
            "text/plain": [
              "<Figure size 432x288 with 1 Axes>"
            ]
          },
          "metadata": {
            "tags": [],
            "needs_background": "light"
          }
        }
      ]
    },
    {
      "cell_type": "code",
      "metadata": {
        "id": "74d7qo57myw6"
      },
      "source": [
        "ytp = black_torch(torch.tensor(1), torch.tensor(1), sdtv_t)\n",
        "\n",
        "Xp = np.zeros(shape=(TOTAL_DRAWS,3))\n",
        "Xp[:,0] = 1\n",
        "Xp[:,1] = 1\n",
        "Xp[:,2] = sdtv\n",
        "\n",
        "yt = model(torch.tensor(Xp, dtype=torch.float32).to(device))"
      ],
      "execution_count": 88,
      "outputs": []
    },
    {
      "cell_type": "code",
      "metadata": {
        "id": "ZQdAyw3FvZhl",
        "outputId": "b6da7437-e8d2-4e00-eb14-0eb8821a0566",
        "colab": {
          "base_uri": "https://localhost:8080/",
          "height": 282
        }
      },
      "source": [
        "plt.plot(sdtv,yt.detach().cpu().numpy(), 'x')\n",
        "plt.plot(sdtv_t.detach().cpu().numpy(),ytp.detach().cpu().numpy(), 'x')"
      ],
      "execution_count": 89,
      "outputs": [
        {
          "output_type": "execute_result",
          "data": {
            "text/plain": [
              "[<matplotlib.lines.Line2D at 0x7fded9c9e198>]"
            ]
          },
          "metadata": {
            "tags": []
          },
          "execution_count": 89
        },
        {
          "output_type": "display_data",
          "data": {
            "image/png": "[encoded data removed]",
            "text/plain": [
              "<Figure size 432x288 with 1 Axes>"
            ]
          },
          "metadata": {
            "tags": [],
            "needs_background": "light"
          }
        }
      ]
    },
    {
      "cell_type": "code",
      "metadata": {
        "id": "RVP4EK-SvbH9"
      },
      "source": [
        ""
      ],
      "execution_count": 536,
      "outputs": []
    }
  ]
}