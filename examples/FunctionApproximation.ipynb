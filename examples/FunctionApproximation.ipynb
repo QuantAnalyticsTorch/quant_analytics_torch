{
  "nbformat": 4,
  "nbformat_minor": 0,
  "metadata": {
    "colab": {
      "name": "FunctionApproximation.ipynb",
      "provenance": [],
      "collapsed_sections": [],
      "authorship_tag": "ABX9TyP20yCN7UQNYmlLefgxB2D8",
      "include_colab_link": true
    },
    "kernelspec": {
      "name": "python3",
      "display_name": "Python 3"
    },
    "accelerator": "GPU"
  },
  "cells": [
    {
      "cell_type": "markdown",
      "metadata": {
        "id": "view-in-github",
        "colab_type": "text"
      },
      "source": [
        "<a href=\"https://colab.research.google.com/github/QuantAnalyticsTorch/quant_analytics_torch/blob/main/examples/FunctionApproximation.ipynb\" target=\"_parent\"><img src=\"https://colab.research.google.com/assets/colab-badge.svg\" alt=\"Open In Colab\"/></a>"
      ]
    },
    {
      "cell_type": "code",
      "metadata": {
        "id": "K7Z2XwWChVAB"
      },
      "source": [
        "import torch"
      ],
      "execution_count": 1,
      "outputs": []
    },
    {
      "cell_type": "code",
      "metadata": {
        "id": "7Nt_eg9RB9gM",
        "outputId": "ccb4cf18-ed6f-495b-9a0e-658d010beae2",
        "colab": {
          "base_uri": "https://localhost:8080/"
        }
      },
      "source": [
        "device = None\n",
        "if torch.cuda.is_available():\n",
        "    device = torch.device('cuda')\n",
        "else:\n",
        "    device = torch.device('cpu')\n",
        "print(device)"
      ],
      "execution_count": 2,
      "outputs": [
        {
          "output_type": "stream",
          "text": [
            "cuda\n"
          ],
          "name": "stdout"
        }
      ]
    },
    {
      "cell_type": "code",
      "metadata": {
        "id": "zsHD4LHDinIv"
      },
      "source": [
        "import numpy as np"
      ],
      "execution_count": 3,
      "outputs": []
    },
    {
      "cell_type": "code",
      "metadata": {
        "id": "eRp_Ub9ii3He"
      },
      "source": [
        "from sklearn.model_selection import train_test_split"
      ],
      "execution_count": 4,
      "outputs": []
    },
    {
      "cell_type": "code",
      "metadata": {
        "id": "XNGak5vlhQyi"
      },
      "source": [
        "import torch\n",
        "import numpy as np\n",
        "\n",
        "BATCH_SIZE = 10**5"
      ],
      "execution_count": 5,
      "outputs": []
    },
    {
      "cell_type": "code",
      "metadata": {
        "id": "8igwSAJLlGrh"
      },
      "source": [
        "TOTAL_DRAWS = 10**6\n",
        "\n",
        "xr = np.random.rand(TOTAL_DRAWS) * 2 * np.pi\n",
        "\n",
        "X = np.zeros(shape=(TOTAL_DRAWS,1))\n",
        "X[:,0] = xr\n",
        "y = np.zeros(shape=(TOTAL_DRAWS,2))\n",
        "y[:,0] = np.sin(xr)\n",
        "y[:,1] = np.cos(xr)\n",
        "\n",
        "Xt = torch.tensor(X, requires_grad=True, dtype=torch.float32).to(device)\n",
        "y = torch.tensor(y, dtype=torch.float32).to(device)\n",
        "\n",
        "X_train, X_val, y_train, y_val = train_test_split(Xt, y, test_size=0.2)"
      ],
      "execution_count": 7,
      "outputs": []
    },
    {
      "cell_type": "code",
      "metadata": {
        "id": "32MqROhxn7rw"
      },
      "source": [
        "from torch.utils.data import Dataset, DataLoader"
      ],
      "execution_count": 8,
      "outputs": []
    },
    {
      "cell_type": "code",
      "metadata": {
        "id": "blJ0zaeAaGRH"
      },
      "source": [
        "class CustomDataset(Dataset):\n",
        "    def __init__(self, x, y):\n",
        "        self.x = x\n",
        "        self.y = y\n",
        "        \n",
        "    def __getitem__(self, index):\n",
        "        return (self.x[index], self.y[index])\n",
        "\n",
        "    def __len__(self):\n",
        "        return len(self.x)"
      ],
      "execution_count": 9,
      "outputs": []
    },
    {
      "cell_type": "code",
      "metadata": {
        "id": "ke77n3Ealpku"
      },
      "source": [
        "train_dataloader = DataLoader(CustomDataset(X_train, y_train), batch_size=BATCH_SIZE, shuffle=True)\n",
        "val_dataloader = DataLoader(CustomDataset(X_val, y_val), batch_size=BATCH_SIZE, shuffle=True)"
      ],
      "execution_count": 14,
      "outputs": []
    },
    {
      "cell_type": "code",
      "metadata": {
        "id": "ZB3ZR-iGlHnf"
      },
      "source": [
        "hidden_layer_size = 512\n",
        "\n",
        "class FunctionApproximation(torch.nn.Module):\n",
        "    def __init__(self):\n",
        "        super(FunctionApproximation, self).__init__()\n",
        "        self.regressor = torch.nn.Sequential(torch.nn.Linear(1, hidden_layer_size),\n",
        "                                       torch.nn.ReLU(inplace=True),\n",
        "                                       torch.nn.Linear(hidden_layer_size, hidden_layer_size),\n",
        "                                       torch.nn.ReLU(inplace=True),\n",
        "                                       torch.nn.Linear(hidden_layer_size, 1))\n",
        "    def forward(self, x):\n",
        "        output = self.regressor(x)\n",
        "        return output"
      ],
      "execution_count": 15,
      "outputs": []
    },
    {
      "cell_type": "code",
      "metadata": {
        "id": "P615pH-elHro"
      },
      "source": [
        "model = FunctionApproximation().to(device)\n",
        "optimizer = torch.optim.Adam(model.parameters(), lr=0.01)\n",
        "criterion = torch.nn.MSELoss(reduction=\"mean\")"
      ],
      "execution_count": 16,
      "outputs": []
    },
    {
      "cell_type": "code",
      "metadata": {
        "id": "lppkipsEgVYr",
        "outputId": "fb01d3ff-5636-428a-9d12-35ca29d7941d",
        "colab": {
          "base_uri": "https://localhost:8080/"
        }
      },
      "source": [
        "MAX_EPOCH = 3\n",
        "\n",
        "# training loop\n",
        "train_loss_list = list()\n",
        "val_loss_list = list()\n",
        "\n",
        "input = torch.zeros(size=(BATCH_SIZE,1))\n",
        "\n",
        "for epoch in range(MAX_EPOCH):\n",
        "    print(\"epoch %d / %d\" % (epoch+1, MAX_EPOCH))\n",
        "    model.train()\n",
        "    # training loop\n",
        "    temp_loss_list = list()\n",
        "    for X_train, y_train in train_dataloader:\n",
        "        input = X_train.clone().detach().requires_grad_(True)\n",
        "\n",
        "        model_output = model(input)\n",
        "\n",
        "        model_output.sum().backward(retain_graph=True, create_graph=True)\n",
        "        dX = input.grad\n",
        "        input.requires_grad = False\n",
        "\n",
        "        loss0 = criterion(input=model_output, target=y_train[:,0:1])\n",
        "        loss1 = criterion(input=dX, target=y_train[:,1:2])        \n",
        "\n",
        "        loss = loss0 + 1 * loss1\n",
        "        print(loss)\n",
        "\n",
        "        optimizer.zero_grad()\n",
        "        loss.backward()\n",
        "        optimizer.step()\n",
        "\n",
        "    # validation\n",
        "    model.eval()"
      ],
      "execution_count": 39,
      "outputs": [
        {
          "output_type": "stream",
          "text": [
            "epoch 1 / 3\n",
            "tensor(0.0390, device='cuda:0', grad_fn=<AddBackward0>)\n",
            "tensor(0.0405, device='cuda:0', grad_fn=<AddBackward0>)\n",
            "tensor(0.0401, device='cuda:0', grad_fn=<AddBackward0>)\n",
            "tensor(0.0395, device='cuda:0', grad_fn=<AddBackward0>)\n",
            "tensor(0.0377, device='cuda:0', grad_fn=<AddBackward0>)\n",
            "tensor(0.0377, device='cuda:0', grad_fn=<AddBackward0>)\n",
            "tensor(0.0382, device='cuda:0', grad_fn=<AddBackward0>)\n",
            "tensor(0.0364, device='cuda:0', grad_fn=<AddBackward0>)\n",
            "epoch 2 / 3\n",
            "tensor(0.0360, device='cuda:0', grad_fn=<AddBackward0>)\n",
            "tensor(0.0357, device='cuda:0', grad_fn=<AddBackward0>)\n",
            "tensor(0.0375, device='cuda:0', grad_fn=<AddBackward0>)\n",
            "tensor(0.0347, device='cuda:0', grad_fn=<AddBackward0>)\n",
            "tensor(0.0356, device='cuda:0', grad_fn=<AddBackward0>)\n",
            "tensor(0.0353, device='cuda:0', grad_fn=<AddBackward0>)\n",
            "tensor(0.0342, device='cuda:0', grad_fn=<AddBackward0>)\n",
            "tensor(0.0328, device='cuda:0', grad_fn=<AddBackward0>)\n",
            "epoch 3 / 3\n",
            "tensor(0.0333, device='cuda:0', grad_fn=<AddBackward0>)\n",
            "tensor(0.0331, device='cuda:0', grad_fn=<AddBackward0>)\n",
            "tensor(0.0340, device='cuda:0', grad_fn=<AddBackward0>)\n",
            "tensor(0.0325, device='cuda:0', grad_fn=<AddBackward0>)\n",
            "tensor(0.0304, device='cuda:0', grad_fn=<AddBackward0>)\n",
            "tensor(0.0325, device='cuda:0', grad_fn=<AddBackward0>)\n",
            "tensor(0.0312, device='cuda:0', grad_fn=<AddBackward0>)\n",
            "tensor(0.0304, device='cuda:0', grad_fn=<AddBackward0>)\n"
          ],
          "name": "stdout"
        }
      ]
    },
    {
      "cell_type": "code",
      "metadata": {
        "id": "4Mrooeq9kZqi"
      },
      "source": [
        "yt = model(Xt)"
      ],
      "execution_count": 40,
      "outputs": []
    },
    {
      "cell_type": "code",
      "metadata": {
        "id": "kJlv0RShmhmD"
      },
      "source": [
        "import matplotlib.pyplot as plt"
      ],
      "execution_count": 41,
      "outputs": []
    },
    {
      "cell_type": "code",
      "metadata": {
        "id": "TIiCe1sZmwWa",
        "outputId": "1fb1ee01-0889-4cfd-ed4e-75e14ff28147",
        "colab": {
          "base_uri": "https://localhost:8080/",
          "height": 282
        }
      },
      "source": [
        "plt.plot(X[:200,0],y.cpu()[:200,0], 'x')\n",
        "plt.plot(Xt.detach().cpu().numpy(),yt.detach().cpu().numpy(), 'x')"
      ],
      "execution_count": 42,
      "outputs": [
        {
          "output_type": "execute_result",
          "data": {
            "text/plain": [
              "[<matplotlib.lines.Line2D at 0x7ff741f08dd8>]"
            ]
          },
          "metadata": {
            "tags": []
          },
          "execution_count": 42
        },
        {
          "output_type": "display_data",
          "data": {
            "image/png": "[encoded data removed]",
            "text/plain": [
              "<Figure size 432x288 with 1 Axes>"
            ]
          },
          "metadata": {
            "tags": [],
            "needs_background": "light"
          }
        }
      ]
    },
    {
      "cell_type": "code",
      "metadata": {
        "id": "74d7qo57myw6"
      },
      "source": [
        ""
      ],
      "execution_count": 27,
      "outputs": []
    }
  ]
}