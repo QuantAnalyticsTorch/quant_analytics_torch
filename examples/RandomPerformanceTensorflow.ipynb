{
  "nbformat": 4,
  "nbformat_minor": 0,
  "metadata": {
    "colab": {
      "name": "RandomPerformanceTensorflow.ipynb",
      "provenance": [],
      "collapsed_sections": [],
      "authorship_tag": "ABX9TyNQz5UEFqQ8T54cerBoUttZ",
      "include_colab_link": true
    },
    "kernelspec": {
      "name": "python3",
      "display_name": "Python 3"
    },
    "accelerator": "GPU"
  },
  "cells": [
    {
      "cell_type": "markdown",
      "metadata": {
        "id": "view-in-github",
        "colab_type": "text"
      },
      "source": [
        "<a href=\"https://colab.research.google.com/github/QuantAnalyticsTorch/quant_analytics_torch/blob/main/examples/RandomPerformanceTensorflow.ipynb\" target=\"_parent\"><img src=\"https://colab.research.google.com/assets/colab-badge.svg\" alt=\"Open In Colab\"/></a>"
      ]
    },
    {
      "cell_type": "code",
      "metadata": {
        "colab": {
          "base_uri": "https://localhost:8080/"
        },
        "id": "nDp-CSVzD4RL",
        "outputId": "8d85f10e-8434-4ac9-ec41-4f402d2740aa"
      },
      "source": [
        "#@title Upgrade to TensorFlow nightly\n",
        "!pip uninstall tf-nightly-gpu"
      ],
      "execution_count": 7,
      "outputs": [
        {
          "output_type": "stream",
          "text": [
            "Uninstalling tf-nightly-gpu-2.5.0.dev20201128:\n",
            "  Would remove:\n",
            "    /usr/local/bin/estimator_ckpt_converter\n",
            "    /usr/local/bin/import_pb_to_tensorboard\n",
            "    /usr/local/bin/saved_model_cli\n",
            "    /usr/local/bin/tf_upgrade_v2\n",
            "    /usr/local/bin/tflite_convert\n",
            "    /usr/local/bin/toco\n",
            "    /usr/local/bin/toco_from_protos\n",
            "    /usr/local/lib/python3.6/dist-packages/tensorflow/*\n",
            "    /usr/local/lib/python3.6/dist-packages/tf_nightly_gpu-2.5.0.dev20201128.dist-info/*\n",
            "  Would not remove (might be manually added):\n",
            "    /usr/local/lib/python3.6/dist-packages/tensorflow/core/protobuf/data/__init__.py\n",
            "    /usr/local/lib/python3.6/dist-packages/tensorflow/core/protobuf/data/experimental/__init__.py\n",
            "    /usr/local/lib/python3.6/dist-packages/tensorflow/core/protobuf/data/experimental/snapshot_pb2.py\n",
            "    /usr/local/lib/python3.6/dist-packages/tensorflow/examples/__init__.py\n",
            "    /usr/local/lib/python3.6/dist-packages/tensorflow/examples/saved_model/__init__.py\n",
            "    /usr/local/lib/python3.6/dist-packages/tensorflow/examples/saved_model/integration_tests/__init__.py\n",
            "    /usr/local/lib/python3.6/dist-packages/tensorflow/examples/saved_model/integration_tests/mnist_util.py\n",
            "    /usr/local/lib/python3.6/dist-packages/tensorflow/include/Eigen/src/LU/arch/Inverse_SSE.h\n",
            "    /usr/local/lib/python3.6/dist-packages/tensorflow/include/external/astor_archive/LICENSE\n",
            "    /usr/local/lib/python3.6/dist-packages/tensorflow/include/external/cub_archive/_virtual_includes/cub/third_party/cub/agent/agent_histogram.cuh\n",
            "    /usr/local/lib/python3.6/dist-packages/tensorflow/include/external/cub_archive/_virtual_includes/cub/third_party/cub/agent/agent_radix_sort_downsweep.cuh\n",
            "    /usr/local/lib/python3.6/dist-packages/tensorflow/include/external/cub_archive/_virtual_includes/cub/third_party/cub/agent/agent_radix_sort_upsweep.cuh\n",
            "    /usr/local/lib/python3.6/dist-packages/tensorflow/include/external/cub_archive/_virtual_includes/cub/third_party/cub/agent/agent_reduce.cuh\n",
            "    /usr/local/lib/python3.6/dist-packages/tensorflow/include/external/cub_archive/_virtual_includes/cub/third_party/cub/agent/agent_reduce_by_key.cuh\n",
            "    /usr/local/lib/python3.6/dist-packages/tensorflow/include/external/cub_archive/_virtual_includes/cub/third_party/cub/agent/agent_rle.cuh\n",
            "    /usr/local/lib/python3.6/dist-packages/tensorflow/include/external/cub_archive/_virtual_includes/cub/third_party/cub/agent/agent_scan.cuh\n",
            "    /usr/local/lib/python3.6/dist-packages/tensorflow/include/external/cub_archive/_virtual_includes/cub/third_party/cub/agent/agent_segment_fixup.cuh\n",
            "    /usr/local/lib/python3.6/dist-packages/tensorflow/include/external/cub_archive/_virtual_includes/cub/third_party/cub/agent/agent_select_if.cuh\n",
            "    /usr/local/lib/python3.6/dist-packages/tensorflow/include/external/cub_archive/_virtual_includes/cub/third_party/cub/agent/agent_spmv_orig.cuh\n",
            "    /usr/local/lib/python3.6/dist-packages/tensorflow/include/external/cub_archive/_virtual_includes/cub/third_party/cub/agent/single_pass_scan_operators.cuh\n",
            "    /usr/local/lib/python3.6/dist-packages/tensorflow/include/external/cub_archive/_virtual_includes/cub/third_party/cub/block/block_adjacent_difference.cuh\n",
            "    /usr/local/lib/python3.6/dist-packages/tensorflow/include/external/cub_archive/_virtual_includes/cub/third_party/cub/block/block_discontinuity.cuh\n",
            "    /usr/local/lib/python3.6/dist-packages/tensorflow/include/external/cub_archive/_virtual_includes/cub/third_party/cub/block/block_exchange.cuh\n",
            "    /usr/local/lib/python3.6/dist-packages/tensorflow/include/external/cub_archive/_virtual_includes/cub/third_party/cub/block/block_histogram.cuh\n",
            "    /usr/local/lib/python3.6/dist-packages/tensorflow/include/external/cub_archive/_virtual_includes/cub/third_party/cub/block/block_load.cuh\n",
            "    /usr/local/lib/python3.6/dist-packages/tensorflow/include/external/cub_archive/_virtual_includes/cub/third_party/cub/block/block_radix_rank.cuh\n",
            "    /usr/local/lib/python3.6/dist-packages/tensorflow/include/external/cub_archive/_virtual_includes/cub/third_party/cub/block/block_radix_sort.cuh\n",
            "    /usr/local/lib/python3.6/dist-packages/tensorflow/include/external/cub_archive/_virtual_includes/cub/third_party/cub/block/block_raking_layout.cuh\n",
            "    /usr/local/lib/python3.6/dist-packages/tensorflow/include/external/cub_archive/_virtual_includes/cub/third_party/cub/block/block_reduce.cuh\n",
            "    /usr/local/lib/python3.6/dist-packages/tensorflow/include/external/cub_archive/_virtual_includes/cub/third_party/cub/block/block_scan.cuh\n",
            "    /usr/local/lib/python3.6/dist-packages/tensorflow/include/external/cub_archive/_virtual_includes/cub/third_party/cub/block/block_shuffle.cuh\n",
            "    /usr/local/lib/python3.6/dist-packages/tensorflow/include/external/cub_archive/_virtual_includes/cub/third_party/cub/block/block_store.cuh\n",
            "    /usr/local/lib/python3.6/dist-packages/tensorflow/include/external/cub_archive/_virtual_includes/cub/third_party/cub/block/specializations/block_histogram_atomic.cuh\n",
            "    /usr/local/lib/python3.6/dist-packages/tensorflow/include/external/cub_archive/_virtual_includes/cub/third_party/cub/block/specializations/block_histogram_sort.cuh\n",
            "    /usr/local/lib/python3.6/dist-packages/tensorflow/include/external/cub_archive/_virtual_includes/cub/third_party/cub/block/specializations/block_reduce_raking.cuh\n",
            "    /usr/local/lib/python3.6/dist-packages/tensorflow/include/external/cub_archive/_virtual_includes/cub/third_party/cub/block/specializations/block_reduce_raking_commutative_only.cuh\n",
            "    /usr/local/lib/python3.6/dist-packages/tensorflow/include/external/cub_archive/_virtual_includes/cub/third_party/cub/block/specializations/block_reduce_warp_reductions.cuh\n",
            "    /usr/local/lib/python3.6/dist-packages/tensorflow/include/external/cub_archive/_virtual_includes/cub/third_party/cub/block/specializations/block_scan_raking.cuh\n",
            "    /usr/local/lib/python3.6/dist-packages/tensorflow/include/external/cub_archive/_virtual_includes/cub/third_party/cub/block/specializations/block_scan_warp_scans.cuh\n",
            "    /usr/local/lib/python3.6/dist-packages/tensorflow/include/external/cub_archive/_virtual_includes/cub/third_party/cub/block/specializations/block_scan_warp_scans2.cuh\n",
            "    /usr/local/lib/python3.6/dist-packages/tensorflow/include/external/cub_archive/_virtual_includes/cub/third_party/cub/block/specializations/block_scan_warp_scans3.cuh\n",
            "    /usr/local/lib/python3.6/dist-packages/tensorflow/include/external/cub_archive/_virtual_includes/cub/third_party/cub/cub.cuh\n",
            "    /usr/local/lib/python3.6/dist-packages/tensorflow/include/external/cub_archive/_virtual_includes/cub/third_party/cub/device/device_histogram.cuh\n",
            "    /usr/local/lib/python3.6/dist-packages/tensorflow/include/external/cub_archive/_virtual_includes/cub/third_party/cub/device/device_partition.cuh\n",
            "    /usr/local/lib/python3.6/dist-packages/tensorflow/include/external/cub_archive/_virtual_includes/cub/third_party/cub/device/device_radix_sort.cuh\n",
            "    /usr/local/lib/python3.6/dist-packages/tensorflow/include/external/cub_archive/_virtual_includes/cub/third_party/cub/device/device_reduce.cuh\n",
            "    /usr/local/lib/python3.6/dist-packages/tensorflow/include/external/cub_archive/_virtual_includes/cub/third_party/cub/device/device_run_length_encode.cuh\n",
            "    /usr/local/lib/python3.6/dist-packages/tensorflow/include/external/cub_archive/_virtual_includes/cub/third_party/cub/device/device_scan.cuh\n",
            "    /usr/local/lib/python3.6/dist-packages/tensorflow/include/external/cub_archive/_virtual_includes/cub/third_party/cub/device/device_segmented_radix_sort.cuh\n",
            "    /usr/local/lib/python3.6/dist-packages/tensorflow/include/external/cub_archive/_virtual_includes/cub/third_party/cub/device/device_segmented_reduce.cuh\n",
            "    /usr/local/lib/python3.6/dist-packages/tensorflow/include/external/cub_archive/_virtual_includes/cub/third_party/cub/device/device_select.cuh\n",
            "    /usr/local/lib/python3.6/dist-packages/tensorflow/include/external/cub_archive/_virtual_includes/cub/third_party/cub/device/device_spmv.cuh\n",
            "    /usr/local/lib/python3.6/dist-packages/tensorflow/include/external/cub_archive/_virtual_includes/cub/third_party/cub/device/dispatch/dispatch_histogram.cuh\n",
            "    /usr/local/lib/python3.6/dist-packages/tensorflow/include/external/cub_archive/_virtual_includes/cub/third_party/cub/device/dispatch/dispatch_radix_sort.cuh\n",
            "    /usr/local/lib/python3.6/dist-packages/tensorflow/include/external/cub_archive/_virtual_includes/cub/third_party/cub/device/dispatch/dispatch_reduce.cuh\n",
            "    /usr/local/lib/python3.6/dist-packages/tensorflow/include/external/cub_archive/_virtual_includes/cub/third_party/cub/device/dispatch/dispatch_reduce_by_key.cuh\n",
            "    /usr/local/lib/python3.6/dist-packages/tensorflow/include/external/cub_archive/_virtual_includes/cub/third_party/cub/device/dispatch/dispatch_rle.cuh\n",
            "    /usr/local/lib/python3.6/dist-packages/tensorflow/include/external/cub_archive/_virtual_includes/cub/third_party/cub/device/dispatch/dispatch_scan.cuh\n",
            "    /usr/local/lib/python3.6/dist-packages/tensorflow/include/external/cub_archive/_virtual_includes/cub/third_party/cub/device/dispatch/dispatch_select_if.cuh\n",
            "    /usr/local/lib/python3.6/dist-packages/tensorflow/include/external/cub_archive/_virtual_includes/cub/third_party/cub/device/dispatch/dispatch_spmv_orig.cuh\n",
            "    /usr/local/lib/python3.6/dist-packages/tensorflow/include/external/cub_archive/_virtual_includes/cub/third_party/cub/grid/grid_barrier.cuh\n",
            "    /usr/local/lib/python3.6/dist-packages/tensorflow/include/external/cub_archive/_virtual_includes/cub/third_party/cub/grid/grid_even_share.cuh\n",
            "    /usr/local/lib/python3.6/dist-packages/tensorflow/include/external/cub_archive/_virtual_includes/cub/third_party/cub/grid/grid_mapping.cuh\n",
            "    /usr/local/lib/python3.6/dist-packages/tensorflow/include/external/cub_archive/_virtual_includes/cub/third_party/cub/grid/grid_queue.cuh\n",
            "    /usr/local/lib/python3.6/dist-packages/tensorflow/include/external/cub_archive/_virtual_includes/cub/third_party/cub/host/mutex.cuh\n",
            "    /usr/local/lib/python3.6/dist-packages/tensorflow/include/external/cub_archive/_virtual_includes/cub/third_party/cub/iterator/arg_index_input_iterator.cuh\n",
            "    /usr/local/lib/python3.6/dist-packages/tensorflow/include/external/cub_archive/_virtual_includes/cub/third_party/cub/iterator/cache_modified_input_iterator.cuh\n",
            "    /usr/local/lib/python3.6/dist-packages/tensorflow/include/external/cub_archive/_virtual_includes/cub/third_party/cub/iterator/cache_modified_output_iterator.cuh\n",
            "    /usr/local/lib/python3.6/dist-packages/tensorflow/include/external/cub_archive/_virtual_includes/cub/third_party/cub/iterator/constant_input_iterator.cuh\n",
            "    /usr/local/lib/python3.6/dist-packages/tensorflow/include/external/cub_archive/_virtual_includes/cub/third_party/cub/iterator/counting_input_iterator.cuh\n",
            "    /usr/local/lib/python3.6/dist-packages/tensorflow/include/external/cub_archive/_virtual_includes/cub/third_party/cub/iterator/discard_output_iterator.cuh\n",
            "    /usr/local/lib/python3.6/dist-packages/tensorflow/include/external/cub_archive/_virtual_includes/cub/third_party/cub/iterator/tex_obj_input_iterator.cuh\n",
            "    /usr/local/lib/python3.6/dist-packages/tensorflow/include/external/cub_archive/_virtual_includes/cub/third_party/cub/iterator/tex_ref_input_iterator.cuh\n",
            "    /usr/local/lib/python3.6/dist-packages/tensorflow/include/external/cub_archive/_virtual_includes/cub/third_party/cub/iterator/transform_input_iterator.cuh\n",
            "    /usr/local/lib/python3.6/dist-packages/tensorflow/include/external/cub_archive/_virtual_includes/cub/third_party/cub/thread/thread_load.cuh\n",
            "    /usr/local/lib/python3.6/dist-packages/tensorflow/include/external/cub_archive/_virtual_includes/cub/third_party/cub/thread/thread_operators.cuh\n",
            "    /usr/local/lib/python3.6/dist-packages/tensorflow/include/external/cub_archive/_virtual_includes/cub/third_party/cub/thread/thread_reduce.cuh\n",
            "    /usr/local/lib/python3.6/dist-packages/tensorflow/include/external/cub_archive/_virtual_includes/cub/third_party/cub/thread/thread_scan.cuh\n",
            "    /usr/local/lib/python3.6/dist-packages/tensorflow/include/external/cub_archive/_virtual_includes/cub/third_party/cub/thread/thread_search.cuh\n",
            "    /usr/local/lib/python3.6/dist-packages/tensorflow/include/external/cub_archive/_virtual_includes/cub/third_party/cub/thread/thread_store.cuh\n",
            "    /usr/local/lib/python3.6/dist-packages/tensorflow/include/external/cub_archive/_virtual_includes/cub/third_party/cub/util_allocator.cuh\n",
            "    /usr/local/lib/python3.6/dist-packages/tensorflow/include/external/cub_archive/_virtual_includes/cub/third_party/cub/util_arch.cuh\n",
            "    /usr/local/lib/python3.6/dist-packages/tensorflow/include/external/cub_archive/_virtual_includes/cub/third_party/cub/util_arch.cuh.orig\n",
            "    /usr/local/lib/python3.6/dist-packages/tensorflow/include/external/cub_archive/_virtual_includes/cub/third_party/cub/util_debug.cuh\n",
            "    /usr/local/lib/python3.6/dist-packages/tensorflow/include/external/cub_archive/_virtual_includes/cub/third_party/cub/util_device.cuh\n",
            "    /usr/local/lib/python3.6/dist-packages/tensorflow/include/external/cub_archive/_virtual_includes/cub/third_party/cub/util_macro.cuh\n",
            "    /usr/local/lib/python3.6/dist-packages/tensorflow/include/external/cub_archive/_virtual_includes/cub/third_party/cub/util_namespace.cuh\n",
            "    /usr/local/lib/python3.6/dist-packages/tensorflow/include/external/cub_archive/_virtual_includes/cub/third_party/cub/util_ptx.cuh\n",
            "    /usr/local/lib/python3.6/dist-packages/tensorflow/include/external/cub_archive/_virtual_includes/cub/third_party/cub/util_type.cuh\n",
            "    /usr/local/lib/python3.6/dist-packages/tensorflow/include/external/cub_archive/_virtual_includes/cub/third_party/cub/warp/specializations/warp_reduce_shfl.cuh\n",
            "    /usr/local/lib/python3.6/dist-packages/tensorflow/include/external/cub_archive/_virtual_includes/cub/third_party/cub/warp/specializations/warp_reduce_smem.cuh\n",
            "    /usr/local/lib/python3.6/dist-packages/tensorflow/include/external/cub_archive/_virtual_includes/cub/third_party/cub/warp/specializations/warp_scan_shfl.cuh\n",
            "    /usr/local/lib/python3.6/dist-packages/tensorflow/include/external/cub_archive/_virtual_includes/cub/third_party/cub/warp/specializations/warp_scan_smem.cuh\n",
            "    /usr/local/lib/python3.6/dist-packages/tensorflow/include/external/cub_archive/_virtual_includes/cub/third_party/cub/warp/warp_reduce.cuh\n",
            "    /usr/local/lib/python3.6/dist-packages/tensorflow/include/external/cub_archive/_virtual_includes/cub/third_party/cub/warp/warp_scan.cuh\n",
            "    /usr/local/lib/python3.6/dist-packages/tensorflow/include/external/llvm-project/mlir/_virtual_includes/DialectSymbolRegistry/DialectSymbolRegistry.def\n",
            "    /usr/local/lib/python3.6/dist-packages/tensorflow/include/external/llvm-project/mlir/_virtual_includes/GPUOpsIncGen/mlir/Dialect/GPU/GPUOpsDialect.h.inc\n",
            "    /usr/local/lib/python3.6/dist-packages/tensorflow/include/external/llvm-project/mlir/_virtual_includes/LinalgStructuredOpsIncGen/mlir/Dialect/Linalg/IR/LinalgStructuredOpsInterfaces.cpp.inc\n",
            "    /usr/local/lib/python3.6/dist-packages/tensorflow/include/external/llvm-project/mlir/_virtual_includes/LinalgStructuredOpsIncGen/mlir/Dialect/Linalg/IR/LinalgStructuredOpsInterfaces.h.inc\n",
            "    /usr/local/lib/python3.6/dist-packages/tensorflow/include/external/llvm-project/mlir/_virtual_includes/LoopPassIncGen/mlir/Dialect/SCF/Passes.h.inc\n",
            "    /usr/local/lib/python3.6/dist-packages/tensorflow/include/external/llvm-project/mlir/_virtual_includes/OpAsmInterfacesIncGen/mlir/IR/OpAsmInterface.cpp.inc\n",
            "    /usr/local/lib/python3.6/dist-packages/tensorflow/include/external/llvm-project/mlir/_virtual_includes/OpAsmInterfacesIncGen/mlir/IR/OpAsmInterface.h.inc\n",
            "    /usr/local/lib/python3.6/dist-packages/tensorflow/include/external/llvm-project/mlir/_virtual_includes/ShapeToStandardPatternsIncGen/ShapeToStandardPatterns.inc\n",
            "    /usr/local/lib/python3.6/dist-packages/tensorflow/include/external/llvm-project/mlir/include/mlir-c/Core.h\n",
            "    /usr/local/lib/python3.6/dist-packages/tensorflow/include/external/llvm-project/mlir/include/mlir/Conversion/ShapeToSCF/ShapeToSCF.h\n",
            "    /usr/local/lib/python3.6/dist-packages/tensorflow/include/external/llvm-project/mlir/include/mlir/Conversion/ShapeToStandard/ShapeToStandardPatterns.inc\n",
            "    /usr/local/lib/python3.6/dist-packages/tensorflow/include/external/llvm-project/mlir/include/mlir/Dialect/Vector/VectorTransformPatterns.h.inc\n",
            "    /usr/local/lib/python3.6/dist-packages/tensorflow/include/external/llvm-project/mlir/include/mlir/ExecutionEngine/OptUtils.h\n",
            "    /usr/local/lib/python3.6/dist-packages/tensorflow/include/external/llvm-project/mlir/include/mlir/IR/DialectHooks.h\n",
            "    /usr/local/lib/python3.6/dist-packages/tensorflow/include/external/llvm-project/mlir/include/mlir/IR/DialectSymbolRegistry.def\n",
            "    /usr/local/lib/python3.6/dist-packages/tensorflow/include/external/llvm-project/mlir/include/mlir/Support/MlirOptMain.h\n",
            "    /usr/local/lib/python3.6/dist-packages/tensorflow/include/external/llvm-project/mlir/include/mlir/Transforms/BufferPlacement.h\n",
            "    /usr/local/lib/python3.6/dist-packages/tensorflow/include/external/local_config_sycl/sycl/LICENSE.text\n",
            "    /usr/local/lib/python3.6/dist-packages/tensorflow/include/tensorflow/c/experimental/network.h\n",
            "    /usr/local/lib/python3.6/dist-packages/tensorflow/include/tensorflow/c/experimental/network_internal.h\n",
            "    /usr/local/lib/python3.6/dist-packages/tensorflow/include/tensorflow/c/experimental/rendezvous.h\n",
            "    /usr/local/lib/python3.6/dist-packages/tensorflow/include/tensorflow/c/experimental/rendezvous_internal.h\n",
            "    /usr/local/lib/python3.6/dist-packages/tensorflow/include/tensorflow/compiler/jit/graphcycles/graphcycles.h\n",
            "    /usr/local/lib/python3.6/dist-packages/tensorflow/include/tensorflow/compiler/jit/graphcycles/ordered_set.h\n",
            "    /usr/local/lib/python3.6/dist-packages/tensorflow/include/tensorflow/compiler/jit/union_find.h\n",
            "    /usr/local/lib/python3.6/dist-packages/tensorflow/include/tensorflow/compiler/jit/xla_kernel_creator_util.h\n",
            "    /usr/local/lib/python3.6/dist-packages/tensorflow/include/tensorflow/compiler/mlir/tensorflow/ir/tf_ops.h.inc\n",
            "    /usr/local/lib/python3.6/dist-packages/tensorflow/include/tensorflow/compiler/mlir/tensorflow/transforms/batchmatmul_to_einsum.h\n",
            "    /usr/local/lib/python3.6/dist-packages/tensorflow/include/tensorflow/compiler/mlir/xla/convert_op_folder.h\n",
            "    /usr/local/lib/python3.6/dist-packages/tensorflow/include/tensorflow/compiler/mlir/xla/ir/broadcast_utils.h\n",
            "    /usr/local/lib/python3.6/dist-packages/tensorflow/include/tensorflow/compiler/mlir/xla/ir/chlo_ops.h\n",
            "    /usr/local/lib/python3.6/dist-packages/tensorflow/include/tensorflow/compiler/mlir/xla/ir/chlo_ops.h.inc\n",
            "    /usr/local/lib/python3.6/dist-packages/tensorflow/include/tensorflow/compiler/mlir/xla/ir/hlo_ops.h\n",
            "    /usr/local/lib/python3.6/dist-packages/tensorflow/include/tensorflow/compiler/mlir/xla/ir/hlo_ops.h.inc\n",
            "    /usr/local/lib/python3.6/dist-packages/tensorflow/include/tensorflow/compiler/mlir/xla/ir/hlo_ops_base.h.inc\n",
            "    /usr/local/lib/python3.6/dist-packages/tensorflow/include/tensorflow/compiler/mlir/xla/ir/hlo_structs.h.inc\n",
            "    /usr/local/lib/python3.6/dist-packages/tensorflow/include/tensorflow/compiler/mlir/xla/ir/hlo_utils.h\n",
            "    /usr/local/lib/python3.6/dist-packages/tensorflow/include/tensorflow/compiler/mlir/xla/ir/infer_fusibility_op_interface.h\n",
            "    /usr/local/lib/python3.6/dist-packages/tensorflow/include/tensorflow/compiler/mlir/xla/ir/infer_fusibility_op_interface.h.inc\n",
            "    /usr/local/lib/python3.6/dist-packages/tensorflow/include/tensorflow/compiler/mlir/xla/ir/lhlo_ops.h\n",
            "    /usr/local/lib/python3.6/dist-packages/tensorflow/include/tensorflow/compiler/mlir/xla/ir/lhlo_ops.h.inc\n",
            "    /usr/local/lib/python3.6/dist-packages/tensorflow/include/tensorflow/compiler/mlir/xla/ir/lhlo_structs.h.inc\n",
            "    /usr/local/lib/python3.6/dist-packages/tensorflow/include/tensorflow/compiler/mlir/xla/transforms/rewriters.h\n",
            "    /usr/local/lib/python3.6/dist-packages/tensorflow/include/tensorflow/compiler/xla/service/gpu/hlo_algorithm_blacklist.h\n",
            "    /usr/local/lib/python3.6/dist-packages/tensorflow/include/tensorflow/compiler/xla/service/gpu/horizontal_fusion.h\n",
            "    /usr/local/lib/python3.6/dist-packages/tensorflow/include/tensorflow/compiler/xla/service/gpu/partition_assignment.h\n",
            "    /usr/local/lib/python3.6/dist-packages/tensorflow/include/tensorflow/compiler/xla/service/hlo_get_dimension_size_rewriter.h\n",
            "    /usr/local/lib/python3.6/dist-packages/tensorflow/include/tensorflow/core/common_runtime/gpu/gpu_host_allocator.h\n",
            "    /usr/local/lib/python3.6/dist-packages/tensorflow/include/tensorflow/core/common_runtime/gpu/gpu_id_utils.h\n",
            "    /usr/local/lib/python3.6/dist-packages/tensorflow/include/tensorflow/core/common_runtime/gpu/gpu_mem_allocator.h\n",
            "    /usr/local/lib/python3.6/dist-packages/tensorflow/include/tensorflow/core/common_runtime/sycl/sycl_allocator.h\n",
            "    /usr/local/lib/python3.6/dist-packages/tensorflow/include/tensorflow/core/common_runtime/sycl/sycl_device.h\n",
            "    /usr/local/lib/python3.6/dist-packages/tensorflow/include/tensorflow/core/common_runtime/sycl/sycl_device_context.h\n",
            "    /usr/local/lib/python3.6/dist-packages/tensorflow/include/tensorflow/core/common_runtime/sycl/sycl_util.h\n",
            "    /usr/local/lib/python3.6/dist-packages/tensorflow/include/tensorflow/core/framework/dataset_stateful_op_whitelist.h\n",
            "    /usr/local/lib/python3.6/dist-packages/tensorflow/include/tensorflow/core/grappler/optimizers/data/inject_prefetch.h\n",
            "    /usr/local/lib/python3.6/dist-packages/tensorflow/include/tensorflow/core/kernels/adjust_contrast_op.h\n",
            "    /usr/local/lib/python3.6/dist-packages/tensorflow/include/tensorflow/core/kernels/adjust_hsv_gpu.cu.h\n",
            "    /usr/local/lib/python3.6/dist-packages/tensorflow/include/tensorflow/core/kernels/adjust_hue_op.h\n",
            "    /usr/local/lib/python3.6/dist-packages/tensorflow/include/tensorflow/core/kernels/adjust_saturation_op.h\n",
            "    /usr/local/lib/python3.6/dist-packages/tensorflow/include/tensorflow/core/kernels/batch_matmul_op_impl.h\n",
            "    /usr/local/lib/python3.6/dist-packages/tensorflow/include/tensorflow/core/kernels/colorspace_op.h\n",
            "    /usr/local/lib/python3.6/dist-packages/tensorflow/include/tensorflow/core/kernels/crop_and_resize_op.h\n",
            "    /usr/local/lib/python3.6/dist-packages/tensorflow/include/tensorflow/core/kernels/cuda_solvers.h\n",
            "    /usr/local/lib/python3.6/dist-packages/tensorflow/include/tensorflow/core/kernels/cuda_sparse.h\n",
            "    /usr/local/lib/python3.6/dist-packages/tensorflow/include/tensorflow/core/kernels/cwise_ops_sycl_common.h\n",
            "    /usr/local/lib/python3.6/dist-packages/tensorflow/include/tensorflow/core/kernels/determinant_op.h\n",
            "    /usr/local/lib/python3.6/dist-packages/tensorflow/include/tensorflow/core/kernels/eig_op_impl.h\n",
            "    /usr/local/lib/python3.6/dist-packages/tensorflow/include/tensorflow/core/kernels/einsum_op.h\n",
            "    /usr/local/lib/python3.6/dist-packages/tensorflow/include/tensorflow/core/kernels/einsum_op_impl.h\n",
            "    /usr/local/lib/python3.6/dist-packages/tensorflow/include/tensorflow/core/kernels/extract_image_patches_op.h\n",
            "    /usr/local/lib/python3.6/dist-packages/tensorflow/include/tensorflow/core/kernels/extract_volume_patches_op.h\n",
            "    /usr/local/lib/python3.6/dist-packages/tensorflow/include/tensorflow/core/kernels/eye_functor.h\n",
            "    /usr/local/lib/python3.6/dist-packages/tensorflow/include/tensorflow/core/kernels/image_ops.h\n",
            "    /usr/local/lib/python3.6/dist-packages/tensorflow/include/tensorflow/core/kernels/image_resizer_state.h\n",
            "    /usr/local/lib/python3.6/dist-packages/tensorflow/include/tensorflow/core/kernels/linalg_ops_common.h\n",
            "    /usr/local/lib/python3.6/dist-packages/tensorflow/include/tensorflow/core/kernels/matrix_band_part_op.h\n",
            "    /usr/local/lib/python3.6/dist-packages/tensorflow/include/tensorflow/core/kernels/matrix_diag_op.h\n",
            "    /usr/local/lib/python3.6/dist-packages/tensorflow/include/tensorflow/core/kernels/matrix_set_diag_op.h\n",
            "    /usr/local/lib/python3.6/dist-packages/tensorflow/include/tensorflow/core/kernels/matrix_solve_ls_op_impl.h\n",
            "    /usr/local/lib/python3.6/dist-packages/tensorflow/include/tensorflow/core/kernels/matrix_triangular_solve_op_impl.h\n",
            "    /usr/local/lib/python3.6/dist-packages/tensorflow/include/tensorflow/core/kernels/mirror_pad_op.h\n",
            "    /usr/local/lib/python3.6/dist-packages/tensorflow/include/tensorflow/core/kernels/mirror_pad_op_cpu_impl.h\n",
            "    /usr/local/lib/python3.6/dist-packages/tensorflow/include/tensorflow/core/kernels/non_max_suppression_op.h\n",
            "    /usr/local/lib/python3.6/dist-packages/tensorflow/include/tensorflow/core/kernels/qr_op_impl.h\n",
            "    /usr/local/lib/python3.6/dist-packages/tensorflow/include/tensorflow/core/kernels/resize_bilinear_op.h\n",
            "    /usr/local/lib/python3.6/dist-packages/tensorflow/include/tensorflow/core/kernels/resize_nearest_neighbor_op.h\n",
            "    /usr/local/lib/python3.6/dist-packages/tensorflow/include/tensorflow/core/kernels/sampling_kernels.h\n",
            "    /usr/local/lib/python3.6/dist-packages/tensorflow/include/tensorflow/core/kernels/scale_and_translate_op.h\n",
            "    /usr/local/lib/python3.6/dist-packages/tensorflow/include/tensorflow/core/kernels/self_adjoint_eig_v2_op_impl.h\n",
            "    /usr/local/lib/python3.6/dist-packages/tensorflow/include/tensorflow/core/kernels/svd_op_impl.h\n",
            "    /usr/local/lib/python3.6/dist-packages/tensorflow/include/tensorflow/core/ops/ragged_to_dense_util.h\n",
            "    /usr/local/lib/python3.6/dist-packages/tensorflow/include/tensorflow/core/platform/default/strong_hash.h\n",
            "    /usr/local/lib/python3.6/dist-packages/tensorflow/include/tensorflow/core/platform/tf32_utils.h\n",
            "    /usr/local/lib/python3.6/dist-packages/tensorflow/include/tensorflow/core/profiler/internal/annotation_stack.h\n",
            "    /usr/local/lib/python3.6/dist-packages/tensorflow/include/tensorflow/core/profiler/internal/parse_annotation.h\n",
            "    /usr/local/lib/python3.6/dist-packages/tensorflow/include/tensorflow/core/profiler/internal/profiler_factory.h\n",
            "    /usr/local/lib/python3.6/dist-packages/tensorflow/include/tensorflow/core/profiler/internal/profiler_interface.h\n",
            "    /usr/local/lib/python3.6/dist-packages/tensorflow/include/tensorflow/core/profiler/internal/traceme_recorder.h\n",
            "    /usr/local/lib/python3.6/dist-packages/tensorflow/include/tensorflow/core/protobuf/data/experimental/snapshot.pb.h\n",
            "    /usr/local/lib/python3.6/dist-packages/tensorflow/include/tensorflow/core/protobuf/data/experimental/snapshot.proto\n",
            "    /usr/local/lib/python3.6/dist-packages/tensorflow/include/tensorflow/stream_executor/shared_memory_config.h\n",
            "    /usr/local/lib/python3.6/dist-packages/tensorflow/python/_pywrap_tf32_execution.so\n",
            "    /usr/local/lib/python3.6/dist-packages/tensorflow/python/autograph/operators/control_flow_deprecated_py2.py\n",
            "    /usr/local/lib/python3.6/dist-packages/tensorflow/python/autograph/pyct/loader_deprecated_py2.py\n",
            "    /usr/local/lib/python3.6/dist-packages/tensorflow/python/autograph/utils/compat_util.py\n",
            "    /usr/local/lib/python3.6/dist-packages/tensorflow/python/distribute/all_reduce.py\n",
            "    /usr/local/lib/python3.6/dist-packages/tensorflow/python/distribute/distributed_file_utils.py\n",
            "    /usr/local/lib/python3.6/dist-packages/tensorflow/python/distribute/model_collection/__init__.py\n",
            "    /usr/local/lib/python3.6/dist-packages/tensorflow/python/distribute/model_collection/model_collection_base.py\n",
            "    /usr/local/lib/python3.6/dist-packages/tensorflow/python/distribute/model_collection/simple_models.py\n",
            "    /usr/local/lib/python3.6/dist-packages/tensorflow/python/distribute/model_combinations.py\n",
            "    /usr/local/lib/python3.6/dist-packages/tensorflow/python/distribute/saved_model_test_base.py\n",
            "    /usr/local/lib/python3.6/dist-packages/tensorflow/python/framework/composite_tensor_utils.py\n",
            "    /usr/local/lib/python3.6/dist-packages/tensorflow/python/keras/engine/training_arrays.py\n",
            "    /usr/local/lib/python3.6/dist-packages/tensorflow/python/keras/engine/training_distributed.py\n",
            "    /usr/local/lib/python3.6/dist-packages/tensorflow/python/keras/engine/training_eager.py\n",
            "    /usr/local/lib/python3.6/dist-packages/tensorflow/python/keras/engine/training_generator.py\n",
            "    /usr/local/lib/python3.6/dist-packages/tensorflow/python/keras/mixed_precision/experimental/__init__.py\n",
            "    /usr/local/lib/python3.6/dist-packages/tensorflow/python/keras/mixed_precision/experimental/autocast_variable.py\n",
            "    /usr/local/lib/python3.6/dist-packages/tensorflow/python/keras/mixed_precision/experimental/device_compatibility_check.py\n",
            "    /usr/local/lib/python3.6/dist-packages/tensorflow/python/keras/mixed_precision/experimental/get_layer_policy.py\n",
            "    /usr/local/lib/python3.6/dist-packages/tensorflow/python/keras/mixed_precision/experimental/loss_scale.py\n",
            "    /usr/local/lib/python3.6/dist-packages/tensorflow/python/keras/mixed_precision/experimental/loss_scale_optimizer.py\n",
            "    /usr/local/lib/python3.6/dist-packages/tensorflow/python/keras/mixed_precision/experimental/policy.py\n",
            "    /usr/local/lib/python3.6/dist-packages/tensorflow/python/keras/mixed_precision/experimental/test_util.py\n",
            "    /usr/local/lib/python3.6/dist-packages/tensorflow/tools/docs/doc_generator_visitor.py\n",
            "    /usr/local/lib/python3.6/dist-packages/tensorflow/tools/docs/generate_lib.py\n",
            "    /usr/local/lib/python3.6/dist-packages/tensorflow/tools/docs/parser.py\n",
            "    /usr/local/lib/python3.6/dist-packages/tensorflow/tools/docs/pretty_docs.py\n",
            "    /usr/local/lib/python3.6/dist-packages/tensorflow/tools/docs/py_guide_parser.py\n",
            "Proceed (y/n)? \u001b[31mERROR: Operation cancelled by user\u001b[0m\n",
            "Traceback (most recent call last):\n",
            "  File \"/usr/local/lib/python3.6/dist-packages/pip/_internal/cli/base_command.py\", line 153, in _main\n",
            "    status = self.run(options, args)\n",
            "  File \"/usr/local/lib/python3.6/dist-packages/pip/_internal/commands/uninstall.py\", line 79, in run\n",
            "    auto_confirm=options.yes, verbose=self.verbosity > 0,\n",
            "  File \"/usr/local/lib/python3.6/dist-packages/pip/_internal/req/req_install.py\", line 755, in uninstall\n",
            "    uninstalled_pathset.remove(auto_confirm, verbose)\n",
            "  File \"/usr/local/lib/python3.6/dist-packages/pip/_internal/req/req_uninstall.py\", line 388, in remove\n",
            "    if auto_confirm or self._allowed_to_proceed(verbose):\n",
            "  File \"/usr/local/lib/python3.6/dist-packages/pip/_internal/req/req_uninstall.py\", line 431, in _allowed_to_proceed\n",
            "    return ask('Proceed (y/n)? ', ('y', 'n')) == 'y'\n",
            "  File \"/usr/local/lib/python3.6/dist-packages/pip/_internal/utils/misc.py\", line 245, in ask\n",
            "    response = input(message)\n",
            "KeyboardInterrupt\n",
            "\n",
            "During handling of the above exception, another exception occurred:\n",
            "\n",
            "Traceback (most recent call last):\n",
            "  File \"/usr/local/bin/pip3\", line 8, in <module>\n",
            "    sys.exit(main())\n",
            "  File \"/usr/local/lib/python3.6/dist-packages/pip/_internal/main.py\", line 47, in main\n",
            "    return command.main(cmd_args)\n",
            "  File \"/usr/local/lib/python3.6/dist-packages/pip/_internal/cli/base_command.py\", line 103, in main\n",
            "    return self._main(args)\n",
            "  File \"/usr/local/lib/python3.6/dist-packages/pip/_internal/cli/base_command.py\", line 183, in _main\n",
            "    logger.debug('Exception information:', exc_info=True)\n",
            "  File \"/usr/lib/python3.6/logging/__init__.py\", line 1296, in debug\n",
            "    self._log(DEBUG, msg, args, **kwargs)\n",
            "  File \"/usr/lib/python3.6/logging/__init__.py\", line 1444, in _log\n",
            "    self.handle(record)\n",
            "  File \"/usr/lib/python3.6/logging/__init__.py\", line 1454, in handle\n",
            "    self.callHandlers(record)\n",
            "  File \"/usr/lib/python3.6/logging/__init__.py\", line 1516, in callHandlers\n",
            "    hdlr.handle(record)\n",
            "  File \"/usr/lib/python3.6/logging/__init__.py\", line 865, in handle\n",
            "    self.emit(record)\n",
            "  File \"/usr/lib/python3.6/logging/handlers.py\", line 73, in emit\n",
            "    logging.FileHandler.emit(self, record)\n",
            "  File \"/usr/lib/python3.6/logging/__init__.py\", line 1072, in emit\n",
            "    StreamHandler.emit(self, record)\n",
            "  File \"/usr/lib/python3.6/logging/__init__.py\", line 994, in emit\n",
            "    msg = self.format(record)\n",
            "  File \"/usr/lib/python3.6/logging/__init__.py\", line 840, in format\n",
            "    return fmt.format(record)\n",
            "  File \"/usr/local/lib/python3.6/dist-packages/pip/_internal/utils/logging.py\", line 151, in format\n",
            "    formatted = super(IndentingFormatter, self).format(record)\n",
            "  File \"/usr/lib/python3.6/logging/__init__.py\", line 585, in format\n",
            "    record.exc_text = self.formatException(record.exc_info)\n",
            "  File \"/usr/lib/python3.6/logging/__init__.py\", line 535, in formatException\n",
            "    traceback.print_exception(ei[0], ei[1], tb, None, sio)\n",
            "  File \"/usr/lib/python3.6/traceback.py\", line 104, in print_exception\n",
            "    type(value), value, tb, limit=limit).format(chain=chain):\n",
            "  File \"/usr/lib/python3.6/traceback.py\", line 509, in __init__\n",
            "    capture_locals=capture_locals)\n",
            "  File \"/usr/lib/python3.6/traceback.py\", line 364, in extract\n",
            "    f.line\n",
            "  File \"/usr/lib/python3.6/traceback.py\", line 286, in line\n",
            "    self._line = linecache.getline(self.filename, self.lineno).strip()\n",
            "  File \"/usr/lib/python3.6/linecache.py\", line 16, in getline\n",
            "    lines = getlines(filename, module_globals)\n",
            "  File \"/usr/lib/python3.6/linecache.py\", line 47, in getlines\n",
            "    return updatecache(filename, module_globals)\n",
            "  File \"/usr/lib/python3.6/linecache.py\", line 136, in updatecache\n",
            "    with tokenize.open(fullname) as fp:\n",
            "  File \"/usr/lib/python3.6/tokenize.py\", line 454, in open\n",
            "    encoding, lines = detect_encoding(buffer.readline)\n",
            "  File \"/usr/lib/python3.6/tokenize.py\", line 423, in detect_encoding\n",
            "    first = read_or_stop()\n",
            "  File \"/usr/lib/python3.6/tokenize.py\", line 381, in read_or_stop\n",
            "    return readline()\n",
            "KeyboardInterrupt\n"
          ],
          "name": "stdout"
        }
      ]
    },
    {
      "cell_type": "code",
      "metadata": {
        "id": "qEqDuod8iuTy"
      },
      "source": [
        "import tensorflow as tf"
      ],
      "execution_count": 25,
      "outputs": []
    },
    {
      "cell_type": "code",
      "metadata": {
        "id": "CYqz1EZUqrZr"
      },
      "source": [
        "from scipy.special import erf\n",
        "import numpy as np\n",
        "import time"
      ],
      "execution_count": 26,
      "outputs": []
    },
    {
      "cell_type": "code",
      "metadata": {
        "id": "wZzX8ugh1eJ6"
      },
      "source": [
        "x = tf.math.sobol_sample(10,10)"
      ],
      "execution_count": 27,
      "outputs": []
    },
    {
      "cell_type": "code",
      "metadata": {
        "id": "MPMwv1G9h0ou"
      },
      "source": [
        "import numpy as np"
      ],
      "execution_count": 28,
      "outputs": []
    },
    {
      "cell_type": "code",
      "metadata": {
        "id": "dsB-loSz074y"
      },
      "source": [
        "import tensorflow as tf"
      ],
      "execution_count": 29,
      "outputs": []
    },
    {
      "cell_type": "code",
      "metadata": {
        "id": "yV58kSGc03N4"
      },
      "source": [
        "import numpy as np\n",
        "import math"
      ],
      "execution_count": 30,
      "outputs": []
    },
    {
      "cell_type": "code",
      "metadata": {
        "id": "lazF0a71pwkG"
      },
      "source": [
        "number_time_steps = 128\n",
        "number = 3\n",
        "\n",
        "left_index = np.zeros(number_time_steps, dtype=int)\n",
        "right_index = np.zeros(number_time_steps, dtype=int)\n",
        "bridge_index = np.zeros(number_time_steps, dtype=int)\n",
        "left_weight = np.zeros(number_time_steps)\n",
        "right_weight = np.zeros(number_time_steps)\n",
        "std_dev = np.zeros(number_time_steps)\n",
        "\n",
        "_map = np.zeros(number_time_steps, dtype=int)\n",
        "\n",
        "_map[-1] = 1\n",
        "bridge_index[0] = number_time_steps - 1\n",
        "std_dev[0] = math.sqrt(1.0 * number_time_steps)\n",
        "left_weight[0] = 0\n",
        "right_weight[0] = 0\n",
        "\n",
        "j=0\n",
        "for i in range(1,number_time_steps):\n",
        "  while _map[j] == True:\n",
        "    j = j + 1\n",
        "  k = j\n",
        "  while _map[k] == False:\n",
        "    k = k + 1\n",
        "l = j+((k-1-j)>>1)\n",
        "_map[l]=i\n",
        "bridge_index[i]=l\n",
        "left_index[i]=j\n",
        "right_index[i]=k\n",
        "left_weight[i]=(k-l)/(k+1-j)\n",
        "right_weight[i]=(1+l-j)/(k+1-j)\n",
        "std_dev[i]=np.sqrt(((1+l-j)*(k-l))/(k+1-j))\n",
        "j=k+1\n",
        "if j>=number_time_steps:\n",
        "  j=0\n",
        "\n",
        "bridge_index_t = tf.constant(tf.convert_to_tensor(bridge_index,dtype=tf.int32))\n",
        "right_index_t = tf.constant(tf.convert_to_tensor(right_index,dtype=tf.int32))\n",
        "left_index_t = tf.constant(tf.convert_to_tensor(left_index,dtype=tf.int32))\n",
        "std_dev_t = tf.constant(tf.convert_to_tensor(std_dev))\n",
        "right_weight_t = tf.constant(tf.convert_to_tensor(right_weight))\n",
        "left_weight_t = tf.constant(tf.convert_to_tensor(left_weight))"
      ],
      "execution_count": 31,
      "outputs": []
    },
    {
      "cell_type": "code",
      "metadata": {
        "id": "s08YoH7R01_g"
      },
      "source": [
        "@tf.function(jit_compile=True, input_signature=(tf.TensorSpec(shape=(None,None), dtype=tf.float64),))\n",
        "def buildP(path):\n",
        "  pt = tf.unstack(path)\n",
        "  return pt"
      ],
      "execution_count": 32,
      "outputs": []
    },
    {
      "cell_type": "code",
      "metadata": {
        "id": "w9vaS88N0D96"
      },
      "source": [
        "@tf.function(jit_compile=True, input_signature=(tf.TensorSpec(shape=(None,None), dtype=tf.float64),\n",
        "                                                tf.TensorSpec(shape=(), dtype=tf.int32),\n",
        "                                                tf.TensorSpec(shape=(), dtype=tf.int32),\n",
        "                                                tf.TensorSpec(shape=(None), dtype=tf.int32),\n",
        "                                                tf.TensorSpec(shape=(None), dtype=tf.int32),\n",
        "                                                tf.TensorSpec(shape=(None), dtype=tf.int32),\n",
        "                                                tf.TensorSpec(shape=(None), dtype=tf.float64),\n",
        "                                                tf.TensorSpec(shape=(None), dtype=tf.float64),\n",
        "                                                tf.TensorSpec(shape=(None), dtype=tf.float64)))\n",
        "def buildPath(z, number, number_time_steps, left_index, right_index, bridge_index, left_weight, right_weight, std_dev):\n",
        "  print(number)\n",
        "  print(number_time_steps)\n",
        "  #path = tf.zeros(shape=(number_time_steps,number),dtype=tf.dtypes.float64)\n",
        "  path = tf.TensorArray(dtype=tf.float64,size=number_time_steps)\n",
        "  #path = [[0] * number_time_steps] * number\n",
        "  #print(path)\n",
        "  #path_t = tf.unstack(path,num=number_time_steps)\n",
        "  #print(left_index[number-1])\n",
        "  #print(z)\n",
        "  #return z[left_index[number-1]]\n",
        "#def buildPath(z, number, number_time_steps, left_index_t, right_index_t, bridge_index_t, left_weight, right_weight, std_dev):\n",
        "\n",
        "  #path = tf.unstack(tf.zeros(shape=(number_time_steps,number),dtype=tf.dtypes.float64))\n",
        "  path = path.write(number_time_steps-1,std_dev[0]*z[0]);\n",
        "  j = 0\n",
        "  k = 0\n",
        "  l = 0\n",
        "  i = 0\n",
        "  for i in range(1,number_time_steps):\n",
        "#    print(\"i\")\n",
        "#    print(i)\n",
        "    j = left_index[i]\n",
        "    k = right_index[i]\n",
        "    l = bridge_index[i]\n",
        "#    print(\"l\")\n",
        "#    print(l)\n",
        "#    print(\"k\")\n",
        "#    print(k)\n",
        "#    print(\"right_weight\")\n",
        "#    print(right_weight[i])\n",
        "    path = path.write(l,right_weight[i] * path.read(k) + std_dev[i] * z[i])\n",
        "    #path[l] = \n",
        "\n",
        "  return path.stack()"
      ],
      "execution_count": 33,
      "outputs": []
    },
    {
      "cell_type": "code",
      "metadata": {
        "colab": {
          "base_uri": "https://localhost:8080/"
        },
        "id": "wmU1GmxyvINL",
        "outputId": "f40cabc9-6070-4137-9205-ef4fa64b247c"
      },
      "source": [
        "print(buildPath.pretty_printed_concrete_signatures())"
      ],
      "execution_count": 34,
      "outputs": [
        {
          "output_type": "stream",
          "text": [
            "Tensor(\"number:0\", shape=(), dtype=int32)\n",
            "Tensor(\"number_time_steps:0\", shape=(), dtype=int32)\n",
            "buildPath(z, number, number_time_steps, left_index, right_index, bridge_index, left_weight, right_weight, std_dev)\n",
            "  Args:\n",
            "    z: float64 Tensor, shape=(None, None)\n",
            "    number: int32 Tensor, shape=()\n",
            "    number_time_steps: int32 Tensor, shape=()\n",
            "    left_index: int32 Tensor, shape=<unknown>\n",
            "    right_index: int32 Tensor, shape=<unknown>\n",
            "    bridge_index: int32 Tensor, shape=<unknown>\n",
            "    left_weight: float64 Tensor, shape=<unknown>\n",
            "    right_weight: float64 Tensor, shape=<unknown>\n",
            "    std_dev: float64 Tensor, shape=<unknown>\n",
            "  Returns:\n",
            "    float64 Tensor, shape=<unknown>\n"
          ],
          "name": "stdout"
        }
      ]
    },
    {
      "cell_type": "code",
      "metadata": {
        "id": "75mLhhBtqbuk"
      },
      "source": [
        "x = tf.math.sobol_sample(128,5,dtype=tf.dtypes.float64)\n",
        "z = tf.transpose(tf.math.erf(x))"
      ],
      "execution_count": 35,
      "outputs": []
    },
    {
      "cell_type": "code",
      "metadata": {
        "id": "RQNPIH2Rqbyt"
      },
      "source": [
        "#path = buildPath(z, 5, 8, left_index, right_index, bridge_index, left_weight, right_weight, std_dev)\n",
        "path = buildPath(z, tf.constant(5), tf.constant(128), left_index_t, right_index_t, bridge_index_t, left_weight_t, right_weight_t, std_dev_t)"
      ],
      "execution_count": 36,
      "outputs": []
    },
    {
      "cell_type": "code",
      "metadata": {
        "colab": {
          "base_uri": "https://localhost:8080/"
        },
        "id": "JhUhxWPXufPF",
        "outputId": "b835c19d-8ef0-473a-8d4d-eb0c4df209f8"
      },
      "source": [
        "print(buildPath.pretty_printed_concrete_signatures())"
      ],
      "execution_count": 37,
      "outputs": [
        {
          "output_type": "stream",
          "text": [
            "buildPath(z, number, number_time_steps, left_index, right_index, bridge_index, left_weight, right_weight, std_dev)\n",
            "  Args:\n",
            "    z: float64 Tensor, shape=(None, None)\n",
            "    number: int32 Tensor, shape=()\n",
            "    number_time_steps: int32 Tensor, shape=()\n",
            "    left_index: int32 Tensor, shape=<unknown>\n",
            "    right_index: int32 Tensor, shape=<unknown>\n",
            "    bridge_index: int32 Tensor, shape=<unknown>\n",
            "    left_weight: float64 Tensor, shape=<unknown>\n",
            "    right_weight: float64 Tensor, shape=<unknown>\n",
            "    std_dev: float64 Tensor, shape=<unknown>\n",
            "  Returns:\n",
            "    float64 Tensor, shape=<unknown>\n"
          ],
          "name": "stdout"
        }
      ]
    },
    {
      "cell_type": "code",
      "metadata": {
        "colab": {
          "base_uri": "https://localhost:8080/"
        },
        "id": "nxJXwrh-rf5Z",
        "outputId": "e6163e0e-77ec-4ac1-9a84-a2e2eec2fe7d"
      },
      "source": [
        "print(tf.autograph.to_code(buildPath.python_function))"
      ],
      "execution_count": 38,
      "outputs": [
        {
          "output_type": "stream",
          "text": [
            "def tf__buildPath(z, number, number_time_steps, left_index, right_index, bridge_index, left_weight, right_weight, std_dev):\n",
            "    with ag__.FunctionScope('buildPath', 'fscope', ag__.ConversionOptions(recursive=True, user_requested=True, optional_features=(), internal_convert_user_code=True)) as fscope:\n",
            "        do_return = False\n",
            "        retval_ = ag__.UndefinedReturnValue()\n",
            "        ag__.ld(print)(ag__.ld(number))\n",
            "        ag__.ld(print)(ag__.ld(number_time_steps))\n",
            "        path = ag__.converted_call(ag__.ld(tf).TensorArray, (), dict(dtype=ag__.ld(tf).float64, size=ag__.ld(number_time_steps)), fscope)\n",
            "        path = ag__.converted_call(ag__.ld(path).write, ((ag__.ld(number_time_steps) - 1), (ag__.ld(std_dev)[0] * ag__.ld(z)[0])), None, fscope)\n",
            "        j = 0\n",
            "        k = 0\n",
            "        l = 0\n",
            "        i = 0\n",
            "\n",
            "        def get_state():\n",
            "            return (path,)\n",
            "\n",
            "        def set_state(vars_):\n",
            "            nonlocal path\n",
            "            (path,) = vars_\n",
            "\n",
            "        def loop_body(itr):\n",
            "            nonlocal path\n",
            "            i = itr\n",
            "            j = ag__.ld(left_index)[ag__.ld(i)]\n",
            "            k = ag__.ld(right_index)[ag__.ld(i)]\n",
            "            l = ag__.ld(bridge_index)[ag__.ld(i)]\n",
            "            path = ag__.converted_call(ag__.ld(path).write, (ag__.ld(l), ((ag__.ld(right_weight)[ag__.ld(i)] * ag__.converted_call(ag__.ld(path).read, (ag__.ld(k),), None, fscope)) + (ag__.ld(std_dev)[ag__.ld(i)] * ag__.ld(z)[ag__.ld(i)]))), None, fscope)\n",
            "        ag__.for_stmt(ag__.converted_call(ag__.ld(range), (1, ag__.ld(number_time_steps)), None, fscope), None, loop_body, get_state, set_state, ('path',), {'iterate_names': 'i'})\n",
            "        try:\n",
            "            do_return = True\n",
            "            retval_ = ag__.converted_call(ag__.ld(path).stack, (), None, fscope)\n",
            "        except:\n",
            "            do_return = False\n",
            "            raise\n",
            "        return fscope.ret(retval_, do_return)\n",
            "\n"
          ],
          "name": "stdout"
        }
      ]
    },
    {
      "cell_type": "code",
      "metadata": {
        "colab": {
          "base_uri": "https://localhost:8080/"
        },
        "id": "eoeT5eJZy1_7",
        "outputId": "0109bb27-4962-41df-ada0-59e864c621e0"
      },
      "source": [
        "#@title Pricing time a CPU. Note TensorFlow does automatic multithreading.\n",
        "dim =  128#@param {type:\"integer\"}\n",
        "number =  200000#@param {type:\"integer\"}\n",
        "\n",
        "# First run (includes graph optimization time)\n",
        "time_start = time.time()\n",
        "with tf.device(\"/gpu:0\"):\n",
        "    x = tf.math.sobol_sample(dim,number,dtype=tf.dtypes.float64)\n",
        "    z = tf.transpose(tf.math.erf(x))\n",
        "    w = buildPath(z, number, dim, left_index, right_index, bridge_index, left_weight, right_weight, std_dev)\n",
        "time_end = time.time()\n",
        "time_price_cpu = time_end - time_start\n",
        "print(\"First time on a CPU: \", time_price_cpu)\n",
        "\n",
        "# Second run (excludes graph optimization time)\n",
        "time_start = time.time()\n",
        "with tf.device(\"/gpu:0\"):\n",
        "    x = tf.math.sobol_sample(dim,number,dtype=tf.dtypes.float64)\n",
        "    #print(x)\n",
        "    z = tf.transpose(tf.math.erf(x))\n",
        "    w = buildPath(z, number, dim, left_index, right_index, bridge_index, left_weight, right_weight, std_dev)\n",
        "time_end = time.time()\n",
        "\n",
        "time_price_cpu = time_end - time_start\n",
        "print(\"Second time on a CPU: \", time_price_cpu)"
      ],
      "execution_count": 43,
      "outputs": [
        {
          "output_type": "stream",
          "text": [
            "First time on a CPU:  0.3714601993560791\n",
            "Second time on a CPU:  0.3588728904724121\n"
          ],
          "name": "stdout"
        }
      ]
    },
    {
      "cell_type": "code",
      "metadata": {
        "id": "QcYugfF3oOFL"
      },
      "source": [
        "import torch"
      ],
      "execution_count": null,
      "outputs": []
    },
    {
      "cell_type": "code",
      "metadata": {
        "colab": {
          "base_uri": "https://localhost:8080/"
        },
        "id": "8Bc4d6eQolhK",
        "outputId": "18c2c214-1199-4228-c65d-47d98ef7e63d"
      },
      "source": [
        "@torch.jit.script\n",
        "def foo(x, number: int):\n",
        "  print(number)\n",
        "  z = 0.\n",
        "  for i in range(0,number):\n",
        "    tmp = x[i]\n",
        "    z = z + tmp\n",
        "\n",
        "# See the compiled graph as Python code\n",
        "print(foo.code)"
      ],
      "execution_count": null,
      "outputs": [
        {
          "output_type": "stream",
          "text": [
            "def foo(x: Tensor,\n",
            "    number: int) -> None:\n",
            "  print(number)\n",
            "  z = 0.\n",
            "  for _0 in range(torch.__range_length(0, number, 1)):\n",
            "    i = torch.__derive_index(_0, 0, 1)\n",
            "    tmp = torch.select(x, 0, i)\n",
            "    z0 = torch.add(tmp, z, 1)\n",
            "    z = annotate(float, z0)\n",
            "  return None\n",
            "\n"
          ],
          "name": "stdout"
        }
      ]
    },
    {
      "cell_type": "code",
      "metadata": {
        "colab": {
          "base_uri": "https://localhost:8080/"
        },
        "id": "CvN8Ry6xonuh",
        "outputId": "367efc40-5a0e-44ef-f771-8a43d9b1de54"
      },
      "source": [
        "# Call the function using the TorchScript interpreter\n",
        "x = torch.zeros(11)\n",
        "\n",
        "foo(x, 10)"
      ],
      "execution_count": null,
      "outputs": [
        {
          "output_type": "stream",
          "text": [
            "10\n"
          ],
          "name": "stdout"
        }
      ]
    },
    {
      "cell_type": "code",
      "metadata": {
        "id": "7TalyTCgxu2-"
      },
      "source": [
        "@torch.jit.script\n",
        "def buildPath(z, number: int, number_time_steps: int, left_index, right_index, bridge_index, left_weight, right_weight, std_dev):\n",
        "  path = torch.zeros(size=(number_time_steps,number))\n",
        "  path[-1] = std_dev[0]*z[0]\n",
        "  j = 0\n",
        "  k = 0\n",
        "  l = 0\n",
        "  i = 0\n",
        "  for i in range(1,number_time_steps):\n",
        "#    print(\"i\")\n",
        "#    print(i)\n",
        "    j = left_index[i]\n",
        "    k = right_index[i]\n",
        "    l = bridge_index[i]\n",
        "#    print(\"l\")\n",
        "#    print(l)\n",
        "#    print(\"k\")\n",
        "#    print(k)\n",
        "#    print(\"right_weight\")\n",
        "#    print(right_weight[i])\n",
        "    path[l] = right_weight[i] * path[k] + std_dev[i] * z[i]\n",
        "\n",
        "  return path"
      ],
      "execution_count": null,
      "outputs": []
    },
    {
      "cell_type": "code",
      "metadata": {
        "colab": {
          "base_uri": "https://localhost:8080/"
        },
        "id": "k_E0ft6S0LAP",
        "outputId": "e0d15985-e380-4d26-81c0-8d4f34b4179a"
      },
      "source": [
        "print(buildPath.code)"
      ],
      "execution_count": null,
      "outputs": [
        {
          "output_type": "stream",
          "text": [
            "def buildPath(z: Tensor,\n",
            "    number: int,\n",
            "    number_time_steps: int,\n",
            "    left_index: Tensor,\n",
            "    right_index: Tensor,\n",
            "    bridge_index: Tensor,\n",
            "    left_weight: Tensor,\n",
            "    right_weight: Tensor,\n",
            "    std_dev: Tensor) -> Tensor:\n",
            "  path = torch.zeros([number_time_steps, number], dtype=None, layout=None, device=None, pin_memory=None)\n",
            "  _0 = torch.mul(torch.select(std_dev, 0, 0), torch.select(z, 0, 0))\n",
            "  _1 = torch.copy_(torch.select(path, 0, -1), _0, False)\n",
            "  _2 = torch.__range_length(1, number_time_steps, 1)\n",
            "  for _3 in range(_2):\n",
            "    i = torch.__derive_index(_3, 1, 1)\n",
            "    k = torch.select(right_index, 0, i)\n",
            "    _4 = annotate(int, k)\n",
            "    l = torch.select(bridge_index, 0, i)\n",
            "    _5 = annotate(int, l)\n",
            "    _6 = torch.mul(torch.select(right_weight, 0, i), torch.select(path, 0, _4))\n",
            "    _7 = torch.mul(torch.select(std_dev, 0, i), torch.select(z, 0, i))\n",
            "    _8 = torch.add(_6, _7, alpha=1)\n",
            "    _9 = torch.copy_(torch.select(path, 0, _5), _8, False)\n",
            "  return path\n",
            "\n"
          ],
          "name": "stdout"
        }
      ]
    },
    {
      "cell_type": "code",
      "metadata": {
        "id": "obp2iCjM1U5J"
      },
      "source": [
        "x = torch.randn(256,2)\n",
        "\n",
        "left_index_t = torch.tensor(left_index)\n",
        "right_index_t = torch.tensor(right_index)\n",
        "bridge_index_t = torch.tensor(bridge_index)\n",
        "left_weight_t = torch.tensor(left_weight)\n",
        "right_weight_t = torch.tensor(right_weight)\n",
        "std_dev_t = torch.tensor(std_dev)\n",
        "\n",
        "path = buildPath(x, 2, 256, left_index_t, right_index_t, bridge_index_t, left_weight_t, right_weight_t, std_dev_t)"
      ],
      "execution_count": null,
      "outputs": []
    },
    {
      "cell_type": "code",
      "metadata": {
        "id": "ukSIkflR22TV"
      },
      "source": [
        "import time"
      ],
      "execution_count": null,
      "outputs": []
    },
    {
      "cell_type": "code",
      "metadata": {
        "colab": {
          "base_uri": "https://localhost:8080/"
        },
        "id": "WK93y-p61zkv",
        "outputId": "e4b50e88-6282-4b52-bd87-560bf2a278ce"
      },
      "source": [
        "#@title Pricing time a CPU. Note TensorFlow does automatic multithreading.\n",
        "dim =  256#@param {type:\"integer\"}\n",
        "number =  100000#@param {type:\"integer\"}\n",
        "\n",
        "# First run (includes graph optimization time)\n",
        "time_start = time.time()\n",
        "x = torch.randn(dim, number)\n",
        "path = buildPath(x, number, dim, left_index_t, right_index_t, bridge_index_t, left_weight_t, right_weight_t, std_dev_t)\n",
        "time_end = time.time()\n",
        "time_price_cpu = time_end - time_start\n",
        "print(\"First time on a CPU: \", time_price_cpu)\n",
        "\n",
        "# Second run (excludes graph optimization time)\n",
        "time_start = time.time()\n",
        "x = torch.randn(dim, number)\n",
        "path = buildPath(x, number, dim, left_index_t, right_index_t, bridge_index_t, left_weight_t, right_weight_t, std_dev_t)\n",
        "time_end = time.time()\n",
        "\n",
        "time_price_cpu = time_end - time_start\n",
        "print(\"Second time on a CPU: \", time_price_cpu)"
      ],
      "execution_count": null,
      "outputs": [
        {
          "output_type": "stream",
          "text": [
            "First time on a CPU:  0.40483903884887695\n",
            "Second time on a CPU:  0.3911397457122803\n"
          ],
          "name": "stdout"
        }
      ]
    },
    {
      "cell_type": "code",
      "metadata": {
        "colab": {
          "base_uri": "https://localhost:8080/"
        },
        "id": "RuBOv_J1hTO2",
        "outputId": "b67e51ae-bb74-4404-d8b1-019be1e36400"
      },
      "source": [
        "import tensorflow as tf\n",
        "if tf.test.gpu_device_name():\n",
        "    print('Default GPU Device: {}'.format(tf.test.gpu_device_name()))\n",
        "else:\n",
        "    print(\"Please install GPU version of TF\")"
      ],
      "execution_count": 19,
      "outputs": [
        {
          "output_type": "stream",
          "text": [
            "Please install GPU version of TF\n"
          ],
          "name": "stdout"
        }
      ]
    },
    {
      "cell_type": "code",
      "metadata": {
        "id": "qfBNFO6diK9M"
      },
      "source": [
        "import tensorflow as tf"
      ],
      "execution_count": 1,
      "outputs": []
    },
    {
      "cell_type": "code",
      "metadata": {
        "id": "Lg-X1SYnioLj"
      },
      "source": [
        "import os\n",
        "import tensorflow_datasets as tfds"
      ],
      "execution_count": 9,
      "outputs": []
    },
    {
      "cell_type": "code",
      "metadata": {
        "colab": {
          "base_uri": "https://localhost:8080/"
        },
        "id": "v4Y6kjxnijkD",
        "outputId": "ce1a16f8-ad7a-46f2-c5d5-fda43eb13b79"
      },
      "source": [
        "resolver = tf.distribute.cluster_resolver.TPUClusterResolver(tpu='grpc://' + os.environ['COLAB_TPU_ADDR'])\n",
        "tf.config.experimental_connect_to_cluster(resolver)\n",
        "# This is the TPU initialization code that has to be at the beginning.\n",
        "tf.tpu.experimental.initialize_tpu_system(resolver)\n",
        "print(\"All devices: \", tf.config.list_logical_devices('TPU'))"
      ],
      "execution_count": 11,
      "outputs": [
        {
          "output_type": "stream",
          "text": [
            "INFO:tensorflow:Initializing the TPU system: grpc://10.53.234.50:8470\n"
          ],
          "name": "stdout"
        },
        {
          "output_type": "stream",
          "text": [
            "INFO:tensorflow:Initializing the TPU system: grpc://10.53.234.50:8470\n"
          ],
          "name": "stderr"
        },
        {
          "output_type": "stream",
          "text": [
            "INFO:tensorflow:Clearing out eager caches\n"
          ],
          "name": "stdout"
        },
        {
          "output_type": "stream",
          "text": [
            "INFO:tensorflow:Clearing out eager caches\n"
          ],
          "name": "stderr"
        },
        {
          "output_type": "stream",
          "text": [
            "INFO:tensorflow:Finished initializing TPU system.\n"
          ],
          "name": "stdout"
        },
        {
          "output_type": "stream",
          "text": [
            "INFO:tensorflow:Finished initializing TPU system.\n"
          ],
          "name": "stderr"
        },
        {
          "output_type": "stream",
          "text": [
            "All devices:  [LogicalDevice(name='/job:worker/replica:0/task:0/device:TPU:7', device_type='TPU'), LogicalDevice(name='/job:worker/replica:0/task:0/device:TPU:6', device_type='TPU'), LogicalDevice(name='/job:worker/replica:0/task:0/device:TPU:5', device_type='TPU'), LogicalDevice(name='/job:worker/replica:0/task:0/device:TPU:4', device_type='TPU'), LogicalDevice(name='/job:worker/replica:0/task:0/device:TPU:2', device_type='TPU'), LogicalDevice(name='/job:worker/replica:0/task:0/device:TPU:0', device_type='TPU'), LogicalDevice(name='/job:worker/replica:0/task:0/device:TPU:3', device_type='TPU'), LogicalDevice(name='/job:worker/replica:0/task:0/device:TPU:1', device_type='TPU')]\n"
          ],
          "name": "stdout"
        }
      ]
    },
    {
      "cell_type": "code",
      "metadata": {
        "colab": {
          "base_uri": "https://localhost:8080/"
        },
        "id": "jw1Uj7nVha4m",
        "outputId": "6d65734a-0628-4b0f-ccb8-7f72ecc17f08"
      },
      "source": [
        "a = tf.constant([[1.0, 2.0, 3.0], [4.0, 5.0, 6.0]])\n",
        "b = tf.constant([[1.0, 2.0], [3.0, 4.0], [5.0, 6.0]])\n",
        "with tf.profiler.experimental.Profile(\"/logs/profile\"):\n",
        "  c = tf.matmul(a, b)\n",
        "print(\"c device: \", c.device)\n",
        "print(c)"
      ],
      "execution_count": 2,
      "outputs": [
        {
          "output_type": "stream",
          "text": [
            "c device:  /job:localhost/replica:0/task:0/device:CPU:0\n",
            "tf.Tensor(\n",
            "[[22. 28.]\n",
            " [49. 64.]], shape=(2, 2), dtype=float32)\n"
          ],
          "name": "stdout"
        }
      ]
    },
    {
      "cell_type": "code",
      "metadata": {
        "colab": {
          "base_uri": "https://localhost:8080/"
        },
        "id": "FZjs-EKgiJzF",
        "outputId": "443f24c9-2a53-4191-a0d5-94dc78acac08"
      },
      "source": [
        "import tensorflow as tf\n",
        "print(\"Num GPUs Available: \", len(tf.config.experimental.list_physical_devices('GPU')))"
      ],
      "execution_count": 3,
      "outputs": [
        {
          "output_type": "stream",
          "text": [
            "Num GPUs Available:  0\n"
          ],
          "name": "stdout"
        }
      ]
    },
    {
      "cell_type": "code",
      "metadata": {
        "id": "VhSARLzSjbFS"
      },
      "source": [
        "%load_ext tensorboard"
      ],
      "execution_count": 4,
      "outputs": []
    },
    {
      "cell_type": "code",
      "metadata": {
        "colab": {
          "base_uri": "https://localhost:8080/",
          "height": 445
        },
        "id": "i8X255IgksFI",
        "outputId": "e924ce6d-1f7c-42e4-dc6a-7d271a63525a"
      },
      "source": [
        "%tensorboard --logdir logs/profile"
      ],
      "execution_count": 5,
      "outputs": [
        {
          "output_type": "display_data",
          "data": {
            "text/plain": [
              "ERROR: Failed to launch TensorBoard (exited with 1).\n",
              "Contents of stderr:\n",
              "2020-11-28 20:38:16.767182: W tensorflow/stream_executor/platform/default/dso_loader.cc:60] Could not load dynamic library 'libcudart.so.11.0'; dlerror: libcudart.so.11.0: cannot open shared object file: No such file or directory; LD_LIBRARY_PATH: /usr/lib64-nvidia\n",
              "2020-11-28 20:38:16.767239: I tensorflow/stream_executor/cuda/cudart_stub.cc:29] Ignore above cudart dlerror if you do not have a GPU set up on your machine.\n",
              "Traceback (most recent call last):\n",
              "  File \"/usr/local/bin/tensorboard\", line 8, in <module>\n",
              "    sys.exit(run_main())\n",
              "  File \"/usr/local/lib/python3.6/dist-packages/tensorboard/main.py\", line 75, in run_main\n",
              "    app.run(tensorboard.main, flags_parser=tensorboard.configure)\n",
              "  File \"/usr/local/lib/python3.6/dist-packages/absl/app.py\", line 300, in run\n",
              "    _run_main(main, args)\n",
              "  File \"/usr/local/lib/python3.6/dist-packages/absl/app.py\", line 251, in _run_main\n",
              "    sys.exit(main(argv))\n",
              "  File \"/usr/local/lib/python3.6/dist-packages/tensorboard/program.py\", line 289, in main\n",
              "    return runner(self.flags) or 0\n",
              "  File \"/usr/local/lib/python3.6/dist-packages/tensorboard/program.py\", line 305, in _run_serve_subcommand\n",
              "    server = self._make_server()\n",
              "  File \"/usr/local/lib/python3.6/dist-packages/tensorboard/program.py\", line 419, in _make_server\n",
              "    ingester.deprecated_multiplexer,\n",
              "  File \"/usr/local/lib/python3.6/dist-packages/tensorboard/backend/application.py\", line 149, in TensorBoardWSGIApp\n",
              "    experimental_middlewares,\n",
              "  File \"/usr/local/lib/python3.6/dist-packages/tensorboard/backend/application.py\", line 257, in __init__\n",
              "    \"Duplicate plugins for name %s\" % plugin.plugin_name\n",
              "ValueError: Duplicate plugins for name projector"
            ]
          },
          "metadata": {
            "tags": []
          }
        }
      ]
    },
    {
      "cell_type": "code",
      "metadata": {
        "id": "dfGam-NvkwGW"
      },
      "source": [
        ""
      ],
      "execution_count": null,
      "outputs": []
    }
  ]
}