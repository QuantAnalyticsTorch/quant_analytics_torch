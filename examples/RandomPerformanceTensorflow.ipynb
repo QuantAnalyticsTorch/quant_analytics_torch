{
  "nbformat": 4,
  "nbformat_minor": 0,
  "metadata": {
    "colab": {
      "name": "RandomPerformanceTensorflow.ipynb",
      "provenance": [],
      "collapsed_sections": [],
      "authorship_tag": "ABX9TyPq4XeuENa2iJMsZw7x/7gc",
      "include_colab_link": true
    },
    "kernelspec": {
      "name": "python3",
      "display_name": "Python 3"
    },
    "accelerator": "TPU"
  },
  "cells": [
    {
      "cell_type": "markdown",
      "metadata": {
        "id": "view-in-github",
        "colab_type": "text"
      },
      "source": [
        "<a href=\"https://colab.research.google.com/github/QuantAnalyticsTorch/quant_analytics_torch/blob/main/examples/RandomPerformanceTensorflow.ipynb\" target=\"_parent\"><img src=\"https://colab.research.google.com/assets/colab-badge.svg\" alt=\"Open In Colab\"/></a>"
      ]
    },
    {
      "cell_type": "code",
      "metadata": {
        "colab": {
          "base_uri": "https://localhost:8080/"
        },
        "id": "nDp-CSVzD4RL",
        "outputId": "ac7afa86-1711-4544-c2c5-5deae541a4f9"
      },
      "source": [
        "#@title Upgrade to TensorFlow nightly\n",
        "!pip install --upgrade tf-nightly"
      ],
      "execution_count": 59,
      "outputs": [
        {
          "output_type": "stream",
          "text": [
            "Requirement already up-to-date: tf-nightly in /usr/local/lib/python3.6/dist-packages (2.5.0.dev20201128)\n",
            "Requirement already satisfied, skipping upgrade: grpcio~=1.32.0 in /usr/local/lib/python3.6/dist-packages (from tf-nightly) (1.32.0)\n",
            "Requirement already satisfied, skipping upgrade: six~=1.15.0 in /usr/local/lib/python3.6/dist-packages (from tf-nightly) (1.15.0)\n",
            "Requirement already satisfied, skipping upgrade: tf-estimator-nightly~=2.4.0.dev in /usr/local/lib/python3.6/dist-packages (from tf-nightly) (2.4.0.dev2020102301)\n",
            "Requirement already satisfied, skipping upgrade: gast==0.3.3 in /usr/local/lib/python3.6/dist-packages (from tf-nightly) (0.3.3)\n",
            "Requirement already satisfied, skipping upgrade: absl-py~=0.10 in /usr/local/lib/python3.6/dist-packages (from tf-nightly) (0.10.0)\n",
            "Requirement already satisfied, skipping upgrade: opt-einsum~=3.3.0 in /usr/local/lib/python3.6/dist-packages (from tf-nightly) (3.3.0)\n",
            "Requirement already satisfied, skipping upgrade: keras-preprocessing~=1.1.2 in /usr/local/lib/python3.6/dist-packages (from tf-nightly) (1.1.2)\n",
            "Requirement already satisfied, skipping upgrade: protobuf~=3.13.0 in /usr/local/lib/python3.6/dist-packages (from tf-nightly) (3.13.0)\n",
            "Requirement already satisfied, skipping upgrade: wheel~=0.35 in /usr/local/lib/python3.6/dist-packages (from tf-nightly) (0.35.1)\n",
            "Requirement already satisfied, skipping upgrade: numpy~=1.19.2 in /usr/local/lib/python3.6/dist-packages (from tf-nightly) (1.19.4)\n",
            "Requirement already satisfied, skipping upgrade: wrapt~=1.12.1 in /usr/local/lib/python3.6/dist-packages (from tf-nightly) (1.12.1)\n",
            "Requirement already satisfied, skipping upgrade: google-pasta~=0.2 in /usr/local/lib/python3.6/dist-packages (from tf-nightly) (0.2.0)\n",
            "Requirement already satisfied, skipping upgrade: termcolor~=1.1.0 in /usr/local/lib/python3.6/dist-packages (from tf-nightly) (1.1.0)\n",
            "Requirement already satisfied, skipping upgrade: typing-extensions~=3.7.4 in /usr/local/lib/python3.6/dist-packages (from tf-nightly) (3.7.4.3)\n",
            "Requirement already satisfied, skipping upgrade: flatbuffers~=1.12.0 in /usr/local/lib/python3.6/dist-packages (from tf-nightly) (1.12)\n",
            "Requirement already satisfied, skipping upgrade: tb-nightly~=2.5.0.a in /usr/local/lib/python3.6/dist-packages (from tf-nightly) (2.5.0a20201128)\n",
            "Requirement already satisfied, skipping upgrade: h5py~=2.10.0 in /usr/local/lib/python3.6/dist-packages (from tf-nightly) (2.10.0)\n",
            "Requirement already satisfied, skipping upgrade: astunparse~=1.6.3 in /usr/local/lib/python3.6/dist-packages (from tf-nightly) (1.6.3)\n",
            "Requirement already satisfied, skipping upgrade: setuptools in /usr/local/lib/python3.6/dist-packages (from protobuf~=3.13.0->tf-nightly) (50.3.2)\n",
            "Requirement already satisfied, skipping upgrade: google-auth-oauthlib<0.5,>=0.4.1 in /usr/local/lib/python3.6/dist-packages (from tb-nightly~=2.5.0.a->tf-nightly) (0.4.2)\n",
            "Requirement already satisfied, skipping upgrade: tensorboard-plugin-wit>=1.6.0 in /usr/local/lib/python3.6/dist-packages (from tb-nightly~=2.5.0.a->tf-nightly) (1.7.0)\n",
            "Requirement already satisfied, skipping upgrade: markdown>=2.6.8 in /usr/local/lib/python3.6/dist-packages (from tb-nightly~=2.5.0.a->tf-nightly) (3.3.3)\n",
            "Requirement already satisfied, skipping upgrade: google-auth<2,>=1.6.3 in /usr/local/lib/python3.6/dist-packages (from tb-nightly~=2.5.0.a->tf-nightly) (1.17.2)\n",
            "Requirement already satisfied, skipping upgrade: requests<3,>=2.21.0 in /usr/local/lib/python3.6/dist-packages (from tb-nightly~=2.5.0.a->tf-nightly) (2.23.0)\n",
            "Requirement already satisfied, skipping upgrade: werkzeug>=0.11.15 in /usr/local/lib/python3.6/dist-packages (from tb-nightly~=2.5.0.a->tf-nightly) (1.0.1)\n",
            "Requirement already satisfied, skipping upgrade: requests-oauthlib>=0.7.0 in /usr/local/lib/python3.6/dist-packages (from google-auth-oauthlib<0.5,>=0.4.1->tb-nightly~=2.5.0.a->tf-nightly) (1.3.0)\n",
            "Requirement already satisfied, skipping upgrade: importlib-metadata; python_version < \"3.8\" in /usr/local/lib/python3.6/dist-packages (from markdown>=2.6.8->tb-nightly~=2.5.0.a->tf-nightly) (2.0.0)\n",
            "Requirement already satisfied, skipping upgrade: pyasn1-modules>=0.2.1 in /usr/local/lib/python3.6/dist-packages (from google-auth<2,>=1.6.3->tb-nightly~=2.5.0.a->tf-nightly) (0.2.8)\n",
            "Requirement already satisfied, skipping upgrade: rsa<5,>=3.1.4; python_version >= \"3\" in /usr/local/lib/python3.6/dist-packages (from google-auth<2,>=1.6.3->tb-nightly~=2.5.0.a->tf-nightly) (4.6)\n",
            "Requirement already satisfied, skipping upgrade: cachetools<5.0,>=2.0.0 in /usr/local/lib/python3.6/dist-packages (from google-auth<2,>=1.6.3->tb-nightly~=2.5.0.a->tf-nightly) (4.1.1)\n",
            "Requirement already satisfied, skipping upgrade: idna<3,>=2.5 in /usr/local/lib/python3.6/dist-packages (from requests<3,>=2.21.0->tb-nightly~=2.5.0.a->tf-nightly) (2.10)\n",
            "Requirement already satisfied, skipping upgrade: chardet<4,>=3.0.2 in /usr/local/lib/python3.6/dist-packages (from requests<3,>=2.21.0->tb-nightly~=2.5.0.a->tf-nightly) (3.0.4)\n",
            "Requirement already satisfied, skipping upgrade: certifi>=2017.4.17 in /usr/local/lib/python3.6/dist-packages (from requests<3,>=2.21.0->tb-nightly~=2.5.0.a->tf-nightly) (2020.11.8)\n",
            "Requirement already satisfied, skipping upgrade: urllib3!=1.25.0,!=1.25.1,<1.26,>=1.21.1 in /usr/local/lib/python3.6/dist-packages (from requests<3,>=2.21.0->tb-nightly~=2.5.0.a->tf-nightly) (1.24.3)\n",
            "Requirement already satisfied, skipping upgrade: oauthlib>=3.0.0 in /usr/local/lib/python3.6/dist-packages (from requests-oauthlib>=0.7.0->google-auth-oauthlib<0.5,>=0.4.1->tb-nightly~=2.5.0.a->tf-nightly) (3.1.0)\n",
            "Requirement already satisfied, skipping upgrade: zipp>=0.5 in /usr/local/lib/python3.6/dist-packages (from importlib-metadata; python_version < \"3.8\"->markdown>=2.6.8->tb-nightly~=2.5.0.a->tf-nightly) (3.4.0)\n",
            "Requirement already satisfied, skipping upgrade: pyasn1<0.5.0,>=0.4.6 in /usr/local/lib/python3.6/dist-packages (from pyasn1-modules>=0.2.1->google-auth<2,>=1.6.3->tb-nightly~=2.5.0.a->tf-nightly) (0.4.8)\n"
          ],
          "name": "stdout"
        }
      ]
    },
    {
      "cell_type": "code",
      "metadata": {
        "id": "qEqDuod8iuTy"
      },
      "source": [
        "import tensorflow as tf"
      ],
      "execution_count": 1,
      "outputs": []
    },
    {
      "cell_type": "code",
      "metadata": {
        "id": "CYqz1EZUqrZr"
      },
      "source": [
        "from scipy.special import erf\n",
        "import numpy as np\n",
        "import time"
      ],
      "execution_count": 2,
      "outputs": []
    },
    {
      "cell_type": "code",
      "metadata": {
        "id": "wZzX8ugh1eJ6"
      },
      "source": [
        "x = tf.math.sobol_sample(10,10)"
      ],
      "execution_count": 3,
      "outputs": []
    },
    {
      "cell_type": "code",
      "metadata": {
        "id": "MPMwv1G9h0ou"
      },
      "source": [
        "import numpy as np"
      ],
      "execution_count": 4,
      "outputs": []
    },
    {
      "cell_type": "code",
      "metadata": {
        "id": "dsB-loSz074y"
      },
      "source": [
        "import tensorflow as tf"
      ],
      "execution_count": 3,
      "outputs": []
    },
    {
      "cell_type": "code",
      "metadata": {
        "id": "yV58kSGc03N4"
      },
      "source": [
        "import numpy as np\n",
        "import math"
      ],
      "execution_count": 4,
      "outputs": []
    },
    {
      "cell_type": "code",
      "metadata": {
        "id": "lazF0a71pwkG"
      },
      "source": [
        "number_time_steps = 128\n",
        "number = 3\n",
        "\n",
        "left_index = np.zeros(number_time_steps, dtype=int)\n",
        "right_index = np.zeros(number_time_steps, dtype=int)\n",
        "bridge_index = np.zeros(number_time_steps, dtype=int)\n",
        "left_weight = np.zeros(number_time_steps)\n",
        "right_weight = np.zeros(number_time_steps)\n",
        "std_dev = np.zeros(number_time_steps)\n",
        "\n",
        "_map = np.zeros(number_time_steps, dtype=int)\n",
        "\n",
        "_map[-1] = 1\n",
        "bridge_index[0] = number_time_steps - 1\n",
        "std_dev[0] = math.sqrt(1.0 * number_time_steps)\n",
        "left_weight[0] = 0\n",
        "right_weight[0] = 0\n",
        "\n",
        "j=0\n",
        "for i in range(1,number_time_steps):\n",
        "  while _map[j] == True:\n",
        "    j = j + 1\n",
        "  k = j\n",
        "  while _map[k] == False:\n",
        "    k = k + 1\n",
        "  l = j+((k-1-j)>>1)\n",
        "  _map[l]=i\n",
        "  bridge_index[i]=l\n",
        "  left_index[i]=j\n",
        "  right_index[i]=k\n",
        "  left_weight[i]=(k-l)/(k+1-j)\n",
        "  right_weight[i]=(1+l-j)/(k+1-j)\n",
        "  std_dev[i]=np.sqrt(((1+l-j)*(k-l))/(k+1-j))\n",
        "  j=k+1\n",
        "  if j>=number_time_steps:\n",
        "    j=0\n",
        "\n",
        "bridge_index_t = tf.constant(tf.convert_to_tensor(bridge_index,dtype=tf.int32))\n",
        "right_index_t = tf.constant(tf.convert_to_tensor(right_index,dtype=tf.int32))\n",
        "left_index_t = tf.constant(tf.convert_to_tensor(left_index,dtype=tf.int32))\n",
        "std_dev_t = tf.constant(tf.convert_to_tensor(std_dev))\n",
        "right_weight_t = tf.constant(tf.convert_to_tensor(right_weight))\n",
        "left_weight_t = tf.constant(tf.convert_to_tensor(left_weight))\n",
        "std_dev32_t = tf.constant(tf.convert_to_tensor(std_dev,dtype=tf.float32))\n",
        "right_weight32_t = tf.constant(tf.convert_to_tensor(right_weight,dtype=tf.float32))\n",
        "left_weight32_t = tf.constant(tf.convert_to_tensor(left_weight,dtype=tf.float32))"
      ],
      "execution_count": 5,
      "outputs": []
    },
    {
      "cell_type": "code",
      "metadata": {
        "id": "s08YoH7R01_g"
      },
      "source": [
        "@tf.function(jit_compile=True, input_signature=(tf.TensorSpec(shape=(None,None), dtype=tf.float64),))\n",
        "def buildP(path):\n",
        "  pt = tf.unstack(path)\n",
        "  return pt"
      ],
      "execution_count": 6,
      "outputs": []
    },
    {
      "cell_type": "code",
      "metadata": {
        "id": "w9vaS88N0D96"
      },
      "source": [
        "@tf.function(jit_compile=True, input_signature=(tf.TensorSpec(shape=(None,None), dtype=tf.float64),\n",
        "                                                tf.TensorSpec(shape=(), dtype=tf.int32),\n",
        "                                                tf.TensorSpec(shape=(), dtype=tf.int32),\n",
        "                                                tf.TensorSpec(shape=(None), dtype=tf.int32),\n",
        "                                                tf.TensorSpec(shape=(None), dtype=tf.int32),\n",
        "                                                tf.TensorSpec(shape=(None), dtype=tf.int32),\n",
        "                                                tf.TensorSpec(shape=(None), dtype=tf.float64),\n",
        "                                                tf.TensorSpec(shape=(None), dtype=tf.float64),\n",
        "                                                tf.TensorSpec(shape=(None), dtype=tf.float64)))\n",
        "def buildPath(z, number, number_time_steps, left_index, right_index, bridge_index, left_weight, right_weight, std_dev):\n",
        "  print(number)\n",
        "  print(number_time_steps)\n",
        "  #path = tf.zeros(shape=(number_time_steps,number),dtype=tf.dtypes.float64)\n",
        "  path = tf.TensorArray(dtype=tf.float64,size=number_time_steps+1)\n",
        "  #path = [[0] * number_time_steps] * number\n",
        "  #print(path)\n",
        "  #path_t = tf.unstack(path,num=number_time_steps)\n",
        "  #print(left_index[number-1])\n",
        "  #print(z)\n",
        "  #return z[left_index[number-1]]\n",
        "#def buildPath(z, number, number_time_steps, left_index_t, right_index_t, bridge_index_t, left_weight, right_weight, std_dev):\n",
        "\n",
        "  #path = tf.unstack(tf.zeros(shape=(number_time_steps,number),dtype=tf.dtypes.float64))\n",
        "  path = path.write(number_time_steps-1,std_dev[0]*z[0]);\n",
        "  path = path.write(number_time_steps,0*z[0]);  \n",
        "  j = 0\n",
        "  k = 0\n",
        "  l = 0\n",
        "  i = 0\n",
        "  for i in range(1,number_time_steps):\n",
        "    j = left_index[i]\n",
        "    k = right_index[i]\n",
        "    l = bridge_index[i]\n",
        "    path = path.write(l,left_weight[i] * path.read(j-1) + right_weight[i] * path.read(k) + std_dev[i] * z[i])\n",
        "\n",
        "  return path.stack()"
      ],
      "execution_count": 75,
      "outputs": []
    },
    {
      "cell_type": "code",
      "metadata": {
        "id": "X9pKbvV9PUH5"
      },
      "source": [
        "@tf.function(jit_compile=True, input_signature=(tf.TensorSpec(shape=(None,None), dtype=tf.float32),\n",
        "                                                tf.TensorSpec(shape=(), dtype=tf.int32),\n",
        "                                                tf.TensorSpec(shape=(), dtype=tf.int32),\n",
        "                                                tf.TensorSpec(shape=(None), dtype=tf.int32),\n",
        "                                                tf.TensorSpec(shape=(None), dtype=tf.int32),\n",
        "                                                tf.TensorSpec(shape=(None), dtype=tf.int32),\n",
        "                                                tf.TensorSpec(shape=(None), dtype=tf.float32),\n",
        "                                                tf.TensorSpec(shape=(None), dtype=tf.float32),\n",
        "                                                tf.TensorSpec(shape=(None), dtype=tf.float32)))\n",
        "def buildPath32(z, number, number_time_steps, left_index, right_index, bridge_index, left_weight, right_weight, std_dev):\n",
        "  print(number)\n",
        "  print(number_time_steps)\n",
        "  #path = tf.zeros(shape=(number_time_steps,number),dtype=tf.dtypes.float64)\n",
        "  path = tf.TensorArray(dtype=tf.float32,size=number_time_steps+1)\n",
        "  #path = [[0] * number_time_steps] * number\n",
        "  #print(path)\n",
        "  #path_t = tf.unstack(path,num=number_time_steps)\n",
        "  #print(left_index[number-1])\n",
        "  #print(z)\n",
        "  #return z[left_index[number-1]]\n",
        "#def buildPath(z, number, number_time_steps, left_index_t, right_index_t, bridge_index_t, left_weight, right_weight, std_dev):\n",
        "\n",
        "  #path = tf.unstack(tf.zeros(shape=(number_time_steps,number),dtype=tf.dtypes.float64))\n",
        "  path = path.write(number_time_steps-1,std_dev[0]*z[0]);\n",
        "  path = path.write(number_time_steps,torch.zeros(size=number));  \n",
        "  j = 0\n",
        "  k = 0\n",
        "  l = 0\n",
        "  i = 0\n",
        "  for i in range(1,number_time_steps):\n",
        "    j = left_index[i]\n",
        "    k = right_index[i]\n",
        "    l = bridge_index[i]\n",
        "    path = path.write(l,left_weight[i] * path.read(j-1) + right_weight[i] * path.read(k) + std_dev[i] * z[i])\n",
        "\n",
        "  return path.stack()"
      ],
      "execution_count": 76,
      "outputs": []
    },
    {
      "cell_type": "code",
      "metadata": {
        "colab": {
          "base_uri": "https://localhost:8080/"
        },
        "id": "wmU1GmxyvINL",
        "outputId": "e057438a-ce00-4b47-878c-b56e9c5b7929"
      },
      "source": [
        "print(buildPath.pretty_printed_concrete_signatures())"
      ],
      "execution_count": 77,
      "outputs": [
        {
          "output_type": "stream",
          "text": [
            "Tensor(\"number:0\", shape=(), dtype=int32)\n",
            "Tensor(\"number_time_steps:0\", shape=(), dtype=int32)\n",
            "buildPath(z, number, number_time_steps, left_index, right_index, bridge_index, left_weight, right_weight, std_dev)\n",
            "  Args:\n",
            "    z: float64 Tensor, shape=(None, None)\n",
            "    number: int32 Tensor, shape=()\n",
            "    number_time_steps: int32 Tensor, shape=()\n",
            "    left_index: int32 Tensor, shape=<unknown>\n",
            "    right_index: int32 Tensor, shape=<unknown>\n",
            "    bridge_index: int32 Tensor, shape=<unknown>\n",
            "    left_weight: float64 Tensor, shape=<unknown>\n",
            "    right_weight: float64 Tensor, shape=<unknown>\n",
            "    std_dev: float64 Tensor, shape=<unknown>\n",
            "  Returns:\n",
            "    float64 Tensor, shape=(None, None)\n"
          ],
          "name": "stdout"
        }
      ]
    },
    {
      "cell_type": "code",
      "metadata": {
        "id": "75mLhhBtqbuk"
      },
      "source": [
        "x = tf.math.sobol_sample(128,1,dtype=tf.dtypes.float64)\n",
        "z = tf.transpose(tf.math.erf(x))"
      ],
      "execution_count": 78,
      "outputs": []
    },
    {
      "cell_type": "code",
      "metadata": {
        "id": "RQNPIH2Rqbyt"
      },
      "source": [
        "#path = buildPath(z, 5, 8, left_index, right_index, bridge_index, left_weight, right_weight, std_dev)\n",
        "path = buildPath(z, tf.constant(1), tf.constant(128), left_index_t, right_index_t, bridge_index_t, left_weight_t, right_weight_t, std_dev_t)"
      ],
      "execution_count": 79,
      "outputs": []
    },
    {
      "cell_type": "code",
      "metadata": {
        "colab": {
          "base_uri": "https://localhost:8080/"
        },
        "id": "JhUhxWPXufPF",
        "outputId": "e16bdbe6-6335-4773-ea04-65b8483ba64d"
      },
      "source": [
        "print(buildPath.pretty_printed_concrete_signatures())"
      ],
      "execution_count": 58,
      "outputs": [
        {
          "output_type": "stream",
          "text": [
            "buildPath(z, number, number_time_steps, left_index, right_index, bridge_index, left_weight, right_weight, std_dev)\n",
            "  Args:\n",
            "    z: float64 Tensor, shape=(None, None)\n",
            "    number: int32 Tensor, shape=()\n",
            "    number_time_steps: int32 Tensor, shape=()\n",
            "    left_index: int32 Tensor, shape=<unknown>\n",
            "    right_index: int32 Tensor, shape=<unknown>\n",
            "    bridge_index: int32 Tensor, shape=<unknown>\n",
            "    left_weight: float64 Tensor, shape=<unknown>\n",
            "    right_weight: float64 Tensor, shape=<unknown>\n",
            "    std_dev: float64 Tensor, shape=<unknown>\n",
            "  Returns:\n",
            "    float64 Tensor, shape=(None,)\n"
          ],
          "name": "stdout"
        }
      ]
    },
    {
      "cell_type": "code",
      "metadata": {
        "colab": {
          "base_uri": "https://localhost:8080/"
        },
        "id": "nxJXwrh-rf5Z",
        "outputId": "21b03d12-d272-4d7b-ec73-92c686175bb7"
      },
      "source": [
        "print(tf.autograph.to_code(buildPath.python_function))"
      ],
      "execution_count": 59,
      "outputs": [
        {
          "output_type": "stream",
          "text": [
            "def tf__buildPath(z, number, number_time_steps, left_index, right_index, bridge_index, left_weight, right_weight, std_dev):\n",
            "    with ag__.FunctionScope('buildPath', 'fscope', ag__.ConversionOptions(recursive=True, user_requested=True, optional_features=(), internal_convert_user_code=True)) as fscope:\n",
            "        do_return = False\n",
            "        retval_ = ag__.UndefinedReturnValue()\n",
            "        ag__.ld(print)(ag__.ld(number))\n",
            "        ag__.ld(print)(ag__.ld(number_time_steps))\n",
            "        path = ag__.converted_call(ag__.ld(tf).TensorArray, (), dict(dtype=ag__.ld(tf).float64, size=(ag__.ld(number_time_steps) + 1)), fscope)\n",
            "        path = ag__.converted_call(ag__.ld(path).write, ((ag__.ld(number_time_steps) - 1), (ag__.ld(std_dev)[0] * ag__.ld(z)[0])), None, fscope)\n",
            "        path = ag__.converted_call(ag__.ld(path).write, (ag__.ld(number_time_steps), 0), None, fscope)\n",
            "        j = 0\n",
            "        k = 0\n",
            "        l = 0\n",
            "        i = 0\n",
            "\n",
            "        def get_state():\n",
            "            return (path,)\n",
            "\n",
            "        def set_state(vars_):\n",
            "            nonlocal path\n",
            "            (path,) = vars_\n",
            "\n",
            "        def loop_body(itr):\n",
            "            nonlocal path\n",
            "            i = itr\n",
            "            j = ag__.ld(left_index)[ag__.ld(i)]\n",
            "            k = ag__.ld(right_index)[ag__.ld(i)]\n",
            "            l = ag__.ld(bridge_index)[ag__.ld(i)]\n",
            "            path = ag__.converted_call(ag__.ld(path).write, (ag__.ld(l), (((ag__.ld(left_weight)[ag__.ld(i)] * ag__.converted_call(ag__.ld(path).read, ((ag__.ld(j) - 1),), None, fscope)) + (ag__.ld(right_weight)[ag__.ld(i)] * ag__.converted_call(ag__.ld(path).read, (ag__.ld(k),), None, fscope))) + (ag__.ld(std_dev)[ag__.ld(i)] * ag__.ld(z)[ag__.ld(i)]))), None, fscope)\n",
            "        ag__.for_stmt(ag__.converted_call(ag__.ld(range), (1, ag__.ld(number_time_steps)), None, fscope), None, loop_body, get_state, set_state, ('path',), {'iterate_names': 'i'})\n",
            "        try:\n",
            "            do_return = True\n",
            "            retval_ = ag__.converted_call(ag__.ld(path).stack, (), None, fscope)\n",
            "        except:\n",
            "            do_return = False\n",
            "            raise\n",
            "        return fscope.ret(retval_, do_return)\n",
            "\n"
          ],
          "name": "stdout"
        }
      ]
    },
    {
      "cell_type": "code",
      "metadata": {
        "id": "9XdANEyYRLs6"
      },
      "source": [
        "import time"
      ],
      "execution_count": 60,
      "outputs": []
    },
    {
      "cell_type": "code",
      "metadata": {
        "colab": {
          "base_uri": "https://localhost:8080/",
          "height": 1000
        },
        "id": "eoeT5eJZy1_7",
        "outputId": "0711266c-6c05-42a5-f7b6-c779d561e047"
      },
      "source": [
        "#@title Pricing time a CPU. Note TensorFlow does automatic multithreading.\n",
        "dim =  128#@param {type:\"integer\"}\n",
        "number =  100000#@param {type:\"integer\"}\n",
        "\n",
        "# First run (includes graph optimization time)\n",
        "time_start = time.time()\n",
        "with tf.device(\"/cpu:0\"):\n",
        "#with tf.profiler.experimental.Profile(\"/logs/profile\"):\n",
        "    x = tf.math.sobol_sample(dim,number,dtype=tf.dtypes.float32)\n",
        "    z = tf.transpose(tf.math.erf(x))\n",
        "    w = buildPath32(z, number, dim, left_index_t, right_index_t, bridge_index_t, left_weight32_t, right_weight32_t, std_dev32_t)\n",
        "    #print(w)\n",
        "time_end = time.time()\n",
        "time_price_cpu = time_end - time_start\n",
        "print(\"First time on a CPU: \", time_price_cpu)\n",
        "\n",
        "# Second run (excludes graph optimization time)\n",
        "time_start = time.time()\n",
        "with tf.device(\"/cpu:0\"):\n",
        "    x = tf.math.sobol_sample(dim,number,dtype=tf.dtypes.float64)\n",
        "    #print(x)\n",
        "    z = tf.transpose(tf.math.erf(x))\n",
        "    w = buildPath(z, number, dim, left_index, right_index, bridge_index, left_weight, right_weight, std_dev)\n",
        "time_end = time.time()\n",
        "\n",
        "time_price_cpu = time_end - time_start\n",
        "print(\"Second time on a CPU: \", time_price_cpu)"
      ],
      "execution_count": 61,
      "outputs": [
        {
          "output_type": "stream",
          "text": [
            "Tensor(\"number:0\", shape=(), dtype=int32)\n",
            "Tensor(\"number_time_steps:0\", shape=(), dtype=int32)\n",
            "First time on a CPU:  0.26169466972351074\n"
          ],
          "name": "stdout"
        },
        {
          "output_type": "error",
          "ename": "InternalError",
          "evalue": "ignored",
          "traceback": [
            "\u001b[0;31m---------------------------------------------------------------------------\u001b[0m",
            "\u001b[0;31mInternalError\u001b[0m                             Traceback (most recent call last)",
            "\u001b[0;32m<ipython-input-61-55c1f6eed5fb>\u001b[0m in \u001b[0;36m<module>\u001b[0;34m()\u001b[0m\n\u001b[1;32m     20\u001b[0m     \u001b[0mx\u001b[0m \u001b[0;34m=\u001b[0m \u001b[0mtf\u001b[0m\u001b[0;34m.\u001b[0m\u001b[0mmath\u001b[0m\u001b[0;34m.\u001b[0m\u001b[0msobol_sample\u001b[0m\u001b[0;34m(\u001b[0m\u001b[0mdim\u001b[0m\u001b[0;34m,\u001b[0m\u001b[0mnumber\u001b[0m\u001b[0;34m,\u001b[0m\u001b[0mdtype\u001b[0m\u001b[0;34m=\u001b[0m\u001b[0mtf\u001b[0m\u001b[0;34m.\u001b[0m\u001b[0mdtypes\u001b[0m\u001b[0;34m.\u001b[0m\u001b[0mfloat64\u001b[0m\u001b[0;34m)\u001b[0m\u001b[0;34m\u001b[0m\u001b[0;34m\u001b[0m\u001b[0m\n\u001b[1;32m     21\u001b[0m     \u001b[0;31m#print(x)\u001b[0m\u001b[0;34m\u001b[0m\u001b[0;34m\u001b[0m\u001b[0;34m\u001b[0m\u001b[0m\n\u001b[0;32m---> 22\u001b[0;31m     \u001b[0mz\u001b[0m \u001b[0;34m=\u001b[0m \u001b[0mtf\u001b[0m\u001b[0;34m.\u001b[0m\u001b[0mtranspose\u001b[0m\u001b[0;34m(\u001b[0m\u001b[0mtf\u001b[0m\u001b[0;34m.\u001b[0m\u001b[0mmath\u001b[0m\u001b[0;34m.\u001b[0m\u001b[0merf\u001b[0m\u001b[0;34m(\u001b[0m\u001b[0mx\u001b[0m\u001b[0;34m)\u001b[0m\u001b[0;34m)\u001b[0m\u001b[0;34m\u001b[0m\u001b[0;34m\u001b[0m\u001b[0m\n\u001b[0m\u001b[1;32m     23\u001b[0m     \u001b[0mw\u001b[0m \u001b[0;34m=\u001b[0m \u001b[0mbuildPath\u001b[0m\u001b[0;34m(\u001b[0m\u001b[0mz\u001b[0m\u001b[0;34m,\u001b[0m \u001b[0mnumber\u001b[0m\u001b[0;34m,\u001b[0m \u001b[0mdim\u001b[0m\u001b[0;34m,\u001b[0m \u001b[0mleft_index\u001b[0m\u001b[0;34m,\u001b[0m \u001b[0mright_index\u001b[0m\u001b[0;34m,\u001b[0m \u001b[0mbridge_index\u001b[0m\u001b[0;34m,\u001b[0m \u001b[0mleft_weight\u001b[0m\u001b[0;34m,\u001b[0m \u001b[0mright_weight\u001b[0m\u001b[0;34m,\u001b[0m \u001b[0mstd_dev\u001b[0m\u001b[0;34m)\u001b[0m\u001b[0;34m\u001b[0m\u001b[0;34m\u001b[0m\u001b[0m\n\u001b[1;32m     24\u001b[0m \u001b[0mtime_end\u001b[0m \u001b[0;34m=\u001b[0m \u001b[0mtime\u001b[0m\u001b[0;34m.\u001b[0m\u001b[0mtime\u001b[0m\u001b[0;34m(\u001b[0m\u001b[0;34m)\u001b[0m\u001b[0;34m\u001b[0m\u001b[0;34m\u001b[0m\u001b[0m\n",
            "\u001b[0;32m/usr/local/lib/python3.6/dist-packages/tensorflow/python/util/dispatch.py\u001b[0m in \u001b[0;36mwrapper\u001b[0;34m(*args, **kwargs)\u001b[0m\n\u001b[1;32m    204\u001b[0m     \u001b[0;34m\"\"\"Call target, and fall back on dispatchers if there is a TypeError.\"\"\"\u001b[0m\u001b[0;34m\u001b[0m\u001b[0;34m\u001b[0m\u001b[0m\n\u001b[1;32m    205\u001b[0m     \u001b[0;32mtry\u001b[0m\u001b[0;34m:\u001b[0m\u001b[0;34m\u001b[0m\u001b[0;34m\u001b[0m\u001b[0m\n\u001b[0;32m--> 206\u001b[0;31m       \u001b[0;32mreturn\u001b[0m \u001b[0mtarget\u001b[0m\u001b[0;34m(\u001b[0m\u001b[0;34m*\u001b[0m\u001b[0margs\u001b[0m\u001b[0;34m,\u001b[0m \u001b[0;34m**\u001b[0m\u001b[0mkwargs\u001b[0m\u001b[0;34m)\u001b[0m\u001b[0;34m\u001b[0m\u001b[0;34m\u001b[0m\u001b[0m\n\u001b[0m\u001b[1;32m    207\u001b[0m     \u001b[0;32mexcept\u001b[0m \u001b[0;34m(\u001b[0m\u001b[0mTypeError\u001b[0m\u001b[0;34m,\u001b[0m \u001b[0mValueError\u001b[0m\u001b[0;34m)\u001b[0m\u001b[0;34m:\u001b[0m\u001b[0;34m\u001b[0m\u001b[0;34m\u001b[0m\u001b[0m\n\u001b[1;32m    208\u001b[0m       \u001b[0;31m# Note: convert_to_eager_tensor currently raises a ValueError, not a\u001b[0m\u001b[0;34m\u001b[0m\u001b[0;34m\u001b[0m\u001b[0;34m\u001b[0m\u001b[0m\n",
            "\u001b[0;32m/usr/local/lib/python3.6/dist-packages/tensorflow/python/ops/array_ops.py\u001b[0m in \u001b[0;36mtranspose_v2\u001b[0;34m(a, perm, conjugate, name)\u001b[0m\n\u001b[1;32m   2224\u001b[0m     \u001b[0mA\u001b[0m \u001b[0mtransposed\u001b[0m\u001b[0;31m \u001b[0m\u001b[0;31m`\u001b[0m\u001b[0mTensor\u001b[0m\u001b[0;31m`\u001b[0m\u001b[0;34m.\u001b[0m\u001b[0;34m\u001b[0m\u001b[0;34m\u001b[0m\u001b[0m\n\u001b[1;32m   2225\u001b[0m   \"\"\"\n\u001b[0;32m-> 2226\u001b[0;31m   \u001b[0;32mreturn\u001b[0m \u001b[0mtranspose\u001b[0m\u001b[0;34m(\u001b[0m\u001b[0ma\u001b[0m\u001b[0;34m=\u001b[0m\u001b[0ma\u001b[0m\u001b[0;34m,\u001b[0m \u001b[0mperm\u001b[0m\u001b[0;34m=\u001b[0m\u001b[0mperm\u001b[0m\u001b[0;34m,\u001b[0m \u001b[0mname\u001b[0m\u001b[0;34m=\u001b[0m\u001b[0mname\u001b[0m\u001b[0;34m,\u001b[0m \u001b[0mconjugate\u001b[0m\u001b[0;34m=\u001b[0m\u001b[0mconjugate\u001b[0m\u001b[0;34m)\u001b[0m\u001b[0;34m\u001b[0m\u001b[0;34m\u001b[0m\u001b[0m\n\u001b[0m\u001b[1;32m   2227\u001b[0m \u001b[0;34m\u001b[0m\u001b[0m\n\u001b[1;32m   2228\u001b[0m \u001b[0;34m\u001b[0m\u001b[0m\n",
            "\u001b[0;32m/usr/local/lib/python3.6/dist-packages/tensorflow/python/util/dispatch.py\u001b[0m in \u001b[0;36mwrapper\u001b[0;34m(*args, **kwargs)\u001b[0m\n\u001b[1;32m    204\u001b[0m     \u001b[0;34m\"\"\"Call target, and fall back on dispatchers if there is a TypeError.\"\"\"\u001b[0m\u001b[0;34m\u001b[0m\u001b[0;34m\u001b[0m\u001b[0m\n\u001b[1;32m    205\u001b[0m     \u001b[0;32mtry\u001b[0m\u001b[0;34m:\u001b[0m\u001b[0;34m\u001b[0m\u001b[0;34m\u001b[0m\u001b[0m\n\u001b[0;32m--> 206\u001b[0;31m       \u001b[0;32mreturn\u001b[0m \u001b[0mtarget\u001b[0m\u001b[0;34m(\u001b[0m\u001b[0;34m*\u001b[0m\u001b[0margs\u001b[0m\u001b[0;34m,\u001b[0m \u001b[0;34m**\u001b[0m\u001b[0mkwargs\u001b[0m\u001b[0;34m)\u001b[0m\u001b[0;34m\u001b[0m\u001b[0;34m\u001b[0m\u001b[0m\n\u001b[0m\u001b[1;32m    207\u001b[0m     \u001b[0;32mexcept\u001b[0m \u001b[0;34m(\u001b[0m\u001b[0mTypeError\u001b[0m\u001b[0;34m,\u001b[0m \u001b[0mValueError\u001b[0m\u001b[0;34m)\u001b[0m\u001b[0;34m:\u001b[0m\u001b[0;34m\u001b[0m\u001b[0;34m\u001b[0m\u001b[0m\n\u001b[1;32m    208\u001b[0m       \u001b[0;31m# Note: convert_to_eager_tensor currently raises a ValueError, not a\u001b[0m\u001b[0;34m\u001b[0m\u001b[0;34m\u001b[0m\u001b[0;34m\u001b[0m\u001b[0m\n",
            "\u001b[0;32m/usr/local/lib/python3.6/dist-packages/tensorflow/python/ops/array_ops.py\u001b[0m in \u001b[0;36mtranspose\u001b[0;34m(a, perm, name, conjugate)\u001b[0m\n\u001b[1;32m   2307\u001b[0m       \u001b[0;32mreturn\u001b[0m \u001b[0mtranspose_fn\u001b[0m\u001b[0;34m(\u001b[0m\u001b[0ma\u001b[0m\u001b[0;34m,\u001b[0m \u001b[0mperm\u001b[0m\u001b[0;34m,\u001b[0m \u001b[0mname\u001b[0m\u001b[0;34m=\u001b[0m\u001b[0mname\u001b[0m\u001b[0;34m)\u001b[0m\u001b[0;34m\u001b[0m\u001b[0;34m\u001b[0m\u001b[0m\n\u001b[1;32m   2308\u001b[0m \u001b[0;34m\u001b[0m\u001b[0m\n\u001b[0;32m-> 2309\u001b[0;31m     \u001b[0mrank\u001b[0m \u001b[0;34m=\u001b[0m \u001b[0ma\u001b[0m\u001b[0;34m.\u001b[0m\u001b[0mshape\u001b[0m\u001b[0;34m.\u001b[0m\u001b[0mrank\u001b[0m\u001b[0;34m\u001b[0m\u001b[0;34m\u001b[0m\u001b[0m\n\u001b[0m\u001b[1;32m   2310\u001b[0m     \u001b[0;32mif\u001b[0m \u001b[0mrank\u001b[0m \u001b[0;32mis\u001b[0m \u001b[0;32mNone\u001b[0m\u001b[0;34m:\u001b[0m\u001b[0;34m\u001b[0m\u001b[0;34m\u001b[0m\u001b[0m\n\u001b[1;32m   2311\u001b[0m       \u001b[0mperm\u001b[0m \u001b[0;34m=\u001b[0m \u001b[0mgen_math_ops\u001b[0m\u001b[0;34m.\u001b[0m\u001b[0m_range\u001b[0m\u001b[0;34m(\u001b[0m\u001b[0mgen_array_ops\u001b[0m\u001b[0;34m.\u001b[0m\u001b[0mrank\u001b[0m\u001b[0;34m(\u001b[0m\u001b[0ma\u001b[0m\u001b[0;34m)\u001b[0m \u001b[0;34m-\u001b[0m \u001b[0;36m1\u001b[0m\u001b[0;34m,\u001b[0m \u001b[0;34m-\u001b[0m\u001b[0;36m1\u001b[0m\u001b[0;34m,\u001b[0m \u001b[0;34m-\u001b[0m\u001b[0;36m1\u001b[0m\u001b[0;34m)\u001b[0m\u001b[0;34m\u001b[0m\u001b[0;34m\u001b[0m\u001b[0m\n",
            "\u001b[0;32m/usr/local/lib/python3.6/dist-packages/tensorflow/python/framework/ops.py\u001b[0m in \u001b[0;36mshape\u001b[0;34m(self)\u001b[0m\n\u001b[1;32m   1173\u001b[0m         \u001b[0;31m# `_tensor_shape` is declared and defined in the definition of\u001b[0m\u001b[0;34m\u001b[0m\u001b[0;34m\u001b[0m\u001b[0;34m\u001b[0m\u001b[0m\n\u001b[1;32m   1174\u001b[0m         \u001b[0;31m# `EagerTensor`, in C.\u001b[0m\u001b[0;34m\u001b[0m\u001b[0;34m\u001b[0m\u001b[0;34m\u001b[0m\u001b[0m\n\u001b[0;32m-> 1175\u001b[0;31m         \u001b[0mself\u001b[0m\u001b[0;34m.\u001b[0m\u001b[0m_tensor_shape\u001b[0m \u001b[0;34m=\u001b[0m \u001b[0mtensor_shape\u001b[0m\u001b[0;34m.\u001b[0m\u001b[0mTensorShape\u001b[0m\u001b[0;34m(\u001b[0m\u001b[0mself\u001b[0m\u001b[0;34m.\u001b[0m\u001b[0m_shape_tuple\u001b[0m\u001b[0;34m(\u001b[0m\u001b[0;34m)\u001b[0m\u001b[0;34m)\u001b[0m\u001b[0;34m\u001b[0m\u001b[0;34m\u001b[0m\u001b[0m\n\u001b[0m\u001b[1;32m   1176\u001b[0m       \u001b[0;32mexcept\u001b[0m \u001b[0mcore\u001b[0m\u001b[0;34m.\u001b[0m\u001b[0m_NotOkStatusException\u001b[0m \u001b[0;32mas\u001b[0m \u001b[0me\u001b[0m\u001b[0;34m:\u001b[0m\u001b[0;34m\u001b[0m\u001b[0;34m\u001b[0m\u001b[0m\n\u001b[1;32m   1177\u001b[0m         \u001b[0msix\u001b[0m\u001b[0;34m.\u001b[0m\u001b[0mraise_from\u001b[0m\u001b[0;34m(\u001b[0m\u001b[0mcore\u001b[0m\u001b[0;34m.\u001b[0m\u001b[0m_status_to_exception\u001b[0m\u001b[0;34m(\u001b[0m\u001b[0me\u001b[0m\u001b[0;34m.\u001b[0m\u001b[0mcode\u001b[0m\u001b[0;34m,\u001b[0m \u001b[0me\u001b[0m\u001b[0;34m.\u001b[0m\u001b[0mmessage\u001b[0m\u001b[0;34m)\u001b[0m\u001b[0;34m,\u001b[0m \u001b[0;32mNone\u001b[0m\u001b[0;34m)\u001b[0m\u001b[0;34m\u001b[0m\u001b[0;34m\u001b[0m\u001b[0m\n",
            "\u001b[0;31mInternalError\u001b[0m: Invalid TensorList shape: element_type: TUPLE\ntuple_shapes {\n  element_type: F32\n  dimensions: 129\n  dimensions: 100000\n  layout {\n    minor_to_major: 1\n    minor_to_major: 0\n    format: DENSE\n  }\n  is_dynamic_dimension: false\n  is_dynamic_dimension: false\n}\ntuple_shapes {\n  element_type: S32\n  layout {\n    format: DENSE\n  }\n}\n, expected: element_type: TUPLE\ntuple_shapes {\n  element_type: F32\n  dimensions: 129\n  layout {\n    minor_to_major: 0\n    format: DENSE\n  }\n  is_dynamic_dimension: false\n}\ntuple_shapes {\n  element_type: S32\n  layout {\n    format: DENSE\n  }\n}\n\n\t [[{{node TensorArrayV2Write_1/TensorListSetItem}}]]"
          ]
        }
      ]
    },
    {
      "cell_type": "code",
      "metadata": {
        "id": "EY1zxJBJRJ5T"
      },
      "source": [
        "import time"
      ],
      "execution_count": 35,
      "outputs": []
    },
    {
      "cell_type": "code",
      "metadata": {
        "id": "QcYugfF3oOFL"
      },
      "source": [
        "import torch"
      ],
      "execution_count": 17,
      "outputs": []
    },
    {
      "cell_type": "code",
      "metadata": {
        "colab": {
          "base_uri": "https://localhost:8080/"
        },
        "id": "8Bc4d6eQolhK",
        "outputId": "b333f202-5fcb-44f4-a2f5-050bc150e98c"
      },
      "source": [
        "@torch.jit.script\n",
        "def foo(x, number: int):\n",
        "  print(number)\n",
        "  z = 0.\n",
        "  for i in range(0,number):\n",
        "    tmp = x[i]\n",
        "    z = z + tmp\n",
        "\n",
        "# See the compiled graph as Python code\n",
        "print(foo.code)"
      ],
      "execution_count": 18,
      "outputs": [
        {
          "output_type": "stream",
          "text": [
            "def foo(x: Tensor,\n",
            "    number: int) -> None:\n",
            "  print(number)\n",
            "  z = 0.\n",
            "  for _0 in range(torch.__range_length(0, number, 1)):\n",
            "    i = torch.__derive_index(_0, 0, 1)\n",
            "    tmp = torch.select(x, 0, i)\n",
            "    z0 = torch.add(tmp, z, 1)\n",
            "    z = annotate(float, z0)\n",
            "  return None\n",
            "\n"
          ],
          "name": "stdout"
        }
      ]
    },
    {
      "cell_type": "code",
      "metadata": {
        "colab": {
          "base_uri": "https://localhost:8080/"
        },
        "id": "CvN8Ry6xonuh",
        "outputId": "367efc40-5a0e-44ef-f771-8a43d9b1de54"
      },
      "source": [
        "# Call the function using the TorchScript interpreter\n",
        "x = torch.zeros(11)\n",
        "\n",
        "foo(x, 10)"
      ],
      "execution_count": null,
      "outputs": [
        {
          "output_type": "stream",
          "text": [
            "10\n"
          ],
          "name": "stdout"
        }
      ]
    },
    {
      "cell_type": "code",
      "metadata": {
        "id": "7TalyTCgxu2-"
      },
      "source": [
        "@torch.jit.script\n",
        "def buildPath(z, number: int, number_time_steps: int, left_index, right_index, bridge_index, left_weight, right_weight, std_dev):\n",
        "  path = torch.zeros(size=(number_time_steps,number))\n",
        "  path[-1] = std_dev[0]*z[0]\n",
        "  j = 0\n",
        "  k = 0\n",
        "  l = 0\n",
        "  i = 0\n",
        "  for i in range(1,number_time_steps):\n",
        "#    print(\"i\")\n",
        "#    print(i)\n",
        "    j = left_index[i]\n",
        "    k = right_index[i]\n",
        "    l = bridge_index[i]\n",
        "#    print(\"l\")\n",
        "#    print(l)\n",
        "#    print(\"k\")\n",
        "#    print(k)\n",
        "#    print(\"right_weight\")\n",
        "#    print(right_weight[i])\n",
        "    path[l] = right_weight[i] * path[k] + std_dev[i] * z[i]\n",
        "\n",
        "  return path"
      ],
      "execution_count": null,
      "outputs": []
    },
    {
      "cell_type": "code",
      "metadata": {
        "colab": {
          "base_uri": "https://localhost:8080/"
        },
        "id": "k_E0ft6S0LAP",
        "outputId": "e0d15985-e380-4d26-81c0-8d4f34b4179a"
      },
      "source": [
        "print(buildPath.code)"
      ],
      "execution_count": null,
      "outputs": [
        {
          "output_type": "stream",
          "text": [
            "def buildPath(z: Tensor,\n",
            "    number: int,\n",
            "    number_time_steps: int,\n",
            "    left_index: Tensor,\n",
            "    right_index: Tensor,\n",
            "    bridge_index: Tensor,\n",
            "    left_weight: Tensor,\n",
            "    right_weight: Tensor,\n",
            "    std_dev: Tensor) -> Tensor:\n",
            "  path = torch.zeros([number_time_steps, number], dtype=None, layout=None, device=None, pin_memory=None)\n",
            "  _0 = torch.mul(torch.select(std_dev, 0, 0), torch.select(z, 0, 0))\n",
            "  _1 = torch.copy_(torch.select(path, 0, -1), _0, False)\n",
            "  _2 = torch.__range_length(1, number_time_steps, 1)\n",
            "  for _3 in range(_2):\n",
            "    i = torch.__derive_index(_3, 1, 1)\n",
            "    k = torch.select(right_index, 0, i)\n",
            "    _4 = annotate(int, k)\n",
            "    l = torch.select(bridge_index, 0, i)\n",
            "    _5 = annotate(int, l)\n",
            "    _6 = torch.mul(torch.select(right_weight, 0, i), torch.select(path, 0, _4))\n",
            "    _7 = torch.mul(torch.select(std_dev, 0, i), torch.select(z, 0, i))\n",
            "    _8 = torch.add(_6, _7, alpha=1)\n",
            "    _9 = torch.copy_(torch.select(path, 0, _5), _8, False)\n",
            "  return path\n",
            "\n"
          ],
          "name": "stdout"
        }
      ]
    },
    {
      "cell_type": "code",
      "metadata": {
        "id": "ukSIkflR22TV"
      },
      "source": [
        "import time"
      ],
      "execution_count": null,
      "outputs": []
    },
    {
      "cell_type": "code",
      "metadata": {
        "colab": {
          "base_uri": "https://localhost:8080/"
        },
        "id": "WK93y-p61zkv",
        "outputId": "e4b50e88-6282-4b52-bd87-560bf2a278ce"
      },
      "source": [
        "#@title Pricing time a CPU. Note TensorFlow does automatic multithreading.\n",
        "dim =  256#@param {type:\"integer\"}\n",
        "number =  100000#@param {type:\"integer\"}\n",
        "\n",
        "# First run (includes graph optimization time)\n",
        "time_start = time.time()\n",
        "x = torch.randn(dim, number)\n",
        "path = buildPath(x, number, dim, left_index_t, right_index_t, bridge_index_t, left_weight_t, right_weight_t, std_dev_t)\n",
        "time_end = time.time()\n",
        "time_price_cpu = time_end - time_start\n",
        "print(\"First time on a CPU: \", time_price_cpu)\n",
        "\n",
        "# Second run (excludes graph optimization time)\n",
        "time_start = time.time()\n",
        "x = torch.randn(dim, number)\n",
        "path = buildPath(x, number, dim, left_index_t, right_index_t, bridge_index_t, left_weight_t, right_weight_t, std_dev_t)\n",
        "time_end = time.time()\n",
        "\n",
        "time_price_cpu = time_end - time_start\n",
        "print(\"Second time on a CPU: \", time_price_cpu)"
      ],
      "execution_count": null,
      "outputs": [
        {
          "output_type": "stream",
          "text": [
            "First time on a CPU:  0.40483903884887695\n",
            "Second time on a CPU:  0.3911397457122803\n"
          ],
          "name": "stdout"
        }
      ]
    },
    {
      "cell_type": "code",
      "metadata": {
        "colab": {
          "base_uri": "https://localhost:8080/"
        },
        "id": "RuBOv_J1hTO2",
        "outputId": "c49f9f03-7aa0-4db9-ccb1-2e43e726b35b"
      },
      "source": [
        "import tensorflow as tf\n",
        "if tf.test.gpu_device_name():\n",
        "    print('Default GPU Device: {}'.format(tf.test.gpu_device_name()))\n",
        "else:\n",
        "    print(\"Please install GPU version of TF\")"
      ],
      "execution_count": 129,
      "outputs": [
        {
          "output_type": "stream",
          "text": [
            "Please install GPU version of TF\n"
          ],
          "name": "stdout"
        }
      ]
    },
    {
      "cell_type": "code",
      "metadata": {
        "id": "qfBNFO6diK9M"
      },
      "source": [
        "import tensorflow as tf"
      ],
      "execution_count": 36,
      "outputs": []
    },
    {
      "cell_type": "code",
      "metadata": {
        "id": "Lg-X1SYnioLj"
      },
      "source": [
        "import os\n",
        "import tensorflow_datasets as tfds"
      ],
      "execution_count": 37,
      "outputs": []
    },
    {
      "cell_type": "code",
      "metadata": {
        "colab": {
          "base_uri": "https://localhost:8080/"
        },
        "id": "v4Y6kjxnijkD",
        "outputId": "099d7ebb-1730-4fbe-ac6f-7356aed6ed55"
      },
      "source": [
        "resolver = tf.distribute.cluster_resolver.TPUClusterResolver(tpu='grpc://' + os.environ['COLAB_TPU_ADDR'])\n",
        "tf.config.experimental_connect_to_cluster(resolver)\n",
        "# This is the TPU initialization code that has to be at the beginning.\n",
        "tf.tpu.experimental.initialize_tpu_system(resolver)\n",
        "print(\"All devices: \", tf.config.list_logical_devices('TPU'))"
      ],
      "execution_count": 38,
      "outputs": [
        {
          "output_type": "stream",
          "text": [
            "INFO:tensorflow:Initializing the TPU system: grpc://10.53.234.50:8470\n"
          ],
          "name": "stdout"
        },
        {
          "output_type": "stream",
          "text": [
            "INFO:tensorflow:Initializing the TPU system: grpc://10.53.234.50:8470\n"
          ],
          "name": "stderr"
        },
        {
          "output_type": "stream",
          "text": [
            "INFO:tensorflow:Clearing out eager caches\n"
          ],
          "name": "stdout"
        },
        {
          "output_type": "stream",
          "text": [
            "INFO:tensorflow:Clearing out eager caches\n"
          ],
          "name": "stderr"
        },
        {
          "output_type": "stream",
          "text": [
            "INFO:tensorflow:Finished initializing TPU system.\n"
          ],
          "name": "stdout"
        },
        {
          "output_type": "stream",
          "text": [
            "INFO:tensorflow:Finished initializing TPU system.\n"
          ],
          "name": "stderr"
        },
        {
          "output_type": "stream",
          "text": [
            "All devices:  [LogicalDevice(name='/job:worker/replica:0/task:0/device:TPU:7', device_type='TPU'), LogicalDevice(name='/job:worker/replica:0/task:0/device:TPU:6', device_type='TPU'), LogicalDevice(name='/job:worker/replica:0/task:0/device:TPU:5', device_type='TPU'), LogicalDevice(name='/job:worker/replica:0/task:0/device:TPU:4', device_type='TPU'), LogicalDevice(name='/job:worker/replica:0/task:0/device:TPU:0', device_type='TPU'), LogicalDevice(name='/job:worker/replica:0/task:0/device:TPU:1', device_type='TPU'), LogicalDevice(name='/job:worker/replica:0/task:0/device:TPU:2', device_type='TPU'), LogicalDevice(name='/job:worker/replica:0/task:0/device:TPU:3', device_type='TPU')]\n"
          ],
          "name": "stdout"
        }
      ]
    },
    {
      "cell_type": "code",
      "metadata": {
        "id": "-0uJUV5wpy9V"
      },
      "source": [
        "import time"
      ],
      "execution_count": 39,
      "outputs": []
    },
    {
      "cell_type": "code",
      "metadata": {
        "colab": {
          "base_uri": "https://localhost:8080/"
        },
        "id": "jw1Uj7nVha4m",
        "outputId": "770b77ef-8dba-46e0-f86f-f4e3b249b6d5"
      },
      "source": [
        "dim =  128#@param {type:\"integer\"}\n",
        "number =  2000000#@param {type:\"integer\"}\n",
        "\n",
        "#with tf.profiler.experimental.Profile(\"/logs/profile\"):\n",
        "time_start = time.time()\n",
        "with tf.device(\"/tpu:0\"):\n",
        "  x = tf.math.sobol_sample(dim,number,dtype=tf.dtypes.float32)\n",
        "  z = tf.transpose(tf.math.erf(x))\n",
        "  #path = buildPath32(z, number, dim, left_index_t, right_index_t, bridge_index_t, left_weight32_t, right_weight32_t, std_dev32_t)\n",
        "time_end = time.time()\n",
        "time_price_tpu = time_end - time_start\n",
        "print(\"Time on a TPU: \", time_price_tpu)\n",
        "\n",
        "#with tf.profiler.experimental.Profile(\"/logs/profile\"):\n",
        "time_start = time.time()\n",
        "with tf.device(\"/tpu:0\"):\n",
        "  x = tf.math.sobol_sample(dim,number,dtype=tf.dtypes.float32)\n",
        "  z = tf.transpose(tf.math.erf(x))\n",
        "time_end = time.time()\n",
        "time_price_tpu = time_end - time_start\n",
        "print(\"Time on a TPU: \", time_price_tpu)\n",
        "\n",
        "\n",
        "print(\"x device: \", x.device)\n",
        "print(\"z device: \", z.device)"
      ],
      "execution_count": 51,
      "outputs": [
        {
          "output_type": "stream",
          "text": [
            "Time on a TPU:  0.7937290668487549\n",
            "Time on a TPU:  0.8115193843841553\n",
            "x device:  /job:worker/replica:0/task:0/device:TPU:0\n",
            "z device:  /job:worker/replica:0/task:0/device:TPU:0\n"
          ],
          "name": "stdout"
        }
      ]
    },
    {
      "cell_type": "code",
      "metadata": {
        "colab": {
          "base_uri": "https://localhost:8080/"
        },
        "id": "FZjs-EKgiJzF",
        "outputId": "e58dfcd6-d622-49ad-f46b-1166f8db2cab"
      },
      "source": [
        "import tensorflow as tf\n",
        "print(\"Num GPUs Available: \", len(tf.config.experimental.list_physical_devices('GPU')))"
      ],
      "execution_count": 130,
      "outputs": [
        {
          "output_type": "stream",
          "text": [
            "Num GPUs Available:  0\n"
          ],
          "name": "stdout"
        }
      ]
    },
    {
      "cell_type": "code",
      "metadata": {
        "id": "VhSARLzSjbFS"
      },
      "source": [
        "%load_ext tensorboard"
      ],
      "execution_count": null,
      "outputs": []
    },
    {
      "cell_type": "code",
      "metadata": {
        "colab": {
          "base_uri": "https://localhost:8080/",
          "height": 445
        },
        "id": "i8X255IgksFI",
        "outputId": "e924ce6d-1f7c-42e4-dc6a-7d271a63525a"
      },
      "source": [
        "%tensorboard --logdir logs/profile"
      ],
      "execution_count": null,
      "outputs": [
        {
          "output_type": "display_data",
          "data": {
            "text/plain": [
              "ERROR: Failed to launch TensorBoard (exited with 1).\n",
              "Contents of stderr:\n",
              "2020-11-28 20:38:16.767182: W tensorflow/stream_executor/platform/default/dso_loader.cc:60] Could not load dynamic library 'libcudart.so.11.0'; dlerror: libcudart.so.11.0: cannot open shared object file: No such file or directory; LD_LIBRARY_PATH: /usr/lib64-nvidia\n",
              "2020-11-28 20:38:16.767239: I tensorflow/stream_executor/cuda/cudart_stub.cc:29] Ignore above cudart dlerror if you do not have a GPU set up on your machine.\n",
              "Traceback (most recent call last):\n",
              "  File \"/usr/local/bin/tensorboard\", line 8, in <module>\n",
              "    sys.exit(run_main())\n",
              "  File \"/usr/local/lib/python3.6/dist-packages/tensorboard/main.py\", line 75, in run_main\n",
              "    app.run(tensorboard.main, flags_parser=tensorboard.configure)\n",
              "  File \"/usr/local/lib/python3.6/dist-packages/absl/app.py\", line 300, in run\n",
              "    _run_main(main, args)\n",
              "  File \"/usr/local/lib/python3.6/dist-packages/absl/app.py\", line 251, in _run_main\n",
              "    sys.exit(main(argv))\n",
              "  File \"/usr/local/lib/python3.6/dist-packages/tensorboard/program.py\", line 289, in main\n",
              "    return runner(self.flags) or 0\n",
              "  File \"/usr/local/lib/python3.6/dist-packages/tensorboard/program.py\", line 305, in _run_serve_subcommand\n",
              "    server = self._make_server()\n",
              "  File \"/usr/local/lib/python3.6/dist-packages/tensorboard/program.py\", line 419, in _make_server\n",
              "    ingester.deprecated_multiplexer,\n",
              "  File \"/usr/local/lib/python3.6/dist-packages/tensorboard/backend/application.py\", line 149, in TensorBoardWSGIApp\n",
              "    experimental_middlewares,\n",
              "  File \"/usr/local/lib/python3.6/dist-packages/tensorboard/backend/application.py\", line 257, in __init__\n",
              "    \"Duplicate plugins for name %s\" % plugin.plugin_name\n",
              "ValueError: Duplicate plugins for name projector"
            ]
          },
          "metadata": {
            "tags": []
          }
        }
      ]
    },
    {
      "cell_type": "code",
      "metadata": {
        "id": "dfGam-NvkwGW"
      },
      "source": [
        ""
      ],
      "execution_count": null,
      "outputs": []
    }
  ]
}