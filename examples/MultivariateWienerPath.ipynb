{
  "nbformat": 4,
  "nbformat_minor": 0,
  "metadata": {
    "colab": {
      "name": "MultivariateWienerPath.ipynb",
      "provenance": [],
      "collapsed_sections": [],
      "authorship_tag": "ABX9TyPtmhtZU5ippZBr1U878HJD",
      "include_colab_link": true
    },
    "kernelspec": {
      "name": "python3",
      "display_name": "Python 3"
    },
    "accelerator": "GPU"
  },
  "cells": [
    {
      "cell_type": "markdown",
      "metadata": {
        "id": "view-in-github",
        "colab_type": "text"
      },
      "source": [
        "<a href=\"https://colab.research.google.com/github/QuantAnalyticsTorch/quant_analytics_torch/blob/main/examples/MultivariateWienerPath.ipynb\" target=\"_parent\"><img src=\"https://colab.research.google.com/assets/colab-badge.svg\" alt=\"Open In Colab\"/></a>"
      ]
    },
    {
      "cell_type": "markdown",
      "metadata": {
        "id": "BXYbD15wyhOw"
      },
      "source": [
        "# Univariate Wiener Path Construction"
      ]
    },
    {
      "cell_type": "code",
      "metadata": {
        "id": "VEGXSJ712qsM"
      },
      "source": [
        "import time\n",
        "import math\n",
        "import numpy as np\n",
        "import torch"
      ],
      "execution_count": 4,
      "outputs": []
    },
    {
      "cell_type": "code",
      "metadata": {
        "id": "P0Ya8rFbynYx"
      },
      "source": [
        "class UnivariateBrownianBridge():\n",
        "  def __init__(self, number_time_steps):\n",
        "    self.number_time_steps = number_time_steps\n",
        "    number = 3\n",
        "\n",
        "    self.left_index = torch.zeros(number_time_steps, dtype=int)\n",
        "    self.right_index = torch.zeros(number_time_steps, dtype=int)\n",
        "    self.bridge_index = torch.zeros(number_time_steps, dtype=int)\n",
        "    self.left_weight = torch.zeros(number_time_steps)\n",
        "    self.right_weight = torch.zeros(number_time_steps)\n",
        "    self.std_dev = torch.zeros(number_time_steps)\n",
        "\n",
        "    self._map = torch.zeros(number_time_steps, dtype=int)\n",
        "\n",
        "    self._map[-1] = 1\n",
        "    self.bridge_index[0] = number_time_steps - 1\n",
        "    self.std_dev[0] = torch.sqrt(torch.tensor(1.0) * number_time_steps)\n",
        "    self.left_weight[0] = 0\n",
        "    self.right_weight[0] = 0\n",
        "\n",
        "    j=0\n",
        "    for i in range(1,number_time_steps):\n",
        "      while self._map[j] == True:\n",
        "        j = j + 1\n",
        "      k = j\n",
        "      while self._map[k] == False:\n",
        "        k = k + 1\n",
        "      l = j+((k-1-j)>>1)\n",
        "      self._map[l]=i\n",
        "      self.bridge_index[i]=l\n",
        "      self.left_index[i]=j\n",
        "      self.right_index[i]=k\n",
        "      self.left_weight[i]=(k-l)/(k+1-j)\n",
        "      self.right_weight[i]=(1+l-j)/(k+1-j)\n",
        "      self.std_dev[i]=np.sqrt(((1+l-j)*(k-l))/(k+1-j))\n",
        "      j=k+1\n",
        "      if j>=number_time_steps:\n",
        "        j=0\n",
        "        \n",
        "  @torch.jit.script\n",
        "  def buildPath(path, z, number: int, number_time_steps: int, left_index, right_index, bridge_index, left_weight, right_weight, std_dev):\n",
        "    path[-1] = std_dev[0]*z[0]\n",
        "    j = 0\n",
        "    k = 0\n",
        "    l = 0\n",
        "    i = 0\n",
        "    for i in range(1,number_time_steps):\n",
        "      j = left_index[i]\n",
        "      k = right_index[i]\n",
        "      l = bridge_index[i]\n",
        "      lw = left_weight[i]\n",
        "      rw = right_weight[i]\n",
        "      sd = std_dev[i]\n",
        "      if j > 0:\n",
        "        path[l] = path[j-1] * lw + path[k] * rw + z[i] * sd\n",
        "      else:\n",
        "        path[l] = right_weight[i] * path[k] + std_dev[i] * z[i]"
      ],
      "execution_count": 5,
      "outputs": []
    },
    {
      "cell_type": "code",
      "metadata": {
        "id": "NdOhiFw2zO3I"
      },
      "source": [
        "brownian = UnivariateBrownianBridge(8)"
      ],
      "execution_count": 6,
      "outputs": []
    },
    {
      "cell_type": "code",
      "metadata": {
        "colab": {
          "base_uri": "https://localhost:8080/"
        },
        "id": "9ef2Jrhj6kNZ",
        "outputId": "fd45b156-cf60-4784-e421-ce87113ecd38"
      },
      "source": [
        "print(UnivariateBrownianBridge.buildPath.code)"
      ],
      "execution_count": 7,
      "outputs": [
        {
          "output_type": "stream",
          "text": [
            "def buildPath(path: Tensor,\n",
            "    z: Tensor,\n",
            "    number: int,\n",
            "    number_time_steps: int,\n",
            "    left_index: Tensor,\n",
            "    right_index: Tensor,\n",
            "    bridge_index: Tensor,\n",
            "    left_weight: Tensor,\n",
            "    right_weight: Tensor,\n",
            "    std_dev: Tensor) -> None:\n",
            "  _0 = torch.mul(torch.select(std_dev, 0, 0), torch.select(z, 0, 0))\n",
            "  _1 = torch.copy_(torch.select(path, 0, -1), _0, False)\n",
            "  _2 = torch.__range_length(1, number_time_steps, 1)\n",
            "  for _3 in range(_2):\n",
            "    i = torch.__derive_index(_3, 1, 1)\n",
            "    j = torch.select(left_index, 0, i)\n",
            "    _4 = annotate(int, j)\n",
            "    k = torch.select(right_index, 0, i)\n",
            "    _5 = annotate(int, k)\n",
            "    l = torch.select(bridge_index, 0, i)\n",
            "    _6 = annotate(int, l)\n",
            "    lw = torch.select(left_weight, 0, i)\n",
            "    rw = torch.select(right_weight, 0, i)\n",
            "    sd = torch.select(std_dev, 0, i)\n",
            "    if torch.gt(_4, 0):\n",
            "      _7 = torch.select(path, 0, torch.sub(_4, 1))\n",
            "      _8 = torch.mul(_7, lw)\n",
            "      _9 = torch.mul(torch.select(path, 0, _5), rw)\n",
            "      _10 = torch.add(_8, _9, alpha=1)\n",
            "      _11 = torch.mul(torch.select(z, 0, i), sd)\n",
            "      _12 = torch.add(_10, _11, alpha=1)\n",
            "      _13 = torch.copy_(torch.select(path, 0, _6), _12, False)\n",
            "    else:\n",
            "      _14 = torch.mul(torch.select(right_weight, 0, i), torch.select(path, 0, _5))\n",
            "      _15 = torch.mul(torch.select(std_dev, 0, i), torch.select(z, 0, i))\n",
            "      _16 = torch.add(_14, _15, alpha=1)\n",
            "      _17 = torch.copy_(torch.select(path, 0, _6), _16, False)\n",
            "  return None\n",
            "\n"
          ],
          "name": "stdout"
        }
      ]
    },
    {
      "cell_type": "code",
      "metadata": {
        "id": "EOzO0mNQzR_c"
      },
      "source": [
        "path = torch.zeros(size=(8,2))\n",
        "\n",
        "x = torch.randn(8,2)\n",
        "\n",
        "UnivariateBrownianBridge.buildPath(path, x, 2, 8, brownian.left_index, brownian.right_index, brownian.bridge_index, brownian.left_weight, brownian.right_weight, brownian.std_dev)"
      ],
      "execution_count": 8,
      "outputs": []
    },
    {
      "cell_type": "code",
      "metadata": {
        "colab": {
          "base_uri": "https://localhost:8080/"
        },
        "id": "hCWUrgMz1uGG",
        "outputId": "ae0705ff-5710-4edc-9647-8dff41ab668b"
      },
      "source": [
        "#@title Pricing time a CPU. Note TensorFlow does automatic multithreading.\n",
        "numberTimeSteps =  128#@param {type:\"integer\"}\n",
        "numberSimulation =  200000#@param {type:\"integer\"}\n",
        "\n",
        "\n",
        "# First run (includes graph optimization time)\n",
        "time_start = time.time()\n",
        "path = torch.zeros(size=(numberTimeSteps,numberSimulation))\n",
        "\n",
        "brownian = UnivariateBrownianBridge(numberTimeSteps)\n",
        "\n",
        "sobol_engine =  torch.quasirandom.SobolEngine(numberTimeSteps)\n",
        "\n",
        "x = sobol_engine.draw(numberSimulation)\n",
        "y = torch.transpose(torch.erf(x),0,1)\n",
        "UnivariateBrownianBridge.buildPath(path, y, numberSimulation, numberTimeSteps, brownian.left_index, brownian.right_index, brownian.bridge_index, brownian.left_weight, brownian.right_weight, brownian.std_dev)\n",
        "time_end = time.time()\n",
        "time_price_cpu = time_end - time_start\n",
        "print(\"First time on a CPU: \", time_price_cpu)"
      ],
      "execution_count": 13,
      "outputs": [
        {
          "output_type": "stream",
          "text": [
            "First time on a CPU:  0.6133313179016113\n"
          ],
          "name": "stdout"
        }
      ]
    },
    {
      "cell_type": "code",
      "metadata": {
        "id": "gYemW02f58Bv"
      },
      "source": [
        "import torch\n",
        "import torchvision.models as models\n",
        "import torch.autograd.profiler as profiler"
      ],
      "execution_count": null,
      "outputs": []
    },
    {
      "cell_type": "code",
      "metadata": {
        "id": "EHHTUw3k5rew"
      },
      "source": [
        "numberTimeSteps =  128#@param {type:\"integer\"}\n",
        "numberSimulation =  200000#@param {type:\"integer\"}\n",
        "\n",
        "path = torch.zeros(size=(numberTimeSteps,numberSimulation), dtype=float)\n",
        "\n",
        "with profiler.profile(record_shapes=True) as prof:\n",
        "    with profiler.record_function(\"univariate_bridge\"):\n",
        "        x = sobol_engine.draw(number)\n",
        "        y = torch.transpose(torch.erf(x),0,1)\n",
        "        BrownianBridge.buildPath(path, y, numberSimulation, numberTimeSteps, brownian.left_index, brownian.right_index, brownian.bridge_index, brownian.left_weight, brownian.right_weight, brownian.std_dev)\n"
      ],
      "execution_count": null,
      "outputs": []
    },
    {
      "cell_type": "code",
      "metadata": {
        "colab": {
          "base_uri": "https://localhost:8080/"
        },
        "id": "pQERjkMV5_4X",
        "outputId": "c7f5ebbe-60ae-4e12-f046-e18c8e19accd"
      },
      "source": [
        "print(prof.key_averages().table(sort_by=\"cpu_time_total\", row_limit=10))"
      ],
      "execution_count": null,
      "outputs": [
        {
          "output_type": "stream",
          "text": [
            "-----------------------------  ------------  ------------  ------------  ------------  ------------  ------------  \n",
            "                         Name    Self CPU %      Self CPU   CPU total %     CPU total  CPU time avg    # of Calls  \n",
            "-----------------------------  ------------  ------------  ------------  ------------  ------------  ------------  \n",
            "            univariate_bridge         0.18%       1.129ms        99.99%     628.919ms     628.919ms             1  \n",
            "                    buildPath         7.65%      48.122ms        86.16%     541.890ms     541.890ms             1  \n",
            "                    aten::mul        55.42%     348.556ms        55.97%     352.013ms     938.701us           375  \n",
            "                    aten::add        11.89%      74.784ms        16.39%     103.069ms     417.285us           247  \n",
            "                    aten::erf         5.61%      35.273ms        11.21%      70.532ms      35.266ms             2  \n",
            "                  aten::copy_         8.91%      56.043ms         8.91%      56.043ms     111.197us           504  \n",
            "     aten::_sobol_engine_draw         6.60%      41.535ms         8.04%      50.589ms      50.589ms             1  \n",
            "                     aten::to         0.33%       2.096ms         4.87%      30.605ms      81.613us           375  \n",
            "                   aten::mul_         1.43%       8.975ms         1.43%       9.005ms       9.005ms             1  \n",
            "                 aten::select         1.12%       7.033ms         1.32%       8.291ms       6.478us          1280  \n",
            "-----------------------------  ------------  ------------  ------------  ------------  ------------  ------------  \n",
            "Self CPU time total: 628.957ms\n",
            "\n"
          ],
          "name": "stdout"
        }
      ]
    },
    {
      "cell_type": "markdown",
      "metadata": {
        "id": "mBvE25wE4Qjl"
      },
      "source": [
        "# MultivariateBrownian"
      ]
    },
    {
      "cell_type": "code",
      "metadata": {
        "id": "gkvIyRY-48mI"
      },
      "source": [
        "numberSimulation = 3\n",
        "numberTimeSteps = 2\n",
        "numberStates = 2\n",
        "dim = numberTimeSteps * numberStates"
      ],
      "execution_count": null,
      "outputs": []
    },
    {
      "cell_type": "code",
      "metadata": {
        "id": "k1T0isK04TZd"
      },
      "source": [
        "sobol_engine =  torch.quasirandom.SobolEngine(dim)\n",
        "x = sobol_engine.draw(numberSimulation)\n",
        "x = torch.transpose(x,0,1)"
      ],
      "execution_count": null,
      "outputs": []
    },
    {
      "cell_type": "code",
      "metadata": {
        "id": "A3beBRV54v7Z"
      },
      "source": [
        "y = torch.reshape(x,shape=(numberTimeSteps,numberStates,numberSimulation))"
      ],
      "execution_count": null,
      "outputs": []
    },
    {
      "cell_type": "code",
      "metadata": {
        "id": "A-UTyCXT45PQ"
      },
      "source": [
        "m = torch.zeros(size=(numberStates,numberStates))\n",
        "m[0,0] = 1\n",
        "m[1,0] = 1\n",
        "m[1,1] = 0"
      ],
      "execution_count": null,
      "outputs": []
    },
    {
      "cell_type": "code",
      "metadata": {
        "id": "qDYIHbKT45hQ"
      },
      "source": [
        "w = torch.matmul(m,y[0,:,:])"
      ],
      "execution_count": null,
      "outputs": []
    },
    {
      "cell_type": "code",
      "metadata": {
        "colab": {
          "base_uri": "https://localhost:8080/"
        },
        "id": "9nhZHfay5Q84",
        "outputId": "c3d549b2-56f7-4d9d-c103-d967370976f9"
      },
      "source": [
        "w"
      ],
      "execution_count": null,
      "outputs": [
        {
          "output_type": "execute_result",
          "data": {
            "text/plain": [
              "tensor([[0.5000, 0.7500, 0.2500],\n",
              "        [0.5000, 0.7500, 0.2500]])"
            ]
          },
          "metadata": {
            "tags": []
          },
          "execution_count": 122
        }
      ]
    },
    {
      "cell_type": "code",
      "metadata": {
        "id": "XfwkrAz_5Rco"
      },
      "source": [
        "class MultivariateBrownianBridge():\n",
        "  def __init__(self, forward_covariance_matrices):\n",
        "    self.number_time_steps = len(forward_covariance_matrices)"
      ],
      "execution_count": null,
      "outputs": []
    }
  ]
}