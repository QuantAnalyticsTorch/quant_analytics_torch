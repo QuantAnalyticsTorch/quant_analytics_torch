{
  "nbformat": 4,
  "nbformat_minor": 0,
  "metadata": {
    "colab": {
      "name": "MultivariateWienerPath.ipynb",
      "provenance": [],
      "collapsed_sections": [],
      "authorship_tag": "ABX9TyOZ5AYQuCDIRq0ndqvewA8P",
      "include_colab_link": true
    },
    "kernelspec": {
      "name": "python3",
      "display_name": "Python 3"
    },
    "accelerator": "GPU"
  },
  "cells": [
    {
      "cell_type": "markdown",
      "metadata": {
        "id": "view-in-github",
        "colab_type": "text"
      },
      "source": [
        "<a href=\"https://colab.research.google.com/github/QuantAnalyticsTorch/quant_analytics_torch/blob/main/examples/MultivariateWienerPath.ipynb\" target=\"_parent\"><img src=\"https://colab.research.google.com/assets/colab-badge.svg\" alt=\"Open In Colab\"/></a>"
      ]
    },
    {
      "cell_type": "markdown",
      "metadata": {
        "id": "BXYbD15wyhOw"
      },
      "source": [
        "# Univariate Wiener Path Construction"
      ]
    },
    {
      "cell_type": "code",
      "metadata": {
        "id": "VEGXSJ712qsM"
      },
      "source": [
        "import torch\n",
        "import time\n",
        "\n",
        "import math\n",
        "import numpy as np"
      ],
      "execution_count": 219,
      "outputs": []
    },
    {
      "cell_type": "code",
      "execution_count": 220,
      "metadata": {},
      "outputs": [],
      "source": [
        "SQRT_2 = np.sqrt(2)"
      ]
    },
    {
      "cell_type": "code",
      "metadata": {
        "id": "P0Ya8rFbynYx"
      },
      "source": [
        "class UnivariateBrownianBridge():\n",
        "  def __init__(self, number_time_steps):\n",
        "    self.number_time_steps = number_time_steps\n",
        "\n",
        "    self.left_index = torch.zeros(number_time_steps, dtype=int)\n",
        "    self.right_index = torch.zeros(number_time_steps, dtype=int)\n",
        "    self.bridge_index = torch.zeros(number_time_steps, dtype=int)\n",
        "    self.left_weight = torch.zeros(number_time_steps)\n",
        "    self.right_weight = torch.zeros(number_time_steps)\n",
        "    self.std_dev = torch.zeros(number_time_steps)\n",
        "\n",
        "    self._map = torch.zeros(number_time_steps, dtype=int)\n",
        "\n",
        "    self._map[-1] = 1\n",
        "    self.bridge_index[0] = number_time_steps - 1\n",
        "    self.std_dev[0] = torch.sqrt(torch.tensor(1.0) * number_time_steps)\n",
        "    self.left_weight[0] = 0\n",
        "    self.right_weight[0] = 0\n",
        "\n",
        "    j=0\n",
        "    for i in range(1,number_time_steps):\n",
        "      while self._map[j] == True:\n",
        "        j = j + 1\n",
        "      k = j\n",
        "      while self._map[k] == False:\n",
        "        k = k + 1\n",
        "      l = j+((k-1-j)>>1)\n",
        "      self._map[l]=i\n",
        "      self.bridge_index[i]=l\n",
        "      self.left_index[i]=j\n",
        "      self.right_index[i]=k\n",
        "      self.left_weight[i]=(k-l)/(k+1-j)\n",
        "      self.right_weight[i]=(1+l-j)/(k+1-j)\n",
        "      self.std_dev[i]=np.sqrt(((1+l-j)*(k-l))/(k+1-j))\n",
        "      j=k+1\n",
        "      if j>=number_time_steps:\n",
        "        j=0\n",
        "        \n",
        "  @torch.jit.script\n",
        "  def buildPath(path, z, number_time_steps: int, left_index, right_index, bridge_index, left_weight, right_weight, std_dev):\n",
        "    path[-1] = std_dev[0]*z[0]\n",
        "    j = 0\n",
        "    k = 0\n",
        "    l = 0\n",
        "    i = 0\n",
        "    for i in range(1,number_time_steps):\n",
        "      j = left_index[i]\n",
        "      k = right_index[i]\n",
        "      l = bridge_index[i]\n",
        "      lw = left_weight[i]\n",
        "      rw = right_weight[i]\n",
        "      sd = std_dev[i]\n",
        "      if j > 0:\n",
        "        path[l] = path[j-1] * lw + path[k] * rw + z[i] * sd\n",
        "      else:\n",
        "        path[l] = right_weight[i] * path[k] + std_dev[i] * z[i]\n",
        "\n",
        "  @torch.jit.script\n",
        "  def buildPathIncrements(path, z, number_time_steps: int, left_index, right_index, bridge_index, left_weight, right_weight, std_dev):\n",
        "    path[-1] = std_dev[0]*z[0]\n",
        "    j = 0\n",
        "    k = 0\n",
        "    l = 0\n",
        "    i = 0\n",
        "    for i in range(1,number_time_steps):\n",
        "      j = left_index[i]\n",
        "      k = right_index[i]\n",
        "      l = bridge_index[i]\n",
        "      lw = left_weight[i]\n",
        "      rw = right_weight[i]\n",
        "      sd = std_dev[i]\n",
        "      if j > 0:\n",
        "        path[l] = path[j-1] * lw + path[k] * rw + z[i] * sd\n",
        "      else:\n",
        "        path[l] = right_weight[i] * path[k] + std_dev[i] * z[i]\n",
        "\n",
        "    for i in range(1, number_time_steps):\n",
        "      path[-i] = path[-i] - path[-(i+1)]\n",
        "    \n",
        "\n",
        "  def path(self, path, z):\n",
        "    return self.buildPath(path, z, self.number_time_steps, self.left_index, self.right_index, self.bridge_index, self.left_weight, self.right_weight, self.std_dev)\n",
        "\n",
        "  def pathIncrements(self, path, z):\n",
        "    return self.buildPathIncrements(path, z, self.number_time_steps, self.left_index, self.right_index, self.bridge_index, self.left_weight, self.right_weight, self.std_dev)    "
      ],
      "execution_count": 221,
      "outputs": []
    },
    {
      "cell_type": "code",
      "metadata": {
        "id": "NdOhiFw2zO3I"
      },
      "source": [
        "brownian = UnivariateBrownianBridge(8)"
      ],
      "execution_count": 222,
      "outputs": []
    },
    {
      "cell_type": "code",
      "metadata": {
        "colab": {
          "base_uri": "https://localhost:8080/"
        },
        "id": "9ef2Jrhj6kNZ",
        "outputId": "08e57cb7-a4b6-4f67-9401-81ccc5af7265"
      },
      "source": [
        "print(UnivariateBrownianBridge.buildPath.code)"
      ],
      "execution_count": 223,
      "outputs": [
        {
          "output_type": "stream",
          "name": "stdout",
          "text": [
            "def buildPath(path: Tensor,\n    z: Tensor,\n    number_time_steps: int,\n    left_index: Tensor,\n    right_index: Tensor,\n    bridge_index: Tensor,\n    left_weight: Tensor,\n    right_weight: Tensor,\n    std_dev: Tensor) -> None:\n  _0 = torch.mul(torch.select(std_dev, 0, 0), torch.select(z, 0, 0))\n  _1 = torch.copy_(torch.select(path, 0, -1), _0, False)\n  _2 = torch.__range_length(1, number_time_steps, 1)\n  for _3 in range(_2):\n    i = torch.__derive_index(_3, 1, 1)\n    j = torch.select(left_index, 0, i)\n    _4 = annotate(int, j)\n    k = torch.select(right_index, 0, i)\n    _5 = annotate(int, k)\n    l = torch.select(bridge_index, 0, i)\n    _6 = annotate(int, l)\n    lw = torch.select(left_weight, 0, i)\n    rw = torch.select(right_weight, 0, i)\n    sd = torch.select(std_dev, 0, i)\n    if torch.gt(_4, 0):\n      _7 = torch.select(path, 0, torch.sub(_4, 1))\n      _8 = torch.mul(_7, lw)\n      _9 = torch.mul(torch.select(path, 0, _5), rw)\n      _10 = torch.add(_8, _9, alpha=1)\n      _11 = torch.mul(torch.select(z, 0, i), sd)\n      _12 = torch.add(_10, _11, alpha=1)\n      _13 = torch.copy_(torch.select(path, 0, _6), _12, False)\n    else:\n      _14 = torch.mul(torch.select(right_weight, 0, i), torch.select(path, 0, _5))\n      _15 = torch.mul(torch.select(std_dev, 0, i), torch.select(z, 0, i))\n      _16 = torch.add(_14, _15, alpha=1)\n      _17 = torch.copy_(torch.select(path, 0, _6), _16, False)\n  return None\n\n"
          ]
        }
      ]
    },
    {
      "cell_type": "code",
      "metadata": {
        "id": "EOzO0mNQzR_c"
      },
      "source": [
        "sobol_engine =  torch.quasirandom.SobolEngine(8)\n",
        "\n",
        "x = sobol_engine.draw(2)\n",
        "\n",
        "print(x)\n",
        "\n",
        "y = torch.transpose(torch.erfinv(2.*(x-0.5))*SQRT_2,0,1)\n",
        "\n",
        "print(y)\n",
        "\n",
        "#x = torch.zeros(size=(8,2))\n",
        "#x[0] = 1\n",
        "\n",
        "path = torch.zeros(size=(8,2))\n",
        "\n",
        "#brownian.path(path, x)\n",
        "brownian.pathIncrements(path, y)\n",
        "\n",
        "path"
      ],
      "execution_count": 224,
      "outputs": [
        {
          "output_type": "stream",
          "name": "stdout",
          "text": [
            "tensor([[0.5000, 0.5000, 0.5000, 0.5000, 0.5000, 0.5000, 0.5000, 0.5000],\n        [0.7500, 0.2500, 0.7500, 0.2500, 0.7500, 0.2500, 0.7500, 0.2500]])\ntensor([[ 0.0000,  0.6745],\n        [ 0.0000, -0.6745],\n        [ 0.0000,  0.6745],\n        [ 0.0000, -0.6745],\n        [ 0.0000,  0.6745],\n        [ 0.0000, -0.6745],\n        [ 0.0000,  0.6745],\n        [ 0.0000, -0.6745]])\n"
          ]
        },
        {
          "output_type": "execute_result",
          "data": {
            "text/plain": [
              "tensor([[ 0.0000,  0.8142],\n",
              "        [ 0.0000, -0.1397],\n",
              "        [ 0.0000, -0.8142],\n",
              "        [ 0.0000,  0.1397],\n",
              "        [ 0.0000,  0.6166],\n",
              "        [ 0.0000, -0.3372],\n",
              "        [ 0.0000,  0.3372],\n",
              "        [ 0.0000,  1.2911]], grad_fn=<CopySlices>)"
            ]
          },
          "metadata": {},
          "execution_count": 224
        }
      ]
    },
    {
      "cell_type": "code",
      "metadata": {
        "colab": {
          "base_uri": "https://localhost:8080/"
        },
        "id": "hCWUrgMz1uGG",
        "outputId": "8dbdc3b4-5e71-4b4d-e4fb-c784c1888d76"
      },
      "source": [
        "#@title Pricing time a CPU. Note TensorFlow does automatic multithreading.\n",
        "numberTimeSteps =  128#@param {type:\"integer\"}\n",
        "numberSimulation =  200000#@param {type:\"integer\"}\n",
        "\n",
        "\n",
        "# First run (includes graph optimization time)\n",
        "time_start = time.time()\n",
        "path = torch.zeros(size=(numberTimeSteps,numberSimulation))\n",
        "\n",
        "brownian = UnivariateBrownianBridge(numberTimeSteps)\n",
        "\n",
        "sobol_engine =  torch.quasirandom.SobolEngine(numberTimeSteps)\n",
        "\n",
        "x = sobol_engine.draw(numberSimulation)\n",
        "y = torch.transpose(torch.erfinv(2.*(x-0.5))*SQRT_2,0,1)\n",
        "brownian.pathIncrements(path, y)\n",
        "time_end = time.time()\n",
        "time_price_cpu = time_end - time_start\n",
        "print(\"First time on a CPU: \", time_price_cpu)"
      ],
      "execution_count": 225,
      "outputs": [
        {
          "output_type": "stream",
          "name": "stdout",
          "text": [
            "First time on a CPU:  0.3289988040924072\n"
          ]
        }
      ]
    },
    {
      "cell_type": "code",
      "metadata": {
        "id": "gYemW02f58Bv"
      },
      "source": [
        "import torch\n",
        "import torchvision.models as models\n",
        "import torch.autograd.profiler as profiler"
      ],
      "execution_count": 226,
      "outputs": []
    },
    {
      "cell_type": "code",
      "metadata": {
        "id": "EHHTUw3k5rew"
      },
      "source": [
        "numberTimeSteps =  128#@param {type:\"integer\"}\n",
        "numberSimulation =  200000#@param {type:\"integer\"}\n",
        "\n",
        "brownian = UnivariateBrownianBridge(numberTimeSteps)\n",
        "\n",
        "path = torch.zeros(size=(numberTimeSteps,numberSimulation))\n",
        "\n",
        "with profiler.profile(record_shapes=True) as prof:\n",
        "    with profiler.record_function(\"univariate_bridge\"):\n",
        "        x = sobol_engine.draw(numberSimulation)\n",
        "        y = torch.transpose(torch.erfinv(2.*(x-0.5))*SQRT_2,0,1)\n",
        "        brownian.pathIncrements(path, y)\n"
      ],
      "execution_count": 229,
      "outputs": []
    },
    {
      "cell_type": "code",
      "metadata": {
        "colab": {
          "base_uri": "https://localhost:8080/"
        },
        "id": "pQERjkMV5_4X",
        "outputId": "c7f5ebbe-60ae-4e12-f046-e18c8e19accd"
      },
      "source": [
        "print(prof.key_averages().table(sort_by=\"cpu_time_total\", row_limit=10))"
      ],
      "execution_count": 230,
      "outputs": [
        {
          "output_type": "stream",
          "name": "stdout",
          "text": [
            "------------------------------------  ---------------  ---------------  ---------------  ---------------  ---------------  ---------------  \nName                                  Self CPU total %  Self CPU total   CPU total %      CPU total        CPU time avg     Number of Calls  \n------------------------------------  ---------------  ---------------  ---------------  ---------------  ---------------  ---------------  \nunivariate_bridge                     19.70%           62.154ms         100.00%          315.473ms        315.473ms        1                \nmul                                   38.78%           122.347ms        38.78%           122.347ms        324.529us        377              \nFusionGroup                           0.69%            2.183ms          33.03%           104.195ms        820.433us        127              \n_sobol_engine_draw                    22.38%           70.592ms         24.46%           77.155ms         77.155ms         1                \nsub                                   6.84%            21.575ms         6.84%            21.575ms         168.555us        128              \nerfinv                                5.20%            16.418ms         5.20%            16.418ms         16.418ms         1                \nadd                                   2.12%            6.699ms          2.12%            6.699ms          27.120us         247              \nmul_                                  1.97%            6.223ms          1.97%            6.223ms          6.223ms          1                \nselect                                1.52%            4.780ms          1.52%            4.780ms          2.878us          1661             \nsize                                  0.31%            986.800us        0.31%            986.800us        0.437us          2258             \n------------------------------------  ---------------  ---------------  ---------------  ---------------  ---------------  ---------------  \nSelf CPU time total: 315.477ms\n\n"
          ]
        }
      ]
    },
    {
      "cell_type": "markdown",
      "metadata": {
        "id": "mBvE25wE4Qjl"
      },
      "source": [
        "# MultivariateBrownian"
      ]
    },
    {
      "cell_type": "code",
      "metadata": {
        "id": "gkvIyRY-48mI"
      },
      "source": [
        "numberSimulation = 1\n",
        "numberTimeSteps = 3\n",
        "numberStates = 2\n",
        "dim = numberTimeSteps * numberStates"
      ],
      "execution_count": 285,
      "outputs": []
    },
    {
      "cell_type": "code",
      "metadata": {
        "id": "k1T0isK04TZd"
      },
      "source": [
        "sobol_engine =  torch.quasirandom.SobolEngine(dim)\n",
        "x = sobol_engine.draw(numberSimulation)\n",
        "x = torch.transpose(x,0,1)"
      ],
      "execution_count": 286,
      "outputs": []
    },
    {
      "cell_type": "code",
      "metadata": {
        "id": "A3beBRV54v7Z"
      },
      "source": [
        "y = torch.reshape(x,shape=(numberTimeSteps,numberStates,numberSimulation))"
      ],
      "execution_count": 287,
      "outputs": []
    },
    {
      "cell_type": "code",
      "metadata": {
        "id": "A-UTyCXT45PQ"
      },
      "source": [
        "m = torch.zeros(size=(numberStates,numberStates))\n",
        "m[0,0] = 1\n",
        "m[1,0] = 1\n",
        "m[1,1] = 0"
      ],
      "execution_count": 288,
      "outputs": []
    },
    {
      "cell_type": "code",
      "metadata": {
        "id": "qDYIHbKT45hQ"
      },
      "source": [
        "w = torch.matmul(m,y[0,:,:])"
      ],
      "execution_count": 289,
      "outputs": []
    },
    {
      "cell_type": "code",
      "metadata": {
        "colab": {
          "base_uri": "https://localhost:8080/"
        },
        "id": "9nhZHfay5Q84",
        "outputId": "c3d549b2-56f7-4d9d-c103-d967370976f9"
      },
      "source": [
        "w"
      ],
      "execution_count": 290,
      "outputs": [
        {
          "output_type": "execute_result",
          "data": {
            "text/plain": [
              "tensor([[0.5000],\n",
              "        [0.5000]])"
            ]
          },
          "metadata": {},
          "execution_count": 290
        }
      ]
    },
    {
      "cell_type": "code",
      "execution_count": 291,
      "metadata": {},
      "outputs": [],
      "source": [
        "def square_root_symmetric_matrix(A):\n",
        "    w, v = torch.symeig(A, eigenvectors=True)\n",
        "    return torch.mm(torch.mm(v, torch.diag(torch.sqrt(w[:]))), v.t())\n"
      ]
    },
    {
      "cell_type": "code",
      "metadata": {
        "id": "XfwkrAz_5Rco"
      },
      "source": [
        "class MultivariateBrownianBridge():\n",
        "    def __init__(self, forwardCovarianceMatrices):\n",
        "        self.forwardCovarianceMatrices = forwardCovarianceMatrices\n",
        "        self.numberTimeSteps = len(forwardCovarianceMatrices)\n",
        "        self.numberStates = len(forwardCovarianceMatrices[0])\n",
        "        self.brownian = UnivariateBrownianBridge(numberTimeSteps)\n",
        "        self.sqrtForwardCovarianceMatrices = torch.zeros(size=(self.numberTimeSteps, self.numberStates, self.numberStates))\n",
        "        for i in range(self.numberTimeSteps):\n",
        "            self.sqrtForwardCovarianceMatrices[i] = square_root_symmetric_matrix(self.forwardCovarianceMatrices[i])\n",
        "\n",
        "    def pathIncrements(self, path, z):\n",
        "        self.brownian.pathIncrements(path, z)\n",
        "        for i in range(numberTimeSteps):\n",
        "            path[i] = torch.matmul(self.sqrtForwardCovarianceMatrices[i], path[i])"
      ],
      "execution_count": 292,
      "outputs": []
    },
    {
      "cell_type": "code",
      "execution_count": 293,
      "metadata": {},
      "outputs": [],
      "source": [
        "path = torch.zeros(size=(numberTimeSteps, numberStates, numberSimulation))"
      ]
    },
    {
      "cell_type": "code",
      "execution_count": 294,
      "metadata": {},
      "outputs": [],
      "source": [
        "fwd_cov = torch.ones(size=(numberTimeSteps, numberStates, numberStates))"
      ]
    },
    {
      "cell_type": "code",
      "execution_count": 295,
      "metadata": {},
      "outputs": [],
      "source": [
        "multivariate_brownian = MultivariateBrownianBridge(fwd_cov)"
      ]
    },
    {
      "cell_type": "code",
      "execution_count": 296,
      "metadata": {},
      "outputs": [],
      "source": [
        "multivariate_brownian.pathIncrements(path, y)"
      ]
    },
    {
      "cell_type": "code",
      "execution_count": 297,
      "metadata": {},
      "outputs": [
        {
          "output_type": "execute_result",
          "data": {
            "text/plain": [
              "tensor([[[ 0.9856],\n",
              "         [ 0.9856]],\n",
              "\n",
              "        [[ 0.6196],\n",
              "         [ 0.6196]],\n",
              "\n",
              "        [[-0.3804],\n",
              "         [-0.3804]]], grad_fn=<CopySlices>)"
            ]
          },
          "metadata": {},
          "execution_count": 297
        }
      ],
      "source": [
        "path"
      ]
    },
    {
      "cell_type": "code",
      "execution_count": 318,
      "metadata": {},
      "outputs": [],
      "source": [
        "numberTimeSteps = 1\n",
        "numberStates = 16\n",
        "dim = numberTimeSteps * numberStates\n",
        "numberSimulation =  200000#@param {type:\"integer\"}\n",
        "\n",
        "fwd_cov = torch.ones(size=(numberTimeSteps, numberStates, numberStates))\n",
        "\n",
        "multivariate_brownian = MultivariateBrownianBridge(fwd_cov)\n",
        "\n",
        "path = torch.zeros(size=(numberTimeSteps, numberStates, numberSimulation))\n",
        "\n",
        "with profiler.profile(record_shapes=True) as prof:\n",
        "    with profiler.record_function(\"univariate_bridge\"):\n",
        "        sobol_engine =  torch.quasirandom.SobolEngine(dim)\n",
        "        x = sobol_engine.draw(numberSimulation)\n",
        "        x = torch.transpose(x,0,1)\n",
        "        y = torch.reshape(x,shape=(numberTimeSteps,numberStates,numberSimulation))\n",
        "        z = torch.erfinv(2.*(y-0.5))*SQRT_2\n",
        "        multivariate_brownian.pathIncrements(path, z)"
      ]
    },
    {
      "cell_type": "code",
      "execution_count": 319,
      "metadata": {},
      "outputs": [
        {
          "output_type": "stream",
          "name": "stdout",
          "text": [
            "------------------------------------  ---------------  ---------------  ---------------  ---------------  ---------------  ---------------  \nName                                  Self CPU total %  Self CPU total   CPU total %      CPU total        CPU time avg     Number of Calls  \n------------------------------------  ---------------  ---------------  ---------------  ---------------  ---------------  ---------------  \nunivariate_bridge                     43.22%           27.021ms         99.99%           62.513ms         62.513ms         1                \nerfinv                                27.59%           17.248ms         27.59%           17.248ms         17.248ms         1                \n_sobol_engine_draw                    12.19%           7.618ms          13.58%           8.490ms          8.490ms          1                \nmul                                   7.51%            4.695ms          7.51%            4.695ms          1.565ms          3                \nmatmul                                0.01%            4.100us          4.98%            3.111ms          3.111ms          1                \nmm                                    4.97%            3.106ms          4.97%            3.106ms          3.106ms          1                \nsub                                   2.86%            1.787ms          2.86%            1.787ms          1.787ms          1                \nmul_                                  1.28%            800.800us        1.28%            800.800us        400.400us        2                \n_sobol_engine_initialize_state_       0.04%            25.400us         0.13%            83.900us         83.900us         1                \nempty                                 0.12%            76.100us         0.12%            76.100us         38.050us         2                \n------------------------------------  ---------------  ---------------  ---------------  ---------------  ---------------  ---------------  \nSelf CPU time total: 62.518ms\n\n"
          ]
        }
      ],
      "source": [
        "print(prof.key_averages().table(sort_by=\"cpu_time_total\", row_limit=10))"
      ]
    },
    {
      "cell_type": "code",
      "execution_count": null,
      "metadata": {},
      "outputs": [],
      "source": []
    }
  ]
}