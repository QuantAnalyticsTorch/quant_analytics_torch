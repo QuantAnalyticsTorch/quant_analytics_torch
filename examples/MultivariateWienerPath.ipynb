{
  "nbformat": 4,
  "nbformat_minor": 0,
  "metadata": {
    "colab": {
      "name": "MultivariateWienerPath.ipynb",
      "provenance": [],
      "collapsed_sections": [],
      "authorship_tag": "ABX9TyOZ5AYQuCDIRq0ndqvewA8P",
      "include_colab_link": true
    },
    "kernelspec": {
      "name": "python3",
      "display_name": "Python 3"
    },
    "accelerator": "GPU"
  },
  "cells": [
    {
      "cell_type": "markdown",
      "metadata": {
        "id": "view-in-github",
        "colab_type": "text"
      },
      "source": [
        "<a href=\"https://colab.research.google.com/github/QuantAnalyticsTorch/quant_analytics_torch/blob/main/examples/MultivariateWienerPath.ipynb\" target=\"_parent\"><img src=\"https://colab.research.google.com/assets/colab-badge.svg\" alt=\"Open In Colab\"/></a>"
      ]
    },
    {
      "cell_type": "markdown",
      "metadata": {
        "id": "BXYbD15wyhOw"
      },
      "source": [
        "# Univariate Wiener Path Construction"
      ]
    },
    {
      "cell_type": "code",
      "metadata": {
        "id": "VEGXSJ712qsM"
      },
      "source": [
        "import torch\n",
        "import time\n",
        "\n",
        "import math\n",
        "import numpy as np"
      ],
      "execution_count": 26,
      "outputs": []
    },
    {
      "cell_type": "code",
      "metadata": {
        "id": "P0Ya8rFbynYx"
      },
      "source": [
        "class UnivariateBrownianBridge():\n",
        "  def __init__(self, number_time_steps):\n",
        "    self.number_time_steps = number_time_steps\n",
        "    number = 3\n",
        "\n",
        "    self.left_index = torch.zeros(number_time_steps, dtype=int)\n",
        "    self.right_index = torch.zeros(number_time_steps, dtype=int)\n",
        "    self.bridge_index = torch.zeros(number_time_steps, dtype=int)\n",
        "    self.left_weight = torch.zeros(number_time_steps)\n",
        "    self.right_weight = torch.zeros(number_time_steps)\n",
        "    self.std_dev = torch.zeros(number_time_steps)\n",
        "\n",
        "    self._map = torch.zeros(number_time_steps, dtype=int)\n",
        "\n",
        "    self._map[-1] = 1\n",
        "    self.bridge_index[0] = number_time_steps - 1\n",
        "    self.std_dev[0] = torch.sqrt(torch.tensor(1.0) * number_time_steps)\n",
        "    self.left_weight[0] = 0\n",
        "    self.right_weight[0] = 0\n",
        "\n",
        "    j=0\n",
        "    for i in range(1,number_time_steps):\n",
        "      while self._map[j] == True:\n",
        "        j = j + 1\n",
        "      k = j\n",
        "      while self._map[k] == False:\n",
        "        k = k + 1\n",
        "      l = j+((k-1-j)>>1)\n",
        "      self._map[l]=i\n",
        "      self.bridge_index[i]=l\n",
        "      self.left_index[i]=j\n",
        "      self.right_index[i]=k\n",
        "      self.left_weight[i]=(k-l)/(k+1-j)\n",
        "      self.right_weight[i]=(1+l-j)/(k+1-j)\n",
        "      self.std_dev[i]=np.sqrt(((1+l-j)*(k-l))/(k+1-j))\n",
        "      j=k+1\n",
        "      if j>=number_time_steps:\n",
        "        j=0\n",
        "        \n",
        "  @torch.jit.script\n",
        "  def buildPath(path, z, number_time_steps: int, left_index, right_index, bridge_index, left_weight, right_weight, std_dev):\n",
        "    path[-1] = std_dev[0]*z[0]\n",
        "    j = 0\n",
        "    k = 0\n",
        "    l = 0\n",
        "    i = 0\n",
        "    for i in range(1,number_time_steps):\n",
        "      j = left_index[i]\n",
        "      k = right_index[i]\n",
        "      l = bridge_index[i]\n",
        "      lw = left_weight[i]\n",
        "      rw = right_weight[i]\n",
        "      sd = std_dev[i]\n",
        "      if j > 0:\n",
        "        path[l] = path[j-1] * lw + path[k] * rw + z[i] * sd\n",
        "      else:\n",
        "        path[l] = right_weight[i] * path[k] + std_dev[i] * z[i]\n",
        "\n",
        "  def path(self, path, z):\n",
        "    return self.buildPath(path, z, self.number_time_steps, self.left_index, self.right_index, self.bridge_index, self.left_weight, self.right_weight, self.std_dev)"
      ],
      "execution_count": 42,
      "outputs": []
    },
    {
      "cell_type": "code",
      "metadata": {
        "id": "NdOhiFw2zO3I"
      },
      "source": [
        "brownian = UnivariateBrownianBridge(8)"
      ],
      "execution_count": 43,
      "outputs": []
    },
    {
      "cell_type": "code",
      "metadata": {
        "colab": {
          "base_uri": "https://localhost:8080/"
        },
        "id": "9ef2Jrhj6kNZ",
        "outputId": "08e57cb7-a4b6-4f67-9401-81ccc5af7265"
      },
      "source": [
        "print(UnivariateBrownianBridge.buildPath.code)"
      ],
      "execution_count": 44,
      "outputs": [
        {
          "output_type": "stream",
          "name": "stdout",
          "text": [
            "def buildPath(path: Tensor,\n    z: Tensor,\n    number_time_steps: int,\n    left_index: Tensor,\n    right_index: Tensor,\n    bridge_index: Tensor,\n    left_weight: Tensor,\n    right_weight: Tensor,\n    std_dev: Tensor) -> None:\n  _0 = torch.mul(torch.select(std_dev, 0, 0), torch.select(z, 0, 0))\n  _1 = torch.copy_(torch.select(path, 0, -1), _0, False)\n  _2 = torch.__range_length(1, number_time_steps, 1)\n  for _3 in range(_2):\n    i = torch.__derive_index(_3, 1, 1)\n    j = torch.select(left_index, 0, i)\n    _4 = annotate(int, j)\n    k = torch.select(right_index, 0, i)\n    _5 = annotate(int, k)\n    l = torch.select(bridge_index, 0, i)\n    _6 = annotate(int, l)\n    lw = torch.select(left_weight, 0, i)\n    rw = torch.select(right_weight, 0, i)\n    sd = torch.select(std_dev, 0, i)\n    if torch.gt(_4, 0):\n      _7 = torch.select(path, 0, torch.sub(_4, 1))\n      _8 = torch.mul(_7, lw)\n      _9 = torch.mul(torch.select(path, 0, _5), rw)\n      _10 = torch.add(_8, _9, alpha=1)\n      _11 = torch.mul(torch.select(z, 0, i), sd)\n      _12 = torch.add(_10, _11, alpha=1)\n      _13 = torch.copy_(torch.select(path, 0, _6), _12, False)\n    else:\n      _14 = torch.mul(torch.select(right_weight, 0, i), torch.select(path, 0, _5))\n      _15 = torch.mul(torch.select(std_dev, 0, i), torch.select(z, 0, i))\n      _16 = torch.add(_14, _15, alpha=1)\n      _17 = torch.copy_(torch.select(path, 0, _6), _16, False)\n  return None\n\n"
          ]
        }
      ]
    },
    {
      "cell_type": "code",
      "metadata": {
        "id": "EOzO0mNQzR_c"
      },
      "source": [
        "path = torch.zeros(size=(8,2))\n",
        "\n",
        "x = torch.randn(8,2)\n",
        "\n",
        "brownian.path(path, x)\n",
        "\n",
        "path"
      ],
      "execution_count": 48,
      "outputs": [
        {
          "output_type": "execute_result",
          "data": {
            "text/plain": [
              "tensor([[-1.3295, -1.3666],\n",
              "        [-0.6347, -1.2585],\n",
              "        [-1.7600, -1.6861],\n",
              "        [-0.7353, -3.0985],\n",
              "        [-0.5455, -6.2424],\n",
              "        [ 1.5392, -6.4859],\n",
              "        [-0.3688, -5.2700],\n",
              "        [ 1.0212, -6.2833]], grad_fn=<CopySlices>)"
            ]
          },
          "metadata": {},
          "execution_count": 48
        }
      ]
    },
    {
      "cell_type": "code",
      "metadata": {
        "colab": {
          "base_uri": "https://localhost:8080/"
        },
        "id": "hCWUrgMz1uGG",
        "outputId": "8dbdc3b4-5e71-4b4d-e4fb-c784c1888d76"
      },
      "source": [
        "#@title Pricing time a CPU. Note TensorFlow does automatic multithreading.\n",
        "numberTimeSteps =  128#@param {type:\"integer\"}\n",
        "numberSimulation =  200000#@param {type:\"integer\"}\n",
        "\n",
        "\n",
        "# First run (includes graph optimization time)\n",
        "time_start = time.time()\n",
        "path = torch.zeros(size=(numberTimeSteps,numberSimulation))\n",
        "\n",
        "brownian = UnivariateBrownianBridge(numberTimeSteps)\n",
        "\n",
        "sobol_engine =  torch.quasirandom.SobolEngine(numberTimeSteps)\n",
        "\n",
        "x = sobol_engine.draw(numberSimulation)\n",
        "y = torch.transpose(torch.erf(x),0,1)\n",
        "brownian.path(path, y)\n",
        "time_end = time.time()\n",
        "time_price_cpu = time_end - time_start\n",
        "print(\"First time on a CPU: \", time_price_cpu)"
      ],
      "execution_count": 51,
      "outputs": [
        {
          "output_type": "stream",
          "name": "stdout",
          "text": [
            "First time on a CPU:  0.25409555435180664\n"
          ]
        }
      ]
    },
    {
      "cell_type": "code",
      "metadata": {
        "id": "gYemW02f58Bv"
      },
      "source": [
        "import torch\n",
        "import torchvision.models as models\n",
        "import torch.autograd.profiler as profiler"
      ],
      "execution_count": 52,
      "outputs": []
    },
    {
      "cell_type": "code",
      "metadata": {
        "id": "EHHTUw3k5rew"
      },
      "source": [
        "numberTimeSteps =  128#@param {type:\"integer\"}\n",
        "numberSimulation =  200000#@param {type:\"integer\"}\n",
        "\n",
        "brownian = UnivariateBrownianBridge(numberTimeSteps)\n",
        "\n",
        "path = torch.zeros(size=(numberTimeSteps,numberSimulation), dtype=float)\n",
        "\n",
        "with profiler.profile(record_shapes=True) as prof:\n",
        "    with profiler.record_function(\"univariate_bridge\"):\n",
        "        x = sobol_engine.draw(numberSimulation)\n",
        "        y = torch.transpose(torch.erf(x),0,1)\n",
        "        brownian.path(path, y)\n",
        "\n"
      ],
      "execution_count": 54,
      "outputs": []
    },
    {
      "cell_type": "code",
      "metadata": {
        "colab": {
          "base_uri": "https://localhost:8080/"
        },
        "id": "pQERjkMV5_4X",
        "outputId": "c7f5ebbe-60ae-4e12-f046-e18c8e19accd"
      },
      "source": [
        "print(prof.key_averages().table(sort_by=\"cpu_time_total\", row_limit=10))"
      ],
      "execution_count": 55,
      "outputs": [
        {
          "output_type": "stream",
          "name": "stdout",
          "text": [
            "------------------------------------  ---------------  ---------------  ---------------  ---------------  ---------------  ---------------  \nName                                  Self CPU total %  Self CPU total   CPU total %      CPU total        CPU time avg     Number of Calls  \n------------------------------------  ---------------  ---------------  ---------------  ---------------  ---------------  ---------------  \nunivariate_bridge                     24.79%           128.875ms        100.00%          519.829ms        519.829ms        1                \nFusionGroup                           8.25%            42.897ms         56.87%           295.623ms        2.328ms          127              \nmul                                   30.87%           160.482ms        30.87%           160.482ms        427.953us        375              \nadd                                   17.89%           92.996ms         17.89%           92.996ms         376.502us        247              \n_sobol_engine_draw                    12.81%           66.571ms         14.29%           74.280ms         74.280ms         1                \nerf                                   2.71%            14.075ms         2.71%            14.075ms         14.075ms         1                \nmul_                                  1.44%            7.463ms          1.44%            7.463ms          7.463ms          1                \nselect                                0.81%            4.195ms          0.81%            4.195ms          3.278us          1280             \nsize                                  0.15%            800.400us        0.15%            800.400us        0.457us          1750             \nitem                                  0.09%            459.300us        0.15%            773.500us        2.030us          381              \n------------------------------------  ---------------  ---------------  ---------------  ---------------  ---------------  ---------------  \nSelf CPU time total: 519.833ms\n\n"
          ]
        }
      ]
    },
    {
      "cell_type": "markdown",
      "metadata": {
        "id": "mBvE25wE4Qjl"
      },
      "source": [
        "# MultivariateBrownian"
      ]
    },
    {
      "cell_type": "code",
      "metadata": {
        "id": "gkvIyRY-48mI"
      },
      "source": [
        "numberSimulation = 3\n",
        "numberTimeSteps = 2\n",
        "numberStates = 2\n",
        "dim = numberTimeSteps * numberStates"
      ],
      "execution_count": 35,
      "outputs": []
    },
    {
      "cell_type": "code",
      "metadata": {
        "id": "k1T0isK04TZd"
      },
      "source": [
        "sobol_engine =  torch.quasirandom.SobolEngine(dim)\n",
        "x = sobol_engine.draw(numberSimulation)\n",
        "x = torch.transpose(x,0,1)"
      ],
      "execution_count": 36,
      "outputs": []
    },
    {
      "cell_type": "code",
      "metadata": {
        "id": "A3beBRV54v7Z"
      },
      "source": [
        "y = torch.reshape(x,shape=(numberTimeSteps,numberStates,numberSimulation))"
      ],
      "execution_count": 37,
      "outputs": []
    },
    {
      "cell_type": "code",
      "metadata": {
        "id": "A-UTyCXT45PQ"
      },
      "source": [
        "m = torch.zeros(size=(numberStates,numberStates))\n",
        "m[0,0] = 1\n",
        "m[1,0] = 1\n",
        "m[1,1] = 0"
      ],
      "execution_count": 38,
      "outputs": []
    },
    {
      "cell_type": "code",
      "metadata": {
        "id": "qDYIHbKT45hQ"
      },
      "source": [
        "w = torch.matmul(m,y[0,:,:])"
      ],
      "execution_count": 39,
      "outputs": []
    },
    {
      "cell_type": "code",
      "metadata": {
        "colab": {
          "base_uri": "https://localhost:8080/"
        },
        "id": "9nhZHfay5Q84",
        "outputId": "c3d549b2-56f7-4d9d-c103-d967370976f9"
      },
      "source": [
        "w"
      ],
      "execution_count": 40,
      "outputs": [
        {
          "output_type": "execute_result",
          "data": {
            "text/plain": [
              "tensor([[0.5000, 0.7500, 0.2500],\n",
              "        [0.5000, 0.7500, 0.2500]])"
            ]
          },
          "metadata": {},
          "execution_count": 40
        }
      ]
    },
    {
      "cell_type": "code",
      "metadata": {
        "id": "XfwkrAz_5Rco"
      },
      "source": [],
      "execution_count": null,
      "outputs": []
    }
  ]
}