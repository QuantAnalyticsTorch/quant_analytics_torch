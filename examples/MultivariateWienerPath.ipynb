{
 "cells": [
  {
   "cell_type": "markdown",
   "metadata": {
    "colab_type": "text",
    "id": "view-in-github"
   },
   "source": [
    "<a href=\"https://colab.research.google.com/github/QuantAnalyticsTorch/quant_analytics_torch/blob/main/examples/MultivariateWienerPath.ipynb\" target=\"_parent\"><img src=\"https://colab.research.google.com/assets/colab-badge.svg\" alt=\"Open In Colab\"/></a>"
   ]
  },
  {
   "cell_type": "markdown",
   "metadata": {
    "id": "BXYbD15wyhOw"
   },
   "source": [
    "# Univariate Wiener Path Construction"
   ]
  },
  {
   "cell_type": "code",
   "execution_count": 1,
   "metadata": {
    "id": "VEGXSJ712qsM"
   },
   "outputs": [],
   "source": [
    "import torch\n",
    "import time\n",
    "\n",
    "import math\n",
    "import numpy as np"
   ]
  },
  {
   "cell_type": "code",
   "execution_count": 2,
   "metadata": {},
   "outputs": [],
   "source": [
    "SQRT_2 = np.sqrt(2)"
   ]
  },
  {
   "cell_type": "code",
   "execution_count": 33,
   "metadata": {
    "id": "P0Ya8rFbynYx"
   },
   "outputs": [],
   "source": [
    "class UnivariateBrownianBridge():\n",
    "  def __init__(self, number_time_steps):\n",
    "    self.number_time_steps = number_time_steps\n",
    "\n",
    "    self.left_index = torch.zeros(number_time_steps, dtype=int)\n",
    "    self.right_index = torch.zeros(number_time_steps, dtype=int)\n",
    "    self.bridge_index = torch.zeros(number_time_steps, dtype=int)\n",
    "    self.left_weight = torch.zeros(number_time_steps)\n",
    "    self.right_weight = torch.zeros(number_time_steps)\n",
    "    self.std_dev = torch.zeros(number_time_steps)\n",
    "\n",
    "    self._map = torch.zeros(number_time_steps, dtype=int)\n",
    "\n",
    "    self._map[-1] = 1\n",
    "    self.bridge_index[0] = number_time_steps - 1\n",
    "    self.std_dev[0] = torch.sqrt(torch.tensor(1.0) * number_time_steps)\n",
    "    self.left_weight[0] = 0\n",
    "    self.right_weight[0] = 0\n",
    "\n",
    "    j=0\n",
    "    for i in range(1,number_time_steps):\n",
    "      while self._map[j] == True:\n",
    "        j = j + 1\n",
    "      k = j\n",
    "      while self._map[k] == False:\n",
    "        k = k + 1\n",
    "      l = j+((k-1-j)>>1)\n",
    "      self._map[l]=i\n",
    "      self.bridge_index[i]=l\n",
    "      self.left_index[i]=j\n",
    "      self.right_index[i]=k\n",
    "      self.left_weight[i]=(k-l)/(k+1-j)\n",
    "      self.right_weight[i]=(1+l-j)/(k+1-j)\n",
    "      self.std_dev[i]=np.sqrt(((1+l-j)*(k-l))/(k+1-j))\n",
    "      j=k+1\n",
    "      if j>=number_time_steps:\n",
    "        j=0\n",
    "        \n",
    "  @torch.jit.script\n",
    "  def buildPath(path, z, increment: bool, number_time_steps: int, left_index, right_index, bridge_index, left_weight, right_weight, std_dev):\n",
    "    path[-1] = std_dev[0]*z[0]\n",
    "    j = 0\n",
    "    k = 0\n",
    "    l = 0\n",
    "    i = 0\n",
    "    for i in range(1,number_time_steps):\n",
    "      j = left_index[i]\n",
    "      k = right_index[i]\n",
    "      l = bridge_index[i]\n",
    "      lw = left_weight[i]\n",
    "      rw = right_weight[i]\n",
    "      sd = std_dev[i]\n",
    "      if j > 0:\n",
    "        path[l] = path[j-1] * lw + path[k] * rw + z[i] * sd\n",
    "      else:\n",
    "        path[l] = right_weight[i] * path[k] + std_dev[i] * z[i]\n",
    "        \n",
    "    if increment:\n",
    "        for i in range(1, number_time_steps):\n",
    "            path[-i] = path[-i] - path[-(i+1)]\n",
    "\n",
    "  def path(self, path, z, increment):\n",
    "    return self.buildPath(path, z, increment, self.number_time_steps, self.left_index, self.right_index, self.bridge_index, self.left_weight, self.right_weight, self.std_dev)"
   ]
  },
  {
   "cell_type": "code",
   "execution_count": 34,
   "metadata": {
    "id": "NdOhiFw2zO3I"
   },
   "outputs": [],
   "source": [
    "brownian = UnivariateBrownianBridge(8)"
   ]
  },
  {
   "cell_type": "code",
   "execution_count": 35,
   "metadata": {
    "colab": {
     "base_uri": "https://localhost:8080/"
    },
    "id": "9ef2Jrhj6kNZ",
    "outputId": "08e57cb7-a4b6-4f67-9401-81ccc5af7265"
   },
   "outputs": [
    {
     "name": "stdout",
     "output_type": "stream",
     "text": [
      "def buildPath(path: Tensor,\n",
      "    z: Tensor,\n",
      "    increment: bool,\n",
      "    number_time_steps: int,\n",
      "    left_index: Tensor,\n",
      "    right_index: Tensor,\n",
      "    bridge_index: Tensor,\n",
      "    left_weight: Tensor,\n",
      "    right_weight: Tensor,\n",
      "    std_dev: Tensor) -> NoneType:\n",
      "  _0 = torch.mul(torch.select(std_dev, 0, 0), torch.select(z, 0, 0))\n",
      "  _1 = torch.copy_(torch.select(path, 0, -1), _0)\n",
      "  _2 = torch.__range_length(1, number_time_steps, 1)\n",
      "  for _3 in range(_2):\n",
      "    i = torch.__derive_index(_3, 1, 1)\n",
      "    j = torch.select(left_index, 0, i)\n",
      "    _4 = annotate(int, j)\n",
      "    k = torch.select(right_index, 0, i)\n",
      "    _5 = annotate(int, k)\n",
      "    l = torch.select(bridge_index, 0, i)\n",
      "    _6 = annotate(int, l)\n",
      "    lw = torch.select(left_weight, 0, i)\n",
      "    rw = torch.select(right_weight, 0, i)\n",
      "    sd = torch.select(std_dev, 0, i)\n",
      "    if torch.gt(_4, 0):\n",
      "      _7 = torch.select(path, 0, torch.sub(_4, 1))\n",
      "      _8 = torch.mul(_7, lw)\n",
      "      _9 = torch.mul(torch.select(path, 0, _5), rw)\n",
      "      _10 = torch.add(_8, _9)\n",
      "      _11 = torch.mul(torch.select(z, 0, i), sd)\n",
      "      _12 = torch.add(_10, _11)\n",
      "      _13 = torch.copy_(torch.select(path, 0, _6), _12)\n",
      "    else:\n",
      "      _14 = torch.mul(torch.select(right_weight, 0, i), torch.select(path, 0, _5))\n",
      "      _15 = torch.mul(torch.select(std_dev, 0, i), torch.select(z, 0, i))\n",
      "      _16 = torch.add(_14, _15)\n",
      "      _17 = torch.copy_(torch.select(path, 0, _6), _16)\n",
      "  if increment:\n",
      "    _18 = torch.__range_length(1, number_time_steps, 1)\n",
      "    for _19 in range(_18):\n",
      "      i0 = torch.__derive_index(_19, 1, 1)\n",
      "      _20 = torch.select(path, 0, torch.neg(i0))\n",
      "      _21 = torch.select(path, 0, torch.neg(torch.add(i0, 1)))\n",
      "      _22 = torch.sub(_20, _21)\n",
      "      _23 = torch.select(path, 0, torch.neg(i0))\n",
      "      _24 = torch.copy_(_23, _22)\n",
      "  else:\n",
      "    pass\n",
      "  return None\n",
      "\n"
     ]
    }
   ],
   "source": [
    "print(UnivariateBrownianBridge.buildPath.code)"
   ]
  },
  {
   "cell_type": "code",
   "execution_count": 36,
   "metadata": {
    "id": "EOzO0mNQzR_c"
   },
   "outputs": [
    {
     "name": "stdout",
     "output_type": "stream",
     "text": [
      "tensor([[0.5000, 0.5000, 0.5000, 0.5000, 0.5000, 0.5000, 0.5000, 0.5000],\n",
      "        [0.7500, 0.2500, 0.2500, 0.2500, 0.7500, 0.7500, 0.2500, 0.7500],\n",
      "        [0.2500, 0.7500, 0.7500, 0.7500, 0.2500, 0.2500, 0.7500, 0.2500]])\n",
      "tensor([[ 0.0000,  0.6745, -0.6745],\n",
      "        [ 0.0000, -0.6745,  0.6745],\n",
      "        [ 0.0000, -0.6745,  0.6745],\n",
      "        [ 0.0000, -0.6745,  0.6745],\n",
      "        [ 0.0000,  0.6745, -0.6745],\n",
      "        [ 0.0000,  0.6745, -0.6745],\n",
      "        [ 0.0000, -0.6745,  0.6745],\n",
      "        [ 0.0000,  0.6745, -0.6745]])\n"
     ]
    },
    {
     "data": {
      "text/plain": [
       "tensor([[ 0.0000,  0.1397, -0.1397],\n",
       "        [ 0.0000, -0.8142,  0.8142],\n",
       "        [ 0.0000,  0.8142, -0.8142],\n",
       "        [ 0.0000, -0.1397,  0.1397],\n",
       "        [ 0.0000, -0.3372,  0.3372],\n",
       "        [ 0.0000,  0.6166, -0.6166],\n",
       "        [ 0.0000,  1.2911, -1.2911],\n",
       "        [ 0.0000,  0.3372, -0.3372]])"
      ]
     },
     "execution_count": 36,
     "metadata": {},
     "output_type": "execute_result"
    }
   ],
   "source": [
    "sobol_engine =  torch.quasirandom.SobolEngine(8)\n",
    "\n",
    "x = sobol_engine.draw(1)\n",
    "x = sobol_engine.draw(3)\n",
    "\n",
    "print(x)\n",
    "\n",
    "y = torch.transpose(torch.erfinv(2.*(x-0.5))*SQRT_2,0,1)\n",
    "\n",
    "print(y)\n",
    "\n",
    "#x = torch.zeros(size=(8,2))\n",
    "#x[0] = 1\n",
    "\n",
    "path = torch.zeros(size=(8,3))\n",
    "\n",
    "#brownian.path(path, x)\n",
    "brownian.path(path, y, True)\n",
    "\n",
    "path"
   ]
  },
  {
   "cell_type": "code",
   "execution_count": 39,
   "metadata": {
    "colab": {
     "base_uri": "https://localhost:8080/"
    },
    "id": "hCWUrgMz1uGG",
    "outputId": "8dbdc3b4-5e71-4b4d-e4fb-c784c1888d76"
   },
   "outputs": [
    {
     "name": "stdout",
     "output_type": "stream",
     "text": [
      "First time on a CPU:  0.03199601173400879\n"
     ]
    }
   ],
   "source": [
    "#@title Pricing time a CPU. Note TensorFlow does automatic multithreading.\n",
    "numberTimeSteps =  64#@param {type:\"integer\"}\n",
    "numberSimulation =  20000#@param {type:\"integer\"}\n",
    "\n",
    "\n",
    "# First run (includes graph optimization time)\n",
    "time_start = time.time()\n",
    "path = torch.zeros(size=(numberTimeSteps,numberSimulation))\n",
    "\n",
    "brownian = UnivariateBrownianBridge(numberTimeSteps)\n",
    "\n",
    "sobol_engine =  torch.quasirandom.SobolEngine(numberTimeSteps)\n",
    "\n",
    "x = sobol_engine.draw(1)\n",
    "x = sobol_engine.draw(numberSimulation)\n",
    "y = torch.transpose(torch.erfinv(2.*(x-0.5))*SQRT_2,0,1)\n",
    "brownian.path(path, y, True)\n",
    "time_end = time.time()\n",
    "time_price_cpu = time_end - time_start\n",
    "print(\"First time on a CPU: \", time_price_cpu)"
   ]
  },
  {
   "cell_type": "code",
   "execution_count": 40,
   "metadata": {
    "id": "gYemW02f58Bv"
   },
   "outputs": [
    {
     "ename": "ImportError",
     "evalue": "cannot import name 'PY3' from 'torch._six' (d:\\home\\quant_analytics_torch\\venv\\lib\\site-packages\\torch\\_six.py)",
     "output_type": "error",
     "traceback": [
      "\u001b[1;31m---------------------------------------------------------------------------\u001b[0m",
      "\u001b[1;31mImportError\u001b[0m                               Traceback (most recent call last)",
      "\u001b[1;32m<ipython-input-40-e6cc08cb0970>\u001b[0m in \u001b[0;36m<module>\u001b[1;34m\u001b[0m\n\u001b[0;32m      1\u001b[0m \u001b[1;32mimport\u001b[0m \u001b[0mtorch\u001b[0m\u001b[1;33m\u001b[0m\u001b[1;33m\u001b[0m\u001b[0m\n\u001b[1;32m----> 2\u001b[1;33m \u001b[1;32mimport\u001b[0m \u001b[0mtorchvision\u001b[0m\u001b[1;33m.\u001b[0m\u001b[0mmodels\u001b[0m \u001b[1;32mas\u001b[0m \u001b[0mmodels\u001b[0m\u001b[1;33m\u001b[0m\u001b[1;33m\u001b[0m\u001b[0m\n\u001b[0m\u001b[0;32m      3\u001b[0m \u001b[1;32mimport\u001b[0m \u001b[0mtorch\u001b[0m\u001b[1;33m.\u001b[0m\u001b[0mautograd\u001b[0m\u001b[1;33m.\u001b[0m\u001b[0mprofiler\u001b[0m \u001b[1;32mas\u001b[0m \u001b[0mprofiler\u001b[0m\u001b[1;33m\u001b[0m\u001b[1;33m\u001b[0m\u001b[0m\n",
      "\u001b[1;32md:\\home\\quant_analytics_torch\\venv\\lib\\site-packages\\torchvision\\__init__.py\u001b[0m in \u001b[0;36m<module>\u001b[1;34m\u001b[0m\n\u001b[0;32m      2\u001b[0m \u001b[1;33m\u001b[0m\u001b[0m\n\u001b[0;32m      3\u001b[0m \u001b[1;32mfrom\u001b[0m \u001b[0mtorchvision\u001b[0m \u001b[1;32mimport\u001b[0m \u001b[0mmodels\u001b[0m\u001b[1;33m\u001b[0m\u001b[1;33m\u001b[0m\u001b[0m\n\u001b[1;32m----> 4\u001b[1;33m \u001b[1;32mfrom\u001b[0m \u001b[0mtorchvision\u001b[0m \u001b[1;32mimport\u001b[0m \u001b[0mdatasets\u001b[0m\u001b[1;33m\u001b[0m\u001b[1;33m\u001b[0m\u001b[0m\n\u001b[0m\u001b[0;32m      5\u001b[0m \u001b[1;32mfrom\u001b[0m \u001b[0mtorchvision\u001b[0m \u001b[1;32mimport\u001b[0m \u001b[0mops\u001b[0m\u001b[1;33m\u001b[0m\u001b[1;33m\u001b[0m\u001b[0m\n\u001b[0;32m      6\u001b[0m \u001b[1;32mfrom\u001b[0m \u001b[0mtorchvision\u001b[0m \u001b[1;32mimport\u001b[0m \u001b[0mtransforms\u001b[0m\u001b[1;33m\u001b[0m\u001b[1;33m\u001b[0m\u001b[0m\n",
      "\u001b[1;32md:\\home\\quant_analytics_torch\\venv\\lib\\site-packages\\torchvision\\datasets\\__init__.py\u001b[0m in \u001b[0;36m<module>\u001b[1;34m\u001b[0m\n\u001b[1;32m----> 1\u001b[1;33m \u001b[1;32mfrom\u001b[0m \u001b[1;33m.\u001b[0m\u001b[0mlsun\u001b[0m \u001b[1;32mimport\u001b[0m \u001b[0mLSUN\u001b[0m\u001b[1;33m,\u001b[0m \u001b[0mLSUNClass\u001b[0m\u001b[1;33m\u001b[0m\u001b[1;33m\u001b[0m\u001b[0m\n\u001b[0m\u001b[0;32m      2\u001b[0m \u001b[1;32mfrom\u001b[0m \u001b[1;33m.\u001b[0m\u001b[0mfolder\u001b[0m \u001b[1;32mimport\u001b[0m \u001b[0mImageFolder\u001b[0m\u001b[1;33m,\u001b[0m \u001b[0mDatasetFolder\u001b[0m\u001b[1;33m\u001b[0m\u001b[1;33m\u001b[0m\u001b[0m\n\u001b[0;32m      3\u001b[0m \u001b[1;32mfrom\u001b[0m \u001b[1;33m.\u001b[0m\u001b[0mcoco\u001b[0m \u001b[1;32mimport\u001b[0m \u001b[0mCocoCaptions\u001b[0m\u001b[1;33m,\u001b[0m \u001b[0mCocoDetection\u001b[0m\u001b[1;33m\u001b[0m\u001b[1;33m\u001b[0m\u001b[0m\n\u001b[0;32m      4\u001b[0m \u001b[1;32mfrom\u001b[0m \u001b[1;33m.\u001b[0m\u001b[0mcifar\u001b[0m \u001b[1;32mimport\u001b[0m \u001b[0mCIFAR10\u001b[0m\u001b[1;33m,\u001b[0m \u001b[0mCIFAR100\u001b[0m\u001b[1;33m\u001b[0m\u001b[1;33m\u001b[0m\u001b[0m\n\u001b[0;32m      5\u001b[0m \u001b[1;32mfrom\u001b[0m \u001b[1;33m.\u001b[0m\u001b[0mstl10\u001b[0m \u001b[1;32mimport\u001b[0m \u001b[0mSTL10\u001b[0m\u001b[1;33m\u001b[0m\u001b[1;33m\u001b[0m\u001b[0m\n",
      "\u001b[1;32md:\\home\\quant_analytics_torch\\venv\\lib\\site-packages\\torchvision\\datasets\\lsun.py\u001b[0m in \u001b[0;36m<module>\u001b[1;34m\u001b[0m\n\u001b[0;32m     17\u001b[0m     \u001b[1;32mimport\u001b[0m \u001b[0mpickle\u001b[0m\u001b[1;33m\u001b[0m\u001b[1;33m\u001b[0m\u001b[0m\n\u001b[0;32m     18\u001b[0m \u001b[1;33m\u001b[0m\u001b[0m\n\u001b[1;32m---> 19\u001b[1;33m \u001b[1;32mfrom\u001b[0m \u001b[1;33m.\u001b[0m\u001b[0mutils\u001b[0m \u001b[1;32mimport\u001b[0m \u001b[0mverify_str_arg\u001b[0m\u001b[1;33m,\u001b[0m \u001b[0miterable_to_str\u001b[0m\u001b[1;33m\u001b[0m\u001b[1;33m\u001b[0m\u001b[0m\n\u001b[0m\u001b[0;32m     20\u001b[0m \u001b[1;33m\u001b[0m\u001b[0m\n\u001b[0;32m     21\u001b[0m \u001b[1;33m\u001b[0m\u001b[0m\n",
      "\u001b[1;32md:\\home\\quant_analytics_torch\\venv\\lib\\site-packages\\torchvision\\datasets\\utils.py\u001b[0m in \u001b[0;36m<module>\u001b[1;34m\u001b[0m\n\u001b[0;32m      9\u001b[0m \u001b[1;32mimport\u001b[0m \u001b[0mtorch\u001b[0m\u001b[1;33m\u001b[0m\u001b[1;33m\u001b[0m\u001b[0m\n\u001b[0;32m     10\u001b[0m \u001b[1;32mfrom\u001b[0m \u001b[0mtorch\u001b[0m\u001b[1;33m.\u001b[0m\u001b[0mutils\u001b[0m\u001b[1;33m.\u001b[0m\u001b[0mmodel_zoo\u001b[0m \u001b[1;32mimport\u001b[0m \u001b[0mtqdm\u001b[0m\u001b[1;33m\u001b[0m\u001b[1;33m\u001b[0m\u001b[0m\n\u001b[1;32m---> 11\u001b[1;33m \u001b[1;32mfrom\u001b[0m \u001b[0mtorch\u001b[0m\u001b[1;33m.\u001b[0m\u001b[0m_six\u001b[0m \u001b[1;32mimport\u001b[0m \u001b[0mPY3\u001b[0m\u001b[1;33m\u001b[0m\u001b[1;33m\u001b[0m\u001b[0m\n\u001b[0m\u001b[0;32m     12\u001b[0m \u001b[1;33m\u001b[0m\u001b[0m\n\u001b[0;32m     13\u001b[0m \u001b[1;33m\u001b[0m\u001b[0m\n",
      "\u001b[1;31mImportError\u001b[0m: cannot import name 'PY3' from 'torch._six' (d:\\home\\quant_analytics_torch\\venv\\lib\\site-packages\\torch\\_six.py)"
     ]
    }
   ],
   "source": [
    "import torch\n",
    "import torchvision.models as models\n",
    "import torch.autograd.profiler as profiler"
   ]
  },
  {
   "cell_type": "code",
   "execution_count": 229,
   "metadata": {
    "id": "EHHTUw3k5rew"
   },
   "outputs": [],
   "source": [
    "numberTimeSteps =  128#@param {type:\"integer\"}\n",
    "numberSimulation =  200000#@param {type:\"integer\"}\n",
    "\n",
    "brownian = UnivariateBrownianBridge(numberTimeSteps)\n",
    "\n",
    "path = torch.zeros(size=(numberTimeSteps,numberSimulation))\n",
    "\n",
    "with profiler.profile(record_shapes=True) as prof:\n",
    "    with profiler.record_function(\"univariate_bridge\"):\n",
    "        x = sobol_engine.draw(numberSimulation)\n",
    "        y = torch.transpose(torch.erfinv(2.*(x-0.5))*SQRT_2,0,1)\n",
    "        brownian.pathIncrements(path, y)\n"
   ]
  },
  {
   "cell_type": "code",
   "execution_count": 230,
   "metadata": {
    "colab": {
     "base_uri": "https://localhost:8080/"
    },
    "id": "pQERjkMV5_4X",
    "outputId": "c7f5ebbe-60ae-4e12-f046-e18c8e19accd"
   },
   "outputs": [
    {
     "name": "stdout",
     "output_type": "stream",
     "text": [
      "------------------------------------  ---------------  ---------------  ---------------  ---------------  ---------------  ---------------  \n",
      "Name                                  Self CPU total %  Self CPU total   CPU total %      CPU total        CPU time avg     Number of Calls  \n",
      "------------------------------------  ---------------  ---------------  ---------------  ---------------  ---------------  ---------------  \n",
      "univariate_bridge                     19.70%           62.154ms         100.00%          315.473ms        315.473ms        1                \n",
      "mul                                   38.78%           122.347ms        38.78%           122.347ms        324.529us        377              \n",
      "FusionGroup                           0.69%            2.183ms          33.03%           104.195ms        820.433us        127              \n",
      "_sobol_engine_draw                    22.38%           70.592ms         24.46%           77.155ms         77.155ms         1                \n",
      "sub                                   6.84%            21.575ms         6.84%            21.575ms         168.555us        128              \n",
      "erfinv                                5.20%            16.418ms         5.20%            16.418ms         16.418ms         1                \n",
      "add                                   2.12%            6.699ms          2.12%            6.699ms          27.120us         247              \n",
      "mul_                                  1.97%            6.223ms          1.97%            6.223ms          6.223ms          1                \n",
      "select                                1.52%            4.780ms          1.52%            4.780ms          2.878us          1661             \n",
      "size                                  0.31%            986.800us        0.31%            986.800us        0.437us          2258             \n",
      "------------------------------------  ---------------  ---------------  ---------------  ---------------  ---------------  ---------------  \n",
      "Self CPU time total: 315.477ms\n",
      "\n"
     ]
    }
   ],
   "source": [
    "print(prof.key_averages().table(sort_by=\"cpu_time_total\", row_limit=10))"
   ]
  },
  {
   "cell_type": "markdown",
   "metadata": {
    "id": "mBvE25wE4Qjl"
   },
   "source": [
    "# MultivariateBrownian"
   ]
  },
  {
   "cell_type": "code",
   "execution_count": 321,
   "metadata": {
    "id": "gkvIyRY-48mI"
   },
   "outputs": [],
   "source": [
    "numberSimulation = 3\n",
    "numberTimeSteps = 2\n",
    "numberStates = 2\n",
    "dim = numberTimeSteps * numberStates"
   ]
  },
  {
   "cell_type": "code",
   "execution_count": 341,
   "metadata": {
    "id": "k1T0isK04TZd"
   },
   "outputs": [],
   "source": [
    "sobol_engine =  torch.quasirandom.SobolEngine(dim)\n",
    "x = sobol_engine.draw(1)\n",
    "x = sobol_engine.draw(numberSimulation)\n",
    "\n",
    "x = torch.transpose(x,0,1)"
   ]
  },
  {
   "cell_type": "code",
   "execution_count": 342,
   "metadata": {
    "id": "A3beBRV54v7Z"
   },
   "outputs": [
    {
     "data": {
      "text/plain": [
       "tensor([[[0.5000, 0.7500, 0.2500],\n",
       "         [0.5000, 0.2500, 0.7500]],\n",
       "\n",
       "        [[0.5000, 0.2500, 0.7500],\n",
       "         [0.5000, 0.2500, 0.7500]]])"
      ]
     },
     "execution_count": 342,
     "metadata": {},
     "output_type": "execute_result"
    }
   ],
   "source": [
    "y = torch.reshape(x,shape=(numberTimeSteps,numberStates,numberSimulation))\n",
    "y"
   ]
  },
  {
   "cell_type": "code",
   "execution_count": 343,
   "metadata": {},
   "outputs": [],
   "source": [
    "def square_root_symmetric_matrix(A):\n",
    "    w, v = torch.linalg.eigh(A)\n",
    "    return torch.mm(torch.mm(v, torch.diag(torch.sqrt(w[:]))), v.t())"
   ]
  },
  {
   "cell_type": "code",
   "execution_count": 344,
   "metadata": {
    "id": "XfwkrAz_5Rco"
   },
   "outputs": [],
   "source": [
    "class MultivariateBrownianBridge():\n",
    "    def __init__(self, forwardCovarianceMatrices):\n",
    "        self.forwardCovarianceMatrices = forwardCovarianceMatrices\n",
    "        self.numberTimeSteps = len(forwardCovarianceMatrices)\n",
    "        self.numberStates = len(forwardCovarianceMatrices[0])\n",
    "        self.brownian = UnivariateBrownianBridge(self.numberTimeSteps)\n",
    "        self.sqrtForwardCovarianceMatrices = torch.zeros(size=(self.numberTimeSteps, self.numberStates, self.numberStates))\n",
    "        for i in range(self.numberTimeSteps):\n",
    "            self.sqrtForwardCovarianceMatrices[i] = square_root_symmetric_matrix(self.forwardCovarianceMatrices[i])\n",
    "\n",
    "    def path(self, z, increments):\n",
    "        print(len(z[0]))\n",
    "        path = torch.zeros(size=(self.numberTimeSteps, self.numberStates, len(z[0][0])))\n",
    "        self.brownian.path(path, z, increments)\n",
    "\n",
    "        result = torch.zeros(size=(self.numberTimeSteps, self.numberStates, len(z[0][0])))        \n",
    "        for i in range(self.numberTimeSteps):\n",
    "            result[i] = torch.matmul(self.sqrtForwardCovarianceMatrices[i], path[i])\n",
    "        return result"
   ]
  },
  {
   "cell_type": "code",
   "execution_count": 345,
   "metadata": {},
   "outputs": [],
   "source": [
    "#path = torch.zeros(size=(numberTimeSteps, numberStates, numberSimulation))"
   ]
  },
  {
   "cell_type": "code",
   "execution_count": 346,
   "metadata": {},
   "outputs": [
    {
     "data": {
      "text/plain": [
       "tensor([[[0.0900, 0.0300],\n",
       "         [0.0300, 0.0400]],\n",
       "\n",
       "        [[0.0900, 0.0300],\n",
       "         [0.0300, 0.0400]]], grad_fn=<CopySlices>)"
      ]
     },
     "execution_count": 346,
     "metadata": {},
     "output_type": "execute_result"
    }
   ],
   "source": [
    "sigma1 = torch.tensor(0.3,requires_grad=True)\n",
    "sigma2 = torch.tensor(0.2,requires_grad=True)\n",
    "rho = torch.tensor(0.5,requires_grad=True)\n",
    "\n",
    "fm = torch.zeros(size=(numberStates,numberStates))\n",
    "\n",
    "fm[0][0] = sigma1*sigma1\n",
    "fm[0][1] = fm[1][0] = rho*sigma1*sigma2\n",
    "fm[1][1] = sigma2*sigma2\n",
    "\n",
    "fwd_cov = torch.zeros(size=(numberTimeSteps, numberStates, numberStates))\n",
    "fwd_cov[0] = fm\n",
    "fwd_cov[1] = fm\n",
    "fwd_cov"
   ]
  },
  {
   "cell_type": "code",
   "execution_count": 347,
   "metadata": {},
   "outputs": [],
   "source": [
    "#dx, = torch.autograd.grad(fm[0][1], rho, create_graph=True, retain_graph=True, allow_unused=True)"
   ]
  },
  {
   "cell_type": "code",
   "execution_count": 348,
   "metadata": {},
   "outputs": [],
   "source": [
    "#dx"
   ]
  },
  {
   "cell_type": "code",
   "execution_count": 349,
   "metadata": {},
   "outputs": [
    {
     "data": {
      "text/plain": [
       "<torch.autograd.anomaly_mode.set_detect_anomaly at 0x2d2876557f0>"
      ]
     },
     "execution_count": 349,
     "metadata": {},
     "output_type": "execute_result"
    }
   ],
   "source": [
    "torch.autograd.set_detect_anomaly(True)"
   ]
  },
  {
   "cell_type": "code",
   "execution_count": 350,
   "metadata": {},
   "outputs": [],
   "source": [
    "multivariate_brownian = MultivariateBrownianBridge(fwd_cov)"
   ]
  },
  {
   "cell_type": "code",
   "execution_count": 351,
   "metadata": {},
   "outputs": [
    {
     "name": "stdout",
     "output_type": "stream",
     "text": [
      "2\n"
     ]
    },
    {
     "data": {
      "text/plain": [
       "tensor([[[ 0.2514,  0.2295,  0.2733],\n",
       "         [ 0.1783,  0.1111,  0.2455]],\n",
       "\n",
       "        [[ 0.0000,  0.1038, -0.1038],\n",
       "         [ 0.0000,  0.0219, -0.0219]]], grad_fn=<CopySlices>)"
      ]
     },
     "execution_count": 351,
     "metadata": {},
     "output_type": "execute_result"
    }
   ],
   "source": [
    "mpathi = multivariate_brownian.path(y, True)\n",
    "mpathi"
   ]
  },
  {
   "cell_type": "code",
   "execution_count": 352,
   "metadata": {},
   "outputs": [
    {
     "data": {
      "text/plain": [
       "tensor(0.3333, grad_fn=<SelectBackward>)"
      ]
     },
     "execution_count": 352,
     "metadata": {},
     "output_type": "execute_result"
    }
   ],
   "source": [
    "mpath = torch.sum(mpathi,dim=0)\n",
    "v = mpath[0][1]\n",
    "v"
   ]
  },
  {
   "cell_type": "code",
   "execution_count": 353,
   "metadata": {},
   "outputs": [],
   "source": [
    "dx, = torch.autograd.grad(v, sigma1, create_graph=True, retain_graph=True, allow_unused=True)"
   ]
  },
  {
   "cell_type": "code",
   "execution_count": 354,
   "metadata": {},
   "outputs": [
    {
     "data": {
      "text/plain": [
       "tensor(1.0946, grad_fn=<AddBackward0>)"
      ]
     },
     "execution_count": 354,
     "metadata": {},
     "output_type": "execute_result"
    }
   ],
   "source": [
    "dx"
   ]
  },
  {
   "cell_type": "code",
   "execution_count": 318,
   "metadata": {},
   "outputs": [],
   "source": [
    "numberTimeSteps = 1\n",
    "numberStates = 16\n",
    "dim = numberTimeSteps * numberStates\n",
    "numberSimulation =  200000#@param {type:\"integer\"}\n",
    "\n",
    "fwd_cov = torch.ones(size=(numberTimeSteps, numberStates, numberStates))\n",
    "\n",
    "multivariate_brownian = MultivariateBrownianBridge(fwd_cov)\n",
    "\n",
    "path = torch.zeros(size=(numberTimeSteps, numberStates, numberSimulation))\n",
    "\n",
    "with profiler.profile(record_shapes=True) as prof:\n",
    "    with profiler.record_function(\"univariate_bridge\"):\n",
    "        sobol_engine =  torch.quasirandom.SobolEngine(dim)\n",
    "        x = sobol_engine.draw(numberSimulation)\n",
    "        x = torch.transpose(x,0,1)\n",
    "        y = torch.reshape(x,shape=(numberTimeSteps,numberStates,numberSimulation))\n",
    "        z = torch.erfinv(2.*(y-0.5))*SQRT_2\n",
    "        multivariate_brownian.pathIncrements(path, z)"
   ]
  },
  {
   "cell_type": "code",
   "execution_count": 319,
   "metadata": {},
   "outputs": [
    {
     "name": "stdout",
     "output_type": "stream",
     "text": [
      "------------------------------------  ---------------  ---------------  ---------------  ---------------  ---------------  ---------------  \n",
      "Name                                  Self CPU total %  Self CPU total   CPU total %      CPU total        CPU time avg     Number of Calls  \n",
      "------------------------------------  ---------------  ---------------  ---------------  ---------------  ---------------  ---------------  \n",
      "univariate_bridge                     43.22%           27.021ms         99.99%           62.513ms         62.513ms         1                \n",
      "erfinv                                27.59%           17.248ms         27.59%           17.248ms         17.248ms         1                \n",
      "_sobol_engine_draw                    12.19%           7.618ms          13.58%           8.490ms          8.490ms          1                \n",
      "mul                                   7.51%            4.695ms          7.51%            4.695ms          1.565ms          3                \n",
      "matmul                                0.01%            4.100us          4.98%            3.111ms          3.111ms          1                \n",
      "mm                                    4.97%            3.106ms          4.97%            3.106ms          3.106ms          1                \n",
      "sub                                   2.86%            1.787ms          2.86%            1.787ms          1.787ms          1                \n",
      "mul_                                  1.28%            800.800us        1.28%            800.800us        400.400us        2                \n",
      "_sobol_engine_initialize_state_       0.04%            25.400us         0.13%            83.900us         83.900us         1                \n",
      "empty                                 0.12%            76.100us         0.12%            76.100us         38.050us         2                \n",
      "------------------------------------  ---------------  ---------------  ---------------  ---------------  ---------------  ---------------  \n",
      "Self CPU time total: 62.518ms\n",
      "\n"
     ]
    }
   ],
   "source": [
    "print(prof.key_averages().table(sort_by=\"cpu_time_total\", row_limit=10))"
   ]
  },
  {
   "cell_type": "code",
   "execution_count": null,
   "metadata": {},
   "outputs": [],
   "source": []
  }
 ],
 "metadata": {
  "accelerator": "GPU",
  "colab": {
   "authorship_tag": "ABX9TyOZ5AYQuCDIRq0ndqvewA8P",
   "collapsed_sections": [],
   "include_colab_link": true,
   "name": "MultivariateWienerPath.ipynb",
   "provenance": []
  },
  "kernelspec": {
   "display_name": "Python 3",
   "language": "python",
   "name": "python3"
  },
  "language_info": {
   "codemirror_mode": {
    "name": "ipython",
    "version": 3
   },
   "file_extension": ".py",
   "mimetype": "text/x-python",
   "name": "python",
   "nbconvert_exporter": "python",
   "pygments_lexer": "ipython3",
   "version": "3.7.3"
  }
 },
 "nbformat": 4,
 "nbformat_minor": 4
}
