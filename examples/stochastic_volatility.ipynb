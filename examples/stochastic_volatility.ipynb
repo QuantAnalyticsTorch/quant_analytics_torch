{
 "cells": [
  {
   "cell_type": "code",
   "execution_count": 46,
   "id": "de38e30b-2332-40a5-80a6-5bb86ee6f585",
   "metadata": {},
   "outputs": [],
   "source": [
    "import numpy as np"
   ]
  },
  {
   "cell_type": "code",
   "execution_count": 71,
   "id": "5cb5b720-69e6-4c6c-8e13-83800d6c05ae",
   "metadata": {},
   "outputs": [],
   "source": [
    "from quant_analytics_torch.analytics.characteristicfunction import heston_option_price, threeovertwo_option_price, threeovertwo_vix_price, impliedvolatility"
   ]
  },
  {
   "cell_type": "code",
   "execution_count": 72,
   "id": "eb51b48f-8add-4208-9161-680b900cfd68",
   "metadata": {},
   "outputs": [],
   "source": [
    "strikes = [-0.5, -0.4, -0.3, -0.2, -0.1, 0, 0.1, 0.2, 0.3, 0.4, 0.5]\n",
    "ivs_heston = []\n",
    "ivs_3_2 = []    \n",
    "dt = 0.55\n",
    "\n",
    "for it in strikes:\n",
    "    strike = np.exp(it)\n",
    "    price = heston_option_price(strike,1,0.04,1,0.04,0.9,-0.8,dt)\n",
    "    iv = impliedvolatility(price,1,strike,1)\n",
    "    ivs_heston.append(iv)\n",
    "    \n",
    "    price = threeovertwo_option_price(strike,1,0.04,22,0.09,8,-0.8,dt)\n",
    "    iv = impliedvolatility(price,1,strike,1)\n",
    "    ivs_3_2.append(iv)"
   ]
  },
  {
   "cell_type": "code",
   "execution_count": 73,
   "id": "d087d500-c60d-42be-9c07-0308ed4c6778",
   "metadata": {},
   "outputs": [
    {
     "data": {
      "text/plain": [
       "[0.27494328828048553,\n",
       " 0.24582637474898172,\n",
       " 0.22348697492349837,\n",
       " 0.1888624941629842,\n",
       " 0.1553184728158819,\n",
       " 0.1066981459483245,\n",
       " 0.0770231937994471,\n",
       " 0.09835026107768963,\n",
       " inf,\n",
       " 0.14792096739834826,\n",
       " -inf]"
      ]
     },
     "execution_count": 73,
     "metadata": {},
     "output_type": "execute_result"
    }
   ],
   "source": [
    "ivs_heston"
   ]
  },
  {
   "cell_type": "code",
   "execution_count": 74,
   "id": "65dfbb5f-7eba-4cb1-affa-45f250eaa3a1",
   "metadata": {},
   "outputs": [],
   "source": [
    "import matplotlib.pyplot as plt"
   ]
  },
  {
   "cell_type": "code",
   "execution_count": 75,
   "id": "bae9a8e0-2ba7-4853-8396-e3ab53e25e26",
   "metadata": {},
   "outputs": [
    {
     "data": {
      "text/plain": [
       "[<matplotlib.lines.Line2D at 0x2b4a8297ef0>]"
      ]
     },
     "execution_count": 75,
     "metadata": {},
     "output_type": "execute_result"
    },
    {
     "data": {
      "image/png": "[encoded data removed]",
      "text/plain": [
       "<Figure size 432x288 with 1 Axes>"
      ]
     },
     "metadata": {
      "needs_background": "light"
     },
     "output_type": "display_data"
    }
   ],
   "source": [
    "plt.plot(strikes, ivs_heston)\n",
    "plt.plot(strikes, ivs_3_2)"
   ]
  },
  {
   "cell_type": "code",
   "execution_count": 76,
   "id": "19ea6232-c581-4fac-a105-116eb6dddf80",
   "metadata": {},
   "outputs": [
    {
     "name": "stdout",
     "output_type": "stream",
     "text": [
      "0.0017755864313482059\n",
      "0.0003732353059058773\n",
      "5.37463682995144e-05\n"
     ]
    }
   ],
   "source": [
    "strikes = np.linspace(0.2,0.3,3)\n",
    "ivs_vix_3_2 = []    \n",
    "dt = 0.5\n",
    "\n",
    "for it in strikes:\n",
    "    strike = np.exp(it)\n",
    "    \n",
    "    price = threeovertwo_vix_price(strike,1,0.04,22,0.09,8,-0.8,dt)\n",
    "    print(price)\n"
   ]
  },
  {
   "cell_type": "code",
   "execution_count": null,
   "id": "558fff29-fb57-4e10-96a1-4452c6f39a4a",
   "metadata": {},
   "outputs": [],
   "source": []
  },
  {
   "cell_type": "code",
   "execution_count": null,
   "id": "22a7b75e-94a9-4862-a7fc-53c1ccc36601",
   "metadata": {},
   "outputs": [],
   "source": []
  }
 ],
 "metadata": {
  "kernelspec": {
   "display_name": "Python 3",
   "language": "python",
   "name": "python3"
  },
  "language_info": {
   "codemirror_mode": {
    "name": "ipython",
    "version": 3
   },
   "file_extension": ".py",
   "mimetype": "text/x-python",
   "name": "python",
   "nbconvert_exporter": "python",
   "pygments_lexer": "ipython3",
   "version": "3.7.3"
  }
 },
 "nbformat": 4,
 "nbformat_minor": 5
}
