{
  "nbformat": 4,
  "nbformat_minor": 0,
  "metadata": {
    "colab": {
      "name": "DeepNeuralNetworkConditionalExpectation.ipynb",
      "provenance": [],
      "collapsed_sections": [],
      "authorship_tag": "ABX9TyNP2ZegrhcplCaGNDBuVOa9",
      "include_colab_link": true
    },
    "kernelspec": {
      "name": "python3",
      "display_name": "Python 3"
    }
  },
  "cells": [
    {
      "cell_type": "markdown",
      "metadata": {
        "id": "view-in-github",
        "colab_type": "text"
      },
      "source": [
        "<a href=\"https://colab.research.google.com/github/QuantAnalyticsTorch/quant_analytics_torch/blob/main/examples/DeepNeuralNetworkConditionalExpectation.ipynb\" target=\"_parent\"><img src=\"https://colab.research.google.com/assets/colab-badge.svg\" alt=\"Open In Colab\"/></a>"
      ]
    },
    {
      "cell_type": "code",
      "metadata": {
        "id": "ufBgi7HCP_Dh"
      },
      "source": [
        "import matplotlib.pyplot as plt"
      ],
      "execution_count": 8,
      "outputs": []
    },
    {
      "cell_type": "code",
      "metadata": {
        "id": "ZsacqFY7vpa0"
      },
      "source": [
        "import torch\n",
        "\n",
        "class PathGeneratorLognormal(torch.nn.Module):\n",
        "    def __init__(self, seq_len=2, forwardvariance=0.04, fwd=100):\n",
        "        super().__init__()\n",
        "        self.seq_len = seq_len\n",
        "        self.input_dim = 1\n",
        "        self.forwardvariance = forwardvariance\n",
        "        self.sigma = torch.sqrt(forwardvariance)\n",
        "        self.fwd = fwd\n",
        "\n",
        "    def paths(self, batch_size):\n",
        "\n",
        "        # Initial model price is 0\n",
        "        x0 = self.fwd * torch.ones( batch_size,  self.seq_len + 1,  self.input_dim)\n",
        "        z0 = torch.zeros( batch_size,  self.seq_len + 1,  self.input_dim)\n",
        "\n",
        "        # One step simulation\n",
        "        dx = torch.randn(  batch_size,  self.seq_len,  self.input_dim)\n",
        "\n",
        "        for k in range(self.seq_len):\n",
        "            z0[:,k+1,:] = z0[:,k,:] + self.sigma * dx[:,k,:] - self.forwardvariance/2\n",
        "            x0[:,k+1,:] = self.fwd * torch.exp(z0[:,k+1,:])\n",
        "\n",
        "        return x0\n"
      ],
      "execution_count": 55,
      "outputs": []
    },
    {
      "cell_type": "code",
      "metadata": {
        "id": "L8nJY5RWNEby"
      },
      "source": [
        "import torch\n",
        "\n",
        "BETA = 0.5\n",
        "\n",
        "class DeepLearningConditionalExpectation(torch.nn.Module):\n",
        "    def __init__(self, input_size=1, batch_size=1000, hidden_layer_size=128, output_size=1, epochs=20, training_size=15, seq_len = 2):\n",
        "        super().__init__()\n",
        "\n",
        "        self.batch_size = batch_size\n",
        "        self.hidden_layer_size = hidden_layer_size\n",
        "        self.epochs = epochs\n",
        "        self.training_size = training_size\n",
        "        self.seq_len = seq_len\n",
        "\n",
        "        n_hidden = hidden_layer_size\n",
        "\n",
        "        self.model = torch.nn.Sequential(torch.nn.Linear(input_size, n_hidden),\n",
        "                                         torch.nn.ReLU(inplace=True),\n",
        "                                         torch.nn.Linear(n_hidden, n_hidden),\n",
        "                                         torch.nn.ReLU(inplace=True),\n",
        "                                         torch.nn.Linear(n_hidden, output_size))\n",
        "\n",
        "        self.optimizer = torch.optim.Adam(self.model.parameters(), lr=0.005)\n",
        "\n",
        "        self.input_dim = 1\n",
        "        self.risk_aversion = 20\n",
        "        self.sigma = 0.2\n",
        "\n",
        "        self.pathgenerator = PathGeneratorLognormal(seq_len=self.seq_len, forwardvariance=torch.tensor(0.04/(self.seq_len+1)), fwd=1.0)\n",
        "\n",
        "\n",
        "    def init_hidden(self, batch_size):\n",
        "        self.model.hidden_cell = (  torch.zeros(1, batch_size, self.model.hidden_layer_size),\n",
        "                                    torch.zeros(1, batch_size,  self.model.hidden_layer_size))\n",
        "\n",
        "    def paths(self, batch_size):\n",
        "        return self.pathgenerator.paths(batch_size)\n",
        "\n",
        "    def payoff(self, x0):\n",
        "        return torch.max(x0[:,-1,:]-torch.tensor(1.),torch.tensor(0.))# - torch.max(x0[:,-1,:]-torch.tensor(1.05),torch.tensor(0.))\n",
        "\n",
        "    def output(self, x0):\n",
        "        return self.model(x0[:,1,:])\n",
        "\n",
        "    def pnl(self, x0, delta, payoff, batch_size):\n",
        "        pnl = torch.zeros(batch_size, self.input_dim)\n",
        "        delta_zero = torch.zeros(batch_size, self.input_dim)\n",
        "\n",
        "        for k in range(self.seq_len):\n",
        "            pnl = pnl + (delta[:,k,:]-delta_zero)  * x0[:,k,:]\n",
        "            delta_zero = delta[:,k,:]\n",
        "\n",
        "        return pnl + payoff - delta[:,-1,:]*x0[:,-1,:]\n",
        "\n",
        "    def run(self):\n",
        "\n",
        "        # Total number of Monte-Carlo simulations\n",
        "        simulation_size = self.batch_size * self.training_size\n",
        "\n",
        "        # Only do one simulation at the beginning\n",
        "        x0_t = self.paths(simulation_size)\n",
        "\n",
        "        # Payoff being pi = max(dx-0,0)\n",
        "        payoff_t = self.payoff(x0_t)\n",
        "\n",
        "        for i in range(self.epochs):\n",
        "\n",
        "            self.model.train()\n",
        "\n",
        "            for j in range(self.training_size):\n",
        "\n",
        "                self.optimizer.zero_grad()\n",
        "\n",
        "                # Reinitialise the hidden cells\n",
        "                # self.init_hidden(self.batch_size)\n",
        "\n",
        "                # Take a subset of the paths\n",
        "                x0 = x0_t[j*self.batch_size:(j+1)*self.batch_size,:,:]\n",
        "\n",
        "                payoff = payoff_t[j*self.batch_size:(j+1)*self.batch_size,:]\n",
        "\n",
        "                # Hedge performance pnl = pi - delta * dx\n",
        "                output = self.output(x0)\n",
        "\n",
        "                loss = torch.tensor(0., requires_grad=True)\n",
        "\n",
        "                loss = loss + torch.norm(output[:,:]-payoff[:,:])\n",
        "                loss = loss + BETA * torch.norm(torch.min(output[:,:],torch.tensor(0.0)))\n",
        "                #loss = loss + BETA * torch.norm(torch.max(output[:,:]-torch.tensor(0.05),torch.tensor(0.0)))                \n",
        "\n",
        "                # Propagate derivates\n",
        "                loss.backward()\n",
        "                # Optimize\n",
        "                self.optimizer.step()\n",
        "\n",
        "            print(f'Epoch number: {i:3} mean variance loss: {loss.item():10.6f}')\n"
      ],
      "execution_count": 65,
      "outputs": []
    },
    {
      "cell_type": "code",
      "metadata": {
        "id": "_8UCHJgBODV-"
      },
      "source": [
        "deepLearningValuation = DeepLearningConditionalExpectation(batch_size=5000, hidden_layer_size=8, seq_len=2, epochs=15, training_size=20)"
      ],
      "execution_count": 68,
      "outputs": []
    },
    {
      "cell_type": "code",
      "metadata": {
        "colab": {
          "base_uri": "https://localhost:8080/"
        },
        "id": "BtcjOwMNOMid",
        "outputId": "f879bf42-b2cc-4ae3-f2a2-d98f04be8313"
      },
      "source": [
        "deepLearningValuation.run()"
      ],
      "execution_count": 69,
      "outputs": [
        {
          "output_type": "stream",
          "text": [
            "Epoch number:   0 mean variance loss:   6.879864\n",
            "Epoch number:   1 mean variance loss:   6.383399\n",
            "Epoch number:   2 mean variance loss:   6.282908\n",
            "Epoch number:   3 mean variance loss:   6.218083\n",
            "Epoch number:   4 mean variance loss:   6.153074\n",
            "Epoch number:   5 mean variance loss:   6.089012\n",
            "Epoch number:   6 mean variance loss:   6.023198\n",
            "Epoch number:   7 mean variance loss:   5.960579\n",
            "Epoch number:   8 mean variance loss:   5.906250\n",
            "Epoch number:   9 mean variance loss:   5.858067\n",
            "Epoch number:  10 mean variance loss:   5.812169\n",
            "Epoch number:  11 mean variance loss:   5.780182\n",
            "Epoch number:  12 mean variance loss:   5.748901\n",
            "Epoch number:  13 mean variance loss:   5.727759\n",
            "Epoch number:  14 mean variance loss:   5.716573\n"
          ],
          "name": "stdout"
        }
      ]
    },
    {
      "cell_type": "code",
      "metadata": {
        "id": "2DNL_VxwOK91"
      },
      "source": [
        "paths = 10000\n",
        "\n",
        "x0 = deepLearningValuation.paths(paths)\n",
        "\n",
        "#deepLearningValuation.init_hidden(paths)\n",
        "\n",
        "# Payoff being pi = max(dx-0,0)\n",
        "payoff = deepLearningValuation.payoff(x0)\n",
        "\n",
        "# Hedge performance pnl = pi - delta * dx\n",
        "output = deepLearningValuation.output(x0)"
      ],
      "execution_count": 70,
      "outputs": []
    },
    {
      "cell_type": "code",
      "metadata": {
        "colab": {
          "base_uri": "https://localhost:8080/",
          "height": 282
        },
        "id": "t6WYgLOQc6ep",
        "outputId": "c45254b3-61c1-43de-b328-3f41387cfa39"
      },
      "source": [
        "m = 1\n",
        "\n",
        "plt.plot(x0[:,m].detach().cpu().numpy(),payoff[:,0].detach().cpu().numpy(), 'x')\n",
        "plt.plot(x0[:,m].detach().cpu().numpy(),output[:,0].detach().cpu().numpy(), 'x')"
      ],
      "execution_count": 71,
      "outputs": [
        {
          "output_type": "execute_result",
          "data": {
            "text/plain": [
              "[<matplotlib.lines.Line2D at 0x7f1bbaa22b00>]"
            ]
          },
          "metadata": {
            "tags": []
          },
          "execution_count": 71
        },
        {
          "output_type": "display_data",
          "data": {
            "image/png": "[encoded data removed]",
            "text/plain": [
              "<Figure size 432x288 with 1 Axes>"
            ]
          },
          "metadata": {
            "tags": [],
            "needs_background": "light"
          }
        }
      ]
    },
    {
      "cell_type": "code",
      "metadata": {
        "id": "h9tmqtg-P6mW"
      },
      "source": [
        ""
      ],
      "execution_count": null,
      "outputs": []
    }
  ]
}