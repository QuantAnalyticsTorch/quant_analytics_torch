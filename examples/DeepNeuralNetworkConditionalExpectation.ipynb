{
 "cells": [
  {
   "cell_type": "markdown",
   "metadata": {
    "colab_type": "text",
    "id": "view-in-github"
   },
   "source": [
    "<a href=\"https://colab.research.google.com/github/QuantAnalyticsTorch/quant_analytics_torch/blob/main/examples/DeepNeuralNetworkConditionalExpectation.ipynb\" target=\"_parent\"><img src=\"https://colab.research.google.com/assets/colab-badge.svg\" alt=\"Open In Colab\"/></a>"
   ]
  },
  {
   "cell_type": "markdown",
   "metadata": {
    "id": "DkR-j0IGKeEu"
   },
   "source": [
    "# Smooth payoff function"
   ]
  },
  {
   "cell_type": "code",
   "execution_count": 2,
   "metadata": {
    "id": "w2iLCwvzKgk1"
   },
   "outputs": [],
   "source": [
    "import math\n",
    "import torch\n",
    "import matplotlib.pyplot as plt"
   ]
  },
  {
   "cell_type": "markdown",
   "metadata": {
    "id": "U338IdslK3w3"
   },
   "source": [
    "Approximate the call option with a smooth version\n",
    "\n",
    "$\\max_if(x,y) = \\begin{cases} \\max(x,y) \\, \\textrm{if} \\left|x-y\\right| > \\epsilon \\\\\n",
    "\\phi(x,y) \\, \\textrm{else}  \\end{cases}$\n",
    "\n",
    "with \n",
    "\n",
    "$\\phi(x,y) = \\frac{1}{2}\\left(x + y + \\Delta + \\frac{(x-y)^2}{4\\Delta}\\right)$"
   ]
  },
  {
   "cell_type": "code",
   "execution_count": 3,
   "metadata": {
    "id": "zFvcRpj-P9HV"
   },
   "outputs": [],
   "source": [
    "EPSILON = 0.001\n",
    "DELTA = torch.tensor(EPSILON/math.sqrt(2))\n",
    "BOUNDARY = torch.tensor(EPSILON*math.sqrt(2))\n",
    "\n",
    "def phi_smooth(x,y):\n",
    "    return (x + y + DELTA + (x - y) ** 2 / DELTA / 4.)/2.\n",
    "\n",
    "def max_if(x,y):\n",
    "    return torch.where(torch.abs(x-y)>BOUNDARY,torch.max(x,y),phi_smooth(x,y))"
   ]
  },
  {
   "cell_type": "code",
   "execution_count": 4,
   "metadata": {
    "colab": {
     "base_uri": "https://localhost:8080/",
     "height": 282
    },
    "id": "4EV7Us8iMY28",
    "outputId": "16562352-f302-4c00-ba4b-829c93c05d10"
   },
   "outputs": [
    {
     "data": {
      "text/plain": [
       "[<matplotlib.lines.Line2D at 0x7f7e8a5b25c0>]"
      ]
     },
     "execution_count": 4,
     "metadata": {
      "tags": []
     },
     "output_type": "execute_result"
    },
    {
     "data": {
      "image/png": "[encoded data removed]",
      "text/plain": [
       "<Figure size 432x288 with 1 Axes>"
      ]
     },
     "metadata": {
      "needs_background": "light",
      "tags": []
     },
     "output_type": "display_data"
    }
   ],
   "source": [
    "x = torch.linspace(-0.002,0.002,51)\n",
    "\n",
    "y_max = torch.max(x,torch.tensor(0))\n",
    "y_max_if = max_if(x,torch.tensor(0))\n",
    "\n",
    "plt.plot(x.numpy(),y_max.numpy())\n",
    "plt.plot(x.numpy(),y_max_if.numpy())"
   ]
  },
  {
   "cell_type": "markdown",
   "metadata": {
    "id": "SGDRWQsdNihm"
   },
   "source": [
    "# Black-Scholes formula"
   ]
  },
  {
   "cell_type": "code",
   "execution_count": 5,
   "metadata": {
    "id": "iPkYtgeRMWnF"
   },
   "outputs": [],
   "source": [
    "def black_torch(f, k, sdtv):\n",
    "    n = torch.distributions.Normal(0, 1).cdf\n",
    "    d1 = torch.log(f / k) / sdtv + sdtv / 2\n",
    "    d2 = d1 - sdtv\n",
    "    return f * n(d1) - k * n(d2)"
   ]
  },
  {
   "cell_type": "code",
   "execution_count": 6,
   "metadata": {
    "colab": {
     "base_uri": "https://localhost:8080/"
    },
    "id": "5u9Y9dWSNnK1",
    "outputId": "96fe7896-f48b-4211-d847-1252b5aa2df2"
   },
   "outputs": [
    {
     "name": "stdout",
     "output_type": "stream",
     "text": [
      "Call option price=0.07965565\n"
     ]
    }
   ],
   "source": [
    "f_t = torch.tensor(1.,requires_grad=True)\n",
    "black_t = black_torch(f_t,1,0.2)\n",
    "print(\"Call option price=\" + str(black_t.detach().numpy()))"
   ]
  },
  {
   "cell_type": "markdown",
   "metadata": {
    "id": "YL7UUOrIONCo"
   },
   "source": [
    "Delta call option"
   ]
  },
  {
   "cell_type": "code",
   "execution_count": 7,
   "metadata": {
    "colab": {
     "base_uri": "https://localhost:8080/"
    },
    "id": "turj3M0MOLMG",
    "outputId": "1478021a-82fa-410f-fdd9-e2023f4d5f88"
   },
   "outputs": [
    {
     "name": "stdout",
     "output_type": "stream",
     "text": [
      "Delta option price=0.5398278\n"
     ]
    }
   ],
   "source": [
    "dx, = torch.autograd.grad(black_t, f_t, create_graph=True, retain_graph=True, allow_unused=True)\n",
    "print(\"Delta option price=\" + str(dx.detach().numpy()))"
   ]
  },
  {
   "cell_type": "markdown",
   "metadata": {
    "id": "AwbvkpywOcvA"
   },
   "source": [
    "# Path simulation lognormal"
   ]
  },
  {
   "cell_type": "code",
   "execution_count": 8,
   "metadata": {
    "id": "ZsacqFY7vpa0"
   },
   "outputs": [],
   "source": [
    "import torch\n",
    "\n",
    "class PathGeneratorLognormal(torch.nn.Module):\n",
    "  def __init__(self, seq_len=2, forwardvariance=torch.tensor(0.04), fwd=100):\n",
    "    super().__init__()\n",
    "    self.seq_len = seq_len\n",
    "    self.input_dim = 1\n",
    "    self.forwardvariance = forwardvariance\n",
    "    self.sigma = torch.sqrt(forwardvariance)\n",
    "    self.fwd = fwd\n",
    "\n",
    "  def paths(self, batch_size):\n",
    "    # Initial state\n",
    "    x0_t = self.fwd * torch.ones( batch_size,  self.input_dim, requires_grad=True)\n",
    "\n",
    "    # Entire path stored in x0\n",
    "    x0 = [x0_t]\n",
    "\n",
    "    # Simulate the Wiener increments\n",
    "    dx = torch.randn(  batch_size,  self.seq_len,  self.input_dim)\n",
    "\n",
    "    for k in range(self.seq_len):\n",
    "      y = x0[-1] * torch.exp(self.sigma * dx[:,k,:] - self.forwardvariance/2)      \n",
    "      x0.append(y)\n",
    "    return x0"
   ]
  },
  {
   "cell_type": "markdown",
   "metadata": {
    "id": "XEhCqda9OcDU"
   },
   "source": [
    "# Payoff"
   ]
  },
  {
   "cell_type": "code",
   "execution_count": 9,
   "metadata": {
    "id": "ezaZn2_cxeQn"
   },
   "outputs": [],
   "source": [
    "def payoff(x0):\n",
    "  return max_if(x0[-1]-torch.tensor(1.),torch.tensor(0.))# - torch.max(x0[:,-1,:]-torch.tensor(1.05),torch.tensor(0.))"
   ]
  },
  {
   "cell_type": "code",
   "execution_count": 10,
   "metadata": {
    "id": "PSwNntMwxkD2"
   },
   "outputs": [],
   "source": [
    "pg = PathGeneratorLognormal(fwd=1)"
   ]
  },
  {
   "cell_type": "code",
   "execution_count": 11,
   "metadata": {
    "colab": {
     "base_uri": "https://localhost:8080/"
    },
    "id": "u71zhIG1xkI-",
    "outputId": "17a96c80-131b-449e-bff4-1d4d1239b5fb"
   },
   "outputs": [
    {
     "name": "stdout",
     "output_type": "stream",
     "text": [
      "[tensor([[1.],\n",
      "        [1.],\n",
      "        [1.]], grad_fn=<MulBackward0>), tensor([[1.2632],\n",
      "        [0.7680],\n",
      "        [1.1666]], grad_fn=<MulBackward0>), tensor([[1.5037],\n",
      "        [0.7735],\n",
      "        [1.1068]], grad_fn=<MulBackward0>)]\n",
      "tensor([[0.5037],\n",
      "        [0.0000],\n",
      "        [0.1068]], grad_fn=<SWhereBackward>)\n"
     ]
    }
   ],
   "source": [
    "x = pg.paths(3)\n",
    "p_t = payoff(x)\n",
    "\n",
    "print(x)\n",
    "print(p_t)"
   ]
  },
  {
   "cell_type": "code",
   "execution_count": 12,
   "metadata": {
    "id": "HfqXiKsqx-rd"
   },
   "outputs": [],
   "source": [
    "dpdx = torch.autograd.grad(p_t.sum(), x[1], create_graph=True, retain_graph=True, allow_unused=True)"
   ]
  },
  {
   "cell_type": "code",
   "execution_count": 13,
   "metadata": {
    "colab": {
     "base_uri": "https://localhost:8080/"
    },
    "id": "Fk95c-Xdx-yd",
    "outputId": "5dbbc3a5-8ed0-4e6b-921e-04133315eba9"
   },
   "outputs": [
    {
     "name": "stdout",
     "output_type": "stream",
     "text": [
      "None\n"
     ]
    },
    {
     "name": "stderr",
     "output_type": "stream",
     "text": [
      "/usr/local/lib/python3.6/dist-packages/ipykernel_launcher.py:1: UserWarning: The .grad attribute of a Tensor that is not a leaf Tensor is being accessed. Its .grad attribute won't be populated during autograd.backward(). If you indeed want the gradient for a non-leaf Tensor, use .retain_grad() on the non-leaf Tensor. If you access the non-leaf Tensor by mistake, make sure you access the leaf Tensor instead. See github.com/pytorch/pytorch/pull/30531 for more informations.\n",
      "  \"\"\"Entry point for launching an IPython kernel.\n"
     ]
    }
   ],
   "source": [
    "print(x[1].grad)"
   ]
  },
  {
   "cell_type": "code",
   "execution_count": 122,
   "metadata": {
    "id": "L8nJY5RWNEby"
   },
   "outputs": [],
   "source": [
    "import torch\n",
    "\n",
    "BETA = 2\n",
    "GAMMA = 0\n",
    "\n",
    "class HyperbolicFunction(torch.nn.Module):\n",
    "  def __init__(self):\n",
    "    super().__init__()\n",
    "\n",
    "  def forward(self,x):\n",
    "    return x + torch.sqrt(x*x+1.)\n",
    "\n",
    "  \n",
    "\n",
    "class DeepLearningConditionalExpectation(torch.nn.Module):\n",
    "  def __init__(self, input_size=1, batch_size=1000, hidden_layer_size=128, output_size=1, epochs=20, training_size=15, seq_len = 2):\n",
    "    super().__init__()\n",
    "\n",
    "    self.batch_size = batch_size\n",
    "    self.hidden_layer_size = hidden_layer_size\n",
    "    self.epochs = epochs\n",
    "    self.training_size = training_size\n",
    "    self.seq_len = seq_len\n",
    "\n",
    "    n_hidden = hidden_layer_size\n",
    "\n",
    "    self.model = torch.nn.Sequential(torch.nn.Linear(input_size, n_hidden),\n",
    "                                     torch.nn.ReLU(inplace=True),\n",
    "                                     torch.nn.Linear(n_hidden, n_hidden),\n",
    "                                     torch.nn.ReLU(inplace=True),\n",
    "                                     torch.nn.Linear(n_hidden, n_hidden),\n",
    "                                     torch.nn.ReLU(inplace=True),\n",
    "                                     torch.nn.Linear(n_hidden, n_hidden),\n",
    "                                     torch.nn.ReLU(inplace=True),\n",
    "                                     torch.nn.Linear(n_hidden, output_size))\n",
    "\n",
    "    self.optimizer = torch.optim.Adam(self.model.parameters(), lr=0.001)\n",
    "\n",
    "    self.input_dim = 1\n",
    "    self.risk_aversion = 20\n",
    "    self.sigma = 0.2\n",
    "\n",
    "    self.pathgenerator = PathGeneratorLognormal(seq_len=self.seq_len, forwardvariance=torch.tensor(0.04), fwd=1.0)\n",
    "\n",
    "\n",
    "\n",
    "  def paths(self, batch_size):\n",
    "    return self.pathgenerator.paths(batch_size)\n",
    "\n",
    "  def payoff(self, x0):\n",
    "    return max_if(x0[-1]-torch.tensor(1.),torch.tensor(0.))# - torch.max(x0[-1]-torch.tensor(1.05),torch.tensor(0.))\n",
    "\n",
    "  def output(self, x0):\n",
    "    return self.model(x0)\n",
    "\n",
    "  def pnl(self, x0, delta, payoff, batch_size):\n",
    "    pnl = torch.zeros(batch_size, self.input_dim)\n",
    "    delta_zero = torch.zeros(batch_size, self.input_dim)\n",
    "\n",
    "    for k in range(self.seq_len):\n",
    "      pnl = pnl + (delta[:,k,:]-delta_zero)  * x0[:,k,:]\n",
    "      delta_zero = delta[:,k,:]\n",
    "\n",
    "    return pnl + payoff - delta[:,-1,:]*x0[:,-1,:]\n",
    "\n",
    "  def run(self):\n",
    "\n",
    "    # Total number of Monte-Carlo simulations\n",
    "    simulation_size = self.batch_size * self.training_size\n",
    "\n",
    "    # Only do one simulation at the beginning\n",
    "    x0_t = self.paths(simulation_size)\n",
    "\n",
    "    # Payoff being pi = max(dx-0,0)\n",
    "    payoff_t = self.payoff(x0_t)\n",
    "\n",
    "    # Pathwise differentiation (here we can take the sum as every path is independent)\n",
    "    dpdx_t,  = torch.autograd.grad(payoff_t.sum(), x0_t[1], create_graph=True, retain_graph=True, allow_unused=True)\n",
    "        \n",
    "    for i in range(self.epochs):\n",
    "\n",
    "      self.model.train()\n",
    "\n",
    "      for j in range(self.training_size):\n",
    "\n",
    "        # Reinitialise the hidden cells\n",
    "        # self.init_hidden(self.batch_size)\n",
    "\n",
    "        # Take a subset of the paths and the payoff and the pathwise derivative\n",
    "        input = x0_t[1][j*self.batch_size:(j+1)*self.batch_size,:].clone().detach().requires_grad_(True)\n",
    "\n",
    "        payoff = payoff_t[j*self.batch_size:(j+1)*self.batch_size,:].clone().detach()\n",
    "\n",
    "        # Pathwise derivate \n",
    "        dpdx = dpdx_t[j*self.batch_size:(j+1)*self.batch_size,:].clone().detach()\n",
    "\n",
    "        #f_w(x) = y\n",
    "        #min_w ||(y-yt)||\n",
    "\n",
    "        #d f_w(x)/dx = dydx\n",
    "        #min_w ||(dydx - dytdx)||\n",
    "\n",
    "        output = self.output(input)\n",
    "\n",
    "        # Differentiate the output with respect to x0\n",
    "        output.sum().backward(retain_graph=True, create_graph=True)\n",
    "        dX = input.grad\n",
    "\n",
    "        input.requires_grad = False\n",
    "\n",
    "        loss = torch.tensor(0., requires_grad=True)\n",
    "\n",
    "        loss = loss + torch.norm(output-payoff)\n",
    "        #loss = loss + BETA * torch.norm(torch.min(output[:,:],torch.tensor(0.0)))\n",
    "        #loss = loss + BETA * torch.norm(torch.max(output[:,:]-torch.tensor(0.05),torch.tensor(0.0)))                \n",
    "        loss = loss + GAMMA * torch.norm(dpdx-dX)\n",
    "\n",
    "        self.optimizer.zero_grad()\n",
    "        # Propagate derivates\n",
    "        loss.backward()\n",
    "        # Optimize\n",
    "        self.optimizer.step()\n",
    "\n",
    "      print(f'Epoch number: {i:3} mean variance loss: {loss.item():10.6f}')\n"
   ]
  },
  {
   "cell_type": "code",
   "execution_count": 129,
   "metadata": {
    "id": "_8UCHJgBODV-"
   },
   "outputs": [],
   "source": [
    "deepLearningValuation = DeepLearningConditionalExpectation(batch_size=1000, hidden_layer_size=32, seq_len=2, epochs=10, training_size=10)"
   ]
  },
  {
   "cell_type": "code",
   "execution_count": 131,
   "metadata": {
    "colab": {
     "base_uri": "https://localhost:8080/"
    },
    "id": "BtcjOwMNOMid",
    "outputId": "97552237-c455-4ac3-cc87-520ad90ef826"
   },
   "outputs": [
    {
     "name": "stdout",
     "output_type": "stream",
     "text": [
      "Epoch number:   0 mean variance loss:   5.000798\n",
      "Epoch number:   1 mean variance loss:   4.903817\n",
      "Epoch number:   2 mean variance loss:   4.873003\n",
      "Epoch number:   3 mean variance loss:   4.863568\n",
      "Epoch number:   4 mean variance loss:   4.883739\n",
      "Epoch number:   5 mean variance loss:   4.899514\n",
      "Epoch number:   6 mean variance loss:   4.888033\n",
      "Epoch number:   7 mean variance loss:   4.867461\n",
      "Epoch number:   8 mean variance loss:   4.852549\n",
      "Epoch number:   9 mean variance loss:   4.848227\n"
     ]
    }
   ],
   "source": [
    "deepLearningValuation.run()"
   ]
  },
  {
   "cell_type": "code",
   "execution_count": 132,
   "metadata": {
    "colab": {
     "base_uri": "https://localhost:8080/"
    },
    "id": "2DNL_VxwOK91",
    "outputId": "fe988a1e-1bb5-4dc3-a031-dbecb64b627e"
   },
   "outputs": [
    {
     "name": "stdout",
     "output_type": "stream",
     "text": [
      "tensor(0.1145, grad_fn=<MeanBackward0>)\n",
      "tensor(0.1113)\n"
     ]
    }
   ],
   "source": [
    "paths = 10000\n",
    "\n",
    "x0 = deepLearningValuation.paths(paths)\n",
    "\n",
    "#deepLearningValuation.init_hidden(paths)\n",
    "\n",
    "# Payoff being pi = max(dx-0,0)\n",
    "payoff = deepLearningValuation.payoff(x0)\n",
    "\n",
    "print(torch.mean(payoff))\n",
    "\n",
    "print(black_torch(torch.tensor(1),1,torch.tensor(0.28)))\n",
    "\n",
    "# Hedge performance pnl = pi - delta * dx\n",
    "output = deepLearningValuation.output(x0[1])"
   ]
  },
  {
   "cell_type": "markdown",
   "metadata": {
    "id": "eAJHABmwKb-u"
   },
   "source": [
    "# Visualise results"
   ]
  },
  {
   "cell_type": "code",
   "execution_count": 133,
   "metadata": {
    "id": "A48Lvp54Ld92"
   },
   "outputs": [],
   "source": [
    "b_t = black_torch(x0[1][:,0],1,0.2)# - black_torch(x0[1][:,0],1.05,0.2)"
   ]
  },
  {
   "cell_type": "code",
   "execution_count": 134,
   "metadata": {
    "colab": {
     "base_uri": "https://localhost:8080/"
    },
    "id": "YjM2UXndLmkv",
    "outputId": "69af8048-82b8-4d3b-84a9-9ba8ca932cb1"
   },
   "outputs": [
    {
     "name": "stdout",
     "output_type": "stream",
     "text": [
      "tensor([0.0211, 0.0916, 0.0220,  ..., 0.0433, 0.1184, 0.0051],\n",
      "       grad_fn=<SubBackward0>)\n"
     ]
    }
   ],
   "source": [
    "print(b_t)"
   ]
  },
  {
   "cell_type": "code",
   "execution_count": 135,
   "metadata": {
    "colab": {
     "base_uri": "https://localhost:8080/",
     "height": 282
    },
    "id": "t6WYgLOQc6ep",
    "outputId": "8cfb6a1c-6256-4769-a76d-75d6fa5b6706"
   },
   "outputs": [
    {
     "data": {
      "text/plain": [
       "[<matplotlib.lines.Line2D at 0x7f7e3c9eb438>]"
      ]
     },
     "execution_count": 135,
     "metadata": {
      "tags": []
     },
     "output_type": "execute_result"
    },
    {
     "data": {
      "image/png": "[encoded data removed]",
      "text/plain": [
       "<Figure size 432x288 with 1 Axes>"
      ]
     },
     "metadata": {
      "needs_background": "light",
      "tags": []
     },
     "output_type": "display_data"
    }
   ],
   "source": [
    "m = 0\n",
    "\n",
    "plt.plot(x0[1][:,0].detach().cpu().numpy(),payoff[:,0].detach().cpu().numpy(), 'x')\n",
    "plt.plot(x0[1][:,0].detach().cpu().numpy(),output[:,0].detach().cpu().numpy(), 'x')\n",
    "plt.plot(x0[1][:,0].detach().cpu().numpy(),b_t.detach().cpu().numpy(), 'x')"
   ]
  },
  {
   "cell_type": "code",
   "execution_count": 27,
   "metadata": {
    "colab": {
     "base_uri": "https://localhost:8080/",
     "height": 282
    },
    "id": "h9tmqtg-P6mW",
    "outputId": "6ec01ef1-d763-479f-fa92-7a75b73f7460"
   },
   "outputs": [
    {
     "data": {
      "text/plain": [
       "[<matplotlib.lines.Line2D at 0x7fd786f6af98>]"
      ]
     },
     "execution_count": 27,
     "metadata": {
      "tags": []
     },
     "output_type": "execute_result"
    },
    {
     "data": {
      "image/png": "[encoded data removed]",
      "text/plain": [
       "<Figure size 432x288 with 1 Axes>"
      ]
     },
     "metadata": {
      "needs_background": "light",
      "tags": []
     },
     "output_type": "display_data"
    }
   ],
   "source": [
    "plt.plot(x0[1][:,0].detach().cpu().numpy(),payoff[:,0].detach().cpu().numpy(), 'x')\n",
    "plt.plot(x0[1][:,0].detach().cpu().numpy(),output[:,0].detach().cpu().numpy(), 'x')\n",
    "plt.plot(x0[1][:,0].detach().cpu().numpy(),b_t.detach().cpu().numpy(), 'x')"
   ]
  },
  {
   "cell_type": "code",
   "execution_count": null,
   "metadata": {
    "id": "qdUaaTv-OHMq"
   },
   "outputs": [],
   "source": []
  },
  {
   "cell_type": "markdown",
   "metadata": {
    "id": "_gZX9fxVhy8y"
   },
   "source": [
    "# Kernel Ridge Regression"
   ]
  },
  {
   "cell_type": "code",
   "execution_count": null,
   "metadata": {
    "id": "UJ-vGYlGiAUx"
   },
   "outputs": [],
   "source": [
    "pg = PathGeneratorLognormal(fwd=1)"
   ]
  },
  {
   "cell_type": "code",
   "execution_count": 106,
   "metadata": {
    "id": "Oc1WlidniENg"
   },
   "outputs": [],
   "source": [
    "x = pg.paths(500)\n",
    "p_t = payoff(x)\n",
    "z = pg.paths(200)\n",
    "pz_t = payoff(z)\n",
    "\n",
    "\n",
    "\n",
    "x_train = x[1].detach().numpy()[:,0]\n",
    "y_train = p_t.detach().numpy()[:,0]\n",
    "x_plot = z[1].detach().numpy()[:,0]\n",
    "y_plot = pz_t.detach().numpy()[:,0]"
   ]
  },
  {
   "cell_type": "code",
   "execution_count": 107,
   "metadata": {
    "colab": {
     "base_uri": "https://localhost:8080/",
     "height": 282
    },
    "id": "MsRS3n2BiK6P",
    "outputId": "d1be70ac-97c9-4031-8555-91e936cb695b"
   },
   "outputs": [
    {
     "data": {
      "text/plain": [
       "[<matplotlib.lines.Line2D at 0x7ff8c6714ba8>]"
      ]
     },
     "execution_count": 107,
     "metadata": {
      "tags": []
     },
     "output_type": "execute_result"
    },
    {
     "data": {
      "image/png": "[encoded data removed]",
      "text/plain": [
       "<Figure size 432x288 with 1 Axes>"
      ]
     },
     "metadata": {
      "needs_background": "light",
      "tags": []
     },
     "output_type": "display_data"
    }
   ],
   "source": [
    "plt.plot(x[1].detach().numpy()[:,0],p_t.detach().numpy()[:,0], 'x')\n",
    "plt.plot(z[1].detach().numpy()[:,0],pz_t.detach().numpy()[:,0], 'x')"
   ]
  },
  {
   "cell_type": "code",
   "execution_count": 108,
   "metadata": {
    "id": "uslvtouQjLIV"
   },
   "outputs": [],
   "source": [
    "import numpy as np"
   ]
  },
  {
   "cell_type": "code",
   "execution_count": 109,
   "metadata": {
    "id": "D9svf7t-iHDv"
   },
   "outputs": [],
   "source": [
    "from sklearn.model_selection import GridSearchCV\n",
    "from sklearn.kernel_ridge import KernelRidge"
   ]
  },
  {
   "cell_type": "code",
   "execution_count": 114,
   "metadata": {
    "id": "jZl1jVyMi-wd"
   },
   "outputs": [],
   "source": [
    "#kr = GridSearchCV(KernelRidge(kernel=f_kernel, gamma=0.1),\n",
    "#                  param_grid={\"alpha\": [1e0, 0.1, 1e-2, 1e-3],\n",
    "#                              \"gamma\": np.logspace(-2, 2, 5)})\n",
    "kr = KernelRidge(kernel=f_kernel,gamma=0.1, degree=2)\n",
    "#kr = KernelRidge(kernel='Gaussian',gamma=0.1)"
   ]
  },
  {
   "cell_type": "code",
   "execution_count": 115,
   "metadata": {
    "colab": {
     "base_uri": "https://localhost:8080/"
    },
    "id": "OBr-HAzhjC6t",
    "outputId": "8881b6ac-b025-4097-eb26-283091fa40a5"
   },
   "outputs": [
    {
     "data": {
      "text/plain": [
       "KernelRidge(alpha=1, coef0=1, degree=2, gamma=0.1,\n",
       "            kernel=<function f_kernel at 0x7ff8c6816d90>, kernel_params=None)"
      ]
     },
     "execution_count": 115,
     "metadata": {
      "tags": []
     },
     "output_type": "execute_result"
    }
   ],
   "source": [
    "kr.fit(x_train.reshape(-1,1), y_train)"
   ]
  },
  {
   "cell_type": "code",
   "execution_count": 116,
   "metadata": {
    "id": "lZW0DdlJjPod"
   },
   "outputs": [],
   "source": [
    "y_fit = kr.predict(x_plot.reshape(-1,1))"
   ]
  },
  {
   "cell_type": "code",
   "execution_count": 117,
   "metadata": {
    "colab": {
     "base_uri": "https://localhost:8080/",
     "height": 282
    },
    "id": "U71UkYSxam_z",
    "outputId": "331b2fd5-5d4a-4e38-fb25-f983ff332837"
   },
   "outputs": [
    {
     "data": {
      "text/plain": [
       "[<matplotlib.lines.Line2D at 0x7ff8c66a7ba8>]"
      ]
     },
     "execution_count": 117,
     "metadata": {
      "tags": []
     },
     "output_type": "execute_result"
    },
    {
     "data": {
      "image/png": "[encoded data removed]",
      "text/plain": [
       "<Figure size 432x288 with 1 Axes>"
      ]
     },
     "metadata": {
      "needs_background": "light",
      "tags": []
     },
     "output_type": "display_data"
    }
   ],
   "source": [
    "plt.plot(z[1].detach().numpy()[:,0],pz_t.detach().numpy()[:,0], 'x')\n",
    "plt.plot(x_plot,y_fit, 'x')"
   ]
  },
  {
   "cell_type": "code",
   "execution_count": 93,
   "metadata": {
    "id": "JTEU4HYha14N"
   },
   "outputs": [],
   "source": [
    "def f_kernel(x,y):\n",
    "  return np.exp(-(x-y)**2)"
   ]
  },
  {
   "cell_type": "code",
   "execution_count": null,
   "metadata": {
    "id": "8a8aXsrobW0U"
   },
   "outputs": [],
   "source": []
  }
 ],
 "metadata": {
  "colab": {
   "authorship_tag": "ABX9TyMNpJWGm/XDwQR2B4nspbg/",
   "collapsed_sections": [],
   "include_colab_link": true,
   "name": "DeepNeuralNetworkConditionalExpectation.ipynb",
   "provenance": [],
   "toc_visible": true
  },
  "kernelspec": {
   "display_name": "Python 3",
   "language": "python",
   "name": "python3"
  },
  "language_info": {
   "codemirror_mode": {
    "name": "ipython",
    "version": 3
   },
   "file_extension": ".py",
   "mimetype": "text/x-python",
   "name": "python",
   "nbconvert_exporter": "python",
   "pygments_lexer": "ipython3",
   "version": "3.7.3"
  }
 },
 "nbformat": 4,
 "nbformat_minor": 4
}
