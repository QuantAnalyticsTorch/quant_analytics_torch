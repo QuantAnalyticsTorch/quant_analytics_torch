{
  "nbformat": 4,
  "nbformat_minor": 0,
  "metadata": {
    "colab": {
      "name": "DeepNeuralNetworkConditionalExpectation.ipynb",
      "provenance": [],
      "collapsed_sections": [],
      "toc_visible": true,
      "authorship_tag": "ABX9TyOR4B+KSoARAy6w0TP58b2S",
      "include_colab_link": true
    },
    "kernelspec": {
      "name": "python3",
      "display_name": "Python 3"
    }
  },
  "cells": [
    {
      "cell_type": "markdown",
      "metadata": {
        "id": "view-in-github",
        "colab_type": "text"
      },
      "source": [
        "<a href=\"https://colab.research.google.com/github/QuantAnalyticsTorch/quant_analytics_torch/blob/main/examples/DeepNeuralNetworkConditionalExpectation.ipynb\" target=\"_parent\"><img src=\"https://colab.research.google.com/assets/colab-badge.svg\" alt=\"Open In Colab\"/></a>"
      ]
    },
    {
      "cell_type": "markdown",
      "metadata": {
        "id": "DkR-j0IGKeEu"
      },
      "source": [
        "# Smooth payoff function"
      ]
    },
    {
      "cell_type": "code",
      "metadata": {
        "id": "w2iLCwvzKgk1"
      },
      "source": [
        "import math\n",
        "import torch\n",
        "import matplotlib.pyplot as plt"
      ],
      "execution_count": 3,
      "outputs": []
    },
    {
      "cell_type": "markdown",
      "metadata": {
        "id": "U338IdslK3w3"
      },
      "source": [
        "Approximate the call option with a smooth version\n",
        "\n",
        "$\\max_if(x,y) = \\begin{cases} \\max(x,y) \\, \\textrm{if} \\left|x-y\\right| > \\epsilon \\\\\n",
        "\\phi(x,y) \\, \\textrm{else}  \\end{cases}$\n",
        "\n",
        "with \n",
        "\n",
        "$\\phi(x,y) = \\frac{1}{2}\\left(x + y + \\Delta + \\frac{(x-y)^2}{4\\Delta}\\right)$"
      ]
    },
    {
      "cell_type": "code",
      "metadata": {
        "id": "zFvcRpj-P9HV"
      },
      "source": [
        "EPSILON = 0.001\n",
        "DELTA = torch.tensor(EPSILON/math.sqrt(2))\n",
        "BOUNDARY = torch.tensor(EPSILON*math.sqrt(2))\n",
        "\n",
        "def phi_smooth(x,y):\n",
        "    return (x + y + DELTA + (x - y) ** 2 / DELTA / 4.)/2.\n",
        "\n",
        "def max_if(x,y):\n",
        "    return torch.where(torch.abs(x-y)>BOUNDARY,torch.max(x,y),phi_smooth(x,y))"
      ],
      "execution_count": 13,
      "outputs": []
    },
    {
      "cell_type": "code",
      "metadata": {
        "colab": {
          "base_uri": "https://localhost:8080/",
          "height": 282
        },
        "id": "4EV7Us8iMY28",
        "outputId": "849464cb-e0bc-4e6a-c610-af8f21753df6"
      },
      "source": [
        "x = torch.linspace(-0.002,0.002,51)\n",
        "\n",
        "y_max = torch.max(x,torch.tensor(0))\n",
        "y_max_if = max_if(x,torch.tensor(0))\n",
        "\n",
        "plt.plot(x.numpy(),y_max.numpy())\n",
        "plt.plot(x.numpy(),y_max_if.numpy())"
      ],
      "execution_count": 20,
      "outputs": [
        {
          "output_type": "execute_result",
          "data": {
            "text/plain": [
              "[<matplotlib.lines.Line2D at 0x7f9412252cc0>]"
            ]
          },
          "metadata": {
            "tags": []
          },
          "execution_count": 20
        },
        {
          "output_type": "display_data",
          "data": {
            "image/png": "[encoded data removed]",
            "text/plain": [
              "<Figure size 432x288 with 1 Axes>"
            ]
          },
          "metadata": {
            "tags": [],
            "needs_background": "light"
          }
        }
      ]
    },
    {
      "cell_type": "markdown",
      "metadata": {
        "id": "SGDRWQsdNihm"
      },
      "source": [
        "# Black-Scholes formula"
      ]
    },
    {
      "cell_type": "code",
      "metadata": {
        "id": "iPkYtgeRMWnF"
      },
      "source": [
        "def black_torch(f, k, sdtv):\n",
        "    n = torch.distributions.Normal(0, 1).cdf\n",
        "    d1 = torch.log(f / k) / sdtv + sdtv / 2\n",
        "    d2 = d1 - sdtv\n",
        "    return f * n(d1) - k * n(d2)"
      ],
      "execution_count": 23,
      "outputs": []
    },
    {
      "cell_type": "code",
      "metadata": {
        "colab": {
          "base_uri": "https://localhost:8080/"
        },
        "id": "5u9Y9dWSNnK1",
        "outputId": "0cb4da19-57b5-4695-ed31-b3c8b43f756c"
      },
      "source": [
        "f_t = torch.tensor(1.,requires_grad=True)\n",
        "black_t = black_torch(f_t,1,0.2)\n",
        "print(\"Call option price=\" + str(black_t.detach().numpy()))"
      ],
      "execution_count": 31,
      "outputs": [
        {
          "output_type": "stream",
          "text": [
            "Call option price=0.07965565\n"
          ],
          "name": "stdout"
        }
      ]
    },
    {
      "cell_type": "markdown",
      "metadata": {
        "id": "YL7UUOrIONCo"
      },
      "source": [
        "Delta call option"
      ]
    },
    {
      "cell_type": "code",
      "metadata": {
        "colab": {
          "base_uri": "https://localhost:8080/"
        },
        "id": "turj3M0MOLMG",
        "outputId": "f8aab351-a3a9-4aae-b384-f8eb9d970ff7"
      },
      "source": [
        "dx, = torch.autograd.grad(black_t, f_t, create_graph=True, retain_graph=True, allow_unused=True)\n",
        "print(\"Delta option price=\" + str(dx.detach().numpy()))"
      ],
      "execution_count": 35,
      "outputs": [
        {
          "output_type": "stream",
          "text": [
            "Delta option price=0.5398278\n"
          ],
          "name": "stdout"
        }
      ]
    },
    {
      "cell_type": "markdown",
      "metadata": {
        "id": "AwbvkpywOcvA"
      },
      "source": [
        "# Path simulation lognormal"
      ]
    },
    {
      "cell_type": "code",
      "metadata": {
        "id": "ZsacqFY7vpa0"
      },
      "source": [
        "import torch\n",
        "\n",
        "class PathGeneratorLognormal(torch.nn.Module):\n",
        "  def __init__(self, seq_len=2, forwardvariance=torch.tensor(0.04), fwd=100):\n",
        "    super().__init__()\n",
        "    self.seq_len = seq_len\n",
        "    self.input_dim = 1\n",
        "    self.forwardvariance = forwardvariance\n",
        "    self.sigma = torch.sqrt(forwardvariance)\n",
        "    self.fwd = fwd\n",
        "\n",
        "  def paths(self, batch_size):\n",
        "    # Initial state\n",
        "    x0_t = self.fwd * torch.ones( batch_size,  self.input_dim, requires_grad=True)\n",
        "\n",
        "    # Entire path stored in x0\n",
        "    x0 = [x0_t]\n",
        "\n",
        "    # Simulate the Wiener increments\n",
        "    dx = torch.randn(  batch_size,  self.seq_len,  self.input_dim)\n",
        "\n",
        "    for k in range(self.seq_len):\n",
        "      y = x0[-1] * torch.exp(self.sigma * dx[:,k,:] - self.forwardvariance/2)      \n",
        "      x0.append(y)\n",
        "    return x0"
      ],
      "execution_count": 36,
      "outputs": []
    },
    {
      "cell_type": "markdown",
      "metadata": {
        "id": "XEhCqda9OcDU"
      },
      "source": [
        "# New Section"
      ]
    },
    {
      "cell_type": "code",
      "metadata": {
        "id": "ezaZn2_cxeQn"
      },
      "source": [
        "def payoff(x0):\n",
        "  return max_if(x0[-1]-torch.tensor(1.),torch.tensor(0.))# - torch.max(x0[:,-1,:]-torch.tensor(1.05),torch.tensor(0.))"
      ],
      "execution_count": null,
      "outputs": []
    },
    {
      "cell_type": "code",
      "metadata": {
        "id": "PSwNntMwxkD2"
      },
      "source": [
        "pg = PathGeneratorLognormal(fwd=1)"
      ],
      "execution_count": null,
      "outputs": []
    },
    {
      "cell_type": "code",
      "metadata": {
        "colab": {
          "base_uri": "https://localhost:8080/"
        },
        "id": "u71zhIG1xkI-",
        "outputId": "491b45e2-1804-42d1-ecf9-c10e33cae3a9"
      },
      "source": [
        "x = pg.paths(5)\n",
        "p_t = payoff(x)\n",
        "\n",
        "print(x_t)\n",
        "print(x)\n",
        "print(p_t)"
      ],
      "execution_count": null,
      "outputs": [
        {
          "output_type": "stream",
          "text": [
            "tensor([[1.],\n",
            "        [1.],\n",
            "        [1.],\n",
            "        [1.],\n",
            "        [1.]], grad_fn=<MulBackward0>)\n",
            "[tensor([[1.],\n",
            "        [1.],\n",
            "        [1.],\n",
            "        [1.],\n",
            "        [1.]], grad_fn=<MulBackward0>), tensor([[1.0484],\n",
            "        [0.9543],\n",
            "        [1.0433],\n",
            "        [0.9123],\n",
            "        [1.2550]], grad_fn=<MulBackward0>), tensor([[0.7274],\n",
            "        [0.9661],\n",
            "        [1.9460],\n",
            "        [0.8957],\n",
            "        [1.2619]], grad_fn=<MulBackward0>)]\n",
            "tensor([[0.0000],\n",
            "        [0.0000],\n",
            "        [0.9460],\n",
            "        [0.0000],\n",
            "        [0.2619]], grad_fn=<SWhereBackward>)\n"
          ],
          "name": "stdout"
        }
      ]
    },
    {
      "cell_type": "code",
      "metadata": {
        "id": "HfqXiKsqx-rd"
      },
      "source": [
        "dpdx = torch.autograd.grad(p_t.sum(), x[1], create_graph=True, retain_graph=True, allow_unused=True)"
      ],
      "execution_count": null,
      "outputs": []
    },
    {
      "cell_type": "code",
      "metadata": {
        "colab": {
          "base_uri": "https://localhost:8080/"
        },
        "id": "n8vUmXzsx-vO",
        "outputId": "11ded00c-661b-4e56-db13-80ac00c2d391"
      },
      "source": [
        "print(dpdx)"
      ],
      "execution_count": null,
      "outputs": [
        {
          "output_type": "stream",
          "text": [
            "(tensor([[0.0000],\n",
            "        [0.0000],\n",
            "        [1.8652],\n",
            "        [0.0000],\n",
            "        [1.0055]], grad_fn=<MulBackward0>),)\n"
          ],
          "name": "stdout"
        }
      ]
    },
    {
      "cell_type": "code",
      "metadata": {
        "colab": {
          "base_uri": "https://localhost:8080/"
        },
        "id": "Fk95c-Xdx-yd",
        "outputId": "eeabef28-aa04-4d28-c6fe-49e0dcf6e83b"
      },
      "source": [
        "print(x_t.grad)"
      ],
      "execution_count": null,
      "outputs": [
        {
          "output_type": "stream",
          "text": [
            "None\n"
          ],
          "name": "stdout"
        },
        {
          "output_type": "stream",
          "text": [
            "/usr/local/lib/python3.6/dist-packages/ipykernel_launcher.py:1: UserWarning: The .grad attribute of a Tensor that is not a leaf Tensor is being accessed. Its .grad attribute won't be populated during autograd.backward(). If you indeed want the gradient for a non-leaf Tensor, use .retain_grad() on the non-leaf Tensor. If you access the non-leaf Tensor by mistake, make sure you access the leaf Tensor instead. See github.com/pytorch/pytorch/pull/30531 for more informations.\n",
            "  \"\"\"Entry point for launching an IPython kernel.\n"
          ],
          "name": "stderr"
        }
      ]
    },
    {
      "cell_type": "code",
      "metadata": {
        "id": "L8nJY5RWNEby"
      },
      "source": [
        "import torch\n",
        "\n",
        "BETA = 2\n",
        "GAMMA = 0\n",
        "\n",
        "class DeepLearningConditionalExpectation(torch.nn.Module):\n",
        "    def __init__(self, input_size=1, batch_size=1000, hidden_layer_size=128, output_size=1, epochs=20, training_size=15, seq_len = 2):\n",
        "        super().__init__()\n",
        "\n",
        "        self.batch_size = batch_size\n",
        "        self.hidden_layer_size = hidden_layer_size\n",
        "        self.epochs = epochs\n",
        "        self.training_size = training_size\n",
        "        self.seq_len = seq_len\n",
        "\n",
        "        n_hidden = hidden_layer_size\n",
        "\n",
        "        self.model = torch.nn.Sequential(torch.nn.Linear(input_size, n_hidden),\n",
        "                                         torch.nn.ReLU(inplace=True),\n",
        "                                         torch.nn.Linear(n_hidden, n_hidden),\n",
        "                                         torch.nn.ReLU(inplace=True),\n",
        "                                         torch.nn.Linear(n_hidden, n_hidden),\n",
        "                                         torch.nn.ReLU(inplace=True),\n",
        "                                         torch.nn.Linear(n_hidden, n_hidden),\n",
        "                                         torch.nn.ReLU(inplace=True),\n",
        "                                         torch.nn.Linear(n_hidden, output_size))\n",
        "\n",
        "        self.optimizer = torch.optim.Adam(self.model.parameters(), lr=0.001)\n",
        "\n",
        "        self.input_dim = 1\n",
        "        self.risk_aversion = 20\n",
        "        self.sigma = 0.2\n",
        "\n",
        "        self.pathgenerator = PathGeneratorLognormal(seq_len=self.seq_len, forwardvariance=torch.tensor(0.04), fwd=1.0)\n",
        "\n",
        "\n",
        "    def init_hidden(self, batch_size):\n",
        "        self.model.hidden_cell = (  torch.zeros(1, batch_size, self.model.hidden_layer_size),\n",
        "                                    torch.zeros(1, batch_size,  self.model.hidden_layer_size))\n",
        "\n",
        "    def paths(self, batch_size):\n",
        "        return self.pathgenerator.paths(batch_size)\n",
        "\n",
        "    def payoff(self, x0):\n",
        "        return max_if(x0[-1]-torch.tensor(1.),torch.tensor(0.)) - torch.max(x0[-1]-torch.tensor(1.05),torch.tensor(0.))\n",
        "\n",
        "    def output(self, x0):\n",
        "        return self.model(x0)\n",
        "\n",
        "    def pnl(self, x0, delta, payoff, batch_size):\n",
        "        pnl = torch.zeros(batch_size, self.input_dim)\n",
        "        delta_zero = torch.zeros(batch_size, self.input_dim)\n",
        "\n",
        "        for k in range(self.seq_len):\n",
        "            pnl = pnl + (delta[:,k,:]-delta_zero)  * x0[:,k,:]\n",
        "            delta_zero = delta[:,k,:]\n",
        "\n",
        "        return pnl + payoff - delta[:,-1,:]*x0[:,-1,:]\n",
        "\n",
        "    def run(self):\n",
        "\n",
        "        # Total number of Monte-Carlo simulations\n",
        "        simulation_size = self.batch_size * self.training_size\n",
        "\n",
        "        # Only do one simulation at the beginning\n",
        "        x0_t = self.paths(simulation_size)\n",
        "\n",
        "        # Payoff being pi = max(dx-0,0)\n",
        "        payoff_t = self.payoff(x0_t)\n",
        "\n",
        "        # Pathwise differentiation (here we can take the sum as every path is independent)\n",
        "        dpdx_t,  = torch.autograd.grad(payoff_t.sum(), x0_t[1], create_graph=True, retain_graph=True, allow_unused=True)\n",
        "        \n",
        "        for i in range(self.epochs):\n",
        "\n",
        "            self.model.train()\n",
        "\n",
        "            for j in range(self.training_size):\n",
        "\n",
        "                # Reinitialise the hidden cells\n",
        "                # self.init_hidden(self.batch_size)\n",
        "\n",
        "                # Take a subset of the paths and the payoff and the pathwise derivative\n",
        "                input = x0_t[1][j*self.batch_size:(j+1)*self.batch_size,:].clone().detach().requires_grad_(True)\n",
        "\n",
        "                payoff = payoff_t[j*self.batch_size:(j+1)*self.batch_size,:].clone().detach()\n",
        "\n",
        "                # Pathwise derivate \n",
        "                dpdx = dpdx_t[j*self.batch_size:(j+1)*self.batch_size,:].clone().detach()\n",
        "\n",
        "                #f_w(x) = y\n",
        "                #min_w ||(y-yt)||\n",
        "\n",
        "                #d f_w(x)/dx = dydx\n",
        "                #min_w ||(dydx - dytdx)||\n",
        "\n",
        "                output = self.output(input)\n",
        "\n",
        "                # Differentiate the output with respect to x0\n",
        "                output.sum().backward(retain_graph=True, create_graph=True)\n",
        "                dX = input.grad\n",
        "\n",
        "                input.requires_grad = False\n",
        "\n",
        "                loss = torch.tensor(0., requires_grad=True)\n",
        "\n",
        "                loss = loss + torch.norm(output-payoff)\n",
        "                loss = loss + BETA * torch.norm(torch.min(output[:,:],torch.tensor(0.0)))\n",
        "                loss = loss + BETA * torch.norm(torch.max(output[:,:]-torch.tensor(0.05),torch.tensor(0.0)))                \n",
        "                loss = loss + GAMMA * torch.norm(dpdx-dX)\n",
        "\n",
        "                self.optimizer.zero_grad()\n",
        "                # Propagate derivates\n",
        "                loss.backward()\n",
        "                # Optimize\n",
        "                self.optimizer.step()\n",
        "\n",
        "            print(f'Epoch number: {i:3} mean variance loss: {loss.item():10.6f}')\n"
      ],
      "execution_count": null,
      "outputs": []
    },
    {
      "cell_type": "code",
      "metadata": {
        "id": "_8UCHJgBODV-"
      },
      "source": [
        "deepLearningValuation = DeepLearningConditionalExpectation(batch_size=10000, hidden_layer_size=32, seq_len=2, epochs=10, training_size=15)"
      ],
      "execution_count": null,
      "outputs": []
    },
    {
      "cell_type": "code",
      "metadata": {
        "colab": {
          "base_uri": "https://localhost:8080/"
        },
        "id": "BtcjOwMNOMid",
        "outputId": "819af0e9-0b7d-43c2-9ee5-8ab4a60623b2"
      },
      "source": [
        "deepLearningValuation.run()"
      ],
      "execution_count": null,
      "outputs": [
        {
          "output_type": "stream",
          "text": [
            "Epoch number:   0 mean variance loss:   2.318749\n",
            "Epoch number:   1 mean variance loss:   2.220040\n",
            "Epoch number:   2 mean variance loss:   2.080791\n",
            "Epoch number:   3 mean variance loss:   2.016557\n",
            "Epoch number:   4 mean variance loss:   1.956434\n",
            "Epoch number:   5 mean variance loss:   1.937937\n",
            "Epoch number:   6 mean variance loss:   1.935381\n",
            "Epoch number:   7 mean variance loss:   1.935308\n",
            "Epoch number:   8 mean variance loss:   1.935287\n",
            "Epoch number:   9 mean variance loss:   1.935219\n"
          ],
          "name": "stdout"
        }
      ]
    },
    {
      "cell_type": "code",
      "metadata": {
        "id": "2DNL_VxwOK91",
        "colab": {
          "base_uri": "https://localhost:8080/"
        },
        "outputId": "daa76fc7-66f9-49e9-8f12-ff152b483de2"
      },
      "source": [
        "paths = 10000\n",
        "\n",
        "x0 = deepLearningValuation.paths(paths)\n",
        "\n",
        "#deepLearningValuation.init_hidden(paths)\n",
        "\n",
        "# Payoff being pi = max(dx-0,0)\n",
        "payoff = deepLearningValuation.payoff(x0)\n",
        "\n",
        "print(torch.mean(payoff))\n",
        "\n",
        "print(black_torch(torch.tensor(1),1,torch.tensor(0.28)))\n",
        "\n",
        "# Hedge performance pnl = pi - delta * dx\n",
        "output = deepLearningValuation.output(x0[1])"
      ],
      "execution_count": null,
      "outputs": [
        {
          "output_type": "stream",
          "text": [
            "tensor(0.0204, grad_fn=<MeanBackward0>)\n",
            "tensor(0.1113)\n"
          ],
          "name": "stdout"
        }
      ]
    },
    {
      "cell_type": "markdown",
      "metadata": {
        "id": "eAJHABmwKb-u"
      },
      "source": [
        "# New Section"
      ]
    },
    {
      "cell_type": "code",
      "metadata": {
        "id": "A48Lvp54Ld92"
      },
      "source": [
        "b_t = black_torch(x0[1][:,0],1,0.2) - black_torch(x0[1][:,0],1.05,0.2)"
      ],
      "execution_count": null,
      "outputs": []
    },
    {
      "cell_type": "code",
      "metadata": {
        "colab": {
          "base_uri": "https://localhost:8080/"
        },
        "id": "YjM2UXndLmkv",
        "outputId": "7bb54859-3044-43ff-d364-bb2edaa7dca4"
      },
      "source": [
        "print(b_t)"
      ],
      "execution_count": null,
      "outputs": [
        {
          "output_type": "stream",
          "text": [
            "tensor([0.0072, 0.0015, 0.0331,  ..., 0.0399, 0.0021, 0.0281],\n",
            "       grad_fn=<SubBackward0>)\n"
          ],
          "name": "stdout"
        }
      ]
    },
    {
      "cell_type": "code",
      "metadata": {
        "colab": {
          "base_uri": "https://localhost:8080/",
          "height": 282
        },
        "id": "t6WYgLOQc6ep",
        "outputId": "725c6398-b3bd-4b13-8f41-27644f20cae8"
      },
      "source": [
        "m = 0\n",
        "\n",
        "plt.plot(x0[1][:,0].detach().cpu().numpy(),payoff[:,0].detach().cpu().numpy(), 'x')\n",
        "plt.plot(x0[1][:,0].detach().cpu().numpy(),output[:,0].detach().cpu().numpy(), 'x')\n",
        "plt.plot(x0[1][:,0].detach().cpu().numpy(),b_t.detach().cpu().numpy(), 'x')"
      ],
      "execution_count": null,
      "outputs": [
        {
          "output_type": "execute_result",
          "data": {
            "text/plain": [
              "[<matplotlib.lines.Line2D at 0x7f1bb204d9b0>]"
            ]
          },
          "metadata": {
            "tags": []
          },
          "execution_count": 631
        },
        {
          "output_type": "display_data",
          "data": {
            "image/png": "[encoded data removed]",
            "text/plain": [
              "<Figure size 432x288 with 1 Axes>"
            ]
          },
          "metadata": {
            "tags": [],
            "needs_background": "light"
          }
        }
      ]
    },
    {
      "cell_type": "code",
      "metadata": {
        "id": "h9tmqtg-P6mW",
        "colab": {
          "base_uri": "https://localhost:8080/",
          "height": 282
        },
        "outputId": "9e42c9ce-3782-4b79-e531-e10641b60bd3"
      },
      "source": [
        "plt.plot(x0[1][:,0].detach().cpu().numpy(),payoff[:,0].detach().cpu().numpy(), 'x')\n",
        "plt.plot(x0[1][:,0].detach().cpu().numpy(),output[:,0].detach().cpu().numpy(), 'x')\n",
        "plt.plot(x0[1][:,0].detach().cpu().numpy(),b_t.detach().cpu().numpy(), 'x')"
      ],
      "execution_count": null,
      "outputs": [
        {
          "output_type": "execute_result",
          "data": {
            "text/plain": [
              "[<matplotlib.lines.Line2D at 0x7f1bb1fe65f8>]"
            ]
          },
          "metadata": {
            "tags": []
          },
          "execution_count": 548
        },
        {
          "output_type": "display_data",
          "data": {
            "image/png": "[encoded data removed]",
            "text/plain": [
              "<Figure size 432x288 with 1 Axes>"
            ]
          },
          "metadata": {
            "tags": [],
            "needs_background": "light"
          }
        }
      ]
    },
    {
      "cell_type": "code",
      "metadata": {
        "id": "qdUaaTv-OHMq"
      },
      "source": [
        ""
      ],
      "execution_count": null,
      "outputs": []
    },
    {
      "cell_type": "code",
      "metadata": {
        "id": "DVcWMckxKe91"
      },
      "source": [
        ""
      ],
      "execution_count": null,
      "outputs": []
    }
  ]
}