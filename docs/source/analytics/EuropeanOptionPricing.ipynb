{
 "cells": [
  {
   "cell_type": "markdown",
   "id": "7fb5eb32-9ef2-4024-8add-5db099f3bca9",
   "metadata": {},
   "source": [
    "# European option pricing in closed form and Monte-Carlo"
   ]
  },
  {
   "cell_type": "code",
   "execution_count": 1,
   "id": "a377e1d2-c98f-479f-8192-c5d73b5b7be7",
   "metadata": {},
   "outputs": [],
   "source": [
    "from quant_analytics_torch.calculators.multivariatebrownianbridge import MultivariateBrownianBridge\n",
    "from quant_analytics_torch.analytics.norminv import norminv\n",
    "from quant_analytics_torch.analytics import maxsoft\n",
    "from quant_analytics_torch.analytics import blackanalytics\n",
    "import torch"
   ]
  },
  {
   "cell_type": "code",
   "execution_count": 2,
   "id": "d35779d8-32be-4da9-9360-e6960772d60d",
   "metadata": {},
   "outputs": [],
   "source": [
    "dim = 1\n",
    "paths = 2**12-1\n",
    "states = 1"
   ]
  },
  {
   "cell_type": "code",
   "execution_count": 3,
   "id": "1bdd339a-2a71-4b89-a25f-06ff5c37ebe0",
   "metadata": {},
   "outputs": [],
   "source": [
    "sobol_engine =  torch.quasirandom.SobolEngine(dim*states)\n",
    "\n",
    "x = sobol_engine.draw(1)\n",
    "x = sobol_engine.draw(paths)\n",
    "\n",
    "y = torch.transpose(norminv(x),0,1)\n",
    "y = torch.reshape(y, shape=(dim,states,paths))"
   ]
  },
  {
   "cell_type": "code",
   "execution_count": 4,
   "id": "44719932-8df5-47cf-ac3f-3081b83cb70f",
   "metadata": {},
   "outputs": [],
   "source": [
    "sigma = torch.tensor(0.2,requires_grad=True)\n",
    "t = torch.tensor(1.0, requires_grad=True)\n",
    "\n",
    "fm = torch.zeros(size=(states,states))\n",
    "\n",
    "fm[0][0] = sigma*sigma*t\n",
    "fwd_cov = torch.zeros(size=(dim, states, states))\n",
    "\n",
    "for i in range(dim):\n",
    "    fwd_cov[i] = fm"
   ]
  },
  {
   "cell_type": "code",
   "execution_count": 5,
   "id": "7dd38187-5297-462e-b27a-ad20e64036d6",
   "metadata": {},
   "outputs": [],
   "source": [
    "multivariate_brownian = MultivariateBrownianBridge(fwd_cov)"
   ]
  },
  {
   "cell_type": "code",
   "execution_count": 6,
   "id": "47d51c8f-ad66-44c7-a5d6-73ce75b29b70",
   "metadata": {},
   "outputs": [],
   "source": [
    "dz = multivariate_brownian.path(y, True)"
   ]
  },
  {
   "cell_type": "code",
   "execution_count": 7,
   "id": "4197e581-66c4-42e8-8c9c-294da3be763f",
   "metadata": {},
   "outputs": [
    {
     "data": {
      "text/plain": [
       "tensor([[[ 0.0000e+00,  1.3490e-01, -1.3490e-01,  ...,  1.3505e-01,\n",
       "           1.2239e-04, -6.9742e-01]]], grad_fn=<CopySlices>)"
      ]
     },
     "execution_count": 7,
     "metadata": {},
     "output_type": "execute_result"
    }
   ],
   "source": [
    "dz"
   ]
  },
  {
   "cell_type": "code",
   "execution_count": 8,
   "id": "375a8a68-44b4-4f81-83ac-1bf0275fdb1d",
   "metadata": {},
   "outputs": [],
   "source": [
    "f = torch.tensor(1.0, requires_grad=True)\n",
    "k = torch.tensor(1.0)"
   ]
  },
  {
   "cell_type": "code",
   "execution_count": 9,
   "id": "c6563a9e-6f6b-41dd-b52c-c7264c0724de",
   "metadata": {},
   "outputs": [],
   "source": [
    "s = f*torch.exp(-fm[0][0]/2 + dz)"
   ]
  },
  {
   "cell_type": "code",
   "execution_count": 10,
   "id": "64617042-fab8-47ed-9d29-ff8b173af23e",
   "metadata": {},
   "outputs": [
    {
     "data": {
      "text/plain": [
       "tensor(0.0795, grad_fn=<MeanBackward0>)"
      ]
     },
     "execution_count": 10,
     "metadata": {},
     "output_type": "execute_result"
    }
   ],
   "source": [
    "v = torch.mean(maxsoft.soft_max_hyperbolic(s-k))\n",
    "v"
   ]
  },
  {
   "cell_type": "code",
   "execution_count": 11,
   "id": "5037d8a2-5669-4cbb-82ef-1c311a7a2184",
   "metadata": {},
   "outputs": [
    {
     "data": {
      "text/plain": [
       "tensor(0.5396, grad_fn=<SumBackward0>)"
      ]
     },
     "execution_count": 11,
     "metadata": {},
     "output_type": "execute_result"
    }
   ],
   "source": [
    "dx, = torch.autograd.grad(v, f, create_graph=True, retain_graph=True, allow_unused=True)\n",
    "dx"
   ]
  },
  {
   "cell_type": "code",
   "execution_count": 12,
   "id": "a5cc05f0-e9c7-47cc-b50a-0ebb37dfa454",
   "metadata": {},
   "outputs": [
    {
     "data": {
      "text/plain": [
       "tensor([4.9992e-07, 5.1022e-07, 5.2071e-07, 5.3177e-07, 5.4340e-07, 5.5542e-07,\n",
       "        5.6820e-07, 5.8136e-07, 5.9509e-07, 6.0959e-07, 6.2485e-07, 6.4087e-07,\n",
       "        6.5784e-07, 6.7558e-07, 6.9427e-07, 7.1411e-07, 7.3509e-07, 7.5741e-07,\n",
       "        7.8106e-07, 8.0624e-07, 8.3313e-07, 8.6184e-07, 8.9254e-07, 9.2564e-07,\n",
       "        9.6121e-07, 9.9964e-07, 1.0412e-06, 1.0864e-06, 1.1357e-06, 1.1898e-06,\n",
       "        1.2492e-06, 1.3149e-06, 1.3878e-06, 1.4693e-06, 1.5610e-06, 1.6648e-06,\n",
       "        1.7834e-06, 1.9202e-06, 2.0797e-06, 2.2680e-06, 2.4938e-06, 2.7693e-06,\n",
       "        3.1129e-06, 3.5534e-06, 4.1381e-06, 4.9510e-06, 6.1553e-06, 8.1139e-06,\n",
       "        1.1803e-05, 2.0711e-05, 5.0000e-05, 1.2071e-04, 2.1180e-04, 3.0811e-04,\n",
       "        4.0616e-04, 5.0495e-04, 6.0414e-04, 7.0355e-04, 8.0311e-04, 9.0277e-04,\n",
       "        1.0025e-03, 1.1023e-03, 1.2021e-03, 1.3019e-03, 1.4018e-03, 1.5017e-03,\n",
       "        1.6016e-03, 1.7015e-03, 1.8014e-03, 1.9013e-03, 2.0012e-03, 2.1012e-03,\n",
       "        2.2011e-03, 2.3011e-03, 2.4010e-03, 2.5010e-03, 2.6010e-03, 2.7009e-03,\n",
       "        2.8009e-03, 2.9009e-03, 3.0008e-03, 3.1008e-03, 3.2008e-03, 3.3008e-03,\n",
       "        3.4007e-03, 3.5007e-03, 3.6007e-03, 3.7007e-03, 3.8007e-03, 3.9006e-03,\n",
       "        4.0006e-03, 4.1006e-03, 4.2006e-03, 4.3006e-03, 4.4006e-03, 4.5006e-03,\n",
       "        4.6005e-03, 4.7005e-03, 4.8005e-03, 4.9005e-03, 5.0005e-03])"
      ]
     },
     "execution_count": 12,
     "metadata": {},
     "output_type": "execute_result"
    }
   ],
   "source": [
    "x = torch.linspace(-0.005,0.005,101)\n",
    "y = maxsoft.soft_max_hyperbolic(x,0.0001)\n",
    "y"
   ]
  },
  {
   "cell_type": "code",
   "execution_count": 13,
   "id": "c43ae496-8430-4d4e-bd75-1c4fb23fc777",
   "metadata": {},
   "outputs": [],
   "source": [
    "import matplotlib.pyplot as plt"
   ]
  },
  {
   "cell_type": "code",
   "execution_count": 14,
   "id": "ec78a1f4-43a6-42e0-b2e8-ac3ab0c545dd",
   "metadata": {},
   "outputs": [
    {
     "data": {
      "text/plain": [
       "[<matplotlib.lines.Line2D at 0x25e0b389668>]"
      ]
     },
     "execution_count": 14,
     "metadata": {},
     "output_type": "execute_result"
    },
    {
     "data": {
      "image/png": "[encoded data removed]",
      "text/plain": [
       "<Figure size 432x288 with 1 Axes>"
      ]
     },
     "metadata": {
      "needs_background": "light"
     },
     "output_type": "display_data"
    }
   ],
   "source": [
    "plt.plot(x,y)"
   ]
  },
  {
   "cell_type": "code",
   "execution_count": 15,
   "id": "1e80d5c4-6dc5-48d1-b8b8-51aa367023e1",
   "metadata": {},
   "outputs": [
    {
     "data": {
      "text/plain": [
       "tensor(0.5398, grad_fn=<AddBackward0>)"
      ]
     },
     "execution_count": 15,
     "metadata": {},
     "output_type": "execute_result"
    }
   ],
   "source": [
    "v = blackanalytics.black_torch(f,k,t,sigma,0)\n",
    "dx, = torch.autograd.grad(v, f, create_graph=True, retain_graph=True, allow_unused=True)\n",
    "dx"
   ]
  },
  {
   "cell_type": "code",
   "execution_count": null,
   "id": "992c79b4-a456-43cb-8842-046dcf4b94a9",
   "metadata": {},
   "outputs": [],
   "source": []
  }
 ],
 "metadata": {
  "kernelspec": {
   "display_name": "Python 3",
   "language": "python",
   "name": "python3"
  },
  "language_info": {
   "codemirror_mode": {
    "name": "ipython",
    "version": 3
   },
   "file_extension": ".py",
   "mimetype": "text/x-python",
   "name": "python",
   "nbconvert_exporter": "python",
   "pygments_lexer": "ipython3",
   "version": "3.7.3"
  }
 },
 "nbformat": 4,
 "nbformat_minor": 5
}
