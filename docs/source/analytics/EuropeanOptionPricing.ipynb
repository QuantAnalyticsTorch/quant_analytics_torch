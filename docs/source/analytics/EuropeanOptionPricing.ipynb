{
 "cells": [
  {
   "cell_type": "markdown",
   "id": "7fb5eb32-9ef2-4024-8add-5db099f3bca9",
   "metadata": {},
   "source": [
    "# European option pricing in closed form and Monte-Carlo"
   ]
  },
  {
   "cell_type": "code",
   "execution_count": 2,
   "id": "a377e1d2-c98f-479f-8192-c5d73b5b7be7",
   "metadata": {},
   "outputs": [],
   "source": [
    "from quant_analytics_torch.calculators.multivariatebrownianbridge import MultivariateBrownianBridge\n",
    "from quant_analytics_torch.analytics.norminv import norminv\n",
    "from quant_analytics_torch.analytics import maxsoft\n",
    "from quant_analytics_torch.analytics import blackanalytics\n",
    "import torch"
   ]
  },
  {
   "cell_type": "code",
   "execution_count": 40,
   "id": "9cb5229b-e034-4c35-aa3e-40783a638220",
   "metadata": {},
   "outputs": [],
   "source": [
    "torch.set_default_dtype(torch.float64)"
   ]
  },
  {
   "cell_type": "markdown",
   "id": "4ec45e36-7e25-401b-aaf6-2d704e72af52",
   "metadata": {},
   "source": [
    "Illustrate the pricing of a European option with payoff function $f(x)=\\left(x-k\\right)^+$ using both closed form solution and Monte-Carlo"
   ]
  },
  {
   "cell_type": "code",
   "execution_count": 41,
   "id": "adaefa51-0bbb-4776-a006-f043c044d1b3",
   "metadata": {},
   "outputs": [],
   "source": [
    "f = torch.tensor(1.0, requires_grad=True)\n",
    "k = torch.tensor(1.0)\n",
    "sigma = torch.tensor(0.2,requires_grad=True)\n",
    "t = torch.tensor(1.0)"
   ]
  },
  {
   "cell_type": "markdown",
   "id": "2e98b1cd-2008-48a7-920b-4ecb066b7109",
   "metadata": {},
   "source": [
    "Use closed form pricing first, and show the $\\Delta$"
   ]
  },
  {
   "cell_type": "code",
   "execution_count": 42,
   "id": "b2e3768a-0709-45bd-8168-0d9abc444a35",
   "metadata": {},
   "outputs": [
    {
     "name": "stdout",
     "output_type": "stream",
     "text": [
      "tensor(0.0797, grad_fn=<SubBackward0>)\n",
      "tensor(0.5398)\n"
     ]
    }
   ],
   "source": [
    "v = blackanalytics.black_torch(f,k,t,sigma,0)\n",
    "print(v)\n",
    "dx, = torch.autograd.grad(v, f)\n",
    "print(dx)"
   ]
  },
  {
   "cell_type": "markdown",
   "id": "fe1bb590-23b0-49bd-8431-1bef6b4bfe8f",
   "metadata": {},
   "source": [
    "Next we do the same using Monte-Carlo. First we build the forward covariance matrix"
   ]
  },
  {
   "cell_type": "code",
   "execution_count": 43,
   "id": "91ada58e-1218-4a5f-b999-c7369d36ef5b",
   "metadata": {},
   "outputs": [],
   "source": [
    "states = 1\n",
    "dim = 1\n",
    "\n",
    "fm = torch.zeros(size=(states,states))\n",
    "\n",
    "fm[0][0] = sigma*sigma*t\n",
    "fwd_cov = torch.zeros(size=(dim, states, states))\n",
    "\n",
    "for i in range(dim):\n",
    "    fwd_cov[i] = fm"
   ]
  },
  {
   "cell_type": "markdown",
   "id": "2f7f43c1-ee9c-47e2-bf78-ec8685fd61b9",
   "metadata": {},
   "source": [
    "Initialise the multivariate Brownian bridge"
   ]
  },
  {
   "cell_type": "code",
   "execution_count": 44,
   "id": "a4ffe2e8-b2f5-4def-a819-17af092ab533",
   "metadata": {},
   "outputs": [],
   "source": [
    "multivariate_brownian = MultivariateBrownianBridge(fwd_cov)"
   ]
  },
  {
   "cell_type": "markdown",
   "id": "bf637164-19ee-4aa3-a71f-81ce829514cd",
   "metadata": {},
   "source": [
    "Initialise the SobolEngine. Note that we need to skip the first path"
   ]
  },
  {
   "cell_type": "code",
   "execution_count": 45,
   "id": "9361b05c-114f-48ac-bf2b-36f6b40f6c62",
   "metadata": {},
   "outputs": [],
   "source": [
    "sobol_engine =  torch.quasirandom.SobolEngine(dim*states)\n",
    "x = sobol_engine.draw(1)"
   ]
  },
  {
   "cell_type": "code",
   "execution_count": 51,
   "id": "d35779d8-32be-4da9-9360-e6960772d60d",
   "metadata": {},
   "outputs": [],
   "source": [
    "paths = 2**13-1\n",
    "x = sobol_engine.draw(paths,dtype=torch.float64)"
   ]
  },
  {
   "cell_type": "code",
   "execution_count": 52,
   "id": "1bdd339a-2a71-4b89-a25f-06ff5c37ebe0",
   "metadata": {},
   "outputs": [],
   "source": [
    "y = torch.transpose(norminv(x),0,1)\n",
    "y = torch.reshape(y, shape=(dim,states,paths))"
   ]
  },
  {
   "cell_type": "code",
   "execution_count": 53,
   "id": "47d51c8f-ad66-44c7-a5d6-73ce75b29b70",
   "metadata": {},
   "outputs": [],
   "source": [
    "dz = multivariate_brownian.path(y, True)"
   ]
  },
  {
   "cell_type": "markdown",
   "id": "ec159aa6-53a5-42d8-bcab-f66a84781628",
   "metadata": {},
   "source": [
    "Simulate the underlying"
   ]
  },
  {
   "cell_type": "code",
   "execution_count": 54,
   "id": "c6563a9e-6f6b-41dd-b52c-c7264c0724de",
   "metadata": {},
   "outputs": [],
   "source": [
    "s = f*torch.exp(-fm[0][0]/2 + dz)"
   ]
  },
  {
   "cell_type": "markdown",
   "id": "ed713924-686b-4663-9aac-f718f21aab68",
   "metadata": {},
   "source": [
    "Evaluate the payoff. Note that value aligns very closely with the closed form solution"
   ]
  },
  {
   "cell_type": "code",
   "execution_count": 55,
   "id": "64617042-fab8-47ed-9d29-ff8b173af23e",
   "metadata": {},
   "outputs": [
    {
     "name": "stdout",
     "output_type": "stream",
     "text": [
      "tensor(0.0797, grad_fn=<MeanBackward0>)\n",
      "tensor(0.5399, grad_fn=<SumBackward0>)\n"
     ]
    }
   ],
   "source": [
    "v = torch.mean(maxsoft.soft_max_hyperbolic(s-k))\n",
    "print(v)\n",
    "dx, = torch.autograd.grad(v, f, create_graph=True, retain_graph=True, allow_unused=True)\n",
    "print(dx)"
   ]
  },
  {
   "cell_type": "code",
   "execution_count": null,
   "id": "34591137-44b2-413a-892c-e5b859b17d60",
   "metadata": {},
   "outputs": [],
   "source": []
  }
 ],
 "metadata": {
  "kernelspec": {
   "display_name": "Python 3",
   "language": "python",
   "name": "python3"
  },
  "language_info": {
   "codemirror_mode": {
    "name": "ipython",
    "version": 3
   },
   "file_extension": ".py",
   "mimetype": "text/x-python",
   "name": "python",
   "nbconvert_exporter": "python",
   "pygments_lexer": "ipython3",
   "version": "3.7.3"
  }
 },
 "nbformat": 4,
 "nbformat_minor": 5
}
