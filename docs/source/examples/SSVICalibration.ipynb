{
  "nbformat": 4,
  "nbformat_minor": 0,
  "metadata": {
    "colab": {
      "name": "MultiStepOptimiser.ipynb",
      "provenance": [],
      "authorship_tag": "ABX9TyMZlvmSN+wxjwFXHYDBIK5l",
      "include_colab_link": true
    },
    "kernelspec": {
      "name": "python3",
      "display_name": "Python 3"
    }
  },
  "cells": [
    {
      "cell_type": "code",
      "metadata": {
        "id": "Uhh43zQp8uT4"
      },
      "source": [
        "import torch"
      ],
      "execution_count": 1,
      "outputs": []
    },
    {
      "cell_type": "code",
      "execution_count": 55,
      "metadata": {},
      "outputs": [],
      "source": [
        "class SSVI(torch.nn.Module):\n",
        "  def __init__(self):\n",
        "    super().__init__()\n",
        "\n",
        "    self.a = torch.nn.parameter.Parameter(torch.Tensor([0.]))\n",
        "    self.b = torch.nn.parameter.Parameter(torch.Tensor([0.]))\n",
        "    self.c = torch.nn.parameter.Parameter(torch.Tensor([0.]))    \n",
        "\n",
        "  def forward(self, x):\n",
        "      return self.a + self.b * x + self.c * x*x\n"
      ]
    },
    {
      "cell_type": "code",
      "execution_count": 123,
      "metadata": {},
      "outputs": [],
      "source": [
        "ssvi = SSVI()\n",
        "\n",
        "x = torch.Tensor([-1,0.,1])\n",
        "\n",
        "y = torch.Tensor([1,0,1])\n",
        "\n",
        "#optimizer = torch.optim.Adam(ssvi.parameters(), lr=0.1)\n",
        "optimizer = torch.optim.SGD(ssvi.parameters(), lr=0.25)\n",
        "\n"
      ]
    },
    {
      "cell_type": "code",
      "execution_count": 126,
      "metadata": {},
      "outputs": [
        {
          "output_type": "stream",
          "name": "stdout",
          "text": [
            "tensor([1.3750, 0.2186, 1.3750], grad_fn=<AddBackward0>)\nNone\ntensor([ 0.6259, -0.2036,  0.6259], grad_fn=<AddBackward0>)\nNone\ntensor([1.3757, 0.2162, 1.3757], grad_fn=<AddBackward0>)\nNone\ntensor([ 0.6265, -0.2055,  0.6265], grad_fn=<AddBackward0>)\nNone\ntensor([1.3761, 0.2146, 1.3761], grad_fn=<AddBackward0>)\nNone\ntensor([ 0.6268, -0.2068,  0.6268], grad_fn=<AddBackward0>)\nNone\ntensor([1.3764, 0.2136, 1.3764], grad_fn=<AddBackward0>)\nNone\ntensor([ 0.6271, -0.2076,  0.6271], grad_fn=<AddBackward0>)\nNone\ntensor([1.3766, 0.2129, 1.3766], grad_fn=<AddBackward0>)\nNone\ntensor([ 0.6272, -0.2082,  0.6272], grad_fn=<AddBackward0>)\nNone\n"
          ]
        }
      ],
      "source": [
        "for i in range(10):\n",
        "    optimizer.zero_grad()\n",
        "\n",
        "    output = ssvi.forward(x)\n",
        "    print(output)\n",
        "    loss = torch.norm(output-y.detach().clone().detach())\n",
        "    loss.backward()\n",
        "    optimizer.step()\n",
        "    print(y.grad)"
      ]
    },
    {
      "cell_type": "code",
      "execution_count": 146,
      "metadata": {},
      "outputs": [],
      "source": [
        "ssvi = SSVI()\n",
        "\n",
        "x = torch.tensor([-1,0.,1])\n",
        "\n",
        "y = torch.tensor([2.,0.,2.], requires_grad=True)\n",
        "\n",
        "optimizer = torch.optim.LBFGS(ssvi.parameters(), lr=0.05)"
      ]
    },
    {
      "cell_type": "code",
      "execution_count": 148,
      "metadata": {},
      "outputs": [
        {
          "output_type": "stream",
          "name": "stdout",
          "text": [
            "tensor([ -1.6040, -10.8230,  -1.6040])\ntensor([ -2.2257, -10.3466,  -2.2257])\ntensor([-2.7734, -9.7142, -2.7734])\ntensor([-3.2275, -8.9476, -3.2275])\ntensor([-3.5715, -8.0740, -3.5715])\ntensor([-3.7933, -7.1244, -3.7933])\ntensor([-3.8836, -6.1326, -3.8836])\ntensor([-3.8382, -5.1347, -3.8382])\ntensor([-3.6594, -4.1672, -3.6594])\ntensor([-3.3526, -3.2662, -3.3526])\ntensor([-2.9287, -2.4659, -2.9287])\ntensor([-2.4044, -1.7949, -2.4044])\ntensor([-1.7983, -1.2797, -1.7983])\ntensor([-1.1327, -0.9420, -1.1327])\ntensor([-0.4336, -0.7919, -0.4336])\ntensor([ 0.2727, -0.8366,  0.2727])\ntensor([ 0.9595, -1.0751,  0.9595])\ntensor([ 1.6006, -1.4967,  1.6006])\ntensor([ 2.1674, -2.0946,  2.1674])\ntensor([ 2.6492, -2.8265,  2.6492])\n"
          ]
        }
      ],
      "source": [
        "for i in range(1):\n",
        "    def closure():\n",
        "        print(y.grad)\n",
        "        optimizer.zero_grad()        \n",
        "        output = ssvi.forward(x)    \n",
        "        loss = torch.norm(output-y)\n",
        "        loss.backward()\n",
        "        return loss\n",
        "    optimizer.step(closure)"
      ]
    },
    {
      "cell_type": "code",
      "execution_count": 149,
      "metadata": {},
      "outputs": [
        {
          "output_type": "stream",
          "name": "stdout",
          "text": [
            "tensor([2.0000e+00, 3.2079e-06, 2.0000e+00], grad_fn=<AddBackward0>)\n"
          ]
        }
      ],
      "source": [
        "output = ssvi.forward(x)\n",
        "print(output)"
      ]
    },
    {
      "cell_type": "code",
      "execution_count": 157,
      "metadata": {},
      "outputs": [],
      "source": [
        "A = torch.zeros(size=(3,3))\n",
        "\n",
        "for j,jt in enumerate(ssvi.parameters()):\n",
        "    for i,it in enumerate(output):\n",
        "        dx, = torch.autograd.grad(it, jt, create_graph=True, retain_graph=True, allow_unused=True)\n",
        "        A[i,j] = dx"
      ]
    },
    {
      "cell_type": "code",
      "execution_count": 158,
      "metadata": {},
      "outputs": [
        {
          "output_type": "execute_result",
          "data": {
            "text/plain": [
              "tensor([[ 0.0000,  1.0000,  0.0000],\n",
              "        [-0.5000,  0.0000,  0.5000],\n",
              "        [ 0.5000, -1.0000,  0.5000]])"
            ]
          },
          "metadata": {},
          "execution_count": 158
        }
      ],
      "source": [
        "torch.inverse(A)"
      ]
    },
    {
      "cell_type": "code",
      "execution_count": 135,
      "metadata": {},
      "outputs": [
        {
          "output_type": "execute_result",
          "data": {
            "text/plain": [
              "tensor([1.4875])"
            ]
          },
          "metadata": {},
          "execution_count": 135
        }
      ],
      "source": [
        "ssvi.a.grad"
      ]
    },
    {
      "cell_type": "code",
      "execution_count": 144,
      "metadata": {},
      "outputs": [
        {
          "output_type": "error",
          "ename": "TypeError",
          "evalue": "step() missing 1 required positional argument: 'closure'",
          "traceback": [
            "\u001b[1;31m---------------------------------------------------------------------------\u001b[0m",
            "\u001b[1;31mTypeError\u001b[0m                                 Traceback (most recent call last)",
            "\u001b[1;32m<ipython-input-144-acf4408ac7f6>\u001b[0m in \u001b[0;36m<module>\u001b[1;34m\u001b[0m\n\u001b[0;32m      2\u001b[0m \u001b[0mloss\u001b[0m \u001b[1;33m=\u001b[0m \u001b[0mtorch\u001b[0m\u001b[1;33m.\u001b[0m\u001b[0mnorm\u001b[0m\u001b[1;33m(\u001b[0m\u001b[0moutput\u001b[0m\u001b[1;33m-\u001b[0m\u001b[0my\u001b[0m\u001b[1;33m)\u001b[0m\u001b[1;33m\u001b[0m\u001b[1;33m\u001b[0m\u001b[0m\n\u001b[0;32m      3\u001b[0m \u001b[0mloss\u001b[0m\u001b[1;33m.\u001b[0m\u001b[0mbackward\u001b[0m\u001b[1;33m(\u001b[0m\u001b[1;33m)\u001b[0m\u001b[1;33m\u001b[0m\u001b[1;33m\u001b[0m\u001b[0m\n\u001b[1;32m----> 4\u001b[1;33m \u001b[0moptimizer\u001b[0m\u001b[1;33m.\u001b[0m\u001b[0mstep\u001b[0m\u001b[1;33m(\u001b[0m\u001b[1;33m)\u001b[0m\u001b[1;33m\u001b[0m\u001b[1;33m\u001b[0m\u001b[0m\n\u001b[0m\u001b[0;32m      5\u001b[0m \u001b[0my\u001b[0m\u001b[1;33m.\u001b[0m\u001b[0mgrad\u001b[0m\u001b[1;33m\u001b[0m\u001b[1;33m\u001b[0m\u001b[0m\n",
            "\u001b[1;31mTypeError\u001b[0m: step() missing 1 required positional argument: 'closure'"
          ]
        }
      ],
      "source": [
        "output = ssvi.forward(x)\n",
        "loss = torch.norm(output-y)\n",
        "loss.backward()\n",
        "optimizer.step()\n",
        "y.grad"
      ]
    },
    {
      "cell_type": "code",
      "execution_count": null,
      "metadata": {},
      "outputs": [],
      "source": []
    }
  ]
}