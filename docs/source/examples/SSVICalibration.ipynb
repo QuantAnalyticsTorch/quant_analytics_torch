{
 "cells": [
  {
   "cell_type": "code",
   "execution_count": 12,
   "metadata": {
    "id": "Uhh43zQp8uT4"
   },
   "outputs": [],
   "source": [
    "import torch"
   ]
  },
  {
   "cell_type": "code",
   "execution_count": 2,
   "metadata": {},
   "outputs": [],
   "source": [
    "class SSVI(torch.nn.Module):\n",
    "  def __init__(self):\n",
    "    super().__init__()\n",
    "\n",
    "    self.a = torch.nn.parameter.Parameter(torch.Tensor([0.]))\n",
    "    self.b = torch.nn.parameter.Parameter(torch.Tensor([0.]))\n",
    "    self.c = torch.nn.parameter.Parameter(torch.Tensor([0.]))    \n",
    "\n",
    "  def forward(self, x):\n",
    "      return self.a + self.b * x + self.c * x*x\n"
   ]
  },
  {
   "cell_type": "code",
   "execution_count": 3,
   "metadata": {},
   "outputs": [],
   "source": [
    "ssvi = SSVI()\n",
    "\n",
    "x = torch.Tensor([-1,0.,1])\n",
    "\n",
    "y = torch.Tensor([1,0,1])\n",
    "\n",
    "#optimizer = torch.optim.Adam(ssvi.parameters(), lr=0.1)\n",
    "optimizer = torch.optim.SGD(ssvi.parameters(), lr=0.25)\n",
    "\n"
   ]
  },
  {
   "cell_type": "code",
   "execution_count": 4,
   "metadata": {},
   "outputs": [
    {
     "name": "stdout",
     "output_type": "stream",
     "text": [
      "tensor([0., 0., 0.], grad_fn=<AddBackward0>)\n",
      "None\n",
      "tensor([0.7071, 0.3536, 0.7071], grad_fn=<AddBackward0>)\n",
      "None\n",
      "tensor([1.0826, 0.4602, 1.0826], grad_fn=<AddBackward0>)\n",
      "None\n",
      "tensor([0.6663, 0.1308, 0.6663], grad_fn=<AddBackward0>)\n",
      "None\n",
      "tensor([1.2809, 0.4048, 1.2809], grad_fn=<AddBackward0>)\n",
      "None\n",
      "tensor([ 0.6072, -0.0213,  0.6072], grad_fn=<AddBackward0>)\n",
      "None\n",
      "tensor([1.3234, 0.3416, 1.3234], grad_fn=<AddBackward0>)\n",
      "None\n",
      "tensor([ 0.6072, -0.0913,  0.6072], grad_fn=<AddBackward0>)\n",
      "None\n",
      "tensor([1.3455, 0.2981, 1.3455], grad_fn=<AddBackward0>)\n",
      "None\n",
      "tensor([ 0.6117, -0.1339,  0.6117], grad_fn=<AddBackward0>)\n",
      "None\n"
     ]
    }
   ],
   "source": [
    "for i in range(10):\n",
    "    optimizer.zero_grad()\n",
    "\n",
    "    output = ssvi.forward(x)\n",
    "    print(output)\n",
    "    loss = torch.norm(output-y.detach().clone().detach())\n",
    "    loss.backward()\n",
    "    optimizer.step()\n",
    "    print(y.grad)"
   ]
  },
  {
   "cell_type": "code",
   "execution_count": 5,
   "metadata": {},
   "outputs": [],
   "source": [
    "ssvi = SSVI()\n",
    "\n",
    "x = torch.tensor([-1,0.,1])\n",
    "\n",
    "y = torch.tensor([2.,0.,2.], requires_grad=True)\n",
    "\n",
    "optimizer = torch.optim.LBFGS(ssvi.parameters(), lr=0.05)"
   ]
  },
  {
   "cell_type": "code",
   "execution_count": 6,
   "metadata": {},
   "outputs": [
    {
     "name": "stdout",
     "output_type": "stream",
     "text": [
      "None\n",
      "tensor([0.7071, -0.0000, 0.7071])\n",
      "tensor([ 1.4142, -0.0091,  1.4142])\n",
      "tensor([ 2.0799, -0.3463,  2.0799])\n",
      "tensor([ 2.5525, -1.0901,  2.5525])\n",
      "tensor([ 2.9713, -1.8958,  2.9713])\n",
      "tensor([ 3.3515, -2.7390,  3.3515])\n",
      "tensor([ 3.6573, -3.6407,  3.6573])\n",
      "tensor([ 3.8347, -4.6087,  3.8347])\n",
      "tensor([ 3.8691, -5.6075,  3.8691])\n",
      "tensor([ 3.7880, -6.6009,  3.7880])\n",
      "tensor([ 3.6030, -7.5660,  3.6030])\n",
      "tensor([ 3.3073, -8.4744,  3.3073])\n",
      "tensor([ 2.8988, -9.2907,  2.8988])\n",
      "tensor([ 2.3922, -9.9883,  2.3922])\n",
      "tensor([  1.8076, -10.5509,   1.8076])\n",
      "tensor([  1.1629, -10.9617,   1.1629])\n",
      "tensor([  0.4764, -11.2012,   0.4764])\n",
      "tensor([ -0.2296, -11.2574,  -0.2296])\n",
      "tensor([ -0.9309, -11.1295,  -0.9309])\n"
     ]
    }
   ],
   "source": [
    "for i in range(1):\n",
    "    def closure():\n",
    "        print(y.grad)\n",
    "        optimizer.zero_grad()        \n",
    "        output = ssvi.forward(x)    \n",
    "        loss = torch.norm(output-y)\n",
    "        loss.backward()\n",
    "        return loss\n",
    "    optimizer.step(closure)"
   ]
  },
  {
   "cell_type": "code",
   "execution_count": 7,
   "metadata": {},
   "outputs": [
    {
     "name": "stdout",
     "output_type": "stream",
     "text": [
      "tensor([ 2.0026, -0.0020,  2.0026], grad_fn=<AddBackward0>)\n"
     ]
    }
   ],
   "source": [
    "output = ssvi.forward(x)\n",
    "print(output)"
   ]
  },
  {
   "cell_type": "code",
   "execution_count": 8,
   "metadata": {},
   "outputs": [],
   "source": [
    "A = torch.zeros(size=(3,3))\n",
    "\n",
    "for j,jt in enumerate(ssvi.parameters()):\n",
    "    for i,it in enumerate(output):\n",
    "        dx, = torch.autograd.grad(it, jt, create_graph=True, retain_graph=True, allow_unused=True)\n",
    "        A[i,j] = dx"
   ]
  },
  {
   "cell_type": "code",
   "execution_count": 9,
   "metadata": {},
   "outputs": [
    {
     "data": {
      "text/plain": [
       "tensor([[ 0.0000,  1.0000,  0.0000],\n",
       "        [-0.5000,  0.0000,  0.5000],\n",
       "        [ 0.5000, -1.0000,  0.5000]])"
      ]
     },
     "execution_count": 9,
     "metadata": {},
     "output_type": "execute_result"
    }
   ],
   "source": [
    "torch.inverse(A)"
   ]
  },
  {
   "cell_type": "code",
   "execution_count": 10,
   "metadata": {},
   "outputs": [
    {
     "data": {
      "text/plain": [
       "tensor([1.0397])"
      ]
     },
     "execution_count": 10,
     "metadata": {},
     "output_type": "execute_result"
    }
   ],
   "source": [
    "ssvi.a.grad"
   ]
  },
  {
   "cell_type": "code",
   "execution_count": 11,
   "metadata": {},
   "outputs": [
    {
     "ename": "TypeError",
     "evalue": "step() missing 1 required positional argument: 'closure'",
     "output_type": "error",
     "traceback": [
      "\u001b[1;31m---------------------------------------------------------------------------\u001b[0m",
      "\u001b[1;31mTypeError\u001b[0m                                 Traceback (most recent call last)",
      "\u001b[1;32m<ipython-input-11-acf4408ac7f6>\u001b[0m in \u001b[0;36m<module>\u001b[1;34m\u001b[0m\n\u001b[0;32m      2\u001b[0m \u001b[0mloss\u001b[0m \u001b[1;33m=\u001b[0m \u001b[0mtorch\u001b[0m\u001b[1;33m.\u001b[0m\u001b[0mnorm\u001b[0m\u001b[1;33m(\u001b[0m\u001b[0moutput\u001b[0m\u001b[1;33m-\u001b[0m\u001b[0my\u001b[0m\u001b[1;33m)\u001b[0m\u001b[1;33m\u001b[0m\u001b[1;33m\u001b[0m\u001b[0m\n\u001b[0;32m      3\u001b[0m \u001b[0mloss\u001b[0m\u001b[1;33m.\u001b[0m\u001b[0mbackward\u001b[0m\u001b[1;33m(\u001b[0m\u001b[1;33m)\u001b[0m\u001b[1;33m\u001b[0m\u001b[1;33m\u001b[0m\u001b[0m\n\u001b[1;32m----> 4\u001b[1;33m \u001b[0moptimizer\u001b[0m\u001b[1;33m.\u001b[0m\u001b[0mstep\u001b[0m\u001b[1;33m(\u001b[0m\u001b[1;33m)\u001b[0m\u001b[1;33m\u001b[0m\u001b[1;33m\u001b[0m\u001b[0m\n\u001b[0m\u001b[0;32m      5\u001b[0m \u001b[0my\u001b[0m\u001b[1;33m.\u001b[0m\u001b[0mgrad\u001b[0m\u001b[1;33m\u001b[0m\u001b[1;33m\u001b[0m\u001b[0m\n",
      "\u001b[1;31mTypeError\u001b[0m: step() missing 1 required positional argument: 'closure'"
     ]
    }
   ],
   "source": [
    "output = ssvi.forward(x)\n",
    "loss = torch.norm(output-y)\n",
    "loss.backward()\n",
    "optimizer.step()\n",
    "y.grad"
   ]
  },
  {
   "cell_type": "code",
   "execution_count": null,
   "metadata": {},
   "outputs": [],
   "source": []
  }
 ],
 "metadata": {
  "colab": {
   "authorship_tag": "ABX9TyMZlvmSN+wxjwFXHYDBIK5l",
   "include_colab_link": true,
   "name": "MultiStepOptimiser.ipynb",
   "provenance": []
  },
  "kernelspec": {
   "display_name": "Python 3",
   "language": "python",
   "name": "python3"
  },
  "language_info": {
   "codemirror_mode": {
    "name": "ipython",
    "version": 3
   },
   "file_extension": ".py",
   "mimetype": "text/x-python",
   "name": "python",
   "nbconvert_exporter": "python",
   "pygments_lexer": "ipython3",
   "version": "3.7.3"
  }
 },
 "nbformat": 4,
 "nbformat_minor": 4
}
