{
 "cells": [
  {
   "attachments": {},
   "cell_type": "markdown",
   "metadata": {},
   "source": [
    "## Simulation of the Heston model using the Quadratic exponential scheme"
   ]
  },
  {
   "attachments": {},
   "cell_type": "markdown",
   "metadata": {},
   "source": [
    "Vectorization of the quadratic exponential scheme"
   ]
  },
  {
   "cell_type": "code",
   "execution_count": 35,
   "metadata": {},
   "outputs": [],
   "source": [
    "import torch\n",
    "import numpy as np"
   ]
  },
  {
   "cell_type": "code",
   "execution_count": 36,
   "metadata": {},
   "outputs": [],
   "source": [
    "rho = -0.15\n",
    "theta = (0.25)**2\n",
    "k = 2\n",
    "eta= 0.5\n",
    "dt = 0.25\n",
    "Vt = theta"
   ]
  },
  {
   "cell_type": "code",
   "execution_count": 37,
   "metadata": {},
   "outputs": [
    {
     "data": {
      "text/plain": [
       "0.6321205588285577"
      ]
     },
     "execution_count": 37,
     "metadata": {},
     "output_type": "execute_result"
    }
   ],
   "source": [
    "m = theta+( Vt - theta) * np.exp(-k*dt)\n",
    "s2 = ((Vt*eta**2) * np.exp(-k*dt)/k)*(1-np.exp(-k*dt)) + ( theta*eta**2)*((1-np.exp(-k*dt))**2)/(2*k)\n",
    "phi = s2/m**2\n",
    "phi"
   ]
  },
  {
   "cell_type": "code",
   "execution_count": 38,
   "metadata": {},
   "outputs": [
    {
     "data": {
      "text/plain": [
       "0.04771363180170862"
      ]
     },
     "execution_count": 38,
     "metadata": {},
     "output_type": "execute_result"
    }
   ],
   "source": [
    "u = np.random.uniform()\n",
    "u"
   ]
  },
  {
   "cell_type": "code",
   "execution_count": 39,
   "metadata": {},
   "outputs": [
    {
     "data": {
      "text/plain": [
       "0.06552850598134595"
      ]
     },
     "execution_count": 39,
     "metadata": {},
     "output_type": "execute_result"
    }
   ],
   "source": [
    "u = np.random.uniform()\n",
    "\n",
    "b2 = (2*phi**(-1))-1+2*((2*phi**(-1))**0.5)*((-1+2*phi**(-1))**0.5) \n",
    "a = m/(1+b2)\n",
    "Vnew_1 = a*(u + b2**0.5)**2    #Non central Chi square variable aproximate sufficiently big value of Vt\n",
    "Vnew_1"
   ]
  },
  {
   "cell_type": "code",
   "execution_count": 40,
   "metadata": {},
   "outputs": [
    {
     "data": {
      "text/plain": [
       "0.024863097474136845"
      ]
     },
     "execution_count": 40,
     "metadata": {},
     "output_type": "execute_result"
    }
   ],
   "source": [
    "p = (phi-1)/(phi+1)\n",
    "beta = 2/ (m+m*phi)           #Function of Delta Dirac variable for sufficiently small value of Vt\n",
    "Vnew_2 = (beta**(-1)) * np.log((1-p)/(1-u))\n",
    "Vnew_2 = np.maximum(0,Vnew_2)\n",
    "Vnew_2"
   ]
  },
  {
   "cell_type": "code",
   "execution_count": 41,
   "metadata": {},
   "outputs": [],
   "source": [
    "from quant_analytics_torch.analytics import maxsoft"
   ]
  },
  {
   "cell_type": "code",
   "execution_count": 42,
   "metadata": {},
   "outputs": [],
   "source": [
    "phiC = 1.5\n",
    "p_1 = maxsoft.soft_heavy_side_hyperbolic(torch.tensor(phiC-phi))\n",
    "q_1 = 1. - p_1"
   ]
  },
  {
   "cell_type": "code",
   "execution_count": 43,
   "metadata": {},
   "outputs": [
    {
     "data": {
      "text/plain": [
       "tensor(0.0655, dtype=torch.float64)"
      ]
     },
     "execution_count": 43,
     "metadata": {},
     "output_type": "execute_result"
    }
   ],
   "source": [
    "Vnew = p_1 * Vnew_1 + q_1 * Vnew_2\n",
    "Vnew"
   ]
  },
  {
   "cell_type": "code",
   "execution_count": null,
   "metadata": {},
   "outputs": [],
   "source": []
  }
 ],
 "metadata": {
  "colab": {
   "authorship_tag": "ABX9TyMZlvmSN+wxjwFXHYDBIK5l",
   "include_colab_link": true,
   "name": "MultiStepOptimiser.ipynb",
   "provenance": []
  },
  "kernelspec": {
   "display_name": "Python 3",
   "language": "python",
   "name": "python3"
  },
  "language_info": {
   "codemirror_mode": {
    "name": "ipython",
    "version": 3
   },
   "file_extension": ".py",
   "mimetype": "text/x-python",
   "name": "python",
   "nbconvert_exporter": "python",
   "pygments_lexer": "ipython3",
   "version": "3.11.2"
  }
 },
 "nbformat": 4,
 "nbformat_minor": 4
}
