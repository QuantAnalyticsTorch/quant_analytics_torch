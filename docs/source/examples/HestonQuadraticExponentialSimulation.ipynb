{
 "cells": [
  {
   "attachments": {},
   "cell_type": "markdown",
   "metadata": {},
   "source": [
    "## Simulation of the Heston model using the Quadratic exponential scheme"
   ]
  },
  {
   "attachments": {},
   "cell_type": "markdown",
   "metadata": {},
   "source": [
    "In order to achieve maximum performance of Pytorch in a Monte-Carlo simulation it is critical to vectorize over the number of simulations. Thus we need to remove all 'if' statements from the Quadratic Exponential scheme."
   ]
  },
  {
   "cell_type": "code",
   "execution_count": 157,
   "metadata": {},
   "outputs": [],
   "source": [
    "import torch\n",
    "import numpy as np\n",
    "from quant_analytics_torch.analytics import blackanalytics\n",
    "from icecream import ic"
   ]
  },
  {
   "cell_type": "code",
   "execution_count": 176,
   "metadata": {},
   "outputs": [
    {
     "data": {
      "text/plain": [
       "4095"
      ]
     },
     "execution_count": 176,
     "metadata": {},
     "output_type": "execute_result"
    }
   ],
   "source": [
    "paths =2**12-1\n",
    "n_dt = 32\n",
    "paths"
   ]
  },
  {
   "cell_type": "code",
   "execution_count": 177,
   "metadata": {},
   "outputs": [],
   "source": [
    "rho = torch.tensor(-0.7829, requires_grad=True)\n",
    "v0 = torch.tensor((0.2556)**2, requires_grad=True)\n",
    "theta = torch.tensor((0.3095)**2, requires_grad=True)\n",
    "kappa = torch.tensor(3.8, requires_grad=True)\n",
    "eta= torch.tensor(0.9288, requires_grad=True)\n",
    "T = 0.5\n",
    "dt = T/n_dt\n",
    "dim = n_dt"
   ]
  },
  {
   "cell_type": "code",
   "execution_count": 178,
   "metadata": {},
   "outputs": [
    {
     "name": "stderr",
     "output_type": "stream",
     "text": [
      "ic| K3: tensor(0.0030, grad_fn=<MulBackward0>)\n",
      "ic| K4: tensor(0.0030, grad_fn=<MulBackward0>)\n"
     ]
    },
    {
     "data": {
      "text/plain": [
       "tensor(0.0030, grad_fn=<MulBackward0>)"
      ]
     },
     "execution_count": 178,
     "metadata": {},
     "output_type": "execute_result"
    }
   ],
   "source": [
    "gamma1 = 0.5\n",
    "gamma2 = 0.5\n",
    "\n",
    "K0 = -(rho*kappa*theta)*dt/eta\n",
    "K1 = gamma1*dt*(-0.5+(kappa*rho/eta))-(rho/eta)\n",
    "K2 = gamma2*dt*(-0.5+(kappa*rho/eta))+(rho/eta)\n",
    "K3 = gamma1*dt*(1-rho**2)\n",
    "K4 = gamma2*dt*(1-rho**2)\n",
    "\n",
    "ic(K3)\n",
    "ic(K4)\n"
   ]
  },
  {
   "cell_type": "code",
   "execution_count": 179,
   "metadata": {},
   "outputs": [],
   "source": [
    "X = torch.zeros([paths])\n",
    "#V = torch.zeros([n_dt+1,paths])\n",
    "Vt = torch.zeros([paths])\n",
    "Vt[:] = theta\n",
    "#V[0] = theta"
   ]
  },
  {
   "cell_type": "code",
   "execution_count": 180,
   "metadata": {},
   "outputs": [],
   "source": [
    "sobol_engine =  torch.quasirandom.SobolEngine(2*dim)\n",
    "# x = sobol_engine.draw(1 + (2**14-1) + (2**12-1) + (2**8-1) + (2**7-1) + (2**5-1) + (2**4-1))\n",
    "x = sobol_engine.draw(1)"
   ]
  },
  {
   "cell_type": "code",
   "execution_count": 181,
   "metadata": {},
   "outputs": [],
   "source": [
    "u = sobol_engine.draw(paths,dtype=torch.float64)"
   ]
  },
  {
   "cell_type": "code",
   "execution_count": 182,
   "metadata": {},
   "outputs": [],
   "source": [
    "u = torch.transpose(u,0,1)\n",
    "# Random variable for the underlying\n",
    "u1 = u[:dim]\n",
    "# Random variables for the volatility\n",
    "u2 = u[dim:]"
   ]
  },
  {
   "cell_type": "code",
   "execution_count": 183,
   "metadata": {},
   "outputs": [],
   "source": [
    "from quant_analytics_torch.calculators.multivariatebrownianbridge import MultivariateBrownianBridge\n",
    "from quant_analytics_torch.analytics.norminv import norminv"
   ]
  },
  {
   "cell_type": "code",
   "execution_count": 184,
   "metadata": {},
   "outputs": [],
   "source": [
    "states = 1\n",
    "dim = n_dt\n",
    "\n",
    "fm = torch.zeros(size=(states,states))\n",
    "\n",
    "fm[0][0] = 1.\n",
    "fwd_cov = torch.zeros(size=(dim, states, states))\n",
    "\n",
    "for i in range(dim):\n",
    "    fwd_cov[i] = fm"
   ]
  },
  {
   "cell_type": "code",
   "execution_count": 185,
   "metadata": {},
   "outputs": [],
   "source": [
    "multivariate_brownian = MultivariateBrownianBridge(fwd_cov)"
   ]
  },
  {
   "cell_type": "code",
   "execution_count": 186,
   "metadata": {},
   "outputs": [],
   "source": [
    "y = norminv(u1)\n",
    "y = torch.reshape(y, shape=(dim,states,paths))"
   ]
  },
  {
   "cell_type": "code",
   "execution_count": 187,
   "metadata": {},
   "outputs": [
    {
     "data": {
      "text/plain": [
       "tensor([ 0.0000, -0.0698,  0.0698,  ..., -0.2891,  0.3030,  0.7536])"
      ]
     },
     "execution_count": 187,
     "metadata": {},
     "output_type": "execute_result"
    }
   ],
   "source": [
    "dz = multivariate_brownian.path(y, True)\n",
    "dz[1][0]"
   ]
  },
  {
   "cell_type": "code",
   "execution_count": 188,
   "metadata": {},
   "outputs": [],
   "source": [
    "from quant_analytics_torch.analytics import maxsoft\n",
    "from quant_analytics_torch.analytics.characteristicfunction import heston_option_price\n"
   ]
  },
  {
   "cell_type": "code",
   "execution_count": 189,
   "metadata": {},
   "outputs": [],
   "source": [
    "import matplotlib\n",
    "from matplotlib import pyplot as plt"
   ]
  },
  {
   "cell_type": "code",
   "execution_count": 190,
   "metadata": {},
   "outputs": [],
   "source": [
    "for i in range(n_dt):\n",
    "    Vold = Vt\n",
    "    minusexpkappadt = torch.exp(-kappa*dt)\n",
    "    m = theta+( Vt - theta) * minusexpkappadt\n",
    "    s2 = ((Vt*eta**2) * minusexpkappadt/kappa)*(1-minusexpkappadt) + ( theta*eta**2)*((1-minusexpkappadt)**2)/(2*kappa)\n",
    "    phi = s2/m**2\n",
    "    #\n",
    "    # Calculate the lower branch\n",
    "    #\n",
    "    b2 = torch.maximum((2/phi)-1+2*(torch.sqrt(2/phi))*(torch.sqrt(torch.maximum(-1+2/phi, torch.tensor(0.)))),torch.tensor(0.))\n",
    "    a = m/(1+b2)\n",
    "    z2 = norminv(u2[i])\n",
    "    Vnew_1 = a*(z2 + b2**0.5)**2\n",
    "    #\n",
    "    # Calulcate the upper branch\n",
    "    #\n",
    "    p = (phi-1)/(phi+1)\n",
    "    beta = 2/(m+m*phi)\n",
    "    Vnew_2 = torch.log((1-p)/(1-u2[i])) / beta\n",
    "    Vnew_2 = torch.maximum(Vnew_2, torch.tensor(0.))\n",
    "    phiC = 1.5\n",
    "    #\n",
    "    # Switch the branches\n",
    "    #\n",
    "    p_1 = maxsoft.soft_heavy_side_hyperbolic(phiC-phi, 0.0001)\n",
    "    q_1 = 1. - p_1\n",
    "    Vt = p_1 * Vnew_1 + q_1 * Vnew_2\n",
    "    # V[i+1] = Vt\n",
    "    #\n",
    "    # Update the underlying\n",
    "    #\n",
    "    # z1 = norminv(u1[i])   \n",
    "    z1 = dz[i][0]\n",
    "    X = X + K0 + K1*Vold + K2*Vt + (torch.sqrt(K3*Vold+K4*Vt))*z1\n"
   ]
  },
  {
   "cell_type": "code",
   "execution_count": 191,
   "metadata": {},
   "outputs": [
    {
     "name": "stdout",
     "output_type": "stream",
     "text": [
      "tensor(0.9967, dtype=torch.float64, grad_fn=<MeanBackward0>)\n",
      "tensor(0.0707, dtype=torch.float64, grad_fn=<MeanBackward0>)\n"
     ]
    }
   ],
   "source": [
    "S = torch.exp(X)\n",
    "Savg = torch.mean(S)\n",
    "Pavg = torch.mean(torch.maximum(S-1.,torch.tensor(0.)))\n",
    "print(Savg)\n",
    "print(Pavg)"
   ]
  },
  {
   "cell_type": "code",
   "execution_count": 192,
   "metadata": {},
   "outputs": [],
   "source": [
    "nk = 21\n",
    "k = np.linspace(0.7,1.3,nk)\n",
    "iv = torch.zeros(nk)\n",
    "ivh = torch.zeros(nk)\n",
    "\n",
    "for it,ik in enumerate(k):\n",
    "    p = torch.mean(torch.maximum(S-ik,torch.tensor(0.))).detach().numpy()\n",
    "    iv[it] = blackanalytics.impliedvolatility(p, 1., ik, T)\n",
    "\n",
    "    ph = heston_option_price(ik, 1., theta.detach().numpy(), kappa.detach().numpy(), theta.detach().numpy(), eta.detach().numpy(), rho.detach().numpy(), T)\n",
    "    ivh[it] = blackanalytics.impliedvolatility(ph, 1., ik, T)\n",
    "\n"
   ]
  },
  {
   "cell_type": "code",
   "execution_count": 193,
   "metadata": {},
   "outputs": [
    {
     "data": {
      "text/plain": [
       "[<matplotlib.lines.Line2D at 0x7febbbb43710>]"
      ]
     },
     "execution_count": 193,
     "metadata": {},
     "output_type": "execute_result"
    },
    {
     "data": {
      "image/png": "[encoded data removed]",
      "text/plain": [
       "<Figure size 640x480 with 1 Axes>"
      ]
     },
     "metadata": {},
     "output_type": "display_data"
    }
   ],
   "source": [
    "plt.plot(k,iv)\n",
    "plt.plot(k,ivh)"
   ]
  },
  {
   "cell_type": "code",
   "execution_count": 9,
   "metadata": {},
   "outputs": [],
   "source": [
    "#plt.plot(V.detach().numpy()[:,:10])"
   ]
  },
  {
   "cell_type": "code",
   "execution_count": 272,
   "metadata": {},
   "outputs": [],
   "source": [
    "x = -7.7721"
   ]
  },
  {
   "cell_type": "code",
   "execution_count": 274,
   "metadata": {},
   "outputs": [
    {
     "data": {
      "text/plain": [
       "tensor(0.)"
      ]
     },
     "execution_count": 274,
     "metadata": {},
     "output_type": "execute_result"
    }
   ],
   "source": [
    "maxsoft.soft_heavy_side_hyperbolic(torch.tensor(x))"
   ]
  },
  {
   "cell_type": "code",
   "execution_count": null,
   "metadata": {},
   "outputs": [],
   "source": []
  }
 ],
 "metadata": {
  "colab": {
   "authorship_tag": "ABX9TyMZlvmSN+wxjwFXHYDBIK5l",
   "include_colab_link": true,
   "name": "MultiStepOptimiser.ipynb",
   "provenance": []
  },
  "kernelspec": {
   "display_name": "Python 3",
   "language": "python",
   "name": "python3"
  },
  "language_info": {
   "codemirror_mode": {
    "name": "ipython",
    "version": 3
   },
   "file_extension": ".py",
   "mimetype": "text/x-python",
   "name": "python",
   "nbconvert_exporter": "python",
   "pygments_lexer": "ipython3",
   "version": "3.11.2"
  }
 },
 "nbformat": 4,
 "nbformat_minor": 4
}
