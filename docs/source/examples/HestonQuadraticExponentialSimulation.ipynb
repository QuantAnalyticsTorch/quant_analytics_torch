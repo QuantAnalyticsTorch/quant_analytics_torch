{
 "cells": [
  {
   "attachments": {},
   "cell_type": "markdown",
   "metadata": {},
   "source": [
    "## Simulation of the Heston model using the Quadratic exponential scheme"
   ]
  },
  {
   "attachments": {},
   "cell_type": "markdown",
   "metadata": {},
   "source": [
    "In order to achieve maximum performance of Pytorch in a Monte-Carlo simulation it is critical to vectorize over the number of simulations. Thus we need to remove all 'if' statements from the Quadratic Exponential scheme. Here we are also comparing the numerical performance with a standard Milstein-Euler scheme"
   ]
  },
  {
   "cell_type": "code",
   "execution_count": 1,
   "metadata": {},
   "outputs": [],
   "source": [
    "import torch\n",
    "import numpy as np\n",
    "from quant_analytics_torch.analytics import blackanalytics\n",
    "from icecream import ic\n",
    "from quant_analytics_torch.calculators.multivariatebrownianbridge import MultivariateBrownianBridge\n",
    "from quant_analytics_torch.analytics.norminv import norminv\n",
    "import matplotlib\n",
    "from matplotlib import pyplot as plt\n",
    "from quant_analytics_torch.analytics import maxsoft\n",
    "from quant_analytics_torch.analytics.characteristicfunction import heston_option_price\n"
   ]
  },
  {
   "cell_type": "code",
   "execution_count": 2,
   "metadata": {},
   "outputs": [],
   "source": [
    "def milstein_euler_simulation(rho, theta, kappa, eta, T, paths, n_dt):\n",
    "    dt = T/n_dt\n",
    "    dim = n_dt\n",
    "    sobol_engine =  torch.quasirandom.SobolEngine(2*dim)\n",
    "    x = sobol_engine.draw(1)\n",
    "    u = sobol_engine.draw(paths,dtype=torch.float64)\n",
    "\n",
    "    states = 2\n",
    "    dim = n_dt\n",
    "\n",
    "    fm = torch.zeros(size=(states,states))\n",
    "\n",
    "    fm[0][0] = 1.\n",
    "    fm[0][1] = 0.\n",
    "    fm[1][0] = 0.\n",
    "    fm[1][1] = 1.\n",
    "    fwd_cov = torch.zeros(size=(dim, states, states))\n",
    "\n",
    "    for i in range(dim):\n",
    "        fwd_cov[i] = fm\n",
    "\n",
    "    multivariate_brownian = MultivariateBrownianBridge(fwd_cov)\n",
    "\n",
    "    y = norminv(u)\n",
    "    y = torch.reshape(y, shape=(dim,states,paths))\n",
    "\n",
    "    dz = multivariate_brownian.path(y, True)\n",
    "\n",
    "    X = torch.zeros([paths])\n",
    "    V = torch.zeros([n_dt+1,paths])\n",
    "    Vt = torch.zeros([paths])\n",
    "    Vt[:] = theta\n",
    "    V[0] = theta\n",
    "\n",
    "    for i in range(n_dt):\n",
    "        z2 = dz[i][1]\n",
    "        z1 = dz[i][0]\n",
    "        Vt = torch.maximum((Vt + kappa*theta*dt + eta*torch.sqrt(Vt*dt)*z2+0.25*eta*eta*dt*(z2*z2-1.))/(1+kappa*dt),torch.tensor(0.))\n",
    "        X = X - V[i]*dt/2 + torch.sqrt(V[i]*dt)*(rho*z2 + torch.sqrt(1-rho*rho)*z1)\n",
    "        V[i+1] = Vt\n",
    "    return X"
   ]
  },
  {
   "cell_type": "code",
   "execution_count": 3,
   "metadata": {},
   "outputs": [],
   "source": [
    "def quadratic_exponential(rho, theta, kappa, eta, T, paths, n_dt):\n",
    "    dt = T/n_dt\n",
    "    dim = n_dt\n",
    "\n",
    "    gamma1 = 0.5\n",
    "    gamma2 = 0.5\n",
    "\n",
    "    K0 = -(rho*kappa*theta)*dt/eta\n",
    "    K1 = gamma1*dt*(-0.5+(kappa*rho/eta))-(rho/eta)\n",
    "    K2 = gamma2*dt*(-0.5+(kappa*rho/eta))+(rho/eta)\n",
    "    K3 = gamma1*dt*(1-rho**2)\n",
    "    K4 = gamma2*dt*(1-rho**2)\n",
    "    \n",
    "    sobol_engine =  torch.quasirandom.SobolEngine(2*dim)\n",
    "    x = sobol_engine.draw(1)\n",
    "    u = sobol_engine.draw(paths,dtype=torch.float64)\n",
    "\n",
    "    u = torch.transpose(u,0,1)\n",
    "    # Random variable for the underlying\n",
    "    u1 = u[:dim]\n",
    "    # Random variables for the volatility\n",
    "    u2 = u[dim:]\n",
    "\n",
    "    states = 1\n",
    "    dim = n_dt\n",
    "\n",
    "    fm = torch.zeros(size=(states,states))\n",
    "\n",
    "    fm[0][0] = 1.\n",
    "    fwd_cov = torch.zeros(size=(dim, states, states))\n",
    "\n",
    "    for i in range(dim):\n",
    "        fwd_cov[i] = fm\n",
    "\n",
    "    multivariate_brownian = MultivariateBrownianBridge(fwd_cov)\n",
    "\n",
    "    y = norminv(u1)\n",
    "    y = torch.reshape(y, shape=(dim,states,paths))\n",
    "\n",
    "    dz = multivariate_brownian.path(y, True)\n",
    "\n",
    "    X = torch.zeros([paths])\n",
    "    V = torch.zeros([n_dt+1,paths])\n",
    "    Vt = torch.zeros([paths])\n",
    "    Vt[:] = theta\n",
    "    V[0] = theta\n",
    "\n",
    "    for i in range(n_dt):\n",
    "        minusexpkappadt = torch.exp(-kappa*dt)\n",
    "        m = theta+( Vt - theta) * minusexpkappadt\n",
    "        s2 = ((Vt*eta**2) * minusexpkappadt/kappa)*(1-minusexpkappadt) + ( theta*eta**2)*((1-minusexpkappadt)**2)/(2*kappa)\n",
    "        phi = s2/m**2\n",
    "        #\n",
    "        # Calculate the lower branch\n",
    "        #\n",
    "        psi_2 = 2/phi\n",
    "        b2 = torch.maximum(psi_2-1+(torch.sqrt(psi_2))*(torch.sqrt(torch.maximum(psi_2-1, torch.tensor(0.)))),torch.tensor(0.))\n",
    "        a = m/(1+b2)\n",
    "        z2 = norminv(u2[i])\n",
    "        Vnew_1 = a*(z2 + torch.sqrt(b2))**2\n",
    "        #\n",
    "        # Calulcate the upper branch\n",
    "        #\n",
    "        p = (phi-1)/(phi+1)\n",
    "        beta = (1-p)/m\n",
    "        Vnew_2 = torch.log((1-p)/(1-u2[i])) / beta\n",
    "        Vnew_2 = torch.maximum(Vnew_2, torch.tensor(0.))\n",
    "        phiC = 1.5\n",
    "        #\n",
    "        # Switch the branches\n",
    "        #\n",
    "        p_1 = maxsoft.soft_heavy_side_hyperbolic(phiC-phi, 0.00001)\n",
    "        q_1 = 1. - p_1\n",
    "        Vt = p_1 * Vnew_1 + q_1 * Vnew_2\n",
    "        V[i+1] = Vt\n",
    "        #\n",
    "        # Update the underlying\n",
    "        #\n",
    "        #z1 = norminv(u1[i])   \n",
    "        z1 = dz[i][0]\n",
    "        X = X + K0 + K1*V[i] + K2*Vt + (torch.sqrt(K3*V[i]+K4*Vt))*z1\n",
    "\n",
    "    return X\n"
   ]
  },
  {
   "cell_type": "code",
   "execution_count": 4,
   "metadata": {},
   "outputs": [],
   "source": [
    "rho = torch.tensor(-0.27829, requires_grad=True)\n",
    "theta = torch.tensor((0.3095)**2, requires_grad=True)\n",
    "kappa = torch.tensor(1., requires_grad=True)\n",
    "eta= torch.tensor(0.9288, requires_grad=True)\n",
    "\n",
    "T = 1\n",
    "paths =2**14-1\n",
    "n_dt = 64"
   ]
  },
  {
   "cell_type": "code",
   "execution_count": 5,
   "metadata": {},
   "outputs": [],
   "source": [
    "X_milstein = milstein_euler_simulation(rho, theta, kappa, eta, T, paths, n_dt)"
   ]
  },
  {
   "cell_type": "code",
   "execution_count": 6,
   "metadata": {},
   "outputs": [],
   "source": [
    "X_qe = quadratic_exponential(rho, theta, kappa, eta, T, paths, n_dt)"
   ]
  },
  {
   "cell_type": "code",
   "execution_count": 8,
   "metadata": {},
   "outputs": [
    {
     "name": "stdout",
     "output_type": "stream",
     "text": [
      "tensor(0.9971, grad_fn=<MeanBackward0>)\n",
      "tensor(0.1043, grad_fn=<MeanBackward0>)\n"
     ]
    }
   ],
   "source": [
    "Sm = torch.exp(X_milstein)\n",
    "Sq = torch.exp(X_qe)\n",
    "Savg = torch.mean(Sm)\n",
    "Pavg = torch.mean(torch.maximum(Sm-1.,torch.tensor(0.)))\n",
    "print(Savg)\n",
    "print(Pavg)"
   ]
  },
  {
   "cell_type": "code",
   "execution_count": 11,
   "metadata": {},
   "outputs": [
    {
     "name": "stderr",
     "output_type": "stream",
     "text": [
      "/home/vscode/.local/lib/python3.11/site-packages/scipy/integrate/_quadpack_py.py:575: ComplexWarning: Casting complex values to real discards the imaginary part\n",
      "  return _quadpack._qagse(func,a,b,args,full_output,epsabs,epsrel,limit)\n"
     ]
    }
   ],
   "source": [
    "nk = 21\n",
    "k = np.linspace(0.7,1.3,nk)\n",
    "ivm = torch.zeros(nk)\n",
    "ivq = torch.zeros(nk)\n",
    "ivh = torch.zeros(nk)\n",
    "\n",
    "for it,ik in enumerate(k):\n",
    "    pm = torch.mean(torch.maximum(Sm-ik,torch.tensor(0.))).detach().numpy()\n",
    "    ivm[it] = blackanalytics.impliedvolatility(pm, 1., ik, T)\n",
    "    pq = torch.mean(torch.maximum(Sq-ik,torch.tensor(0.))).detach().numpy()\n",
    "    ivq[it] = blackanalytics.impliedvolatility(pq, 1., ik, T)\n",
    "    ph = heston_option_price(ik, 1., theta.detach().numpy(), kappa.detach().numpy(), theta.detach().numpy(), eta.detach().numpy(), rho.detach().numpy(), T)\n",
    "    ivh[it] = blackanalytics.impliedvolatility(ph, 1., ik, T)"
   ]
  },
  {
   "cell_type": "code",
   "execution_count": 12,
   "metadata": {},
   "outputs": [
    {
     "data": {
      "text/plain": [
       "[<matplotlib.lines.Line2D at 0x7f7483548d50>]"
      ]
     },
     "execution_count": 12,
     "metadata": {},
     "output_type": "execute_result"
    },
    {
     "data": {
      "image/png": "[encoded data removed]",
      "text/plain": [
       "<Figure size 640x480 with 1 Axes>"
      ]
     },
     "metadata": {},
     "output_type": "display_data"
    }
   ],
   "source": [
    "plt.plot(k,ivm)\n",
    "plt.plot(k,ivq)\n",
    "plt.plot(k,ivh)"
   ]
  }
 ],
 "metadata": {
  "colab": {
   "authorship_tag": "ABX9TyMZlvmSN+wxjwFXHYDBIK5l",
   "include_colab_link": true,
   "name": "MultiStepOptimiser.ipynb",
   "provenance": []
  },
  "kernelspec": {
   "display_name": "Python 3",
   "language": "python",
   "name": "python3"
  },
  "language_info": {
   "codemirror_mode": {
    "name": "ipython",
    "version": 3
   },
   "file_extension": ".py",
   "mimetype": "text/x-python",
   "name": "python",
   "nbconvert_exporter": "python",
   "pygments_lexer": "ipython3",
   "version": "3.11.2"
  }
 },
 "nbformat": 4,
 "nbformat_minor": 4
}
