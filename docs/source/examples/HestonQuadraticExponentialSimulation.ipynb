{
 "cells": [
  {
   "attachments": {},
   "cell_type": "markdown",
   "metadata": {},
   "source": [
    "## Simulation of the Heston model using the Quadratic exponential scheme"
   ]
  },
  {
   "attachments": {},
   "cell_type": "markdown",
   "metadata": {},
   "source": [
    "In order to achieve maximum performance of Pytorch in a Monte-Carlo simulation it is critical to vectorize over the number of simulations. Thus we need to remove all 'if' statements from the Quadratic Exponential scheme. Here we are also comparing the numerical performance with a standard Milstein-Euler scheme"
   ]
  },
  {
   "cell_type": "code",
   "execution_count": 1,
   "metadata": {},
   "outputs": [],
   "source": [
    "import torch\n",
    "import numpy as np\n",
    "from quant_analytics_torch.analytics import blackanalytics\n",
    "from icecream import ic\n",
    "from quant_analytics_torch.calculators.multivariatebrownianbridge import MultivariateBrownianBridge\n",
    "from quant_analytics_torch.analytics.norminv import norminv, cumnorm\n",
    "import matplotlib\n",
    "from matplotlib import pyplot as plt\n",
    "from quant_analytics_torch.analytics import maxsoft\n",
    "from quant_analytics_torch.analytics.characteristicfunction import heston_option_price"
   ]
  },
  {
   "cell_type": "code",
   "execution_count": 2,
   "metadata": {},
   "outputs": [],
   "source": [
    "def milstein_euler_simulation(rho, theta, kappa, eta, T, paths, n_dt):\n",
    "    dt = T/n_dt\n",
    "    dim = n_dt\n",
    "    sobol_engine =  torch.quasirandom.SobolEngine(2*dim)\n",
    "    x = sobol_engine.draw(1)\n",
    "    u = sobol_engine.draw(paths,dtype=torch.float64)\n",
    "\n",
    "    states = 2\n",
    "    dim = n_dt\n",
    "\n",
    "    fm = torch.zeros(size=(states,states))\n",
    "\n",
    "    fm[0][0] = 1.\n",
    "    fm[0][1] = rho\n",
    "    fm[1][0] = rho\n",
    "    fm[1][1] = 1.\n",
    "    fwd_cov = torch.zeros(size=(dim, states, states))\n",
    "\n",
    "    for i in range(dim):\n",
    "        fwd_cov[i] = fm\n",
    "\n",
    "    multivariate_brownian = MultivariateBrownianBridge(fwd_cov)\n",
    "\n",
    "    y = norminv(u)\n",
    "    y = torch.reshape(y, shape=(dim,states,paths))\n",
    "\n",
    "    dz = multivariate_brownian.path(y, True)\n",
    "\n",
    "    X = torch.zeros([paths])\n",
    "    V = torch.zeros([n_dt+1,paths])\n",
    "    Vt = torch.zeros([paths])\n",
    "    Vt[:] = theta\n",
    "    V[0] = theta\n",
    "\n",
    "    for i in range(n_dt):\n",
    "        z2 = dz[i][1]\n",
    "        z1 = dz[i][0]\n",
    "        Vt = torch.maximum((Vt + kappa*theta*dt + eta*torch.sqrt(Vt*dt)*z2+0.25*eta*eta*dt*(z2*z2-1.))/(1+kappa*dt),torch.tensor(0.))\n",
    "        X = X - V[i]*dt/2 + torch.sqrt(V[i]*dt)*z1\n",
    "        V[i+1] = Vt\n",
    "    return X"
   ]
  },
  {
   "cell_type": "code",
   "execution_count": 3,
   "metadata": {},
   "outputs": [],
   "source": [
    "def quadratic_exponential(rho, theta, kappa, eta, T, paths, n_dt):\n",
    "    dt = T/n_dt\n",
    "    dim = n_dt\n",
    "\n",
    "    rhobar = torch.sqrt(1.-rho*rho)\n",
    "    gamma1 = 0.5\n",
    "    gamma2 = 0.5\n",
    "\n",
    "    K0 = -(rho*kappa*theta)*dt/eta\n",
    "    K1 = gamma1*dt*(-0.5+(kappa*rho/eta))-(rho/eta)\n",
    "    K2 = gamma2*dt*(-0.5+(kappa*rho/eta))+(rho/eta)\n",
    "    K3 = gamma1*dt*(1-rho**2)\n",
    "    K4 = gamma2*dt*(1-rho**2)\n",
    "    \n",
    "    sobol_engine =  torch.quasirandom.SobolEngine(2*dim)\n",
    "    x = sobol_engine.draw(1)\n",
    "    u = sobol_engine.draw(paths,dtype=torch.float64)\n",
    "\n",
    "    u = torch.transpose(u,0,1)\n",
    "\n",
    "    states = 2\n",
    "    dim = n_dt\n",
    "    fm = torch.zeros(size=(states,states))\n",
    "\n",
    "    fm[0][0] = 1.\n",
    "    fm[0][1] = rho\n",
    "    fm[1][0] = rho\n",
    "    fm[1][1] = 1.        \n",
    "    fwd_cov = torch.zeros(size=(dim, states, states))\n",
    "\n",
    "    for i in range(dim):\n",
    "        fwd_cov[i] = fm\n",
    "\n",
    "    multivariate_brownian = MultivariateBrownianBridge(fwd_cov)\n",
    "\n",
    "    y = norminv(u)\n",
    "    y = torch.reshape(y, shape=(dim,states,paths))\n",
    "\n",
    "    dz = multivariate_brownian.path(y, True)\n",
    "\n",
    "    X = torch.zeros([paths])\n",
    "    V = torch.zeros([n_dt+1,paths])\n",
    "    Vt = torch.zeros([paths])\n",
    "    Vt[:] = theta\n",
    "    V[0] = theta\n",
    "\n",
    "    for i in range(n_dt):\n",
    "        # Decorrelate the Gaussian variables\n",
    "        #\n",
    "        # Q = ([[rho_bar, rho],[0,1]])\n",
    "        #\n",
    "        # inv(Q) = ([[1/rho_bar, -rho/rho_bar, 0, 1]])\n",
    "        #\n",
    "        # inv(Q)*dz[i]\n",
    "        #\n",
    "        # see \"Efficient Simulation of the multi-asset Heston model\", Innocentis, M.D., et. al.\n",
    "        #\n",
    "        z2 = (dz[i][1]-rho*dz[i][0])/rhobar\n",
    "        z1 = dz[i][0]\n",
    "        # QE simulation scheme\n",
    "        minusexpkappadt = torch.exp(-kappa*dt)\n",
    "        m = theta+( Vt - theta) * minusexpkappadt\n",
    "        s2 = ((Vt*eta**2) * minusexpkappadt/kappa)*(1-minusexpkappadt) + ( theta*eta**2)*((1-minusexpkappadt)**2)/(2*kappa)\n",
    "        phi = s2/m**2\n",
    "        #\n",
    "        # Calculate the lower branch\n",
    "        #\n",
    "        psi_2 = 2/phi\n",
    "        b2 = torch.maximum(psi_2-1+(torch.sqrt(psi_2))*(torch.sqrt(torch.maximum(psi_2-1, torch.tensor(0.)))),torch.tensor(0.))\n",
    "        a = m/(1+b2)\n",
    "        Vnew_1 = a*(z2 + torch.sqrt(b2))**2\n",
    "        #\n",
    "        # Calulcate the upper branch\n",
    "        #\n",
    "        p = (phi-1)/(phi+1)\n",
    "        beta = (1-p)/m\n",
    "        Vnew_2 = torch.log((1-p)/(1-cumnorm(z2))) / beta\n",
    "        Vnew_2 = torch.maximum(Vnew_2, torch.tensor(0.))\n",
    "        phiC = 1.5\n",
    "        #\n",
    "        # Switch the branches\n",
    "        #\n",
    "        p_1 = maxsoft.soft_heavy_side_hyperbolic(phiC-phi, 0.00001)\n",
    "        q_1 = 1. - p_1\n",
    "        Vt = p_1 * Vnew_1 + q_1 * Vnew_2\n",
    "        V[i+1] = Vt\n",
    "        #\n",
    "        # Update the underlying\n",
    "        #\n",
    "        X = X + K0 + K1*V[i] + K2*Vt + (torch.sqrt(K3*V[i]+K4*Vt))*z1\n",
    "\n",
    "    return X\n"
   ]
  },
  {
   "cell_type": "code",
   "execution_count": 26,
   "metadata": {},
   "outputs": [],
   "source": [
    "rho = torch.tensor(-0.67829, requires_grad=True)\n",
    "theta = torch.tensor((0.3095)**2, requires_grad=True)\n",
    "kappa = torch.tensor(0.8, requires_grad=True)\n",
    "eta= torch.tensor(0.9288, requires_grad=True)\n",
    "\n",
    "T = 1\n",
    "paths =2**14-1\n",
    "n_dt = 32"
   ]
  },
  {
   "cell_type": "code",
   "execution_count": 27,
   "metadata": {},
   "outputs": [],
   "source": [
    "X_milstein = milstein_euler_simulation(rho, theta, kappa, eta, T, paths, n_dt)"
   ]
  },
  {
   "cell_type": "code",
   "execution_count": 28,
   "metadata": {},
   "outputs": [],
   "source": [
    "X_qe = quadratic_exponential(rho, theta, kappa, eta, T, paths, n_dt)"
   ]
  },
  {
   "cell_type": "code",
   "execution_count": 29,
   "metadata": {},
   "outputs": [
    {
     "name": "stdout",
     "output_type": "stream",
     "text": [
      "tensor(1.0009, grad_fn=<MeanBackward0>)\n",
      "tensor(0.1014, grad_fn=<MeanBackward0>)\n"
     ]
    }
   ],
   "source": [
    "Sm = torch.exp(X_milstein)\n",
    "Sq = torch.exp(X_qe)\n",
    "Savg = torch.mean(Sm)\n",
    "Pavg = torch.mean(torch.maximum(Sm-1.,torch.tensor(0.)))\n",
    "print(Savg)\n",
    "print(Pavg)"
   ]
  },
  {
   "cell_type": "code",
   "execution_count": 30,
   "metadata": {},
   "outputs": [],
   "source": [
    "nk = 31\n",
    "k = np.linspace(0.5,1.8,nk)\n",
    "ivm = torch.zeros(nk)\n",
    "ivq = torch.zeros(nk)\n",
    "ivh = torch.zeros(nk)\n",
    "\n",
    "for it,ik in enumerate(k):\n",
    "    pm = torch.mean(torch.maximum(Sm-ik,torch.tensor(0.))).detach().numpy()\n",
    "    ivm[it] = blackanalytics.impliedvolatility(pm, 1., ik, T)\n",
    "    pq = torch.mean(torch.maximum(Sq-ik,torch.tensor(0.))).detach().numpy()\n",
    "    ivq[it] = blackanalytics.impliedvolatility(pq, 1., ik, T)\n",
    "    ph = heston_option_price(ik, 1., theta.detach().numpy(), kappa.detach().numpy(), theta.detach().numpy(), eta.detach().numpy(), rho.detach().numpy(), T)\n",
    "    ivh[it] = blackanalytics.impliedvolatility(ph, 1., ik, T)"
   ]
  },
  {
   "cell_type": "code",
   "execution_count": 31,
   "metadata": {},
   "outputs": [
    {
     "data": {
      "text/plain": [
       "[<matplotlib.lines.Line2D at 0x7f8a69e06390>]"
      ]
     },
     "execution_count": 31,
     "metadata": {},
     "output_type": "execute_result"
    },
    {
     "data": {
      "image/png": "[encoded data removed]",
      "text/plain": [
       "<Figure size 640x480 with 1 Axes>"
      ]
     },
     "metadata": {},
     "output_type": "display_data"
    },
    {
     "name": "stderr",
     "output_type": "stream",
     "text": [
      "Bad pipe message: %s [b\"\\xf4\\xd7\\xa2\\xc4'\\x03RO\\xc4WTmO+\\x88JZt (4\\xf4'@\\x9f(\\xb0}\\xfb_\\x80\\x93\\xdei%\\xde\\x97>\\xa8v\\n\\xd9\\xca\\x9b3\\xac%|\\xf9W\\xbf\\x00\\x08\\x13\\x02\\x13\\x03\\x13\\x01\\x00\\xff\\x01\"]\n",
      "Bad pipe message: %s [b')y\\x9f\\xc5\\x90\\xfc\\xc4D\\x86\\xa4\\xd6\\x93\\xb7\\x7f\\xd7\\xb6\\x97\"\\x00\\x00\\xf4\\xc00\\xc0,\\xc0(\\xc0$\\xc0\\x14\\xc0\\n\\x00\\xa5\\x00\\xa3\\x00\\xa1\\x00\\x9f\\x00k\\x00j\\x00i\\x00h\\x009\\x008\\x007\\x006\\x00\\x88\\x00\\x87\\x00\\x86\\x00\\x85\\xc0\\x19\\x00\\xa7\\x00m\\x00:\\x00\\x89\\xc02\\xc0.\\xc0*\\xc0&\\xc0\\x0f\\xc0\\x05\\x00\\x9d\\x00=\\x005\\x00\\x84\\xc0/\\xc0+\\xc0\\'\\xc0#\\xc0\\x13\\xc0\\t\\x00\\xa4\\x00\\xa2\\x00\\xa0\\x00\\x9e\\x00g\\x00@\\x00?\\x00>\\x003\\x002\\x001\\x000\\x00\\x9a\\x00\\x99\\x00\\x98\\x00\\x97\\x00E']\n",
      "Bad pipe message: %s [b\"\\x93\\xa3328{\\xda\\xceK\\x85\\xd90w\\xa1\\xf9)\\xbb\\x8b \\xd7s\\n\\xfeN\\xb3'\\xf8\\xefQv\\xb6\\xce\\xc2\\x1di\\xf8\\xce\\xb4\\xa2\\r\\xbb\\x03\\x93Q\\x8a\\x83\\xf0\\xde\\xc0f\\xd7\\x00\\x08\\x13\\x02\\x13\\x03\\x13\\x01\\x00\\xff\\x01\\x00\\x00\\x8f\\x00\\x00\\x00\\x0e\\x00\\x0c\\x00\\x00\\t127.0.0.1\\x00\\x0b\\x00\\x04\\x03\\x00\\x01\\x02\\x00\\n\\x00\\x0c\\x00\\n\\x00\\x1d\\x00\\x17\\x00\\x1e\\x00\\x19\\x00\\x18\\x00#\\x00\\x00\\x00\\x16\\x00\\x00\\x00\\x17\\x00\\x00\\x00\\r\\x00\\x1e\\x00\\x1c\\x04\\x03\\x05\\x03\\x06\\x03\\x08\\x07\\x08\\x08\\x08\\t\\x08\", b'\\x0b\\x08\\x04\\x08\\x05\\x08\\x06\\x04\\x01']\n",
      "Bad pipe message: %s [b'8\\xba\\x15\\xf2R\\xaa\\xb5\\x14\\x18\\xc2r\\x91\\x9b', b\"\\x80\\x12\\xd0\\x00\\x00\\x86\\xc00\\xc0,\\xc0(\\xc0$\\xc0\\x14\\xc0\\n\\x00\\xa5\\x00\\xa3\\x00\\xa1\\x00\\x9f\\x00k\\x00j\\x00i\\x00h\\x009\\x008\\x007\\x006\\xc02\\xc0.\\xc0*\\xc0&\\xc0\\x0f\\xc0\\x05\\x00\\x9d\\x00=\\x005\\xc0/\\xc0+\\xc0'\\xc0#\\xc0\\x13\\xc0\\t\\x00\\xa4\\x00\\xa2\\x00\\xa0\\x00\\x9e\\x00g\\x00@\\x00?\\x00>\\x003\\x002\\x001\\x000\\xc01\\xc0-\\xc0)\\xc0%\\xc0\\x0e\\xc0\\x04\\x00\\x9c\\x00<\\x00/\\x00\\x9a\\x00\\x99\\x00\\x98\\x00\\x97\\x00\\x96\\x00\\x07\\xc0\\x11\\xc0\\x07\\xc0\\x0c\\xc0\\x02\\x00\\x05\\x00\\x04\\x00\\xff\\x02\\x01\\x00\\x00g\\x00\\x00\\x00\\x0e\\x00\\x0c\\x00\\x00\\t127.0.0.1\\x00\\x0b\\x00\\x04\\x03\\x00\\x01\\x02\\x00\\n\\x00\\x1c\\x00\\x1a\\x00\\x17\\x00\\x19\\x00\\x1c\\x00\\x1b\\x00\\x18\\x00\\x1a\\x00\\x16\\x00\\x0e\\x00\\r\\x00\\x0b\\x00\\x0c\\x00\\t\\x00\\n\\x00#\\x00\\x00\\x00\\r\\x00 \\x00\\x1e\\x06\\x01\\x06\\x02\\x06\\x03\\x05\\x01\\x05\\x02\\x05\\x03\\x04\\x01\\x04\\x02\\x04\\x03\\x03\\x01\\x03\\x02\\x03\\x03\\x02\\x01\\x02\\x02\\x02\", b'\\x0f\\x00']\n",
      "Bad pipe message: %s [b\"\\x7f\\xbd\\xe7\\xdeG\\t\\x83\\xfb\\xd9PG\\x01\\xa2\\xc3\\x88\\x9c\\xd0\\xcd\\x00\\x00\\xa6\\xc0,\\xc00\\x00\\xa3\\x00\\x9f\\xcc\\xa9\\xcc\\xa8\\xcc\\xaa\\xc0\\xaf\\xc0\\xad\\xc0\\xa3\\xc0\\x9f\\xc0]\\xc0a\\xc0W\\xc0S\\xc0+\\xc0/\\x00\\xa2\\x00\\x9e\\xc0\\xae\\xc0\\xac\\xc0\\xa2\\xc0\\x9e\\xc0\\\\\\xc0`\\xc0V\\xc0R\\xc0$\\xc0(\\x00k\\x00j\\xc0s\\xc0w\\x00\\xc4\\x00\\xc3\\xc0#\\xc0'\\x00g\\x00@\\xc0r\\xc0v\\x00\\xbe\\x00\\xbd\\xc0\\n\\xc0\\x14\\x009\\x008\\x00\\x88\\x00\\x87\\xc0\\t\"]\n",
      "Bad pipe message: %s [b'\\xc3\\x92<\\xc7\\xf2J\\xafiij\\xc5B\\xdcx\\x176_\\x03\\x00\\x00>\\xc0\\x14\\xc0\\n\\x009\\x008\\x007\\x006\\xc0\\x0f\\xc0\\x05\\x005\\xc0\\x13\\xc0\\t\\x003\\x002\\x001\\x000\\xc0\\x0e\\xc0\\x04\\x00/\\x00\\x9a\\x00\\x99\\x00\\x98\\x00\\x97\\x00\\x96\\x00\\x07\\xc0\\x11\\xc0\\x07\\xc0\\x0c\\xc0\\x02\\x00\\x05\\x00\\x04\\x00\\xff\\x02\\x01\\x00\\x00C\\x00\\x00\\x00\\x0e\\x00\\x0c\\x00\\x00\\t127.0.0.1\\x00', b'\\x04\\x03\\x00\\x01\\x02\\x00\\n\\x00\\x1c\\x00']\n",
      "Bad pipe message: %s [b\"\\xd2\\n=3\\x80c\\xf4p=\\x9b\\x9a\\xb8\\xd3)\\x7f\\xbbG'\\x00\\x00\\xa2\\xc0\\x14\\xc0\\n\\x009\\x008\\x007\\x006\\x00\\x88\\x00\\x87\\x00\\x86\\x00\\x85\\xc0\\x19\\x00:\\x00\\x89\\xc0\\x0f\\xc0\\x05\\x005\\x00\\x84\\xc0\\x13\\xc0\\t\\x003\\x002\\x001\\x000\\x00\\x9a\\x00\\x99\\x00\\x98\\x00\\x97\\x00E\\x00D\\x00C\\x00B\\xc0\\x18\\x004\\x00\\x9b\\x00F\\xc0\\x0e\\xc0\\x04\\x00/\\x00\\x96\\x00A\\x00\\x07\\xc0\\x11\\xc0\\x07\\xc0\\x16\\x00\\x18\\xc0\\x0c\\xc0\"]\n",
      "Bad pipe message: %s [b'\\xd7\\x13\\xd6\\x8b\\r\\x0e\\x9c|^q\\xdaV\\x8e!\\tQ\\xdc\\x1a\\x00\\x00\\xa2\\xc0\\x14\\xc0\\n\\x009\\x008\\x007\\x006\\x00\\x88\\x00\\x87\\x00\\x86\\x00\\x85\\xc0\\x19\\x00:\\x00\\x89\\xc0\\x0f\\xc0\\x05\\x005\\x00\\x84\\xc0\\x13\\xc0\\t\\x003\\x002\\x001\\x000\\x00\\x9a\\x00\\x99\\x00\\x98\\x00\\x97\\x00E\\x00D\\x00C\\x00B\\xc0\\x18\\x004\\x00\\x9b\\x00F\\xc0\\x0e\\xc0\\x04\\x00/\\x00\\x96\\x00A\\x00\\x07\\xc0\\x11\\xc0\\x07\\xc0\\x16\\x00\\x18\\xc0\\x0c\\xc0\\x02\\x00\\x05\\x00\\x04\\xc0\\x12\\xc0\\x08\\x00\\x16\\x00\\x13\\x00\\x10\\x00\\r\\xc0\\x17\\x00\\x1b\\xc0\\r\\xc0\\x03\\x00\\n\\x00\\x15\\x00\\x12\\x00\\x0f\\x00\\x0c\\x00\\x1a\\x00\\t\\x00\\x14\\x00\\x11\\x00\\x19\\x00\\x08\\x00\\x06\\x00\\x17\\x00\\x03\\xc0\\x10\\xc0\\x06\\xc0\\x15\\xc0\\x0b\\xc0\\x01\\x00\\x02\\x00\\x01\\x00\\xff\\x02\\x01\\x00\\x00']\n",
      "Bad pipe message: %s [b'\\x00\\x00\\x0e\\x00\\x0c\\x00\\x00\\t127.0.0.1\\x00\\x0b\\x00\\x04\\x03\\x00\\x01\\x02\\x00\\n\\x00\\x1c\\x00\\x1a\\x00\\x17\\x00\\x19\\x00\\x1c\\x00\\x1b\\x00\\x18\\x00\\x1a\\x00\\x16\\x00\\x0e\\x00\\r\\x00\\x0b\\x00\\x0c\\x00\\t\\x00\\n\\x00#\\x00\\x00\\x00\\x0f\\x00\\x01\\x01']\n",
      "Bad pipe message: %s [b'\\x05']\n",
      "Bad pipe message: %s [b'\\x17\\x00\\x19\\x00\\x1c\\x00\\x1b\\x00\\x18\\x00\\x1a\\x00\\x16\\x00\\x0e\\x00\\r\\x00\\x0b\\x00\\x0c\\x00\\t\\x00\\n']\n"
     ]
    }
   ],
   "source": [
    "plt.plot(k,ivm)\n",
    "plt.plot(k,ivq)\n",
    "plt.plot(k,ivh)"
   ]
  },
  {
   "cell_type": "code",
   "execution_count": null,
   "metadata": {},
   "outputs": [],
   "source": []
  }
 ],
 "metadata": {
  "colab": {
   "authorship_tag": "ABX9TyMZlvmSN+wxjwFXHYDBIK5l",
   "include_colab_link": true,
   "name": "MultiStepOptimiser.ipynb",
   "provenance": []
  },
  "kernelspec": {
   "display_name": "Python 3",
   "language": "python",
   "name": "python3"
  },
  "language_info": {
   "codemirror_mode": {
    "name": "ipython",
    "version": 3
   },
   "file_extension": ".py",
   "mimetype": "text/x-python",
   "name": "python",
   "nbconvert_exporter": "python",
   "pygments_lexer": "ipython3",
   "version": "3.11.2"
  }
 },
 "nbformat": 4,
 "nbformat_minor": 4
}
