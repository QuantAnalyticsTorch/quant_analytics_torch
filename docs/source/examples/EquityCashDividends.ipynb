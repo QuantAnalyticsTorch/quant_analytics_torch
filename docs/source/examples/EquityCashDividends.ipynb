{
 "cells": [
  {
   "cell_type": "markdown",
   "metadata": {},
   "source": [
    "# Equity cash dividend modelling"
   ]
  },
  {
   "cell_type": "code",
   "execution_count": 53,
   "metadata": {
    "id": "Uhh43zQp8uT4"
   },
   "outputs": [],
   "source": [
    "import torch\n",
    "import numpy as np\n",
    "import matplotlib.pyplot as plt"
   ]
  },
  {
   "cell_type": "code",
   "execution_count": 54,
   "metadata": {},
   "outputs": [],
   "source": [
    "from quant_analytics_torch.analytics import blackanalytics"
   ]
  },
  {
   "cell_type": "code",
   "execution_count": 96,
   "metadata": {},
   "outputs": [],
   "source": [
    "F = torch.tensor(100.)\n",
    "K = torch.tensor(100.)\n",
    "D = torch.tensor(5.)\n",
    "sigma_adj = torch.tensor(0.3)\n",
    "sigma_phy = torch.tensor(0.3)\n",
    "tau = torch.tensor(1.0)"
   ]
  },
  {
   "cell_type": "code",
   "execution_count": 97,
   "metadata": {},
   "outputs": [],
   "source": [
    "black_v = blackanalytics.black(F-D,K-D,tau,sigma_adj)"
   ]
  },
  {
   "cell_type": "code",
   "execution_count": 98,
   "metadata": {},
   "outputs": [
    {
     "data": {
      "text/plain": [
       "tensor(0.2849)"
      ]
     },
     "execution_count": 98,
     "metadata": {},
     "output_type": "execute_result"
    }
   ],
   "source": [
    "blackanalytics.impliedvolatility(black_v, F, K, tau)"
   ]
  },
  {
   "cell_type": "code",
   "execution_count": 99,
   "metadata": {},
   "outputs": [],
   "source": [
    "x = torch.linspace(-0.5,0.5,21)\n",
    "strikes = F*torch.exp(x)"
   ]
  },
  {
   "cell_type": "code",
   "execution_count": 100,
   "metadata": {},
   "outputs": [],
   "source": [
    "ivs = []\n",
    "ivs_adj = []\n",
    "\n",
    "for k in strikes:\n",
    "    black_v = blackanalytics.black(F-D,k-D,tau,sigma_adj)\n",
    "    ivs.append(blackanalytics.impliedvolatility(black_v, F, k, tau))\n",
    "    \n",
    "    black_p = blackanalytics.black(F,k,tau,sigma_phy)\n",
    "    ivs_adj.append(blackanalytics.impliedvolatility(black_p, F-D, k-D, tau))\n",
    "    \n",
    "ivp = np.array(ivs)"
   ]
  },
  {
   "cell_type": "code",
   "execution_count": 101,
   "metadata": {},
   "outputs": [
    {
     "data": {
      "text/plain": [
       "[<matplotlib.lines.Line2D at 0x2b4b22d8e10>]"
      ]
     },
     "execution_count": 101,
     "metadata": {},
     "output_type": "execute_result"
    },
    {
     "data": {
      "image/png": "[encoded data removed]",
      "text/plain": [
       "<Figure size 432x288 with 1 Axes>"
      ]
     },
     "metadata": {
      "needs_background": "light"
     },
     "output_type": "display_data"
    }
   ],
   "source": [
    "plt.plot(strikes, [sigma_adj]*len(strikes))\n",
    "plt.plot(strikes, ivs)\n",
    "plt.plot(strikes, ivs_adj)"
   ]
  },
  {
   "cell_type": "code",
   "execution_count": 102,
   "metadata": {},
   "outputs": [
    {
     "data": {
      "text/plain": [
       "tensor(0.0075)"
      ]
     },
     "execution_count": 102,
     "metadata": {},
     "output_type": "execute_result"
    }
   ],
   "source": [
    "1/2 * sigma_adj * D / F"
   ]
  },
  {
   "cell_type": "code",
   "execution_count": 103,
   "metadata": {},
   "outputs": [
    {
     "data": {
      "text/plain": [
       "tensor([0.0105, 0.0102, 0.0098, 0.0095, 0.0091, 0.0088, 0.0085, 0.0082, 0.0079,\n",
       "        0.0077, 0.0074, 0.0072, 0.0069, 0.0067, 0.0065, 0.0063, 0.0061, 0.0059,\n",
       "        0.0057, 0.0055])"
      ]
     },
     "execution_count": 103,
     "metadata": {},
     "output_type": "execute_result"
    }
   ],
   "source": [
    "(np.array(ivs)[1:]-ivs[:-1])/(x[1:]-x[:-1])"
   ]
  },
  {
   "cell_type": "markdown",
   "metadata": {},
   "source": [
    "See also\n",
    "[SSVI Calibration](./SSVICalibration.ipynb)"
   ]
  },
  {
   "cell_type": "code",
   "execution_count": null,
   "metadata": {},
   "outputs": [],
   "source": []
  }
 ],
 "metadata": {
  "colab": {
   "authorship_tag": "ABX9TyMZlvmSN+wxjwFXHYDBIK5l",
   "include_colab_link": true,
   "name": "MultiStepOptimiser.ipynb",
   "provenance": []
  },
  "kernelspec": {
   "display_name": "Python 3",
   "language": "python",
   "name": "python3"
  },
  "language_info": {
   "codemirror_mode": {
    "name": "ipython",
    "version": 3
   },
   "file_extension": ".py",
   "mimetype": "text/x-python",
   "name": "python",
   "nbconvert_exporter": "python",
   "pygments_lexer": "ipython3",
   "version": "3.7.3"
  }
 },
 "nbformat": 4,
 "nbformat_minor": 4
}
