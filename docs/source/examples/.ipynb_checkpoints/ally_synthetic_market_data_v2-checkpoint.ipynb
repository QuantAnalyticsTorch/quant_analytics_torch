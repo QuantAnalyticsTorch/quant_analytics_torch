{
 "cells": [
  {
   "cell_type": "code",
   "execution_count": 1,
   "metadata": {
    "execution": {
     "iopub.execute_input": "2021-09-20T18:47:36.501225Z",
     "iopub.status.busy": "2021-09-20T18:47:36.501225Z",
     "iopub.status.idle": "2021-09-20T18:47:36.521225Z",
     "shell.execute_reply": "2021-09-20T18:47:36.520274Z",
     "shell.execute_reply.started": "2021-09-20T18:47:36.501225Z"
    },
    "tags": []
   },
   "outputs": [],
   "source": [
    "# Copyright (c) FinancialCAD Corporation. All rights reserved."
   ]
  },
  {
   "cell_type": "markdown",
   "metadata": {},
   "source": [
    "# Synthetic Market Data\n",
    "\n",
    "This notebook demonstrates a synthetic market data workflow, where we replace the futures used on the short end of our Libor3m curve with synthetic IRS quotes. This same workflow can be achieved with the risk reprojection framework, which will automate the synthetic quotes, but this example shows a more manual approach where the user has full control over the creation and management of the synthetic quotes."
   ]
  },
  {
   "cell_type": "code",
   "execution_count": 2,
   "metadata": {
    "execution": {
     "iopub.execute_input": "2021-09-20T18:47:36.522230Z",
     "iopub.status.busy": "2021-09-20T18:47:36.522230Z",
     "iopub.status.idle": "2021-09-20T18:47:49.881110Z",
     "shell.execute_reply": "2021-09-20T18:47:49.880295Z",
     "shell.execute_reply.started": "2021-09-20T18:47:36.522230Z"
    }
   },
   "outputs": [],
   "source": [
    "from datetime import datetime\n",
    "\n",
    "import pytz\n",
    "\n",
    "from fincad.analytics.core import framework, types\n",
    "from fincad.analytics.core.instruments import market_conventions as mc\n",
    "from fincad.analytics.core.instruments.interest_rates import FixFloatSwap, FloatFloatSwap\n",
    "from fincad.analytics.core.modeling.snapshot_selectors import Intraday\n",
    "from fincad.analytics.core.ref_data import collateral_agreements as ref_ca, currencies, indices as ref_ind, instrument_types as it\n",
    "from fincad.analytics.core.types.instrument import BuySell\n",
    "from fincad.analytics.core.valuation.environments import set_global_valn_env\n",
    "from supporting import val_env"
   ]
  },
  {
   "cell_type": "code",
   "execution_count": 3,
   "metadata": {
    "execution": {
     "iopub.execute_input": "2021-09-20T18:47:49.881110Z",
     "iopub.status.busy": "2021-09-20T18:47:49.881110Z",
     "iopub.status.idle": "2021-09-20T18:47:49.960154Z",
     "shell.execute_reply": "2021-09-20T18:47:49.959297Z",
     "shell.execute_reply.started": "2021-09-20T18:47:49.881110Z"
    },
    "tags": []
   },
   "outputs": [],
   "source": [
    "valuation_date = pytz.timezone(\"GMT\").localize(datetime(2021, 5, 10, 13, 48, 26))\n",
    "snap = Intraday(valuation_date)\n",
    "\n",
    "set_global_valn_env(val_env.ally_valenv_risk)"
   ]
  },
  {
   "cell_type": "markdown",
   "metadata": {},
   "source": [
    "### Valuation"
   ]
  },
  {
   "cell_type": "markdown",
   "metadata": {},
   "source": [
    "First, we value a simple Libor3m swap with our base modeling, which we can compare back to later. Note the Libor3m futures in the sensitivities report."
   ]
  },
  {
   "cell_type": "code",
   "execution_count": 4,
   "metadata": {
    "execution": {
     "iopub.execute_input": "2021-09-20T18:47:49.962108Z",
     "iopub.status.busy": "2021-09-20T18:47:49.961108Z",
     "iopub.status.idle": "2021-09-20T18:47:49.976110Z",
     "shell.execute_reply": "2021-09-20T18:47:49.975252Z",
     "shell.execute_reply.started": "2021-09-20T18:47:49.962108Z"
    },
    "tags": []
   },
   "outputs": [],
   "source": [
    "spot_irs_inst = FixFloatSwap(\n",
    "    notional=\"10Mio\", floating_rate_index=ref_ind.LiborUSD3m, maturity=\"1y\", fixed_coupon=types.percent(1.5)\n",
    ")"
   ]
  },
  {
   "cell_type": "code",
   "execution_count": 5,
   "metadata": {
    "execution": {
     "iopub.execute_input": "2021-09-20T18:47:49.976110Z",
     "iopub.status.busy": "2021-09-20T18:47:49.976110Z",
     "iopub.status.idle": "2021-09-20T18:47:49.991111Z",
     "shell.execute_reply": "2021-09-20T18:47:49.990281Z",
     "shell.execute_reply.started": "2021-09-20T18:47:49.976110Z"
    },
    "tags": []
   },
   "outputs": [],
   "source": [
    "spot_irs_trade = spot_irs_inst.enter(collateral_agreement=ref_ind.USFedFunds)"
   ]
  },
  {
   "cell_type": "code",
   "execution_count": 6,
   "metadata": {
    "execution": {
     "iopub.execute_input": "2021-09-20T18:47:49.992144Z",
     "iopub.status.busy": "2021-09-20T18:47:49.991111Z",
     "iopub.status.idle": "2021-09-20T18:47:51.596389Z",
     "shell.execute_reply": "2021-09-20T18:47:51.595588Z",
     "shell.execute_reply.started": "2021-09-20T18:47:49.992144Z"
    },
    "tags": []
   },
   "outputs": [],
   "source": [
    "result = spot_irs_trade.calculate(snapshot_selector=snap)"
   ]
  },
  {
   "cell_type": "code",
   "execution_count": 7,
   "metadata": {
    "execution": {
     "iopub.execute_input": "2021-09-20T18:47:51.597389Z",
     "iopub.status.busy": "2021-09-20T18:47:51.597389Z",
     "iopub.status.idle": "2021-09-20T18:47:51.612415Z",
     "shell.execute_reply": "2021-09-20T18:47:51.611410Z",
     "shell.execute_reply.started": "2021-09-20T18:47:51.597389Z"
    },
    "tags": []
   },
   "outputs": [
    {
     "data": {
      "text/plain": [
       "129,160.42 USD"
      ]
     },
     "execution_count": 7,
     "metadata": {},
     "output_type": "execute_result"
    }
   ],
   "source": [
    "result.value"
   ]
  },
  {
   "cell_type": "code",
   "execution_count": 8,
   "metadata": {
    "execution": {
     "iopub.execute_input": "2021-09-20T18:47:51.614389Z",
     "iopub.status.busy": "2021-09-20T18:47:51.614389Z",
     "iopub.status.idle": "2021-09-20T18:47:51.644372Z",
     "shell.execute_reply": "2021-09-20T18:47:51.642373Z",
     "shell.execute_reply.started": "2021-09-20T18:47:51.614389Z"
    }
   },
   "outputs": [
    {
     "data": {
      "text/html": [
       "<div>\n",
       "<style scoped>\n",
       "    .dataframe tbody tr th:only-of-type {\n",
       "        vertical-align: middle;\n",
       "    }\n",
       "\n",
       "    .dataframe tbody tr th {\n",
       "        vertical-align: top;\n",
       "    }\n",
       "\n",
       "    .dataframe thead th {\n",
       "        text-align: right;\n",
       "    }\n",
       "</style>\n",
       "<table border=\"1\" class=\"dataframe\">\n",
       "  <thead>\n",
       "    <tr style=\"text-align: right;\">\n",
       "      <th></th>\n",
       "      <th>Exposure</th>\n",
       "      <th>Currency</th>\n",
       "      <th>RawExposure</th>\n",
       "      <th>DV01</th>\n",
       "      <th>HedgeAmount</th>\n",
       "    </tr>\n",
       "  </thead>\n",
       "  <tbody>\n",
       "    <tr>\n",
       "      <th>0</th>\n",
       "      <td>Futures|LiborUSD3m|M21</td>\n",
       "      <td>USD</td>\n",
       "      <td>-259.164917</td>\n",
       "      <td>2.591649</td>\n",
       "      <td>0.103666</td>\n",
       "    </tr>\n",
       "    <tr>\n",
       "      <th>1</th>\n",
       "      <td>Futures|LiborUSD3m|U21</td>\n",
       "      <td>USD</td>\n",
       "      <td>23583.523425</td>\n",
       "      <td>-235.835234</td>\n",
       "      <td>-9.433409</td>\n",
       "    </tr>\n",
       "    <tr>\n",
       "      <th>2</th>\n",
       "      <td>Futures|LiborUSD3m|Z21</td>\n",
       "      <td>USD</td>\n",
       "      <td>24984.551093</td>\n",
       "      <td>-249.845511</td>\n",
       "      <td>-9.993820</td>\n",
       "    </tr>\n",
       "    <tr>\n",
       "      <th>3</th>\n",
       "      <td>Futures|LiborUSD3m|H22</td>\n",
       "      <td>USD</td>\n",
       "      <td>25535.256321</td>\n",
       "      <td>-255.352563</td>\n",
       "      <td>-10.214103</td>\n",
       "    </tr>\n",
       "    <tr>\n",
       "      <th>4</th>\n",
       "      <td>Futures|LiborUSD3m|M22</td>\n",
       "      <td>USD</td>\n",
       "      <td>25530.269692</td>\n",
       "      <td>-255.302697</td>\n",
       "      <td>-10.212108</td>\n",
       "    </tr>\n",
       "    <tr>\n",
       "      <th>5</th>\n",
       "      <td>Futures|LiborUSD3m|U22</td>\n",
       "      <td>USD</td>\n",
       "      <td>1942.298034</td>\n",
       "      <td>-19.422980</td>\n",
       "      <td>-0.776919</td>\n",
       "    </tr>\n",
       "    <tr>\n",
       "      <th>6</th>\n",
       "      <td>DateValue|USD LIBOR:3m|HWFuturesVolCurveInterp...</td>\n",
       "      <td>USD</td>\n",
       "      <td>98309.140297</td>\n",
       "      <td>NaN</td>\n",
       "      <td>NaN</td>\n",
       "    </tr>\n",
       "    <tr>\n",
       "      <th>7</th>\n",
       "      <td>OIS|USFedFundsCompounded|7d</td>\n",
       "      <td>USD</td>\n",
       "      <td>-717.550372</td>\n",
       "      <td>-0.071755</td>\n",
       "      <td>-36903.718009</td>\n",
       "    </tr>\n",
       "    <tr>\n",
       "      <th>8</th>\n",
       "      <td>OIS|USFedFundsCompounded|14d</td>\n",
       "      <td>USD</td>\n",
       "      <td>0.000000</td>\n",
       "      <td>0.000000</td>\n",
       "      <td>0.000000</td>\n",
       "    </tr>\n",
       "    <tr>\n",
       "      <th>9</th>\n",
       "      <td>OIS|USFedFundsCompounded|21d</td>\n",
       "      <td>USD</td>\n",
       "      <td>0.000000</td>\n",
       "      <td>0.000000</td>\n",
       "      <td>0.000000</td>\n",
       "    </tr>\n",
       "    <tr>\n",
       "      <th>10</th>\n",
       "      <td>OIS|USFedFundsCompounded|1m</td>\n",
       "      <td>USD</td>\n",
       "      <td>0.000000</td>\n",
       "      <td>0.000000</td>\n",
       "      <td>0.000000</td>\n",
       "    </tr>\n",
       "    <tr>\n",
       "      <th>11</th>\n",
       "      <td>OIS|USFedFundsCompounded|2m</td>\n",
       "      <td>USD</td>\n",
       "      <td>0.000000</td>\n",
       "      <td>0.000000</td>\n",
       "      <td>0.000000</td>\n",
       "    </tr>\n",
       "    <tr>\n",
       "      <th>12</th>\n",
       "      <td>OIS|USFedFundsCompounded|3m</td>\n",
       "      <td>USD</td>\n",
       "      <td>0.000000</td>\n",
       "      <td>0.000000</td>\n",
       "      <td>0.000000</td>\n",
       "    </tr>\n",
       "    <tr>\n",
       "      <th>13</th>\n",
       "      <td>OIS|USFedFundsCompounded|4m</td>\n",
       "      <td>USD</td>\n",
       "      <td>0.000000</td>\n",
       "      <td>0.000000</td>\n",
       "      <td>0.000000</td>\n",
       "    </tr>\n",
       "    <tr>\n",
       "      <th>14</th>\n",
       "      <td>OIS|USFedFundsCompounded|5m</td>\n",
       "      <td>USD</td>\n",
       "      <td>0.000000</td>\n",
       "      <td>0.000000</td>\n",
       "      <td>0.000000</td>\n",
       "    </tr>\n",
       "    <tr>\n",
       "      <th>15</th>\n",
       "      <td>OIS|USFedFundsCompounded|6m</td>\n",
       "      <td>USD</td>\n",
       "      <td>1346.925514</td>\n",
       "      <td>0.134693</td>\n",
       "      <td>2636.657024</td>\n",
       "    </tr>\n",
       "    <tr>\n",
       "      <th>16</th>\n",
       "      <td>OIS|USFedFundsCompounded|9m</td>\n",
       "      <td>USD</td>\n",
       "      <td>-29973.545505</td>\n",
       "      <td>-2.997355</td>\n",
       "      <td>-38843.894936</td>\n",
       "    </tr>\n",
       "    <tr>\n",
       "      <th>17</th>\n",
       "      <td>OIS|USFedFundsCompounded|1y</td>\n",
       "      <td>USD</td>\n",
       "      <td>-69198.734871</td>\n",
       "      <td>-6.919873</td>\n",
       "      <td>-68314.042997</td>\n",
       "    </tr>\n",
       "    <tr>\n",
       "      <th>18</th>\n",
       "      <td>OIS|USFedFundsCompounded|2y</td>\n",
       "      <td>USD</td>\n",
       "      <td>-49955.183891</td>\n",
       "      <td>-4.995518</td>\n",
       "      <td>-24665.936014</td>\n",
       "    </tr>\n",
       "  </tbody>\n",
       "</table>\n",
       "</div>"
      ],
      "text/plain": [
       "                                             Exposure Currency   RawExposure  \\\n",
       "0                              Futures|LiborUSD3m|M21      USD   -259.164917   \n",
       "1                              Futures|LiborUSD3m|U21      USD  23583.523425   \n",
       "2                              Futures|LiborUSD3m|Z21      USD  24984.551093   \n",
       "3                              Futures|LiborUSD3m|H22      USD  25535.256321   \n",
       "4                              Futures|LiborUSD3m|M22      USD  25530.269692   \n",
       "5                              Futures|LiborUSD3m|U22      USD   1942.298034   \n",
       "6   DateValue|USD LIBOR:3m|HWFuturesVolCurveInterp...      USD  98309.140297   \n",
       "7                         OIS|USFedFundsCompounded|7d      USD   -717.550372   \n",
       "8                        OIS|USFedFundsCompounded|14d      USD      0.000000   \n",
       "9                        OIS|USFedFundsCompounded|21d      USD      0.000000   \n",
       "10                        OIS|USFedFundsCompounded|1m      USD      0.000000   \n",
       "11                        OIS|USFedFundsCompounded|2m      USD      0.000000   \n",
       "12                        OIS|USFedFundsCompounded|3m      USD      0.000000   \n",
       "13                        OIS|USFedFundsCompounded|4m      USD      0.000000   \n",
       "14                        OIS|USFedFundsCompounded|5m      USD      0.000000   \n",
       "15                        OIS|USFedFundsCompounded|6m      USD   1346.925514   \n",
       "16                        OIS|USFedFundsCompounded|9m      USD -29973.545505   \n",
       "17                        OIS|USFedFundsCompounded|1y      USD -69198.734871   \n",
       "18                        OIS|USFedFundsCompounded|2y      USD -49955.183891   \n",
       "\n",
       "          DV01   HedgeAmount  \n",
       "0     2.591649      0.103666  \n",
       "1  -235.835234     -9.433409  \n",
       "2  -249.845511     -9.993820  \n",
       "3  -255.352563    -10.214103  \n",
       "4  -255.302697    -10.212108  \n",
       "5   -19.422980     -0.776919  \n",
       "6          NaN           NaN  \n",
       "7    -0.071755 -36903.718009  \n",
       "8     0.000000      0.000000  \n",
       "9     0.000000      0.000000  \n",
       "10    0.000000      0.000000  \n",
       "11    0.000000      0.000000  \n",
       "12    0.000000      0.000000  \n",
       "13    0.000000      0.000000  \n",
       "14    0.000000      0.000000  \n",
       "15    0.134693   2636.657024  \n",
       "16   -2.997355 -38843.894936  \n",
       "17   -6.919873 -68314.042997  \n",
       "18   -4.995518 -24665.936014  "
      ]
     },
     "execution_count": 8,
     "metadata": {},
     "output_type": "execute_result"
    }
   ],
   "source": [
    "result.sensitivities.to_dataframe().head(25)"
   ]
  },
  {
   "cell_type": "markdown",
   "metadata": {},
   "source": [
    "## Synthetic Quotes\n",
    "\n",
    "Here we define the synthetic quotes which we're going to generate. We're going to swap out the futures being used to build the short end of the Libor3m curve with some swaps, so we first define the tenors for our synthetic quotes."
   ]
  },
  {
   "cell_type": "code",
   "execution_count": 9,
   "metadata": {
    "execution": {
     "iopub.execute_input": "2021-09-20T18:47:51.645392Z",
     "iopub.status.busy": "2021-09-20T18:47:51.645392Z",
     "iopub.status.idle": "2021-09-20T18:47:51.660372Z",
     "shell.execute_reply": "2021-09-20T18:47:51.658372Z",
     "shell.execute_reply.started": "2021-09-20T18:47:51.645392Z"
    }
   },
   "outputs": [],
   "source": [
    "import fincad.analytics.core.marketdata.util as md_util"
   ]
  },
  {
   "cell_type": "code",
   "execution_count": 10,
   "metadata": {
    "execution": {
     "iopub.execute_input": "2021-09-20T18:47:51.661373Z",
     "iopub.status.busy": "2021-09-20T18:47:51.661373Z",
     "iopub.status.idle": "2021-09-20T18:47:51.673526Z",
     "shell.execute_reply": "2021-09-20T18:47:51.673526Z",
     "shell.execute_reply.started": "2021-09-20T18:47:51.661373Z"
    }
   },
   "outputs": [],
   "source": [
    "synthetic_3m_tenors = [\"6m\", \"9m\", \"1y\", \"18m\", \"2y\"]"
   ]
  },
  {
   "cell_type": "markdown",
   "metadata": {},
   "source": [
    "The instrument identifiers used by our market data integration are generated programatically from the instrument type and quote specification. Every instrument type has a property called `instrument_identifier` which returns the first part of the string, and that is then combined with the specifics from the quote specification. Here we use a utility function to generate these identifiers for our synthetic quotes."
   ]
  },
  {
   "cell_type": "code",
   "execution_count": 11,
   "metadata": {
    "execution": {
     "iopub.execute_input": "2021-09-20T18:47:51.675392Z",
     "iopub.status.busy": "2021-09-20T18:47:51.675392Z",
     "iopub.status.idle": "2021-09-20T18:47:51.690372Z",
     "shell.execute_reply": "2021-09-20T18:47:51.689409Z",
     "shell.execute_reply.started": "2021-09-20T18:47:51.675392Z"
    }
   },
   "outputs": [
    {
     "data": {
      "text/plain": [
       "'USD-IRS-Semi-Libor-3m'"
      ]
     },
     "execution_count": 11,
     "metadata": {},
     "output_type": "execute_result"
    }
   ],
   "source": [
    "it.USD_IRS_Semi_Libor_3m.instrument_identifier"
   ]
  },
  {
   "cell_type": "code",
   "execution_count": 12,
   "metadata": {
    "execution": {
     "iopub.execute_input": "2021-09-20T18:47:51.690911Z",
     "iopub.status.busy": "2021-09-20T18:47:51.690911Z",
     "iopub.status.idle": "2021-09-20T18:47:51.705916Z",
     "shell.execute_reply": "2021-09-20T18:47:51.704904Z",
     "shell.execute_reply.started": "2021-09-20T18:47:51.690911Z"
    },
    "tags": []
   },
   "outputs": [],
   "source": [
    "synth_3m_quotespecs = [types.QuoteSpecification(maturity=tenor) for tenor in synthetic_3m_tenors]\n",
    "synth_3m_instruments = [types.MarketDataFilter(it.USD_IRS_Semi_Libor_3m, qs) for qs in synth_3m_quotespecs]"
   ]
  },
  {
   "cell_type": "code",
   "execution_count": 13,
   "metadata": {
    "execution": {
     "iopub.execute_input": "2021-09-20T18:47:51.709924Z",
     "iopub.status.busy": "2021-09-20T18:47:51.708907Z",
     "iopub.status.idle": "2021-09-20T18:47:51.720905Z",
     "shell.execute_reply": "2021-09-20T18:47:51.720905Z",
     "shell.execute_reply.started": "2021-09-20T18:47:51.709924Z"
    },
    "tags": []
   },
   "outputs": [],
   "source": [
    "synthetic_quote_ids = md_util.convert_market_data_filters_to_instrument_id_patterns(synth_3m_instruments)"
   ]
  },
  {
   "cell_type": "code",
   "execution_count": 14,
   "metadata": {
    "execution": {
     "iopub.execute_input": "2021-09-20T18:47:51.721904Z",
     "iopub.status.busy": "2021-09-20T18:47:51.721904Z",
     "iopub.status.idle": "2021-09-20T18:47:51.737904Z",
     "shell.execute_reply": "2021-09-20T18:47:51.736903Z",
     "shell.execute_reply.started": "2021-09-20T18:47:51.721904Z"
    },
    "tags": []
   },
   "outputs": [
    {
     "data": {
      "text/plain": [
       "['USD-IRS-Semi-Libor-3m__6m',\n",
       " 'USD-IRS-Semi-Libor-3m__9m',\n",
       " 'USD-IRS-Semi-Libor-3m__1y',\n",
       " 'USD-IRS-Semi-Libor-3m__18m',\n",
       " 'USD-IRS-Semi-Libor-3m__2y']"
      ]
     },
     "execution_count": 14,
     "metadata": {},
     "output_type": "execute_result"
    }
   ],
   "source": [
    "synthetic_quote_ids"
   ]
  },
  {
   "cell_type": "markdown",
   "metadata": {},
   "source": [
    "Although we're using a real instrument type here, just with new tenors, the same workflow also applies to purely synthetic instruments as well.\n",
    "\n",
    "Next, we create our new synthetic quotes by using the `synthesize_quotes` method on the instrument type."
   ]
  },
  {
   "cell_type": "code",
   "execution_count": 15,
   "metadata": {
    "execution": {
     "iopub.execute_input": "2021-09-20T18:47:51.738904Z",
     "iopub.status.busy": "2021-09-20T18:47:51.737904Z",
     "iopub.status.idle": "2021-09-20T18:47:51.753904Z",
     "shell.execute_reply": "2021-09-20T18:47:51.752903Z",
     "shell.execute_reply.started": "2021-09-20T18:47:51.738904Z"
    },
    "tags": []
   },
   "outputs": [],
   "source": [
    "synth_3m_quotes = it.USD_IRS_Semi_Libor_3m.synthesize_quotes(synth_3m_quotespecs, snapshot_selector=snap)"
   ]
  },
  {
   "cell_type": "code",
   "execution_count": 16,
   "metadata": {
    "execution": {
     "iopub.execute_input": "2021-09-20T18:47:51.754905Z",
     "iopub.status.busy": "2021-09-20T18:47:51.754905Z",
     "iopub.status.idle": "2021-09-20T18:47:51.768905Z",
     "shell.execute_reply": "2021-09-20T18:47:51.768905Z",
     "shell.execute_reply.started": "2021-09-20T18:47:51.754905Z"
    },
    "tags": []
   },
   "outputs": [
    {
     "data": {
      "text/plain": [
       "{{'maturity': '6m'}: 0.00176342755974465,\n",
       " {'maturity': '9m'}: 0.00186996738369275,\n",
       " {'maturity': '1y'}: 0.00190016913900796,\n",
       " {'maturity': '18m'}: 0.00205129600422766,\n",
       " {'maturity': '2y'}: 0.00242163547849342}"
      ]
     },
     "execution_count": 16,
     "metadata": {},
     "output_type": "execute_result"
    }
   ],
   "source": [
    "synth_3m_quotes"
   ]
  },
  {
   "cell_type": "markdown",
   "metadata": {},
   "source": [
    "We can load the market data direcly into the market data cache in the form of a dictionary."
   ]
  },
  {
   "cell_type": "code",
   "execution_count": 17,
   "metadata": {
    "execution": {
     "iopub.execute_input": "2021-09-20T18:47:51.769904Z",
     "iopub.status.busy": "2021-09-20T18:47:51.769904Z",
     "iopub.status.idle": "2021-09-20T18:47:51.785072Z",
     "shell.execute_reply": "2021-09-20T18:47:51.784147Z",
     "shell.execute_reply.started": "2021-09-20T18:47:51.769904Z"
    },
    "tags": []
   },
   "outputs": [],
   "source": [
    "mdc = val_env.md_collector_source_bbg_on_demand"
   ]
  },
  {
   "cell_type": "code",
   "execution_count": 18,
   "metadata": {
    "execution": {
     "iopub.execute_input": "2021-09-20T18:47:51.786043Z",
     "iopub.status.busy": "2021-09-20T18:47:51.786043Z",
     "iopub.status.idle": "2021-09-20T18:47:51.801043Z",
     "shell.execute_reply": "2021-09-20T18:47:51.800327Z",
     "shell.execute_reply.started": "2021-09-20T18:47:51.786043Z"
    }
   },
   "outputs": [],
   "source": [
    "synthetic_quotes = dict()\n",
    "for quote_id, value in zip(synthetic_quote_ids, synth_3m_quotes.values()):\n",
    "    synthetic_quotes[quote_id] = {\n",
    "        'mid': str(value),\n",
    "        'instrument_id': quote_id,\n",
    "        'instrument_type': it.USD_IRS_Semi_Libor_3m.instrument_identifier,\n",
    "        'effective_timestamp': '2021-05-10T12:00:00+00:00',\n",
    "    }"
   ]
  },
  {
   "cell_type": "markdown",
   "metadata": {},
   "source": [
    "In order for the synthetic market data to be used alongside the real Libor3m quotes we've imported from Bloomberg, we need to ensure that the `snapshot_id` argument matches the Bloomberg market data. We can query the market data collector for a list of snapshot_ids, and as there's only one here, it's easy to match it up to the Bloomberg quotes."
   ]
  },
  {
   "cell_type": "code",
   "execution_count": 19,
   "metadata": {
    "execution": {
     "iopub.execute_input": "2021-09-20T18:47:51.802043Z",
     "iopub.status.busy": "2021-09-20T18:47:51.802043Z",
     "iopub.status.idle": "2021-09-20T18:47:51.816043Z",
     "shell.execute_reply": "2021-09-20T18:47:51.815043Z",
     "shell.execute_reply.started": "2021-09-20T18:47:51.802043Z"
    },
    "tags": []
   },
   "outputs": [
    {
     "data": {
      "text/plain": [
       "['2021-05-10T13:48:26+00:00']"
      ]
     },
     "execution_count": 19,
     "metadata": {},
     "output_type": "execute_result"
    }
   ],
   "source": [
    "list(mdc.mdp.snapshots.keys())"
   ]
  },
  {
   "cell_type": "code",
   "execution_count": 20,
   "metadata": {
    "execution": {
     "iopub.execute_input": "2021-09-20T18:47:51.817421Z",
     "iopub.status.busy": "2021-09-20T18:47:51.817044Z",
     "iopub.status.idle": "2021-09-20T18:47:51.831042Z",
     "shell.execute_reply": "2021-09-20T18:47:51.830042Z",
     "shell.execute_reply.started": "2021-09-20T18:47:51.817421Z"
    },
    "tags": []
   },
   "outputs": [],
   "source": [
    "mdc.mdp.put_quotes(snapshot_id='2021-05-10T13:48:26+00:00', quotes=synthetic_quotes)"
   ]
  },
  {
   "cell_type": "markdown",
   "metadata": {},
   "source": [
    "## New Valuation Environment"
   ]
  },
  {
   "cell_type": "markdown",
   "metadata": {},
   "source": [
    "Now, we'll set up a new valuation environment. This will be identical to the one used above, but instead of futures on the short end of the Libor3 curve, we're going to use IRS quotes corresponding to the synthetic market data quotes we've created."
   ]
  },
  {
   "cell_type": "code",
   "execution_count": 21,
   "metadata": {
    "execution": {
     "iopub.execute_input": "2021-09-20T18:47:51.832043Z",
     "iopub.status.busy": "2021-09-20T18:47:51.832043Z",
     "iopub.status.idle": "2021-09-20T18:47:51.846044Z",
     "shell.execute_reply": "2021-09-20T18:47:51.845043Z",
     "shell.execute_reply.started": "2021-09-20T18:47:51.832043Z"
    },
    "tags": []
   },
   "outputs": [],
   "source": [
    "from fincad.analytics.core.modeling import calib_util, interpolation\n",
    "from fincad.analytics.core.modeling.discounting import Multicurve\n",
    "from fincad.analytics.core.modeling.interest_rates import (\n",
    "    ImpliedRateCurve,\n",
    "    NullConvexityAdjustment,\n",
    ")\n",
    "from fincad.analytics.core.valuation.environments import SinglePricerValuationEnvironment, use_valn_environment\n",
    "from fincad.analytics.core.valuation_methods import Curves"
   ]
  },
  {
   "cell_type": "code",
   "execution_count": 22,
   "metadata": {
    "execution": {
     "iopub.execute_input": "2021-09-20T18:47:51.847043Z",
     "iopub.status.busy": "2021-09-20T18:47:51.846044Z",
     "iopub.status.idle": "2021-09-20T18:47:51.861044Z",
     "shell.execute_reply": "2021-09-20T18:47:51.861044Z",
     "shell.execute_reply.started": "2021-09-20T18:47:51.847043Z"
    },
    "tags": []
   },
   "outputs": [],
   "source": [
    "calibration_config = {\n",
    "    ref_ind.USFedFunds: (\n",
    "        calib_util.form_curve_instruments(\n",
    "            it.USD_OIS_USFedFunds,\n",
    "            quote_specifications=[\n",
    "                types.QuoteSpecification(maturity=tenor)\n",
    "                for tenor in [\"7d\", \"14d\", \"21d\", \"1m\", \"2m\", \"3m\", \"4m\", \"5m\", \"6m\", \"9m\", \"1y\", \"2y\", \"4y\"]\n",
    "            ],\n",
    "        ),\n",
    "        calib_util.form_curve_instruments(\n",
    "            it.USD_BasisSwap_USFedFunds_Libor_3m,\n",
    "            quote_specifications=[\n",
    "                types.QuoteSpecification(maturity=tenor)\n",
    "                for tenor in [\"5y\", \"6y\", \"7y\", \"8y\", \"9y\", \"10y\", \"12y\", \"15y\", \"20y\", \"25y\", \"30y\"]\n",
    "            ],\n",
    "        ),\n",
    "    ),\n",
    "    ref_ind.SOFR: (\n",
    "        calib_util.form_curve_instruments(it.USD_Futures_SOFR_3m, quote_range=(\"1w\", \"3y\"),),\n",
    "        calib_util.form_curve_instruments(\n",
    "            it.USD_BasisSwap_SOFR_USFedFunds,\n",
    "            quote_specifications=[\n",
    "                types.QuoteSpecification(maturity=tenor)\n",
    "                for tenor in [\"3y\", \"4y\", \"5y\", \"7y\", \"10y\", \"12y\", \"15y\", \"20y\", \"25y\", \"30y\"]\n",
    "            ],\n",
    "        ),\n",
    "    ),\n",
    "    ref_ind.LiborUSD3m: (\n",
    "        calib_util.form_curve_instruments(\n",
    "            it.USD_IRS_Semi_Libor_3m,\n",
    "            quote_specifications=[\n",
    "                types.QuoteSpecification(maturity=tenor)\n",
    "                for tenor in [\"6m\", \"9m\", \"1y\", \"18m\", \"2y\", \n",
    "                              \"3y\", \"4y\", \"5y\", \"6y\", \"7y\", \"8y\", \"9y\", \"10y\", \"11y\", \"12y\", \"15y\", \"20y\", \"25y\", \"30y\", \"40y\", \"50y\",\n",
    "                ]\n",
    "            ],\n",
    "        ),\n",
    "    ),\n",
    "}"
   ]
  },
  {
   "cell_type": "code",
   "execution_count": 23,
   "metadata": {
    "execution": {
     "iopub.execute_input": "2021-09-20T18:47:51.863044Z",
     "iopub.status.busy": "2021-09-20T18:47:51.863044Z",
     "iopub.status.idle": "2021-09-20T18:47:51.877043Z",
     "shell.execute_reply": "2021-09-20T18:47:51.877043Z",
     "shell.execute_reply.started": "2021-09-20T18:47:51.863044Z"
    },
    "tags": []
   },
   "outputs": [],
   "source": [
    "multi_crv_component = Multicurve(\n",
    "    calibration_curve_config=calibration_config, interpolation_method=interpolation.log_linear\n",
    ")"
   ]
  },
  {
   "cell_type": "code",
   "execution_count": 24,
   "metadata": {
    "execution": {
     "iopub.execute_input": "2021-09-20T18:47:51.878046Z",
     "iopub.status.busy": "2021-09-20T18:47:51.878046Z",
     "iopub.status.idle": "2021-09-20T18:47:51.893047Z",
     "shell.execute_reply": "2021-09-20T18:47:51.892044Z",
     "shell.execute_reply.started": "2021-09-20T18:47:51.878046Z"
    },
    "tags": []
   },
   "outputs": [],
   "source": [
    "conv_adj = [\n",
    "    NullConvexityAdjustment(it.USD_Futures_FedFunds),\n",
    "    NullConvexityAdjustment(it.USD_Futures_SOFR_3m),\n",
    "]"
   ]
  },
  {
   "cell_type": "code",
   "execution_count": 25,
   "metadata": {
    "execution": {
     "iopub.execute_input": "2021-09-20T18:47:51.894044Z",
     "iopub.status.busy": "2021-09-20T18:47:51.894044Z",
     "iopub.status.idle": "2021-09-20T18:47:51.907048Z",
     "shell.execute_reply": "2021-09-20T18:47:51.907048Z",
     "shell.execute_reply.started": "2021-09-20T18:47:51.894044Z"
    },
    "tags": []
   },
   "outputs": [],
   "source": [
    "forward_curves = [\n",
    "    ImpliedRateCurve(rate_index=ref_ind.USFedFunds, collateral_agreement=ref_ind.USFedFunds),\n",
    "    ImpliedRateCurve(rate_index=ref_ind.SOFR, collateral_agreement=ref_ind.SOFR),\n",
    "    ImpliedRateCurve(rate_index=ref_ind.LiborUSD3m, collateral_agreement=ref_ind.LiborUSD3m),\n",
    "]"
   ]
  },
  {
   "cell_type": "code",
   "execution_count": 26,
   "metadata": {
    "execution": {
     "iopub.execute_input": "2021-09-20T18:47:51.908043Z",
     "iopub.status.busy": "2021-09-20T18:47:51.908043Z",
     "iopub.status.idle": "2021-09-20T18:47:51.923048Z",
     "shell.execute_reply": "2021-09-20T18:47:51.923048Z",
     "shell.execute_reply.started": "2021-09-20T18:47:51.908043Z"
    },
    "tags": []
   },
   "outputs": [],
   "source": [
    "new_model_defn = framework.ModelDefinition([multi_crv_component] + conv_adj + forward_curves)"
   ]
  },
  {
   "cell_type": "code",
   "execution_count": 27,
   "metadata": {
    "execution": {
     "iopub.execute_input": "2021-09-20T18:47:51.924043Z",
     "iopub.status.busy": "2021-09-20T18:47:51.924043Z",
     "iopub.status.idle": "2021-09-20T18:47:51.939048Z",
     "shell.execute_reply": "2021-09-20T18:47:51.939048Z",
     "shell.execute_reply.started": "2021-09-20T18:47:51.924043Z"
    },
    "tags": []
   },
   "outputs": [],
   "source": [
    "new_pricer = framework.F3Pricer(\n",
    "    model_defn=new_model_defn,\n",
    "    market_data_collector=mdc,\n",
    "    valn_method=Curves(),\n",
    "    base_settings=framework.FundamentalValuationSettings(reporting_ccy=currencies.USD),\n",
    ")"
   ]
  },
  {
   "cell_type": "code",
   "execution_count": 28,
   "metadata": {
    "execution": {
     "iopub.execute_input": "2021-09-20T18:47:51.940044Z",
     "iopub.status.busy": "2021-09-20T18:47:51.940044Z",
     "iopub.status.idle": "2021-09-20T18:47:51.955043Z",
     "shell.execute_reply": "2021-09-20T18:47:51.954048Z",
     "shell.execute_reply.started": "2021-09-20T18:47:51.940044Z"
    },
    "tags": []
   },
   "outputs": [],
   "source": [
    "new_valenv = SinglePricerValuationEnvironment(new_pricer)"
   ]
  },
  {
   "cell_type": "markdown",
   "metadata": {},
   "source": [
    "Now that we have our new valuation environment, we can use it to value our swap. The valuation is close to our original one, with a small difference due to the synthetic tenors not lining up with the original futures quotes, and we can see that the synthetic IRS quotes show up in the sensitivities report."
   ]
  },
  {
   "cell_type": "code",
   "execution_count": 29,
   "metadata": {
    "execution": {
     "iopub.execute_input": "2021-09-20T18:47:51.955043Z",
     "iopub.status.busy": "2021-09-20T18:47:51.955043Z",
     "iopub.status.idle": "2021-09-20T18:47:53.093866Z",
     "shell.execute_reply": "2021-09-20T18:47:53.093046Z",
     "shell.execute_reply.started": "2021-09-20T18:47:51.955043Z"
    },
    "tags": []
   },
   "outputs": [],
   "source": [
    "with use_valn_environment(new_valenv):\n",
    "    new_result = spot_irs_trade.calculate(snapshot_selector=snap)"
   ]
  },
  {
   "cell_type": "code",
   "execution_count": 30,
   "metadata": {
    "execution": {
     "iopub.execute_input": "2021-09-20T18:47:53.094859Z",
     "iopub.status.busy": "2021-09-20T18:47:53.093866Z",
     "iopub.status.idle": "2021-09-20T18:47:53.108868Z",
     "shell.execute_reply": "2021-09-20T18:47:53.107905Z",
     "shell.execute_reply.started": "2021-09-20T18:47:53.094859Z"
    }
   },
   "outputs": [
    {
     "data": {
      "text/plain": [
       "128,780.82 USD"
      ]
     },
     "execution_count": 30,
     "metadata": {},
     "output_type": "execute_result"
    }
   ],
   "source": [
    "new_result.value"
   ]
  },
  {
   "cell_type": "code",
   "execution_count": 31,
   "metadata": {
    "execution": {
     "iopub.execute_input": "2021-09-20T18:47:53.109871Z",
     "iopub.status.busy": "2021-09-20T18:47:53.109871Z",
     "iopub.status.idle": "2021-09-20T18:47:53.139878Z",
     "shell.execute_reply": "2021-09-20T18:47:53.138905Z",
     "shell.execute_reply.started": "2021-09-20T18:47:53.109871Z"
    },
    "tags": []
   },
   "outputs": [
    {
     "data": {
      "text/html": [
       "<div>\n",
       "<style scoped>\n",
       "    .dataframe tbody tr th:only-of-type {\n",
       "        vertical-align: middle;\n",
       "    }\n",
       "\n",
       "    .dataframe tbody tr th {\n",
       "        vertical-align: top;\n",
       "    }\n",
       "\n",
       "    .dataframe thead th {\n",
       "        text-align: right;\n",
       "    }\n",
       "</style>\n",
       "<table border=\"1\" class=\"dataframe\">\n",
       "  <thead>\n",
       "    <tr style=\"text-align: right;\">\n",
       "      <th></th>\n",
       "      <th>Exposure</th>\n",
       "      <th>Currency</th>\n",
       "      <th>RawExposure</th>\n",
       "      <th>DV01</th>\n",
       "      <th>HedgeAmount</th>\n",
       "    </tr>\n",
       "  </thead>\n",
       "  <tbody>\n",
       "    <tr>\n",
       "      <th>0</th>\n",
       "      <td>RateBasisSwap|SOFRCompounded|USFedFundsCompoun...</td>\n",
       "      <td>USD</td>\n",
       "      <td>-1.665578e+03</td>\n",
       "      <td>-1.665578e-01</td>\n",
       "      <td>-5.472941e+02</td>\n",
       "    </tr>\n",
       "    <tr>\n",
       "      <th>1</th>\n",
       "      <td>RateBasisSwap|SOFRCompounded|USFedFundsCompoun...</td>\n",
       "      <td>USD</td>\n",
       "      <td>1.193270e-06</td>\n",
       "      <td>1.193270e-10</td>\n",
       "      <td>2.945066e-07</td>\n",
       "    </tr>\n",
       "    <tr>\n",
       "      <th>2</th>\n",
       "      <td>IRS|LiborUSD3m|3y</td>\n",
       "      <td>USD</td>\n",
       "      <td>0.000000e+00</td>\n",
       "      <td>0.000000e+00</td>\n",
       "      <td>0.000000e+00</td>\n",
       "    </tr>\n",
       "    <tr>\n",
       "      <th>3</th>\n",
       "      <td>IRS|LiborUSD3m|4y</td>\n",
       "      <td>USD</td>\n",
       "      <td>0.000000e+00</td>\n",
       "      <td>0.000000e+00</td>\n",
       "      <td>0.000000e+00</td>\n",
       "    </tr>\n",
       "    <tr>\n",
       "      <th>4</th>\n",
       "      <td>IRS|LiborUSD3m|5y</td>\n",
       "      <td>USD</td>\n",
       "      <td>0.000000e+00</td>\n",
       "      <td>0.000000e+00</td>\n",
       "      <td>0.000000e+00</td>\n",
       "    </tr>\n",
       "    <tr>\n",
       "      <th>5</th>\n",
       "      <td>IRS|LiborUSD3m|6y</td>\n",
       "      <td>USD</td>\n",
       "      <td>0.000000e+00</td>\n",
       "      <td>0.000000e+00</td>\n",
       "      <td>0.000000e+00</td>\n",
       "    </tr>\n",
       "    <tr>\n",
       "      <th>6</th>\n",
       "      <td>IRS|LiborUSD3m|7y</td>\n",
       "      <td>USD</td>\n",
       "      <td>0.000000e+00</td>\n",
       "      <td>0.000000e+00</td>\n",
       "      <td>0.000000e+00</td>\n",
       "    </tr>\n",
       "    <tr>\n",
       "      <th>7</th>\n",
       "      <td>IRS|LiborUSD3m|8y</td>\n",
       "      <td>USD</td>\n",
       "      <td>0.000000e+00</td>\n",
       "      <td>0.000000e+00</td>\n",
       "      <td>0.000000e+00</td>\n",
       "    </tr>\n",
       "    <tr>\n",
       "      <th>8</th>\n",
       "      <td>IRS|LiborUSD3m|9y</td>\n",
       "      <td>USD</td>\n",
       "      <td>0.000000e+00</td>\n",
       "      <td>0.000000e+00</td>\n",
       "      <td>0.000000e+00</td>\n",
       "    </tr>\n",
       "    <tr>\n",
       "      <th>9</th>\n",
       "      <td>IRS|LiborUSD3m|10y</td>\n",
       "      <td>USD</td>\n",
       "      <td>0.000000e+00</td>\n",
       "      <td>0.000000e+00</td>\n",
       "      <td>0.000000e+00</td>\n",
       "    </tr>\n",
       "    <tr>\n",
       "      <th>10</th>\n",
       "      <td>IRS|LiborUSD3m|11y</td>\n",
       "      <td>USD</td>\n",
       "      <td>0.000000e+00</td>\n",
       "      <td>0.000000e+00</td>\n",
       "      <td>0.000000e+00</td>\n",
       "    </tr>\n",
       "    <tr>\n",
       "      <th>11</th>\n",
       "      <td>IRS|LiborUSD3m|12y</td>\n",
       "      <td>USD</td>\n",
       "      <td>0.000000e+00</td>\n",
       "      <td>0.000000e+00</td>\n",
       "      <td>0.000000e+00</td>\n",
       "    </tr>\n",
       "    <tr>\n",
       "      <th>12</th>\n",
       "      <td>IRS|LiborUSD3m|15y</td>\n",
       "      <td>USD</td>\n",
       "      <td>0.000000e+00</td>\n",
       "      <td>0.000000e+00</td>\n",
       "      <td>0.000000e+00</td>\n",
       "    </tr>\n",
       "    <tr>\n",
       "      <th>13</th>\n",
       "      <td>IRS|LiborUSD3m|20y</td>\n",
       "      <td>USD</td>\n",
       "      <td>0.000000e+00</td>\n",
       "      <td>0.000000e+00</td>\n",
       "      <td>0.000000e+00</td>\n",
       "    </tr>\n",
       "    <tr>\n",
       "      <th>14</th>\n",
       "      <td>IRS|LiborUSD3m|25y</td>\n",
       "      <td>USD</td>\n",
       "      <td>0.000000e+00</td>\n",
       "      <td>0.000000e+00</td>\n",
       "      <td>0.000000e+00</td>\n",
       "    </tr>\n",
       "    <tr>\n",
       "      <th>15</th>\n",
       "      <td>IRS|LiborUSD3m|30y</td>\n",
       "      <td>USD</td>\n",
       "      <td>0.000000e+00</td>\n",
       "      <td>0.000000e+00</td>\n",
       "      <td>0.000000e+00</td>\n",
       "    </tr>\n",
       "    <tr>\n",
       "      <th>16</th>\n",
       "      <td>IRS|LiborUSD3m|40y</td>\n",
       "      <td>USD</td>\n",
       "      <td>0.000000e+00</td>\n",
       "      <td>0.000000e+00</td>\n",
       "      <td>0.000000e+00</td>\n",
       "    </tr>\n",
       "    <tr>\n",
       "      <th>17</th>\n",
       "      <td>IRS|LiborUSD3m|50y</td>\n",
       "      <td>USD</td>\n",
       "      <td>0.000000e+00</td>\n",
       "      <td>0.000000e+00</td>\n",
       "      <td>0.000000e+00</td>\n",
       "    </tr>\n",
       "    <tr>\n",
       "      <th>18</th>\n",
       "      <td>IRS|LiborUSD3m|6m</td>\n",
       "      <td>USD</td>\n",
       "      <td>3.613197e+06</td>\n",
       "      <td>3.613197e+02</td>\n",
       "      <td>7.230068e+06</td>\n",
       "    </tr>\n",
       "    <tr>\n",
       "      <th>19</th>\n",
       "      <td>IRS|LiborUSD3m|9m</td>\n",
       "      <td>USD</td>\n",
       "      <td>1.013070e+05</td>\n",
       "      <td>1.013070e+01</td>\n",
       "      <td>1.341614e+05</td>\n",
       "    </tr>\n",
       "    <tr>\n",
       "      <th>20</th>\n",
       "      <td>IRS|LiborUSD3m|1y</td>\n",
       "      <td>USD</td>\n",
       "      <td>-3.044476e+06</td>\n",
       "      <td>-3.044476e+02</td>\n",
       "      <td>-3.046650e+06</td>\n",
       "    </tr>\n",
       "    <tr>\n",
       "      <th>21</th>\n",
       "      <td>IRS|LiborUSD3m|18m</td>\n",
       "      <td>USD</td>\n",
       "      <td>-1.066398e+07</td>\n",
       "      <td>-1.066398e+03</td>\n",
       "      <td>-7.089390e+06</td>\n",
       "    </tr>\n",
       "    <tr>\n",
       "      <th>22</th>\n",
       "      <td>Futures|SOFRCompounded|U20</td>\n",
       "      <td>USD</td>\n",
       "      <td>0.000000e+00</td>\n",
       "      <td>NaN</td>\n",
       "      <td>NaN</td>\n",
       "    </tr>\n",
       "    <tr>\n",
       "      <th>23</th>\n",
       "      <td>Futures|SOFRCompounded|Z20</td>\n",
       "      <td>USD</td>\n",
       "      <td>0.000000e+00</td>\n",
       "      <td>NaN</td>\n",
       "      <td>NaN</td>\n",
       "    </tr>\n",
       "    <tr>\n",
       "      <th>24</th>\n",
       "      <td>Futures|SOFRCompounded|H21</td>\n",
       "      <td>USD</td>\n",
       "      <td>0.000000e+00</td>\n",
       "      <td>NaN</td>\n",
       "      <td>NaN</td>\n",
       "    </tr>\n",
       "  </tbody>\n",
       "</table>\n",
       "</div>"
      ],
      "text/plain": [
       "                                             Exposure Currency   RawExposure  \\\n",
       "0   RateBasisSwap|SOFRCompounded|USFedFundsCompoun...      USD -1.665578e+03   \n",
       "1   RateBasisSwap|SOFRCompounded|USFedFundsCompoun...      USD  1.193270e-06   \n",
       "2                                   IRS|LiborUSD3m|3y      USD  0.000000e+00   \n",
       "3                                   IRS|LiborUSD3m|4y      USD  0.000000e+00   \n",
       "4                                   IRS|LiborUSD3m|5y      USD  0.000000e+00   \n",
       "5                                   IRS|LiborUSD3m|6y      USD  0.000000e+00   \n",
       "6                                   IRS|LiborUSD3m|7y      USD  0.000000e+00   \n",
       "7                                   IRS|LiborUSD3m|8y      USD  0.000000e+00   \n",
       "8                                   IRS|LiborUSD3m|9y      USD  0.000000e+00   \n",
       "9                                  IRS|LiborUSD3m|10y      USD  0.000000e+00   \n",
       "10                                 IRS|LiborUSD3m|11y      USD  0.000000e+00   \n",
       "11                                 IRS|LiborUSD3m|12y      USD  0.000000e+00   \n",
       "12                                 IRS|LiborUSD3m|15y      USD  0.000000e+00   \n",
       "13                                 IRS|LiborUSD3m|20y      USD  0.000000e+00   \n",
       "14                                 IRS|LiborUSD3m|25y      USD  0.000000e+00   \n",
       "15                                 IRS|LiborUSD3m|30y      USD  0.000000e+00   \n",
       "16                                 IRS|LiborUSD3m|40y      USD  0.000000e+00   \n",
       "17                                 IRS|LiborUSD3m|50y      USD  0.000000e+00   \n",
       "18                                  IRS|LiborUSD3m|6m      USD  3.613197e+06   \n",
       "19                                  IRS|LiborUSD3m|9m      USD  1.013070e+05   \n",
       "20                                  IRS|LiborUSD3m|1y      USD -3.044476e+06   \n",
       "21                                 IRS|LiborUSD3m|18m      USD -1.066398e+07   \n",
       "22                         Futures|SOFRCompounded|U20      USD  0.000000e+00   \n",
       "23                         Futures|SOFRCompounded|Z20      USD  0.000000e+00   \n",
       "24                         Futures|SOFRCompounded|H21      USD  0.000000e+00   \n",
       "\n",
       "            DV01   HedgeAmount  \n",
       "0  -1.665578e-01 -5.472941e+02  \n",
       "1   1.193270e-10  2.945066e-07  \n",
       "2   0.000000e+00  0.000000e+00  \n",
       "3   0.000000e+00  0.000000e+00  \n",
       "4   0.000000e+00  0.000000e+00  \n",
       "5   0.000000e+00  0.000000e+00  \n",
       "6   0.000000e+00  0.000000e+00  \n",
       "7   0.000000e+00  0.000000e+00  \n",
       "8   0.000000e+00  0.000000e+00  \n",
       "9   0.000000e+00  0.000000e+00  \n",
       "10  0.000000e+00  0.000000e+00  \n",
       "11  0.000000e+00  0.000000e+00  \n",
       "12  0.000000e+00  0.000000e+00  \n",
       "13  0.000000e+00  0.000000e+00  \n",
       "14  0.000000e+00  0.000000e+00  \n",
       "15  0.000000e+00  0.000000e+00  \n",
       "16  0.000000e+00  0.000000e+00  \n",
       "17  0.000000e+00  0.000000e+00  \n",
       "18  3.613197e+02  7.230068e+06  \n",
       "19  1.013070e+01  1.341614e+05  \n",
       "20 -3.044476e+02 -3.046650e+06  \n",
       "21 -1.066398e+03 -7.089390e+06  \n",
       "22           NaN           NaN  \n",
       "23           NaN           NaN  \n",
       "24           NaN           NaN  "
      ]
     },
     "execution_count": 31,
     "metadata": {},
     "output_type": "execute_result"
    }
   ],
   "source": [
    "new_result.sensitivities.to_dataframe().head(25)"
   ]
  },
  {
   "cell_type": "code",
   "execution_count": null,
   "metadata": {},
   "outputs": [],
   "source": []
  }
 ],
 "metadata": {
  "anaconda-cloud": {},
  "kernelspec": {
   "display_name": "Python 3 (ipykernel)",
   "language": "python",
   "name": "python3"
  },
  "language_info": {
   "codemirror_mode": {
    "name": "ipython",
    "version": 3
   },
   "file_extension": ".py",
   "mimetype": "text/x-python",
   "name": "python",
   "nbconvert_exporter": "python",
   "pygments_lexer": "ipython3",
   "version": "3.8.6"
  }
 },
 "nbformat": 4,
 "nbformat_minor": 4
}
