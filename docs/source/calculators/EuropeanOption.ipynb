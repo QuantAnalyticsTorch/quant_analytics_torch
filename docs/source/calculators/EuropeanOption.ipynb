{
 "cells": [
  {
   "cell_type": "code",
   "execution_count": 7,
   "metadata": {},
   "outputs": [],
   "source": [
    "# Copyright (c) Quant Analytics. All rights reserved.\n",
    "from quant_analytics_torch.marketdata import marketdatarepository\n",
    "from quant_analytics_torch.instruments import instruments\n",
    "from quant_analytics_torch.instruments import currencies\n",
    "from quant_analytics_torch.interpolators import interpolate\n",
    "from quant_analytics_torch.models import models, modelutil\n",
    "from quant_analytics_torch.analytics import constants\n",
    "from quant_analytics_torch.calculators import forwardcalculator, europeanoptioncalculator\n",
    "\n",
    "import datetime"
   ]
  },
  {
   "cell_type": "code",
   "execution_count": 11,
   "metadata": {},
   "outputs": [],
   "source": [
    "marketdatarepository.fillSampleDate(marketdatarepository.marketDataRepositorySingleton)\n",
    "inst = instruments.Asset(\"SPX\", currencies.USD)\n",
    "euo = instruments.EuropeanOption(\"SPX-1\", inst, maturity=datetime.datetime(2023,6,12), strike=100., ccy=currencies.USD )\n",
    "\n",
    "model = modelutil.fillSampleModel(inst)"
   ]
  },
  {
   "cell_type": "code",
   "execution_count": 13,
   "metadata": {},
   "outputs": [],
   "source": [
    "cal = europeanoptioncalculator.EuropeanOptionCalculator(euo, model)\n",
    "\n",
    "v = cal.calculate()\n",
    "\n",
    "v.backward(create_graph=True)\n"
   ]
  },
  {
   "cell_type": "code",
   "execution_count": 9,
   "metadata": {},
   "outputs": [
    {
     "name": "stdout",
     "output_type": "stream",
     "text": [
      "discountfactors.USD.param.0\n",
      "{'type': 'CashDeposit', 'id': {'CashDeposit': {'USD': datetime.datetime(2021, 12, 12, 0, 0)}}}\n",
      "tensor(0.9900, dtype=torch.float64, requires_grad=True)\n",
      "tensor(0., dtype=torch.float64, grad_fn=<CopyBackwards>)\n",
      "discountfactors.USD.param.1\n",
      "{'type': 'CashDeposit', 'id': {'CashDeposit': {'USD': datetime.datetime(2022, 12, 12, 0, 0)}}}\n",
      "tensor(0.9800, dtype=torch.float64, requires_grad=True)\n",
      "tensor(5.2477, dtype=torch.float64, grad_fn=<CopyBackwards>)\n",
      "discountfactors.USD.param.2\n",
      "{'type': 'CashDeposit', 'id': {'CashDeposit': {'USD': datetime.datetime(2023, 12, 12, 0, 0)}}}\n",
      "tensor(0.9700, dtype=torch.float64, requires_grad=True)\n",
      "tensor(5.2190, dtype=torch.float64, grad_fn=<CopyBackwards>)\n",
      "forwards.SPX.param.0\n",
      "{'type': 'Forward', 'id': {'Forward': {'SPX': {datetime.datetime(2021, 12, 12, 0, 0): nan}}}}\n",
      "tensor(101., dtype=torch.float64, requires_grad=True)\n",
      "tensor(1.7919e-10, dtype=torch.float64, grad_fn=<CopyBackwards>)\n",
      "forwards.SPX.param.1\n",
      "{'type': 'Forward', 'id': {'Forward': {'SPX': {datetime.datetime(2022, 12, 12, 0, 0): nan}}}}\n",
      "tensor(102., dtype=torch.float64, requires_grad=True)\n",
      "tensor(0.3012, dtype=torch.float64, grad_fn=<CopyBackwards>)\n",
      "forwards.SPX.param.2\n",
      "{'type': 'Forward', 'id': {'Forward': {'SPX': {datetime.datetime(2023, 12, 12, 0, 0): nan}}}}\n",
      "tensor(103., dtype=torch.float64, requires_grad=True)\n",
      "tensor(0.2996, dtype=torch.float64, grad_fn=<CopyBackwards>)\n",
      "volatilities.SPX.param.0\n",
      "{'type': 'SSVIVolatility', 'id': {'SSVIVolatility': {'SPX': {datetime.datetime(2022, 12, 12, 0, 0): <SSVIParam.Theta: 1>}}}}\n",
      "tensor(0.2000, dtype=torch.float64, requires_grad=True)\n",
      "tensor(21.9340, dtype=torch.float64, grad_fn=<CopyBackwards>)\n",
      "volatilities.SPX.param.1\n",
      "{'type': 'SSVIVolatility', 'id': {'SSVIVolatility': {'SPX': {datetime.datetime(2022, 12, 12, 0, 0): <SSVIParam.Beta: 2>}}}}\n",
      "tensor(3., dtype=torch.float64, requires_grad=True)\n",
      "tensor(0.0117, dtype=torch.float64, grad_fn=<CopyBackwards>)\n",
      "volatilities.SPX.param.2\n",
      "{'type': 'SSVIVolatility', 'id': {'SSVIVolatility': {'SPX': {datetime.datetime(2022, 12, 12, 0, 0): <SSVIParam.Rho: 3>}}}}\n",
      "tensor(-0.5000, dtype=torch.float64, requires_grad=True)\n",
      "tensor(-0.9268, dtype=torch.float64, grad_fn=<CopyBackwards>)\n",
      "volatilities.SPX.param.3\n",
      "{'type': 'SSVIVolatility', 'id': {'SSVIVolatility': {'SPX': {datetime.datetime(2023, 12, 12, 0, 0): <SSVIParam.Theta: 1>}}}}\n",
      "tensor(0.2000, dtype=torch.float64, requires_grad=True)\n",
      "tensor(21.8141, dtype=torch.float64, grad_fn=<CopyBackwards>)\n",
      "volatilities.SPX.param.4\n",
      "{'type': 'SSVIVolatility', 'id': {'SSVIVolatility': {'SPX': {datetime.datetime(2023, 12, 12, 0, 0): <SSVIParam.Beta: 2>}}}}\n",
      "tensor(3., dtype=torch.float64, requires_grad=True)\n",
      "tensor(0.0116, dtype=torch.float64, grad_fn=<CopyBackwards>)\n",
      "volatilities.SPX.param.5\n",
      "{'type': 'SSVIVolatility', 'id': {'SSVIVolatility': {'SPX': {datetime.datetime(2023, 12, 12, 0, 0): <SSVIParam.Rho: 3>}}}}\n",
      "tensor(-0.5000, dtype=torch.float64, requires_grad=True)\n",
      "tensor(-0.9218, dtype=torch.float64, grad_fn=<CopyBackwards>)\n"
     ]
    }
   ],
   "source": [
    "for name, param in model.named_parameters():\n",
    "    print(name)\n",
    "    print(param.getName())\n",
    "    print(param.getValue())\n",
    "    print(param.getValue().grad)\n",
    "    param.grad = None"
   ]
  },
  {
   "cell_type": "code",
   "execution_count": null,
   "metadata": {},
   "outputs": [],
   "source": []
  }
 ],
 "metadata": {
  "interpreter": {
   "hash": "8433894af1d87b89b5febf3f1e6ad7d1e244ca249dde9515d9f5bf225c53ea4c"
  },
  "kernelspec": {
   "display_name": "Python 3.7.3 64-bit ('venv': venv)",
   "language": "python",
   "name": "python3"
  },
  "language_info": {
   "codemirror_mode": {
    "name": "ipython",
    "version": 3
   },
   "file_extension": ".py",
   "mimetype": "text/x-python",
   "name": "python",
   "nbconvert_exporter": "python",
   "pygments_lexer": "ipython3",
   "version": "3.7.3"
  },
  "orig_nbformat": 4
 },
 "nbformat": 4,
 "nbformat_minor": 2
}
