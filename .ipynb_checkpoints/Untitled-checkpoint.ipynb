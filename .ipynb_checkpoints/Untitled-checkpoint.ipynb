{
 "cells": [
  {
   "cell_type": "code",
   "execution_count": 1,
   "id": "461110a3-18f7-4bcf-be09-e4db3e331599",
   "metadata": {},
   "outputs": [],
   "source": [
    "#Model is something that can build curves, surfaces of evolutions of certain instruments\n",
    "from quant_analytics_torch.instruments import instruments\n",
    "from quant_analytics_torch.marketdata import marketdatarepository\n",
    "import datetime"
   ]
  },
  {
   "cell_type": "code",
   "execution_count": 2,
   "id": "d45cff4b-705e-4eec-9926-f34b1e30bd3a",
   "metadata": {},
   "outputs": [],
   "source": [
    "class ModelComponentBase():\n",
    "    def __init__(self):\n",
    "        super(ModelComponentBase, self).__init__()\n",
    "        self.data = None\n",
    "    \n",
    "    def requiredMarketData():\n",
    "        return None\n",
    "        \n",
    "    def buildCurve(inst : instruments.InstrumentBase):\n",
    "        return None\n"
   ]
  },
  {
   "cell_type": "code",
   "execution_count": 8,
   "id": "c18c2224-8e5e-4193-ae30-b4c7cb3a0790",
   "metadata": {},
   "outputs": [],
   "source": [
    "class ForwardModelComponent(ModelComponentBase):\n",
    "    def __init__(self):\n",
    "        super(ForwardModelComponent, self).__init__()\n",
    "        self.data = None\n",
    "    \n",
    "    def requiredMarketData():\n",
    "        return None\n",
    "        \n",
    "    def buildCurve(self, marketData : marketdatarepository.MarketDataRepository, inst : instruments.InstrumentBase):\n",
    "        idx = { inst.type() : inst.inst.name }\n",
    "        md = marketData[idx]\n",
    "        # Next is to convert dates to time and then return an interpolator\n",
    "        print(md)\n",
    "        return None\n"
   ]
  },
  {
   "cell_type": "code",
   "execution_count": 9,
   "id": "e27bf527-2c9c-4082-9c11-ef511ca97941",
   "metadata": {},
   "outputs": [],
   "source": [
    "marketdatarepository.fillSampleDate(marketdatarepository.marketDataRepositorySingleton)"
   ]
  },
  {
   "cell_type": "code",
   "execution_count": 10,
   "id": "f1264394-9780-4046-a5a1-380039a6f5d2",
   "metadata": {},
   "outputs": [],
   "source": [
    "inst = instruments.Asset(\"SPX\")\n",
    "fwd = instruments.Forward(\"SPX-1\", inst )"
   ]
  },
  {
   "cell_type": "code",
   "execution_count": 11,
   "id": "6533d6d4-bdbf-438d-a3b0-91829b1b2c23",
   "metadata": {},
   "outputs": [],
   "source": [
    "fmc = ForwardModelComponent()"
   ]
  },
  {
   "cell_type": "code",
   "execution_count": 12,
   "id": "b239238d-7dec-48d2-b43e-c561fd57363c",
   "metadata": {},
   "outputs": [
    {
     "name": "stdout",
     "output_type": "stream",
     "text": [
      "{datetime.datetime(2021, 12, 12, 0, 0): {nan: <quant_analytics_torch.marketdata.marketdata.MarketData object at 0x0000020731D47D30>}, datetime.datetime(2022, 12, 12, 0, 0): {nan: <quant_analytics_torch.marketdata.marketdata.MarketData object at 0x0000020731CC3F60>}, datetime.datetime(2023, 12, 12, 0, 0): {nan: <quant_analytics_torch.marketdata.marketdata.MarketData object at 0x0000020731CC3EB8>}}\n"
     ]
    }
   ],
   "source": [
    "fmc.buildCurve(marketdatarepository.marketDataRepositorySingleton, fwd)"
   ]
  },
  {
   "cell_type": "code",
   "execution_count": null,
   "id": "7d8e4279-b45e-4a6a-b54d-c53062a560b9",
   "metadata": {},
   "outputs": [],
   "source": []
  }
 ],
 "metadata": {
  "kernelspec": {
   "display_name": "Python 3",
   "language": "python",
   "name": "python3"
  },
  "language_info": {
   "codemirror_mode": {
    "name": "ipython",
    "version": 3
   },
   "file_extension": ".py",
   "mimetype": "text/x-python",
   "name": "python",
   "nbconvert_exporter": "python",
   "pygments_lexer": "ipython3",
   "version": "3.7.3"
  }
 },
 "nbformat": 4,
 "nbformat_minor": 5
}
